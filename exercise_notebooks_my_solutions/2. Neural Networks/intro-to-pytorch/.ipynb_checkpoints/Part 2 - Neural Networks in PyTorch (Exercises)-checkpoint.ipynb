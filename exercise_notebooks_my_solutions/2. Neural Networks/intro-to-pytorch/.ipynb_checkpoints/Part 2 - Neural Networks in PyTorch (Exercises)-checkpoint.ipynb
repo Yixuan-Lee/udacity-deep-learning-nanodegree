{
 "cells": [
  {
   "cell_type": "markdown",
   "metadata": {},
   "source": [
    "# Neural networks with PyTorch\n",
    "\n",
    "Deep learning networks tend to be massive with dozens or hundreds of layers, that's where the term \"deep\" comes from. You can build one of these deep networks using only weight matrices as we did in the previous notebook, but in general it's very cumbersome and difficult to implement. PyTorch has a nice module `nn` that provides a nice way to efficiently build large neural networks."
   ]
  },
  {
   "cell_type": "code",
   "execution_count": 1,
   "metadata": {},
   "outputs": [],
   "source": [
    "# Import necessary packages\n",
    "\n",
    "%matplotlib inline\n",
    "%config InlineBackend.figure_format = 'retina'\n",
    "\n",
    "import numpy as np\n",
    "import torch\n",
    "\n",
    "import helper\n",
    "\n",
    "import matplotlib.pyplot as plt"
   ]
  },
  {
   "cell_type": "markdown",
   "metadata": {},
   "source": [
    "\n",
    "Now we're going to build a larger network that can solve a (formerly) difficult problem, identifying text in an image. Here we'll use the MNIST dataset which consists of greyscale handwritten digits. Each image is 28x28 pixels, you can see a sample below\n",
    "\n",
    "<img src='assets/mnist.png'>\n",
    "\n",
    "Our goal is to build a neural network that can take one of these images and predict the digit in the image.\n",
    "\n",
    "First up, we need to get our dataset. This is provided through the `torchvision` package. The code below will download the MNIST dataset, then create training and test datasets for us. Don't worry too much about the details here, you'll learn more about this later."
   ]
  },
  {
   "cell_type": "code",
   "execution_count": 2,
   "metadata": {},
   "outputs": [
    {
     "name": "stderr",
     "output_type": "stream",
     "text": [
      "3.2%"
     ]
    },
    {
     "name": "stdout",
     "output_type": "stream",
     "text": [
      "Downloading http://yann.lecun.com/exdb/mnist/train-images-idx3-ubyte.gz to /Users/liyixuan/.pytorch/MNIST_data/MNIST/raw/train-images-idx3-ubyte.gz\n"
     ]
    },
    {
     "name": "stderr",
     "output_type": "stream",
     "text": [
      "100.1%"
     ]
    },
    {
     "name": "stdout",
     "output_type": "stream",
     "text": [
      "Extracting /Users/liyixuan/.pytorch/MNIST_data/MNIST/raw/train-images-idx3-ubyte.gz to /Users/liyixuan/.pytorch/MNIST_data/MNIST/raw\n"
     ]
    },
    {
     "name": "stderr",
     "output_type": "stream",
     "text": [
      "2.5%5%"
     ]
    },
    {
     "name": "stdout",
     "output_type": "stream",
     "text": [
      "Downloading http://yann.lecun.com/exdb/mnist/train-labels-idx1-ubyte.gz to /Users/liyixuan/.pytorch/MNIST_data/MNIST/raw/train-labels-idx1-ubyte.gz\n",
      "Extracting /Users/liyixuan/.pytorch/MNIST_data/MNIST/raw/train-labels-idx1-ubyte.gz to /Users/liyixuan/.pytorch/MNIST_data/MNIST/raw\n",
      "Downloading http://yann.lecun.com/exdb/mnist/t10k-images-idx3-ubyte.gz to /Users/liyixuan/.pytorch/MNIST_data/MNIST/raw/t10k-images-idx3-ubyte.gz\n"
     ]
    },
    {
     "name": "stderr",
     "output_type": "stream",
     "text": [
      "180.4%/Users/distiller/project/conda/conda-bld/pytorch_1587428061935/work/torch/csrc/utils/tensor_numpy.cpp:141: UserWarning: The given NumPy array is not writeable, and PyTorch does not support non-writeable tensors. This means you can write to the underlying (supposedly non-writeable) NumPy array using the tensor. You may want to copy the array to protect its data or make it writeable before converting it to a tensor. This type of warning will be suppressed for the rest of this program.\n"
     ]
    },
    {
     "name": "stdout",
     "output_type": "stream",
     "text": [
      "Extracting /Users/liyixuan/.pytorch/MNIST_data/MNIST/raw/t10k-images-idx3-ubyte.gz to /Users/liyixuan/.pytorch/MNIST_data/MNIST/raw\n",
      "Downloading http://yann.lecun.com/exdb/mnist/t10k-labels-idx1-ubyte.gz to /Users/liyixuan/.pytorch/MNIST_data/MNIST/raw/t10k-labels-idx1-ubyte.gz\n",
      "Extracting /Users/liyixuan/.pytorch/MNIST_data/MNIST/raw/t10k-labels-idx1-ubyte.gz to /Users/liyixuan/.pytorch/MNIST_data/MNIST/raw\n",
      "Processing...\n",
      "Done!\n"
     ]
    }
   ],
   "source": [
    "### Run this cell\n",
    "\n",
    "from torchvision import datasets, transforms\n",
    "\n",
    "# Define a transform to normalize the data\n",
    "transform = transforms.Compose([transforms.ToTensor(),\n",
    "                              transforms.Normalize((0.5,), (0.5,)),\n",
    "                              ])\n",
    "\n",
    "# Download and load the training data\n",
    "trainset = datasets.MNIST('~/.pytorch/MNIST_data/', download=True, train=True, transform=transform)\n",
    "trainloader = torch.utils.data.DataLoader(trainset, batch_size=64, shuffle=True)"
   ]
  },
  {
   "cell_type": "markdown",
   "metadata": {},
   "source": [
    "**Lecture Note:**\n",
    "\n",
    "1. batch_size in ```torch.utils.data.DataLoader``` means every time we get 64 images out from the MNIST data loader.\n"
   ]
  },
  {
   "cell_type": "markdown",
   "metadata": {},
   "source": [
    "We have the training data loaded into `trainloader` and we make that an iterator with `iter(trainloader)`. Later, we'll use this to loop through the dataset for training, like\n",
    "\n",
    "```python\n",
    "for image, label in trainloader:\n",
    "    ## do things with images and labels\n",
    "```\n",
    "\n",
    "You'll notice I created the `trainloader` with a batch size of 64, and `shuffle=True`. The batch size is the number of images we get in one iteration from the data loader and pass through our network, often called a *batch*. And `shuffle=True` tells it to shuffle the dataset every time we start going through the data loader again. But here I'm just grabbing the first batch so we can check out the data. We can see below that `images` is just a tensor with size `(64, 1, 28, 28)`. So, 64 images per batch, 1 color channel, and 28x28 images."
   ]
  },
  {
   "cell_type": "code",
   "execution_count": 3,
   "metadata": {},
   "outputs": [
    {
     "name": "stdout",
     "output_type": "stream",
     "text": [
      "<class 'torch.Tensor'>\n",
      "torch.Size([64, 1, 28, 28])\n",
      "torch.Size([64])\n"
     ]
    }
   ],
   "source": [
    "dataiter = iter(trainloader)\n",
    "images, labels = dataiter.next()\n",
    "print(type(images))\n",
    "print(images.shape)\n",
    "print(labels.shape)"
   ]
  },
  {
   "cell_type": "markdown",
   "metadata": {},
   "source": [
    "This is what one of the images looks like. "
   ]
  },
  {
   "cell_type": "code",
   "execution_count": 4,
   "metadata": {},
   "outputs": [
    {
     "data": {
      "image/png": "[encoded data removed]",
      "text/plain": [
       "<Figure size 432x288 with 1 Axes>"
      ]
     },
     "metadata": {
      "image/png": {
       "height": 248,
       "width": 251
      },
      "needs_background": "light"
     },
     "output_type": "display_data"
    }
   ],
   "source": [
    "plt.imshow(images[1].numpy().squeeze(), cmap='Greys_r');"
   ]
  },
  {
   "cell_type": "markdown",
   "metadata": {},
   "source": [
    "First, let's try to build a simple network for this dataset using weight matrices and matrix multiplications. Then, we'll see how to do it using PyTorch's `nn` module which provides a much more convenient and powerful method for defining network architectures.\n",
    "\n",
    "The networks you've seen so far are called *fully-connected* or *dense* networks. Each unit in one layer is connected to each unit in the next layer. In fully-connected networks, the input to each layer must be a one-dimensional vector (which can be stacked into a 2D tensor as a batch of multiple examples). However, our images are 28x28 2D tensors, so we need to convert them into 1D vectors. Thinking about sizes, we need to convert the batch of images with shape `(64, 1, 28, 28)` to a have a shape of `(64, 784)`, 784 is 28 times 28. This is typically called *flattening*, we flattened the 2D images into 1D vectors.\n",
    "\n",
    "Previously you built a network with one output unit. Here we need 10 output units, one for each digit. We want our network to predict the digit shown in an image, so what we'll do is calculate probabilities that the image is of any one digit or class. This ends up being a discrete probability distribution over the classes (digits) that tells us the most likely class for the image. That means we need 10 output units for the 10 classes (digits). We'll see how to convert the network output into a probability distribution next.\n",
    "\n",
    "> **Exercise:** Flatten the batch of images `images`. Then build a multi-layer network with **784 (28x28) input units, 256 hidden units, and 10 output units** using random tensors for the weights and biases. For now, use a sigmoid activation for the hidden layer. Leave the output layer without an activation, we'll add one that gives us a probability distribution next."
   ]
  },
  {
   "cell_type": "code",
   "execution_count": 17,
   "metadata": {},
   "outputs": [
    {
     "data": {
      "text/plain": [
       "torch.Size([64, 1, 28, 28])"
      ]
     },
     "execution_count": 17,
     "metadata": {},
     "output_type": "execute_result"
    }
   ],
   "source": [
    "images.shape"
   ]
  },
  {
   "cell_type": "code",
   "execution_count": 20,
   "metadata": {},
   "outputs": [
    {
     "name": "stdout",
     "output_type": "stream",
     "text": [
      "torch.Size([64, 10])\n",
      "tensor([[-1.9605e+00,  5.2662e-01, -9.2953e+00,  5.0829e+00,  1.0531e+00,\n",
      "         -2.5972e+01,  1.0710e+00,  5.2223e+00, -9.3063e+00, -9.0065e+00],\n",
      "        [ 1.1211e+01, -1.2473e+00, -9.0675e+00,  9.9090e+00,  8.4379e+00,\n",
      "         -2.6632e+01, -4.8437e+00, -3.8221e+00, -2.3878e+01,  5.8956e-01],\n",
      "        [ 4.2070e+00,  8.8058e+00, -1.3096e+01,  1.3441e+01,  1.0673e+00,\n",
      "         -2.2110e+01, -7.4625e+00, -9.4120e+00, -8.3921e+00,  4.8132e+00],\n",
      "        [-7.7966e-02,  5.4059e+00, -1.7300e+01,  1.1802e+00,  7.5991e+00,\n",
      "         -1.6592e+01, -7.0468e+00, -4.8580e+00, -2.5845e+00,  5.4880e+00],\n",
      "        [-5.7663e-01,  4.6902e+00, -1.7343e+01, -5.4595e-01, -3.9525e+00,\n",
      "         -2.0492e+01, -8.4974e-01, -3.2996e+00, -7.9533e+00, -5.1836e+00],\n",
      "        [ 1.0266e+01, -2.3498e+00, -1.8708e+01,  7.8738e+00,  6.0479e+00,\n",
      "         -1.6259e+01, -7.0839e-01, -2.0468e+00, -1.2178e+01,  4.8502e+00],\n",
      "        [ 6.0114e+00,  4.3175e+00, -2.4005e+01,  4.0051e+00,  5.7909e+00,\n",
      "         -3.1866e+01,  2.4170e+00,  4.7121e+00,  1.6612e+00,  6.2033e+00],\n",
      "        [ 3.4279e+00, -1.2804e+00, -8.5295e+00,  1.0098e+01,  7.3251e+00,\n",
      "         -2.4177e+01,  6.2612e+00,  1.6371e+00, -6.1171e+00, -1.7905e+00],\n",
      "        [ 1.4902e+01,  4.1352e+00, -1.6420e+01,  2.0062e+01,  9.9933e+00,\n",
      "         -3.2573e+01, -2.4028e+00,  3.8332e+00, -1.7539e+01,  2.4803e+00],\n",
      "        [ 8.2395e+00, -4.2210e+00, -1.1747e+01,  2.3754e+00,  1.0909e+01,\n",
      "         -2.4181e+01, -7.0693e+00, -3.3465e+00, -1.1340e+01,  9.3410e+00],\n",
      "        [ 3.5650e+00,  1.1777e+01, -1.8337e+01,  2.8477e+00,  9.1964e-01,\n",
      "         -2.0356e+01, -8.7991e+00, -4.0917e+00, -1.4167e+01,  2.4780e-01],\n",
      "        [ 2.9442e+00,  1.2208e+01, -1.3549e+01,  8.9578e+00,  8.2436e+00,\n",
      "         -2.5083e+01, -3.3075e+00, -8.0917e+00, -4.3099e+00,  1.6480e+01],\n",
      "        [ 8.8730e+00,  8.1683e+00, -9.5237e+00,  4.5490e+00,  7.6682e+00,\n",
      "         -2.4915e+01, -3.4908e+00, -6.0412e+00, -8.9526e+00,  1.3640e+00],\n",
      "        [-1.0534e+01,  8.5394e+00, -1.8020e+01,  1.7375e+01,  4.4274e+00,\n",
      "         -2.2021e+01, -3.2593e+00,  2.4683e+00, -4.8219e+00,  9.4524e+00],\n",
      "        [ 5.6881e+00,  5.9356e+00, -2.2195e+01,  7.8969e+00,  5.4514e+00,\n",
      "         -4.0622e+01, -9.1909e-01, -6.3389e+00, -8.8425e+00, -5.0562e-01],\n",
      "        [ 2.7977e+00,  1.6611e+00, -1.2362e+01,  9.5818e+00,  2.2931e+00,\n",
      "         -2.0350e+01, -4.6466e+00, -3.0636e+00, -4.5601e+00, -5.8427e-01],\n",
      "        [ 1.6372e+01,  3.7880e+00, -2.0871e+01,  6.4544e+00,  6.4031e-01,\n",
      "         -3.0730e+01,  4.1935e+00,  7.1990e-01, -8.2577e+00,  4.7846e+00],\n",
      "        [ 1.3050e+00,  1.5242e+00, -1.0736e+01,  2.8189e+00,  6.0658e+00,\n",
      "         -2.0233e+01,  5.6695e-01,  5.8358e-01, -8.7370e+00,  8.6086e+00],\n",
      "        [-5.7751e-01,  8.1092e+00, -4.8920e+00,  1.3392e+01,  1.4339e+00,\n",
      "         -1.7674e+01, -5.9122e+00,  1.5320e-01, -1.3784e+01,  3.3607e+00],\n",
      "        [ 5.0037e+00,  3.6992e-02, -6.3016e+00,  3.1009e+00,  5.4223e+00,\n",
      "         -2.0536e+01, -5.2416e+00, -3.3568e+00, -5.2956e+00, -2.4182e+00],\n",
      "        [ 4.7728e+00,  9.1168e+00, -2.0536e+01,  3.7087e+00,  4.6373e+00,\n",
      "         -2.3966e+01,  3.1157e-01, -2.0889e+00, -1.0409e+01,  2.8413e-01],\n",
      "        [-5.7036e+00, -2.4483e+00, -1.1640e+01,  3.1434e+00,  1.2053e+01,\n",
      "         -2.1633e+01, -1.6302e+00, -6.2618e-01, -9.7155e+00, -5.7323e+00],\n",
      "        [ 7.0713e+00,  1.6081e+00, -1.4188e+01,  1.2015e+01,  1.2953e+01,\n",
      "         -3.2400e+01, -5.9929e+00, -2.9815e+00, -1.5596e+01,  5.9514e+00],\n",
      "        [-1.2046e-01,  6.1825e+00, -1.9770e+01,  6.8064e+00,  1.3838e+01,\n",
      "         -2.1813e+01, -1.1298e+00, -1.1070e+00, -5.5813e-01,  8.0528e+00],\n",
      "        [-4.6530e+00, -2.3933e+00, -7.5654e+00, -4.4196e+00,  1.0990e+01,\n",
      "         -1.3225e+01,  1.5563e+00,  1.8534e-01,  3.7541e+00, -2.6363e-01],\n",
      "        [ 4.2238e+00,  6.1616e+00, -6.8523e+00,  2.5051e+00,  6.2036e+00,\n",
      "         -2.4473e+01, -6.9767e+00, -1.3459e+01, -1.8775e+01, -1.3007e+00],\n",
      "        [-2.6607e+00,  8.8590e+00,  1.4155e+00,  2.1450e-01,  6.5384e+00,\n",
      "         -3.3266e+01, -1.5535e-01, -4.2471e+00, -6.7456e+00,  3.0593e+00],\n",
      "        [-1.2399e+01,  5.8906e+00, -1.5946e+01,  1.1763e+01,  5.4658e+00,\n",
      "         -3.0631e+01, -4.1813e+00, -6.1465e+00, -9.5064e-01,  1.3914e+01],\n",
      "        [ 5.6814e+00, -4.6048e+00, -7.7686e+00,  5.1651e+00,  3.3423e+00,\n",
      "         -2.8647e+01, -4.1066e+00,  7.0635e+00, -1.5084e+01,  2.4194e+00],\n",
      "        [ 1.5619e+01,  2.6387e+00, -1.7040e+01,  1.2779e+01,  1.6584e+01,\n",
      "         -1.8273e+01, -1.3740e-01,  9.2707e+00, -1.2428e+00,  5.3678e+00],\n",
      "        [-1.0913e+00,  2.7584e-01, -1.1987e+01,  7.9441e+00,  6.5913e+00,\n",
      "         -1.9164e+01, -8.3096e+00,  2.2754e+00, -1.2695e+01, -3.0048e-01],\n",
      "        [ 1.0474e+01,  7.2172e+00, -1.9070e+01,  1.7801e+01, -4.7069e-01,\n",
      "         -2.9603e+01, -3.0183e+00, -3.8120e+00, -1.2072e+01,  9.9543e+00],\n",
      "        [ 7.2192e+00,  4.2273e+00, -2.8345e+01,  5.1773e+00,  4.7211e+00,\n",
      "         -3.1949e+01,  7.5868e+00, -2.4438e+00, -4.7440e+00,  2.5444e+00],\n",
      "        [-5.4732e+00,  5.2386e-01, -1.2610e+01,  8.1595e+00,  4.2452e+00,\n",
      "         -1.8890e+01, -9.8939e+00,  2.0689e+00, -1.6724e+01, -2.0251e-01],\n",
      "        [-6.1123e-01, -1.5096e+00, -8.2415e-01,  1.6353e+00, -2.4455e+00,\n",
      "         -2.9761e+01, -1.4826e+00, -9.0825e+00, -7.5416e+00,  2.9214e+00],\n",
      "        [ 1.5361e+00, -6.0190e+00, -1.2252e+01,  2.4794e+00,  8.8015e+00,\n",
      "         -2.2210e+01, -2.4133e+00,  7.9098e-02, -1.4737e+01,  4.8246e-01],\n",
      "        [-4.1545e-02,  7.8613e+00, -7.5443e+00,  8.9531e+00,  7.3659e+00,\n",
      "         -2.4265e+01, -4.1066e+00, -3.4622e+00, -1.2310e+01, -1.4637e+00],\n",
      "        [ 4.3258e-01,  1.1113e+01, -1.9320e+01,  5.9495e+00,  1.0322e-01,\n",
      "         -2.3806e+01, -5.2737e+00, -1.0528e+00, -5.9458e+00,  2.1932e+00],\n",
      "        [ 1.1002e+01,  3.7528e+00, -9.8517e+00,  5.7048e+00,  7.5510e+00,\n",
      "         -1.6114e+01, -4.1256e+00, -2.9401e-01, -1.3438e+00,  6.8990e+00],\n",
      "        [-8.2425e+00,  1.1259e+01, -1.6395e+01,  9.4337e+00,  1.1926e+00,\n",
      "         -2.3864e+01, -4.9929e+00, -1.5132e-01, -6.8791e+00,  5.7808e+00],\n",
      "        [-1.3796e+00,  2.4594e-01, -8.2487e+00,  5.7713e+00, -5.4309e+00,\n",
      "         -2.9038e+01,  3.4433e+00, -6.5821e+00, -9.2065e+00,  1.0185e+01],\n",
      "        [ 4.5628e+00,  8.8994e+00, -2.3133e+00,  1.3642e+01,  8.9822e+00,\n",
      "         -2.9319e+01,  5.4920e+00,  2.7912e+00, -4.5358e+00,  4.4217e+00],\n",
      "        [ 3.0848e+00, -5.9976e-02, -1.5230e+01, -9.9060e-01,  1.3974e+01,\n",
      "         -2.3920e+01, -8.1934e+00, -2.4284e+00, -9.0189e+00,  3.2042e+00],\n",
      "        [ 7.7630e+00,  5.2975e+00, -1.9097e+01,  1.6858e+01,  1.2952e+01,\n",
      "         -2.8830e+01, -9.5356e-01, -4.0807e+00, -1.0633e+01,  3.1522e-01],\n",
      "        [ 3.0492e+00, -2.1685e+00, -9.2674e+00,  6.0894e-01,  8.4684e+00,\n",
      "         -1.9360e+01, -6.6401e+00, -1.3801e+00, -1.6424e+01, -2.7288e+00],\n",
      "        [ 7.5282e+00,  5.4295e+00, -1.1996e+01,  6.7194e+00,  5.9993e+00,\n",
      "         -2.5571e+01, -5.4263e+00, -1.9802e+00, -1.3526e+01,  8.7344e+00],\n",
      "        [ 2.6553e+00,  1.4898e+01, -4.8879e+00,  1.5830e+01,  8.9892e+00,\n",
      "         -3.2923e+01, -1.1092e+00,  1.5696e+00, -1.0102e+01,  4.6881e+00],\n",
      "        [-8.3235e-01, -3.3850e+00, -9.7282e+00,  4.0048e+00,  2.5836e+00,\n",
      "         -2.4863e+01, -2.3066e-01, -2.5969e+00, -1.4278e+01,  3.5859e+00],\n",
      "        [-5.2768e+00,  7.4846e+00, -7.4362e+00,  4.1808e+00,  7.4922e+00,\n",
      "         -1.4780e+01, -3.6806e+00,  3.9629e+00, -6.5726e+00, -8.3068e+00],\n",
      "        [-5.9421e+00,  5.9639e+00, -9.5813e+00,  1.1428e+01,  1.4078e+00,\n",
      "         -2.5770e+01, -6.9321e-01, -8.4145e+00,  1.2487e+00,  2.6878e+00],\n",
      "        [ 2.3112e+00,  1.1832e+01, -1.3319e+01,  1.2801e+01, -2.1864e+00,\n",
      "         -2.9873e+01, -5.4595e+00,  5.0743e+00, -1.1908e+01,  8.4298e+00],\n",
      "        [ 1.6588e+00,  7.2245e+00, -1.2911e+01,  5.5263e+00,  9.9435e+00,\n",
      "         -2.0499e+01, -8.3039e+00, -6.3472e+00, -1.2043e+01, -9.3430e+00],\n",
      "        [-3.3759e+00, -3.5163e+00,  1.5558e+00,  9.5447e+00,  9.1052e+00,\n",
      "         -1.1864e+01, -1.0143e+01,  3.4377e+00, -1.1907e+01, -1.0691e+01],\n",
      "        [ 7.4954e-02, -1.9580e-01, -1.2629e+01,  4.6593e+00, -2.4582e+00,\n",
      "         -3.1583e+01, -3.3018e+00, -3.4465e+00, -6.8408e+00,  4.9217e-01],\n",
      "        [ 7.3189e+00, -1.2281e+00, -1.4454e+01,  6.4028e+00,  4.6229e+00,\n",
      "         -2.6602e+01, -4.8107e+00, -6.6899e+00, -1.2880e+01, -7.3461e+00],\n",
      "        [ 1.0545e+01, -4.1133e+00, -1.7302e+01,  2.5553e+00,  8.5645e+00,\n",
      "         -2.7282e+01, -9.3494e+00,  1.1461e+01, -1.0745e+00, -5.5427e-01],\n",
      "        [-8.5449e-01, -2.8829e+00, -9.5581e+00,  7.3301e+00,  4.0818e+00,\n",
      "         -2.1460e+01,  2.2185e+00,  3.8520e+00, -8.2601e-01, -1.1672e+01],\n",
      "        [ 5.2275e+00,  1.1261e-01, -1.7170e+01,  9.5213e+00,  5.7257e+00,\n",
      "         -3.2412e+01,  5.3896e+00, -1.0658e+00, -1.2838e+01,  1.0104e+01],\n",
      "        [ 1.1475e+01,  6.1542e+00, -1.4246e+01,  1.3224e+01,  1.2466e+01,\n",
      "         -2.7911e+01, -6.8861e-02, -5.6913e+00, -7.8274e+00,  5.8244e+00],\n",
      "        [-2.5744e+00,  4.1311e+00, -8.4894e+00,  1.3059e+01,  4.9386e+00,\n",
      "         -2.2148e+01, -6.1320e+00, -5.8287e+00, -6.2716e+00,  2.9694e+00],\n",
      "        [ 2.6831e+00,  4.6050e+00, -1.2986e+01,  5.3298e+00,  4.9388e+00,\n",
      "         -2.4333e+01,  5.6416e+00,  4.9540e+00, -5.5047e+00,  5.5595e+00],\n",
      "        [-3.1772e+00, -2.0795e+00, -4.6695e+00,  1.0642e+01,  6.4916e+00,\n",
      "         -2.8424e+01, -6.9965e+00,  1.3487e-01, -2.2638e+00, -2.5514e+00],\n",
      "        [ 4.7605e+00,  6.5707e+00, -1.7839e+00,  5.1920e+00,  7.7484e+00,\n",
      "         -1.8975e+01, -7.4751e+00,  1.6153e+00, -8.3726e+00, -5.9901e-01],\n",
      "        [-2.9329e+00,  7.2207e+00, -1.4042e+01,  6.2814e+00,  3.5969e+00,\n",
      "         -2.4524e+01,  5.4652e+00,  9.3946e-01,  9.6852e-01,  1.1513e+01]])\n"
     ]
    }
   ],
   "source": [
    "## Your solution\n",
    "batch_size = images.shape[0]\n",
    "input_units = 28*28\n",
    "hidden_units = 256\n",
    "output_units = 10\n",
    "layer_0_input = images.view(batch_size, input_units)\n",
    "weights_0_1 = torch.randn(size=(input_units, hidden_units))\n",
    "bias_0_1 = torch.randn(size=(1, hidden_units))\n",
    "weights_1_2 = torch.randn(size=(hidden_units, output_units))\n",
    "bias_1_2 = torch.randn(size=(1, output_units))\n",
    "\n",
    "# layer 1 activation\n",
    "layer_1 = torch.mm(layer_0_input, weights_0_1) + bias_0_1\n",
    "# layer 1 output\n",
    "layer_1_out = torch.sigmoid(layer_1)\n",
    "\n",
    "# layer 2 activation\n",
    "out = torch.mm(layer_1_out, weights_1_2) + bias_1_2 # output of your network, should have shape (64,10)\n",
    "print(out.shape)\n",
    "print(out)"
   ]
  },
  {
   "cell_type": "markdown",
   "metadata": {},
   "source": [
    "**Note:**\n",
    "\n",
    "A normal error is using ```torch.rand()```. It will make each row in ```out``` identical.\n",
    "\n",
    "We should use ```torch.randn()```.\n"
   ]
  },
  {
   "cell_type": "markdown",
   "metadata": {},
   "source": [
    "Now we have 10 outputs for our network. We want to pass in an image to our network and get out a probability distribution over the classes that tells us the likely class(es) the image belongs to. Something that looks like this:\n",
    "<img src='assets/image_distribution.png' width=500px>\n",
    "\n",
    "Here we see that the probability for each class is roughly the same. This is representing an *untrained network*, it hasn't seen any data yet so it just returns a uniform distribution with equal probabilities for each class.\n",
    "\n",
    "To calculate this probability distribution, we often use the [**softmax** function](https://en.wikipedia.org/wiki/Softmax_function). Mathematically this looks like\n",
    "\n",
    "$$\n",
    "\\Large \\sigma(x_i) = \\cfrac{e^{x_i}}{\\sum_k^K{e^{x_k}}}\n",
    "$$\n",
    "\n",
    "What this does is squish each input $x_i$ between 0 and 1 and normalizes the values to give you a proper probability distribution where the probabilites sum up to one.\n",
    "\n",
    "> **Exercise:** Implement a function `softmax` that performs the softmax calculation and returns probability distributions for each example in the batch. Note that you'll need to pay attention to the shapes when doing this. If you have a tensor `a` with shape `(64, 10)` and a tensor `b` with shape `(64,)`, doing `a/b` will give you an error because PyTorch will try to do the division across the columns (called broadcasting) but you'll get a size mismatch. The way to think about this is for each of the 64 examples, you only want to divide by one value, the sum in the denominator. So you need `b` to have a shape of `(64, 1)`. This way PyTorch will divide the 10 values in each row of `a` by the one value in each row of `b`. Pay attention to how you take the sum as well. You'll need to define the `dim` keyword in `torch.sum`. Setting `dim=0` takes the sum across the rows while `dim=1` takes the sum across the columns."
   ]
  },
  {
   "cell_type": "markdown",
   "metadata": {},
   "source": [
    "**Lecture Note:**\n",
    "\n",
    "We want the output neuron gives a probability of 10 classes.\n",
    "\n",
    "In `out`, each row represents a sample's prediction ([1, 10]), so we want to sum across columns in `torch.sum`.\n"
   ]
  },
  {
   "cell_type": "code",
   "execution_count": 24,
   "metadata": {},
   "outputs": [
    {
     "name": "stdout",
     "output_type": "stream",
     "text": [
      "torch.Size([64, 10])\n",
      "tensor([1.0000, 1.0000, 1.0000, 1.0000, 1.0000, 1.0000, 1.0000, 1.0000, 1.0000,\n",
      "        1.0000, 1.0000, 1.0000, 1.0000, 1.0000, 1.0000, 1.0000, 1.0000, 1.0000,\n",
      "        1.0000, 1.0000, 1.0000, 1.0000, 1.0000, 1.0000, 1.0000, 1.0000, 1.0000,\n",
      "        1.0000, 1.0000, 1.0000, 1.0000, 1.0000, 1.0000, 1.0000, 1.0000, 1.0000,\n",
      "        1.0000, 1.0000, 1.0000, 1.0000, 1.0000, 1.0000, 1.0000, 1.0000, 1.0000,\n",
      "        1.0000, 1.0000, 1.0000, 1.0000, 1.0000, 1.0000, 1.0000, 1.0000, 1.0000,\n",
      "        1.0000, 1.0000, 1.0000, 1.0000, 1.0000, 1.0000, 1.0000, 1.0000, 1.0000,\n",
      "        1.0000])\n"
     ]
    }
   ],
   "source": [
    "def softmax(x):\n",
    "    ## TODO: Implement the softmax function here\n",
    "    numerator = torch.exp(x)  # shape of (n_samples, num_nodes)\n",
    "    denominator = torch.sum(torch.exp(x), dim=1)  # shape of (n_samples,)\n",
    "    denominator = denominator.view(-1, 1)   # shape of (n_samples, 1)\n",
    "    return numerator / denominator\n",
    "\n",
    "# Here, out should be the output of the network in the previous excercise with shape (64,10)\n",
    "probabilities = softmax(out)\n",
    "\n",
    "# Does it have the right shape? Should be (64, 10)\n",
    "print(probabilities.shape)\n",
    "# Does it sum to 1?\n",
    "print(probabilities.sum(dim=1))"
   ]
  },
  {
   "cell_type": "markdown",
   "metadata": {},
   "source": [
    "## Building networks with PyTorch\n",
    "\n",
    "PyTorch provides a module `nn` that makes building networks much simpler. Here I'll show you how to build the same one as above with 784 inputs, 256 hidden units, 10 output units and a softmax output."
   ]
  },
  {
   "cell_type": "code",
   "execution_count": 25,
   "metadata": {},
   "outputs": [],
   "source": [
    "from torch import nn"
   ]
  },
  {
   "cell_type": "code",
   "execution_count": 27,
   "metadata": {},
   "outputs": [],
   "source": [
    "class Network(nn.Module):  # Lecture Note: Here we need to inherit nn.Module\n",
    "    def __init__(self):\n",
    "        super().__init__()  # Lecture Note: In constructor, we need to call super().__init__() so that PyTorch knows to register all the layers and operations that are going to be putting into the neural network \n",
    "        \n",
    "        # Inputs to hidden layer linear transformation\n",
    "        self.hidden = nn.Linear(784, 256)  # Lecture Note: By calling nn.Linear, it automatically creates the weights and bias\n",
    "        # Output layer, 10 units - one for each digit\n",
    "        self.output = nn.Linear(256, 10)\n",
    "        \n",
    "        # Define sigmoid activation and softmax output \n",
    "        self.sigmoid = nn.Sigmoid()\n",
    "        self.softmax = nn.Softmax(dim=1)\n",
    "        \n",
    "    def forward(self, x):  # Lecture Note: forward is called as we pass a tensor into the network and returns an output. x is the input tensor.\n",
    "        # Pass the input tensor through each of our operations\n",
    "        x = self.hidden(x)  # Lecture Note: weighted sum (activation) in hidden layer\n",
    "        x = self.sigmoid(x) # Lecture Note: hidden layer output\n",
    "        x = self.output(x)  # Lecture Note: weighted sum in output layer\n",
    "        x = self.softmax(x) # Lecture Note: output layer output\n",
    "        \n",
    "        return x"
   ]
  },
  {
   "cell_type": "markdown",
   "metadata": {},
   "source": [
    "Let's go through this bit by bit.\n",
    "\n",
    "```python\n",
    "class Network(nn.Module):\n",
    "```\n",
    "\n",
    "Here we're **inheriting from `nn.Module`**. Combined with `super().__init__()` this creates a class that tracks the architecture and provides a lot of useful methods and attributes. It is mandatory to inherit from `nn.Module` when you're creating a class for your network. The name of the class itself can be anything.\n",
    "\n",
    "```python\n",
    "self.hidden = nn.Linear(784, 256)\n",
    "```\n",
    "\n",
    "This line creates a module for a linear transformation, $x\\mathbf{W} + b$, with 784 inputs and 256 outputs and assigns it to `self.hidden`. The module automatically creates the weight and bias tensors which we'll use in the `forward` method. You can access the weight and bias tensors once the network (`net`) is created with `net.hidden.weight` and `net.hidden.bias`.\n",
    "\n",
    "```python\n",
    "self.output = nn.Linear(256, 10)\n",
    "```\n",
    "\n",
    "Similarly, this creates another linear transformation with 256 inputs and 10 outputs.\n",
    "\n",
    "```python\n",
    "self.sigmoid = nn.Sigmoid()\n",
    "self.softmax = nn.Softmax(dim=1)\n",
    "```\n",
    "\n",
    "Here I defined operations for the sigmoid activation and softmax output. Setting `dim=1` in `nn.Softmax(dim=1)` calculates softmax across the columns.\n",
    "\n",
    "```python\n",
    "def forward(self, x):\n",
    "```\n",
    "\n",
    "PyTorch networks created with `nn.Module` must have a `forward` method defined. It takes in a tensor `x` and passes it through the operations you defined in the `__init__` method.\n",
    "\n",
    "```python\n",
    "x = self.hidden(x)\n",
    "x = self.sigmoid(x)\n",
    "x = self.output(x)\n",
    "x = self.softmax(x)\n",
    "```\n",
    "\n",
    "Here the input tensor `x` is passed through each operation and reassigned to `x`. We can see that the input tensor goes through the hidden layer, then a sigmoid function, then the output layer, and finally the softmax function. It doesn't matter what you name the variables here, as long as the inputs and outputs of the operations match the network architecture you want to build. The order in which you define things in the `__init__` method doesn't matter, but you'll need to sequence the operations correctly in the `forward` method.\n",
    "\n",
    "Now we can create a `Network` object."
   ]
  },
  {
   "cell_type": "code",
   "execution_count": 29,
   "metadata": {},
   "outputs": [
    {
     "data": {
      "text/plain": [
       "Network(\n",
       "  (hidden): Linear(in_features=784, out_features=256, bias=True)\n",
       "  (output): Linear(in_features=256, out_features=10, bias=True)\n",
       "  (sigmoid): Sigmoid()\n",
       "  (softmax): Softmax(dim=1)\n",
       ")"
      ]
     },
     "execution_count": 29,
     "metadata": {},
     "output_type": "execute_result"
    }
   ],
   "source": [
    "# Create the network and look at it's text representation\n",
    "model = Network()\n",
    "model  # Lecture Note: Tells the operations that have been devined for this network"
   ]
  },
  {
   "cell_type": "markdown",
   "metadata": {},
   "source": [
    "You can define the network somewhat more concisely and clearly using the `torch.nn.functional` module. This is the most common way you'll see networks defined as many operations are simple element-wise functions. We normally import this module as `F`, `import torch.nn.functional as F`."
   ]
  },
  {
   "cell_type": "code",
   "execution_count": 30,
   "metadata": {},
   "outputs": [],
   "source": [
    "import torch.nn.functional as F  # Lecture Note: This is the convention in PyTorch\n",
    "\n",
    "class Network(nn.Module):\n",
    "    def __init__(self):\n",
    "        super().__init__()\n",
    "        # Inputs to hidden layer linear transformation\n",
    "        self.hidden = nn.Linear(784, 256)\n",
    "        # Output layer, 10 units - one for each digit\n",
    "        self.output = nn.Linear(256, 10)\n",
    "        \n",
    "        # Lecture Note:  Note that we didn't define self.sigmoid and self.softmax\n",
    "        \n",
    "    def forward(self, x):\n",
    "        # Hidden layer with sigmoid activation\n",
    "        x = F.sigmoid(self.hidden(x))  # Lecture Note: instead of calling self.sigmoid as above, we call F.sigmoid()\n",
    "        # Output layer with softmax activation\n",
    "        x = F.softmax(self.output(x), dim=1)  # Lecture Note: instead of calling self.softmax as above, we call F.softmax()\n",
    "        \n",
    "        return x"
   ]
  },
  {
   "cell_type": "markdown",
   "metadata": {},
   "source": [
    "**Lecture Note:**\n",
    "\n",
    "If we want our network to be able to learn non-linear correlations and patterns, the activation functions should be non-linear (e.g. softmax, relu, etc. instead of f(x)=2x)\n"
   ]
  },
  {
   "cell_type": "markdown",
   "metadata": {},
   "source": [
    "### Activation functions\n",
    "\n",
    "So far we've only been looking at the sigmoid activation function, but in general any function can be used as an activation function. The only requirement is that for a network to approximate a non-linear function, the activation functions must be non-linear. Here are a few more examples of common activation functions: Tanh (hyperbolic tangent), and ReLU (rectified linear unit).\n",
    "\n",
    "<img src=\"assets/activation.png\" width=700px>\n",
    "\n",
    "In practice, the ReLU function is used almost exclusively as the activation function for hidden layers."
   ]
  },
  {
   "cell_type": "markdown",
   "metadata": {},
   "source": [
    "### Your Turn to Build a Network\n",
    "\n",
    "<img src=\"assets/mlp_mnist.png\" width=600px>\n",
    "\n",
    "> **Exercise:** Create a network with 784 input units, a hidden layer with 128 units and a ReLU activation, then a hidden layer with 64 units and a ReLU activation, and finally an output layer with a softmax activation as shown above. You can use a ReLU activation with the `nn.ReLU` module or `F.relu` function.\n",
    "\n",
    "It's good practice to name your layers by their type of network, for instance 'fc' to represent a fully-connected layer. As you code your solution, use `fc1`, `fc2`, and `fc3` as your layer names."
   ]
  },
  {
   "cell_type": "code",
   "execution_count": 41,
   "metadata": {
    "scrolled": true
   },
   "outputs": [
    {
     "data": {
      "text/plain": [
       "Network(\n",
       "  (fc1): Linear(in_features=784, out_features=128, bias=True)\n",
       "  (fc2): Linear(in_features=128, out_features=64, bias=True)\n",
       "  (fc3): Linear(in_features=64, out_features=10, bias=True)\n",
       ")"
      ]
     },
     "execution_count": 41,
     "metadata": {},
     "output_type": "execute_result"
    }
   ],
   "source": [
    "## Your solution here\n",
    "import torch.nn.functional as F\n",
    "\n",
    "class Network(nn.Module):\n",
    "    def __init__(self):\n",
    "        super().__init__()\n",
    "        \n",
    "        # Inputs to hidden layer 1 linear transformation\n",
    "        self.fc1 = nn.Linear(784, 128)\n",
    "        # Inputs to hidden layer 2 linear transformation\n",
    "        self.fc2 = nn.Linear(128, 64)\n",
    "        # Output layer, 10 units - one for each digit\n",
    "        self.fc3 = nn.Linear(64, 10)\n",
    "    \n",
    "    def forward(self, x):\n",
    "        # Hidden layer 1 with ReLU activation\n",
    "        x = F.relu(self.fc1(x))\n",
    "        # Hidden layer 2 with ReLU activation\n",
    "        x = F.relu(self.fc2(x))\n",
    "        # Output layer with softmax activation\n",
    "        x = F.softmax(self.fc3(x), dim=1)\n",
    "        \n",
    "        return x\n",
    "\n",
    "# Create the Network\n",
    "model = Network()\n",
    "model"
   ]
  },
  {
   "cell_type": "markdown",
   "metadata": {},
   "source": [
    "### Initializing weights and biases\n",
    "\n",
    "The weights and such are automatically initialized for you, but it's possible to customize how they are initialized. The weights and biases are tensors attached to the layer you defined, you can get them with `model.fc1.weight` for instance."
   ]
  },
  {
   "cell_type": "code",
   "execution_count": 42,
   "metadata": {},
   "outputs": [
    {
     "name": "stdout",
     "output_type": "stream",
     "text": [
      "Parameter containing:\n",
      "tensor([[-0.0163, -0.0074, -0.0212,  ..., -0.0099, -0.0064,  0.0246],\n",
      "        [-0.0228, -0.0093, -0.0331,  ..., -0.0127, -0.0090,  0.0205],\n",
      "        [ 0.0193, -0.0105, -0.0064,  ..., -0.0023,  0.0116, -0.0255],\n",
      "        ...,\n",
      "        [ 0.0261, -0.0210,  0.0333,  ...,  0.0196, -0.0102,  0.0229],\n",
      "        [ 0.0010,  0.0341, -0.0115,  ...,  0.0326,  0.0024, -0.0225],\n",
      "        [-0.0149, -0.0257, -0.0034,  ...,  0.0335, -0.0077,  0.0341]],\n",
      "       requires_grad=True)\n",
      "Parameter containing:\n",
      "tensor([-2.5965e-04,  3.4393e-02,  2.5631e-02, -2.0029e-02, -8.2391e-03,\n",
      "         1.4443e-02,  2.2141e-02,  2.1069e-02, -1.0309e-02, -1.2025e-02,\n",
      "        -2.9506e-02,  2.6250e-02,  3.2657e-02, -5.8563e-03,  5.5218e-03,\n",
      "        -1.3629e-02,  3.2826e-02, -1.1661e-02, -1.9609e-02,  2.1267e-02,\n",
      "        -2.9019e-02, -1.0936e-02,  8.9170e-03,  1.4872e-02, -4.2165e-03,\n",
      "         1.1355e-02,  3.0231e-02,  1.1652e-02,  1.7860e-02,  2.0464e-02,\n",
      "         3.3614e-02,  2.2767e-02,  3.1820e-02,  2.2552e-02,  2.4660e-03,\n",
      "         1.8499e-02, -3.4547e-02,  3.5194e-02, -2.9271e-02, -1.7945e-02,\n",
      "         1.9796e-02, -2.4660e-03,  1.3173e-02, -2.6042e-02, -1.5106e-02,\n",
      "         2.4075e-02,  3.5347e-02,  1.3527e-02, -1.8337e-02,  4.0144e-04,\n",
      "         2.8729e-02, -1.6893e-02, -1.3044e-02, -1.6752e-02,  5.9437e-03,\n",
      "        -1.3630e-02,  2.0435e-02,  3.2040e-02, -1.5652e-02,  3.4510e-02,\n",
      "        -1.2205e-02, -2.7072e-02, -9.2827e-03,  2.2941e-02,  1.3463e-02,\n",
      "         1.2950e-03,  7.4736e-03,  3.0257e-03,  2.2689e-02,  2.5995e-02,\n",
      "        -5.1944e-03, -2.7322e-02,  4.8786e-05,  2.9770e-02, -3.0042e-02,\n",
      "         5.0895e-04, -3.1352e-02,  3.4499e-02, -2.1733e-02, -2.4636e-02,\n",
      "        -1.3774e-02,  3.4085e-02,  5.0073e-03, -4.8005e-03, -3.3801e-02,\n",
      "        -2.5440e-03, -2.3448e-02,  1.0249e-02,  3.0730e-02, -1.3339e-02,\n",
      "         2.4404e-02,  3.3824e-02,  2.6414e-02,  1.7851e-02,  3.0667e-02,\n",
      "         2.0859e-02, -3.3795e-02, -3.1894e-02,  3.2018e-02, -6.9572e-03,\n",
      "        -2.9292e-02,  6.7053e-03, -1.4549e-02, -8.4725e-03,  1.5697e-02,\n",
      "         3.1621e-02, -2.6197e-02,  3.1411e-02,  1.2724e-02,  2.9190e-02,\n",
      "        -1.0523e-02, -2.7969e-02, -2.1434e-02,  1.1075e-02,  6.0051e-03,\n",
      "        -1.2630e-02, -9.7809e-03, -1.7394e-02,  2.2994e-02, -2.5457e-02,\n",
      "         4.1508e-04, -6.3674e-03,  2.5346e-02,  1.5309e-02, -1.9027e-02,\n",
      "        -8.4690e-03, -2.9892e-02, -1.2875e-02], requires_grad=True)\n"
     ]
    }
   ],
   "source": [
    "print(model.fc1.weight)\n",
    "print(model.fc1.bias)"
   ]
  },
  {
   "cell_type": "markdown",
   "metadata": {},
   "source": [
    "For custom initialization, we want to modify these tensors in place. These are actually autograd *Variables*, so we need to get back the actual tensors with `model.fc1.weight.data`. Once we have the tensors, we can fill them with zeros (for biases) or random normal values."
   ]
  },
  {
   "cell_type": "code",
   "execution_count": 43,
   "metadata": {},
   "outputs": [
    {
     "data": {
      "text/plain": [
       "tensor([0., 0., 0., 0., 0., 0., 0., 0., 0., 0., 0., 0., 0., 0., 0., 0., 0., 0., 0., 0., 0., 0., 0., 0.,\n",
       "        0., 0., 0., 0., 0., 0., 0., 0., 0., 0., 0., 0., 0., 0., 0., 0., 0., 0., 0., 0., 0., 0., 0., 0.,\n",
       "        0., 0., 0., 0., 0., 0., 0., 0., 0., 0., 0., 0., 0., 0., 0., 0., 0., 0., 0., 0., 0., 0., 0., 0.,\n",
       "        0., 0., 0., 0., 0., 0., 0., 0., 0., 0., 0., 0., 0., 0., 0., 0., 0., 0., 0., 0., 0., 0., 0., 0.,\n",
       "        0., 0., 0., 0., 0., 0., 0., 0., 0., 0., 0., 0., 0., 0., 0., 0., 0., 0., 0., 0., 0., 0., 0., 0.,\n",
       "        0., 0., 0., 0., 0., 0., 0., 0.])"
      ]
     },
     "execution_count": 43,
     "metadata": {},
     "output_type": "execute_result"
    }
   ],
   "source": [
    "# Set biases to all zeros\n",
    "model.fc1.bias.data.fill_(0)"
   ]
  },
  {
   "cell_type": "code",
   "execution_count": 44,
   "metadata": {},
   "outputs": [
    {
     "data": {
      "text/plain": [
       "tensor([[-0.0087,  0.0083,  0.0011,  ...,  0.0120, -0.0042, -0.0007],\n",
       "        [-0.0029, -0.0132,  0.0235,  ...,  0.0111, -0.0187,  0.0032],\n",
       "        [-0.0114,  0.0092,  0.0108,  ...,  0.0107,  0.0118, -0.0071],\n",
       "        ...,\n",
       "        [-0.0037, -0.0028, -0.0143,  ..., -0.0208,  0.0029, -0.0019],\n",
       "        [ 0.0064, -0.0079,  0.0121,  ..., -0.0054,  0.0075,  0.0061],\n",
       "        [ 0.0183,  0.0058, -0.0083,  ..., -0.0056, -0.0067, -0.0015]])"
      ]
     },
     "execution_count": 44,
     "metadata": {},
     "output_type": "execute_result"
    }
   ],
   "source": [
    "# sample from random normal with standard dev = 0.01\n",
    "model.fc1.weight.data.normal_(std=0.01)"
   ]
  },
  {
   "cell_type": "markdown",
   "metadata": {},
   "source": [
    "### Forward pass\n",
    "\n",
    "Now that we have a network, let's see what happens when we pass in an image."
   ]
  },
  {
   "cell_type": "code",
   "execution_count": 49,
   "metadata": {},
   "outputs": [
    {
     "data": {
      "image/png": "[encoded data removed]",
      "text/plain": [
       "<Figure size 432x648 with 2 Axes>"
      ]
     },
     "metadata": {
      "image/png": {
       "height": 235,
       "width": 424
      },
      "needs_background": "light"
     },
     "output_type": "display_data"
    }
   ],
   "source": [
    "# Grab some data \n",
    "dataiter = iter(trainloader)\n",
    "images, labels = dataiter.next()\n",
    "\n",
    "# Resize images into a 1D vector, new shape is (batch size, color channels, image pixels) \n",
    "images.resize_(64, 1, 784)\n",
    "# or images.resize_(images.shape[0], 1, 784) to automatically get batch size\n",
    "\n",
    "# Forward pass through the network\n",
    "img_idx = 0\n",
    "ps = model.forward(images[img_idx,:])\n",
    "\n",
    "img = images[img_idx]\n",
    "helper.view_classify(img.view(1, 28, 28), ps)"
   ]
  },
  {
   "cell_type": "markdown",
   "metadata": {},
   "source": [
    "As you can see above, our network has basically no idea what this digit is. It's because we haven't trained it yet, all the weights are random!\n",
    "\n",
    "### Using `nn.Sequential`\n",
    "\n",
    "PyTorch provides a convenient way to build networks like this where a tensor is passed sequentially through operations, `nn.Sequential` ([documentation](https://pytorch.org/docs/master/nn.html#torch.nn.Sequential)). Using this to build the equivalent network:"
   ]
  },
  {
   "cell_type": "code",
   "execution_count": 50,
   "metadata": {},
   "outputs": [
    {
     "name": "stdout",
     "output_type": "stream",
     "text": [
      "Sequential(\n",
      "  (0): Linear(in_features=784, out_features=128, bias=True)\n",
      "  (1): ReLU()\n",
      "  (2): Linear(in_features=128, out_features=64, bias=True)\n",
      "  (3): ReLU()\n",
      "  (4): Linear(in_features=64, out_features=10, bias=True)\n",
      "  (5): Softmax(dim=1)\n",
      ")\n"
     ]
    },
    {
     "data": {
      "image/png": "[encoded data removed]",
      "text/plain": [
       "<Figure size 432x648 with 2 Axes>"
      ]
     },
     "metadata": {
      "image/png": {
       "height": 235,
       "width": 424
      },
      "needs_background": "light"
     },
     "output_type": "display_data"
    }
   ],
   "source": [
    "# Hyperparameters for our network\n",
    "input_size = 784\n",
    "hidden_sizes = [128, 64]\n",
    "output_size = 10\n",
    "\n",
    "# Build a feed-forward network\n",
    "model = nn.Sequential(nn.Linear(input_size, hidden_sizes[0]),\n",
    "                      nn.ReLU(),\n",
    "                      nn.Linear(hidden_sizes[0], hidden_sizes[1]),\n",
    "                      nn.ReLU(),\n",
    "                      nn.Linear(hidden_sizes[1], output_size),\n",
    "                      nn.Softmax(dim=1))\n",
    "print(model)\n",
    "\n",
    "# Forward pass through the network and display output\n",
    "images, labels = next(iter(trainloader))\n",
    "images.resize_(images.shape[0], 1, 784)\n",
    "ps = model.forward(images[0,:])\n",
    "helper.view_classify(images[0].view(1, 28, 28), ps)"
   ]
  },
  {
   "cell_type": "markdown",
   "metadata": {},
   "source": [
    "Here our model is the same as before: 784 input units, a hidden layer with 128 units, ReLU activation, 64 unit hidden layer, another ReLU, then the output layer with 10 units, and the softmax output.\n",
    "\n",
    "The operations are available by passing in the appropriate index. For example, if you want to get first Linear operation and look at the weights, you'd use `model[0]`."
   ]
  },
  {
   "cell_type": "code",
   "execution_count": 52,
   "metadata": {},
   "outputs": [
    {
     "name": "stdout",
     "output_type": "stream",
     "text": [
      "Linear(in_features=784, out_features=128, bias=True)\n"
     ]
    },
    {
     "data": {
      "text/plain": [
       "Parameter containing:\n",
       "tensor([[ 0.0218, -0.0232,  0.0230,  ...,  0.0100, -0.0247,  0.0112],\n",
       "        [-0.0160, -0.0340,  0.0283,  ...,  0.0134,  0.0092,  0.0204],\n",
       "        [-0.0240, -0.0331,  0.0200,  ..., -0.0138,  0.0297, -0.0070],\n",
       "        ...,\n",
       "        [ 0.0195,  0.0049, -0.0332,  ..., -0.0141,  0.0350, -0.0353],\n",
       "        [-0.0300, -0.0136, -0.0282,  ..., -0.0183, -0.0001,  0.0182],\n",
       "        [-0.0103, -0.0290, -0.0075,  ...,  0.0309,  0.0107,  0.0129]],\n",
       "       requires_grad=True)"
      ]
     },
     "execution_count": 52,
     "metadata": {},
     "output_type": "execute_result"
    }
   ],
   "source": [
    "print(model[0])\n",
    "model[0].weight"
   ]
  },
  {
   "cell_type": "markdown",
   "metadata": {},
   "source": [
    "You can also pass in an `OrderedDict` to name the individual layers and operations, instead of using incremental integers. Note that dictionary keys must be unique, so _each operation must have a different name_."
   ]
  },
  {
   "cell_type": "code",
   "execution_count": 53,
   "metadata": {},
   "outputs": [
    {
     "data": {
      "text/plain": [
       "Sequential(\n",
       "  (fc1): Linear(in_features=784, out_features=128, bias=True)\n",
       "  (relu1): ReLU()\n",
       "  (fc2): Linear(in_features=128, out_features=64, bias=True)\n",
       "  (relu2): ReLU()\n",
       "  (output): Linear(in_features=64, out_features=10, bias=True)\n",
       "  (softmax): Softmax(dim=1)\n",
       ")"
      ]
     },
     "execution_count": 53,
     "metadata": {},
     "output_type": "execute_result"
    }
   ],
   "source": [
    "from collections import OrderedDict\n",
    "model = nn.Sequential(OrderedDict([\n",
    "                      ('fc1', nn.Linear(input_size, hidden_sizes[0])),\n",
    "                      ('relu1', nn.ReLU()),\n",
    "                      ('fc2', nn.Linear(hidden_sizes[0], hidden_sizes[1])),\n",
    "                      ('relu2', nn.ReLU()),\n",
    "                      ('output', nn.Linear(hidden_sizes[1], output_size)),\n",
    "                      ('softmax', nn.Softmax(dim=1))]))\n",
    "model"
   ]
  },
  {
   "cell_type": "markdown",
   "metadata": {},
   "source": [
    "Now you can access layers either by integer or the name"
   ]
  },
  {
   "cell_type": "code",
   "execution_count": 54,
   "metadata": {},
   "outputs": [
    {
     "name": "stdout",
     "output_type": "stream",
     "text": [
      "Linear(in_features=784, out_features=128, bias=True)\n",
      "Linear(in_features=784, out_features=128, bias=True)\n"
     ]
    }
   ],
   "source": [
    "print(model[0])\n",
    "print(model.fc1)"
   ]
  },
  {
   "cell_type": "markdown",
   "metadata": {},
   "source": [
    "In the next notebook, we'll see how we can train a neural network to accuractly predict the numbers appearing in the MNIST images."
   ]
  }
 ],
 "metadata": {
  "kernelspec": {
   "display_name": "Python 3",
   "language": "python",
   "name": "python3"
  },
  "language_info": {
   "codemirror_mode": {
    "name": "ipython",
    "version": 3
   },
   "file_extension": ".py",
   "mimetype": "text/x-python",
   "name": "python",
   "nbconvert_exporter": "python",
   "pygments_lexer": "ipython3",
   "version": "3.7.7"
  }
 },
 "nbformat": 4,
 "nbformat_minor": 2
}
