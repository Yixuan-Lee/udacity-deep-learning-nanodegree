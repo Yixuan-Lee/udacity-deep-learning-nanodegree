{
 "cells": [
  {
   "cell_type": "markdown",
   "metadata": {},
   "source": [
    "# Character-Level LSTM in PyTorch\n",
    "\n",
    "In this notebook, I'll construct a character-level LSTM with PyTorch. The network will train character by character on some text, then generate new text character by character. As an example, I will train on Anna Karenina. **This model will be able to generate new text based on the text from the book!**\n",
    "\n",
    "This network is based off of Andrej Karpathy's [post on RNNs](http://karpathy.github.io/2015/05/21/rnn-effectiveness/) and [implementation in Torch](https://github.com/karpathy/char-rnn). Below is the general architecture of the character-wise RNN.\n",
    "\n",
    "<img src=\"assets/charseq.jpeg\" width=\"500\">"
   ]
  },
  {
   "cell_type": "markdown",
   "metadata": {},
   "source": [
    "First let's load in our required resources for data loading and model creation."
   ]
  },
  {
   "cell_type": "code",
   "execution_count": 1,
   "metadata": {},
   "outputs": [],
   "source": [
    "import numpy as np\n",
    "import torch\n",
    "from torch import nn\n",
    "import torch.nn.functional as F"
   ]
  },
  {
   "cell_type": "markdown",
   "metadata": {},
   "source": [
    "## Load in Data\n",
    "\n",
    "Then, we'll load the Anna Karenina text file and convert it into integers for our network to use. "
   ]
  },
  {
   "cell_type": "code",
   "execution_count": 2,
   "metadata": {},
   "outputs": [],
   "source": [
    "# open text file and read in data as `text`\n",
    "with open('data/anna.txt', 'r') as f:\n",
    "    text = f.read()"
   ]
  },
  {
   "cell_type": "markdown",
   "metadata": {},
   "source": [
    "Let's check out the first 100 characters, make sure everything is peachy. According to the [American Book Review](http://americanbookreview.org/100bestlines.asp), this is the 6th best first line of a book ever."
   ]
  },
  {
   "cell_type": "code",
   "execution_count": 3,
   "metadata": {},
   "outputs": [
    {
     "data": {
      "text/plain": [
       "'Chapter 1\\n\\n\\nHappy families are all alike; every unhappy family is unhappy in its own\\nway.\\n\\nEverythin'"
      ]
     },
     "execution_count": 3,
     "metadata": {},
     "output_type": "execute_result"
    }
   ],
   "source": [
    "text[:100]"
   ]
  },
  {
   "cell_type": "markdown",
   "metadata": {},
   "source": [
    "### Tokenization\n",
    "\n",
    "In the cells, below, I'm creating a couple **dictionaries** to convert the characters to and from integers. Encoding the characters as integers makes it easier to use as input in the network."
   ]
  },
  {
   "cell_type": "code",
   "execution_count": 4,
   "metadata": {},
   "outputs": [],
   "source": [
    "# encode the text and map each character to an integer and vice versa\n",
    "\n",
    "# we create two dictionaries:\n",
    "# 1. int2char, which maps integers to characters\n",
    "# 2. char2int, which maps characters to unique integers\n",
    "chars = tuple(set(text))\n",
    "int2char = dict(enumerate(chars))\n",
    "char2int = {ch: ii for ii, ch in int2char.items()}\n",
    "\n",
    "# encode the text\n",
    "encoded = np.array([char2int[ch] for ch in text])"
   ]
  },
  {
   "cell_type": "markdown",
   "metadata": {},
   "source": [
    "And we can see those same characters from above, encoded as integers."
   ]
  },
  {
   "cell_type": "code",
   "execution_count": 5,
   "metadata": {},
   "outputs": [
    {
     "data": {
      "text/plain": [
       "array([51, 24, 37, 81, 67, 43,  1, 58, 77, 80, 80, 80, 72, 37, 81, 81, 46,\n",
       "       58, 59, 37, 27, 55,  9, 55, 43, 33, 58, 37,  1, 43, 58, 37,  9,  9,\n",
       "       58, 37,  9, 55, 63, 43, 13, 58, 43, 44, 43,  1, 46, 58, 65, 68, 24,\n",
       "       37, 81, 81, 46, 58, 59, 37, 27, 55,  9, 46, 58, 55, 33, 58, 65, 68,\n",
       "       24, 37, 81, 81, 46, 58, 55, 68, 58, 55, 67, 33, 58, 14, 82, 68, 80,\n",
       "       82, 37, 46, 16, 80, 80, 34, 44, 43,  1, 46, 67, 24, 55, 68])"
      ]
     },
     "execution_count": 5,
     "metadata": {},
     "output_type": "execute_result"
    }
   ],
   "source": [
    "encoded[:100]"
   ]
  },
  {
   "cell_type": "markdown",
   "metadata": {},
   "source": [
    "## Pre-processing the data\n",
    "\n",
    "As you can see in our char-RNN image above, our LSTM expects an input that is **one-hot encoded** meaning that each character is converted into an integer (via our created dictionary) and *then* converted into a column vector where only it's corresponding integer index will have the value of 1 and the rest of the vector will be filled with 0's. Since we're one-hot encoding the data, let's make a function to do that!\n"
   ]
  },
  {
   "cell_type": "code",
   "execution_count": 6,
   "metadata": {},
   "outputs": [],
   "source": [
    "def one_hot_encode(arr, n_labels):\n",
    "    \n",
    "    # Initialize the the encoded array\n",
    "    one_hot = np.zeros((np.multiply(*arr.shape), n_labels), dtype=np.float32)\n",
    "    \n",
    "    # Fill the appropriate elements with ones\n",
    "    one_hot[np.arange(one_hot.shape[0]), arr.flatten()] = 1.\n",
    "    \n",
    "    # Finally reshape it to get back to the original array\n",
    "    one_hot = one_hot.reshape((*arr.shape, n_labels))\n",
    "    \n",
    "    return one_hot"
   ]
  },
  {
   "cell_type": "code",
   "execution_count": 7,
   "metadata": {},
   "outputs": [
    {
     "name": "stdout",
     "output_type": "stream",
     "text": [
      "[[[ 0.  0.  0.  1.  0.  0.  0.  0.]\n",
      "  [ 0.  0.  0.  0.  0.  1.  0.  0.]\n",
      "  [ 0.  1.  0.  0.  0.  0.  0.  0.]]]\n"
     ]
    }
   ],
   "source": [
    "# check that the function works as expected\n",
    "test_seq = np.array([[3, 5, 1]])\n",
    "one_hot = one_hot_encode(test_seq, 8)\n",
    "\n",
    "print(one_hot)"
   ]
  },
  {
   "cell_type": "markdown",
   "metadata": {},
   "source": [
    "## Making training mini-batches\n",
    "\n",
    "\n",
    "To train on this data, we also want to create mini-batches for training. Remember that we want our batches to be multiple sequences of some desired number of sequence steps. Considering a simple example, our batches would look like this:\n",
    "\n",
    "<img src=\"assets/sequence_batching@1x.png\" width=500px>\n",
    "\n",
    "\n",
    "<br>\n",
    "\n",
    "In this example, we'll take the encoded characters (passed in as the `arr` parameter) and split them into multiple sequences, given by `batch_size`. Each of our sequences will be `seq_length` long.\n",
    "\n",
    "### Creating Batches\n",
    "\n",
    "**1. The first thing we need to do is discard some of the text so we only have completely full mini-batches. **\n",
    "\n",
    "Each batch contains $N \\times M$ characters, where $N$ is the batch size (the number of sequences in a batch) and $M$ is the seq_length or number of time steps in a sequence. Then, to get the total number of batches, $K$, that we can make from the array `arr`, you divide the length of `arr` by the number of characters per batch. Once you know the number of batches, you can get the total number of characters to keep from `arr`, $N * M * K$.\n",
    "\n",
    "**2. After that, we need to split `arr` into $N$ batches. ** \n",
    "\n",
    "You can do this using `arr.reshape(size)` where `size` is a tuple containing the dimensions sizes of the reshaped array. We know we want $N$ sequences in a batch, so let's make that the size of the first dimension. For the second dimension, you can use `-1` as a placeholder in the size, it'll fill up the array with the appropriate data for you. After this, you should have an array that is $N \\times (M * K)$.\n",
    "\n",
    "**3. Now that we have this array, we can iterate through it to get our mini-batches. **\n",
    "\n",
    "The idea is each batch is a $N \\times M$ window on the $N \\times (M * K)$ array. For each subsequent batch, the window moves over by `seq_length`. We also want to create both the input and target arrays. Remember that the targets are just the inputs shifted over by one character. The way I like to do this window is use `range` to take steps of size `n_steps` from $0$ to `arr.shape[1]`, the total number of tokens in each sequence. That way, the integers you get from `range` always point to the start of a batch, and each window is `seq_length` wide.\n",
    "\n",
    "> **TODO:** Write the code for creating batches in the function below. The exercises in this notebook _will not be easy_. I've provided a notebook with solutions alongside this notebook. If you get stuck, checkout the solutions. The most important thing is that you don't copy and paste the code into here, **type out the solution code yourself.**"
   ]
  },
  {
   "cell_type": "code",
   "execution_count": 8,
   "metadata": {},
   "outputs": [],
   "source": [
    "def get_batches(arr, batch_size, seq_length):\n",
    "    '''Create a generator that returns batches of size\n",
    "       batch_size x seq_length from arr.\n",
    "       \n",
    "       Arguments\n",
    "       ---------\n",
    "       arr: Array you want to make batches from\n",
    "       batch_size: Batch size, the number of sequences per batch\n",
    "       seq_length: Number of encoded chars in a sequence\n",
    "    '''\n",
    "    \n",
    "    ## TODO: Get the number of batches we can make\n",
    "    num_of_chars_per_batch = batch_size * seq_length  # N x M\n",
    "    n_batches = int(len(arr) / num_of_chars_per_batch)  # K\n",
    "    \n",
    "    ## TODO: Keep only enough characters to make full batches\n",
    "    arr = arr[:(n_batches*num_of_chars_per_batch)]\n",
    "    \n",
    "    ## TODO: Reshape into batch_size rows\n",
    "    arr = arr.reshape((batch_size, seq_length * n_batches))\n",
    "    \n",
    "    ## TODO: Iterate over the batches using a window of size seq_length\n",
    "    for n in range(0, arr.shape[1], seq_length):  # arr.shape[1] -> M*K; step_size = M\n",
    "        # The features\n",
    "        x = arr[:, n:n+seq_length]\n",
    "        # The targets, shifted by one\n",
    "#         y = arr[:, n+1:n+seq_length+1]  # may index out of bound\n",
    "        y = np.zeros_like(x)\n",
    "        try:\n",
    "            y[:, :-1], y[:, -1] = x[:, 1:], arr[:, n+seq_length]\n",
    "        except IndexError:\n",
    "            y[:, :-1], y[:, -1] = x[:, 1:], arr[:, 0]  # if out of bound, the make the target of last element to be the first element's target arr[:,0]\n",
    "        yield x, y"
   ]
  },
  {
   "cell_type": "markdown",
   "metadata": {},
   "source": [
    "### Test Your Implementation\n",
    "\n",
    "Now I'll make some data sets and we can check out what's going on as we batch data. Here, as an example, I'm going to use a batch size of 8 and 50 sequence steps."
   ]
  },
  {
   "cell_type": "code",
   "execution_count": 9,
   "metadata": {},
   "outputs": [],
   "source": [
    "batches = get_batches(encoded, 8, 50)\n",
    "x, y = next(batches)"
   ]
  },
  {
   "cell_type": "code",
   "execution_count": 10,
   "metadata": {},
   "outputs": [
    {
     "name": "stdout",
     "output_type": "stream",
     "text": [
      "x\n",
      " [[51 24 37 81 67 43  1 58 77 80]\n",
      " [33 14 68 58 67 24 37 67 58 37]\n",
      " [43 68  5 58 14  1 58 37 58 59]\n",
      " [33 58 67 24 43 58 35 24 55 43]\n",
      " [58 33 37 82 58 24 43  1 58 67]\n",
      " [35 65 33 33 55 14 68 58 37 68]\n",
      " [58 45 68 68 37 58 24 37  5 58]\n",
      " [62  3  9 14 68 33 63 46 16 58]]\n",
      "\n",
      "y\n",
      " [[24 37 81 67 43  1 58 77 80 80]\n",
      " [14 68 58 67 24 37 67 58 37 67]\n",
      " [68  5 58 14  1 58 37 58 59 14]\n",
      " [58 67 24 43 58 35 24 55 43 59]\n",
      " [33 37 82 58 24 43  1 58 67 43]\n",
      " [65 33 33 55 14 68 58 37 68  5]\n",
      " [45 68 68 37 58 24 37  5 58 33]\n",
      " [ 3  9 14 68 33 63 46 16 58 25]]\n"
     ]
    }
   ],
   "source": [
    "# printing out the first 10 items in a sequence\n",
    "print('x\\n', x[:10, :10])\n",
    "print('\\ny\\n', y[:10, :10])"
   ]
  },
  {
   "cell_type": "markdown",
   "metadata": {},
   "source": [
    "If you implemented `get_batches` correctly, the above output should look something like \n",
    "```\n",
    "x\n",
    " [[25  8 60 11 45 27 28 73  1  2]\n",
    " [17  7 20 73 45  8 60 45 73 60]\n",
    " [27 20 80 73  7 28 73 60 73 65]\n",
    " [17 73 45  8 27 73 66  8 46 27]\n",
    " [73 17 60 12 73  8 27 28 73 45]\n",
    " [66 64 17 17 46  7 20 73 60 20]\n",
    " [73 76 20 20 60 73  8 60 80 73]\n",
    " [47 35 43  7 20 17 24 50 37 73]]\n",
    "\n",
    "y\n",
    " [[ 8 60 11 45 27 28 73  1  2  2]\n",
    " [ 7 20 73 45  8 60 45 73 60 45]\n",
    " [20 80 73  7 28 73 60 73 65  7]\n",
    " [73 45  8 27 73 66  8 46 27 65]\n",
    " [17 60 12 73  8 27 28 73 45 27]\n",
    " [64 17 17 46  7 20 73 60 20 80]\n",
    " [76 20 20 60 73  8 60 80 73 17]\n",
    " [35 43  7 20 17 24 50 37 73 36]]\n",
    " ```\n",
    " although the exact numbers may be different. Check to make sure the data is shifted over one step for `y`."
   ]
  },
  {
   "cell_type": "markdown",
   "metadata": {},
   "source": [
    "---\n",
    "## Defining the network with PyTorch\n",
    "\n",
    "Below is where you'll define the network.\n",
    "\n",
    "<img src=\"assets/charRNN.png\" width=500px>\n",
    "\n",
    "Next, you'll use PyTorch to define the architecture of the network. We start by defining the layers and operations we want. Then, define a method for the forward pass. You've also been given a method for predicting characters."
   ]
  },
  {
   "cell_type": "markdown",
   "metadata": {},
   "source": [
    "### Model Structure\n",
    "\n",
    "In `__init__` the suggested structure is as follows:\n",
    "* Create and store the necessary dictionaries (this has been done for you)\n",
    "* Define an LSTM layer that takes as params: an input size (the number of characters), a hidden layer size `n_hidden`, a number of layers `n_layers`, a dropout probability `drop_prob`, and a batch_first boolean (True, since we are batching)\n",
    "* Define a dropout layer with `dropout_prob`\n",
    "* Define a fully-connected layer with params: input size `n_hidden` and output size (the number of characters)\n",
    "* Finally, initialize the weights (again, this has been given)\n",
    "\n",
    "Note that some parameters have been named and given in the `__init__` function, and we use them and store them by doing something like `self.drop_prob = drop_prob`."
   ]
  },
  {
   "cell_type": "markdown",
   "metadata": {},
   "source": [
    "---\n",
    "### LSTM Inputs/Outputs\n",
    "\n",
    "You can create a basic [LSTM layer](https://pytorch.org/docs/stable/nn.html#lstm) as follows\n",
    "\n",
    "```python\n",
    "self.lstm = nn.LSTM(input_size, n_hidden, n_layers, \n",
    "                            dropout=drop_prob, batch_first=True)\n",
    "```\n",
    "\n",
    "where `input_size` is the number of characters this cell expects to see as sequential input, and `n_hidden` is the number of units in the hidden layers in the cell. And we can add dropout by adding a dropout parameter with a specified probability; this will automatically add dropout to the inputs or outputs. Finally, in the `forward` function, we can stack up the LSTM cells into layers using `.view`. With this, you pass in a list of cells and it will send the output of one cell into the next cell.\n",
    "\n",
    "We also need to create an initial hidden state of all zeros. This is done like so\n",
    "\n",
    "```python\n",
    "self.init_hidden()\n",
    "```"
   ]
  },
  {
   "cell_type": "code",
   "execution_count": 11,
   "metadata": {},
   "outputs": [
    {
     "name": "stdout",
     "output_type": "stream",
     "text": [
      "Training on GPU!\n"
     ]
    }
   ],
   "source": [
    "# check if GPU is available\n",
    "train_on_gpu = torch.cuda.is_available()\n",
    "if(train_on_gpu):\n",
    "    print('Training on GPU!')\n",
    "else: \n",
    "    print('No GPU available, training on CPU; consider making n_epochs very small.')"
   ]
  },
  {
   "cell_type": "code",
   "execution_count": 16,
   "metadata": {},
   "outputs": [],
   "source": [
    "class CharRNN(nn.Module):\n",
    "    \n",
    "    def __init__(self, tokens, n_hidden=256, n_layers=2,\n",
    "                               drop_prob=0.5, lr=0.001):\n",
    "        super().__init__()\n",
    "        self.drop_prob = drop_prob\n",
    "        self.n_layers = n_layers\n",
    "        self.n_hidden = n_hidden\n",
    "        self.lr = lr\n",
    "        \n",
    "        # creating character dictionaries\n",
    "        self.chars = tokens\n",
    "        self.int2char = dict(enumerate(self.chars))\n",
    "        self.char2int = {ch: ii for ii, ch in self.int2char.items()}\n",
    "        \n",
    "        ## TODO: define the layers of the model\n",
    "        self.lstm = nn.LSTM(len(self.chars), n_hidden, n_layers, dropout=drop_prob, batch_first=True)\n",
    "        self.dropout = nn.Dropout(drop_prob)\n",
    "        self.fc = nn.Linear(n_hidden, len(self.chars))\n",
    "    \n",
    "    def forward(self, x, hidden):\n",
    "        ''' Forward pass through the network. \n",
    "            These inputs are x, and the hidden/cell state `hidden`. '''\n",
    "                \n",
    "        ## TODO: Get the outputs and the new hidden state from the lstm\n",
    "        output, new_hidden = self.lstm(x, hidden)\n",
    "        # pass the output through dropout layer\n",
    "        output = self.dropout(output)\n",
    "        # make sure the last dim is n_hidden\n",
    "        output = output.contiguous().view(-1, self.n_hidden)  # If you are stacking up multiple LSTM outputs, it may be necessary to use .contiguous() to reshape the output.\n",
    "        # pass out to fc layer\n",
    "        out = self.fc(output)\n",
    "        \n",
    "        # return the final output and the hidden state\n",
    "        return out, hidden\n",
    "    \n",
    "    \n",
    "    def init_hidden(self, batch_size):\n",
    "        ''' Initializes hidden state '''\n",
    "        # Create two new tensors with sizes n_layers x batch_size x n_hidden,\n",
    "        # initialized to zero, for hidden state and cell state of LSTM\n",
    "        weight = next(self.parameters()).data\n",
    "        \n",
    "        if (train_on_gpu):\n",
    "            hidden = (weight.new(self.n_layers, batch_size, self.n_hidden).zero_().cuda(),\n",
    "                  weight.new(self.n_layers, batch_size, self.n_hidden).zero_().cuda())\n",
    "        else:\n",
    "            hidden = (weight.new(self.n_layers, batch_size, self.n_hidden).zero_(),\n",
    "                      weight.new(self.n_layers, batch_size, self.n_hidden).zero_())\n",
    "        \n",
    "        return hidden\n",
    "        "
   ]
  },
  {
   "cell_type": "markdown",
   "metadata": {},
   "source": [
    "## Time to train\n",
    "\n",
    "The train function gives us the ability to set the number of epochs, the learning rate, and other parameters.\n",
    "\n",
    "Below we're using an Adam optimizer and cross entropy loss since we are looking at character class scores as output. We calculate the loss and perform backpropagation, as usual!\n",
    "\n",
    "A couple of details about training: \n",
    ">* Within the batch loop, we detach the hidden state from its history; this time setting it equal to a new *tuple* variable because an LSTM has a hidden state that is a tuple of the hidden and cell states.\n",
    "* We use [`clip_grad_norm_`](https://pytorch.org/docs/stable/_modules/torch/nn/utils/clip_grad.html) to help prevent exploding gradients."
   ]
  },
  {
   "cell_type": "code",
   "execution_count": 17,
   "metadata": {},
   "outputs": [],
   "source": [
    "def train(net, data, epochs=10, batch_size=10, seq_length=50, lr=0.001, clip=5, val_frac=0.1, print_every=10):\n",
    "    ''' Training a network \n",
    "    \n",
    "        Arguments\n",
    "        ---------\n",
    "        \n",
    "        net: CharRNN network\n",
    "        data: text data to train the network\n",
    "        epochs: Number of epochs to train\n",
    "        batch_size: Number of mini-sequences per mini-batch, aka batch size\n",
    "        seq_length: Number of character steps per mini-batch\n",
    "        lr: learning rate\n",
    "        clip: gradient clipping\n",
    "        val_frac: Fraction of data to hold out for validation\n",
    "        print_every: Number of steps for printing training and validation loss\n",
    "    \n",
    "    '''\n",
    "    net.train()\n",
    "    \n",
    "    opt = torch.optim.Adam(net.parameters(), lr=lr)\n",
    "    criterion = nn.CrossEntropyLoss()\n",
    "    \n",
    "    # create training and validation data\n",
    "    val_idx = int(len(data)*(1-val_frac))\n",
    "    data, val_data = data[:val_idx], data[val_idx:]\n",
    "    \n",
    "    if(train_on_gpu):\n",
    "        net.cuda()\n",
    "    \n",
    "    counter = 0\n",
    "    n_chars = len(net.chars)\n",
    "    for e in range(epochs):\n",
    "        # initialize hidden state\n",
    "        h = net.init_hidden(batch_size)\n",
    "        \n",
    "        for x, y in get_batches(data, batch_size, seq_length):\n",
    "            counter += 1\n",
    "            \n",
    "            # One-hot encode our data and make them Torch tensors\n",
    "            x = one_hot_encode(x, n_chars)\n",
    "            inputs, targets = torch.from_numpy(x), torch.from_numpy(y)\n",
    "            \n",
    "            if(train_on_gpu):\n",
    "                inputs, targets = inputs.cuda(), targets.cuda()\n",
    "\n",
    "            # Creating new variables for the hidden state, otherwise\n",
    "            # we'd backprop through the entire training history\n",
    "            h = tuple([each.data for each in h])\n",
    "\n",
    "            # zero accumulated gradients\n",
    "            net.zero_grad()\n",
    "            \n",
    "            # get the output from the model\n",
    "            output, h = net(inputs, h)\n",
    "            \n",
    "            # calculate the loss and perform backprop\n",
    "            loss = criterion(output, targets.view(batch_size*seq_length))\n",
    "            loss.backward()\n",
    "            # `clip_grad_norm` helps prevent the exploding gradient problem in RNNs / LSTMs.\n",
    "            nn.utils.clip_grad_norm_(net.parameters(), clip)\n",
    "            opt.step()\n",
    "            \n",
    "            # loss stats\n",
    "            if counter % print_every == 0:\n",
    "                # Get validation loss\n",
    "                val_h = net.init_hidden(batch_size)\n",
    "                val_losses = []\n",
    "                net.eval()\n",
    "                for x, y in get_batches(val_data, batch_size, seq_length):\n",
    "                    # One-hot encode our data and make them Torch tensors\n",
    "                    x = one_hot_encode(x, n_chars)\n",
    "                    x, y = torch.from_numpy(x), torch.from_numpy(y)\n",
    "                    \n",
    "                    # Creating new variables for the hidden state, otherwise\n",
    "                    # we'd backprop through the entire training history\n",
    "                    val_h = tuple([each.data for each in val_h])\n",
    "                    \n",
    "                    inputs, targets = x, y\n",
    "                    if(train_on_gpu):\n",
    "                        inputs, targets = inputs.cuda(), targets.cuda()\n",
    "\n",
    "                    output, val_h = net(inputs, val_h)\n",
    "                    val_loss = criterion(output, targets.view(batch_size*seq_length))\n",
    "                \n",
    "                    val_losses.append(val_loss.item())\n",
    "                \n",
    "                net.train() # reset to train mode after iterationg through validation data\n",
    "                \n",
    "                print(\"Epoch: {}/{}...\".format(e+1, epochs),\n",
    "                      \"Step: {}...\".format(counter),\n",
    "                      \"Loss: {:.4f}...\".format(loss.item()),\n",
    "                      \"Val Loss: {:.4f}\".format(np.mean(val_losses)))"
   ]
  },
  {
   "cell_type": "markdown",
   "metadata": {},
   "source": [
    "## Instantiating the model\n",
    "\n",
    "Now we can actually train the network. First we'll create the network itself, with some given hyperparameters. Then, define the mini-batches sizes, and start training!"
   ]
  },
  {
   "cell_type": "code",
   "execution_count": 18,
   "metadata": {},
   "outputs": [
    {
     "name": "stdout",
     "output_type": "stream",
     "text": [
      "CharRNN(\n",
      "  (lstm): LSTM(83, 512, num_layers=2, batch_first=True, dropout=0.5)\n",
      "  (dropout): Dropout(p=0.5)\n",
      "  (fc): Linear(in_features=512, out_features=83, bias=True)\n",
      ")\n"
     ]
    }
   ],
   "source": [
    "## TODO: set you model hyperparameters\n",
    "# define and print the net\n",
    "n_hidden=512\n",
    "n_layers=2\n",
    "\n",
    "net = CharRNN(chars, n_hidden, n_layers)\n",
    "print(net)"
   ]
  },
  {
   "cell_type": "markdown",
   "metadata": {},
   "source": [
    "### Set your training hyperparameters!"
   ]
  },
  {
   "cell_type": "code",
   "execution_count": 19,
   "metadata": {
    "scrolled": true
   },
   "outputs": [
    {
     "name": "stdout",
     "output_type": "stream",
     "text": [
      "Epoch: 1/10... Step: 10... Loss: 3.2885... Val Loss: 3.2230\n",
      "Epoch: 1/10... Step: 20... Loss: 3.1643... Val Loss: 3.1492\n",
      "Epoch: 1/10... Step: 30... Loss: 3.1585... Val Loss: 3.1371\n",
      "Epoch: 1/10... Step: 40... Loss: 3.1218... Val Loss: 3.1328\n",
      "Epoch: 1/10... Step: 50... Loss: 3.1546... Val Loss: 3.1290\n",
      "Epoch: 1/10... Step: 60... Loss: 3.1255... Val Loss: 3.1252\n",
      "Epoch: 1/10... Step: 70... Loss: 3.1101... Val Loss: 3.1197\n",
      "Epoch: 1/10... Step: 80... Loss: 3.1211... Val Loss: 3.1088\n",
      "Epoch: 1/10... Step: 90... Loss: 3.1072... Val Loss: 3.0847\n",
      "Epoch: 1/10... Step: 100... Loss: 3.0494... Val Loss: 3.0291\n",
      "Epoch: 1/10... Step: 110... Loss: 2.9863... Val Loss: 2.9370\n",
      "Epoch: 1/10... Step: 120... Loss: 2.8336... Val Loss: 2.8223\n",
      "Epoch: 1/10... Step: 130... Loss: 2.7571... Val Loss: 2.7166\n",
      "Epoch: 2/10... Step: 140... Loss: 2.6424... Val Loss: 2.6174\n",
      "Epoch: 2/10... Step: 150... Loss: 2.6080... Val Loss: 2.5452\n",
      "Epoch: 2/10... Step: 160... Loss: 2.5434... Val Loss: 2.4976\n",
      "Epoch: 2/10... Step: 170... Loss: 2.4791... Val Loss: 2.4575\n",
      "Epoch: 2/10... Step: 180... Loss: 2.4467... Val Loss: 2.4279\n",
      "Epoch: 2/10... Step: 190... Loss: 2.4005... Val Loss: 2.3944\n",
      "Epoch: 2/10... Step: 200... Loss: 2.3959... Val Loss: 2.3743\n",
      "Epoch: 2/10... Step: 210... Loss: 2.3628... Val Loss: 2.3464\n",
      "Epoch: 2/10... Step: 220... Loss: 2.3274... Val Loss: 2.3101\n",
      "Epoch: 2/10... Step: 230... Loss: 2.3180... Val Loss: 2.2830\n",
      "Epoch: 2/10... Step: 240... Loss: 2.3006... Val Loss: 2.2603\n",
      "Epoch: 2/10... Step: 250... Loss: 2.2324... Val Loss: 2.2362\n",
      "Epoch: 2/10... Step: 260... Loss: 2.2039... Val Loss: 2.2131\n",
      "Epoch: 2/10... Step: 270... Loss: 2.2274... Val Loss: 2.1949\n",
      "Epoch: 3/10... Step: 280... Loss: 2.2217... Val Loss: 2.1714\n",
      "Epoch: 3/10... Step: 290... Loss: 2.1881... Val Loss: 2.1490\n",
      "Epoch: 3/10... Step: 300... Loss: 2.1658... Val Loss: 2.1334\n",
      "Epoch: 3/10... Step: 310... Loss: 2.1396... Val Loss: 2.1128\n",
      "Epoch: 3/10... Step: 320... Loss: 2.1114... Val Loss: 2.0947\n",
      "Epoch: 3/10... Step: 330... Loss: 2.0856... Val Loss: 2.0809\n",
      "Epoch: 3/10... Step: 340... Loss: 2.0988... Val Loss: 2.0655\n",
      "Epoch: 3/10... Step: 350... Loss: 2.0830... Val Loss: 2.0441\n",
      "Epoch: 3/10... Step: 360... Loss: 2.0219... Val Loss: 2.0284\n",
      "Epoch: 3/10... Step: 370... Loss: 2.0446... Val Loss: 2.0122\n",
      "Epoch: 3/10... Step: 380... Loss: 2.0244... Val Loss: 1.9995\n",
      "Epoch: 3/10... Step: 390... Loss: 1.9961... Val Loss: 1.9856\n",
      "Epoch: 3/10... Step: 400... Loss: 1.9732... Val Loss: 1.9700\n",
      "Epoch: 3/10... Step: 410... Loss: 1.9913... Val Loss: 1.9571\n",
      "Epoch: 4/10... Step: 420... Loss: 1.9715... Val Loss: 1.9423\n",
      "Epoch: 4/10... Step: 430... Loss: 1.9587... Val Loss: 1.9324\n",
      "Epoch: 4/10... Step: 440... Loss: 1.9500... Val Loss: 1.9185\n",
      "Epoch: 4/10... Step: 450... Loss: 1.8885... Val Loss: 1.9082\n",
      "Epoch: 4/10... Step: 460... Loss: 1.8883... Val Loss: 1.8968\n",
      "Epoch: 4/10... Step: 470... Loss: 1.9192... Val Loss: 1.8867\n",
      "Epoch: 4/10... Step: 480... Loss: 1.8961... Val Loss: 1.8737\n",
      "Epoch: 4/10... Step: 490... Loss: 1.8964... Val Loss: 1.8619\n",
      "Epoch: 4/10... Step: 500... Loss: 1.8970... Val Loss: 1.8493\n",
      "Epoch: 4/10... Step: 510... Loss: 1.8669... Val Loss: 1.8424\n",
      "Epoch: 4/10... Step: 520... Loss: 1.8773... Val Loss: 1.8294\n",
      "Epoch: 4/10... Step: 530... Loss: 1.8437... Val Loss: 1.8204\n",
      "Epoch: 4/10... Step: 540... Loss: 1.8084... Val Loss: 1.8118\n",
      "Epoch: 4/10... Step: 550... Loss: 1.8493... Val Loss: 1.8023\n",
      "Epoch: 5/10... Step: 560... Loss: 1.8098... Val Loss: 1.7956\n",
      "Epoch: 5/10... Step: 570... Loss: 1.8054... Val Loss: 1.7797\n",
      "Epoch: 5/10... Step: 580... Loss: 1.7816... Val Loss: 1.7729\n",
      "Epoch: 5/10... Step: 590... Loss: 1.7879... Val Loss: 1.7667\n",
      "Epoch: 5/10... Step: 600... Loss: 1.7748... Val Loss: 1.7575\n",
      "Epoch: 5/10... Step: 610... Loss: 1.7465... Val Loss: 1.7513\n",
      "Epoch: 5/10... Step: 620... Loss: 1.7579... Val Loss: 1.7424\n",
      "Epoch: 5/10... Step: 630... Loss: 1.7760... Val Loss: 1.7340\n",
      "Epoch: 5/10... Step: 640... Loss: 1.7471... Val Loss: 1.7256\n",
      "Epoch: 5/10... Step: 650... Loss: 1.7306... Val Loss: 1.7190\n",
      "Epoch: 5/10... Step: 660... Loss: 1.7021... Val Loss: 1.7141\n",
      "Epoch: 5/10... Step: 670... Loss: 1.7321... Val Loss: 1.7088\n",
      "Epoch: 5/10... Step: 680... Loss: 1.7241... Val Loss: 1.7011\n",
      "Epoch: 5/10... Step: 690... Loss: 1.7079... Val Loss: 1.6948\n",
      "Epoch: 6/10... Step: 700... Loss: 1.7081... Val Loss: 1.6892\n",
      "Epoch: 6/10... Step: 710... Loss: 1.6914... Val Loss: 1.6789\n",
      "Epoch: 6/10... Step: 720... Loss: 1.6835... Val Loss: 1.6747\n",
      "Epoch: 6/10... Step: 730... Loss: 1.6934... Val Loss: 1.6654\n",
      "Epoch: 6/10... Step: 740... Loss: 1.6649... Val Loss: 1.6651\n",
      "Epoch: 6/10... Step: 750... Loss: 1.6400... Val Loss: 1.6574\n",
      "Epoch: 6/10... Step: 760... Loss: 1.6843... Val Loss: 1.6520\n",
      "Epoch: 6/10... Step: 770... Loss: 1.6655... Val Loss: 1.6487\n",
      "Epoch: 6/10... Step: 780... Loss: 1.6537... Val Loss: 1.6423\n",
      "Epoch: 6/10... Step: 790... Loss: 1.6356... Val Loss: 1.6370\n",
      "Epoch: 6/10... Step: 800... Loss: 1.6537... Val Loss: 1.6322\n",
      "Epoch: 6/10... Step: 810... Loss: 1.6271... Val Loss: 1.6301\n",
      "Epoch: 6/10... Step: 820... Loss: 1.6000... Val Loss: 1.6219\n",
      "Epoch: 6/10... Step: 830... Loss: 1.6419... Val Loss: 1.6190\n",
      "Epoch: 7/10... Step: 840... Loss: 1.5983... Val Loss: 1.6128\n",
      "Epoch: 7/10... Step: 850... Loss: 1.6193... Val Loss: 1.6058\n",
      "Epoch: 7/10... Step: 860... Loss: 1.5958... Val Loss: 1.6026\n",
      "Epoch: 7/10... Step: 870... Loss: 1.6048... Val Loss: 1.5959\n",
      "Epoch: 7/10... Step: 880... Loss: 1.6173... Val Loss: 1.5945\n",
      "Epoch: 7/10... Step: 890... Loss: 1.5966... Val Loss: 1.5885\n",
      "Epoch: 7/10... Step: 900... Loss: 1.5927... Val Loss: 1.5877\n",
      "Epoch: 7/10... Step: 910... Loss: 1.5650... Val Loss: 1.5833\n",
      "Epoch: 7/10... Step: 920... Loss: 1.5759... Val Loss: 1.5772\n",
      "Epoch: 7/10... Step: 930... Loss: 1.5791... Val Loss: 1.5770\n",
      "Epoch: 7/10... Step: 940... Loss: 1.5720... Val Loss: 1.5728\n",
      "Epoch: 7/10... Step: 950... Loss: 1.5755... Val Loss: 1.5646\n",
      "Epoch: 7/10... Step: 960... Loss: 1.5877... Val Loss: 1.5622\n",
      "Epoch: 7/10... Step: 970... Loss: 1.5893... Val Loss: 1.5603\n",
      "Epoch: 8/10... Step: 980... Loss: 1.5611... Val Loss: 1.5591\n",
      "Epoch: 8/10... Step: 990... Loss: 1.5581... Val Loss: 1.5512\n",
      "Epoch: 8/10... Step: 1000... Loss: 1.5499... Val Loss: 1.5463\n",
      "Epoch: 8/10... Step: 1010... Loss: 1.5879... Val Loss: 1.5441\n",
      "Epoch: 8/10... Step: 1020... Loss: 1.5556... Val Loss: 1.5410\n",
      "Epoch: 8/10... Step: 1030... Loss: 1.5394... Val Loss: 1.5391\n",
      "Epoch: 8/10... Step: 1040... Loss: 1.5461... Val Loss: 1.5383\n",
      "Epoch: 8/10... Step: 1050... Loss: 1.5281... Val Loss: 1.5351\n",
      "Epoch: 8/10... Step: 1060... Loss: 1.5302... Val Loss: 1.5299\n",
      "Epoch: 8/10... Step: 1070... Loss: 1.5441... Val Loss: 1.5283\n",
      "Epoch: 8/10... Step: 1080... Loss: 1.5288... Val Loss: 1.5245\n",
      "Epoch: 8/10... Step: 1090... Loss: 1.5170... Val Loss: 1.5200\n",
      "Epoch: 8/10... Step: 1100... Loss: 1.5084... Val Loss: 1.5173\n",
      "Epoch: 8/10... Step: 1110... Loss: 1.5083... Val Loss: 1.5156\n",
      "Epoch: 9/10... Step: 1120... Loss: 1.5206... Val Loss: 1.5135\n",
      "Epoch: 9/10... Step: 1130... Loss: 1.5187... Val Loss: 1.5104\n",
      "Epoch: 9/10... Step: 1140... Loss: 1.5215... Val Loss: 1.5041\n",
      "Epoch: 9/10... Step: 1150... Loss: 1.5323... Val Loss: 1.5053\n",
      "Epoch: 9/10... Step: 1160... Loss: 1.4923... Val Loss: 1.5037\n",
      "Epoch: 9/10... Step: 1170... Loss: 1.5037... Val Loss: 1.4988\n",
      "Epoch: 9/10... Step: 1180... Loss: 1.4922... Val Loss: 1.4999\n",
      "Epoch: 9/10... Step: 1190... Loss: 1.5300... Val Loss: 1.4964\n",
      "Epoch: 9/10... Step: 1200... Loss: 1.4772... Val Loss: 1.4917\n",
      "Epoch: 9/10... Step: 1210... Loss: 1.4852... Val Loss: 1.4890\n",
      "Epoch: 9/10... Step: 1220... Loss: 1.4767... Val Loss: 1.4887\n",
      "Epoch: 9/10... Step: 1230... Loss: 1.4625... Val Loss: 1.4821\n",
      "Epoch: 9/10... Step: 1240... Loss: 1.4727... Val Loss: 1.4805\n",
      "Epoch: 9/10... Step: 1250... Loss: 1.4826... Val Loss: 1.4784\n",
      "Epoch: 10/10... Step: 1260... Loss: 1.4786... Val Loss: 1.4796\n",
      "Epoch: 10/10... Step: 1270... Loss: 1.4762... Val Loss: 1.4749\n",
      "Epoch: 10/10... Step: 1280... Loss: 1.4872... Val Loss: 1.4698\n",
      "Epoch: 10/10... Step: 1290... Loss: 1.4735... Val Loss: 1.4718\n",
      "Epoch: 10/10... Step: 1300... Loss: 1.4599... Val Loss: 1.4705\n",
      "Epoch: 10/10... Step: 1310... Loss: 1.4698... Val Loss: 1.4642\n",
      "Epoch: 10/10... Step: 1320... Loss: 1.4573... Val Loss: 1.4659\n",
      "Epoch: 10/10... Step: 1330... Loss: 1.4424... Val Loss: 1.4644\n",
      "Epoch: 10/10... Step: 1340... Loss: 1.4399... Val Loss: 1.4596\n"
     ]
    },
    {
     "name": "stdout",
     "output_type": "stream",
     "text": [
      "Epoch: 10/10... Step: 1350... Loss: 1.4362... Val Loss: 1.4585\n",
      "Epoch: 10/10... Step: 1360... Loss: 1.4404... Val Loss: 1.4593\n",
      "Epoch: 10/10... Step: 1370... Loss: 1.4353... Val Loss: 1.4539\n",
      "Epoch: 10/10... Step: 1380... Loss: 1.4658... Val Loss: 1.4522\n",
      "Epoch: 10/10... Step: 1390... Loss: 1.4798... Val Loss: 1.4500\n"
     ]
    }
   ],
   "source": [
    "batch_size = 128\n",
    "seq_length = 100\n",
    "n_epochs = 10 # start small if you are just testing initial behavior\n",
    "\n",
    "# train the model\n",
    "train(net, encoded, epochs=n_epochs, batch_size=batch_size, seq_length=seq_length, lr=0.001, print_every=10)"
   ]
  },
  {
   "cell_type": "markdown",
   "metadata": {},
   "source": [
    "## Getting the best model\n",
    "\n",
    "To set your hyperparameters to get the best performance, you'll want to watch the training and validation losses. If your training loss is much lower than the validation loss, you're overfitting. Increase regularization (more dropout) or use a smaller network. If the training and validation losses are close, you're underfitting so you can increase the size of the network."
   ]
  },
  {
   "cell_type": "markdown",
   "metadata": {},
   "source": [
    "## Hyperparameters\n",
    "\n",
    "Here are the hyperparameters for the network.\n",
    "\n",
    "In defining the model:\n",
    "* `n_hidden` - The number of units in the hidden layers.\n",
    "* `n_layers` - Number of hidden LSTM layers to use.\n",
    "\n",
    "We assume that dropout probability and learning rate will be kept at the default, in this example.\n",
    "\n",
    "And in training:\n",
    "* `batch_size` - Number of sequences running through the network in one pass.\n",
    "* `seq_length` - Number of characters in the sequence the network is trained on. Larger is better typically, the network will learn more long range dependencies. But it takes longer to train. 100 is typically a good number here.\n",
    "* `lr` - Learning rate for training\n",
    "\n",
    "Here's some good advice from Andrej Karpathy on training the network. I'm going to copy it in here for your benefit, but also link to [where it originally came from](https://github.com/karpathy/char-rnn#tips-and-tricks).\n",
    "\n",
    "> ## Tips and Tricks\n",
    "\n",
    ">### Monitoring Validation Loss vs. Training Loss\n",
    ">If you're somewhat new to Machine Learning or Neural Networks it can take a bit of expertise to get good models. The most important quantity to keep track of is the difference between your training loss (printed during training) and the validation loss (printed once in a while when the RNN is run on the validation data (by default every 1000 iterations)). In particular:\n",
    "\n",
    "> - If your training loss is much lower than validation loss then this means the network might be **overfitting**. Solutions to this are to decrease your network size, or to increase dropout. For example you could try dropout of 0.5 and so on.\n",
    "> - If your training/validation loss are about equal then your model is **underfitting**. Increase the size of your model (either number of layers or the raw number of neurons per layer)\n",
    "\n",
    "> ### Approximate number of parameters\n",
    "\n",
    "> The two most important parameters that control the model are `n_hidden` and `n_layers`. I would advise that you always use `n_layers` of either 2/3. The `n_hidden` can be adjusted based on how much data you have. The two important quantities to keep track of here are:\n",
    "\n",
    "> - The number of parameters in your model. This is printed when you start training.\n",
    "> - The size of your dataset. 1MB file is approximately 1 million characters.\n",
    "\n",
    ">These two should be about the same order of magnitude. It's a little tricky to tell. Here are some examples:\n",
    "\n",
    "> - I have a 100MB dataset and I'm using the default parameter settings (which currently print 150K parameters). My data size is significantly larger (100 mil >> 0.15 mil), so I expect to heavily underfit. I am thinking I can comfortably afford to make `n_hidden` larger.\n",
    "> - I have a 10MB dataset and running a 10 million parameter model. I'm slightly nervous and I'm carefully monitoring my validation loss. If it's larger than my training loss then I may want to try to increase dropout a bit and see if that helps the validation loss.\n",
    "\n",
    "> ### Best models strategy\n",
    "\n",
    ">The winning strategy to obtaining very good models (if you have the compute time) is to always err on making the network larger (as large as you're willing to wait for it to compute) and then try different dropout values (between 0,1). Whatever model has the best validation performance (the loss, written in the checkpoint filename, low is good) is the one you should use in the end.\n",
    "\n",
    ">It is very common in deep learning to run many different models with many different hyperparameter settings, and in the end take whatever checkpoint gave the best validation performance.\n",
    "\n",
    ">By the way, the size of your training and validation splits are also parameters. Make sure you have a decent amount of data in your validation set or otherwise the validation performance will be noisy and not very informative."
   ]
  },
  {
   "cell_type": "markdown",
   "metadata": {},
   "source": [
    "## Checkpoint\n",
    "\n",
    "After training, we'll save the model so we can load it again later if we need too. Here I'm saving the parameters needed to create the same architecture, the hidden layer hyperparameters and the text characters."
   ]
  },
  {
   "cell_type": "code",
   "execution_count": 20,
   "metadata": {},
   "outputs": [],
   "source": [
    "# change the name, for saving multiple files\n",
    "model_name = 'rnn_x_epoch.net'\n",
    "\n",
    "checkpoint = {'n_hidden': net.n_hidden,\n",
    "              'n_layers': net.n_layers,\n",
    "              'state_dict': net.state_dict(),\n",
    "              'tokens': net.chars}\n",
    "\n",
    "with open(model_name, 'wb') as f:\n",
    "    torch.save(checkpoint, f)"
   ]
  },
  {
   "cell_type": "markdown",
   "metadata": {},
   "source": [
    "---\n",
    "## Making Predictions\n",
    "\n",
    "Now that the model is trained, we'll want to sample from it and make predictions about next characters! To sample, we pass in a character and have the network predict the next character. Then we take that character, pass it back in, and get another predicted character. Just keep doing this and you'll generate a bunch of text!\n",
    "\n",
    "### A note on the `predict`  function\n",
    "\n",
    "The output of our RNN is from a fully-connected layer and it outputs a **distribution of next-character scores**.\n",
    "\n",
    "> To actually get the next character, we apply a softmax function, which gives us a *probability* distribution that we can then sample to predict the next character.\n",
    "\n",
    "### Top K sampling\n",
    "\n",
    "Our predictions come from a categorical probability distribution over all the possible characters. We can make the sample text and make it more reasonable to handle (with less variables) by only considering some $K$ most probable characters. This will prevent the network from giving us completely absurd characters while allowing it to introduce some noise and randomness into the sampled text. Read more about [topk, here](https://pytorch.org/docs/stable/torch.html#torch.topk).\n"
   ]
  },
  {
   "cell_type": "code",
   "execution_count": 21,
   "metadata": {},
   "outputs": [],
   "source": [
    "def predict(net, char, h=None, top_k=None):\n",
    "        ''' Given a character, predict the next character.\n",
    "            Returns the predicted character and the hidden state.\n",
    "        '''\n",
    "        \n",
    "        # tensor inputs\n",
    "        x = np.array([[net.char2int[char]]])\n",
    "        x = one_hot_encode(x, len(net.chars))\n",
    "        inputs = torch.from_numpy(x)\n",
    "        \n",
    "        if(train_on_gpu):\n",
    "            inputs = inputs.cuda()\n",
    "        \n",
    "        # detach hidden state from history\n",
    "        h = tuple([each.data for each in h])\n",
    "        # get the output of the model\n",
    "        out, h = net(inputs, h)  # output, new_hidden_state\n",
    "\n",
    "        # get the character probabilities\n",
    "        p = F.softmax(out, dim=1).data  # p is the probability of all the possible mixed characters given the input character x\n",
    "        if(train_on_gpu):\n",
    "            p = p.cpu() # move to cpu\n",
    "        \n",
    "        # get top characters\n",
    "        if top_k is None:\n",
    "            top_ch = np.arange(len(net.chars))\n",
    "        else:\n",
    "            p, top_ch = p.topk(top_k)  # top_k sampling\n",
    "            top_ch = top_ch.numpy().squeeze()\n",
    "        \n",
    "        # select the likely next character with some element of randomness\n",
    "        p = p.numpy().squeeze()\n",
    "        char = np.random.choice(top_ch, p=p/p.sum())\n",
    "        \n",
    "        # return the encoded value of the predicted char and the hidden state\n",
    "        return net.int2char[char], h"
   ]
  },
  {
   "cell_type": "markdown",
   "metadata": {},
   "source": [
    "### Priming and generating text \n",
    "\n",
    "Typically you'll want to prime the network so you can build up a hidden state. Otherwise the network will start out generating characters at random. In general the first bunch of characters will be a little rough since it hasn't built up a long history of characters to predict from."
   ]
  },
  {
   "cell_type": "code",
   "execution_count": 22,
   "metadata": {},
   "outputs": [],
   "source": [
    "def sample(net, size, prime='The', top_k=None):\n",
    "    \"\"\"\n",
    "    net: our trained model\n",
    "    size: size of new text that we want to generate\n",
    "    prime: set of characters that we want to start with\n",
    "    top_k: return k most probable characters in predict functio\n",
    "    \"\"\"\n",
    "        \n",
    "    if(train_on_gpu):\n",
    "        net.cuda()\n",
    "    else:\n",
    "        net.cpu()\n",
    "    \n",
    "    net.eval() # eval mode\n",
    "    \n",
    "    # First off, run through the prime characters\n",
    "    chars = [ch for ch in prime]\n",
    "    h = net.init_hidden(1)  # set batch_size to 1\n",
    "    for ch in prime:\n",
    "        char, h = predict(net, ch, h, top_k=top_k)\n",
    "\n",
    "    chars.append(char)  # append the next most probable character\n",
    "    \n",
    "    # Now pass in the previous character and get a new one\n",
    "    for ii in range(size):\n",
    "        char, h = predict(net, chars[-1], h, top_k=top_k)  # next_character, hidden_state\n",
    "        chars.append(char)  # append the next character\n",
    "\n",
    "    return ''.join(chars)  # join all characters together"
   ]
  },
  {
   "cell_type": "code",
   "execution_count": 28,
   "metadata": {},
   "outputs": [
    {
     "name": "stdout",
     "output_type": "stream",
     "text": [
      "Annalingin the oules arof an ated, h t hange t se tinthes to s sed sint t a the athend se he hale ted there tofore s then arous s hereshe h shath s s horo hest o a s hered sengounte to tin ary ara tharoure o toungoust thale t stery ond h he s tes on thith thed\n",
      "an ted the ha s t at hes hin aren orenged\n",
      "tithiton ary oro s oned anen t t oustory athes t ato h ong ane te arared, sth hile tharofineroure tintin an hinere he histonedery ane atoran th oned at athesere he sthe t onth st s on he tes an s h stingh thinghes thed\n",
      "s sthesed oungis hisherin tinerinere arangh t a th hinesthed tory sithed shend of the t h at h tendith storofon oulofond tidengisis on shere o shin tid a ton oun s t thitheded atonerenged\n",
      "ted\n",
      "the hinthedindede arestinerendenede sed\n",
      "te thito thint alorarengoro an toused s shofin one t anghery, hend h thenthed than ofon thed thingin tistin an arily h and ange haroridis t arary halitesthingingoren t the ha on he t hidid aron he t the t toulon sered ont athede t t the anderen h arin\n"
     ]
    }
   ],
   "source": [
    "print(sample(net, 1000, prime='Anna', top_k=5))"
   ]
  },
  {
   "cell_type": "markdown",
   "metadata": {},
   "source": [
    "## Loading a checkpoint"
   ]
  },
  {
   "cell_type": "code",
   "execution_count": 29,
   "metadata": {},
   "outputs": [],
   "source": [
    "# Here we have loaded in a model that trained over 20 epochs `rnn_20_epoch.net`\n",
    "with open('rnn_x_epoch.net', 'rb') as f:\n",
    "    checkpoint = torch.load(f)\n",
    "    \n",
    "loaded = CharRNN(checkpoint['tokens'], n_hidden=checkpoint['n_hidden'], n_layers=checkpoint['n_layers'])\n",
    "loaded.load_state_dict(checkpoint['state_dict'])"
   ]
  },
  {
   "cell_type": "code",
   "execution_count": 38,
   "metadata": {},
   "outputs": [
    {
     "name": "stdout",
     "output_type": "stream",
     "text": [
      "And Levin said th of aro herend ongong the t t ten th ale oroned ary\n",
      "t h sthen this st a th t sisilerof t thanes s theroungenentingoutene he ton an hen hiseshe athe ond aron t t hat ofondin tine he toure alinged, hounghe th se ore t hed sto h the hest t a st oren an hon s tesesesthe t he atont hatharin he atere areng hed\n",
      "st aranthe he t sedis oreresede o hit hed orede haleris h areroulo thengen t to henenederit hand t hesinen he herin an arithe hed thind sth h allitend he athe ton s orout the halouristhe h t h hined s ate heses ate titit to sth touthed\n",
      "thesiseronery hero t at halin story o his s hind, horangofontinererere than ane silis se heris orathe t an onerande ang se th arin anth h are arind\n",
      "alin a h anes he arerit a orourin ale hingh s t a o the that sithinthingenden ore ouly sery thaloured th hileshes oralous s s ousthit tind thit tone sed of te thitererilend se a tinghe t hered,\n",
      "he hiles hed\n",
      "tha at sing thongousthe a atin th the s sthend shedined t tistine s h h orongeded, are o araren thin ante te the andis stithathe thed ong ane senenene th t sesh s tof hithange ond thin he s allerenthe here ted and st o hinde t oun ted he t h orilouthe s hin and ouritit th a arerene a at st ory ofusin s ongontofouned te hene alereste tous horond atere se oured tout th and she s hes se tite tis herede terithinthentore shoforyento the athe tonding h shenth tondin sin t arent stofongon oro thit hare tharitoutingitouthanth sthen outon this the a thaly thalin t then t th st s thin theris stoun oranes atithed there shiteroro sted on an s the he tonthind he thed a t anened hing t t he he a toun oreres thingh tousthe s th h ore te aloreredit ongine aristhat thed st ouled athested thed ton se a hith she t hendide hatitone oun on seresint orore hed ary\n",
      "ande she the alyeresilid shede ofe t sed hed\n",
      "hitithe se hend ane hererouneris henth there st ale orily arered ousteng at ous hiled hereshero se te ouly\n",
      "hon atheren se side oushateste te ate s s t thalen hito are ourange hine ses ares ale h arous a\n"
     ]
    }
   ],
   "source": [
    "# Sample using a loaded model\n",
    "print(sample(loaded, 2000, top_k=5, prime=\"And Levin said\"))"
   ]
  },
  {
   "cell_type": "code",
   "execution_count": null,
   "metadata": {
    "collapsed": true
   },
   "outputs": [],
   "source": []
  }
 ],
 "metadata": {
  "kernelspec": {
   "display_name": "Python 3",
   "language": "python",
   "name": "python3"
  },
  "language_info": {
   "codemirror_mode": {
    "name": "ipython",
    "version": 3
   },
   "file_extension": ".py",
   "mimetype": "text/x-python",
   "name": "python",
   "nbconvert_exporter": "python",
   "pygments_lexer": "ipython3",
   "version": "3.6.3"
  }
 },
 "nbformat": 4,
 "nbformat_minor": 2
}
