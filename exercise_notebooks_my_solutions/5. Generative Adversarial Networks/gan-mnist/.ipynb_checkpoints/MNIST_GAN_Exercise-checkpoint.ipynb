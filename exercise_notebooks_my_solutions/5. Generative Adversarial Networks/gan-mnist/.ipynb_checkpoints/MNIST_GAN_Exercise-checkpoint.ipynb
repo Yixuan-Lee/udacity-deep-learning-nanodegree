{
 "cells": [
  {
   "cell_type": "markdown",
   "metadata": {},
   "source": [
    "# Generative Adversarial Network\n",
    "\n",
    "In this notebook, we'll be building a generative adversarial network (GAN) trained on the MNIST dataset. From this, we'll be able to generate new handwritten digits!\n",
    "\n",
    "GANs were [first reported on](https://arxiv.org/abs/1406.2661) in 2014 from Ian Goodfellow and others in Yoshua Bengio's lab. Since then, GANs have exploded in popularity. Here are a few examples to check out:\n",
    "\n",
    "* [Pix2Pix](https://affinelayer.com/pixsrv/) \n",
    "* [CycleGAN & Pix2Pix in PyTorch, Jun-Yan Zhu](https://github.com/junyanz/pytorch-CycleGAN-and-pix2pix)\n",
    "* [A list of generative models](https://github.com/wiseodd/generative-models)\n",
    "\n",
    "The idea behind GANs is that you have two networks, a generator $G$ and a discriminator $D$, competing against each other. The generator makes \"fake\" data to pass to the discriminator. The discriminator also sees real training data and predicts if the data it's received is real or fake. \n",
    "> * The generator is trained to fool the discriminator, it wants to output data that looks _as close as possible_ to real, training data. \n",
    "* The discriminator is a classifier that is trained to figure out which data is real and which is fake. \n",
    "\n",
    "What ends up happening is that the generator learns to make data that is indistinguishable from real data to the discriminator.\n",
    "\n",
    "<img src='assets/gan_pipeline.png' width=70% />\n",
    "\n",
    "The general structure of a GAN is shown in the diagram above, using MNIST images as data. The latent sample is a random vector that the generator uses to construct its fake images. This is often called a **latent vector** and that vector space is called **latent space**. As the generator trains, it figures out how to map latent vectors to recognizable images that can fool the discriminator.\n",
    "\n",
    "If you're interested in generating only new images, you can throw out the discriminator after training. In this notebook, I'll show you how to define and train these adversarial networks in PyTorch and generate new images!"
   ]
  },
  {
   "cell_type": "markdown",
   "metadata": {},
   "source": [
    "**Lecture Note:**\n",
    "\n",
    "latent vector is a random vector.\n",
    "\n"
   ]
  },
  {
   "cell_type": "code",
   "execution_count": 1,
   "metadata": {},
   "outputs": [],
   "source": [
    "%matplotlib inline\n",
    "\n",
    "import numpy as np\n",
    "import torch\n",
    "import matplotlib.pyplot as plt"
   ]
  },
  {
   "cell_type": "code",
   "execution_count": 2,
   "metadata": {},
   "outputs": [],
   "source": [
    "from torchvision import datasets\n",
    "import torchvision.transforms as transforms\n",
    "\n",
    "# number of subprocesses to use for data loading\n",
    "num_workers = 0\n",
    "# how many samples per batch to load\n",
    "batch_size = 64\n",
    "\n",
    "# convert data to torch.FloatTensor\n",
    "transform = transforms.ToTensor()\n",
    "\n",
    "# get the training datasets\n",
    "train_data = datasets.MNIST(root='data', train=True,\n",
    "                                   download=True, transform=transform)\n",
    "\n",
    "# prepare data loader\n",
    "train_loader = torch.utils.data.DataLoader(train_data, batch_size=batch_size,\n",
    "                                           num_workers=num_workers)"
   ]
  },
  {
   "cell_type": "markdown",
   "metadata": {},
   "source": [
    "### Visualize the data"
   ]
  },
  {
   "cell_type": "code",
   "execution_count": 3,
   "metadata": {},
   "outputs": [
    {
     "data": {
      "text/plain": [
       "<matplotlib.image.AxesImage at 0x7fba47beb6a0>"
      ]
     },
     "execution_count": 3,
     "metadata": {},
     "output_type": "execute_result"
    },
    {
     "data": {
      "image/png": "[encoded data removed]",
      "text/plain": [
       "<matplotlib.figure.Figure at 0x7fba47c29f98>"
      ]
     },
     "metadata": {
      "needs_background": "light"
     },
     "output_type": "display_data"
    }
   ],
   "source": [
    "# obtain one batch of training images\n",
    "dataiter = iter(train_loader)\n",
    "images, labels = dataiter.next()\n",
    "images = images.numpy()\n",
    "\n",
    "# get one image from the batch\n",
    "img = np.squeeze(images[0])\n",
    "\n",
    "fig = plt.figure(figsize = (3,3)) \n",
    "ax = fig.add_subplot(111)\n",
    "ax.imshow(img, cmap='gray')"
   ]
  },
  {
   "cell_type": "markdown",
   "metadata": {},
   "source": [
    "---\n",
    "# Define the Model\n",
    "\n",
    "A GAN is comprised of two adversarial networks, a discriminator and a generator."
   ]
  },
  {
   "cell_type": "markdown",
   "metadata": {},
   "source": [
    "## Discriminator\n",
    "\n",
    "The discriminator network is going to be a pretty typical linear classifier. To make this network a universal function approximator, we'll need at least one hidden layer, and these hidden layers should have one key attribute:\n",
    "> All hidden layers will have a [Leaky ReLu](https://pytorch.org/docs/stable/nn.html#torch.nn.LeakyReLU) activation function applied to their outputs.\n",
    "\n",
    "<img src='assets/gan_network.png' width=70% />\n",
    "\n",
    "#### Leaky ReLu\n",
    "\n",
    "We should use a leaky ReLU to allow gradients to flow backwards through the layer unimpeded. A leaky ReLU is like a normal ReLU, except that there is a small non-zero output for negative input values.\n",
    "\n",
    "<img src='assets/leaky_relu.png' width=40% />\n",
    "\n",
    "#### Sigmoid Output\n",
    "\n",
    "We'll also take the approach of using a more numerically stable loss function on the outputs. Recall that we want the discriminator to output a value 0-1 indicating whether an image is _real or fake_. \n",
    "> We will ultimately use [BCEWithLogitsLoss](https://pytorch.org/docs/stable/nn.html#bcewithlogitsloss), which combines a `sigmoid` activation function **and** and binary cross entropy loss in one function. \n",
    "\n",
    "So, our final output layer should not have any activation function applied to it."
   ]
  },
  {
   "cell_type": "code",
   "execution_count": 56,
   "metadata": {},
   "outputs": [],
   "source": [
    "import torch.nn as nn\n",
    "import torch.nn.functional as F\n",
    "\n",
    "class Discriminator(nn.Module):\n",
    "\n",
    "    def __init__(self, input_size, hidden_dim, output_size):\n",
    "        super(Discriminator, self).__init__()\n",
    "        \n",
    "        # define all layers\n",
    "        self.fc1 = nn.Linear(input_size, hidden_dim * 2)\n",
    "        self.fc2 = nn.Linear(hidden_dim * 2, hidden_dim)\n",
    "        self.fc3 = nn.Linear(hidden_dim, output_size)\n",
    "        \n",
    "        self.leaky = nn.LeakyReLU(negative_slope=0.2)\n",
    "        self.dropout = nn.Dropout(0.3)\n",
    "        \n",
    "    def forward(self, x):\n",
    "        # flatten image\n",
    "#         x = x.view(-1, x.shape[-1] * x.shape[-2])  # x.shape = [batch_size, channel_number, height, width]\n",
    "        x = x.view(-1, 28 * 28)\n",
    "\n",
    "        # pass x through all layers\n",
    "        # apply leaky relu activation to all hidden layers\n",
    "        x = self.leaky(self.fc1(x))\n",
    "        x = self.dropout(x)\n",
    "        x = self.leaky(self.fc2(x))\n",
    "        x = self.dropout(x)\n",
    "        x = self.fc3(x)\n",
    "        \n",
    "        return x\n"
   ]
  },
  {
   "cell_type": "markdown",
   "metadata": {},
   "source": [
    "## Generator\n",
    "\n",
    "The generator network will be almost exactly the same as the discriminator network, except that we're applying a [tanh activation function](https://pytorch.org/docs/stable/nn.html#tanh) to our output layer.\n",
    "\n",
    "#### tanh Output\n",
    "The generator has been found to perform the best with $tanh$ for the generator output, which scales the output to be between -1 and 1, instead of 0 and 1. \n",
    "\n",
    "<img src='assets/tanh_fn.png' width=40% />\n",
    "\n",
    "Recall that we also want these outputs to be comparable to the *real* input pixel values, which are read in as normalized values between 0 and 1. \n",
    "> So, we'll also have to **scale our real input images to have pixel values between -1 and 1** when we train the discriminator. \n",
    "\n",
    "I'll do this in the training loop, later on."
   ]
  },
  {
   "cell_type": "code",
   "execution_count": 57,
   "metadata": {},
   "outputs": [],
   "source": [
    "class Generator(nn.Module):\n",
    "\n",
    "    def __init__(self, input_size, hidden_dim, output_size):\n",
    "        super(Generator, self).__init__()\n",
    "        \n",
    "        # define all layers\n",
    "        self.fc1 = nn.Linear(input_size, hidden_dim)\n",
    "        self.fc2 = nn.Linear(hidden_dim, hidden_dim * 2)\n",
    "        self.fc3 = nn.Linear(hidden_dim * 2, hidden_dim * 4)\n",
    "        self.fc4 = nn.Linear(hidden_dim * 4, output_size)\n",
    "        \n",
    "        self.leaky = nn.LeakyReLU(negative_slope=0.2)\n",
    "        self.batch_norm_1 = nn.BatchNorm1d(hidden_dim)\n",
    "        self.batch_norm_2 = nn.BatchNorm1d(hidden_dim * 2)\n",
    "        self.batch_norm_3 = nn.BatchNorm1d(hidden_dim * 4)\n",
    "        self.dropout = nn.Dropout(0.3)\n",
    "        \n",
    "    def forward(self, x):  # x should be latent vector\n",
    "        # pass x through all layers\n",
    "        x = self.leaky(self.fc1(x))\n",
    "        x = self.batch_norm_1(x)\n",
    "        x = self.leaky(self.fc2(x))\n",
    "        x = self.batch_norm_2(x)\n",
    "        x = self.leaky(self.fc3(x))\n",
    "        x = self.batch_norm_3(x)\n",
    "        \n",
    "        x = self.dropout(x)\n",
    "        \n",
    "        # final layer should have tanh applied\n",
    "        x = F.tanh(self.fc4(x))\n",
    "        \n",
    "        return x"
   ]
  },
  {
   "cell_type": "markdown",
   "metadata": {},
   "source": [
    "## Model hyperparameters"
   ]
  },
  {
   "cell_type": "code",
   "execution_count": 58,
   "metadata": {},
   "outputs": [],
   "source": [
    "# Discriminator hyperparams\n",
    "\n",
    "# Size of input image to discriminator (28*28)\n",
    "input_size = 28 * 28\n",
    "# Size of discriminator output (real or fake)\n",
    "d_output_size = 1\n",
    "# Size of *last* hidden layer in the discriminator\n",
    "d_hidden_size = 28\n",
    "\n",
    "# Generator hyperparams\n",
    "\n",
    "# Size of latent vector to give to generator\n",
    "z_size = 50\n",
    "# Size of discriminator output (generated image)\n",
    "g_output_size = input_size\n",
    "# Size of *first* hidden layer in the generator\n",
    "g_hidden_size = 28"
   ]
  },
  {
   "cell_type": "markdown",
   "metadata": {},
   "source": [
    "## Build complete network\n",
    "\n",
    "Now we're instantiating the discriminator and generator from the classes defined above. Make sure you've passed in the correct input arguments."
   ]
  },
  {
   "cell_type": "code",
   "execution_count": 59,
   "metadata": {},
   "outputs": [
    {
     "name": "stdout",
     "output_type": "stream",
     "text": [
      "Discriminator(\n",
      "  (fc1): Linear(in_features=784, out_features=56, bias=True)\n",
      "  (fc2): Linear(in_features=56, out_features=28, bias=True)\n",
      "  (fc3): Linear(in_features=28, out_features=1, bias=True)\n",
      "  (leaky): LeakyReLU(negative_slope=0.2)\n",
      "  (dropout): Dropout(p=0.3)\n",
      ")\n",
      "\n",
      "Generator(\n",
      "  (fc1): Linear(in_features=50, out_features=28, bias=True)\n",
      "  (fc2): Linear(in_features=28, out_features=56, bias=True)\n",
      "  (fc3): Linear(in_features=56, out_features=112, bias=True)\n",
      "  (fc4): Linear(in_features=112, out_features=784, bias=True)\n",
      "  (leaky): LeakyReLU(negative_slope=0.2)\n",
      "  (batch_norm_1): BatchNorm1d(28, eps=1e-05, momentum=0.1, affine=True, track_running_stats=True)\n",
      "  (batch_norm_2): BatchNorm1d(56, eps=1e-05, momentum=0.1, affine=True, track_running_stats=True)\n",
      "  (batch_norm_3): BatchNorm1d(112, eps=1e-05, momentum=0.1, affine=True, track_running_stats=True)\n",
      "  (dropout): Dropout(p=0.3)\n",
      ")\n"
     ]
    }
   ],
   "source": [
    "# instantiate discriminator and generator\n",
    "D = Discriminator(input_size, d_hidden_size, d_output_size)\n",
    "G = Generator(z_size, g_hidden_size, g_output_size)\n",
    "\n",
    "# check that they are as you expect\n",
    "print(D)\n",
    "print()\n",
    "print(G)"
   ]
  },
  {
   "cell_type": "markdown",
   "metadata": {},
   "source": [
    "---\n",
    "## Discriminator and Generator Losses\n",
    "\n",
    "Now we need to calculate the losses. \n",
    "\n",
    "### Discriminator Losses\n",
    "\n",
    "> * For the discriminator, the total loss is the sum of the losses for real and fake images, `d_loss = d_real_loss + d_fake_loss`. \n",
    "* Remember that we want the discriminator to output 1 for real images and 0 for fake images, so we need to set up the losses to reflect that.\n",
    "\n",
    "<img src='assets/gan_pipeline.png' width=70% />\n",
    "\n",
    "The losses will by binary cross entropy loss with logits, which we can get with [BCEWithLogitsLoss](https://pytorch.org/docs/stable/nn.html#bcewithlogitsloss). This combines a `sigmoid` activation function **and** and binary cross entropy loss in one function.\n",
    "\n",
    "For the real images, we want `D(real_images) = 1`. That is, we want the discriminator to classify the the real images with a label = 1, indicating that these are real. To help the discriminator generalize better, the labels are **reduced a bit from 1.0 to 0.9**. For this, we'll use the parameter `smooth`; if True, then we should smooth our labels. In PyTorch, this looks like `labels = torch.ones(size) * 0.9`\n",
    "\n",
    "The discriminator loss for the fake data is similar. We want `D(fake_images) = 0`, where the fake images are the _generator output_, `fake_images = G(z)`. \n",
    "\n",
    "### Generator Loss\n",
    "\n",
    "The generator loss will look similar only with flipped labels. The generator's goal is to get `D(fake_images) = 1`. In this case, the labels are **flipped** to represent that the generator is trying to fool the discriminator into thinking that the images it generates (fakes) are real!"
   ]
  },
  {
   "cell_type": "code",
   "execution_count": 60,
   "metadata": {},
   "outputs": [],
   "source": [
    "# Calculate losses\n",
    "def real_loss(D_out, smooth=False):\n",
    "    # compare logits to real labels\n",
    "    # smooth labels if smooth=True\n",
    "    criterion = torch.nn.BCEWithLogitsLoss()\n",
    "    size = D_out.size(0)  # how many output values in D_out (batch size)\n",
    "    if smooth is True:\n",
    "        labels = torch.ones(size) * 0.9\n",
    "    else:\n",
    "        labels = torch.ones(size)  # real labels = 1\n",
    "    loss = criterion(D_out.squeeze(), labels)    # squeeze any empty dimensions (example: [2, 1, 2].squeeze() -> [2, 2])\n",
    "    return loss\n",
    "\n",
    "def fake_loss(D_out):\n",
    "    # compare logits to fake labels\n",
    "    criterion = torch.nn.BCEWithLogitsLoss()\n",
    "    size = D_out.size(0)\n",
    "    labels = torch.zeros(size)  # batch size\n",
    "    loss = criterion(D_out.squeeze(), labels)\n",
    "    return loss"
   ]
  },
  {
   "cell_type": "markdown",
   "metadata": {},
   "source": [
    "**Lecture Note:**\n",
    "\n",
    "`smooth` argument:\n",
    "\n",
    "* if `smooth = True`, for the targets of real images, instead of being all ones, we set them all 0.9. This will make the Discriminator numerically stable and help it genearlize better.\n",
    "* if `smooth = False` (by default), we set all ones for real images\n",
    "    \n",
    "BCELoss is well-suited for tasks in which there are only two classes.\n",
    "\n",
    "BCEWithLogitsLoss is Sigmoid + BCELoss, so we didn't apply sigmoid at the Discriminator output layer.\n"
   ]
  },
  {
   "cell_type": "markdown",
   "metadata": {},
   "source": [
    "## Optimizers\n",
    "\n",
    "We want to update the generator and discriminator variables separately. So, we'll define two separate Adam optimizers."
   ]
  },
  {
   "cell_type": "code",
   "execution_count": 61,
   "metadata": {
    "scrolled": true
   },
   "outputs": [],
   "source": [
    "import torch.optim as optim\n",
    "\n",
    "# learning rate for optimizers\n",
    "lr = 0.002\n",
    "\n",
    "# Create optimizers for the discriminator and generator\n",
    "d_optimizer = optim.Adam(D.parameters(), lr)\n",
    "g_optimizer = optim.Adam(G.parameters(), lr)"
   ]
  },
  {
   "cell_type": "markdown",
   "metadata": {},
   "source": [
    "---\n",
    "## Training\n",
    "\n",
    "Training will involve alternating between training the discriminator and the generator. We'll use our functions `real_loss` and `fake_loss` to help us calculate the discriminator losses in all of the following cases.\n",
    "\n",
    "### Discriminator training\n",
    "1. Compute the discriminator loss on real, training images        \n",
    "2. Generate fake images\n",
    "3. Compute the discriminator loss on fake, generated images     \n",
    "4. Add up real and fake loss\n",
    "5. Perform backpropagation + an optimization step to update the discriminator's weights\n",
    "\n",
    "### Generator training\n",
    "1. Generate fake images\n",
    "2. Compute the discriminator loss on fake images, using **flipped** labels!\n",
    "3. Perform backpropagation + an optimization step to update the generator's weights\n",
    "\n",
    "#### Saving Samples\n",
    "\n",
    "As we train, we'll also print out some loss statistics and save some generated \"fake\" samples."
   ]
  },
  {
   "cell_type": "code",
   "execution_count": 62,
   "metadata": {
    "scrolled": true
   },
   "outputs": [
    {
     "name": "stdout",
     "output_type": "stream",
     "text": [
      "Epoch [    1/  100] | d_loss: 1.4252 | g_loss: 0.7074\n",
      "Epoch [    1/  100] | d_loss: 0.5823 | g_loss: 6.7888\n",
      "Epoch [    1/  100] | d_loss: 0.6829 | g_loss: 6.1223\n",
      "Epoch [    2/  100] | d_loss: 0.8553 | g_loss: 4.1265\n",
      "Epoch [    2/  100] | d_loss: 1.1929 | g_loss: 1.4513\n",
      "Epoch [    2/  100] | d_loss: 1.4617 | g_loss: 0.8077\n",
      "Epoch [    3/  100] | d_loss: 1.2212 | g_loss: 0.9338\n",
      "Epoch [    3/  100] | d_loss: 1.3915 | g_loss: 0.9940\n",
      "Epoch [    3/  100] | d_loss: 1.3699 | g_loss: 1.3184\n",
      "Epoch [    4/  100] | d_loss: 1.4116 | g_loss: 0.6723\n",
      "Epoch [    4/  100] | d_loss: 1.2118 | g_loss: 1.0484\n",
      "Epoch [    4/  100] | d_loss: 1.4553 | g_loss: 0.9482\n",
      "Epoch [    5/  100] | d_loss: 1.4785 | g_loss: 0.9891\n",
      "Epoch [    5/  100] | d_loss: 1.3641 | g_loss: 0.8844\n",
      "Epoch [    5/  100] | d_loss: 1.0632 | g_loss: 1.2538\n",
      "Epoch [    6/  100] | d_loss: 1.3507 | g_loss: 1.1531\n",
      "Epoch [    6/  100] | d_loss: 1.4102 | g_loss: 1.0000\n",
      "Epoch [    6/  100] | d_loss: 1.2878 | g_loss: 1.2501\n",
      "Epoch [    7/  100] | d_loss: 1.5325 | g_loss: 3.3931\n",
      "Epoch [    7/  100] | d_loss: 1.0228 | g_loss: 3.5319\n",
      "Epoch [    7/  100] | d_loss: 0.8055 | g_loss: 4.4341\n",
      "Epoch [    8/  100] | d_loss: 1.1571 | g_loss: 2.6799\n",
      "Epoch [    8/  100] | d_loss: 1.2854 | g_loss: 1.7760\n",
      "Epoch [    8/  100] | d_loss: 0.7526 | g_loss: 4.9474\n",
      "Epoch [    9/  100] | d_loss: 0.9456 | g_loss: 3.7132\n",
      "Epoch [    9/  100] | d_loss: 1.3440 | g_loss: 1.5873\n",
      "Epoch [    9/  100] | d_loss: 1.2431 | g_loss: 1.3006\n",
      "Epoch [   10/  100] | d_loss: 1.2412 | g_loss: 1.1830\n",
      "Epoch [   10/  100] | d_loss: 1.3740 | g_loss: 1.0393\n",
      "Epoch [   10/  100] | d_loss: 1.2310 | g_loss: 1.0864\n",
      "Epoch [   11/  100] | d_loss: 1.0120 | g_loss: 1.9986\n",
      "Epoch [   11/  100] | d_loss: 1.2405 | g_loss: 1.2913\n",
      "Epoch [   11/  100] | d_loss: 1.3490 | g_loss: 1.2899\n",
      "Epoch [   12/  100] | d_loss: 1.5046 | g_loss: 1.1420\n",
      "Epoch [   12/  100] | d_loss: 1.2445 | g_loss: 1.3645\n",
      "Epoch [   12/  100] | d_loss: 1.3947 | g_loss: 0.8667\n",
      "Epoch [   13/  100] | d_loss: 1.3676 | g_loss: 0.9603\n",
      "Epoch [   13/  100] | d_loss: 1.3415 | g_loss: 1.0004\n",
      "Epoch [   13/  100] | d_loss: 1.3888 | g_loss: 0.7270\n",
      "Epoch [   14/  100] | d_loss: 1.3231 | g_loss: 1.0441\n",
      "Epoch [   14/  100] | d_loss: 1.3405 | g_loss: 0.8958\n",
      "Epoch [   14/  100] | d_loss: 1.1635 | g_loss: 1.0232\n",
      "Epoch [   15/  100] | d_loss: 1.3065 | g_loss: 1.2889\n",
      "Epoch [   15/  100] | d_loss: 1.3851 | g_loss: 0.9014\n",
      "Epoch [   15/  100] | d_loss: 1.2096 | g_loss: 1.1804\n",
      "Epoch [   16/  100] | d_loss: 1.3845 | g_loss: 0.7869\n",
      "Epoch [   16/  100] | d_loss: 1.2248 | g_loss: 1.1707\n",
      "Epoch [   16/  100] | d_loss: 1.2400 | g_loss: 1.1946\n",
      "Epoch [   17/  100] | d_loss: 1.2964 | g_loss: 1.2251\n",
      "Epoch [   17/  100] | d_loss: 1.1419 | g_loss: 1.0130\n",
      "Epoch [   17/  100] | d_loss: 1.2786 | g_loss: 1.1072\n",
      "Epoch [   18/  100] | d_loss: 1.3164 | g_loss: 0.9841\n",
      "Epoch [   18/  100] | d_loss: 1.2491 | g_loss: 1.0347\n",
      "Epoch [   18/  100] | d_loss: 1.2266 | g_loss: 1.2428\n",
      "Epoch [   19/  100] | d_loss: 1.1850 | g_loss: 1.3243\n",
      "Epoch [   19/  100] | d_loss: 1.3119 | g_loss: 1.0414\n",
      "Epoch [   19/  100] | d_loss: 1.2671 | g_loss: 1.1529\n",
      "Epoch [   20/  100] | d_loss: 1.3021 | g_loss: 1.4878\n",
      "Epoch [   20/  100] | d_loss: 1.2046 | g_loss: 1.0669\n",
      "Epoch [   20/  100] | d_loss: 1.3289 | g_loss: 1.2746\n",
      "Epoch [   21/  100] | d_loss: 1.3384 | g_loss: 0.9220\n",
      "Epoch [   21/  100] | d_loss: 1.3110 | g_loss: 0.8965\n",
      "Epoch [   21/  100] | d_loss: 1.3285 | g_loss: 1.1874\n",
      "Epoch [   22/  100] | d_loss: 1.2963 | g_loss: 0.9729\n",
      "Epoch [   22/  100] | d_loss: 1.2476 | g_loss: 1.0182\n",
      "Epoch [   22/  100] | d_loss: 1.3425 | g_loss: 1.0214\n",
      "Epoch [   23/  100] | d_loss: 1.2708 | g_loss: 1.0458\n",
      "Epoch [   23/  100] | d_loss: 1.2571 | g_loss: 0.9444\n",
      "Epoch [   23/  100] | d_loss: 1.2903 | g_loss: 1.0178\n",
      "Epoch [   24/  100] | d_loss: 1.4038 | g_loss: 0.8951\n",
      "Epoch [   24/  100] | d_loss: 1.3169 | g_loss: 1.1294\n",
      "Epoch [   24/  100] | d_loss: 1.2910 | g_loss: 0.8711\n",
      "Epoch [   25/  100] | d_loss: 1.3229 | g_loss: 1.0429\n",
      "Epoch [   25/  100] | d_loss: 1.3130 | g_loss: 1.1616\n",
      "Epoch [   25/  100] | d_loss: 1.3053 | g_loss: 1.0336\n",
      "Epoch [   26/  100] | d_loss: 1.2628 | g_loss: 0.7976\n",
      "Epoch [   26/  100] | d_loss: 1.2956 | g_loss: 0.9703\n",
      "Epoch [   26/  100] | d_loss: 1.3706 | g_loss: 0.8546\n",
      "Epoch [   27/  100] | d_loss: 1.3461 | g_loss: 0.9013\n",
      "Epoch [   27/  100] | d_loss: 1.2403 | g_loss: 1.1095\n",
      "Epoch [   27/  100] | d_loss: 1.2042 | g_loss: 1.0454\n",
      "Epoch [   28/  100] | d_loss: 1.2045 | g_loss: 1.0649\n",
      "Epoch [   28/  100] | d_loss: 1.2581 | g_loss: 1.0700\n",
      "Epoch [   28/  100] | d_loss: 1.3073 | g_loss: 1.0114\n",
      "Epoch [   29/  100] | d_loss: 1.2516 | g_loss: 1.1195\n",
      "Epoch [   29/  100] | d_loss: 1.3524 | g_loss: 0.9823\n",
      "Epoch [   29/  100] | d_loss: 1.2925 | g_loss: 1.0096\n",
      "Epoch [   30/  100] | d_loss: 1.3467 | g_loss: 0.8948\n",
      "Epoch [   30/  100] | d_loss: 1.4302 | g_loss: 0.9106\n",
      "Epoch [   30/  100] | d_loss: 1.3774 | g_loss: 0.8783\n",
      "Epoch [   31/  100] | d_loss: 1.3365 | g_loss: 1.0692\n",
      "Epoch [   31/  100] | d_loss: 1.3496 | g_loss: 0.9287\n",
      "Epoch [   31/  100] | d_loss: 1.3039 | g_loss: 0.8988\n",
      "Epoch [   32/  100] | d_loss: 1.3651 | g_loss: 0.8993\n",
      "Epoch [   32/  100] | d_loss: 1.3183 | g_loss: 0.9683\n",
      "Epoch [   32/  100] | d_loss: 1.3285 | g_loss: 0.9478\n",
      "Epoch [   33/  100] | d_loss: 1.3907 | g_loss: 0.8718\n",
      "Epoch [   33/  100] | d_loss: 1.2750 | g_loss: 1.0077\n",
      "Epoch [   33/  100] | d_loss: 1.4666 | g_loss: 1.0540\n",
      "Epoch [   34/  100] | d_loss: 1.3596 | g_loss: 1.1840\n",
      "Epoch [   34/  100] | d_loss: 1.2230 | g_loss: 1.1543\n",
      "Epoch [   34/  100] | d_loss: 1.2936 | g_loss: 1.0367\n",
      "Epoch [   35/  100] | d_loss: 1.2862 | g_loss: 1.2811\n",
      "Epoch [   35/  100] | d_loss: 1.2781 | g_loss: 0.9085\n",
      "Epoch [   35/  100] | d_loss: 1.2920 | g_loss: 0.9020\n",
      "Epoch [   36/  100] | d_loss: 1.2690 | g_loss: 1.0795\n",
      "Epoch [   36/  100] | d_loss: 1.2183 | g_loss: 1.0420\n",
      "Epoch [   36/  100] | d_loss: 1.3555 | g_loss: 0.9544\n",
      "Epoch [   37/  100] | d_loss: 1.3379 | g_loss: 0.9439\n",
      "Epoch [   37/  100] | d_loss: 1.1750 | g_loss: 0.9880\n",
      "Epoch [   37/  100] | d_loss: 1.3543 | g_loss: 1.0864\n",
      "Epoch [   38/  100] | d_loss: 1.4175 | g_loss: 0.8044\n",
      "Epoch [   38/  100] | d_loss: 1.3415 | g_loss: 0.9963\n",
      "Epoch [   38/  100] | d_loss: 1.2912 | g_loss: 1.1431\n",
      "Epoch [   39/  100] | d_loss: 1.3384 | g_loss: 0.9226\n",
      "Epoch [   39/  100] | d_loss: 1.1784 | g_loss: 0.9927\n",
      "Epoch [   39/  100] | d_loss: 1.3064 | g_loss: 1.0370\n",
      "Epoch [   40/  100] | d_loss: 1.2995 | g_loss: 1.1099\n",
      "Epoch [   40/  100] | d_loss: 1.2628 | g_loss: 1.0921\n",
      "Epoch [   40/  100] | d_loss: 1.2697 | g_loss: 0.8999\n",
      "Epoch [   41/  100] | d_loss: 1.2038 | g_loss: 1.0959\n",
      "Epoch [   41/  100] | d_loss: 1.2342 | g_loss: 1.2040\n",
      "Epoch [   41/  100] | d_loss: 1.2927 | g_loss: 1.0758\n",
      "Epoch [   42/  100] | d_loss: 1.2659 | g_loss: 0.9899\n",
      "Epoch [   42/  100] | d_loss: 1.1487 | g_loss: 1.0405\n",
      "Epoch [   42/  100] | d_loss: 1.3628 | g_loss: 0.9631\n",
      "Epoch [   43/  100] | d_loss: 1.2333 | g_loss: 1.0787\n",
      "Epoch [   43/  100] | d_loss: 1.2456 | g_loss: 1.0343\n",
      "Epoch [   43/  100] | d_loss: 1.2897 | g_loss: 1.0334\n",
      "Epoch [   44/  100] | d_loss: 1.2358 | g_loss: 1.1052\n",
      "Epoch [   44/  100] | d_loss: 1.2228 | g_loss: 1.2643\n",
      "Epoch [   44/  100] | d_loss: 1.3242 | g_loss: 1.0987\n",
      "Epoch [   45/  100] | d_loss: 1.2366 | g_loss: 0.9952\n",
      "Epoch [   45/  100] | d_loss: 1.3479 | g_loss: 0.9639\n",
      "Epoch [   45/  100] | d_loss: 1.2695 | g_loss: 0.9192\n",
      "Epoch [   46/  100] | d_loss: 1.2290 | g_loss: 1.3600\n",
      "Epoch [   46/  100] | d_loss: 1.2008 | g_loss: 1.1605\n",
      "Epoch [   46/  100] | d_loss: 1.3107 | g_loss: 0.9645\n",
      "Epoch [   47/  100] | d_loss: 1.2798 | g_loss: 1.0753\n",
      "Epoch [   47/  100] | d_loss: 1.1834 | g_loss: 1.1320\n",
      "Epoch [   47/  100] | d_loss: 1.3301 | g_loss: 1.0891\n",
      "Epoch [   48/  100] | d_loss: 1.2808 | g_loss: 0.9122\n",
      "Epoch [   48/  100] | d_loss: 1.1481 | g_loss: 0.9984\n",
      "Epoch [   48/  100] | d_loss: 1.2517 | g_loss: 1.0345\n",
      "Epoch [   49/  100] | d_loss: 1.3703 | g_loss: 0.9990\n",
      "Epoch [   49/  100] | d_loss: 1.3314 | g_loss: 1.0100\n",
      "Epoch [   49/  100] | d_loss: 1.2652 | g_loss: 0.8728\n",
      "Epoch [   50/  100] | d_loss: 1.2047 | g_loss: 1.1982\n",
      "Epoch [   50/  100] | d_loss: 1.2358 | g_loss: 1.0874\n",
      "Epoch [   50/  100] | d_loss: 1.3098 | g_loss: 0.9958\n",
      "Epoch [   51/  100] | d_loss: 1.4959 | g_loss: 0.9202\n",
      "Epoch [   51/  100] | d_loss: 1.2356 | g_loss: 1.4166\n"
     ]
    },
    {
     "name": "stdout",
     "output_type": "stream",
     "text": [
      "Epoch [   51/  100] | d_loss: 1.2958 | g_loss: 1.0044\n",
      "Epoch [   52/  100] | d_loss: 1.2716 | g_loss: 1.4657\n",
      "Epoch [   52/  100] | d_loss: 1.2008 | g_loss: 1.0249\n",
      "Epoch [   52/  100] | d_loss: 1.2319 | g_loss: 0.9301\n",
      "Epoch [   53/  100] | d_loss: 1.1790 | g_loss: 1.0278\n",
      "Epoch [   53/  100] | d_loss: 1.2308 | g_loss: 1.0124\n",
      "Epoch [   53/  100] | d_loss: 1.3711 | g_loss: 1.0632\n",
      "Epoch [   54/  100] | d_loss: 1.2308 | g_loss: 0.9915\n",
      "Epoch [   54/  100] | d_loss: 1.2179 | g_loss: 1.1220\n",
      "Epoch [   54/  100] | d_loss: 1.3963 | g_loss: 0.8793\n",
      "Epoch [   55/  100] | d_loss: 1.2230 | g_loss: 0.9308\n",
      "Epoch [   55/  100] | d_loss: 1.2296 | g_loss: 1.3941\n",
      "Epoch [   55/  100] | d_loss: 1.2651 | g_loss: 0.9804\n",
      "Epoch [   56/  100] | d_loss: 1.2505 | g_loss: 0.9299\n",
      "Epoch [   56/  100] | d_loss: 1.2482 | g_loss: 1.0141\n",
      "Epoch [   56/  100] | d_loss: 1.2623 | g_loss: 0.9512\n",
      "Epoch [   57/  100] | d_loss: 1.2965 | g_loss: 1.0821\n",
      "Epoch [   57/  100] | d_loss: 1.3385 | g_loss: 1.0833\n",
      "Epoch [   57/  100] | d_loss: 1.2961 | g_loss: 0.9892\n",
      "Epoch [   58/  100] | d_loss: 1.2122 | g_loss: 1.0736\n",
      "Epoch [   58/  100] | d_loss: 1.2452 | g_loss: 1.1302\n",
      "Epoch [   58/  100] | d_loss: 1.3285 | g_loss: 0.8296\n",
      "Epoch [   59/  100] | d_loss: 1.2165 | g_loss: 0.9095\n",
      "Epoch [   59/  100] | d_loss: 1.2371 | g_loss: 0.9324\n",
      "Epoch [   59/  100] | d_loss: 1.4251 | g_loss: 0.9654\n",
      "Epoch [   60/  100] | d_loss: 1.2897 | g_loss: 0.9214\n",
      "Epoch [   60/  100] | d_loss: 1.1837 | g_loss: 0.9720\n",
      "Epoch [   60/  100] | d_loss: 1.3456 | g_loss: 1.1500\n",
      "Epoch [   61/  100] | d_loss: 1.4314 | g_loss: 1.0917\n",
      "Epoch [   61/  100] | d_loss: 1.2315 | g_loss: 0.8511\n",
      "Epoch [   61/  100] | d_loss: 1.2859 | g_loss: 1.1431\n",
      "Epoch [   62/  100] | d_loss: 1.3005 | g_loss: 1.2375\n",
      "Epoch [   62/  100] | d_loss: 1.2507 | g_loss: 1.0249\n",
      "Epoch [   62/  100] | d_loss: 1.4187 | g_loss: 0.9671\n",
      "Epoch [   63/  100] | d_loss: 1.3300 | g_loss: 1.1393\n",
      "Epoch [   63/  100] | d_loss: 1.1528 | g_loss: 1.1462\n",
      "Epoch [   63/  100] | d_loss: 1.2163 | g_loss: 1.0167\n",
      "Epoch [   64/  100] | d_loss: 1.2687 | g_loss: 1.0673\n",
      "Epoch [   64/  100] | d_loss: 1.3287 | g_loss: 0.9114\n",
      "Epoch [   64/  100] | d_loss: 1.2834 | g_loss: 0.9331\n",
      "Epoch [   65/  100] | d_loss: 1.1998 | g_loss: 1.0079\n",
      "Epoch [   65/  100] | d_loss: 1.2599 | g_loss: 1.0365\n",
      "Epoch [   65/  100] | d_loss: 1.3181 | g_loss: 0.9486\n",
      "Epoch [   66/  100] | d_loss: 1.3293 | g_loss: 1.0017\n",
      "Epoch [   66/  100] | d_loss: 1.2494 | g_loss: 1.1229\n",
      "Epoch [   66/  100] | d_loss: 1.2976 | g_loss: 1.0916\n",
      "Epoch [   67/  100] | d_loss: 1.3670 | g_loss: 0.8911\n",
      "Epoch [   67/  100] | d_loss: 1.2057 | g_loss: 1.1639\n",
      "Epoch [   67/  100] | d_loss: 1.3097 | g_loss: 0.9421\n",
      "Epoch [   68/  100] | d_loss: 1.2428 | g_loss: 0.9970\n",
      "Epoch [   68/  100] | d_loss: 1.2272 | g_loss: 1.1974\n",
      "Epoch [   68/  100] | d_loss: 1.4498 | g_loss: 1.2884\n",
      "Epoch [   69/  100] | d_loss: 1.3071 | g_loss: 0.8882\n",
      "Epoch [   69/  100] | d_loss: 1.2338 | g_loss: 1.3670\n",
      "Epoch [   69/  100] | d_loss: 1.2980 | g_loss: 1.1817\n",
      "Epoch [   70/  100] | d_loss: 1.2664 | g_loss: 1.1392\n",
      "Epoch [   70/  100] | d_loss: 1.2602 | g_loss: 1.0543\n",
      "Epoch [   70/  100] | d_loss: 1.3117 | g_loss: 1.0939\n",
      "Epoch [   71/  100] | d_loss: 1.3695 | g_loss: 1.0646\n",
      "Epoch [   71/  100] | d_loss: 1.3309 | g_loss: 0.9179\n",
      "Epoch [   71/  100] | d_loss: 1.2767 | g_loss: 1.2769\n",
      "Epoch [   72/  100] | d_loss: 1.3249 | g_loss: 0.9212\n",
      "Epoch [   72/  100] | d_loss: 1.2749 | g_loss: 0.9345\n",
      "Epoch [   72/  100] | d_loss: 1.3388 | g_loss: 1.0981\n",
      "Epoch [   73/  100] | d_loss: 1.2974 | g_loss: 0.8937\n",
      "Epoch [   73/  100] | d_loss: 1.2767 | g_loss: 1.0106\n",
      "Epoch [   73/  100] | d_loss: 1.2234 | g_loss: 1.0706\n",
      "Epoch [   74/  100] | d_loss: 1.3632 | g_loss: 1.2090\n",
      "Epoch [   74/  100] | d_loss: 1.2084 | g_loss: 1.0522\n",
      "Epoch [   74/  100] | d_loss: 1.2092 | g_loss: 1.2323\n",
      "Epoch [   75/  100] | d_loss: 1.3775 | g_loss: 1.0503\n",
      "Epoch [   75/  100] | d_loss: 1.2455 | g_loss: 1.0572\n",
      "Epoch [   75/  100] | d_loss: 1.3545 | g_loss: 0.9465\n",
      "Epoch [   76/  100] | d_loss: 1.2908 | g_loss: 0.8929\n",
      "Epoch [   76/  100] | d_loss: 1.2235 | g_loss: 0.9690\n",
      "Epoch [   76/  100] | d_loss: 1.4431 | g_loss: 0.9278\n",
      "Epoch [   77/  100] | d_loss: 1.2969 | g_loss: 0.9236\n",
      "Epoch [   77/  100] | d_loss: 1.2415 | g_loss: 0.9453\n",
      "Epoch [   77/  100] | d_loss: 1.2668 | g_loss: 0.9884\n",
      "Epoch [   78/  100] | d_loss: 1.2406 | g_loss: 1.1214\n",
      "Epoch [   78/  100] | d_loss: 1.2677 | g_loss: 0.9628\n",
      "Epoch [   78/  100] | d_loss: 1.3549 | g_loss: 1.1061\n",
      "Epoch [   79/  100] | d_loss: 1.2219 | g_loss: 1.0874\n",
      "Epoch [   79/  100] | d_loss: 1.2738 | g_loss: 1.1538\n",
      "Epoch [   79/  100] | d_loss: 1.3452 | g_loss: 1.0433\n",
      "Epoch [   80/  100] | d_loss: 1.1904 | g_loss: 1.2312\n",
      "Epoch [   80/  100] | d_loss: 1.2144 | g_loss: 1.0278\n",
      "Epoch [   80/  100] | d_loss: 1.3744 | g_loss: 0.9810\n",
      "Epoch [   81/  100] | d_loss: 1.3325 | g_loss: 0.9689\n",
      "Epoch [   81/  100] | d_loss: 1.2721 | g_loss: 1.0335\n",
      "Epoch [   81/  100] | d_loss: 1.2485 | g_loss: 1.0056\n",
      "Epoch [   82/  100] | d_loss: 1.2893 | g_loss: 1.0679\n",
      "Epoch [   82/  100] | d_loss: 1.2372 | g_loss: 0.9271\n",
      "Epoch [   82/  100] | d_loss: 1.3475 | g_loss: 0.9774\n",
      "Epoch [   83/  100] | d_loss: 1.2378 | g_loss: 1.0461\n",
      "Epoch [   83/  100] | d_loss: 1.2281 | g_loss: 1.0093\n",
      "Epoch [   83/  100] | d_loss: 1.2626 | g_loss: 1.0216\n",
      "Epoch [   84/  100] | d_loss: 1.2848 | g_loss: 1.0070\n",
      "Epoch [   84/  100] | d_loss: 1.2750 | g_loss: 1.0461\n",
      "Epoch [   84/  100] | d_loss: 1.3950 | g_loss: 0.8547\n",
      "Epoch [   85/  100] | d_loss: 1.2475 | g_loss: 1.0618\n",
      "Epoch [   85/  100] | d_loss: 1.1783 | g_loss: 1.1129\n",
      "Epoch [   85/  100] | d_loss: 1.3532 | g_loss: 1.2305\n",
      "Epoch [   86/  100] | d_loss: 1.2273 | g_loss: 1.1534\n",
      "Epoch [   86/  100] | d_loss: 1.2455 | g_loss: 0.9354\n",
      "Epoch [   86/  100] | d_loss: 1.3209 | g_loss: 1.1075\n",
      "Epoch [   87/  100] | d_loss: 1.3329 | g_loss: 1.0988\n",
      "Epoch [   87/  100] | d_loss: 1.2315 | g_loss: 1.0732\n",
      "Epoch [   87/  100] | d_loss: 1.4112 | g_loss: 0.8544\n",
      "Epoch [   88/  100] | d_loss: 1.3354 | g_loss: 1.0657\n",
      "Epoch [   88/  100] | d_loss: 1.2894 | g_loss: 0.9696\n",
      "Epoch [   88/  100] | d_loss: 1.2207 | g_loss: 0.9576\n",
      "Epoch [   89/  100] | d_loss: 1.3539 | g_loss: 1.2153\n",
      "Epoch [   89/  100] | d_loss: 1.2902 | g_loss: 1.0530\n",
      "Epoch [   89/  100] | d_loss: 1.3864 | g_loss: 0.8132\n",
      "Epoch [   90/  100] | d_loss: 1.3984 | g_loss: 1.0407\n",
      "Epoch [   90/  100] | d_loss: 1.3021 | g_loss: 1.0838\n",
      "Epoch [   90/  100] | d_loss: 1.3743 | g_loss: 0.9902\n",
      "Epoch [   91/  100] | d_loss: 1.2889 | g_loss: 1.1084\n",
      "Epoch [   91/  100] | d_loss: 1.2674 | g_loss: 0.8069\n",
      "Epoch [   91/  100] | d_loss: 1.3091 | g_loss: 1.1007\n",
      "Epoch [   92/  100] | d_loss: 1.3237 | g_loss: 0.8993\n",
      "Epoch [   92/  100] | d_loss: 1.2208 | g_loss: 1.0511\n",
      "Epoch [   92/  100] | d_loss: 1.2892 | g_loss: 1.0025\n",
      "Epoch [   93/  100] | d_loss: 1.2136 | g_loss: 1.0992\n",
      "Epoch [   93/  100] | d_loss: 1.2423 | g_loss: 1.1242\n",
      "Epoch [   93/  100] | d_loss: 1.2707 | g_loss: 1.1029\n",
      "Epoch [   94/  100] | d_loss: 1.1963 | g_loss: 1.0420\n",
      "Epoch [   94/  100] | d_loss: 1.2794 | g_loss: 0.9176\n",
      "Epoch [   94/  100] | d_loss: 1.2987 | g_loss: 1.0313\n",
      "Epoch [   95/  100] | d_loss: 1.3845 | g_loss: 1.0264\n",
      "Epoch [   95/  100] | d_loss: 1.2842 | g_loss: 0.9673\n",
      "Epoch [   95/  100] | d_loss: 1.4426 | g_loss: 0.9299\n",
      "Epoch [   96/  100] | d_loss: 1.3324 | g_loss: 0.9836\n",
      "Epoch [   96/  100] | d_loss: 1.2543 | g_loss: 0.9963\n",
      "Epoch [   96/  100] | d_loss: 1.3560 | g_loss: 0.9538\n",
      "Epoch [   97/  100] | d_loss: 1.1367 | g_loss: 1.1469\n",
      "Epoch [   97/  100] | d_loss: 1.2759 | g_loss: 0.8976\n",
      "Epoch [   97/  100] | d_loss: 1.3741 | g_loss: 0.9851\n",
      "Epoch [   98/  100] | d_loss: 1.2630 | g_loss: 1.0226\n",
      "Epoch [   98/  100] | d_loss: 1.2586 | g_loss: 1.0014\n",
      "Epoch [   98/  100] | d_loss: 1.2668 | g_loss: 1.0250\n",
      "Epoch [   99/  100] | d_loss: 1.2833 | g_loss: 0.9568\n",
      "Epoch [   99/  100] | d_loss: 1.3183 | g_loss: 0.8738\n",
      "Epoch [   99/  100] | d_loss: 1.3699 | g_loss: 1.0439\n",
      "Epoch [  100/  100] | d_loss: 1.2159 | g_loss: 1.1133\n",
      "Epoch [  100/  100] | d_loss: 1.2330 | g_loss: 0.9971\n",
      "Epoch [  100/  100] | d_loss: 1.4382 | g_loss: 0.8330\n"
     ]
    }
   ],
   "source": [
    "import pickle as pkl\n",
    "\n",
    "# training hyperparams\n",
    "num_epochs = 100\n",
    "\n",
    "# keep track of loss and generated, \"fake\" samples\n",
    "samples = []\n",
    "losses = []\n",
    "\n",
    "print_every = 400\n",
    "\n",
    "# Get some fixed data for sampling. These are images that are held\n",
    "# constant throughout training, and allow us to inspect the model's performance\n",
    "sample_size=16\n",
    "fixed_z = np.random.uniform(-1, 1, size=(sample_size, z_size))\n",
    "fixed_z = torch.from_numpy(fixed_z).float()\n",
    "\n",
    "# train the network\n",
    "D.train()  # set D to training mode\n",
    "G.train()  # set G to training mode\n",
    "for epoch in range(num_epochs):\n",
    "    \n",
    "    # batch loop\n",
    "    for batch_i, (real_images, _) in enumerate(train_loader):\n",
    "                \n",
    "        batch_size = real_images.size(0)\n",
    "        \n",
    "        ## Important rescaling step ## \n",
    "        real_images = real_images*2 - 1  # rescale input images from [0,1) to [-1, 1)\n",
    "        \n",
    "        # ============================================\n",
    "        #            TRAIN THE DISCRIMINATOR\n",
    "        # ============================================\n",
    "                \n",
    "        # 1. Train with real images\n",
    "\n",
    "        # Compute the discriminator losses on real images\n",
    "        # use smoothed labels\n",
    "        G_out = D(real_images)\n",
    "        real_image_loss = real_loss(G_out, smooth=True)\n",
    "        \n",
    "        # 2. Train with fake images\n",
    "        \n",
    "        # Generate fake images\n",
    "        z = np.random.uniform(-1, 1, size=(batch_size, z_size))  # latent vector from a uniform distribution with values between [-1, 1]\n",
    "        z = torch.from_numpy(z).float()  # convert to float tensor\n",
    "        fake_images = G(z)\n",
    "        \n",
    "        # Compute the discriminator losses on fake images\n",
    "        G_out = D(fake_images)\n",
    "        fake_image_loss = fake_loss(G_out)\n",
    "        \n",
    "        # add up real and fake losses and perform backprop\n",
    "        d_loss = real_image_loss + fake_image_loss\n",
    "        # backprop\n",
    "        d_optimizer.zero_grad()  # clear the gradients before calculating gradients\n",
    "        d_loss.backward()\n",
    "        d_optimizer.step()\n",
    "        \n",
    "        \n",
    "        # =========================================\n",
    "        #            TRAIN THE GENERATOR\n",
    "        # =========================================\n",
    "        \n",
    "        # 1. Train with fake images and flipped labels\n",
    "        \n",
    "        # Generate fake images\n",
    "        z = np.random.uniform(-1, 1, size=(batch_size, z_size))\n",
    "        z = torch.from_numpy(z).float()\n",
    "        fake_images = G(z)\n",
    "        \n",
    "        # Compute the discriminator losses on fake images \n",
    "        # using flipped labels!\n",
    "        D_out = D(fake_images)\n",
    "        d_fake_loss = real_loss(D_out, smooth=False)\n",
    "        \n",
    "        # perform backprop\n",
    "        g_loss = d_fake_loss\n",
    "        g_optimizer.zero_grad()\n",
    "        g_loss.backward()\n",
    "        g_optimizer.step()\n",
    "\n",
    "        # Print some loss stats\n",
    "        if batch_i % print_every == 0:\n",
    "            # print discriminator and generator loss\n",
    "            print('Epoch [{:5d}/{:5d}] | d_loss: {:6.4f} | g_loss: {:6.4f}'.format(\n",
    "                    epoch+1, num_epochs, d_loss.item(), g_loss.item()))\n",
    "\n",
    "    \n",
    "    ## AFTER EACH EPOCH##\n",
    "    # append discriminator loss and generator loss\n",
    "    losses.append((d_loss.item(), g_loss.item()))\n",
    "    \n",
    "    # generate and save sample, fake images\n",
    "    G.eval() # eval mode for generating samples\n",
    "    samples_z = G(fixed_z)\n",
    "    samples.append(samples_z)\n",
    "    G.train() # back to train mode\n",
    "\n",
    "\n",
    "# Save training generator samples\n",
    "with open('train_samples.pkl', 'wb') as f:\n",
    "    pkl.dump(samples, f)"
   ]
  },
  {
   "cell_type": "markdown",
   "metadata": {},
   "source": [
    "## Training loss\n",
    "\n",
    "Here we'll plot the training losses for the generator and discriminator, recorded after each epoch."
   ]
  },
  {
   "cell_type": "code",
   "execution_count": 63,
   "metadata": {},
   "outputs": [
    {
     "data": {
      "text/plain": [
       "<matplotlib.legend.Legend at 0x7fba3dcd07f0>"
      ]
     },
     "execution_count": 63,
     "metadata": {},
     "output_type": "execute_result"
    },
    {
     "data": {
      "image/png": "[encoded data removed]",
      "text/plain": [
       "<matplotlib.figure.Figure at 0x7fba42e03048>"
      ]
     },
     "metadata": {
      "needs_background": "light"
     },
     "output_type": "display_data"
    }
   ],
   "source": [
    "fig, ax = plt.subplots()\n",
    "losses = np.array(losses)\n",
    "plt.plot(losses.T[0], label='Discriminator')\n",
    "plt.plot(losses.T[1], label='Generator')\n",
    "plt.title(\"Training Losses\")\n",
    "plt.legend()"
   ]
  },
  {
   "cell_type": "markdown",
   "metadata": {},
   "source": [
    "## Generator samples from training\n",
    "\n",
    "Here we can view samples of images from the generator. First we'll look at the images we saved during training."
   ]
  },
  {
   "cell_type": "code",
   "execution_count": 64,
   "metadata": {},
   "outputs": [],
   "source": [
    "# helper function for viewing a list of passed in sample images\n",
    "def view_samples(epoch, samples):\n",
    "    fig, axes = plt.subplots(figsize=(7,7), nrows=4, ncols=4, sharey=True, sharex=True)\n",
    "    for ax, img in zip(axes.flatten(), samples[epoch]):\n",
    "        img = img.detach()\n",
    "        ax.xaxis.set_visible(False)\n",
    "        ax.yaxis.set_visible(False)\n",
    "        im = ax.imshow(img.reshape((28,28)), cmap='Greys_r')"
   ]
  },
  {
   "cell_type": "code",
   "execution_count": 65,
   "metadata": {},
   "outputs": [],
   "source": [
    "# Load samples from generator, taken while training\n",
    "with open('train_samples.pkl', 'rb') as f:\n",
    "    samples = pkl.load(f)"
   ]
  },
  {
   "cell_type": "markdown",
   "metadata": {},
   "source": [
    "These are samples from the final training epoch. You can see the generator is able to reproduce numbers like 1, 7, 3, 2. Since this is just a sample, it isn't representative of the full range of images this generator can make."
   ]
  },
  {
   "cell_type": "code",
   "execution_count": 66,
   "metadata": {},
   "outputs": [
    {
     "data": {
      "image/png": "[encoded data removed]",
      "text/plain": [
       "<matplotlib.figure.Figure at 0x7fba47c52668>"
      ]
     },
     "metadata": {
      "needs_background": "light"
     },
     "output_type": "display_data"
    }
   ],
   "source": [
    "# -1 indicates final epoch's samples (the last in the list)\n",
    "view_samples(-1, samples)"
   ]
  },
  {
   "cell_type": "markdown",
   "metadata": {},
   "source": [
    "Below I'm showing the generated images as the network was training, every 10 epochs."
   ]
  },
  {
   "cell_type": "code",
   "execution_count": 67,
   "metadata": {},
   "outputs": [
    {
     "data": {
      "image/png": "[encoded data removed]",
      "text/plain": [
       "<matplotlib.figure.Figure at 0x7fba3e335780>"
      ]
     },
     "metadata": {
      "needs_background": "light"
     },
     "output_type": "display_data"
    }
   ],
   "source": [
    "rows = 10 # split epochs into 10, so 100/10 = every 10 epochs\n",
    "cols = 6\n",
    "fig, axes = plt.subplots(figsize=(7,12), nrows=rows, ncols=cols, sharex=True, sharey=True)\n",
    "\n",
    "for sample, ax_row in zip(samples[::int(len(samples)/rows)], axes):\n",
    "    for img, ax in zip(sample[::int(len(sample)/cols)], ax_row):\n",
    "        img = img.detach()\n",
    "        ax.imshow(img.reshape((28,28)), cmap='Greys_r')\n",
    "        ax.xaxis.set_visible(False)\n",
    "        ax.yaxis.set_visible(False)"
   ]
  },
  {
   "cell_type": "markdown",
   "metadata": {},
   "source": [
    "It starts out as all noise. Then it learns to make only the center white and the rest black. You can start to see some number like structures appear out of the noise like 1s and 9s."
   ]
  },
  {
   "cell_type": "markdown",
   "metadata": {},
   "source": [
    "## Sampling from the generator\n",
    "\n",
    "We can also get completely new images from the generator by using the checkpoint we saved after training. **We just need to pass in a new latent vector $z$ and we'll get new samples**!"
   ]
  },
  {
   "cell_type": "code",
   "execution_count": 68,
   "metadata": {},
   "outputs": [
    {
     "data": {
      "image/png": "[encoded data removed]",
      "text/plain": [
       "<matplotlib.figure.Figure at 0x7fba3d767dd8>"
      ]
     },
     "metadata": {
      "needs_background": "light"
     },
     "output_type": "display_data"
    }
   ],
   "source": [
    "# randomly generated, new latent vectors\n",
    "sample_size=16\n",
    "rand_z = np.random.uniform(-1, 1, size=(sample_size, z_size))\n",
    "rand_z = torch.from_numpy(rand_z).float()\n",
    "\n",
    "G.eval() # eval mode\n",
    "# generated samples\n",
    "rand_images = G(rand_z)\n",
    "\n",
    "# 0 indicates the first set of samples in the passed in list\n",
    "# and we only have one batch of samples, here\n",
    "view_samples(0, [rand_images])"
   ]
  },
  {
   "cell_type": "code",
   "execution_count": null,
   "metadata": {},
   "outputs": [],
   "source": []
  }
 ],
 "metadata": {
  "kernelspec": {
   "display_name": "Python 3",
   "language": "python",
   "name": "python3"
  },
  "language_info": {
   "codemirror_mode": {
    "name": "ipython",
    "version": 3
   },
   "file_extension": ".py",
   "mimetype": "text/x-python",
   "name": "python",
   "nbconvert_exporter": "python",
   "pygments_lexer": "ipython3",
   "version": "3.7.7"
  }
 },
 "nbformat": 4,
 "nbformat_minor": 2
}
