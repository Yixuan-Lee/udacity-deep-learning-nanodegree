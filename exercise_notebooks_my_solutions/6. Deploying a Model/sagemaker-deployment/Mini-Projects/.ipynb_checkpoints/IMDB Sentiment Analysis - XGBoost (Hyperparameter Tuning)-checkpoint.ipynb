{
 "cells": [
  {
   "cell_type": "markdown",
   "metadata": {},
   "source": [
    "# Sentiment Analysis\n",
    "\n",
    "## Using XGBoost in SageMaker\n",
    "\n",
    "_Deep Learning Nanodegree Program | Deployment_\n",
    "\n",
    "---\n",
    "\n",
    "In this example of using Amazon's SageMaker service we will construct a random tree model to predict the sentiment of a movie review. You may have seen a version of this example in a pervious lesson although it would have been done using the sklearn package. Instead, we will be using the XGBoost package as it is provided to us by Amazon.\n",
    "\n",
    "## Instructions\n",
    "\n",
    "Some template code has already been provided for you, and you will need to implement additional functionality to successfully complete this notebook. You will not need to modify the included code beyond what is requested. Sections that begin with '**TODO**' in the header indicate that you need to complete or implement some portion within them. Instructions will be provided for each section and the specifics of the implementation are marked in the code block with a `# TODO: ...` comment. Please be sure to read the instructions carefully!\n",
    "\n",
    "In addition to implementing code, there will be questions for you to answer which relate to the task and your implementation. Each section where you will answer a question is preceded by a '**Question:**' header. Carefully read each question and provide your answer below the '**Answer:**' header by editing the Markdown cell.\n",
    "\n",
    "> **Note**: Code and Markdown cells can be executed using the **Shift+Enter** keyboard shortcut. In addition, a cell can be edited by typically clicking it (double-click for Markdown cells) or by pressing **Enter** while it is highlighted."
   ]
  },
  {
   "cell_type": "markdown",
   "metadata": {},
   "source": [
    "## Step 1: Downloading the data\n",
    "\n",
    "The dataset we are going to use is very popular among researchers in Natural Language Processing, usually referred to as the [IMDb dataset](http://ai.stanford.edu/~amaas/data/sentiment/). It consists of movie reviews from the website [imdb.com](http://www.imdb.com/), each labeled as either '**pos**itive', if the reviewer enjoyed the film, or '**neg**ative' otherwise.\n",
    "\n",
    "> Maas, Andrew L., et al. [Learning Word Vectors for Sentiment Analysis](http://ai.stanford.edu/~amaas/data/sentiment/). In _Proceedings of the 49th Annual Meeting of the Association for Computational Linguistics: Human Language Technologies_. Association for Computational Linguistics, 2011.\n",
    "\n",
    "We begin by using some Jupyter Notebook magic to download and extract the dataset."
   ]
  },
  {
   "cell_type": "code",
   "execution_count": 1,
   "metadata": {},
   "outputs": [
    {
     "name": "stdout",
     "output_type": "stream",
     "text": [
      "mkdir: cannot create directory ‘../data’: File exists\n",
      "--2020-05-26 01:52:47--  http://ai.stanford.edu/~amaas/data/sentiment/aclImdb_v1.tar.gz\n",
      "Resolving ai.stanford.edu (ai.stanford.edu)... 171.64.68.10\n",
      "Connecting to ai.stanford.edu (ai.stanford.edu)|171.64.68.10|:80... connected.\n",
      "HTTP request sent, awaiting response... 200 OK\n",
      "Length: 84125825 (80M) [application/x-gzip]\n",
      "Saving to: ‘../data/aclImdb_v1.tar.gz’\n",
      "\n",
      "../data/aclImdb_v1. 100%[===================>]  80.23M  23.9MB/s    in 4.1s    \n",
      "\n",
      "2020-05-26 01:52:51 (19.5 MB/s) - ‘../data/aclImdb_v1.tar.gz’ saved [84125825/84125825]\n",
      "\n"
     ]
    }
   ],
   "source": [
    "%mkdir ../data\n",
    "!wget -O ../data/aclImdb_v1.tar.gz http://ai.stanford.edu/~amaas/data/sentiment/aclImdb_v1.tar.gz\n",
    "!tar -zxf ../data/aclImdb_v1.tar.gz -C ../data"
   ]
  },
  {
   "cell_type": "markdown",
   "metadata": {},
   "source": [
    "## Step 2: Preparing the data\n",
    "\n",
    "The data we have downloaded is split into various files, each of which contains a single review. It will be much easier going forward if we combine these individual files into two large files, one for training and one for testing."
   ]
  },
  {
   "cell_type": "code",
   "execution_count": 2,
   "metadata": {},
   "outputs": [],
   "source": [
    "import os\n",
    "import glob\n",
    "\n",
    "def read_imdb_data(data_dir='../data/aclImdb'):\n",
    "    data = {}\n",
    "    labels = {}\n",
    "    \n",
    "    for data_type in ['train', 'test']:\n",
    "        data[data_type] = {}\n",
    "        labels[data_type] = {}\n",
    "        \n",
    "        for sentiment in ['pos', 'neg']:\n",
    "            data[data_type][sentiment] = []\n",
    "            labels[data_type][sentiment] = []\n",
    "            \n",
    "            path = os.path.join(data_dir, data_type, sentiment, '*.txt')\n",
    "            files = glob.glob(path)\n",
    "            \n",
    "            for f in files:\n",
    "                with open(f) as review:\n",
    "                    data[data_type][sentiment].append(review.read())\n",
    "                    # Here we represent a positive review by '1' and a negative review by '0'\n",
    "                    labels[data_type][sentiment].append(1 if sentiment == 'pos' else 0)\n",
    "                    \n",
    "            assert len(data[data_type][sentiment]) == len(labels[data_type][sentiment]), \\\n",
    "                    \"{}/{} data size does not match labels size\".format(data_type, sentiment)\n",
    "                \n",
    "    return data, labels"
   ]
  },
  {
   "cell_type": "code",
   "execution_count": 3,
   "metadata": {},
   "outputs": [
    {
     "name": "stdout",
     "output_type": "stream",
     "text": [
      "IMDB reviews: train = 12500 pos / 12500 neg, test = 12500 pos / 12500 neg\n"
     ]
    }
   ],
   "source": [
    "data, labels = read_imdb_data()\n",
    "print(\"IMDB reviews: train = {} pos / {} neg, test = {} pos / {} neg\".format(\n",
    "            len(data['train']['pos']), len(data['train']['neg']),\n",
    "            len(data['test']['pos']), len(data['test']['neg'])))"
   ]
  },
  {
   "cell_type": "code",
   "execution_count": 4,
   "metadata": {},
   "outputs": [],
   "source": [
    "from sklearn.utils import shuffle\n",
    "\n",
    "def prepare_imdb_data(data, labels):\n",
    "    \"\"\"Prepare training and test sets from IMDb movie reviews.\"\"\"\n",
    "    \n",
    "    #Combine positive and negative reviews and labels\n",
    "    data_train = data['train']['pos'] + data['train']['neg']\n",
    "    data_test = data['test']['pos'] + data['test']['neg']\n",
    "    labels_train = labels['train']['pos'] + labels['train']['neg']\n",
    "    labels_test = labels['test']['pos'] + labels['test']['neg']\n",
    "    \n",
    "    #Shuffle reviews and corresponding labels within training and test sets\n",
    "    data_train, labels_train = shuffle(data_train, labels_train)\n",
    "    data_test, labels_test = shuffle(data_test, labels_test)\n",
    "    \n",
    "    # Return a unified training data, test data, training labels, test labets\n",
    "    return data_train, data_test, labels_train, labels_test"
   ]
  },
  {
   "cell_type": "code",
   "execution_count": 5,
   "metadata": {},
   "outputs": [
    {
     "name": "stdout",
     "output_type": "stream",
     "text": [
      "IMDb reviews (combined): train = 25000, test = 25000\n"
     ]
    }
   ],
   "source": [
    "train_X, test_X, train_y, test_y = prepare_imdb_data(data, labels)\n",
    "print(\"IMDb reviews (combined): train = {}, test = {}\".format(len(train_X), len(test_X)))"
   ]
  },
  {
   "cell_type": "code",
   "execution_count": 6,
   "metadata": {},
   "outputs": [
    {
     "data": {
      "text/plain": [
       "\"I don't know what it is about this movie- director Sam Mraovich somehow messed up just about every little aspect in this movie. I would normally say that this is a movie that should not exist, but this movie may be the most important of all time. This movie should exist for the sole purpose of being without a doubt 'The Worst Movie Ever Made'. I've seen bad movies in my lifetime, but this somehow breaks what I considered bad into something much more hard to imagine.<br /><br />Everything in this movie is hilarious, but the single funniest thing is that Mraovich himself considers this to be a great movie.<br /><br />Oh wow...\""
      ]
     },
     "execution_count": 6,
     "metadata": {},
     "output_type": "execute_result"
    }
   ],
   "source": [
    "train_X[100]"
   ]
  },
  {
   "cell_type": "markdown",
   "metadata": {},
   "source": [
    "## Step 3: Processing the data\n",
    "\n",
    "Now that we have our training and testing datasets merged and ready to use, we need to start processing the raw data into something that will be useable by our machine learning algorithm. To begin with, we remove any html formatting that may appear in the reviews and perform some standard natural language processing in order to homogenize the data."
   ]
  },
  {
   "cell_type": "code",
   "execution_count": 7,
   "metadata": {},
   "outputs": [
    {
     "name": "stdout",
     "output_type": "stream",
     "text": [
      "[nltk_data] Downloading package stopwords to\n",
      "[nltk_data]     /home/ec2-user/nltk_data...\n",
      "[nltk_data]   Unzipping corpora/stopwords.zip.\n"
     ]
    }
   ],
   "source": [
    "import nltk\n",
    "nltk.download(\"stopwords\")\n",
    "from nltk.corpus import stopwords\n",
    "from nltk.stem.porter import *\n",
    "stemmer = PorterStemmer()"
   ]
  },
  {
   "cell_type": "code",
   "execution_count": 8,
   "metadata": {},
   "outputs": [],
   "source": [
    "import re\n",
    "from bs4 import BeautifulSoup\n",
    "\n",
    "def review_to_words(review):\n",
    "    text = BeautifulSoup(review, \"html.parser\").get_text() # Remove HTML tags\n",
    "    text = re.sub(r\"[^a-zA-Z0-9]\", \" \", text.lower()) # Convert to lower case\n",
    "    words = text.split() # Split string into words\n",
    "    words = [w for w in words if w not in stopwords.words(\"english\")] # Remove stopwords\n",
    "    words = [PorterStemmer().stem(w) for w in words] # stem\n",
    "    \n",
    "    return words"
   ]
  },
  {
   "cell_type": "code",
   "execution_count": 9,
   "metadata": {},
   "outputs": [],
   "source": [
    "import pickle\n",
    "\n",
    "cache_dir = os.path.join(\"../cache\", \"sentiment_analysis\")  # where to store cache files\n",
    "os.makedirs(cache_dir, exist_ok=True)  # ensure cache directory exists\n",
    "\n",
    "def preprocess_data(data_train, data_test, labels_train, labels_test,\n",
    "                    cache_dir=cache_dir, cache_file=\"preprocessed_data.pkl\"):\n",
    "    \"\"\"Convert each review to words; read from cache if available.\"\"\"\n",
    "\n",
    "    # If cache_file is not None, try to read from it first\n",
    "    cache_data = None\n",
    "    if cache_file is not None:\n",
    "        try:\n",
    "            with open(os.path.join(cache_dir, cache_file), \"rb\") as f:\n",
    "                cache_data = pickle.load(f)\n",
    "            print(\"Read preprocessed data from cache file:\", cache_file)\n",
    "        except:\n",
    "            pass  # unable to read from cache, but that's okay\n",
    "    \n",
    "    # If cache is missing, then do the heavy lifting\n",
    "    if cache_data is None:\n",
    "        # Preprocess training and test data to obtain words for each review\n",
    "        #words_train = list(map(review_to_words, data_train))\n",
    "        #words_test = list(map(review_to_words, data_test))\n",
    "        words_train = [review_to_words(review) for review in data_train]\n",
    "        words_test = [review_to_words(review) for review in data_test]\n",
    "        \n",
    "        # Write to cache file for future runs\n",
    "        if cache_file is not None:\n",
    "            cache_data = dict(words_train=words_train, words_test=words_test,\n",
    "                              labels_train=labels_train, labels_test=labels_test)\n",
    "            with open(os.path.join(cache_dir, cache_file), \"wb\") as f:\n",
    "                pickle.dump(cache_data, f)\n",
    "            print(\"Wrote preprocessed data to cache file:\", cache_file)\n",
    "    else:\n",
    "        # Unpack data loaded from cache file\n",
    "        words_train, words_test, labels_train, labels_test = (cache_data['words_train'],\n",
    "                cache_data['words_test'], cache_data['labels_train'], cache_data['labels_test'])\n",
    "    \n",
    "    return words_train, words_test, labels_train, labels_test"
   ]
  },
  {
   "cell_type": "code",
   "execution_count": 37,
   "metadata": {},
   "outputs": [
    {
     "name": "stdout",
     "output_type": "stream",
     "text": [
      "Read preprocessed data from cache file: preprocessed_data.pkl\n"
     ]
    }
   ],
   "source": [
    "# Preprocess data\n",
    "train_X, test_X, train_y, test_y = preprocess_data(train_X, test_X, train_y, test_y)"
   ]
  },
  {
   "cell_type": "markdown",
   "metadata": {},
   "source": [
    "### Extract Bag-of-Words features\n",
    "\n",
    "For the model we will be implementing, rather than using the reviews directly, we are going to transform each review into a Bag-of-Words feature representation. Keep in mind that 'in the wild' we will only have access to the training set so our transformer can only use the training set to construct a representation."
   ]
  },
  {
   "cell_type": "code",
   "execution_count": 11,
   "metadata": {},
   "outputs": [],
   "source": [
    "import numpy as np\n",
    "from sklearn.feature_extraction.text import CountVectorizer\n",
    "from sklearn.externals import joblib\n",
    "# joblib is an enhanced version of pickle that is more efficient for storing NumPy arrays\n",
    "\n",
    "def extract_BoW_features(words_train, words_test, vocabulary_size=5000,\n",
    "                         cache_dir=cache_dir, cache_file=\"bow_features.pkl\"):\n",
    "    \"\"\"Extract Bag-of-Words for a given set of documents, already preprocessed into words.\"\"\"\n",
    "    \n",
    "    # If cache_file is not None, try to read from it first\n",
    "    cache_data = None\n",
    "    if cache_file is not None:\n",
    "        try:\n",
    "            with open(os.path.join(cache_dir, cache_file), \"rb\") as f:\n",
    "                cache_data = joblib.load(f)\n",
    "            print(\"Read features from cache file:\", cache_file)\n",
    "        except:\n",
    "            pass  # unable to read from cache, but that's okay\n",
    "    \n",
    "    # If cache is missing, then do the heavy lifting\n",
    "    if cache_data is None:\n",
    "        # Fit a vectorizer to training documents and use it to transform them\n",
    "        # NOTE: Training documents have already been preprocessed and tokenized into words;\n",
    "        #       pass in dummy functions to skip those steps, e.g. preprocessor=lambda x: x\n",
    "        vectorizer = CountVectorizer(max_features=vocabulary_size,\n",
    "                preprocessor=lambda x: x, tokenizer=lambda x: x)  # already preprocessed\n",
    "        features_train = vectorizer.fit_transform(words_train).toarray()\n",
    "\n",
    "        # Apply the same vectorizer to transform the test documents (ignore unknown words)\n",
    "        features_test = vectorizer.transform(words_test).toarray()\n",
    "        \n",
    "        # NOTE: Remember to convert the features using .toarray() for a compact representation\n",
    "        \n",
    "        # Write to cache file for future runs (store vocabulary as well)\n",
    "        if cache_file is not None:\n",
    "            vocabulary = vectorizer.vocabulary_\n",
    "            cache_data = dict(features_train=features_train, features_test=features_test,\n",
    "                             vocabulary=vocabulary)\n",
    "            with open(os.path.join(cache_dir, cache_file), \"wb\") as f:\n",
    "                joblib.dump(cache_data, f)\n",
    "            print(\"Wrote features to cache file:\", cache_file)\n",
    "    else:\n",
    "        # Unpack data loaded from cache file\n",
    "        features_train, features_test, vocabulary = (cache_data['features_train'],\n",
    "                cache_data['features_test'], cache_data['vocabulary'])\n",
    "    \n",
    "    # Return both the extracted features as well as the vocabulary\n",
    "    return features_train, features_test, vocabulary"
   ]
  },
  {
   "cell_type": "code",
   "execution_count": 35,
   "metadata": {},
   "outputs": [
    {
     "name": "stdout",
     "output_type": "stream",
     "text": [
      "Read features from cache file: bow_features.pkl\n"
     ]
    }
   ],
   "source": [
    "# Extract Bag of Words features for both training and test datasets\n",
    "train_X, test_X, vocabulary = extract_BoW_features(train_X, test_X)"
   ]
  },
  {
   "cell_type": "markdown",
   "metadata": {},
   "source": [
    "## Step 4: Classification using XGBoost\n",
    "\n",
    "Now that we have created the feature representation of our training (and testing) data, it is time to start setting up and using the XGBoost classifier provided by SageMaker.\n",
    "\n",
    "### Writing the dataset\n",
    "\n",
    "The XGBoost classifier that we will be using requires the dataset to be written to a file and stored using Amazon S3. To do this, we will start by splitting the training dataset into two parts, the data we will train the model with and a validation set. Then, we will write those datasets to a file and upload the files to S3. In addition, we will write the test set input to a file and upload the file to S3. This is so that we can use SageMakers Batch Transform functionality to test our model once we've fit it."
   ]
  },
  {
   "cell_type": "code",
   "execution_count": 38,
   "metadata": {},
   "outputs": [],
   "source": [
    "import pandas as pd\n",
    "\n",
    "val_X = pd.DataFrame(train_X[:10000])\n",
    "train_X = pd.DataFrame(train_X[10000:])\n",
    "\n",
    "val_y = pd.DataFrame(train_y[:10000])\n",
    "train_y = pd.DataFrame(train_y[10000:])\n",
    "\n",
    "test_y = pd.DataFrame(test_y)\n",
    "test_X = pd.DataFrame(test_X)"
   ]
  },
  {
   "cell_type": "markdown",
   "metadata": {},
   "source": [
    "The documentation for the XGBoost algorithm in SageMaker requires that the saved datasets should contain no headers or index and that for the training and validation data, the label should occur first for each sample.\n",
    "\n",
    "For more information about this and other algorithms, the SageMaker developer documentation can be found on __[Amazon's website.](https://docs.aws.amazon.com/sagemaker/latest/dg/)__"
   ]
  },
  {
   "cell_type": "code",
   "execution_count": 39,
   "metadata": {},
   "outputs": [],
   "source": [
    "# First we make sure that the local directory in which we'd like to store the training and validation csv files exists.\n",
    "data_dir = '../data/xgboost'\n",
    "if not os.path.exists(data_dir):\n",
    "    os.makedirs(data_dir)"
   ]
  },
  {
   "cell_type": "code",
   "execution_count": 40,
   "metadata": {},
   "outputs": [],
   "source": [
    "# First, save the test data to test.csv in the data_dir directory. Note that we do not save the associated ground truth\n",
    "# labels, instead we will use them later to compare with our model output.\n",
    "\n",
    "# Lecture Note: fix this bug\n",
    "# pd.concat([test_y, test_X], axis=1).to_csv(os.path.join(data_dir, 'test.csv'), header=False, index=False)\n",
    "pd.DataFrame(test_X).to_csv(os.path.join(data_dir, 'test.csv'), header=False, index=False)\n",
    "\n",
    "pd.concat([val_y, val_X], axis=1).to_csv(os.path.join(data_dir, 'validation.csv'), header=False, index=False)\n",
    "pd.concat([train_y, train_X], axis=1).to_csv(os.path.join(data_dir, 'train.csv'), header=False, index=False)"
   ]
  },
  {
   "cell_type": "code",
   "execution_count": 16,
   "metadata": {},
   "outputs": [],
   "source": [
    "# To save a bit of memory we can set text_X, train_X, val_X, train_y and val_y to None.\n",
    "\n",
    "train_X = val_X = train_y = val_y = None"
   ]
  },
  {
   "cell_type": "markdown",
   "metadata": {},
   "source": [
    "### Uploading Training / Validation files to S3\n",
    "\n",
    "Amazon's S3 service allows us to store files that can be access by both the built-in training models such as the XGBoost model we will be using as well as custom models such as the one we will see a little later.\n",
    "\n",
    "For this, and most other tasks we will be doing using SageMaker, there are two methods we could use. The first is to use the low level functionality of SageMaker which requires knowing each of the objects involved in the SageMaker environment. The second is to use the high level functionality in which certain choices have been made on the user's behalf. The low level approach benefits from allowing the user a great deal of flexibility while the high level approach makes development much quicker. For our purposes we will opt to use the high level approach although using the low-level approach is certainly an option.\n",
    "\n",
    "Recall the method `upload_data()` which is a member of object representing our current SageMaker session. What this method does is upload the data to the default bucket (which is created if it does not exist) into the path described by the key_prefix variable. To see this for yourself, once you have uploaded the data files, go to the S3 console and look to see where the files have been uploaded.\n",
    "\n",
    "For additional resources, see the __[SageMaker API documentation](http://sagemaker.readthedocs.io/en/latest/)__ and in addition the __[SageMaker Developer Guide.](https://docs.aws.amazon.com/sagemaker/latest/dg/)__"
   ]
  },
  {
   "cell_type": "code",
   "execution_count": 41,
   "metadata": {},
   "outputs": [],
   "source": [
    "import sagemaker\n",
    "\n",
    "session = sagemaker.Session() # Store the current SageMaker session\n",
    "\n",
    "# S3 prefix (which folder will we use)\n",
    "prefix = 'sentiment-xgboost'\n",
    "\n",
    "test_location = session.upload_data(os.path.join(data_dir, 'test.csv'), key_prefix=prefix)\n",
    "val_location = session.upload_data(os.path.join(data_dir, 'validation.csv'), key_prefix=prefix)\n",
    "train_location = session.upload_data(os.path.join(data_dir, 'train.csv'), key_prefix=prefix)"
   ]
  },
  {
   "cell_type": "markdown",
   "metadata": {},
   "source": [
    "### (TODO) Creating a hypertuned XGBoost model\n",
    "\n",
    "Now that the data has been uploaded it is time to create the XGBoost model. As in the Boston Housing notebook, the first step is to create an estimator object which will be used as the *base* of your hyperparameter tuning job."
   ]
  },
  {
   "cell_type": "code",
   "execution_count": 18,
   "metadata": {},
   "outputs": [],
   "source": [
    "from sagemaker import get_execution_role\n",
    "\n",
    "# Our current execution role is require when creating the model as the training\n",
    "# and inference code will need to access the model artifacts.\n",
    "role = get_execution_role()"
   ]
  },
  {
   "cell_type": "code",
   "execution_count": 19,
   "metadata": {},
   "outputs": [
    {
     "name": "stderr",
     "output_type": "stream",
     "text": [
      "WARNING:root:There is a more up to date SageMaker XGBoost image. To use the newer image, please set 'repo_version'='0.90-1'. For example:\n",
      "\tget_image_uri(region, 'xgboost', '0.90-1').\n"
     ]
    }
   ],
   "source": [
    "# We need to retrieve the location of the container which is provided by Amazon for using XGBoost.\n",
    "# As a matter of convenience, the training and inference code both use the same container.\n",
    "from sagemaker.amazon.amazon_estimator import get_image_uri\n",
    "\n",
    "container = get_image_uri(session.boto_region_name, 'xgboost')"
   ]
  },
  {
   "cell_type": "code",
   "execution_count": 20,
   "metadata": {},
   "outputs": [],
   "source": [
    "# TODO: Create a SageMaker estimator using the container location determined in the previous cell.\n",
    "#       It is recommended that you use a single training instance of type ml.m4.xlarge. It is also\n",
    "#       recommended that you use 's3://{}/{}/output'.format(session.default_bucket(), prefix) as the\n",
    "#       output path.\n",
    "\n",
    "xgb = sagemaker.estimator.Estimator(container, # The name of the training container\n",
    "                                    role,      # The IAM role to use (our current role in this case)\n",
    "                                    train_instance_count=1, # The number of instances to use for training\n",
    "                                    train_instance_type='ml.m4.xlarge', # The type of instance ot use for training\n",
    "                                    output_path='s3://{}/{}/output'.format(session.default_bucket(), prefix),\n",
    "                                                                        # Where to save the output (the model artifacts)\n",
    "                                    sagemaker_session=session) # The current SageMaker session\n",
    "\n",
    "# TODO: Set the XGBoost hyperparameters in the xgb object. Don't forget that in this case we have a binary\n",
    "#       label so we should be using the 'binary:logistic' objective.\n",
    "xgb.set_hyperparameters(max_depth=5,\n",
    "                        eta=0.2,\n",
    "                        gamma=4,\n",
    "                        min_child_weight=6,\n",
    "                        subsample=0.8,\n",
    "                        objective='binary:logistic',\n",
    "                        early_stopping_rounds=10,\n",
    "                        num_round=200)"
   ]
  },
  {
   "cell_type": "markdown",
   "metadata": {},
   "source": [
    "### (TODO) Create the hyperparameter tuner\n",
    "\n",
    "Now that the base estimator has been set up we need to construct a hyperparameter tuner object which we will use to request SageMaker construct a hyperparameter tuning job.\n",
    "\n",
    "**Note:** Training a single sentiment analysis XGBoost model takes longer than training a Boston Housing XGBoost model so if you don't want the hyperparameter tuning job to take too long, make sure to not set the total number of models (jobs) too high."
   ]
  },
  {
   "cell_type": "code",
   "execution_count": 21,
   "metadata": {},
   "outputs": [],
   "source": [
    "# First, make sure to import the relevant objects used to construct the tuner\n",
    "from sagemaker.tuner import IntegerParameter, ContinuousParameter, HyperparameterTuner\n",
    "\n",
    "# TODO: Create the hyperparameter tuner object\n",
    "\n",
    "xgb_hyperparameter_tuner = HyperparameterTuner(estimator = xgb, # The estimator object to use as the basis for the training jobs.\n",
    "                                               objective_metric_name = 'validation:rmse', # The metric used to compare trained models.\n",
    "                                               objective_type = 'Minimize', # Whether we wish to minimize or maximize the metric.\n",
    "                                               max_jobs = 20, # The total number of models to train\n",
    "                                               max_parallel_jobs = 3, # The number of models to train in parallel\n",
    "                                               hyperparameter_ranges = {  # different ranges of hyper-parameters\n",
    "                                                    'max_depth': IntegerParameter(3, 12),\n",
    "                                                    'eta'      : ContinuousParameter(0.05, 0.5),\n",
    "                                                    'min_child_weight': IntegerParameter(2, 8),\n",
    "                                                    'subsample': ContinuousParameter(0.5, 0.9),\n",
    "                                                    'gamma': ContinuousParameter(0, 10),\n",
    "                                               })\n"
   ]
  },
  {
   "cell_type": "markdown",
   "metadata": {},
   "source": [
    "### Fit the hyperparameter tuner\n",
    "\n",
    "Now that the hyperparameter tuner object has been constructed, it is time to fit the various models and find the best performing model."
   ]
  },
  {
   "cell_type": "code",
   "execution_count": 22,
   "metadata": {},
   "outputs": [],
   "source": [
    "s3_input_train = sagemaker.s3_input(s3_data=train_location, content_type='csv')\n",
    "s3_input_validation = sagemaker.s3_input(s3_data=val_location, content_type='csv')"
   ]
  },
  {
   "cell_type": "code",
   "execution_count": 24,
   "metadata": {},
   "outputs": [],
   "source": [
    "xgb_hyperparameter_tuner.fit({'train': s3_input_train, 'validation': s3_input_validation})"
   ]
  },
  {
   "cell_type": "markdown",
   "metadata": {},
   "source": [
    "Remember that the tuning job is constructed and run in the background so if we want to see the progress of our training job we need to call the `wait()` method."
   ]
  },
  {
   "cell_type": "code",
   "execution_count": 25,
   "metadata": {},
   "outputs": [
    {
     "name": "stdout",
     "output_type": "stream",
     "text": [
      "..........................................................................................................................................................................................................................................................................................................................................................................................................................................................................................................................................................................................................................................................................................................................................................................................................................................................................................................................................................................................................!\n"
     ]
    }
   ],
   "source": [
    "xgb_hyperparameter_tuner.wait()"
   ]
  },
  {
   "cell_type": "markdown",
   "metadata": {},
   "source": [
    "*This cell is to save the process*\n",
    "\n",
    ".\n",
    "..\n",
    "...\n",
    "....\n",
    ".....\n",
    "......\n",
    ".......\n",
    "........\n",
    ".........\n",
    "..........\n",
    "...........\n",
    "............\n",
    ".............\n",
    "..............\n",
    "...............\n"
   ]
  },
  {
   "cell_type": "code",
   "execution_count": 26,
   "metadata": {},
   "outputs": [
    {
     "data": {
      "text/plain": [
       "'xgboost-200526-0208-003-57417e8e'"
      ]
     },
     "execution_count": 26,
     "metadata": {},
     "output_type": "execute_result"
    }
   ],
   "source": [
    "# view the best model name\n",
    "xgb_hyperparameter_tuner.best_training_job()"
   ]
  },
  {
   "cell_type": "markdown",
   "metadata": {},
   "source": [
    "### (TODO) Testing the model\n",
    "\n",
    "Now that we've run our hyperparameter tuning job, it's time to see how well the best performing model actually performs. To do this we will use SageMaker's Batch Transform functionality. Batch Transform is a convenient way to perform inference on a large dataset in a way that is not realtime. That is, we don't necessarily need to use our model's results immediately and instead we can peform inference on a large number of samples. An example of this in industry might be peforming an end of month report. This method of inference can also be useful to us as it means to can perform inference on our entire test set. \n",
    "\n",
    "Remember that in order to create a transformer object to perform the batch transform job, we need a trained estimator object. We can do that using the `attach()` method, creating an estimator object which is attached to the best trained job."
   ]
  },
  {
   "cell_type": "code",
   "execution_count": 42,
   "metadata": {},
   "outputs": [
    {
     "name": "stdout",
     "output_type": "stream",
     "text": [
      "2020-05-26 02:22:44 Starting - Preparing the instances for training\n",
      "2020-05-26 02:22:44 Downloading - Downloading input data\n",
      "2020-05-26 02:22:44 Training - Training image download completed. Training in progress.\n",
      "2020-05-26 02:22:44 Uploading - Uploading generated training model\n",
      "2020-05-26 02:22:44 Completed - Training job completed\u001b[34mArguments: train\u001b[0m\n",
      "\u001b[34m[2020-05-26:02:11:46:INFO] Running standalone xgboost training.\u001b[0m\n",
      "\u001b[34m[2020-05-26:02:11:46:INFO] Setting up HPO optimized metric to be : rmse\u001b[0m\n",
      "\u001b[34m[2020-05-26:02:11:46:INFO] File size need to be processed in the node: 238.47mb. Available memory size in the node: 8469.79mb\u001b[0m\n",
      "\u001b[34m[2020-05-26:02:11:46:INFO] Determined delimiter of CSV input is ','\u001b[0m\n",
      "\u001b[34m[02:11:46] S3DistributionType set as FullyReplicated\u001b[0m\n",
      "\u001b[34m[02:11:47] 15000x5000 matrix with 75000000 entries loaded from /opt/ml/input/data/train?format=csv&label_column=0&delimiter=,\u001b[0m\n",
      "\u001b[34m[2020-05-26:02:11:47:INFO] Determined delimiter of CSV input is ','\u001b[0m\n",
      "\u001b[34m[02:11:47] S3DistributionType set as FullyReplicated\u001b[0m\n",
      "\u001b[34m[02:11:48] 10000x5000 matrix with 50000000 entries loaded from /opt/ml/input/data/validation?format=csv&label_column=0&delimiter=,\u001b[0m\n",
      "\u001b[34m[02:11:54] src/tree/updater_prune.cc:74: tree pruning end, 1 roots, 196 extra nodes, 42 pruned nodes, max_depth=11\u001b[0m\n",
      "\u001b[34m[0]#011train-rmse:0.476182#011validation-rmse:0.479189\u001b[0m\n",
      "\u001b[34mMultiple eval metrics have been passed: 'validation-rmse' will be used for early stopping.\n",
      "\u001b[0m\n",
      "\u001b[34mWill train until validation-rmse hasn't improved in 10 rounds.\u001b[0m\n",
      "\u001b[34m[02:11:58] src/tree/updater_prune.cc:74: tree pruning end, 1 roots, 192 extra nodes, 50 pruned nodes, max_depth=11\u001b[0m\n",
      "\u001b[34m[1]#011train-rmse:0.456669#011validation-rmse:0.462647\u001b[0m\n",
      "\u001b[34m[02:12:01] src/tree/updater_prune.cc:74: tree pruning end, 1 roots, 192 extra nodes, 46 pruned nodes, max_depth=11\u001b[0m\n",
      "\u001b[34m[2]#011train-rmse:0.440964#011validation-rmse:0.449285\u001b[0m\n",
      "\u001b[34m[02:12:04] src/tree/updater_prune.cc:74: tree pruning end, 1 roots, 206 extra nodes, 42 pruned nodes, max_depth=11\u001b[0m\n",
      "\u001b[34m[3]#011train-rmse:0.427427#011validation-rmse:0.438495\u001b[0m\n",
      "\u001b[34m[02:12:07] src/tree/updater_prune.cc:74: tree pruning end, 1 roots, 174 extra nodes, 52 pruned nodes, max_depth=11\u001b[0m\n",
      "\u001b[34m[4]#011train-rmse:0.416801#011validation-rmse:0.429903\u001b[0m\n",
      "\u001b[34m[02:12:11] src/tree/updater_prune.cc:74: tree pruning end, 1 roots, 130 extra nodes, 54 pruned nodes, max_depth=11\u001b[0m\n",
      "\u001b[34m[5]#011train-rmse:0.407543#011validation-rmse:0.42295\u001b[0m\n",
      "\u001b[34m[02:12:14] src/tree/updater_prune.cc:74: tree pruning end, 1 roots, 134 extra nodes, 28 pruned nodes, max_depth=11\u001b[0m\n",
      "\u001b[34m[6]#011train-rmse:0.399425#011validation-rmse:0.416482\u001b[0m\n",
      "\u001b[34m[02:12:17] src/tree/updater_prune.cc:74: tree pruning end, 1 roots, 136 extra nodes, 52 pruned nodes, max_depth=11\u001b[0m\n",
      "\u001b[34m[7]#011train-rmse:0.39285#011validation-rmse:0.411345\u001b[0m\n",
      "\u001b[34m[02:12:20] src/tree/updater_prune.cc:74: tree pruning end, 1 roots, 178 extra nodes, 60 pruned nodes, max_depth=11\u001b[0m\n",
      "\u001b[34m[8]#011train-rmse:0.385362#011validation-rmse:0.406358\u001b[0m\n",
      "\u001b[34m[02:12:24] src/tree/updater_prune.cc:74: tree pruning end, 1 roots, 164 extra nodes, 58 pruned nodes, max_depth=11\u001b[0m\n",
      "\u001b[34m[9]#011train-rmse:0.378973#011validation-rmse:0.401435\u001b[0m\n",
      "\u001b[34m[02:12:27] src/tree/updater_prune.cc:74: tree pruning end, 1 roots, 196 extra nodes, 82 pruned nodes, max_depth=11\u001b[0m\n",
      "\u001b[34m[10]#011train-rmse:0.37276#011validation-rmse:0.39776\u001b[0m\n",
      "\u001b[34m[02:12:30] src/tree/updater_prune.cc:74: tree pruning end, 1 roots, 148 extra nodes, 58 pruned nodes, max_depth=11\u001b[0m\n",
      "\u001b[34m[11]#011train-rmse:0.367077#011validation-rmse:0.394178\u001b[0m\n",
      "\u001b[34m[02:12:33] src/tree/updater_prune.cc:74: tree pruning end, 1 roots, 108 extra nodes, 46 pruned nodes, max_depth=11\u001b[0m\n",
      "\u001b[34m[12]#011train-rmse:0.362643#011validation-rmse:0.390941\u001b[0m\n",
      "\u001b[34m[02:12:37] src/tree/updater_prune.cc:74: tree pruning end, 1 roots, 128 extra nodes, 34 pruned nodes, max_depth=11\u001b[0m\n",
      "\u001b[34m[13]#011train-rmse:0.358272#011validation-rmse:0.387896\u001b[0m\n",
      "\u001b[34m[02:12:40] src/tree/updater_prune.cc:74: tree pruning end, 1 roots, 158 extra nodes, 44 pruned nodes, max_depth=11\u001b[0m\n",
      "\u001b[34m[14]#011train-rmse:0.352964#011validation-rmse:0.384804\u001b[0m\n",
      "\u001b[34m[02:12:43] src/tree/updater_prune.cc:74: tree pruning end, 1 roots, 112 extra nodes, 48 pruned nodes, max_depth=11\u001b[0m\n",
      "\u001b[34m[15]#011train-rmse:0.34875#011validation-rmse:0.381931\u001b[0m\n",
      "\u001b[34m[02:12:46] src/tree/updater_prune.cc:74: tree pruning end, 1 roots, 160 extra nodes, 66 pruned nodes, max_depth=11\u001b[0m\n",
      "\u001b[34m[16]#011train-rmse:0.344338#011validation-rmse:0.379744\u001b[0m\n",
      "\u001b[34m[02:12:50] src/tree/updater_prune.cc:74: tree pruning end, 1 roots, 112 extra nodes, 54 pruned nodes, max_depth=11\u001b[0m\n",
      "\u001b[34m[17]#011train-rmse:0.340843#011validation-rmse:0.377522\u001b[0m\n",
      "\u001b[34m[02:12:53] src/tree/updater_prune.cc:74: tree pruning end, 1 roots, 92 extra nodes, 54 pruned nodes, max_depth=11\u001b[0m\n",
      "\u001b[34m[18]#011train-rmse:0.337246#011validation-rmse:0.374906\u001b[0m\n",
      "\u001b[34m[02:12:56] src/tree/updater_prune.cc:74: tree pruning end, 1 roots, 106 extra nodes, 66 pruned nodes, max_depth=11\u001b[0m\n",
      "\u001b[34m[19]#011train-rmse:0.333981#011validation-rmse:0.372749\u001b[0m\n",
      "\u001b[34m[02:12:59] src/tree/updater_prune.cc:74: tree pruning end, 1 roots, 124 extra nodes, 74 pruned nodes, max_depth=11\u001b[0m\n",
      "\u001b[34m[20]#011train-rmse:0.330373#011validation-rmse:0.370661\u001b[0m\n",
      "\u001b[34m[02:13:03] src/tree/updater_prune.cc:74: tree pruning end, 1 roots, 120 extra nodes, 44 pruned nodes, max_depth=11\u001b[0m\n",
      "\u001b[34m[21]#011train-rmse:0.327152#011validation-rmse:0.368694\u001b[0m\n",
      "\u001b[34m[02:13:06] src/tree/updater_prune.cc:74: tree pruning end, 1 roots, 154 extra nodes, 66 pruned nodes, max_depth=11\u001b[0m\n",
      "\u001b[34m[22]#011train-rmse:0.323429#011validation-rmse:0.36739\u001b[0m\n",
      "\u001b[34m[02:13:09] src/tree/updater_prune.cc:74: tree pruning end, 1 roots, 82 extra nodes, 40 pruned nodes, max_depth=11\u001b[0m\n",
      "\u001b[34m[23]#011train-rmse:0.321068#011validation-rmse:0.365884\u001b[0m\n",
      "\u001b[34m[02:13:12] src/tree/updater_prune.cc:74: tree pruning end, 1 roots, 106 extra nodes, 54 pruned nodes, max_depth=11\u001b[0m\n",
      "\u001b[34m[24]#011train-rmse:0.318507#011validation-rmse:0.364193\u001b[0m\n",
      "\u001b[34m[02:13:15] src/tree/updater_prune.cc:74: tree pruning end, 1 roots, 106 extra nodes, 52 pruned nodes, max_depth=11\u001b[0m\n",
      "\u001b[34m[25]#011train-rmse:0.315824#011validation-rmse:0.362226\u001b[0m\n",
      "\u001b[34m[02:13:19] src/tree/updater_prune.cc:74: tree pruning end, 1 roots, 94 extra nodes, 60 pruned nodes, max_depth=11\u001b[0m\n",
      "\u001b[34m[26]#011train-rmse:0.31339#011validation-rmse:0.360722\u001b[0m\n",
      "\u001b[34m[02:13:22] src/tree/updater_prune.cc:74: tree pruning end, 1 roots, 98 extra nodes, 56 pruned nodes, max_depth=11\u001b[0m\n",
      "\u001b[34m[27]#011train-rmse:0.310686#011validation-rmse:0.35949\u001b[0m\n",
      "\u001b[34m[02:13:25] src/tree/updater_prune.cc:74: tree pruning end, 1 roots, 116 extra nodes, 48 pruned nodes, max_depth=11\u001b[0m\n",
      "\u001b[34m[28]#011train-rmse:0.308017#011validation-rmse:0.358416\u001b[0m\n",
      "\u001b[34m[02:13:28] src/tree/updater_prune.cc:74: tree pruning end, 1 roots, 90 extra nodes, 54 pruned nodes, max_depth=11\u001b[0m\n",
      "\u001b[34m[29]#011train-rmse:0.305951#011validation-rmse:0.357309\u001b[0m\n",
      "\u001b[34m[02:13:32] src/tree/updater_prune.cc:74: tree pruning end, 1 roots, 90 extra nodes, 46 pruned nodes, max_depth=11\u001b[0m\n",
      "\u001b[34m[30]#011train-rmse:0.303973#011validation-rmse:0.356527\u001b[0m\n",
      "\u001b[34m[02:13:35] src/tree/updater_prune.cc:74: tree pruning end, 1 roots, 118 extra nodes, 68 pruned nodes, max_depth=11\u001b[0m\n",
      "\u001b[34m[31]#011train-rmse:0.301634#011validation-rmse:0.355253\u001b[0m\n",
      "\u001b[34m[02:13:38] src/tree/updater_prune.cc:74: tree pruning end, 1 roots, 70 extra nodes, 28 pruned nodes, max_depth=11\u001b[0m\n",
      "\u001b[34m[32]#011train-rmse:0.299869#011validation-rmse:0.354015\u001b[0m\n",
      "\u001b[34m[02:13:41] src/tree/updater_prune.cc:74: tree pruning end, 1 roots, 126 extra nodes, 82 pruned nodes, max_depth=11\u001b[0m\n",
      "\u001b[34m[33]#011train-rmse:0.297289#011validation-rmse:0.352775\u001b[0m\n",
      "\u001b[34m[02:13:45] src/tree/updater_prune.cc:74: tree pruning end, 1 roots, 104 extra nodes, 56 pruned nodes, max_depth=11\u001b[0m\n",
      "\u001b[34m[34]#011train-rmse:0.295224#011validation-rmse:0.351512\u001b[0m\n",
      "\u001b[34m[02:13:48] src/tree/updater_prune.cc:74: tree pruning end, 1 roots, 84 extra nodes, 58 pruned nodes, max_depth=11\u001b[0m\n",
      "\u001b[34m[35]#011train-rmse:0.293487#011validation-rmse:0.350449\u001b[0m\n",
      "\u001b[34m[02:13:51] src/tree/updater_prune.cc:74: tree pruning end, 1 roots, 108 extra nodes, 50 pruned nodes, max_depth=11\u001b[0m\n",
      "\u001b[34m[36]#011train-rmse:0.291209#011validation-rmse:0.349524\u001b[0m\n",
      "\u001b[34m[02:13:54] src/tree/updater_prune.cc:74: tree pruning end, 1 roots, 118 extra nodes, 60 pruned nodes, max_depth=11\u001b[0m\n",
      "\u001b[34m[37]#011train-rmse:0.288966#011validation-rmse:0.348686\u001b[0m\n",
      "\u001b[34m[02:13:57] src/tree/updater_prune.cc:74: tree pruning end, 1 roots, 92 extra nodes, 46 pruned nodes, max_depth=11\u001b[0m\n",
      "\u001b[34m[38]#011train-rmse:0.286956#011validation-rmse:0.347525\u001b[0m\n",
      "\u001b[34m[02:14:01] src/tree/updater_prune.cc:74: tree pruning end, 1 roots, 90 extra nodes, 64 pruned nodes, max_depth=11\u001b[0m\n",
      "\u001b[34m[39]#011train-rmse:0.285219#011validation-rmse:0.34669\u001b[0m\n",
      "\u001b[34m[02:14:04] src/tree/updater_prune.cc:74: tree pruning end, 1 roots, 104 extra nodes, 90 pruned nodes, max_depth=11\u001b[0m\n",
      "\u001b[34m[40]#011train-rmse:0.283376#011validation-rmse:0.346009\u001b[0m\n",
      "\u001b[34m[02:14:07] src/tree/updater_prune.cc:74: tree pruning end, 1 roots, 50 extra nodes, 34 pruned nodes, max_depth=11\u001b[0m\n",
      "\u001b[34m[41]#011train-rmse:0.282143#011validation-rmse:0.344791\u001b[0m\n",
      "\u001b[34m[02:14:10] src/tree/updater_prune.cc:74: tree pruning end, 1 roots, 66 extra nodes, 66 pruned nodes, max_depth=11\u001b[0m\n",
      "\u001b[34m[42]#011train-rmse:0.280535#011validation-rmse:0.343979\u001b[0m\n",
      "\u001b[34m[02:14:14] src/tree/updater_prune.cc:74: tree pruning end, 1 roots, 80 extra nodes, 54 pruned nodes, max_depth=11\u001b[0m\n",
      "\u001b[34m[43]#011train-rmse:0.278885#011validation-rmse:0.343423\u001b[0m\n",
      "\u001b[34m[02:14:17] src/tree/updater_prune.cc:74: tree pruning end, 1 roots, 60 extra nodes, 54 pruned nodes, max_depth=11\u001b[0m\n",
      "\u001b[34m[44]#011train-rmse:0.277854#011validation-rmse:0.342699\u001b[0m\n",
      "\u001b[34m[02:14:20] src/tree/updater_prune.cc:74: tree pruning end, 1 roots, 88 extra nodes, 54 pruned nodes, max_depth=11\u001b[0m\n",
      "\u001b[34m[45]#011train-rmse:0.276392#011validation-rmse:0.341906\u001b[0m\n",
      "\u001b[34m[02:14:23] src/tree/updater_prune.cc:74: tree pruning end, 1 roots, 78 extra nodes, 68 pruned nodes, max_depth=11\u001b[0m\n",
      "\u001b[34m[46]#011train-rmse:0.274647#011validation-rmse:0.341342\u001b[0m\n",
      "\u001b[34m[02:14:26] src/tree/updater_prune.cc:74: tree pruning end, 1 roots, 66 extra nodes, 38 pruned nodes, max_depth=11\u001b[0m\n",
      "\u001b[34m[47]#011train-rmse:0.27337#011validation-rmse:0.34075\u001b[0m\n",
      "\u001b[34m[02:14:30] src/tree/updater_prune.cc:74: tree pruning end, 1 roots, 74 extra nodes, 54 pruned nodes, max_depth=11\u001b[0m\n",
      "\u001b[34m[48]#011train-rmse:0.271956#011validation-rmse:0.340128\u001b[0m\n",
      "\u001b[34m[02:14:33] src/tree/updater_prune.cc:74: tree pruning end, 1 roots, 56 extra nodes, 50 pruned nodes, max_depth=11\u001b[0m\n",
      "\u001b[34m[49]#011train-rmse:0.270772#011validation-rmse:0.339585\u001b[0m\n",
      "\u001b[34m[02:14:36] src/tree/updater_prune.cc:74: tree pruning end, 1 roots, 64 extra nodes, 52 pruned nodes, max_depth=11\u001b[0m\n",
      "\u001b[34m[50]#011train-rmse:0.269653#011validation-rmse:0.339176\u001b[0m\n",
      "\u001b[34m[02:14:39] src/tree/updater_prune.cc:74: tree pruning end, 1 roots, 70 extra nodes, 48 pruned nodes, max_depth=11\u001b[0m\n",
      "\u001b[34m[51]#011train-rmse:0.268407#011validation-rmse:0.338772\u001b[0m\n",
      "\u001b[34m[02:14:43] src/tree/updater_prune.cc:74: tree pruning end, 1 roots, 62 extra nodes, 34 pruned nodes, max_depth=11\u001b[0m\n",
      "\u001b[34m[52]#011train-rmse:0.267301#011validation-rmse:0.338142\u001b[0m\n",
      "\u001b[34m[02:14:46] src/tree/updater_prune.cc:74: tree pruning end, 1 roots, 84 extra nodes, 48 pruned nodes, max_depth=11\u001b[0m\n",
      "\u001b[34m[53]#011train-rmse:0.265884#011validation-rmse:0.337658\u001b[0m\n",
      "\u001b[34m[02:14:49] src/tree/updater_prune.cc:74: tree pruning end, 1 roots, 62 extra nodes, 36 pruned nodes, max_depth=11\u001b[0m\n",
      "\u001b[34m[54]#011train-rmse:0.264749#011validation-rmse:0.337372\u001b[0m\n",
      "\u001b[34m[02:14:52] src/tree/updater_prune.cc:74: tree pruning end, 1 roots, 66 extra nodes, 42 pruned nodes, max_depth=11\u001b[0m\n",
      "\u001b[34m[55]#011train-rmse:0.263375#011validation-rmse:0.336826\u001b[0m\n",
      "\u001b[34m[02:14:55] src/tree/updater_prune.cc:74: tree pruning end, 1 roots, 54 extra nodes, 46 pruned nodes, max_depth=11\u001b[0m\n",
      "\u001b[34m[56]#011train-rmse:0.262256#011validation-rmse:0.336191\u001b[0m\n",
      "\u001b[34m[02:14:59] src/tree/updater_prune.cc:74: tree pruning end, 1 roots, 38 extra nodes, 52 pruned nodes, max_depth=11\u001b[0m\n",
      "\u001b[34m[57]#011train-rmse:0.261466#011validation-rmse:0.335766\u001b[0m\n",
      "\u001b[34m[02:15:02] src/tree/updater_prune.cc:74: tree pruning end, 1 roots, 50 extra nodes, 34 pruned nodes, max_depth=11\u001b[0m\n",
      "\u001b[34m[58]#011train-rmse:0.260599#011validation-rmse:0.335179\u001b[0m\n",
      "\u001b[34m[02:15:05] src/tree/updater_prune.cc:74: tree pruning end, 1 roots, 100 extra nodes, 72 pruned nodes, max_depth=11\u001b[0m\n",
      "\u001b[34m[59]#011train-rmse:0.25911#011validation-rmse:0.334811\u001b[0m\n",
      "\u001b[34m[02:15:08] src/tree/updater_prune.cc:74: tree pruning end, 1 roots, 44 extra nodes, 40 pruned nodes, max_depth=11\u001b[0m\n",
      "\u001b[34m[60]#011train-rmse:0.258281#011validation-rmse:0.334338\u001b[0m\n",
      "\u001b[34m[02:15:11] src/tree/updater_prune.cc:74: tree pruning end, 1 roots, 48 extra nodes, 70 pruned nodes, max_depth=11\u001b[0m\n",
      "\u001b[34m[61]#011train-rmse:0.257369#011validation-rmse:0.333875\u001b[0m\n",
      "\u001b[34m[02:15:15] src/tree/updater_prune.cc:74: tree pruning end, 1 roots, 100 extra nodes, 76 pruned nodes, max_depth=11\u001b[0m\n",
      "\u001b[34m[62]#011train-rmse:0.255585#011validation-rmse:0.33315\u001b[0m\n",
      "\u001b[34m[02:15:18] src/tree/updater_prune.cc:74: tree pruning end, 1 roots, 52 extra nodes, 46 pruned nodes, max_depth=11\u001b[0m\n",
      "\u001b[34m[63]#011train-rmse:0.254675#011validation-rmse:0.332456\u001b[0m\n",
      "\u001b[34m[02:15:21] src/tree/updater_prune.cc:74: tree pruning end, 1 roots, 28 extra nodes, 34 pruned nodes, max_depth=11\u001b[0m\n",
      "\u001b[34m[64]#011train-rmse:0.254033#011validation-rmse:0.332096\u001b[0m\n",
      "\u001b[34m[02:15:24] src/tree/updater_prune.cc:74: tree pruning end, 1 roots, 50 extra nodes, 48 pruned nodes, max_depth=11\u001b[0m\n",
      "\u001b[34m[65]#011train-rmse:0.253175#011validation-rmse:0.331721\u001b[0m\n",
      "\u001b[34m[02:15:28] src/tree/updater_prune.cc:74: tree pruning end, 1 roots, 44 extra nodes, 32 pruned nodes, max_depth=11\u001b[0m\n",
      "\u001b[34m[66]#011train-rmse:0.25233#011validation-rmse:0.331098\u001b[0m\n",
      "\u001b[34m[02:15:31] src/tree/updater_prune.cc:74: tree pruning end, 1 roots, 68 extra nodes, 48 pruned nodes, max_depth=11\u001b[0m\n",
      "\u001b[34m[67]#011train-rmse:0.251245#011validation-rmse:0.330802\u001b[0m\n",
      "\u001b[34m[02:15:34] src/tree/updater_prune.cc:74: tree pruning end, 1 roots, 36 extra nodes, 30 pruned nodes, max_depth=11\u001b[0m\n",
      "\u001b[34m[68]#011train-rmse:0.250504#011validation-rmse:0.330337\u001b[0m\n",
      "\u001b[34m[02:15:37] src/tree/updater_prune.cc:74: tree pruning end, 1 roots, 62 extra nodes, 54 pruned nodes, max_depth=11\u001b[0m\n",
      "\u001b[34m[69]#011train-rmse:0.249587#011validation-rmse:0.329774\u001b[0m\n",
      "\u001b[34m[02:15:40] src/tree/updater_prune.cc:74: tree pruning end, 1 roots, 40 extra nodes, 48 pruned nodes, max_depth=11\u001b[0m\n",
      "\u001b[34m[70]#011train-rmse:0.248944#011validation-rmse:0.329274\u001b[0m\n",
      "\u001b[34m[02:15:44] src/tree/updater_prune.cc:74: tree pruning end, 1 roots, 44 extra nodes, 28 pruned nodes, max_depth=11\u001b[0m\n",
      "\u001b[34m[71]#011train-rmse:0.248094#011validation-rmse:0.328881\u001b[0m\n",
      "\u001b[34m[02:15:47] src/tree/updater_prune.cc:74: tree pruning end, 1 roots, 70 extra nodes, 42 pruned nodes, max_depth=11\u001b[0m\n",
      "\u001b[34m[72]#011train-rmse:0.246928#011validation-rmse:0.328474\u001b[0m\n",
      "\u001b[34m[02:15:50] src/tree/updater_prune.cc:74: tree pruning end, 1 roots, 32 extra nodes, 48 pruned nodes, max_depth=11\u001b[0m\n",
      "\u001b[34m[73]#011train-rmse:0.246402#011validation-rmse:0.328155\u001b[0m\n",
      "\u001b[34m[02:15:53] src/tree/updater_prune.cc:74: tree pruning end, 1 roots, 46 extra nodes, 52 pruned nodes, max_depth=11\u001b[0m\n",
      "\u001b[34m[74]#011train-rmse:0.245553#011validation-rmse:0.327759\u001b[0m\n",
      "\u001b[34m[02:15:57] src/tree/updater_prune.cc:74: tree pruning end, 1 roots, 48 extra nodes, 36 pruned nodes, max_depth=11\u001b[0m\n",
      "\u001b[34m[75]#011train-rmse:0.244768#011validation-rmse:0.327234\u001b[0m\n",
      "\u001b[34m[02:16:00] src/tree/updater_prune.cc:74: tree pruning end, 1 roots, 42 extra nodes, 40 pruned nodes, max_depth=11\u001b[0m\n",
      "\u001b[34m[76]#011train-rmse:0.244117#011validation-rmse:0.32672\u001b[0m\n",
      "\u001b[34m[02:16:03] src/tree/updater_prune.cc:74: tree pruning end, 1 roots, 30 extra nodes, 26 pruned nodes, max_depth=11\u001b[0m\n",
      "\u001b[34m[77]#011train-rmse:0.24353#011validation-rmse:0.326568\u001b[0m\n",
      "\u001b[34m[02:16:06] src/tree/updater_prune.cc:74: tree pruning end, 1 roots, 60 extra nodes, 36 pruned nodes, max_depth=11\u001b[0m\n",
      "\u001b[34m[78]#011train-rmse:0.242595#011validation-rmse:0.326252\u001b[0m\n",
      "\u001b[34m[02:16:09] src/tree/updater_prune.cc:74: tree pruning end, 1 roots, 52 extra nodes, 40 pruned nodes, max_depth=11\u001b[0m\n",
      "\u001b[34m[79]#011train-rmse:0.241703#011validation-rmse:0.325869\u001b[0m\n",
      "\u001b[34m[02:16:13] src/tree/updater_prune.cc:74: tree pruning end, 1 roots, 78 extra nodes, 56 pruned nodes, max_depth=11\u001b[0m\n",
      "\u001b[34m[80]#011train-rmse:0.240608#011validation-rmse:0.325474\u001b[0m\n",
      "\u001b[34m[02:16:16] src/tree/updater_prune.cc:74: tree pruning end, 1 roots, 56 extra nodes, 34 pruned nodes, max_depth=11\u001b[0m\n",
      "\u001b[34m[81]#011train-rmse:0.239816#011validation-rmse:0.324865\u001b[0m\n",
      "\u001b[34m[02:16:19] src/tree/updater_prune.cc:74: tree pruning end, 1 roots, 50 extra nodes, 22 pruned nodes, max_depth=11\u001b[0m\n",
      "\u001b[34m[82]#011train-rmse:0.238972#011validation-rmse:0.324661\u001b[0m\n",
      "\u001b[34m[02:16:22] src/tree/updater_prune.cc:74: tree pruning end, 1 roots, 72 extra nodes, 56 pruned nodes, max_depth=11\u001b[0m\n",
      "\u001b[34m[83]#011train-rmse:0.237852#011validation-rmse:0.324611\u001b[0m\n",
      "\u001b[34m[02:16:26] src/tree/updater_prune.cc:74: tree pruning end, 1 roots, 66 extra nodes, 68 pruned nodes, max_depth=11\u001b[0m\n",
      "\u001b[34m[84]#011train-rmse:0.236869#011validation-rmse:0.324465\u001b[0m\n",
      "\u001b[34m[02:16:29] src/tree/updater_prune.cc:74: tree pruning end, 1 roots, 56 extra nodes, 40 pruned nodes, max_depth=11\u001b[0m\n",
      "\u001b[34m[85]#011train-rmse:0.236016#011validation-rmse:0.324112\u001b[0m\n",
      "\u001b[34m[02:16:32] src/tree/updater_prune.cc:74: tree pruning end, 1 roots, 46 extra nodes, 32 pruned nodes, max_depth=11\u001b[0m\n",
      "\u001b[34m[86]#011train-rmse:0.235346#011validation-rmse:0.323931\u001b[0m\n",
      "\u001b[34m[02:16:35] src/tree/updater_prune.cc:74: tree pruning end, 1 roots, 46 extra nodes, 48 pruned nodes, max_depth=11\u001b[0m\n",
      "\u001b[34m[87]#011train-rmse:0.234704#011validation-rmse:0.323498\u001b[0m\n",
      "\u001b[34m[02:16:38] src/tree/updater_prune.cc:74: tree pruning end, 1 roots, 34 extra nodes, 56 pruned nodes, max_depth=11\u001b[0m\n",
      "\u001b[34m[88]#011train-rmse:0.234093#011validation-rmse:0.323242\u001b[0m\n",
      "\u001b[34m[02:16:41] src/tree/updater_prune.cc:74: tree pruning end, 1 roots, 44 extra nodes, 56 pruned nodes, max_depth=11\u001b[0m\n",
      "\u001b[34m[89]#011train-rmse:0.233432#011validation-rmse:0.323201\u001b[0m\n",
      "\u001b[34m[02:16:45] src/tree/updater_prune.cc:74: tree pruning end, 1 roots, 44 extra nodes, 26 pruned nodes, max_depth=11\u001b[0m\n",
      "\u001b[34m[90]#011train-rmse:0.232788#011validation-rmse:0.322859\u001b[0m\n",
      "\u001b[34m[02:16:48] src/tree/updater_prune.cc:74: tree pruning end, 1 roots, 58 extra nodes, 44 pruned nodes, max_depth=11\u001b[0m\n",
      "\u001b[34m[91]#011train-rmse:0.232011#011validation-rmse:0.322544\u001b[0m\n",
      "\u001b[34m[02:16:51] src/tree/updater_prune.cc:74: tree pruning end, 1 roots, 78 extra nodes, 56 pruned nodes, max_depth=11\u001b[0m\n",
      "\u001b[34m[92]#011train-rmse:0.231177#011validation-rmse:0.322452\u001b[0m\n",
      "\u001b[34m[02:16:54] src/tree/updater_prune.cc:74: tree pruning end, 1 roots, 42 extra nodes, 50 pruned nodes, max_depth=11\u001b[0m\n",
      "\u001b[34m[93]#011train-rmse:0.230464#011validation-rmse:0.322097\u001b[0m\n",
      "\u001b[34m[02:16:58] src/tree/updater_prune.cc:74: tree pruning end, 1 roots, 40 extra nodes, 34 pruned nodes, max_depth=11\u001b[0m\n",
      "\u001b[34m[94]#011train-rmse:0.229736#011validation-rmse:0.321788\u001b[0m\n",
      "\u001b[34m[02:17:01] src/tree/updater_prune.cc:74: tree pruning end, 1 roots, 44 extra nodes, 32 pruned nodes, max_depth=11\u001b[0m\n",
      "\u001b[34m[95]#011train-rmse:0.229055#011validation-rmse:0.321698\u001b[0m\n",
      "\u001b[34m[02:17:04] src/tree/updater_prune.cc:74: tree pruning end, 1 roots, 42 extra nodes, 30 pruned nodes, max_depth=11\u001b[0m\n",
      "\u001b[34m[96]#011train-rmse:0.228495#011validation-rmse:0.321502\u001b[0m\n",
      "\u001b[34m[02:17:07] src/tree/updater_prune.cc:74: tree pruning end, 1 roots, 34 extra nodes, 18 pruned nodes, max_depth=11\u001b[0m\n",
      "\u001b[34m[97]#011train-rmse:0.228062#011validation-rmse:0.321405\u001b[0m\n",
      "\u001b[34m[02:17:10] src/tree/updater_prune.cc:74: tree pruning end, 1 roots, 46 extra nodes, 62 pruned nodes, max_depth=11\u001b[0m\n",
      "\u001b[34m[98]#011train-rmse:0.227362#011validation-rmse:0.321145\u001b[0m\n",
      "\u001b[34m[02:17:14] src/tree/updater_prune.cc:74: tree pruning end, 1 roots, 48 extra nodes, 78 pruned nodes, max_depth=11\u001b[0m\n",
      "\u001b[34m[99]#011train-rmse:0.226643#011validation-rmse:0.321148\u001b[0m\n",
      "\u001b[34m[02:17:17] src/tree/updater_prune.cc:74: tree pruning end, 1 roots, 40 extra nodes, 30 pruned nodes, max_depth=11\u001b[0m\n",
      "\u001b[34m[100]#011train-rmse:0.226114#011validation-rmse:0.320941\u001b[0m\n",
      "\u001b[34m[02:17:20] src/tree/updater_prune.cc:74: tree pruning end, 1 roots, 30 extra nodes, 24 pruned nodes, max_depth=11\u001b[0m\n",
      "\u001b[34m[101]#011train-rmse:0.225718#011validation-rmse:0.320525\u001b[0m\n",
      "\u001b[34m[02:17:23] src/tree/updater_prune.cc:74: tree pruning end, 1 roots, 48 extra nodes, 30 pruned nodes, max_depth=11\u001b[0m\n",
      "\u001b[34m[102]#011train-rmse:0.225103#011validation-rmse:0.320202\u001b[0m\n",
      "\u001b[34m[02:17:27] src/tree/updater_prune.cc:74: tree pruning end, 1 roots, 38 extra nodes, 38 pruned nodes, max_depth=11\u001b[0m\n",
      "\u001b[34m[103]#011train-rmse:0.224654#011validation-rmse:0.320178\u001b[0m\n",
      "\u001b[34m[02:17:30] src/tree/updater_prune.cc:74: tree pruning end, 1 roots, 40 extra nodes, 42 pruned nodes, max_depth=11\u001b[0m\n",
      "\u001b[34m[104]#011train-rmse:0.224067#011validation-rmse:0.320179\u001b[0m\n",
      "\u001b[34m[02:17:33] src/tree/updater_prune.cc:74: tree pruning end, 1 roots, 34 extra nodes, 58 pruned nodes, max_depth=11\u001b[0m\n",
      "\u001b[34m[105]#011train-rmse:0.223661#011validation-rmse:0.320063\u001b[0m\n",
      "\u001b[34m[02:17:36] src/tree/updater_prune.cc:74: tree pruning end, 1 roots, 28 extra nodes, 26 pruned nodes, max_depth=11\u001b[0m\n",
      "\u001b[34m[106]#011train-rmse:0.223319#011validation-rmse:0.319878\u001b[0m\n",
      "\u001b[34m[02:17:39] src/tree/updater_prune.cc:74: tree pruning end, 1 roots, 40 extra nodes, 38 pruned nodes, max_depth=11\u001b[0m\n",
      "\u001b[34m[107]#011train-rmse:0.222646#011validation-rmse:0.319712\u001b[0m\n",
      "\u001b[34m[02:17:43] src/tree/updater_prune.cc:74: tree pruning end, 1 roots, 52 extra nodes, 28 pruned nodes, max_depth=11\u001b[0m\n",
      "\u001b[34m[108]#011train-rmse:0.221912#011validation-rmse:0.319544\u001b[0m\n",
      "\u001b[34m[02:17:46] src/tree/updater_prune.cc:74: tree pruning end, 1 roots, 30 extra nodes, 38 pruned nodes, max_depth=11\u001b[0m\n",
      "\u001b[34m[109]#011train-rmse:0.22152#011validation-rmse:0.319385\u001b[0m\n",
      "\u001b[34m[02:17:49] src/tree/updater_prune.cc:74: tree pruning end, 1 roots, 60 extra nodes, 70 pruned nodes, max_depth=11\u001b[0m\n",
      "\u001b[34m[110]#011train-rmse:0.220683#011validation-rmse:0.319431\u001b[0m\n",
      "\u001b[34m[02:17:52] src/tree/updater_prune.cc:74: tree pruning end, 1 roots, 30 extra nodes, 34 pruned nodes, max_depth=11\u001b[0m\n",
      "\u001b[34m[111]#011train-rmse:0.220208#011validation-rmse:0.319389\u001b[0m\n",
      "\u001b[34m[02:17:56] src/tree/updater_prune.cc:74: tree pruning end, 1 roots, 54 extra nodes, 32 pruned nodes, max_depth=11\u001b[0m\n",
      "\u001b[34m[112]#011train-rmse:0.219616#011validation-rmse:0.319272\u001b[0m\n",
      "\u001b[34m[02:17:59] src/tree/updater_prune.cc:74: tree pruning end, 1 roots, 40 extra nodes, 30 pruned nodes, max_depth=11\u001b[0m\n",
      "\u001b[34m[113]#011train-rmse:0.219063#011validation-rmse:0.31924\u001b[0m\n",
      "\u001b[34m[02:18:02] src/tree/updater_prune.cc:74: tree pruning end, 1 roots, 28 extra nodes, 30 pruned nodes, max_depth=11\u001b[0m\n",
      "\u001b[34m[114]#011train-rmse:0.218658#011validation-rmse:0.319145\u001b[0m\n",
      "\u001b[34m[02:18:05] src/tree/updater_prune.cc:74: tree pruning end, 1 roots, 28 extra nodes, 60 pruned nodes, max_depth=11\u001b[0m\n",
      "\u001b[34m[115]#011train-rmse:0.218214#011validation-rmse:0.31896\u001b[0m\n",
      "\u001b[34m[02:18:08] src/tree/updater_prune.cc:74: tree pruning end, 1 roots, 32 extra nodes, 20 pruned nodes, max_depth=11\u001b[0m\n",
      "\u001b[34m[116]#011train-rmse:0.217845#011validation-rmse:0.318714\u001b[0m\n",
      "\u001b[34m[02:18:12] src/tree/updater_prune.cc:74: tree pruning end, 1 roots, 44 extra nodes, 28 pruned nodes, max_depth=11\u001b[0m\n",
      "\u001b[34m[117]#011train-rmse:0.217287#011validation-rmse:0.31863\u001b[0m\n",
      "\u001b[34m[02:18:15] src/tree/updater_prune.cc:74: tree pruning end, 1 roots, 42 extra nodes, 38 pruned nodes, max_depth=11\u001b[0m\n",
      "\u001b[34m[118]#011train-rmse:0.216773#011validation-rmse:0.318624\u001b[0m\n",
      "\u001b[34m[02:18:18] src/tree/updater_prune.cc:74: tree pruning end, 1 roots, 46 extra nodes, 60 pruned nodes, max_depth=11\u001b[0m\n",
      "\u001b[34m[119]#011train-rmse:0.216079#011validation-rmse:0.318203\u001b[0m\n",
      "\u001b[34m[02:18:21] src/tree/updater_prune.cc:74: tree pruning end, 1 roots, 56 extra nodes, 64 pruned nodes, max_depth=11\u001b[0m\n",
      "\u001b[34m[120]#011train-rmse:0.215337#011validation-rmse:0.318199\u001b[0m\n",
      "\u001b[34m[02:18:24] src/tree/updater_prune.cc:74: tree pruning end, 1 roots, 40 extra nodes, 56 pruned nodes, max_depth=11\u001b[0m\n",
      "\u001b[34m[121]#011train-rmse:0.214876#011validation-rmse:0.318092\u001b[0m\n",
      "\u001b[34m[02:18:28] src/tree/updater_prune.cc:74: tree pruning end, 1 roots, 30 extra nodes, 34 pruned nodes, max_depth=11\u001b[0m\n",
      "\u001b[34m[122]#011train-rmse:0.214497#011validation-rmse:0.317874\u001b[0m\n",
      "\u001b[34m[02:18:31] src/tree/updater_prune.cc:74: tree pruning end, 1 roots, 48 extra nodes, 54 pruned nodes, max_depth=11\u001b[0m\n",
      "\u001b[34m[123]#011train-rmse:0.214015#011validation-rmse:0.317705\u001b[0m\n",
      "\u001b[34m[02:18:34] src/tree/updater_prune.cc:74: tree pruning end, 1 roots, 74 extra nodes, 58 pruned nodes, max_depth=11\u001b[0m\n",
      "\u001b[34m[124]#011train-rmse:0.212831#011validation-rmse:0.317802\u001b[0m\n",
      "\u001b[34m[02:18:37] src/tree/updater_prune.cc:74: tree pruning end, 1 roots, 34 extra nodes, 22 pruned nodes, max_depth=11\u001b[0m\n",
      "\u001b[34m[125]#011train-rmse:0.212407#011validation-rmse:0.317803\u001b[0m\n",
      "\u001b[34m[02:18:40] src/tree/updater_prune.cc:74: tree pruning end, 1 roots, 60 extra nodes, 80 pruned nodes, max_depth=11\u001b[0m\n",
      "\u001b[34m[126]#011train-rmse:0.211597#011validation-rmse:0.317731\u001b[0m\n",
      "\u001b[34m[02:18:44] src/tree/updater_prune.cc:74: tree pruning end, 1 roots, 32 extra nodes, 26 pruned nodes, max_depth=11\u001b[0m\n",
      "\u001b[34m[127]#011train-rmse:0.211233#011validation-rmse:0.317469\u001b[0m\n",
      "\u001b[34m[02:18:47] src/tree/updater_prune.cc:74: tree pruning end, 1 roots, 30 extra nodes, 24 pruned nodes, max_depth=11\u001b[0m\n",
      "\u001b[34m[128]#011train-rmse:0.210849#011validation-rmse:0.317187\u001b[0m\n",
      "\u001b[34m[02:18:50] src/tree/updater_prune.cc:74: tree pruning end, 1 roots, 26 extra nodes, 34 pruned nodes, max_depth=11\u001b[0m\n",
      "\u001b[34m[129]#011train-rmse:0.210516#011validation-rmse:0.31712\u001b[0m\n",
      "\u001b[34m[02:18:53] src/tree/updater_prune.cc:74: tree pruning end, 1 roots, 50 extra nodes, 36 pruned nodes, max_depth=11\u001b[0m\n",
      "\u001b[34m[130]#011train-rmse:0.209844#011validation-rmse:0.316911\u001b[0m\n",
      "\u001b[34m[02:18:57] src/tree/updater_prune.cc:74: tree pruning end, 1 roots, 42 extra nodes, 36 pruned nodes, max_depth=11\u001b[0m\n",
      "\u001b[34m[131]#011train-rmse:0.209223#011validation-rmse:0.316805\u001b[0m\n",
      "\u001b[34m[02:19:00] src/tree/updater_prune.cc:74: tree pruning end, 1 roots, 34 extra nodes, 16 pruned nodes, max_depth=11\u001b[0m\n",
      "\u001b[34m[132]#011train-rmse:0.208692#011validation-rmse:0.316629\u001b[0m\n",
      "\u001b[34m[02:19:03] src/tree/updater_prune.cc:74: tree pruning end, 1 roots, 30 extra nodes, 28 pruned nodes, max_depth=11\u001b[0m\n",
      "\u001b[34m[133]#011train-rmse:0.208332#011validation-rmse:0.31651\u001b[0m\n",
      "\u001b[34m[02:19:06] src/tree/updater_prune.cc:74: tree pruning end, 1 roots, 36 extra nodes, 28 pruned nodes, max_depth=11\u001b[0m\n",
      "\u001b[34m[134]#011train-rmse:0.207882#011validation-rmse:0.316447\u001b[0m\n",
      "\u001b[34m[02:19:09] src/tree/updater_prune.cc:74: tree pruning end, 1 roots, 30 extra nodes, 38 pruned nodes, max_depth=11\u001b[0m\n",
      "\u001b[34m[135]#011train-rmse:0.207517#011validation-rmse:0.316379\u001b[0m\n",
      "\u001b[34m[02:19:13] src/tree/updater_prune.cc:74: tree pruning end, 1 roots, 28 extra nodes, 58 pruned nodes, max_depth=11\u001b[0m\n",
      "\u001b[34m[136]#011train-rmse:0.207208#011validation-rmse:0.316274\u001b[0m\n",
      "\u001b[34m[02:19:16] src/tree/updater_prune.cc:74: tree pruning end, 1 roots, 28 extra nodes, 8 pruned nodes, max_depth=11\u001b[0m\n",
      "\u001b[34m[137]#011train-rmse:0.206827#011validation-rmse:0.316053\u001b[0m\n",
      "\u001b[34m[02:19:19] src/tree/updater_prune.cc:74: tree pruning end, 1 roots, 34 extra nodes, 22 pruned nodes, max_depth=11\u001b[0m\n",
      "\u001b[34m[138]#011train-rmse:0.206419#011validation-rmse:0.315868\u001b[0m\n",
      "\u001b[34m[02:19:22] src/tree/updater_prune.cc:74: tree pruning end, 1 roots, 32 extra nodes, 36 pruned nodes, max_depth=11\u001b[0m\n",
      "\u001b[34m[139]#011train-rmse:0.206014#011validation-rmse:0.315591\u001b[0m\n",
      "\u001b[34m[02:19:26] src/tree/updater_prune.cc:74: tree pruning end, 1 roots, 30 extra nodes, 34 pruned nodes, max_depth=11\u001b[0m\n",
      "\u001b[34m[140]#011train-rmse:0.205641#011validation-rmse:0.315348\u001b[0m\n",
      "\u001b[34m[02:19:29] src/tree/updater_prune.cc:74: tree pruning end, 1 roots, 36 extra nodes, 38 pruned nodes, max_depth=11\u001b[0m\n",
      "\u001b[34m[141]#011train-rmse:0.205193#011validation-rmse:0.315278\u001b[0m\n",
      "\u001b[34m[02:19:32] src/tree/updater_prune.cc:74: tree pruning end, 1 roots, 32 extra nodes, 24 pruned nodes, max_depth=11\u001b[0m\n",
      "\u001b[34m[142]#011train-rmse:0.204753#011validation-rmse:0.315267\u001b[0m\n",
      "\u001b[34m[02:19:35] src/tree/updater_prune.cc:74: tree pruning end, 1 roots, 48 extra nodes, 70 pruned nodes, max_depth=11\u001b[0m\n",
      "\u001b[34m[143]#011train-rmse:0.204035#011validation-rmse:0.314919\u001b[0m\n",
      "\u001b[34m[02:19:38] src/tree/updater_prune.cc:74: tree pruning end, 1 roots, 28 extra nodes, 68 pruned nodes, max_depth=11\u001b[0m\n",
      "\u001b[34m[144]#011train-rmse:0.203823#011validation-rmse:0.314717\u001b[0m\n",
      "\u001b[34m[02:19:42] src/tree/updater_prune.cc:74: tree pruning end, 1 roots, 24 extra nodes, 26 pruned nodes, max_depth=11\u001b[0m\n",
      "\u001b[34m[145]#011train-rmse:0.203563#011validation-rmse:0.314527\u001b[0m\n",
      "\u001b[34m[02:19:45] src/tree/updater_prune.cc:74: tree pruning end, 1 roots, 48 extra nodes, 36 pruned nodes, max_depth=11\u001b[0m\n",
      "\u001b[34m[146]#011train-rmse:0.203055#011validation-rmse:0.314604\u001b[0m\n",
      "\u001b[34m[02:19:48] src/tree/updater_prune.cc:74: tree pruning end, 1 roots, 34 extra nodes, 54 pruned nodes, max_depth=11\u001b[0m\n",
      "\u001b[34m[147]#011train-rmse:0.202543#011validation-rmse:0.314533\u001b[0m\n",
      "\u001b[34m[02:19:52] src/tree/updater_prune.cc:74: tree pruning end, 1 roots, 40 extra nodes, 50 pruned nodes, max_depth=11\u001b[0m\n",
      "\u001b[34m[148]#011train-rmse:0.202144#011validation-rmse:0.314452\u001b[0m\n",
      "\u001b[34m[02:19:55] src/tree/updater_prune.cc:74: tree pruning end, 1 roots, 36 extra nodes, 56 pruned nodes, max_depth=11\u001b[0m\n",
      "\u001b[34m[149]#011train-rmse:0.20179#011validation-rmse:0.314374\u001b[0m\n",
      "\u001b[34m[02:19:59] src/tree/updater_prune.cc:74: tree pruning end, 1 roots, 34 extra nodes, 28 pruned nodes, max_depth=11\u001b[0m\n",
      "\u001b[34m[150]#011train-rmse:0.201355#011validation-rmse:0.314346\u001b[0m\n",
      "\u001b[34m[02:20:02] src/tree/updater_prune.cc:74: tree pruning end, 1 roots, 48 extra nodes, 52 pruned nodes, max_depth=11\u001b[0m\n",
      "\u001b[34m[151]#011train-rmse:0.200616#011validation-rmse:0.314429\u001b[0m\n",
      "\u001b[34m[02:20:05] src/tree/updater_prune.cc:74: tree pruning end, 1 roots, 24 extra nodes, 44 pruned nodes, max_depth=11\u001b[0m\n",
      "\u001b[34m[152]#011train-rmse:0.200359#011validation-rmse:0.314345\u001b[0m\n",
      "\u001b[34m[02:20:08] src/tree/updater_prune.cc:74: tree pruning end, 1 roots, 22 extra nodes, 44 pruned nodes, max_depth=11\u001b[0m\n",
      "\u001b[34m[153]#011train-rmse:0.200127#011validation-rmse:0.314396\u001b[0m\n",
      "\u001b[34m[02:20:11] src/tree/updater_prune.cc:74: tree pruning end, 1 roots, 26 extra nodes, 28 pruned nodes, max_depth=11\u001b[0m\n",
      "\u001b[34m[154]#011train-rmse:0.199837#011validation-rmse:0.314283\u001b[0m\n",
      "\u001b[34m[02:20:15] src/tree/updater_prune.cc:74: tree pruning end, 1 roots, 30 extra nodes, 38 pruned nodes, max_depth=11\u001b[0m\n",
      "\u001b[34m[155]#011train-rmse:0.199451#011validation-rmse:0.314203\u001b[0m\n",
      "\u001b[34m[02:20:18] src/tree/updater_prune.cc:74: tree pruning end, 1 roots, 42 extra nodes, 36 pruned nodes, max_depth=11\u001b[0m\n",
      "\u001b[34m[156]#011train-rmse:0.198909#011validation-rmse:0.314098\u001b[0m\n",
      "\u001b[34m[02:20:21] src/tree/updater_prune.cc:74: tree pruning end, 1 roots, 24 extra nodes, 26 pruned nodes, max_depth=11\u001b[0m\n",
      "\u001b[34m[157]#011train-rmse:0.198586#011validation-rmse:0.314094\u001b[0m\n",
      "\u001b[34m[02:20:24] src/tree/updater_prune.cc:74: tree pruning end, 1 roots, 22 extra nodes, 30 pruned nodes, max_depth=11\u001b[0m\n",
      "\u001b[34m[158]#011train-rmse:0.198374#011validation-rmse:0.314035\u001b[0m\n",
      "\u001b[34m[02:20:27] src/tree/updater_prune.cc:74: tree pruning end, 1 roots, 42 extra nodes, 42 pruned nodes, max_depth=11\u001b[0m\n",
      "\u001b[34m[159]#011train-rmse:0.197923#011validation-rmse:0.313957\u001b[0m\n",
      "\u001b[34m[02:20:31] src/tree/updater_prune.cc:74: tree pruning end, 1 roots, 28 extra nodes, 40 pruned nodes, max_depth=11\u001b[0m\n",
      "\u001b[34m[160]#011train-rmse:0.197606#011validation-rmse:0.31388\u001b[0m\n",
      "\u001b[34m[02:20:34] src/tree/updater_prune.cc:74: tree pruning end, 1 roots, 24 extra nodes, 36 pruned nodes, max_depth=11\u001b[0m\n",
      "\u001b[34m[161]#011train-rmse:0.197298#011validation-rmse:0.313898\u001b[0m\n",
      "\u001b[34m[02:20:37] src/tree/updater_prune.cc:74: tree pruning end, 1 roots, 22 extra nodes, 30 pruned nodes, max_depth=11\u001b[0m\n",
      "\u001b[34m[162]#011train-rmse:0.197004#011validation-rmse:0.313808\u001b[0m\n",
      "\u001b[34m[02:20:40] src/tree/updater_prune.cc:74: tree pruning end, 1 roots, 28 extra nodes, 48 pruned nodes, max_depth=11\u001b[0m\n",
      "\u001b[34m[163]#011train-rmse:0.196735#011validation-rmse:0.313689\u001b[0m\n",
      "\u001b[34m[02:20:43] src/tree/updater_prune.cc:74: tree pruning end, 1 roots, 40 extra nodes, 58 pruned nodes, max_depth=11\u001b[0m\n",
      "\u001b[34m[164]#011train-rmse:0.196378#011validation-rmse:0.313747\u001b[0m\n",
      "\u001b[34m[02:20:47] src/tree/updater_prune.cc:74: tree pruning end, 1 roots, 22 extra nodes, 18 pruned nodes, max_depth=11\u001b[0m\n",
      "\u001b[34m[165]#011train-rmse:0.196113#011validation-rmse:0.313564\u001b[0m\n",
      "\u001b[34m[02:20:50] src/tree/updater_prune.cc:74: tree pruning end, 1 roots, 28 extra nodes, 36 pruned nodes, max_depth=11\u001b[0m\n",
      "\u001b[34m[166]#011train-rmse:0.195738#011validation-rmse:0.313587\u001b[0m\n",
      "\u001b[34m[02:20:53] src/tree/updater_prune.cc:74: tree pruning end, 1 roots, 46 extra nodes, 50 pruned nodes, max_depth=11\u001b[0m\n",
      "\u001b[34m[167]#011train-rmse:0.195183#011validation-rmse:0.313559\u001b[0m\n",
      "\u001b[34m[02:20:56] src/tree/updater_prune.cc:74: tree pruning end, 1 roots, 58 extra nodes, 66 pruned nodes, max_depth=11\u001b[0m\n",
      "\u001b[34m[168]#011train-rmse:0.19435#011validation-rmse:0.313331\u001b[0m\n",
      "\u001b[34m[02:20:59] src/tree/updater_prune.cc:74: tree pruning end, 1 roots, 32 extra nodes, 18 pruned nodes, max_depth=11\u001b[0m\n",
      "\u001b[34m[169]#011train-rmse:0.194025#011validation-rmse:0.313248\u001b[0m\n",
      "\u001b[34m[02:21:03] src/tree/updater_prune.cc:74: tree pruning end, 1 roots, 58 extra nodes, 52 pruned nodes, max_depth=11\u001b[0m\n",
      "\u001b[34m[170]#011train-rmse:0.193283#011validation-rmse:0.313056\u001b[0m\n",
      "\u001b[34m[02:21:06] src/tree/updater_prune.cc:74: tree pruning end, 1 roots, 26 extra nodes, 32 pruned nodes, max_depth=11\u001b[0m\n",
      "\u001b[34m[171]#011train-rmse:0.192987#011validation-rmse:0.313018\u001b[0m\n",
      "\u001b[34m[02:21:09] src/tree/updater_prune.cc:74: tree pruning end, 1 roots, 48 extra nodes, 60 pruned nodes, max_depth=11\u001b[0m\n",
      "\u001b[34m[172]#011train-rmse:0.192448#011validation-rmse:0.313016\u001b[0m\n",
      "\u001b[34m[02:21:12] src/tree/updater_prune.cc:74: tree pruning end, 1 roots, 32 extra nodes, 46 pruned nodes, max_depth=11\u001b[0m\n",
      "\u001b[34m[173]#011train-rmse:0.19214#011validation-rmse:0.312983\u001b[0m\n",
      "\u001b[34m[02:21:15] src/tree/updater_prune.cc:74: tree pruning end, 1 roots, 24 extra nodes, 18 pruned nodes, max_depth=11\u001b[0m\n",
      "\u001b[34m[174]#011train-rmse:0.191854#011validation-rmse:0.313047\u001b[0m\n",
      "\u001b[34m[02:21:19] src/tree/updater_prune.cc:74: tree pruning end, 1 roots, 32 extra nodes, 34 pruned nodes, max_depth=11\u001b[0m\n",
      "\u001b[34m[175]#011train-rmse:0.191472#011validation-rmse:0.313102\u001b[0m\n",
      "\u001b[34m[02:21:22] src/tree/updater_prune.cc:74: tree pruning end, 1 roots, 34 extra nodes, 36 pruned nodes, max_depth=11\u001b[0m\n",
      "\u001b[34m[176]#011train-rmse:0.191086#011validation-rmse:0.313065\u001b[0m\n",
      "\u001b[34m[02:21:25] src/tree/updater_prune.cc:74: tree pruning end, 1 roots, 34 extra nodes, 46 pruned nodes, max_depth=11\u001b[0m\n",
      "\u001b[34m[177]#011train-rmse:0.19066#011validation-rmse:0.313044\u001b[0m\n",
      "\u001b[34m[02:21:28] src/tree/updater_prune.cc:74: tree pruning end, 1 roots, 24 extra nodes, 44 pruned nodes, max_depth=11\u001b[0m\n",
      "\u001b[34m[178]#011train-rmse:0.190476#011validation-rmse:0.312802\u001b[0m\n",
      "\u001b[34m[02:21:31] src/tree/updater_prune.cc:74: tree pruning end, 1 roots, 30 extra nodes, 32 pruned nodes, max_depth=11\u001b[0m\n",
      "\u001b[34m[179]#011train-rmse:0.19022#011validation-rmse:0.312645\u001b[0m\n",
      "\u001b[34m[02:21:35] src/tree/updater_prune.cc:74: tree pruning end, 1 roots, 44 extra nodes, 66 pruned nodes, max_depth=11\u001b[0m\n",
      "\u001b[34m[180]#011train-rmse:0.18968#011validation-rmse:0.312517\u001b[0m\n",
      "\u001b[34m[02:21:38] src/tree/updater_prune.cc:74: tree pruning end, 1 roots, 42 extra nodes, 62 pruned nodes, max_depth=11\u001b[0m\n",
      "\u001b[34m[181]#011train-rmse:0.189278#011validation-rmse:0.312351\u001b[0m\n",
      "\u001b[34m[02:21:41] src/tree/updater_prune.cc:74: tree pruning end, 1 roots, 32 extra nodes, 38 pruned nodes, max_depth=11\u001b[0m\n",
      "\u001b[34m[182]#011train-rmse:0.189019#011validation-rmse:0.312285\u001b[0m\n",
      "\u001b[34m[02:21:44] src/tree/updater_prune.cc:74: tree pruning end, 1 roots, 42 extra nodes, 48 pruned nodes, max_depth=11\u001b[0m\n",
      "\u001b[34m[183]#011train-rmse:0.188664#011validation-rmse:0.312335\u001b[0m\n",
      "\u001b[34m[02:21:47] src/tree/updater_prune.cc:74: tree pruning end, 1 roots, 26 extra nodes, 34 pruned nodes, max_depth=11\u001b[0m\n",
      "\u001b[34m[184]#011train-rmse:0.188427#011validation-rmse:0.31214\u001b[0m\n",
      "\u001b[34m[02:21:51] src/tree/updater_prune.cc:74: tree pruning end, 1 roots, 24 extra nodes, 32 pruned nodes, max_depth=11\u001b[0m\n",
      "\u001b[34m[185]#011train-rmse:0.188208#011validation-rmse:0.312042\u001b[0m\n",
      "\u001b[34m[02:21:54] src/tree/updater_prune.cc:74: tree pruning end, 1 roots, 32 extra nodes, 50 pruned nodes, max_depth=11\u001b[0m\n",
      "\u001b[34m[186]#011train-rmse:0.187845#011validation-rmse:0.311933\u001b[0m\n",
      "\u001b[34m[02:21:57] src/tree/updater_prune.cc:74: tree pruning end, 1 roots, 30 extra nodes, 64 pruned nodes, max_depth=11\u001b[0m\n",
      "\u001b[34m[187]#011train-rmse:0.187579#011validation-rmse:0.311759\u001b[0m\n",
      "\u001b[34m[02:22:00] src/tree/updater_prune.cc:74: tree pruning end, 1 roots, 28 extra nodes, 32 pruned nodes, max_depth=11\u001b[0m\n",
      "\u001b[34m[188]#011train-rmse:0.187329#011validation-rmse:0.311684\u001b[0m\n",
      "\u001b[34m[02:22:03] src/tree/updater_prune.cc:74: tree pruning end, 1 roots, 30 extra nodes, 42 pruned nodes, max_depth=11\u001b[0m\n",
      "\u001b[34m[189]#011train-rmse:0.186965#011validation-rmse:0.311814\u001b[0m\n",
      "\u001b[34m[02:22:07] src/tree/updater_prune.cc:74: tree pruning end, 1 roots, 24 extra nodes, 20 pruned nodes, max_depth=11\u001b[0m\n",
      "\u001b[34m[190]#011train-rmse:0.186846#011validation-rmse:0.311812\u001b[0m\n",
      "\u001b[34m[02:22:10] src/tree/updater_prune.cc:74: tree pruning end, 1 roots, 44 extra nodes, 44 pruned nodes, max_depth=11\u001b[0m\n",
      "\u001b[34m[191]#011train-rmse:0.186382#011validation-rmse:0.311621\u001b[0m\n",
      "\u001b[34m[02:22:13] src/tree/updater_prune.cc:74: tree pruning end, 1 roots, 40 extra nodes, 66 pruned nodes, max_depth=11\u001b[0m\n",
      "\u001b[34m[192]#011train-rmse:0.186048#011validation-rmse:0.311621\u001b[0m\n",
      "\u001b[34m[02:22:16] src/tree/updater_prune.cc:74: tree pruning end, 1 roots, 28 extra nodes, 62 pruned nodes, max_depth=11\u001b[0m\n",
      "\u001b[34m[193]#011train-rmse:0.185814#011validation-rmse:0.311616\u001b[0m\n",
      "\u001b[34m[02:22:19] src/tree/updater_prune.cc:74: tree pruning end, 1 roots, 28 extra nodes, 48 pruned nodes, max_depth=11\u001b[0m\n",
      "\u001b[34m[194]#011train-rmse:0.185457#011validation-rmse:0.31136\u001b[0m\n",
      "\u001b[34m[02:22:23] src/tree/updater_prune.cc:74: tree pruning end, 1 roots, 40 extra nodes, 64 pruned nodes, max_depth=11\u001b[0m\n",
      "\u001b[34m[195]#011train-rmse:0.185066#011validation-rmse:0.311223\u001b[0m\n",
      "\u001b[34m[02:22:26] src/tree/updater_prune.cc:74: tree pruning end, 1 roots, 24 extra nodes, 32 pruned nodes, max_depth=11\u001b[0m\n",
      "\u001b[34m[196]#011train-rmse:0.184927#011validation-rmse:0.311213\u001b[0m\n",
      "\u001b[34m[02:22:29] src/tree/updater_prune.cc:74: tree pruning end, 1 roots, 28 extra nodes, 52 pruned nodes, max_depth=11\u001b[0m\n",
      "\u001b[34m[197]#011train-rmse:0.184648#011validation-rmse:0.311177\u001b[0m\n",
      "\u001b[34m[02:22:32] src/tree/updater_prune.cc:74: tree pruning end, 1 roots, 28 extra nodes, 16 pruned nodes, max_depth=11\u001b[0m\n",
      "\u001b[34m[198]#011train-rmse:0.184398#011validation-rmse:0.311122\u001b[0m\n",
      "\u001b[34m[02:22:35] src/tree/updater_prune.cc:74: tree pruning end, 1 roots, 24 extra nodes, 42 pruned nodes, max_depth=11\u001b[0m\n",
      "\u001b[34m[199]#011train-rmse:0.184151#011validation-rmse:0.311054\u001b[0m\n",
      "Training seconds: 713\n",
      "Billable seconds: 713\n"
     ]
    }
   ],
   "source": [
    "# TODO: Create a new estimator object attached to the best training job found during hyperparameter tuning\n",
    "\n",
    "xgb_attached = sagemaker.estimator.Estimator.attach(xgb_hyperparameter_tuner.best_training_job())\n"
   ]
  },
  {
   "cell_type": "markdown",
   "metadata": {},
   "source": [
    "Now that we have an estimator object attached to the correct training job, we can proceed as we normally would and create a transformer object."
   ]
  },
  {
   "cell_type": "code",
   "execution_count": 43,
   "metadata": {},
   "outputs": [
    {
     "name": "stderr",
     "output_type": "stream",
     "text": [
      "WARNING:sagemaker:Using already existing model: xgboost-200526-0208-003-57417e8e\n"
     ]
    }
   ],
   "source": [
    "# TODO: Create a transformer object from the attached estimator. Using an instance count of 1 and an instance type of ml.m4.xlarge\n",
    "#       should be more than enough.\n",
    "\n",
    "xgb_transformer = xgb_attached.transformer(instance_count = 1, instance_type = 'ml.m4.xlarge')\n"
   ]
  },
  {
   "cell_type": "markdown",
   "metadata": {},
   "source": [
    "Next we actually perform the transform job. When doing so we need to make sure to specify the type of data we are sending so that it is serialized correctly in the background. In our case we are providing our model with csv data so we specify `text/csv`. Also, if the test data that we have provided is too large to process all at once then we need to specify how the data file should be split up. Since each line is a single entry in our data set we tell SageMaker that it can split the input on each line."
   ]
  },
  {
   "cell_type": "code",
   "execution_count": 44,
   "metadata": {},
   "outputs": [],
   "source": [
    "# TODO: Start the transform job. Make sure to specify the content type and the split type of the test data.\n",
    "xgb_transformer.transform(test_location, content_type='text/csv', split_type='Line')"
   ]
  },
  {
   "cell_type": "markdown",
   "metadata": {},
   "source": [
    "Currently the transform job is running but it is doing so in the background. Since we wish to wait until the transform job is done and we would like a bit of feedback we can run the `wait()` method."
   ]
  },
  {
   "cell_type": "code",
   "execution_count": 45,
   "metadata": {},
   "outputs": [
    {
     "name": "stdout",
     "output_type": "stream",
     "text": [
      "......................\u001b[34mArguments: serve\u001b[0m\n",
      "\u001b[34m[2020-05-26 04:28:57 +0000] [1] [INFO] Starting gunicorn 19.7.1\u001b[0m\n",
      "\u001b[34m[2020-05-26 04:28:57 +0000] [1] [INFO] Listening at: http://0.0.0.0:8080 (1)\u001b[0m\n",
      "\u001b[34m[2020-05-26 04:28:57 +0000] [1] [INFO] Using worker: gevent\u001b[0m\n",
      "\u001b[34m[2020-05-26 04:28:57 +0000] [38] [INFO] Booting worker with pid: 38\u001b[0m\n",
      "\u001b[34m[2020-05-26 04:28:57 +0000] [39] [INFO] Booting worker with pid: 39\u001b[0m\n",
      "\u001b[34m[2020-05-26 04:28:57 +0000] [40] [INFO] Booting worker with pid: 40\u001b[0m\n",
      "\u001b[34m[2020-05-26 04:28:57 +0000] [41] [INFO] Booting worker with pid: 41\u001b[0m\n",
      "\u001b[34m[2020-05-26:04:28:57:INFO] Model loaded successfully for worker : 38\u001b[0m\n",
      "\u001b[34m[2020-05-26:04:28:57:INFO] Model loaded successfully for worker : 41\u001b[0m\n",
      "\u001b[34m[2020-05-26:04:28:57:INFO] Model loaded successfully for worker : 39\u001b[0m\n",
      "\u001b[34m[2020-05-26:04:28:57:INFO] Model loaded successfully for worker : 40\u001b[0m\n",
      "\u001b[34m[2020-05-26:04:29:17:INFO] Sniff delimiter as ','\u001b[0m\n",
      "\u001b[34m[2020-05-26:04:29:17:INFO] Determined delimiter of CSV input is ','\u001b[0m\n",
      "\u001b[34m[2020-05-26:04:29:17:INFO] Sniff delimiter as ','\u001b[0m\n",
      "\u001b[34m[2020-05-26:04:29:17:INFO] Determined delimiter of CSV input is ','\u001b[0m\n",
      "\u001b[35m[2020-05-26:04:29:17:INFO] Sniff delimiter as ','\u001b[0m\n",
      "\u001b[35m[2020-05-26:04:29:17:INFO] Determined delimiter of CSV input is ','\u001b[0m\n",
      "\u001b[35m[2020-05-26:04:29:17:INFO] Sniff delimiter as ','\u001b[0m\n",
      "\u001b[35m[2020-05-26:04:29:17:INFO] Determined delimiter of CSV input is ','\u001b[0m\n",
      "\u001b[32m2020-05-26T04:29:16.849:[sagemaker logs]: MaxConcurrentTransforms=4, MaxPayloadInMB=6, BatchStrategy=MULTI_RECORD\u001b[0m\n",
      "\u001b[34m[2020-05-26:04:29:17:INFO] Sniff delimiter as ','\u001b[0m\n",
      "\u001b[34m[2020-05-26:04:29:17:INFO] Determined delimiter of CSV input is ','\u001b[0m\n",
      "\u001b[34m[2020-05-26:04:29:17:INFO] Sniff delimiter as ','\u001b[0m\n",
      "\u001b[34m[2020-05-26:04:29:17:INFO] Determined delimiter of CSV input is ','\u001b[0m\n",
      "\u001b[35m[2020-05-26:04:29:17:INFO] Sniff delimiter as ','\u001b[0m\n",
      "\u001b[35m[2020-05-26:04:29:17:INFO] Determined delimiter of CSV input is ','\u001b[0m\n",
      "\u001b[35m[2020-05-26:04:29:17:INFO] Sniff delimiter as ','\u001b[0m\n",
      "\u001b[35m[2020-05-26:04:29:17:INFO] Determined delimiter of CSV input is ','\u001b[0m\n",
      "\u001b[34m[2020-05-26:04:29:18:ERROR] Loading csv data failed with Exception, please ensure data is in csv format:\n",
      " <type 'exceptions.ValueError'>\n",
      " could not convert string to float: david\u001b[0m\n",
      "\u001b[34mTraceback (most recent call last):\n",
      "  File \"/opt/amazon/lib/python2.7/site-packages/sage_xgboost/serve.py\", line 246, in invocations\n",
      "    dtest, content_type = _parse_content_data(flask.request)\n",
      "  File \"/opt/amazon/lib/python2.7/site-packages/sage_xgboost/serve.py\", line 228, in _parse_content_data\n",
      "    \"please ensure data is in csv format:\\n {}\\n {}\".format(type(e), e))\u001b[0m\n",
      "\u001b[34mRuntimeError: Loading csv data failed with Exception, please ensure data is in csv format:\n",
      " <type 'exceptions.ValueError'>\n",
      " could not convert string to float: david\u001b[0m\n",
      "\u001b[34m[2020-05-26:04:29:18:ERROR] Loading csv data failed with Exception, please ensure data is in csv format:\n",
      " <type 'exceptions.ValueError'>\n",
      " could not convert string to float: strongli\u001b[0m\n",
      "\u001b[34mTraceback (most recent call last):\n",
      "  File \"/opt/amazon/lib/python2.7/site-packages/sage_xgboost/serve.py\", line 246, in invocations\n",
      "    dtest, content_type = _parse_content_data(flask.request)\n",
      "  File \"/opt/amazon/lib/python2.7/site-packages/sage_xgboost/serve.py\", line 228, in _parse_content_data\n",
      "    \"please ensure data is in csv format:\\n {}\\n {}\".format(type(e), e))\u001b[0m\n",
      "\u001b[34mRuntimeError: Loading csv data failed with Exception, please ensure data is in csv format:\n",
      " <type 'exceptions.ValueError'>\n",
      " could not convert string to float: strongli\u001b[0m\n",
      "\u001b[34m[2020-05-26:04:29:19:ERROR] Loading csv data failed with Exception, please ensure data is in csv format:\n",
      " <type 'exceptions.ValueError'>\n",
      " could not convert string to float: wonder\u001b[0m\n",
      "\u001b[34mTraceback (most recent call last):\n",
      "  File \"/opt/amazon/lib/python2.7/site-packages/sage_xgboost/serve.py\", line 246, in invocations\n",
      "    dtest, content_type = _parse_content_data(flask.request)\n",
      "  File \"/opt/amazon/lib/python2.7/site-packages/sage_xgboost/serve.py\", line 228, in _parse_content_data\n",
      "    \"please ensure data is in csv format:\\n {}\\n {}\".format(type(e), e))\u001b[0m\n",
      "\u001b[34mRuntimeError: Loading csv data failed with Exception, please ensure data is in csv format:\n",
      " <type 'exceptions.ValueError'>\n",
      " could not convert string to float: wonder\u001b[0m\n",
      "\u001b[34m[2020-05-26:04:29:19:ERROR] Loading csv data failed with Exception, please ensure data is in csv format:\n",
      " <type 'exceptions.ValueError'>\n",
      " could not convert string to float: saw\u001b[0m\n",
      "\u001b[34mTraceback (most recent call last):\n",
      "  File \"/opt/amazon/lib/python2.7/site-packages/sage_xgboost/serve.py\", line 246, in invocations\n",
      "    dtest, content_type = _parse_content_data(flask.request)\n",
      "  File \"/opt/amazon/lib/python2.7/site-packages/sage_xgboost/serve.py\", line 228, in _parse_content_data\n",
      "    \"please ensure data is in csv format:\\n {}\\n {}\".format(type(e), e))\u001b[0m\n",
      "\u001b[35m[2020-05-26:04:29:18:ERROR] Loading csv data failed with Exception, please ensure data is in csv format:\n",
      " <type 'exceptions.ValueError'>\n",
      " could not convert string to float: david\u001b[0m\n",
      "\u001b[35mTraceback (most recent call last):\n",
      "  File \"/opt/amazon/lib/python2.7/site-packages/sage_xgboost/serve.py\", line 246, in invocations\n",
      "    dtest, content_type = _parse_content_data(flask.request)\n",
      "  File \"/opt/amazon/lib/python2.7/site-packages/sage_xgboost/serve.py\", line 228, in _parse_content_data\n",
      "    \"please ensure data is in csv format:\\n {}\\n {}\".format(type(e), e))\u001b[0m\n",
      "\u001b[35mRuntimeError: Loading csv data failed with Exception, please ensure data is in csv format:\n",
      " <type 'exceptions.ValueError'>\n",
      " could not convert string to float: david\u001b[0m\n",
      "\u001b[35m[2020-05-26:04:29:18:ERROR] Loading csv data failed with Exception, please ensure data is in csv format:\n",
      " <type 'exceptions.ValueError'>\n",
      " could not convert string to float: strongli\u001b[0m\n",
      "\u001b[35mTraceback (most recent call last):\n",
      "  File \"/opt/amazon/lib/python2.7/site-packages/sage_xgboost/serve.py\", line 246, in invocations\n",
      "    dtest, content_type = _parse_content_data(flask.request)\n",
      "  File \"/opt/amazon/lib/python2.7/site-packages/sage_xgboost/serve.py\", line 228, in _parse_content_data\n",
      "    \"please ensure data is in csv format:\\n {}\\n {}\".format(type(e), e))\u001b[0m\n",
      "\u001b[35mRuntimeError: Loading csv data failed with Exception, please ensure data is in csv format:\n",
      " <type 'exceptions.ValueError'>\n",
      " could not convert string to float: strongli\u001b[0m\n",
      "\u001b[35m[2020-05-26:04:29:19:ERROR] Loading csv data failed with Exception, please ensure data is in csv format:\n",
      " <type 'exceptions.ValueError'>\n",
      " could not convert string to float: wonder\u001b[0m\n",
      "\u001b[35mTraceback (most recent call last):\n",
      "  File \"/opt/amazon/lib/python2.7/site-packages/sage_xgboost/serve.py\", line 246, in invocations\n",
      "    dtest, content_type = _parse_content_data(flask.request)\n",
      "  File \"/opt/amazon/lib/python2.7/site-packages/sage_xgboost/serve.py\", line 228, in _parse_content_data\n",
      "    \"please ensure data is in csv format:\\n {}\\n {}\".format(type(e), e))\u001b[0m\n",
      "\u001b[35mRuntimeError: Loading csv data failed with Exception, please ensure data is in csv format:\n",
      " <type 'exceptions.ValueError'>\n",
      " could not convert string to float: wonder\u001b[0m\n",
      "\u001b[35m[2020-05-26:04:29:19:ERROR] Loading csv data failed with Exception, please ensure data is in csv format:\n",
      " <type 'exceptions.ValueError'>\n",
      " could not convert string to float: saw\u001b[0m\n",
      "\u001b[35mTraceback (most recent call last):\n",
      "  File \"/opt/amazon/lib/python2.7/site-packages/sage_xgboost/serve.py\", line 246, in invocations\n",
      "    dtest, content_type = _parse_content_data(flask.request)\n",
      "  File \"/opt/amazon/lib/python2.7/site-packages/sage_xgboost/serve.py\", line 228, in _parse_content_data\n",
      "    \"please ensure data is in csv format:\\n {}\\n {}\".format(type(e), e))\u001b[0m\n",
      "\u001b[34mRuntimeError: Loading csv data failed with Exception, please ensure data is in csv format:\n",
      " <type 'exceptions.ValueError'>\n",
      " could not convert string to float: saw\u001b[0m\n",
      "\u001b[35mRuntimeError: Loading csv data failed with Exception, please ensure data is in csv format:\n",
      " <type 'exceptions.ValueError'>\n",
      " could not convert string to float: saw\u001b[0m\n",
      "\u001b[32m2020-05-26T04:29:18.950:[sagemaker logs]: sagemaker-us-east-2-357004283973/sentiment-xgboost/test.csv: ClientError: 415\u001b[0m\n",
      "\u001b[32m2020-05-26T04:29:18.952:[sagemaker logs]: sagemaker-us-east-2-357004283973/sentiment-xgboost/test.csv: \u001b[0m\n",
      "\u001b[32m2020-05-26T04:29:18.953:[sagemaker logs]: sagemaker-us-east-2-357004283973/sentiment-xgboost/test.csv: Message:\u001b[0m\n",
      "\u001b[32m2020-05-26T04:29:18.953:[sagemaker logs]: sagemaker-us-east-2-357004283973/sentiment-xgboost/test.csv: Loading csv data failed with Exception, please ensure data is in csv format:\u001b[0m\n",
      "\u001b[32m2020-05-26T04:29:18.955:[sagemaker logs]: sagemaker-us-east-2-357004283973/sentiment-xgboost/test.csv:  <type 'exceptions.ValueError'>\u001b[0m\n",
      "\u001b[32m2020-05-26T04:29:18.956:[sagemaker logs]: sagemaker-us-east-2-357004283973/sentiment-xgboost/test.csv:  could not convert string to float: david\u001b[0m\n",
      "\u001b[32m2020-05-26T04:29:18.991:[sagemaker logs]: sagemaker-us-east-2-357004283973/sentiment-xgboost/test.csv: ClientError: 415\u001b[0m\n",
      "\u001b[32m2020-05-26T04:29:18.992:[sagemaker logs]: sagemaker-us-east-2-357004283973/sentiment-xgboost/test.csv: \u001b[0m\n",
      "\u001b[32m2020-05-26T04:29:18.992:[sagemaker logs]: sagemaker-us-east-2-357004283973/sentiment-xgboost/test.csv: Message:\u001b[0m\n",
      "\u001b[32m2020-05-26T04:29:18.993:[sagemaker logs]: sagemaker-us-east-2-357004283973/sentiment-xgboost/test.csv: Loading csv data failed with Exception, please ensure data is in csv format:\u001b[0m\n",
      "\u001b[32m2020-05-26T04:29:18.993:[sagemaker logs]: sagemaker-us-east-2-357004283973/sentiment-xgboost/test.csv:  <type 'exceptions.ValueError'>\u001b[0m\n",
      "\u001b[32m2020-05-26T04:29:18.993:[sagemaker logs]: sagemaker-us-east-2-357004283973/sentiment-xgboost/test.csv:  could not convert string to float: strongli\u001b[0m\n",
      "\u001b[32m2020-05-26T04:29:19.138:[sagemaker logs]: sagemaker-us-east-2-357004283973/sentiment-xgboost/test.csv: ClientError: 415\u001b[0m\n",
      "\u001b[32m2020-05-26T04:29:19.138:[sagemaker logs]: sagemaker-us-east-2-357004283973/sentiment-xgboost/test.csv: \u001b[0m\n",
      "\u001b[32m2020-05-26T04:29:19.138:[sagemaker logs]: sagemaker-us-east-2-357004283973/sentiment-xgboost/test.csv: Message:\u001b[0m\n",
      "\u001b[32m2020-05-26T04:29:19.138:[sagemaker logs]: sagemaker-us-east-2-357004283973/sentiment-xgboost/test.csv: Loading csv data failed with Exception, please ensure data is in csv format:\u001b[0m\n",
      "\u001b[32m2020-05-26T04:29:19.138:[sagemaker logs]: sagemaker-us-east-2-357004283973/sentiment-xgboost/test.csv:  <type 'exceptions.ValueError'>\u001b[0m\n",
      "\u001b[32m2020-05-26T04:29:19.138:[sagemaker logs]: sagemaker-us-east-2-357004283973/sentiment-xgboost/test.csv:  could not convert string to float: wonder\u001b[0m\n",
      "\u001b[32m2020-05-26T04:29:19.186:[sagemaker logs]: sagemaker-us-east-2-357004283973/sentiment-xgboost/test.csv: ClientError: 415\u001b[0m\n",
      "\u001b[32m2020-05-26T04:29:19.186:[sagemaker logs]: sagemaker-us-east-2-357004283973/sentiment-xgboost/test.csv: \u001b[0m\n",
      "\u001b[32m2020-05-26T04:29:19.186:[sagemaker logs]: sagemaker-us-east-2-357004283973/sentiment-xgboost/test.csv: Message:\u001b[0m\n",
      "\u001b[32m2020-05-26T04:29:19.187:[sagemaker logs]: sagemaker-us-east-2-357004283973/sentiment-xgboost/test.csv: Loading csv data failed with Exception, please ensure data is in csv format:\u001b[0m\n",
      "\u001b[32m2020-05-26T04:29:19.187:[sagemaker logs]: sagemaker-us-east-2-357004283973/sentiment-xgboost/test.csv:  <type 'exceptions.ValueError'>\u001b[0m\n",
      "\u001b[32m2020-05-26T04:29:19.187:[sagemaker logs]: sagemaker-us-east-2-357004283973/sentiment-xgboost/test.csv:  could not convert string to float: saw\u001b[0m\n"
     ]
    },
    {
     "name": "stdout",
     "output_type": "stream",
     "text": [
      "\n"
     ]
    },
    {
     "ename": "UnexpectedStatusException",
     "evalue": "Error for Transform job xgboost-200526-0208-003-57417e8e-2020-05-26-04-25-32-689: Failed. Reason: ClientError: See job logs for more information",
     "output_type": "error",
     "traceback": [
      "\u001b[0;31m---------------------------------------------------------------------------\u001b[0m",
      "\u001b[0;31mUnexpectedStatusException\u001b[0m                 Traceback (most recent call last)",
      "\u001b[0;32m<ipython-input-45-41dd6a2aa41e>\u001b[0m in \u001b[0;36m<module>\u001b[0;34m()\u001b[0m\n\u001b[0;32m----> 1\u001b[0;31m \u001b[0mxgb_transformer\u001b[0m\u001b[0;34m.\u001b[0m\u001b[0mwait\u001b[0m\u001b[0;34m(\u001b[0m\u001b[0;34m)\u001b[0m\u001b[0;34m\u001b[0m\u001b[0m\n\u001b[0m",
      "\u001b[0;32m~/anaconda3/envs/python3/lib/python3.6/site-packages/sagemaker/transformer.py\u001b[0m in \u001b[0;36mwait\u001b[0;34m(self, logs)\u001b[0m\n\u001b[1;32m    253\u001b[0m         \u001b[0;34m\"\"\"Placeholder docstring\"\"\"\u001b[0m\u001b[0;34m\u001b[0m\u001b[0m\n\u001b[1;32m    254\u001b[0m         \u001b[0mself\u001b[0m\u001b[0;34m.\u001b[0m\u001b[0m_ensure_last_transform_job\u001b[0m\u001b[0;34m(\u001b[0m\u001b[0;34m)\u001b[0m\u001b[0;34m\u001b[0m\u001b[0m\n\u001b[0;32m--> 255\u001b[0;31m         \u001b[0mself\u001b[0m\u001b[0;34m.\u001b[0m\u001b[0mlatest_transform_job\u001b[0m\u001b[0;34m.\u001b[0m\u001b[0mwait\u001b[0m\u001b[0;34m(\u001b[0m\u001b[0mlogs\u001b[0m\u001b[0;34m=\u001b[0m\u001b[0mlogs\u001b[0m\u001b[0;34m)\u001b[0m\u001b[0;34m\u001b[0m\u001b[0m\n\u001b[0m\u001b[1;32m    256\u001b[0m \u001b[0;34m\u001b[0m\u001b[0m\n\u001b[1;32m    257\u001b[0m     \u001b[0;32mdef\u001b[0m \u001b[0mstop_transform_job\u001b[0m\u001b[0;34m(\u001b[0m\u001b[0mself\u001b[0m\u001b[0;34m,\u001b[0m \u001b[0mwait\u001b[0m\u001b[0;34m=\u001b[0m\u001b[0;32mTrue\u001b[0m\u001b[0;34m)\u001b[0m\u001b[0;34m:\u001b[0m\u001b[0;34m\u001b[0m\u001b[0m\n",
      "\u001b[0;32m~/anaconda3/envs/python3/lib/python3.6/site-packages/sagemaker/transformer.py\u001b[0m in \u001b[0;36mwait\u001b[0;34m(self, logs)\u001b[0m\n\u001b[1;32m    382\u001b[0m     \u001b[0;32mdef\u001b[0m \u001b[0mwait\u001b[0m\u001b[0;34m(\u001b[0m\u001b[0mself\u001b[0m\u001b[0;34m,\u001b[0m \u001b[0mlogs\u001b[0m\u001b[0;34m=\u001b[0m\u001b[0;32mTrue\u001b[0m\u001b[0;34m)\u001b[0m\u001b[0;34m:\u001b[0m\u001b[0;34m\u001b[0m\u001b[0m\n\u001b[1;32m    383\u001b[0m         \u001b[0;32mif\u001b[0m \u001b[0mlogs\u001b[0m\u001b[0;34m:\u001b[0m\u001b[0;34m\u001b[0m\u001b[0m\n\u001b[0;32m--> 384\u001b[0;31m             \u001b[0mself\u001b[0m\u001b[0;34m.\u001b[0m\u001b[0msagemaker_session\u001b[0m\u001b[0;34m.\u001b[0m\u001b[0mlogs_for_transform_job\u001b[0m\u001b[0;34m(\u001b[0m\u001b[0mself\u001b[0m\u001b[0;34m.\u001b[0m\u001b[0mjob_name\u001b[0m\u001b[0;34m,\u001b[0m \u001b[0mwait\u001b[0m\u001b[0;34m=\u001b[0m\u001b[0;32mTrue\u001b[0m\u001b[0;34m)\u001b[0m\u001b[0;34m\u001b[0m\u001b[0m\n\u001b[0m\u001b[1;32m    385\u001b[0m         \u001b[0;32melse\u001b[0m\u001b[0;34m:\u001b[0m\u001b[0;34m\u001b[0m\u001b[0m\n\u001b[1;32m    386\u001b[0m             \u001b[0mself\u001b[0m\u001b[0;34m.\u001b[0m\u001b[0msagemaker_session\u001b[0m\u001b[0;34m.\u001b[0m\u001b[0mwait_for_transform_job\u001b[0m\u001b[0;34m(\u001b[0m\u001b[0mself\u001b[0m\u001b[0;34m.\u001b[0m\u001b[0mjob_name\u001b[0m\u001b[0;34m)\u001b[0m\u001b[0;34m\u001b[0m\u001b[0m\n",
      "\u001b[0;32m~/anaconda3/envs/python3/lib/python3.6/site-packages/sagemaker/session.py\u001b[0m in \u001b[0;36mlogs_for_transform_job\u001b[0;34m(self, job_name, wait, poll)\u001b[0m\n\u001b[1;32m   3212\u001b[0m \u001b[0;34m\u001b[0m\u001b[0m\n\u001b[1;32m   3213\u001b[0m         \u001b[0;32mif\u001b[0m \u001b[0mwait\u001b[0m\u001b[0;34m:\u001b[0m\u001b[0;34m\u001b[0m\u001b[0m\n\u001b[0;32m-> 3214\u001b[0;31m             \u001b[0mself\u001b[0m\u001b[0;34m.\u001b[0m\u001b[0m_check_job_status\u001b[0m\u001b[0;34m(\u001b[0m\u001b[0mjob_name\u001b[0m\u001b[0;34m,\u001b[0m \u001b[0mdescription\u001b[0m\u001b[0;34m,\u001b[0m \u001b[0;34m\"TransformJobStatus\"\u001b[0m\u001b[0;34m)\u001b[0m\u001b[0;34m\u001b[0m\u001b[0m\n\u001b[0m\u001b[1;32m   3215\u001b[0m             \u001b[0;32mif\u001b[0m \u001b[0mdot\u001b[0m\u001b[0;34m:\u001b[0m\u001b[0;34m\u001b[0m\u001b[0m\n\u001b[1;32m   3216\u001b[0m                 \u001b[0mprint\u001b[0m\u001b[0;34m(\u001b[0m\u001b[0;34m)\u001b[0m\u001b[0;34m\u001b[0m\u001b[0m\n",
      "\u001b[0;32m~/anaconda3/envs/python3/lib/python3.6/site-packages/sagemaker/session.py\u001b[0m in \u001b[0;36m_check_job_status\u001b[0;34m(self, job, desc, status_key_name)\u001b[0m\n\u001b[1;32m   2636\u001b[0m                 ),\n\u001b[1;32m   2637\u001b[0m                 \u001b[0mallowed_statuses\u001b[0m\u001b[0;34m=\u001b[0m\u001b[0;34m[\u001b[0m\u001b[0;34m\"Completed\"\u001b[0m\u001b[0;34m,\u001b[0m \u001b[0;34m\"Stopped\"\u001b[0m\u001b[0;34m]\u001b[0m\u001b[0;34m,\u001b[0m\u001b[0;34m\u001b[0m\u001b[0m\n\u001b[0;32m-> 2638\u001b[0;31m                 \u001b[0mactual_status\u001b[0m\u001b[0;34m=\u001b[0m\u001b[0mstatus\u001b[0m\u001b[0;34m,\u001b[0m\u001b[0;34m\u001b[0m\u001b[0m\n\u001b[0m\u001b[1;32m   2639\u001b[0m             )\n\u001b[1;32m   2640\u001b[0m \u001b[0;34m\u001b[0m\u001b[0m\n",
      "\u001b[0;31mUnexpectedStatusException\u001b[0m: Error for Transform job xgboost-200526-0208-003-57417e8e-2020-05-26-04-25-32-689: Failed. Reason: ClientError: See job logs for more information"
     ]
    }
   ],
   "source": [
    "xgb_transformer.wait()"
   ]
  },
  {
   "cell_type": "markdown",
   "metadata": {},
   "source": [
    "Now the transform job has executed and the result, the estimated sentiment of each review, has been saved on S3. Since we would rather work on this file locally we can perform a bit of notebook magic to copy the file to the `data_dir`."
   ]
  },
  {
   "cell_type": "code",
   "execution_count": 52,
   "metadata": {},
   "outputs": [
    {
     "name": "stdout",
     "output_type": "stream",
     "text": [
      "s3://sagemaker-us-east-2-357004283973/xgboost-200526-0208-003-57417e8e-2020-05-26-04-25-32-689\n",
      "../data/xgboost\n"
     ]
    }
   ],
   "source": [
    "!echo $xgb_transformer.output_path\n",
    "!echo $data_dir"
   ]
  },
  {
   "cell_type": "code",
   "execution_count": 48,
   "metadata": {},
   "outputs": [],
   "source": [
    "!aws s3 cp --recursive $xgb_transformer.output_path $data_dir"
   ]
  },
  {
   "cell_type": "markdown",
   "metadata": {},
   "source": [
    "The last step is now to read in the output from our model, convert the output to something a little more usable, in this case we want the sentiment to be either `1` (positive) or `0` (negative), and then compare to the ground truth labels."
   ]
  },
  {
   "cell_type": "code",
   "execution_count": 47,
   "metadata": {},
   "outputs": [
    {
     "ename": "FileNotFoundError",
     "evalue": "[Errno 2] File b'../data/xgboost/test.csv.out' does not exist: b'../data/xgboost/test.csv.out'",
     "output_type": "error",
     "traceback": [
      "\u001b[0;31m---------------------------------------------------------------------------\u001b[0m",
      "\u001b[0;31mFileNotFoundError\u001b[0m                         Traceback (most recent call last)",
      "\u001b[0;32m<ipython-input-47-123e18e60ff0>\u001b[0m in \u001b[0;36m<module>\u001b[0;34m()\u001b[0m\n\u001b[0;32m----> 1\u001b[0;31m \u001b[0mpredictions\u001b[0m \u001b[0;34m=\u001b[0m \u001b[0mpd\u001b[0m\u001b[0;34m.\u001b[0m\u001b[0mread_csv\u001b[0m\u001b[0;34m(\u001b[0m\u001b[0mos\u001b[0m\u001b[0;34m.\u001b[0m\u001b[0mpath\u001b[0m\u001b[0;34m.\u001b[0m\u001b[0mjoin\u001b[0m\u001b[0;34m(\u001b[0m\u001b[0mdata_dir\u001b[0m\u001b[0;34m,\u001b[0m \u001b[0;34m'test.csv.out'\u001b[0m\u001b[0;34m)\u001b[0m\u001b[0;34m,\u001b[0m \u001b[0mheader\u001b[0m\u001b[0;34m=\u001b[0m\u001b[0;32mNone\u001b[0m\u001b[0;34m)\u001b[0m\u001b[0;34m\u001b[0m\u001b[0m\n\u001b[0m\u001b[1;32m      2\u001b[0m \u001b[0mpredictions\u001b[0m \u001b[0;34m=\u001b[0m \u001b[0;34m[\u001b[0m\u001b[0mround\u001b[0m\u001b[0;34m(\u001b[0m\u001b[0mnum\u001b[0m\u001b[0;34m)\u001b[0m \u001b[0;32mfor\u001b[0m \u001b[0mnum\u001b[0m \u001b[0;32min\u001b[0m \u001b[0mpredictions\u001b[0m\u001b[0;34m.\u001b[0m\u001b[0msqueeze\u001b[0m\u001b[0;34m(\u001b[0m\u001b[0;34m)\u001b[0m\u001b[0;34m.\u001b[0m\u001b[0mvalues\u001b[0m\u001b[0;34m]\u001b[0m\u001b[0;34m\u001b[0m\u001b[0m\n",
      "\u001b[0;32m~/anaconda3/envs/python3/lib/python3.6/site-packages/pandas/io/parsers.py\u001b[0m in \u001b[0;36mparser_f\u001b[0;34m(filepath_or_buffer, sep, delimiter, header, names, index_col, usecols, squeeze, prefix, mangle_dupe_cols, dtype, engine, converters, true_values, false_values, skipinitialspace, skiprows, skipfooter, nrows, na_values, keep_default_na, na_filter, verbose, skip_blank_lines, parse_dates, infer_datetime_format, keep_date_col, date_parser, dayfirst, iterator, chunksize, compression, thousands, decimal, lineterminator, quotechar, quoting, doublequote, escapechar, comment, encoding, dialect, tupleize_cols, error_bad_lines, warn_bad_lines, delim_whitespace, low_memory, memory_map, float_precision)\u001b[0m\n\u001b[1;32m    700\u001b[0m                     skip_blank_lines=skip_blank_lines)\n\u001b[1;32m    701\u001b[0m \u001b[0;34m\u001b[0m\u001b[0m\n\u001b[0;32m--> 702\u001b[0;31m         \u001b[0;32mreturn\u001b[0m \u001b[0m_read\u001b[0m\u001b[0;34m(\u001b[0m\u001b[0mfilepath_or_buffer\u001b[0m\u001b[0;34m,\u001b[0m \u001b[0mkwds\u001b[0m\u001b[0;34m)\u001b[0m\u001b[0;34m\u001b[0m\u001b[0m\n\u001b[0m\u001b[1;32m    703\u001b[0m \u001b[0;34m\u001b[0m\u001b[0m\n\u001b[1;32m    704\u001b[0m     \u001b[0mparser_f\u001b[0m\u001b[0;34m.\u001b[0m\u001b[0m__name__\u001b[0m \u001b[0;34m=\u001b[0m \u001b[0mname\u001b[0m\u001b[0;34m\u001b[0m\u001b[0m\n",
      "\u001b[0;32m~/anaconda3/envs/python3/lib/python3.6/site-packages/pandas/io/parsers.py\u001b[0m in \u001b[0;36m_read\u001b[0;34m(filepath_or_buffer, kwds)\u001b[0m\n\u001b[1;32m    427\u001b[0m \u001b[0;34m\u001b[0m\u001b[0m\n\u001b[1;32m    428\u001b[0m     \u001b[0;31m# Create the parser.\u001b[0m\u001b[0;34m\u001b[0m\u001b[0;34m\u001b[0m\u001b[0m\n\u001b[0;32m--> 429\u001b[0;31m     \u001b[0mparser\u001b[0m \u001b[0;34m=\u001b[0m \u001b[0mTextFileReader\u001b[0m\u001b[0;34m(\u001b[0m\u001b[0mfilepath_or_buffer\u001b[0m\u001b[0;34m,\u001b[0m \u001b[0;34m**\u001b[0m\u001b[0mkwds\u001b[0m\u001b[0;34m)\u001b[0m\u001b[0;34m\u001b[0m\u001b[0m\n\u001b[0m\u001b[1;32m    430\u001b[0m \u001b[0;34m\u001b[0m\u001b[0m\n\u001b[1;32m    431\u001b[0m     \u001b[0;32mif\u001b[0m \u001b[0mchunksize\u001b[0m \u001b[0;32mor\u001b[0m \u001b[0miterator\u001b[0m\u001b[0;34m:\u001b[0m\u001b[0;34m\u001b[0m\u001b[0m\n",
      "\u001b[0;32m~/anaconda3/envs/python3/lib/python3.6/site-packages/pandas/io/parsers.py\u001b[0m in \u001b[0;36m__init__\u001b[0;34m(self, f, engine, **kwds)\u001b[0m\n\u001b[1;32m    893\u001b[0m             \u001b[0mself\u001b[0m\u001b[0;34m.\u001b[0m\u001b[0moptions\u001b[0m\u001b[0;34m[\u001b[0m\u001b[0;34m'has_index_names'\u001b[0m\u001b[0;34m]\u001b[0m \u001b[0;34m=\u001b[0m \u001b[0mkwds\u001b[0m\u001b[0;34m[\u001b[0m\u001b[0;34m'has_index_names'\u001b[0m\u001b[0;34m]\u001b[0m\u001b[0;34m\u001b[0m\u001b[0m\n\u001b[1;32m    894\u001b[0m \u001b[0;34m\u001b[0m\u001b[0m\n\u001b[0;32m--> 895\u001b[0;31m         \u001b[0mself\u001b[0m\u001b[0;34m.\u001b[0m\u001b[0m_make_engine\u001b[0m\u001b[0;34m(\u001b[0m\u001b[0mself\u001b[0m\u001b[0;34m.\u001b[0m\u001b[0mengine\u001b[0m\u001b[0;34m)\u001b[0m\u001b[0;34m\u001b[0m\u001b[0m\n\u001b[0m\u001b[1;32m    896\u001b[0m \u001b[0;34m\u001b[0m\u001b[0m\n\u001b[1;32m    897\u001b[0m     \u001b[0;32mdef\u001b[0m \u001b[0mclose\u001b[0m\u001b[0;34m(\u001b[0m\u001b[0mself\u001b[0m\u001b[0;34m)\u001b[0m\u001b[0;34m:\u001b[0m\u001b[0;34m\u001b[0m\u001b[0m\n",
      "\u001b[0;32m~/anaconda3/envs/python3/lib/python3.6/site-packages/pandas/io/parsers.py\u001b[0m in \u001b[0;36m_make_engine\u001b[0;34m(self, engine)\u001b[0m\n\u001b[1;32m   1120\u001b[0m     \u001b[0;32mdef\u001b[0m \u001b[0m_make_engine\u001b[0m\u001b[0;34m(\u001b[0m\u001b[0mself\u001b[0m\u001b[0;34m,\u001b[0m \u001b[0mengine\u001b[0m\u001b[0;34m=\u001b[0m\u001b[0;34m'c'\u001b[0m\u001b[0;34m)\u001b[0m\u001b[0;34m:\u001b[0m\u001b[0;34m\u001b[0m\u001b[0m\n\u001b[1;32m   1121\u001b[0m         \u001b[0;32mif\u001b[0m \u001b[0mengine\u001b[0m \u001b[0;34m==\u001b[0m \u001b[0;34m'c'\u001b[0m\u001b[0;34m:\u001b[0m\u001b[0;34m\u001b[0m\u001b[0m\n\u001b[0;32m-> 1122\u001b[0;31m             \u001b[0mself\u001b[0m\u001b[0;34m.\u001b[0m\u001b[0m_engine\u001b[0m \u001b[0;34m=\u001b[0m \u001b[0mCParserWrapper\u001b[0m\u001b[0;34m(\u001b[0m\u001b[0mself\u001b[0m\u001b[0;34m.\u001b[0m\u001b[0mf\u001b[0m\u001b[0;34m,\u001b[0m \u001b[0;34m**\u001b[0m\u001b[0mself\u001b[0m\u001b[0;34m.\u001b[0m\u001b[0moptions\u001b[0m\u001b[0;34m)\u001b[0m\u001b[0;34m\u001b[0m\u001b[0m\n\u001b[0m\u001b[1;32m   1123\u001b[0m         \u001b[0;32melse\u001b[0m\u001b[0;34m:\u001b[0m\u001b[0;34m\u001b[0m\u001b[0m\n\u001b[1;32m   1124\u001b[0m             \u001b[0;32mif\u001b[0m \u001b[0mengine\u001b[0m \u001b[0;34m==\u001b[0m \u001b[0;34m'python'\u001b[0m\u001b[0;34m:\u001b[0m\u001b[0;34m\u001b[0m\u001b[0m\n",
      "\u001b[0;32m~/anaconda3/envs/python3/lib/python3.6/site-packages/pandas/io/parsers.py\u001b[0m in \u001b[0;36m__init__\u001b[0;34m(self, src, **kwds)\u001b[0m\n\u001b[1;32m   1851\u001b[0m         \u001b[0mkwds\u001b[0m\u001b[0;34m[\u001b[0m\u001b[0;34m'usecols'\u001b[0m\u001b[0;34m]\u001b[0m \u001b[0;34m=\u001b[0m \u001b[0mself\u001b[0m\u001b[0;34m.\u001b[0m\u001b[0musecols\u001b[0m\u001b[0;34m\u001b[0m\u001b[0m\n\u001b[1;32m   1852\u001b[0m \u001b[0;34m\u001b[0m\u001b[0m\n\u001b[0;32m-> 1853\u001b[0;31m         \u001b[0mself\u001b[0m\u001b[0;34m.\u001b[0m\u001b[0m_reader\u001b[0m \u001b[0;34m=\u001b[0m \u001b[0mparsers\u001b[0m\u001b[0;34m.\u001b[0m\u001b[0mTextReader\u001b[0m\u001b[0;34m(\u001b[0m\u001b[0msrc\u001b[0m\u001b[0;34m,\u001b[0m \u001b[0;34m**\u001b[0m\u001b[0mkwds\u001b[0m\u001b[0;34m)\u001b[0m\u001b[0;34m\u001b[0m\u001b[0m\n\u001b[0m\u001b[1;32m   1854\u001b[0m         \u001b[0mself\u001b[0m\u001b[0;34m.\u001b[0m\u001b[0munnamed_cols\u001b[0m \u001b[0;34m=\u001b[0m \u001b[0mself\u001b[0m\u001b[0;34m.\u001b[0m\u001b[0m_reader\u001b[0m\u001b[0;34m.\u001b[0m\u001b[0munnamed_cols\u001b[0m\u001b[0;34m\u001b[0m\u001b[0m\n\u001b[1;32m   1855\u001b[0m \u001b[0;34m\u001b[0m\u001b[0m\n",
      "\u001b[0;32mpandas/_libs/parsers.pyx\u001b[0m in \u001b[0;36mpandas._libs.parsers.TextReader.__cinit__\u001b[0;34m()\u001b[0m\n",
      "\u001b[0;32mpandas/_libs/parsers.pyx\u001b[0m in \u001b[0;36mpandas._libs.parsers.TextReader._setup_parser_source\u001b[0;34m()\u001b[0m\n",
      "\u001b[0;31mFileNotFoundError\u001b[0m: [Errno 2] File b'../data/xgboost/test.csv.out' does not exist: b'../data/xgboost/test.csv.out'"
     ]
    }
   ],
   "source": [
    "predictions = pd.read_csv(os.path.join(data_dir, 'test.csv.out'), header=None)\n",
    "predictions = [round(num) for num in predictions.squeeze().values]"
   ]
  },
  {
   "cell_type": "code",
   "execution_count": null,
   "metadata": {},
   "outputs": [],
   "source": [
    "from sklearn.metrics import accuracy_score\n",
    "accuracy_score(test_y, predictions)"
   ]
  },
  {
   "cell_type": "markdown",
   "metadata": {},
   "source": [
    "## Optional: Clean up\n",
    "\n",
    "The default notebook instance on SageMaker doesn't have a lot of excess disk space available. As you continue to complete and execute notebooks you will eventually fill up this disk space, leading to errors which can be difficult to diagnose. Once you are completely finished using a notebook it is a good idea to remove the files that you created along the way. Of course, you can do this from the terminal or from the notebook hub if you would like. The cell below contains some commands to clean up the created files from within the notebook."
   ]
  },
  {
   "cell_type": "code",
   "execution_count": 53,
   "metadata": {},
   "outputs": [
    {
     "name": "stdout",
     "output_type": "stream",
     "text": [
      "rmdir: failed to remove ‘../cache/sentiment_analysis’: Directory not empty\r\n"
     ]
    }
   ],
   "source": [
    "# First we will remove all of the files contained in the data_dir directory\n",
    "!rm $data_dir/*\n",
    "\n",
    "# And then we delete the directory itself\n",
    "!rmdir $data_dir\n",
    "\n",
    "# Similarly we will remove the files in the cache_dir directory and the directory itself\n",
    "!rm $cache_dir/*\n",
    "!rmdir $cache_dir"
   ]
  },
  {
   "cell_type": "code",
   "execution_count": null,
   "metadata": {},
   "outputs": [],
   "source": []
  }
 ],
 "metadata": {
  "kernelspec": {
   "display_name": "conda_python3",
   "language": "python",
   "name": "conda_python3"
  },
  "language_info": {
   "codemirror_mode": {
    "name": "ipython",
    "version": 3
   },
   "file_extension": ".py",
   "mimetype": "text/x-python",
   "name": "python",
   "nbconvert_exporter": "python",
   "pygments_lexer": "ipython3",
   "version": "3.6.5"
  }
 },
 "nbformat": 4,
 "nbformat_minor": 2
}
