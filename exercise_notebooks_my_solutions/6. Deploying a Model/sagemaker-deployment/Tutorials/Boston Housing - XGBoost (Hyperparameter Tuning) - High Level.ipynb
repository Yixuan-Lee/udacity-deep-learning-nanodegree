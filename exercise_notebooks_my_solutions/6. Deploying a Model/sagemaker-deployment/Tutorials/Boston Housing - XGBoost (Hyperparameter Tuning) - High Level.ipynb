{
 "cells": [
  {
   "cell_type": "markdown",
   "metadata": {},
   "source": [
    "# Predicting Boston Housing Prices\n",
    "\n",
    "## Using XGBoost in SageMaker (Hyperparameter Tuning)\n",
    "\n",
    "_Deep Learning Nanodegree Program | Deployment_\n",
    "\n",
    "---\n",
    "\n",
    "As an introduction to using SageMaker's High Level Python API for hyperparameter tuning, we will look again at the [Boston Housing Dataset](https://www.cs.toronto.edu/~delve/data/boston/bostonDetail.html) to predict the median value of a home in the area of Boston Mass.\n",
    "\n",
    "The documentation for the high level API can be found on the [ReadTheDocs page](http://sagemaker.readthedocs.io/en/latest/)\n",
    "\n",
    "## General Outline\n",
    "\n",
    "Typically, when using a notebook instance with SageMaker, you will proceed through the following steps. Of course, not every step will need to be done with each project. Also, there is quite a lot of room for variation in many of the steps, as you will see throughout these lessons.\n",
    "\n",
    "1. Download or otherwise retrieve the data.\n",
    "2. Process / Prepare the data.\n",
    "3. Upload the processed data to S3.\n",
    "4. Train a chosen model.\n",
    "5. Test the trained model (typically using a batch transform job).\n",
    "6. Deploy the trained model.\n",
    "7. Use the deployed model.\n",
    "\n",
    "In this notebook we will only be covering steps 1 through 5 as we are only interested in creating a tuned model and testing its performance."
   ]
  },
  {
   "cell_type": "markdown",
   "metadata": {},
   "source": [
    "## Step 0: Setting up the notebook\n",
    "\n",
    "We begin by setting up all of the necessary bits required to run our notebook. To start that means loading all of the Python modules we will need."
   ]
  },
  {
   "cell_type": "code",
   "execution_count": 1,
   "metadata": {},
   "outputs": [],
   "source": [
    "%matplotlib inline\n",
    "\n",
    "import os\n",
    "\n",
    "import numpy as np\n",
    "import pandas as pd\n",
    "\n",
    "import matplotlib.pyplot as plt\n",
    "\n",
    "from sklearn.datasets import load_boston\n",
    "import sklearn.model_selection"
   ]
  },
  {
   "cell_type": "markdown",
   "metadata": {},
   "source": [
    "In addition to the modules above, we need to import the various bits of SageMaker that we will be using. "
   ]
  },
  {
   "cell_type": "code",
   "execution_count": 2,
   "metadata": {},
   "outputs": [],
   "source": [
    "import sagemaker\n",
    "from sagemaker import get_execution_role\n",
    "from sagemaker.amazon.amazon_estimator import get_image_uri\n",
    "from sagemaker.predictor import csv_serializer\n",
    "\n",
    "# This is an object that represents the SageMaker session that we are currently operating in. This\n",
    "# object contains some useful information that we will need to access later such as our region.\n",
    "session = sagemaker.Session()\n",
    "\n",
    "# This is an object that represents the IAM role that we are currently assigned. When we construct\n",
    "# and launch the training job later we will need to tell it what IAM role it should have. Since our\n",
    "# use case is relatively simple we will simply assign the training job the role we currently have.\n",
    "role = get_execution_role()"
   ]
  },
  {
   "cell_type": "markdown",
   "metadata": {},
   "source": [
    "## Step 1: Downloading the data\n",
    "\n",
    "Fortunately, this dataset can be retrieved using sklearn and so this step is relatively straightforward."
   ]
  },
  {
   "cell_type": "code",
   "execution_count": 3,
   "metadata": {},
   "outputs": [],
   "source": [
    "boston = load_boston()"
   ]
  },
  {
   "cell_type": "markdown",
   "metadata": {},
   "source": [
    "## Step 2: Preparing and splitting the data\n",
    "\n",
    "Given that this is clean tabular data, we don't need to do any processing. However, we do need to split the rows in the dataset up into train, test and validation sets."
   ]
  },
  {
   "cell_type": "code",
   "execution_count": 4,
   "metadata": {},
   "outputs": [],
   "source": [
    "# First we package up the input data and the target variable (the median value) as pandas dataframes. This\n",
    "# will make saving the data to a file a little easier later on.\n",
    "\n",
    "X_bos_pd = pd.DataFrame(boston.data, columns=boston.feature_names)\n",
    "Y_bos_pd = pd.DataFrame(boston.target)\n",
    "\n",
    "# We split the dataset into 2/3 training and 1/3 testing sets.\n",
    "X_train, X_test, Y_train, Y_test = sklearn.model_selection.train_test_split(X_bos_pd, Y_bos_pd, test_size=0.33)\n",
    "\n",
    "# Then we split the training set further into 2/3 training and 1/3 validation sets.\n",
    "X_train, X_val, Y_train, Y_val = sklearn.model_selection.train_test_split(X_train, Y_train, test_size=0.33)"
   ]
  },
  {
   "cell_type": "markdown",
   "metadata": {},
   "source": [
    "## Step 3: Uploading the data files to S3\n",
    "\n",
    "When a training job is constructed using SageMaker, a container is executed which performs the training operation. This container is given access to data that is stored in S3. This means that we need to upload the data we want to use for training to S3. In addition, when we perform a batch transform job, SageMaker expects the input data to be stored on S3. We can use the SageMaker API to do this and hide some of the details.\n",
    "\n",
    "### Save the data locally\n",
    "\n",
    "First we need to create the test, train and validation csv files which we will then upload to S3."
   ]
  },
  {
   "cell_type": "code",
   "execution_count": 5,
   "metadata": {},
   "outputs": [],
   "source": [
    "# This is our local data directory. We need to make sure that it exists.\n",
    "data_dir = '../data/boston'\n",
    "if not os.path.exists(data_dir):\n",
    "    os.makedirs(data_dir)"
   ]
  },
  {
   "cell_type": "code",
   "execution_count": 6,
   "metadata": {},
   "outputs": [],
   "source": [
    "# We use pandas to save our test, train and validation data to csv files. Note that we make sure not to include header\n",
    "# information or an index as this is required by the built in algorithms provided by Amazon. Also, for the train and\n",
    "# validation data, it is assumed that the first entry in each row is the target variable.\n",
    "\n",
    "X_test.to_csv(os.path.join(data_dir, 'test.csv'), header=False, index=False)\n",
    "\n",
    "pd.concat([Y_val, X_val], axis=1).to_csv(os.path.join(data_dir, 'validation.csv'), header=False, index=False)\n",
    "pd.concat([Y_train, X_train], axis=1).to_csv(os.path.join(data_dir, 'train.csv'), header=False, index=False)"
   ]
  },
  {
   "cell_type": "markdown",
   "metadata": {},
   "source": [
    "### Upload to S3\n",
    "\n",
    "Since we are currently running inside of a SageMaker session, we can use the object which represents this session to upload our data to the 'default' S3 bucket. Note that it is good practice to provide a custom prefix (essentially an S3 folder) to make sure that you don't accidentally interfere with data uploaded from some other notebook or project."
   ]
  },
  {
   "cell_type": "code",
   "execution_count": 7,
   "metadata": {},
   "outputs": [],
   "source": [
    "prefix = 'boston-xgboost-tuning-HL'\n",
    "\n",
    "test_location = session.upload_data(os.path.join(data_dir, 'test.csv'), key_prefix=prefix)\n",
    "val_location = session.upload_data(os.path.join(data_dir, 'validation.csv'), key_prefix=prefix)\n",
    "train_location = session.upload_data(os.path.join(data_dir, 'train.csv'), key_prefix=prefix)"
   ]
  },
  {
   "cell_type": "markdown",
   "metadata": {},
   "source": [
    "## Step 4: Train the XGBoost model\n",
    "\n",
    "Now that we have the training and validation data uploaded to S3, we can construct our XGBoost model and train it. Unlike in the previous notebooks, instead of training a single model, we will use SageMaker's hyperparameter tuning functionality to train multiple models and use the one that performs the best on the validation set.\n",
    "\n",
    "To begin with, as in the previous approaches, we will need to construct an estimator object."
   ]
  },
  {
   "cell_type": "code",
   "execution_count": 8,
   "metadata": {},
   "outputs": [
    {
     "name": "stderr",
     "output_type": "stream",
     "text": [
      "WARNING:root:There is a more up to date SageMaker XGBoost image. To use the newer image, please set 'repo_version'='0.90-1'. For example:\n",
      "\tget_image_uri(region, 'xgboost', '0.90-1').\n"
     ]
    }
   ],
   "source": [
    "# As stated above, we use this utility method to construct the image name for the training container.\n",
    "container = get_image_uri(session.boto_region_name, 'xgboost')\n",
    "\n",
    "# Now that we know which container to use, we can construct the estimator object.\n",
    "# Lecture Note: this is gonna be used as a \"base model\" which SageMaker will make change aand tweak hyperparameters\n",
    "xgb = sagemaker.estimator.Estimator(container, # The name of the training container\n",
    "                                    role,      # The IAM role to use (our current role in this case)\n",
    "                                    train_instance_count=1, # The number of instances to use for training\n",
    "                                    train_instance_type='ml.m4.xlarge', # The type of instance ot use for training\n",
    "                                    output_path='s3://{}/{}/output'.format(session.default_bucket(), prefix),\n",
    "                                                                        # Where to save the output (the model artifacts)\n",
    "                                    sagemaker_session=session) # The current SageMaker session"
   ]
  },
  {
   "cell_type": "markdown",
   "metadata": {},
   "source": [
    "Before beginning the hyperparameter tuning, we should make sure to set any model specific hyperparameters that we wish to have default values. There are quite a few that can be set when using the XGBoost algorithm, below are just a few of them. If you would like to change the hyperparameters below or modify additional ones you can find additional information on the [XGBoost hyperparameter page](https://docs.aws.amazon.com/sagemaker/latest/dg/xgboost_hyperparameters.html)"
   ]
  },
  {
   "cell_type": "code",
   "execution_count": 9,
   "metadata": {},
   "outputs": [],
   "source": [
    "# Lecture Note: again, this is the \"base model\"\n",
    "xgb.set_hyperparameters(max_depth=5,\n",
    "                        eta=0.2,\n",
    "                        gamma=4,\n",
    "                        min_child_weight=6,\n",
    "                        subsample=0.8,\n",
    "                        objective='reg:linear',\n",
    "                        early_stopping_rounds=10,\n",
    "                        num_round=200)"
   ]
  },
  {
   "cell_type": "markdown",
   "metadata": {},
   "source": [
    "Now that we have our estimator object completely set up, it is time to create the hyperparameter tuner. To do this we need to construct a new object which contains each of the parameters we want SageMaker to tune. In this case, we wish to find the best values for the `max_depth`, `eta`, `min_child_weight`, `subsample`, and `gamma` parameters. Note that for each parameter that we want SageMaker to tune we need to specify both the *type* of the parameter and the *range* of values that parameter may take on.\n",
    "\n",
    "In addition, we specify the *number* of models to construct (`max_jobs`) and the number of those that can be trained in parallel (`max_parallel_jobs`). In the cell below we have chosen to train `20` models, of which we ask that SageMaker train `3` at a time in parallel. Note that this results in a total of `20` training jobs being executed which can take some time, in this case almost a half hour. With more complicated models this can take even longer so be aware!"
   ]
  },
  {
   "cell_type": "code",
   "execution_count": 10,
   "metadata": {},
   "outputs": [],
   "source": [
    "from sagemaker.tuner import IntegerParameter, ContinuousParameter, HyperparameterTuner\n",
    "\n",
    "xgb_hyperparameter_tuner = HyperparameterTuner(estimator = xgb, # The estimator object to use as the basis for the training jobs.\n",
    "                                               objective_metric_name = 'validation:rmse', # The metric used to compare trained models.\n",
    "                                               objective_type = 'Minimize', # Whether we wish to minimize or maximize the metric.\n",
    "                                               max_jobs = 20, # The total number of models to train\n",
    "                                               max_parallel_jobs = 3, # The number of models to train in parallel\n",
    "                                               hyperparameter_ranges = {  # different ranges of hyper-parameters\n",
    "                                                    'max_depth': IntegerParameter(3, 12),\n",
    "                                                    'eta'      : ContinuousParameter(0.05, 0.5),\n",
    "                                                    'min_child_weight': IntegerParameter(2, 8),\n",
    "                                                    'subsample': ContinuousParameter(0.5, 0.9),\n",
    "                                                    'gamma': ContinuousParameter(0, 10),\n",
    "                                               })"
   ]
  },
  {
   "cell_type": "markdown",
   "metadata": {},
   "source": [
    "Now that we have our hyperparameter tuner object completely set up, it is time to train it. To do this we make sure that SageMaker knows our input data is in csv format and then execute the `fit` method."
   ]
  },
  {
   "cell_type": "code",
   "execution_count": 11,
   "metadata": {},
   "outputs": [],
   "source": [
    "# This is a wrapper around the location of our train and validation data, to make sure that SageMaker\n",
    "# knows our data is in csv format.\n",
    "s3_input_train = sagemaker.s3_input(s3_data=train_location, content_type='csv')\n",
    "s3_input_validation = sagemaker.s3_input(s3_data=val_location, content_type='csv')\n",
    "\n",
    "xgb_hyperparameter_tuner.fit({'train': s3_input_train, 'validation': s3_input_validation})"
   ]
  },
  {
   "cell_type": "markdown",
   "metadata": {},
   "source": [
    "As in many of the examples we have seen so far, the `fit()` method takes care of setting up and fitting a number of different models, each with different hyperparameters. If we wish to wait for this process to finish, we can call the `wait()` method."
   ]
  },
  {
   "cell_type": "code",
   "execution_count": 12,
   "metadata": {},
   "outputs": [
    {
     "name": "stdout",
     "output_type": "stream",
     "text": [
      "........................................................................................................................................................................................................................................................................................!\n"
     ]
    }
   ],
   "source": [
    "# the fit method above is running background by default, we can use wait method to view the process\n",
    "xgb_hyperparameter_tuner.wait()"
   ]
  },
  {
   "cell_type": "markdown",
   "metadata": {},
   "source": [
    "Once the hyperamater tuner has finished, we can retrieve information about the best performing model. "
   ]
  },
  {
   "cell_type": "code",
   "execution_count": 13,
   "metadata": {},
   "outputs": [
    {
     "data": {
      "text/plain": [
       "'xgboost-200525-2327-006-c7720d15'"
      ]
     },
     "execution_count": 13,
     "metadata": {},
     "output_type": "execute_result"
    }
   ],
   "source": [
    "# see the best model name\n",
    "xgb_hyperparameter_tuner.best_training_job()"
   ]
  },
  {
   "cell_type": "markdown",
   "metadata": {},
   "source": [
    "**Lecture Note:**\n",
    "\n",
    "Note that the original estimator has not been trained, so we need to create a new estimator object using the `attach` method. This method will attach this estimator object to a training job, resulting in creating an estimator object that is trained.\n"
   ]
  },
  {
   "cell_type": "markdown",
   "metadata": {},
   "source": [
    "In addition, since we'd like to set up a batch transform job to test the best model, we can construct a new estimator object from the results of the best training job. The `xgb_attached` object below can now be used as though we constructed an estimator with the best performing hyperparameters and then fit it to our training data."
   ]
  },
  {
   "cell_type": "code",
   "execution_count": 14,
   "metadata": {},
   "outputs": [
    {
     "name": "stdout",
     "output_type": "stream",
     "text": [
      "2020-05-25 23:35:19 Starting - Preparing the instances for training\n",
      "2020-05-25 23:35:19 Downloading - Downloading input data\n",
      "2020-05-25 23:35:19 Training - Training image download completed. Training in progress.\n",
      "2020-05-25 23:35:19 Uploading - Uploading generated training model\n",
      "2020-05-25 23:35:19 Completed - Training job completed\u001b[34mArguments: train\u001b[0m\n",
      "\u001b[34m[2020-05-25:23:34:43:INFO] Running standalone xgboost training.\u001b[0m\n",
      "\u001b[34m[2020-05-25:23:34:43:INFO] Setting up HPO optimized metric to be : rmse\u001b[0m\n",
      "\u001b[34m[2020-05-25:23:34:43:INFO] File size need to be processed in the node: 0.02mb. Available memory size in the node: 8448.29mb\u001b[0m\n",
      "\u001b[34m[2020-05-25:23:34:43:INFO] Determined delimiter of CSV input is ','\u001b[0m\n",
      "\u001b[34m[23:34:43] S3DistributionType set as FullyReplicated\u001b[0m\n",
      "\u001b[34m[23:34:43] 227x13 matrix with 2951 entries loaded from /opt/ml/input/data/train?format=csv&label_column=0&delimiter=,\u001b[0m\n",
      "\u001b[34m[2020-05-25:23:34:43:INFO] Determined delimiter of CSV input is ','\u001b[0m\n",
      "\u001b[34m[23:34:43] S3DistributionType set as FullyReplicated\u001b[0m\n",
      "\u001b[34m[23:34:43] 112x13 matrix with 1456 entries loaded from /opt/ml/input/data/validation?format=csv&label_column=0&delimiter=,\u001b[0m\n",
      "\u001b[34m[23:34:43] src/tree/updater_prune.cc:74: tree pruning end, 1 roots, 10 extra nodes, 0 pruned nodes, max_depth=4\u001b[0m\n",
      "\u001b[34m[0]#011train-rmse:21.713#011validation-rmse:21.0812\u001b[0m\n",
      "\u001b[34mMultiple eval metrics have been passed: 'validation-rmse' will be used for early stopping.\n",
      "\u001b[0m\n",
      "\u001b[34mWill train until validation-rmse hasn't improved in 10 rounds.\u001b[0m\n",
      "\u001b[34m[23:34:43] src/tree/updater_prune.cc:74: tree pruning end, 1 roots, 12 extra nodes, 0 pruned nodes, max_depth=4\u001b[0m\n",
      "\u001b[34m[1]#011train-rmse:19.9448#011validation-rmse:19.3932\u001b[0m\n",
      "\u001b[34m[23:34:43] src/tree/updater_prune.cc:74: tree pruning end, 1 roots, 8 extra nodes, 0 pruned nodes, max_depth=3\u001b[0m\n",
      "\u001b[34m[2]#011train-rmse:18.3366#011validation-rmse:17.8201\u001b[0m\n",
      "\u001b[34m[23:34:43] src/tree/updater_prune.cc:74: tree pruning end, 1 roots, 12 extra nodes, 0 pruned nodes, max_depth=3\u001b[0m\n",
      "\u001b[34m[3]#011train-rmse:16.8792#011validation-rmse:16.3999\u001b[0m\n",
      "\u001b[34m[23:34:43] src/tree/updater_prune.cc:74: tree pruning end, 1 roots, 10 extra nodes, 0 pruned nodes, max_depth=4\u001b[0m\n",
      "\u001b[34m[4]#011train-rmse:15.532#011validation-rmse:15.0966\u001b[0m\n",
      "\u001b[34m[23:34:43] src/tree/updater_prune.cc:74: tree pruning end, 1 roots, 12 extra nodes, 0 pruned nodes, max_depth=4\u001b[0m\n",
      "\u001b[34m[5]#011train-rmse:14.3178#011validation-rmse:13.8331\u001b[0m\n",
      "\u001b[34m[23:34:43] src/tree/updater_prune.cc:74: tree pruning end, 1 roots, 12 extra nodes, 0 pruned nodes, max_depth=5\u001b[0m\n",
      "\u001b[34m[6]#011train-rmse:13.2001#011validation-rmse:12.7185\u001b[0m\n",
      "\u001b[34m[23:34:43] src/tree/updater_prune.cc:74: tree pruning end, 1 roots, 14 extra nodes, 0 pruned nodes, max_depth=4\u001b[0m\n",
      "\u001b[34m[7]#011train-rmse:12.2156#011validation-rmse:11.7904\u001b[0m\n",
      "\u001b[34m[23:34:43] src/tree/updater_prune.cc:74: tree pruning end, 1 roots, 20 extra nodes, 0 pruned nodes, max_depth=6\u001b[0m\n",
      "\u001b[34m[8]#011train-rmse:11.29#011validation-rmse:10.8877\u001b[0m\n",
      "\u001b[34m[23:34:43] src/tree/updater_prune.cc:74: tree pruning end, 1 roots, 26 extra nodes, 0 pruned nodes, max_depth=5\u001b[0m\n",
      "\u001b[34m[9]#011train-rmse:10.4332#011validation-rmse:10.0466\u001b[0m\n",
      "\u001b[34m[23:34:43] src/tree/updater_prune.cc:74: tree pruning end, 1 roots, 20 extra nodes, 4 pruned nodes, max_depth=6\u001b[0m\n",
      "\u001b[34m[10]#011train-rmse:9.66546#011validation-rmse:9.2917\u001b[0m\n",
      "\u001b[34m[23:34:43] src/tree/updater_prune.cc:74: tree pruning end, 1 roots, 24 extra nodes, 0 pruned nodes, max_depth=5\u001b[0m\n",
      "\u001b[34m[11]#011train-rmse:8.96138#011validation-rmse:8.62916\u001b[0m\n",
      "\u001b[34m[23:34:43] src/tree/updater_prune.cc:74: tree pruning end, 1 roots, 24 extra nodes, 2 pruned nodes, max_depth=5\u001b[0m\n",
      "\u001b[34m[12]#011train-rmse:8.2995#011validation-rmse:8.00924\u001b[0m\n",
      "\u001b[34m[23:34:43] src/tree/updater_prune.cc:74: tree pruning end, 1 roots, 32 extra nodes, 0 pruned nodes, max_depth=6\u001b[0m\n",
      "\u001b[34m[13]#011train-rmse:7.69999#011validation-rmse:7.45059\u001b[0m\n",
      "\u001b[34m[23:34:43] src/tree/updater_prune.cc:74: tree pruning end, 1 roots, 38 extra nodes, 2 pruned nodes, max_depth=6\u001b[0m\n",
      "\u001b[34m[14]#011train-rmse:7.14107#011validation-rmse:6.94603\u001b[0m\n",
      "\u001b[34m[23:34:43] src/tree/updater_prune.cc:74: tree pruning end, 1 roots, 30 extra nodes, 2 pruned nodes, max_depth=6\u001b[0m\n",
      "\u001b[34m[15]#011train-rmse:6.63464#011validation-rmse:6.46796\u001b[0m\n",
      "\u001b[34m[23:34:43] src/tree/updater_prune.cc:74: tree pruning end, 1 roots, 36 extra nodes, 0 pruned nodes, max_depth=6\u001b[0m\n",
      "\u001b[34m[16]#011train-rmse:6.21091#011validation-rmse:6.07759\u001b[0m\n",
      "\u001b[34m[23:34:43] src/tree/updater_prune.cc:74: tree pruning end, 1 roots, 34 extra nodes, 2 pruned nodes, max_depth=9\u001b[0m\n",
      "\u001b[34m[17]#011train-rmse:5.78528#011validation-rmse:5.67793\u001b[0m\n",
      "\u001b[34m[23:34:43] src/tree/updater_prune.cc:74: tree pruning end, 1 roots, 34 extra nodes, 2 pruned nodes, max_depth=9\u001b[0m\n",
      "\u001b[34m[18]#011train-rmse:5.40764#011validation-rmse:5.34549\u001b[0m\n",
      "\u001b[34m[23:34:43] src/tree/updater_prune.cc:74: tree pruning end, 1 roots, 44 extra nodes, 0 pruned nodes, max_depth=9\u001b[0m\n",
      "\u001b[34m[19]#011train-rmse:5.04717#011validation-rmse:5.05087\u001b[0m\n",
      "\u001b[34m[23:34:43] src/tree/updater_prune.cc:74: tree pruning end, 1 roots, 50 extra nodes, 4 pruned nodes, max_depth=8\u001b[0m\n",
      "\u001b[34m[20]#011train-rmse:4.7189#011validation-rmse:4.76103\u001b[0m\n",
      "\u001b[34m[23:34:43] src/tree/updater_prune.cc:74: tree pruning end, 1 roots, 46 extra nodes, 0 pruned nodes, max_depth=9\u001b[0m\n",
      "\u001b[34m[21]#011train-rmse:4.40766#011validation-rmse:4.52977\u001b[0m\n",
      "\u001b[34m[23:34:43] src/tree/updater_prune.cc:74: tree pruning end, 1 roots, 48 extra nodes, 2 pruned nodes, max_depth=9\u001b[0m\n",
      "\u001b[34m[22]#011train-rmse:4.13988#011validation-rmse:4.35456\u001b[0m\n",
      "\u001b[34m[23:34:43] src/tree/updater_prune.cc:74: tree pruning end, 1 roots, 54 extra nodes, 2 pruned nodes, max_depth=9\u001b[0m\n",
      "\u001b[34m[23]#011train-rmse:3.87893#011validation-rmse:4.1329\u001b[0m\n",
      "\u001b[34m[23:34:43] src/tree/updater_prune.cc:74: tree pruning end, 1 roots, 54 extra nodes, 2 pruned nodes, max_depth=9\u001b[0m\n",
      "\u001b[34m[24]#011train-rmse:3.65863#011validation-rmse:3.98707\u001b[0m\n",
      "\u001b[34m[23:34:43] src/tree/updater_prune.cc:74: tree pruning end, 1 roots, 58 extra nodes, 4 pruned nodes, max_depth=9\u001b[0m\n",
      "\u001b[34m[25]#011train-rmse:3.42529#011validation-rmse:3.8022\u001b[0m\n",
      "\u001b[34m[23:34:43] src/tree/updater_prune.cc:74: tree pruning end, 1 roots, 54 extra nodes, 8 pruned nodes, max_depth=9\u001b[0m\n",
      "\u001b[34m[26]#011train-rmse:3.23169#011validation-rmse:3.63507\u001b[0m\n",
      "\u001b[34m[23:34:43] src/tree/updater_prune.cc:74: tree pruning end, 1 roots, 68 extra nodes, 8 pruned nodes, max_depth=9\u001b[0m\n",
      "\u001b[34m[27]#011train-rmse:3.04538#011validation-rmse:3.50297\u001b[0m\n",
      "\u001b[34m[23:34:43] src/tree/updater_prune.cc:74: tree pruning end, 1 roots, 48 extra nodes, 6 pruned nodes, max_depth=9\u001b[0m\n",
      "\u001b[34m[28]#011train-rmse:2.88875#011validation-rmse:3.40004\u001b[0m\n",
      "\u001b[34m[23:34:43] src/tree/updater_prune.cc:74: tree pruning end, 1 roots, 58 extra nodes, 10 pruned nodes, max_depth=9\u001b[0m\n",
      "\u001b[34m[29]#011train-rmse:2.75321#011validation-rmse:3.32197\u001b[0m\n",
      "\u001b[34m[23:34:43] src/tree/updater_prune.cc:74: tree pruning end, 1 roots, 66 extra nodes, 14 pruned nodes, max_depth=9\u001b[0m\n",
      "\u001b[34m[30]#011train-rmse:2.59438#011validation-rmse:3.20315\u001b[0m\n",
      "\u001b[34m[23:34:43] src/tree/updater_prune.cc:74: tree pruning end, 1 roots, 58 extra nodes, 10 pruned nodes, max_depth=9\u001b[0m\n",
      "\u001b[34m[31]#011train-rmse:2.46331#011validation-rmse:3.10433\u001b[0m\n",
      "\u001b[34m[23:34:43] src/tree/updater_prune.cc:74: tree pruning end, 1 roots, 60 extra nodes, 10 pruned nodes, max_depth=9\u001b[0m\n",
      "\u001b[34m[32]#011train-rmse:2.34243#011validation-rmse:3.04506\u001b[0m\n",
      "\u001b[34m[23:34:43] src/tree/updater_prune.cc:74: tree pruning end, 1 roots, 72 extra nodes, 14 pruned nodes, max_depth=9\u001b[0m\n",
      "\u001b[34m[33]#011train-rmse:2.22037#011validation-rmse:2.99614\u001b[0m\n",
      "\u001b[34m[23:34:43] src/tree/updater_prune.cc:74: tree pruning end, 1 roots, 74 extra nodes, 8 pruned nodes, max_depth=9\u001b[0m\n",
      "\u001b[34m[34]#011train-rmse:2.1127#011validation-rmse:2.94822\u001b[0m\n",
      "\u001b[34m[23:34:43] src/tree/updater_prune.cc:74: tree pruning end, 1 roots, 62 extra nodes, 14 pruned nodes, max_depth=9\u001b[0m\n",
      "\u001b[34m[35]#011train-rmse:2.02111#011validation-rmse:2.89196\u001b[0m\n",
      "\u001b[34m[23:34:43] src/tree/updater_prune.cc:74: tree pruning end, 1 roots, 60 extra nodes, 0 pruned nodes, max_depth=9\u001b[0m\n",
      "\u001b[34m[36]#011train-rmse:1.91298#011validation-rmse:2.87685\u001b[0m\n",
      "\u001b[34m[23:34:43] src/tree/updater_prune.cc:74: tree pruning end, 1 roots, 44 extra nodes, 6 pruned nodes, max_depth=9\u001b[0m\n",
      "\u001b[34m[37]#011train-rmse:1.82085#011validation-rmse:2.81586\u001b[0m\n",
      "\u001b[34m[23:34:43] src/tree/updater_prune.cc:74: tree pruning end, 1 roots, 48 extra nodes, 14 pruned nodes, max_depth=9\u001b[0m\n",
      "\u001b[34m[38]#011train-rmse:1.75598#011validation-rmse:2.80905\u001b[0m\n",
      "\u001b[34m[23:34:43] src/tree/updater_prune.cc:74: tree pruning end, 1 roots, 70 extra nodes, 12 pruned nodes, max_depth=9\u001b[0m\n",
      "\u001b[34m[39]#011train-rmse:1.68847#011validation-rmse:2.7785\u001b[0m\n",
      "\u001b[34m[23:34:43] src/tree/updater_prune.cc:74: tree pruning end, 1 roots, 56 extra nodes, 10 pruned nodes, max_depth=9\u001b[0m\n",
      "\u001b[34m[40]#011train-rmse:1.61135#011validation-rmse:2.73744\u001b[0m\n",
      "\u001b[34m[23:34:43] src/tree/updater_prune.cc:74: tree pruning end, 1 roots, 62 extra nodes, 6 pruned nodes, max_depth=9\u001b[0m\n",
      "\u001b[34m[41]#011train-rmse:1.53146#011validation-rmse:2.69583\u001b[0m\n",
      "\u001b[34m[23:34:43] src/tree/updater_prune.cc:74: tree pruning end, 1 roots, 58 extra nodes, 12 pruned nodes, max_depth=9\u001b[0m\n",
      "\u001b[34m[42]#011train-rmse:1.45915#011validation-rmse:2.66224\u001b[0m\n",
      "\u001b[34m[23:34:43] src/tree/updater_prune.cc:74: tree pruning end, 1 roots, 66 extra nodes, 16 pruned nodes, max_depth=9\u001b[0m\n",
      "\u001b[34m[43]#011train-rmse:1.4009#011validation-rmse:2.65793\u001b[0m\n",
      "\u001b[34m[23:34:43] src/tree/updater_prune.cc:74: tree pruning end, 1 roots, 66 extra nodes, 14 pruned nodes, max_depth=9\u001b[0m\n",
      "\u001b[34m[44]#011train-rmse:1.35638#011validation-rmse:2.64657\u001b[0m\n",
      "\u001b[34m[23:34:43] src/tree/updater_prune.cc:74: tree pruning end, 1 roots, 70 extra nodes, 34 pruned nodes, max_depth=9\u001b[0m\n",
      "\u001b[34m[45]#011train-rmse:1.30672#011validation-rmse:2.62069\u001b[0m\n",
      "\u001b[34m[23:34:43] src/tree/updater_prune.cc:74: tree pruning end, 1 roots, 50 extra nodes, 8 pruned nodes, max_depth=9\u001b[0m\n",
      "\u001b[34m[46]#011train-rmse:1.27332#011validation-rmse:2.60572\u001b[0m\n",
      "\u001b[34m[23:34:43] src/tree/updater_prune.cc:74: tree pruning end, 1 roots, 66 extra nodes, 16 pruned nodes, max_depth=9\u001b[0m\n",
      "\u001b[34m[47]#011train-rmse:1.21312#011validation-rmse:2.61127\u001b[0m\n",
      "\u001b[34m[23:34:43] src/tree/updater_prune.cc:74: tree pruning end, 1 roots, 70 extra nodes, 14 pruned nodes, max_depth=9\u001b[0m\n",
      "\u001b[34m[48]#011train-rmse:1.16048#011validation-rmse:2.61654\u001b[0m\n",
      "\u001b[34m[23:34:43] src/tree/updater_prune.cc:74: tree pruning end, 1 roots, 66 extra nodes, 24 pruned nodes, max_depth=9\u001b[0m\n",
      "\u001b[34m[49]#011train-rmse:1.10702#011validation-rmse:2.62676\u001b[0m\n",
      "\u001b[34m[23:34:43] src/tree/updater_prune.cc:74: tree pruning end, 1 roots, 60 extra nodes, 10 pruned nodes, max_depth=9\u001b[0m\n",
      "\u001b[34m[50]#011train-rmse:1.0722#011validation-rmse:2.60969\u001b[0m\n",
      "\u001b[34m[23:34:43] src/tree/updater_prune.cc:74: tree pruning end, 1 roots, 58 extra nodes, 12 pruned nodes, max_depth=9\u001b[0m\n",
      "\u001b[34m[51]#011train-rmse:1.03953#011validation-rmse:2.60274\u001b[0m\n",
      "\u001b[34m[23:34:43] src/tree/updater_prune.cc:74: tree pruning end, 1 roots, 46 extra nodes, 26 pruned nodes, max_depth=9\u001b[0m\n",
      "\u001b[34m[52]#011train-rmse:1.01519#011validation-rmse:2.59705\u001b[0m\n",
      "\u001b[34m[23:34:43] src/tree/updater_prune.cc:74: tree pruning end, 1 roots, 68 extra nodes, 48 pruned nodes, max_depth=9\u001b[0m\n",
      "\u001b[34m[53]#011train-rmse:0.975324#011validation-rmse:2.57798\u001b[0m\n",
      "\u001b[34m[23:34:43] src/tree/updater_prune.cc:74: tree pruning end, 1 roots, 50 extra nodes, 22 pruned nodes, max_depth=9\u001b[0m\n",
      "\u001b[34m[54]#011train-rmse:0.951367#011validation-rmse:2.56853\u001b[0m\n",
      "\u001b[34m[23:34:43] src/tree/updater_prune.cc:74: tree pruning end, 1 roots, 46 extra nodes, 34 pruned nodes, max_depth=9\u001b[0m\n",
      "\u001b[34m[55]#011train-rmse:0.927207#011validation-rmse:2.55758\u001b[0m\n",
      "\u001b[34m[23:34:43] src/tree/updater_prune.cc:74: tree pruning end, 1 roots, 42 extra nodes, 12 pruned nodes, max_depth=9\u001b[0m\n",
      "\u001b[34m[56]#011train-rmse:0.90254#011validation-rmse:2.57433\u001b[0m\n",
      "\u001b[34m[23:34:43] src/tree/updater_prune.cc:74: tree pruning end, 1 roots, 48 extra nodes, 18 pruned nodes, max_depth=9\u001b[0m\n",
      "\u001b[34m[57]#011train-rmse:0.884385#011validation-rmse:2.56524\u001b[0m\n",
      "\u001b[34m[23:34:43] src/tree/updater_prune.cc:74: tree pruning end, 1 roots, 30 extra nodes, 12 pruned nodes, max_depth=9\u001b[0m\n",
      "\u001b[34m[58]#011train-rmse:0.866066#011validation-rmse:2.55522\u001b[0m\n",
      "\u001b[34m[23:34:43] src/tree/updater_prune.cc:74: tree pruning end, 1 roots, 42 extra nodes, 12 pruned nodes, max_depth=9\u001b[0m\n",
      "\u001b[34m[59]#011train-rmse:0.851997#011validation-rmse:2.55184\u001b[0m\n",
      "\u001b[34m[23:34:43] src/tree/updater_prune.cc:74: tree pruning end, 1 roots, 62 extra nodes, 38 pruned nodes, max_depth=9\u001b[0m\n",
      "\u001b[34m[60]#011train-rmse:0.828057#011validation-rmse:2.55937\u001b[0m\n",
      "\u001b[34m[23:34:43] src/tree/updater_prune.cc:74: tree pruning end, 1 roots, 54 extra nodes, 14 pruned nodes, max_depth=9\u001b[0m\n",
      "\u001b[34m[61]#011train-rmse:0.801436#011validation-rmse:2.56654\u001b[0m\n",
      "\u001b[34m[23:34:43] src/tree/updater_prune.cc:74: tree pruning end, 1 roots, 56 extra nodes, 20 pruned nodes, max_depth=9\u001b[0m\n",
      "\u001b[34m[62]#011train-rmse:0.788271#011validation-rmse:2.57313\u001b[0m\n",
      "\u001b[34m[23:34:43] src/tree/updater_prune.cc:74: tree pruning end, 1 roots, 40 extra nodes, 18 pruned nodes, max_depth=9\u001b[0m\n",
      "\u001b[34m[63]#011train-rmse:0.770663#011validation-rmse:2.57009\u001b[0m\n",
      "\u001b[34m[23:34:43] src/tree/updater_prune.cc:74: tree pruning end, 1 roots, 52 extra nodes, 28 pruned nodes, max_depth=9\u001b[0m\n",
      "\u001b[34m[64]#011train-rmse:0.754402#011validation-rmse:2.56363\u001b[0m\n",
      "\u001b[34m[23:34:43] src/tree/updater_prune.cc:74: tree pruning end, 1 roots, 48 extra nodes, 22 pruned nodes, max_depth=9\u001b[0m\n",
      "\u001b[34m[65]#011train-rmse:0.72967#011validation-rmse:2.57091\u001b[0m\n",
      "\u001b[34m[23:34:43] src/tree/updater_prune.cc:74: tree pruning end, 1 roots, 30 extra nodes, 20 pruned nodes, max_depth=8\u001b[0m\n",
      "\u001b[34m[66]#011train-rmse:0.722256#011validation-rmse:2.5701\u001b[0m\n",
      "\u001b[34m[23:34:43] src/tree/updater_prune.cc:74: tree pruning end, 1 roots, 36 extra nodes, 8 pruned nodes, max_depth=9\u001b[0m\n",
      "\u001b[34m[67]#011train-rmse:0.712578#011validation-rmse:2.5707\u001b[0m\n",
      "\u001b[34m[23:34:43] src/tree/updater_prune.cc:74: tree pruning end, 1 roots, 40 extra nodes, 32 pruned nodes, max_depth=9\u001b[0m\n",
      "\u001b[34m[68]#011train-rmse:0.688103#011validation-rmse:2.55592\u001b[0m\n",
      "\u001b[34m[23:34:43] src/tree/updater_prune.cc:74: tree pruning end, 1 roots, 26 extra nodes, 18 pruned nodes, max_depth=9\u001b[0m\n",
      "\u001b[34m[69]#011train-rmse:0.679738#011validation-rmse:2.55104\u001b[0m\n",
      "\u001b[34m[23:34:43] src/tree/updater_prune.cc:74: tree pruning end, 1 roots, 32 extra nodes, 24 pruned nodes, max_depth=9\u001b[0m\n",
      "\u001b[34m[70]#011train-rmse:0.661167#011validation-rmse:2.54299\u001b[0m\n",
      "\u001b[34m[23:34:43] src/tree/updater_prune.cc:74: tree pruning end, 1 roots, 44 extra nodes, 42 pruned nodes, max_depth=9\u001b[0m\n",
      "\u001b[34m[71]#011train-rmse:0.645732#011validation-rmse:2.53593\u001b[0m\n",
      "\u001b[34m[23:34:43] src/tree/updater_prune.cc:74: tree pruning end, 1 roots, 36 extra nodes, 20 pruned nodes, max_depth=9\u001b[0m\n",
      "\u001b[34m[72]#011train-rmse:0.635114#011validation-rmse:2.53187\u001b[0m\n",
      "\u001b[34m[23:34:43] src/tree/updater_prune.cc:74: tree pruning end, 1 roots, 34 extra nodes, 34 pruned nodes, max_depth=8\u001b[0m\n",
      "\u001b[34m[73]#011train-rmse:0.630244#011validation-rmse:2.53709\u001b[0m\n",
      "\u001b[34m[23:34:43] src/tree/updater_prune.cc:74: tree pruning end, 1 roots, 32 extra nodes, 18 pruned nodes, max_depth=9\u001b[0m\n",
      "\u001b[34m[74]#011train-rmse:0.620817#011validation-rmse:2.53715\u001b[0m\n",
      "\u001b[34m[23:34:43] src/tree/updater_prune.cc:74: tree pruning end, 1 roots, 36 extra nodes, 58 pruned nodes, max_depth=8\u001b[0m\n",
      "\u001b[34m[75]#011train-rmse:0.605971#011validation-rmse:2.54623\u001b[0m\n",
      "\u001b[34m[23:34:43] src/tree/updater_prune.cc:74: tree pruning end, 1 roots, 42 extra nodes, 26 pruned nodes, max_depth=9\u001b[0m\n",
      "\u001b[34m[76]#011train-rmse:0.587598#011validation-rmse:2.5508\u001b[0m\n",
      "\u001b[34m[23:34:43] src/tree/updater_prune.cc:74: tree pruning end, 1 roots, 22 extra nodes, 12 pruned nodes, max_depth=9\u001b[0m\n",
      "\u001b[34m[77]#011train-rmse:0.581069#011validation-rmse:2.541\u001b[0m\n",
      "\u001b[34m[23:34:43] src/tree/updater_prune.cc:74: tree pruning end, 1 roots, 26 extra nodes, 34 pruned nodes, max_depth=9\u001b[0m\n",
      "\u001b[34m[78]#011train-rmse:0.576544#011validation-rmse:2.547\u001b[0m\n",
      "\u001b[34m[23:34:43] src/tree/updater_prune.cc:74: tree pruning end, 1 roots, 36 extra nodes, 64 pruned nodes, max_depth=8\u001b[0m\n",
      "\u001b[34m[79]#011train-rmse:0.566095#011validation-rmse:2.54033\u001b[0m\n",
      "\u001b[34m[23:34:43] src/tree/updater_prune.cc:74: tree pruning end, 1 roots, 28 extra nodes, 42 pruned nodes, max_depth=9\u001b[0m\n",
      "\u001b[34m[80]#011train-rmse:0.559922#011validation-rmse:2.53588\u001b[0m\n",
      "\u001b[34m[23:34:43] src/tree/updater_prune.cc:74: tree pruning end, 1 roots, 32 extra nodes, 36 pruned nodes, max_depth=9\u001b[0m\n",
      "\u001b[34m[81]#011train-rmse:0.54502#011validation-rmse:2.5293\u001b[0m\n",
      "\u001b[34m[23:34:43] src/tree/updater_prune.cc:74: tree pruning end, 1 roots, 30 extra nodes, 28 pruned nodes, max_depth=9\u001b[0m\n",
      "\u001b[34m[82]#011train-rmse:0.531246#011validation-rmse:2.52262\u001b[0m\n",
      "\u001b[34m[23:34:43] src/tree/updater_prune.cc:74: tree pruning end, 1 roots, 28 extra nodes, 44 pruned nodes, max_depth=8\u001b[0m\n",
      "\u001b[34m[83]#011train-rmse:0.527154#011validation-rmse:2.52838\u001b[0m\n",
      "\u001b[34m[23:34:43] src/tree/updater_prune.cc:74: tree pruning end, 1 roots, 36 extra nodes, 26 pruned nodes, max_depth=9\u001b[0m\n",
      "\u001b[34m[84]#011train-rmse:0.514194#011validation-rmse:2.52345\u001b[0m\n",
      "\u001b[34m[23:34:43] src/tree/updater_prune.cc:74: tree pruning end, 1 roots, 20 extra nodes, 54 pruned nodes, max_depth=7\u001b[0m\n",
      "\u001b[34m[85]#011train-rmse:0.504538#011validation-rmse:2.51647\u001b[0m\n",
      "\u001b[34m[23:34:43] src/tree/updater_prune.cc:74: tree pruning end, 1 roots, 28 extra nodes, 46 pruned nodes, max_depth=9\u001b[0m\n",
      "\u001b[34m[86]#011train-rmse:0.499096#011validation-rmse:2.50968\u001b[0m\n",
      "\u001b[34m[23:34:43] src/tree/updater_prune.cc:74: tree pruning end, 1 roots, 36 extra nodes, 48 pruned nodes, max_depth=9\u001b[0m\n",
      "\u001b[34m[87]#011train-rmse:0.487958#011validation-rmse:2.50525\u001b[0m\n",
      "\u001b[34m[23:34:43] src/tree/updater_prune.cc:74: tree pruning end, 1 roots, 10 extra nodes, 36 pruned nodes, max_depth=4\u001b[0m\n",
      "\u001b[34m[88]#011train-rmse:0.481022#011validation-rmse:2.50108\u001b[0m\n",
      "\u001b[34m[23:34:43] src/tree/updater_prune.cc:74: tree pruning end, 1 roots, 34 extra nodes, 60 pruned nodes, max_depth=7\u001b[0m\n",
      "\u001b[34m[89]#011train-rmse:0.470864#011validation-rmse:2.49476\u001b[0m\n",
      "\u001b[34m[23:34:43] src/tree/updater_prune.cc:74: tree pruning end, 1 roots, 10 extra nodes, 40 pruned nodes, max_depth=5\u001b[0m\n",
      "\u001b[34m[90]#011train-rmse:0.469386#011validation-rmse:2.49018\u001b[0m\n",
      "\u001b[34m[23:34:43] src/tree/updater_prune.cc:74: tree pruning end, 1 roots, 18 extra nodes, 14 pruned nodes, max_depth=7\u001b[0m\n",
      "\u001b[34m[91]#011train-rmse:0.462792#011validation-rmse:2.48498\u001b[0m\n",
      "\u001b[34m[23:34:43] src/tree/updater_prune.cc:74: tree pruning end, 1 roots, 22 extra nodes, 72 pruned nodes, max_depth=7\u001b[0m\n",
      "\u001b[34m[92]#011train-rmse:0.458483#011validation-rmse:2.48582\u001b[0m\n",
      "\u001b[34m[23:34:43] src/tree/updater_prune.cc:74: tree pruning end, 1 roots, 24 extra nodes, 68 pruned nodes, max_depth=6\u001b[0m\n",
      "\u001b[34m[93]#011train-rmse:0.44891#011validation-rmse:2.48982\u001b[0m\n",
      "\u001b[34m[23:34:43] src/tree/updater_prune.cc:74: tree pruning end, 1 roots, 26 extra nodes, 60 pruned nodes, max_depth=9\u001b[0m\n",
      "\u001b[34m[94]#011train-rmse:0.440298#011validation-rmse:2.48609\u001b[0m\n",
      "\u001b[34m[23:34:43] src/tree/updater_prune.cc:74: tree pruning end, 1 roots, 18 extra nodes, 60 pruned nodes, max_depth=6\u001b[0m\n",
      "\u001b[34m[95]#011train-rmse:0.434575#011validation-rmse:2.48048\u001b[0m\n",
      "\u001b[34m[23:34:43] src/tree/updater_prune.cc:74: tree pruning end, 1 roots, 20 extra nodes, 26 pruned nodes, max_depth=8\u001b[0m\n",
      "\u001b[34m[96]#011train-rmse:0.426913#011validation-rmse:2.48788\u001b[0m\n",
      "\u001b[34m[23:34:43] src/tree/updater_prune.cc:74: tree pruning end, 1 roots, 26 extra nodes, 44 pruned nodes, max_depth=9\u001b[0m\n",
      "\u001b[34m[97]#011train-rmse:0.42025#011validation-rmse:2.48588\u001b[0m\n",
      "\u001b[34m[23:34:43] src/tree/updater_prune.cc:74: tree pruning end, 1 roots, 32 extra nodes, 30 pruned nodes, max_depth=9\u001b[0m\n",
      "\u001b[34m[98]#011train-rmse:0.411233#011validation-rmse:2.48014\u001b[0m\n",
      "\u001b[34m[23:34:43] src/tree/updater_prune.cc:74: tree pruning end, 1 roots, 24 extra nodes, 34 pruned nodes, max_depth=8\u001b[0m\n",
      "\u001b[34m[99]#011train-rmse:0.403372#011validation-rmse:2.4769\u001b[0m\n",
      "\u001b[34m[23:34:43] src/tree/updater_prune.cc:74: tree pruning end, 1 roots, 20 extra nodes, 92 pruned nodes, max_depth=5\u001b[0m\n",
      "\u001b[34m[100]#011train-rmse:0.395053#011validation-rmse:2.47783\u001b[0m\n",
      "\u001b[34m[23:34:43] src/tree/updater_prune.cc:74: tree pruning end, 1 roots, 18 extra nodes, 30 pruned nodes, max_depth=8\u001b[0m\n",
      "\u001b[34m[101]#011train-rmse:0.388978#011validation-rmse:2.47377\u001b[0m\n",
      "\u001b[34m[23:34:43] src/tree/updater_prune.cc:74: tree pruning end, 1 roots, 24 extra nodes, 56 pruned nodes, max_depth=9\u001b[0m\n",
      "\u001b[34m[102]#011train-rmse:0.382504#011validation-rmse:2.47178\u001b[0m\n",
      "\u001b[34m[23:34:43] src/tree/updater_prune.cc:74: tree pruning end, 1 roots, 22 extra nodes, 18 pruned nodes, max_depth=9\u001b[0m\n",
      "\u001b[34m[103]#011train-rmse:0.378055#011validation-rmse:2.47027\u001b[0m\n",
      "\u001b[34m[23:34:43] src/tree/updater_prune.cc:74: tree pruning end, 1 roots, 6 extra nodes, 58 pruned nodes, max_depth=3\u001b[0m\n",
      "\u001b[34m[104]#011train-rmse:0.377577#011validation-rmse:2.47363\u001b[0m\n",
      "\u001b[34m[23:34:43] src/tree/updater_prune.cc:74: tree pruning end, 1 roots, 12 extra nodes, 50 pruned nodes, max_depth=6\u001b[0m\n",
      "\u001b[34m[105]#011train-rmse:0.376412#011validation-rmse:2.47548\u001b[0m\n",
      "\u001b[34m[23:34:43] src/tree/updater_prune.cc:74: tree pruning end, 1 roots, 14 extra nodes, 52 pruned nodes, max_depth=7\u001b[0m\n",
      "\u001b[34m[106]#011train-rmse:0.372134#011validation-rmse:2.47198\u001b[0m\n",
      "\u001b[34m[23:34:43] src/tree/updater_prune.cc:74: tree pruning end, 1 roots, 2 extra nodes, 46 pruned nodes, max_depth=1\u001b[0m\n",
      "\u001b[34m[107]#011train-rmse:0.371446#011validation-rmse:2.46901\u001b[0m\n",
      "\u001b[34m[23:34:43] src/tree/updater_prune.cc:74: tree pruning end, 1 roots, 6 extra nodes, 74 pruned nodes, max_depth=2\u001b[0m\n",
      "\u001b[34m[108]#011train-rmse:0.36905#011validation-rmse:2.46637\u001b[0m\n",
      "\u001b[34m[23:34:43] src/tree/updater_prune.cc:74: tree pruning end, 1 roots, 22 extra nodes, 88 pruned nodes, max_depth=6\u001b[0m\n",
      "\u001b[34m[109]#011train-rmse:0.362209#011validation-rmse:2.46622\u001b[0m\n",
      "\u001b[34m[23:34:43] src/tree/updater_prune.cc:74: tree pruning end, 1 roots, 26 extra nodes, 62 pruned nodes, max_depth=7\u001b[0m\n",
      "\u001b[34m[110]#011train-rmse:0.354564#011validation-rmse:2.46566\u001b[0m\n",
      "\u001b[34m[23:34:43] src/tree/updater_prune.cc:74: tree pruning end, 1 roots, 12 extra nodes, 92 pruned nodes, max_depth=6\u001b[0m\n",
      "\u001b[34m[111]#011train-rmse:0.351838#011validation-rmse:2.46238\u001b[0m\n",
      "\u001b[34m[23:34:43] src/tree/updater_prune.cc:74: tree pruning end, 1 roots, 14 extra nodes, 74 pruned nodes, max_depth=6\u001b[0m\n",
      "\u001b[34m[112]#011train-rmse:0.350207#011validation-rmse:2.46244\u001b[0m\n",
      "\u001b[34m[23:34:43] src/tree/updater_prune.cc:74: tree pruning end, 1 roots, 16 extra nodes, 56 pruned nodes, max_depth=6\u001b[0m\n",
      "\u001b[34m[113]#011train-rmse:0.348041#011validation-rmse:2.46428\u001b[0m\n",
      "\u001b[34m[23:34:43] src/tree/updater_prune.cc:74: tree pruning end, 1 roots, 2 extra nodes, 48 pruned nodes, max_depth=1\u001b[0m\n",
      "\u001b[34m[114]#011train-rmse:0.347953#011validation-rmse:2.46262\u001b[0m\n",
      "\u001b[34m[23:34:43] src/tree/updater_prune.cc:74: tree pruning end, 1 roots, 2 extra nodes, 54 pruned nodes, max_depth=1\u001b[0m\n",
      "\u001b[34m[115]#011train-rmse:0.347425#011validation-rmse:2.46107\u001b[0m\n",
      "\u001b[34m[23:34:43] src/tree/updater_prune.cc:74: tree pruning end, 1 roots, 16 extra nodes, 46 pruned nodes, max_depth=8\u001b[0m\n",
      "\u001b[34m[116]#011train-rmse:0.345731#011validation-rmse:2.46312\u001b[0m\n",
      "\u001b[34m[23:34:43] src/tree/updater_prune.cc:74: tree pruning end, 1 roots, 16 extra nodes, 38 pruned nodes, max_depth=8\u001b[0m\n",
      "\u001b[34m[117]#011train-rmse:0.343374#011validation-rmse:2.46063\u001b[0m\n",
      "\u001b[34m[23:34:43] src/tree/updater_prune.cc:74: tree pruning end, 1 roots, 18 extra nodes, 58 pruned nodes, max_depth=8\u001b[0m\n",
      "\u001b[34m[118]#011train-rmse:0.339523#011validation-rmse:2.45894\u001b[0m\n",
      "\u001b[34m[23:34:43] src/tree/updater_prune.cc:74: tree pruning end, 1 roots, 14 extra nodes, 54 pruned nodes, max_depth=7\u001b[0m\n",
      "\u001b[34m[119]#011train-rmse:0.338238#011validation-rmse:2.46146\u001b[0m\n",
      "\u001b[34m[23:34:43] src/tree/updater_prune.cc:74: tree pruning end, 1 roots, 22 extra nodes, 50 pruned nodes, max_depth=9\u001b[0m\n",
      "\u001b[34m[120]#011train-rmse:0.332812#011validation-rmse:2.4655\u001b[0m\n",
      "\u001b[34m[23:34:43] src/tree/updater_prune.cc:74: tree pruning end, 1 roots, 14 extra nodes, 32 pruned nodes, max_depth=7\u001b[0m\n",
      "\u001b[34m[121]#011train-rmse:0.331355#011validation-rmse:2.46601\u001b[0m\n",
      "\u001b[34m[23:34:43] src/tree/updater_prune.cc:74: tree pruning end, 1 roots, 6 extra nodes, 48 pruned nodes, max_depth=3\u001b[0m\n",
      "\u001b[34m[122]#011train-rmse:0.33097#011validation-rmse:2.46863\u001b[0m\n",
      "\u001b[34m[23:34:43] src/tree/updater_prune.cc:74: tree pruning end, 1 roots, 2 extra nodes, 82 pruned nodes, max_depth=1\u001b[0m\n",
      "\u001b[34m[123]#011train-rmse:0.330612#011validation-rmse:2.4657\u001b[0m\n",
      "\u001b[34m[23:34:43] src/tree/updater_prune.cc:74: tree pruning end, 1 roots, 4 extra nodes, 68 pruned nodes, max_depth=2\u001b[0m\n",
      "\u001b[34m[124]#011train-rmse:0.328878#011validation-rmse:2.46295\u001b[0m\n",
      "\u001b[34m[23:34:43] src/tree/updater_prune.cc:74: tree pruning end, 1 roots, 18 extra nodes, 54 pruned nodes, max_depth=8\u001b[0m\n",
      "\u001b[34m[125]#011train-rmse:0.324607#011validation-rmse:2.46601\u001b[0m\n",
      "\u001b[34m[23:34:43] src/tree/updater_prune.cc:74: tree pruning end, 1 roots, 0 extra nodes, 96 pruned nodes, max_depth=0\u001b[0m\n",
      "\u001b[34m[126]#011train-rmse:0.324608#011validation-rmse:2.46599\u001b[0m\n",
      "\u001b[34m[23:34:43] src/tree/updater_prune.cc:74: tree pruning end, 1 roots, 4 extra nodes, 52 pruned nodes, max_depth=2\u001b[0m\n",
      "\u001b[34m[127]#011train-rmse:0.323571#011validation-rmse:2.46361\u001b[0m\n",
      "\u001b[34m[23:34:43] src/tree/updater_prune.cc:74: tree pruning end, 1 roots, 4 extra nodes, 58 pruned nodes, max_depth=2\u001b[0m\n",
      "\u001b[34m[128]#011train-rmse:0.322584#011validation-rmse:2.46132\u001b[0m\n",
      "\u001b[34mStopping. Best iteration:\u001b[0m\n",
      "\u001b[34m[118]#011train-rmse:0.339523#011validation-rmse:2.45894\n",
      "\u001b[0m\n",
      "Training seconds: 78\n",
      "Billable seconds: 78\n"
     ]
    }
   ],
   "source": [
    "xgb_attached = sagemaker.estimator.Estimator.attach(xgb_hyperparameter_tuner.best_training_job())"
   ]
  },
  {
   "cell_type": "markdown",
   "metadata": {},
   "source": [
    "## Step 5: Test the model\n",
    "\n",
    "Now that we have our best performing model, we can test it. To do this we will use the batch transform functionality. To start with, we need to build a transformer object from our fit model."
   ]
  },
  {
   "cell_type": "code",
   "execution_count": 15,
   "metadata": {},
   "outputs": [],
   "source": [
    "xgb_transformer = xgb_attached.transformer(instance_count = 1, instance_type = 'ml.m4.xlarge')"
   ]
  },
  {
   "cell_type": "markdown",
   "metadata": {},
   "source": [
    "Next we ask SageMaker to begin a batch transform job using our trained model and applying it to the test data we previous stored in S3. We need to make sure to provide SageMaker with the type of data that we are providing to our model, in our case `text/csv`, so that it knows how to serialize our data. In addition, we need to make sure to let SageMaker know how to split our data up into chunks if the entire data set happens to be too large to send to our model all at once.\n",
    "\n",
    "Note that when we ask SageMaker to do this it will execute the batch transform job in the background. Since we need to wait for the results of this job before we can continue, we use the `wait()` method. An added benefit of this is that we get some output from our batch transform job which lets us know if anything went wrong."
   ]
  },
  {
   "cell_type": "code",
   "execution_count": 16,
   "metadata": {},
   "outputs": [],
   "source": [
    "xgb_transformer.transform(test_location, content_type='text/csv', split_type='Line')"
   ]
  },
  {
   "cell_type": "code",
   "execution_count": 17,
   "metadata": {},
   "outputs": [
    {
     "name": "stdout",
     "output_type": "stream",
     "text": [
      "...................\u001b[34mArguments: serve\u001b[0m\n",
      "\u001b[34m[2020-05-25 23:59:21 +0000] [1] [INFO] Starting gunicorn 19.7.1\u001b[0m\n",
      "\u001b[34m[2020-05-25 23:59:21 +0000] [1] [INFO] Listening at: http://0.0.0.0:8080 (1)\u001b[0m\n",
      "\u001b[34m[2020-05-25 23:59:21 +0000] [1] [INFO] Using worker: gevent\u001b[0m\n",
      "\u001b[34m[2020-05-25 23:59:21 +0000] [37] [INFO] Booting worker with pid: 37\u001b[0m\n",
      "\u001b[34m[2020-05-25 23:59:21 +0000] [38] [INFO] Booting worker with pid: 38\u001b[0m\n",
      "\u001b[34m[2020-05-25 23:59:21 +0000] [39] [INFO] Booting worker with pid: 39\u001b[0m\n",
      "\u001b[34m[2020-05-25:23:59:21:INFO] Model loaded successfully for worker : 37\u001b[0m\n",
      "\u001b[34m[2020-05-25:23:59:21:INFO] Model loaded successfully for worker : 38\u001b[0m\n",
      "\u001b[34m[2020-05-25 23:59:21 +0000] [40] [INFO] Booting worker with pid: 40\u001b[0m\n",
      "\u001b[34m[2020-05-25:23:59:21:INFO] Model loaded successfully for worker : 39\u001b[0m\n",
      "\u001b[34m[2020-05-25:23:59:21:INFO] Model loaded successfully for worker : 40\u001b[0m\n",
      "\n",
      "\u001b[34m[2020-05-25:23:59:49:INFO] Sniff delimiter as ','\u001b[0m\n",
      "\u001b[34m[2020-05-25:23:59:49:INFO] Determined delimiter of CSV input is ','\u001b[0m\n",
      "\u001b[35m[2020-05-25:23:59:49:INFO] Sniff delimiter as ','\u001b[0m\n",
      "\u001b[35m[2020-05-25:23:59:49:INFO] Determined delimiter of CSV input is ','\u001b[0m\n",
      "\u001b[32m2020-05-25T23:59:49.635:[sagemaker logs]: MaxConcurrentTransforms=4, MaxPayloadInMB=6, BatchStrategy=MULTI_RECORD\u001b[0m\n"
     ]
    }
   ],
   "source": [
    "xgb_transformer.wait()"
   ]
  },
  {
   "cell_type": "markdown",
   "metadata": {},
   "source": [
    "Now that the batch transform job has finished, the resulting output is stored on S3. Since we wish to analyze the output inside of our notebook we can use a bit of notebook magic to copy the output file from its S3 location and save it locally."
   ]
  },
  {
   "cell_type": "code",
   "execution_count": 18,
   "metadata": {},
   "outputs": [
    {
     "name": "stdout",
     "output_type": "stream",
     "text": [
      "Completed 2.3 KiB/2.3 KiB (33.7 KiB/s) with 1 file(s) remaining\r",
      "download: s3://sagemaker-us-east-2-357004283973/xgboost-200525-2327-006-c7720d15-2020-05-25-23-56-22-741/test.csv.out to ../data/boston/test.csv.out\r\n"
     ]
    }
   ],
   "source": [
    "!aws s3 cp --recursive $xgb_transformer.output_path $data_dir"
   ]
  },
  {
   "cell_type": "markdown",
   "metadata": {},
   "source": [
    "To see how well our model works we can create a simple scatter plot between the predicted and actual values. If the model was completely accurate the resulting scatter plot would look like the line $x=y$. As we can see, our model seems to have done okay but there is room for improvement."
   ]
  },
  {
   "cell_type": "code",
   "execution_count": 19,
   "metadata": {},
   "outputs": [],
   "source": [
    "Y_pred = pd.read_csv(os.path.join(data_dir, 'test.csv.out'), header=None)"
   ]
  },
  {
   "cell_type": "code",
   "execution_count": 20,
   "metadata": {},
   "outputs": [
    {
     "data": {
      "text/plain": [
       "Text(0.5, 1.0, 'Median Price vs Predicted Price')"
      ]
     },
     "execution_count": 20,
     "metadata": {},
     "output_type": "execute_result"
    },
    {
     "data": {
      "image/png": "[encoded data removed]",
      "text/plain": [
       "<Figure size 432x288 with 1 Axes>"
      ]
     },
     "metadata": {},
     "output_type": "display_data"
    }
   ],
   "source": [
    "plt.scatter(Y_test, Y_pred)\n",
    "plt.xlabel(\"Median Price\")\n",
    "plt.ylabel(\"Predicted Price\")\n",
    "plt.title(\"Median Price vs Predicted Price\")"
   ]
  },
  {
   "cell_type": "markdown",
   "metadata": {},
   "source": [
    "## Optional: Clean up\n",
    "\n",
    "The default notebook instance on SageMaker doesn't have a lot of excess disk space available. As you continue to complete and execute notebooks you will eventually fill up this disk space, leading to errors which can be difficult to diagnose. Once you are completely finished using a notebook it is a good idea to remove the files that you created along the way. Of course, you can do this from the terminal or from the notebook hub if you would like. The cell below contains some commands to clean up the created files from within the notebook."
   ]
  },
  {
   "cell_type": "code",
   "execution_count": 21,
   "metadata": {},
   "outputs": [],
   "source": [
    "# First we will remove all of the files contained in the data_dir directory\n",
    "!rm $data_dir/*\n",
    "\n",
    "# And then we delete the directory itself\n",
    "!rmdir $data_dir"
   ]
  },
  {
   "cell_type": "code",
   "execution_count": null,
   "metadata": {},
   "outputs": [],
   "source": []
  }
 ],
 "metadata": {
  "kernelspec": {
   "display_name": "conda_pytorch_p36",
   "language": "python",
   "name": "conda_pytorch_p36"
  },
  "language_info": {
   "codemirror_mode": {
    "name": "ipython",
    "version": 3
   },
   "file_extension": ".py",
   "mimetype": "text/x-python",
   "name": "python",
   "nbconvert_exporter": "python",
   "pygments_lexer": "ipython3",
   "version": "3.6.5"
  }
 },
 "nbformat": 4,
 "nbformat_minor": 2
}
