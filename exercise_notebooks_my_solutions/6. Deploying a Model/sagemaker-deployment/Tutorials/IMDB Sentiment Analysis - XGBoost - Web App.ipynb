{
 "cells": [
  {
   "cell_type": "markdown",
   "metadata": {},
   "source": [
    "# Sentiment Analysis Web App\n",
    "\n",
    "_Deep Learning Nanodegree Program | Deployment_\n",
    "\n",
    "---\n",
    "\n",
    "In this notebook we will use Amazon's SageMaker service to construct a random tree model to predict the sentiment of a movie review. In addition, we will deploy this model to an endpoint and construct a very simple web app which will interact with our model's deployed endpoint.\n",
    "\n",
    "## General Outline\n",
    "\n",
    "Typically, when using a notebook instance with SageMaker, you will proceed through the following steps. Of course, not every step will need to be done with each project. Also, there is quite a lot of room for variation in many of the steps, as you will see throughout these lessons.\n",
    "\n",
    "1. Download or otherwise retrieve the data.\n",
    "2. Process / Prepare the data.\n",
    "3. Upload the processed data to S3.\n",
    "4. Train a chosen model.\n",
    "5. Test the trained model (typically using a batch transform job).\n",
    "6. Deploy the trained model.\n",
    "7. Use the deployed model.\n",
    "\n",
    "In this notebook we will progress through each of the steps above. We will also see that the final step, using the deployed model, can be quite challenging."
   ]
  },
  {
   "cell_type": "markdown",
   "metadata": {},
   "source": [
    "## Step 1: Downloading the data\n",
    "\n",
    "The dataset we are going to use is very popular among researchers in Natural Language Processing, usually referred to as the [IMDb dataset](http://ai.stanford.edu/~amaas/data/sentiment/). It consists of movie reviews from the website [imdb.com](http://www.imdb.com/), each labeled as either '**pos**itive', if the reviewer enjoyed the film, or '**neg**ative' otherwise.\n",
    "\n",
    "> Maas, Andrew L., et al. [Learning Word Vectors for Sentiment Analysis](http://ai.stanford.edu/~amaas/data/sentiment/). In _Proceedings of the 49th Annual Meeting of the Association for Computational Linguistics: Human Language Technologies_. Association for Computational Linguistics, 2011.\n",
    "\n",
    "We begin by using some Jupyter Notebook magic to download and extract the dataset."
   ]
  },
  {
   "cell_type": "code",
   "execution_count": 2,
   "metadata": {},
   "outputs": [
    {
     "name": "stdout",
     "output_type": "stream",
     "text": [
      "mkdir: cannot create directory ‘../data’: File exists\n",
      "--2020-05-25 17:54:44--  http://ai.stanford.edu/~amaas/data/sentiment/aclImdb_v1.tar.gz\n",
      "Resolving ai.stanford.edu (ai.stanford.edu)... 171.64.68.10\n",
      "Connecting to ai.stanford.edu (ai.stanford.edu)|171.64.68.10|:80... connected.\n",
      "HTTP request sent, awaiting response... 200 OK\n",
      "Length: 84125825 (80M) [application/x-gzip]\n",
      "Saving to: ‘../data/aclImdb_v1.tar.gz’\n",
      "\n",
      "../data/aclImdb_v1. 100%[===================>]  80.23M  23.4MB/s    in 4.0s    \n",
      "\n",
      "2020-05-25 17:54:48 (19.8 MB/s) - ‘../data/aclImdb_v1.tar.gz’ saved [84125825/84125825]\n",
      "\n"
     ]
    }
   ],
   "source": [
    "%mkdir ../data\n",
    "!wget -O ../data/aclImdb_v1.tar.gz http://ai.stanford.edu/~amaas/data/sentiment/aclImdb_v1.tar.gz\n",
    "!tar -zxf ../data/aclImdb_v1.tar.gz -C ../data"
   ]
  },
  {
   "cell_type": "markdown",
   "metadata": {},
   "source": [
    "## Step 2: Preparing and Processing the data\n",
    "\n",
    "The data we have downloaded is split into various files, each of which contains a single review. It will be much easier going forward if we combine these individual files into two large files, one for training and one for testing."
   ]
  },
  {
   "cell_type": "code",
   "execution_count": 3,
   "metadata": {},
   "outputs": [],
   "source": [
    "import os\n",
    "import glob\n",
    "\n",
    "def read_imdb_data(data_dir='../data/aclImdb'):\n",
    "    data = {}\n",
    "    labels = {}\n",
    "    \n",
    "    for data_type in ['train', 'test']:\n",
    "        data[data_type] = {}\n",
    "        labels[data_type] = {}\n",
    "        \n",
    "        for sentiment in ['pos', 'neg']:\n",
    "            data[data_type][sentiment] = []\n",
    "            labels[data_type][sentiment] = []\n",
    "            \n",
    "            path = os.path.join(data_dir, data_type, sentiment, '*.txt')\n",
    "            files = glob.glob(path)\n",
    "            \n",
    "            for f in files:\n",
    "                with open(f) as review:\n",
    "                    data[data_type][sentiment].append(review.read())\n",
    "                    # Here we represent a positive review by '1' and a negative review by '0'\n",
    "                    labels[data_type][sentiment].append(1 if sentiment == 'pos' else 0)\n",
    "                    \n",
    "            assert len(data[data_type][sentiment]) == len(labels[data_type][sentiment]), \\\n",
    "                    \"{}/{} data size does not match labels size\".format(data_type, sentiment)\n",
    "                \n",
    "    return data, labels"
   ]
  },
  {
   "cell_type": "code",
   "execution_count": 4,
   "metadata": {},
   "outputs": [
    {
     "name": "stdout",
     "output_type": "stream",
     "text": [
      "IMDB reviews: train = 12500 pos / 12500 neg, test = 12500 pos / 12500 neg\n"
     ]
    }
   ],
   "source": [
    "data, labels = read_imdb_data()\n",
    "print(\"IMDB reviews: train = {} pos / {} neg, test = {} pos / {} neg\".format(\n",
    "            len(data['train']['pos']), len(data['train']['neg']),\n",
    "            len(data['test']['pos']), len(data['test']['neg'])))"
   ]
  },
  {
   "cell_type": "code",
   "execution_count": 5,
   "metadata": {},
   "outputs": [],
   "source": [
    "from sklearn.utils import shuffle\n",
    "\n",
    "def prepare_imdb_data(data, labels):\n",
    "    \"\"\"Prepare training and test sets from IMDb movie reviews.\"\"\"\n",
    "    \n",
    "    #Combine positive and negative reviews and labels\n",
    "    data_train = data['train']['pos'] + data['train']['neg']\n",
    "    data_test = data['test']['pos'] + data['test']['neg']\n",
    "    labels_train = labels['train']['pos'] + labels['train']['neg']\n",
    "    labels_test = labels['test']['pos'] + labels['test']['neg']\n",
    "    \n",
    "    #Shuffle reviews and corresponding labels within training and test sets\n",
    "    data_train, labels_train = shuffle(data_train, labels_train)\n",
    "    data_test, labels_test = shuffle(data_test, labels_test)\n",
    "    \n",
    "    # Return a unified training data, test data, training labels, test labets\n",
    "    return data_train, data_test, labels_train, labels_test"
   ]
  },
  {
   "cell_type": "code",
   "execution_count": 6,
   "metadata": {},
   "outputs": [
    {
     "name": "stdout",
     "output_type": "stream",
     "text": [
      "IMDb reviews (combined): train = 25000, test = 25000\n"
     ]
    }
   ],
   "source": [
    "train_X, test_X, train_y, test_y = prepare_imdb_data(data, labels)\n",
    "print(\"IMDb reviews (combined): train = {}, test = {}\".format(len(train_X), len(test_X)))"
   ]
  },
  {
   "cell_type": "code",
   "execution_count": 7,
   "metadata": {},
   "outputs": [
    {
     "data": {
      "text/plain": [
       "\"Seriously, I mean very seriously, when I first started watching the show I thought it was good. But the plots just got worse. The storyline were either too boring or predictable. George isn't always funny, he sometimes acts stupid. His jokes are overdone. His mom is the silliest character of the show. How can a mother treat her own son that way, okay if it was the daughter in law, but this was her own son. I give this show a 4/10 just because the first few shows were a little funny. The actors Constance Marie and Masiela Lusha do a great job. Don't know how these shows get to play for so long. <br /><br />If you're really bored like I was and have nothing else to watch, I'd suggest you watch this.\""
      ]
     },
     "execution_count": 7,
     "metadata": {},
     "output_type": "execute_result"
    }
   ],
   "source": [
    "train_X[100]"
   ]
  },
  {
   "cell_type": "markdown",
   "metadata": {},
   "source": [
    "## Processing the data\n",
    "\n",
    "Now that we have our training and testing datasets merged and ready to use, we need to start processing the raw data into something that will be useable by our machine learning algorithm. To begin with, we remove any html formatting and any non-alpha numeric characters that may appear in the reviews. We will do this in a very simplistic way using Python's regular expression module. We will discuss the reason for this rather simplistic pre-processing later on."
   ]
  },
  {
   "cell_type": "markdown",
   "metadata": {},
   "source": [
    "**Lecture Note:**\n",
    "\n",
    "In Mini-Project, we use BeautifulSoup and nltk library to deal with http formatting, punctuations and word stemming.\n",
    "\n",
    "Here, we remove puntuations using python3 regularization method.\n"
   ]
  },
  {
   "cell_type": "code",
   "execution_count": 8,
   "metadata": {},
   "outputs": [],
   "source": [
    "import re\n",
    "\n",
    "REPLACE_NO_SPACE = re.compile(\"(\\.)|(\\;)|(\\:)|(\\!)|(\\')|(\\?)|(\\,)|(\\\")|(\\()|(\\))|(\\[)|(\\])\")\n",
    "REPLACE_WITH_SPACE = re.compile(\"(<br\\s*/><br\\s*/>)|(\\-)|(\\/)\")\n",
    "\n",
    "def review_to_words(review):\n",
    "    words = REPLACE_NO_SPACE.sub(\"\", review.lower())\n",
    "    words = REPLACE_WITH_SPACE.sub(\" \", words)\n",
    "    return words"
   ]
  },
  {
   "cell_type": "code",
   "execution_count": 9,
   "metadata": {},
   "outputs": [
    {
     "data": {
      "text/plain": [
       "'seriously i mean very seriously when i first started watching the show i thought it was good but the plots just got worse the storyline were either too boring or predictable george isnt always funny he sometimes acts stupid his jokes are overdone his mom is the silliest character of the show how can a mother treat her own son that way okay if it was the daughter in law but this was her own son i give this show a 4 10 just because the first few shows were a little funny the actors constance marie and masiela lusha do a great job dont know how these shows get to play for so long  if youre really bored like i was and have nothing else to watch id suggest you watch this'"
      ]
     },
     "execution_count": 9,
     "metadata": {},
     "output_type": "execute_result"
    }
   ],
   "source": [
    "# clean punctuations and html formatting using lambda\n",
    "review_to_words(train_X[100])"
   ]
  },
  {
   "cell_type": "code",
   "execution_count": 10,
   "metadata": {},
   "outputs": [],
   "source": [
    "import pickle\n",
    "\n",
    "cache_dir = os.path.join(\"../cache\", \"sentiment_web_app\")  # where to store cache files\n",
    "os.makedirs(cache_dir, exist_ok=True)  # ensure cache directory exists\n",
    "\n",
    "def preprocess_data(data_train, data_test, labels_train, labels_test,\n",
    "                    cache_dir=cache_dir, cache_file=\"preprocessed_data.pkl\"):\n",
    "    \"\"\"Convert each review to words; read from cache if available.\"\"\"\n",
    "\n",
    "    # If cache_file is not None, try to read from it first\n",
    "    cache_data = None\n",
    "    if cache_file is not None:\n",
    "        try:\n",
    "            with open(os.path.join(cache_dir, cache_file), \"rb\") as f:\n",
    "                cache_data = pickle.load(f)\n",
    "            print(\"Read preprocessed data from cache file:\", cache_file)\n",
    "        except:\n",
    "            pass  # unable to read from cache, but that's okay\n",
    "    \n",
    "    # If cache is missing, then do the heavy lifting\n",
    "    if cache_data is None:\n",
    "        # Preprocess training and test data to obtain words for each review\n",
    "        #words_train = list(map(review_to_words, data_train))\n",
    "        #words_test = list(map(review_to_words, data_test))\n",
    "        words_train = [review_to_words(review) for review in data_train]\n",
    "        words_test = [review_to_words(review) for review in data_test]\n",
    "        \n",
    "        # Write to cache file for future runs\n",
    "        if cache_file is not None:\n",
    "            cache_data = dict(words_train=words_train, words_test=words_test,\n",
    "                              labels_train=labels_train, labels_test=labels_test)\n",
    "            with open(os.path.join(cache_dir, cache_file), \"wb\") as f:\n",
    "                pickle.dump(cache_data, f)\n",
    "            print(\"Wrote preprocessed data to cache file:\", cache_file)\n",
    "    else:\n",
    "        # Unpack data loaded from cache file\n",
    "        words_train, words_test, labels_train, labels_test = (cache_data['words_train'],\n",
    "                cache_data['words_test'], cache_data['labels_train'], cache_data['labels_test'])\n",
    "    \n",
    "    return words_train, words_test, labels_train, labels_test"
   ]
  },
  {
   "cell_type": "code",
   "execution_count": 11,
   "metadata": {},
   "outputs": [
    {
     "name": "stdout",
     "output_type": "stream",
     "text": [
      "Read preprocessed data from cache file: preprocessed_data.pkl\n"
     ]
    }
   ],
   "source": [
    "# Preprocess data\n",
    "train_X, test_X, train_y, test_y = preprocess_data(train_X, test_X, train_y, test_y)"
   ]
  },
  {
   "cell_type": "markdown",
   "metadata": {},
   "source": [
    "### Extract Bag-of-Words features\n",
    "\n",
    "For the model we will be implementing, rather than using the reviews directly, we are going to transform each review into a Bag-of-Words feature representation. Keep in mind that 'in the wild' we will only have access to the training set so our transformer can only use the training set to construct a representation."
   ]
  },
  {
   "cell_type": "markdown",
   "metadata": {},
   "source": [
    "**Lecture Note:**\n",
    "\n",
    "We are going to encode each review as a vector where each entry in the vector tells the number of times that the particular word appears in the review.\n"
   ]
  },
  {
   "cell_type": "code",
   "execution_count": 12,
   "metadata": {},
   "outputs": [],
   "source": [
    "import numpy as np\n",
    "from sklearn.feature_extraction.text import CountVectorizer\n",
    "from sklearn.externals import joblib\n",
    "# joblib is an enhanced version of pickle that is more efficient for storing NumPy arrays\n",
    "\n",
    "def extract_BoW_features(words_train, words_test, vocabulary_size=5000,  # Lecture Note: only track the top 5000 most frequent words in the training set\n",
    "                         cache_dir=cache_dir, cache_file=\"bow_features.pkl\"):\n",
    "    \"\"\"Extract Bag-of-Words for a given set of documents, already preprocessed into words.\"\"\"\n",
    "    \n",
    "    # If cache_file is not None, try to read from it first\n",
    "    cache_data = None\n",
    "    if cache_file is not None:\n",
    "        try:\n",
    "            with open(os.path.join(cache_dir, cache_file), \"rb\") as f:\n",
    "                cache_data = joblib.load(f)\n",
    "            print(\"Read features from cache file:\", cache_file)\n",
    "        except:\n",
    "            pass  # unable to read from cache, but that's okay\n",
    "    \n",
    "    # If cache is missing, then do the heavy lifting\n",
    "    if cache_data is None:\n",
    "        # Fit a vectorizer to training documents and use it to transform them\n",
    "        # NOTE: Training documents have already been preprocessed and tokenized into words;\n",
    "        #       pass in dummy functions to skip those steps, e.g. preprocessor=lambda x: x\n",
    "        vectorizer = CountVectorizer(max_features=vocabulary_size)\n",
    "        features_train = vectorizer.fit_transform(words_train).toarray()\n",
    "\n",
    "        # Apply the same vectorizer to transform the test documents (ignore unknown words)\n",
    "        features_test = vectorizer.transform(words_test).toarray()\n",
    "        \n",
    "        # NOTE: Remember to convert the features using .toarray() for a compact representation\n",
    "        \n",
    "        # Write to cache file for future runs (store vocabulary as well)\n",
    "        if cache_file is not None:\n",
    "            vocabulary = vectorizer.vocabulary_\n",
    "            cache_data = dict(features_train=features_train, features_test=features_test,\n",
    "                             vocabulary=vocabulary)\n",
    "            with open(os.path.join(cache_dir, cache_file), \"wb\") as f:\n",
    "                joblib.dump(cache_data, f)\n",
    "            print(\"Wrote features to cache file:\", cache_file)\n",
    "    else:\n",
    "        # Unpack data loaded from cache file\n",
    "        features_train, features_test, vocabulary = (cache_data['features_train'],\n",
    "                cache_data['features_test'], cache_data['vocabulary'])\n",
    "    \n",
    "    # Return both the extracted features as well as the vocabulary\n",
    "    return features_train, features_test, vocabulary"
   ]
  },
  {
   "cell_type": "code",
   "execution_count": 13,
   "metadata": {},
   "outputs": [
    {
     "name": "stdout",
     "output_type": "stream",
     "text": [
      "Read features from cache file: bow_features.pkl\n"
     ]
    }
   ],
   "source": [
    "# Extract Bag of Words features for both training and test datasets\n",
    "train_X, test_X, vocabulary = extract_BoW_features(train_X, test_X)"
   ]
  },
  {
   "cell_type": "code",
   "execution_count": 14,
   "metadata": {},
   "outputs": [
    {
     "data": {
      "text/plain": [
       "5000"
      ]
     },
     "execution_count": 14,
     "metadata": {},
     "output_type": "execute_result"
    }
   ],
   "source": [
    "len(train_X[100])"
   ]
  },
  {
   "cell_type": "markdown",
   "metadata": {},
   "source": [
    "## Step 3: Upload data to S3\n",
    "\n",
    "Now that we have created the feature representation of our training (and testing) data, it is time to start setting up and using the XGBoost classifier provided by SageMaker.\n",
    "\n",
    "### Writing the datasets\n",
    "\n",
    "The XGBoost classifier that we will be using requires the dataset to be written to a file and stored using Amazon S3. To do this, we will start by splitting the training dataset into two parts, the data we will train the model with and a validation set. Then, we will write those datasets to a file locally and then upload the files to S3. In addition, we will write the test set to a file and upload that file to S3. This is so that we can use SageMakers Batch Transform functionality to test our model once we've fit it."
   ]
  },
  {
   "cell_type": "code",
   "execution_count": 15,
   "metadata": {},
   "outputs": [],
   "source": [
    "import pandas as pd\n",
    "\n",
    "# Earlier we shuffled the training dataset so to make things simple we can just assign\n",
    "# the first 10 000 reviews to the validation set and use the remaining reviews for training.\n",
    "val_X = pd.DataFrame(train_X[:10000])\n",
    "train_X = pd.DataFrame(train_X[10000:])\n",
    "\n",
    "val_y = pd.DataFrame(train_y[:10000])\n",
    "train_y = pd.DataFrame(train_y[10000:])"
   ]
  },
  {
   "cell_type": "markdown",
   "metadata": {},
   "source": [
    "The documentation for the XGBoost algorithm in SageMaker requires that the training and validation datasets should contain no headers or index and that the label should occur first for each sample.\n",
    "\n",
    "For more information about this and other algorithms, the SageMaker developer documentation can be found on __[Amazon's website.](https://docs.aws.amazon.com/sagemaker/latest/dg/)__"
   ]
  },
  {
   "cell_type": "code",
   "execution_count": 16,
   "metadata": {},
   "outputs": [],
   "source": [
    "# First we make sure that the local directory in which we'd like to store the training and validation csv files exists.\n",
    "data_dir = '../data/sentiment_web_app'\n",
    "if not os.path.exists(data_dir):\n",
    "    os.makedirs(data_dir)"
   ]
  },
  {
   "cell_type": "code",
   "execution_count": 17,
   "metadata": {},
   "outputs": [],
   "source": [
    "pd.DataFrame(test_X).to_csv(os.path.join(data_dir, 'test.csv'), header=False, index=False)\n",
    "\n",
    "pd.concat([val_y, val_X], axis=1).to_csv(os.path.join(data_dir, 'validation.csv'), header=False, index=False)\n",
    "pd.concat([train_y, train_X], axis=1).to_csv(os.path.join(data_dir, 'train.csv'), header=False, index=False)"
   ]
  },
  {
   "cell_type": "code",
   "execution_count": 18,
   "metadata": {},
   "outputs": [],
   "source": [
    "# To save a bit of memory we can set text_X, train_X, val_X, train_y and val_y to None.\n",
    "\n",
    "test_X = train_X = val_X = train_y = val_y = None"
   ]
  },
  {
   "cell_type": "markdown",
   "metadata": {},
   "source": [
    "### Uploading Training / Validation files to S3\n",
    "\n",
    "Amazon's S3 service allows us to store files that can be accessed by both the built-in training models such as the XGBoost model we will be using as well as custom models such as the one we will see a little later.\n",
    "\n",
    "For this and most other tasks we will be doing using SageMaker, there are two methods we could use. The first is to use the low level functionality of SageMaker which requires knowing each of the objects involved in the SageMaker environment. The second is to use the high level functionality in which certain choices have been made on the user's behalf. The low level approach benefits from allowing the user a great deal of flexibility while the high level approach makes development much quicker. For our purposes we will opt to use the high level approach although using the low-level approach is certainly an option.\n",
    "\n",
    "Recall the method `upload_data()` which is a member of the object representing our current SageMaker session. What this method does is upload the data to the default bucket (which is created if it does not exist) into the path described by the key_prefix variable. To see this for yourself, once you have uploaded the data files, go to the S3 console and look to see where the files have been uploaded.\n",
    "\n",
    "For additional resources, see the __[SageMaker API documentation](http://sagemaker.readthedocs.io/en/latest/)__ and in addition the __[SageMaker Developer Guide.](https://docs.aws.amazon.com/sagemaker/latest/dg/)__"
   ]
  },
  {
   "cell_type": "code",
   "execution_count": 19,
   "metadata": {},
   "outputs": [],
   "source": [
    "import sagemaker\n",
    "\n",
    "session = sagemaker.Session() # Store the current SageMaker session\n",
    "\n",
    "# S3 prefix (which folder will we use)\n",
    "prefix = 'sentiment-web-app'\n",
    "\n",
    "test_location = session.upload_data(os.path.join(data_dir, 'test.csv'), key_prefix=prefix)\n",
    "val_location = session.upload_data(os.path.join(data_dir, 'validation.csv'), key_prefix=prefix)\n",
    "train_location = session.upload_data(os.path.join(data_dir, 'train.csv'), key_prefix=prefix)"
   ]
  },
  {
   "cell_type": "markdown",
   "metadata": {},
   "source": [
    "## Step 4: Creating the XGBoost model\n",
    "\n",
    "Now that the data has been uploaded it is time to create the XGBoost model. To begin with, we need to do some setup. At this point it is worth discussing what a model is in SageMaker. It is easiest to think of a model of comprising three different objects in the SageMaker ecosystem, which interact with one another.\n",
    "\n",
    "- Model Artifacts\n",
    "- Training Code (Container)\n",
    "- Inference Code (Container)\n",
    "\n",
    "The Model Artifacts are what you might think of as the actual model itself. For example, if you were building a neural network, the model artifacts would be the weights of the various layers. In our case, for an XGBoost model, the artifacts are the actual trees that are created during training.\n",
    "\n",
    "The other two objects, the training code and the inference code are then used to manipulate the training artifacts. More precisely, the training code uses the training data that is provided and creates the model artifacts, while the inference code uses the model artifacts to make predictions on new data.\n",
    "\n",
    "The way that SageMaker runs the training and inference code is by making use of Docker containers. For now, think of a container as being a way of packaging code up so that dependencies aren't an issue."
   ]
  },
  {
   "cell_type": "code",
   "execution_count": 20,
   "metadata": {},
   "outputs": [],
   "source": [
    "from sagemaker import get_execution_role\n",
    "\n",
    "# Our current execution role is required when creating the model as the training\n",
    "# and inference code will need to access the model artifacts.\n",
    "role = get_execution_role()"
   ]
  },
  {
   "cell_type": "code",
   "execution_count": 21,
   "metadata": {},
   "outputs": [
    {
     "name": "stderr",
     "output_type": "stream",
     "text": [
      "WARNING:root:There is a more up to date SageMaker XGBoost image. To use the newer image, please set 'repo_version'='0.90-1'. For example:\n",
      "\tget_image_uri(region, 'xgboost', '0.90-1').\n"
     ]
    }
   ],
   "source": [
    "# We need to retrieve the location of the container which is provided by Amazon for using XGBoost.\n",
    "# As a matter of convenience, the training and inference code both use the same container.\n",
    "from sagemaker.amazon.amazon_estimator import get_image_uri\n",
    "\n",
    "container = get_image_uri(session.boto_region_name, 'xgboost')"
   ]
  },
  {
   "cell_type": "code",
   "execution_count": 22,
   "metadata": {},
   "outputs": [],
   "source": [
    "# First we create a SageMaker estimator object for our model.\n",
    "xgb = sagemaker.estimator.Estimator(container, # The location of the container we wish to use\n",
    "                                    role,                                    # What is our current IAM Role\n",
    "                                    train_instance_count=1,                  # How many compute instances\n",
    "                                    train_instance_type='ml.m4.xlarge',      # What kind of compute instances\n",
    "                                    output_path='s3://{}/{}/output'.format(session.default_bucket(), prefix),\n",
    "                                    sagemaker_session=session)\n",
    "\n",
    "# And then set the algorithm specific parameters.\n",
    "xgb.set_hyperparameters(max_depth=5,\n",
    "                        eta=0.2,\n",
    "                        gamma=4,\n",
    "                        min_child_weight=6,\n",
    "                        subsample=0.8,\n",
    "                        silent=0,\n",
    "                        objective='binary:logistic',\n",
    "                        early_stopping_rounds=10,\n",
    "                        num_round=500)"
   ]
  },
  {
   "cell_type": "markdown",
   "metadata": {},
   "source": [
    "### Fit the XGBoost model\n",
    "\n",
    "Now that our model has been set up we simply need to attach the training and validation datasets and then ask SageMaker to set up the computation."
   ]
  },
  {
   "cell_type": "code",
   "execution_count": 23,
   "metadata": {},
   "outputs": [],
   "source": [
    "s3_input_train = sagemaker.s3_input(s3_data=train_location, content_type='csv')\n",
    "s3_input_validation = sagemaker.s3_input(s3_data=val_location, content_type='csv')"
   ]
  },
  {
   "cell_type": "code",
   "execution_count": 24,
   "metadata": {},
   "outputs": [
    {
     "name": "stdout",
     "output_type": "stream",
     "text": [
      "2020-05-25 18:04:19 Starting - Starting the training job...\n",
      "2020-05-25 18:04:21 Starting - Launching requested ML instances......\n",
      "2020-05-25 18:05:26 Starting - Preparing the instances for training......\n",
      "2020-05-25 18:06:44 Downloading - Downloading input data...\n",
      "2020-05-25 18:07:11 Training - Downloading the training image..\u001b[34mArguments: train\u001b[0m\n",
      "\u001b[34m[2020-05-25:18:07:31:INFO] Running standalone xgboost training.\u001b[0m\n",
      "\u001b[34m[2020-05-25:18:07:31:INFO] File size need to be processed in the node: 238.5mb. Available memory size in the node: 8460.65mb\u001b[0m\n",
      "\u001b[34m[2020-05-25:18:07:31:INFO] Determined delimiter of CSV input is ','\u001b[0m\n",
      "\u001b[34m[18:07:31] S3DistributionType set as FullyReplicated\u001b[0m\n",
      "\u001b[34m[18:07:33] 15000x5000 matrix with 75000000 entries loaded from /opt/ml/input/data/train?format=csv&label_column=0&delimiter=,\u001b[0m\n",
      "\u001b[34m[2020-05-25:18:07:33:INFO] Determined delimiter of CSV input is ','\u001b[0m\n",
      "\u001b[34m[18:07:33] S3DistributionType set as FullyReplicated\u001b[0m\n",
      "\u001b[34m[18:07:34] 10000x5000 matrix with 50000000 entries loaded from /opt/ml/input/data/validation?format=csv&label_column=0&delimiter=,\u001b[0m\n",
      "\u001b[34m[18:07:37] src/tree/updater_prune.cc:74: tree pruning end, 1 roots, 44 extra nodes, 4 pruned nodes, max_depth=5\u001b[0m\n",
      "\n",
      "2020-05-25 18:07:30 Training - Training image download completed. Training in progress.\u001b[34m[0]#011train-error:0.3064#011validation-error:0.3148\u001b[0m\n",
      "\u001b[34mMultiple eval metrics have been passed: 'validation-error' will be used for early stopping.\n",
      "\u001b[0m\n",
      "\u001b[34mWill train until validation-error hasn't improved in 10 rounds.\u001b[0m\n",
      "\u001b[34m[18:07:39] src/tree/updater_prune.cc:74: tree pruning end, 1 roots, 36 extra nodes, 6 pruned nodes, max_depth=5\u001b[0m\n",
      "\u001b[34m[1]#011train-error:0.2812#011validation-error:0.2943\u001b[0m\n",
      "\u001b[34m[18:07:40] src/tree/updater_prune.cc:74: tree pruning end, 1 roots, 44 extra nodes, 8 pruned nodes, max_depth=5\u001b[0m\n",
      "\u001b[34m[2]#011train-error:0.2846#011validation-error:0.2933\u001b[0m\n",
      "\u001b[34m[18:07:42] src/tree/updater_prune.cc:74: tree pruning end, 1 roots, 26 extra nodes, 8 pruned nodes, max_depth=5\u001b[0m\n",
      "\u001b[34m[3]#011train-error:0.274867#011validation-error:0.2845\u001b[0m\n",
      "\u001b[34m[18:07:43] src/tree/updater_prune.cc:74: tree pruning end, 1 roots, 40 extra nodes, 6 pruned nodes, max_depth=5\u001b[0m\n",
      "\u001b[34m[4]#011train-error:0.2642#011validation-error:0.2775\u001b[0m\n",
      "\u001b[34m[18:07:44] src/tree/updater_prune.cc:74: tree pruning end, 1 roots, 30 extra nodes, 4 pruned nodes, max_depth=5\u001b[0m\n",
      "\u001b[34m[5]#011train-error:0.255533#011validation-error:0.2725\u001b[0m\n",
      "\u001b[34m[18:07:45] src/tree/updater_prune.cc:74: tree pruning end, 1 roots, 36 extra nodes, 2 pruned nodes, max_depth=5\u001b[0m\n",
      "\u001b[34m[6]#011train-error:0.249533#011validation-error:0.2704\u001b[0m\n",
      "\u001b[34m[18:07:47] src/tree/updater_prune.cc:74: tree pruning end, 1 roots, 24 extra nodes, 10 pruned nodes, max_depth=5\u001b[0m\n",
      "\u001b[34m[7]#011train-error:0.244467#011validation-error:0.2654\u001b[0m\n",
      "\u001b[34m[18:07:48] src/tree/updater_prune.cc:74: tree pruning end, 1 roots, 32 extra nodes, 10 pruned nodes, max_depth=5\u001b[0m\n",
      "\u001b[34m[8]#011train-error:0.2378#011validation-error:0.2556\u001b[0m\n",
      "\u001b[34m[18:07:49] src/tree/updater_prune.cc:74: tree pruning end, 1 roots, 28 extra nodes, 6 pruned nodes, max_depth=5\u001b[0m\n",
      "\u001b[34m[9]#011train-error:0.232533#011validation-error:0.2509\u001b[0m\n",
      "\u001b[34m[18:07:51] src/tree/updater_prune.cc:74: tree pruning end, 1 roots, 32 extra nodes, 4 pruned nodes, max_depth=5\u001b[0m\n",
      "\u001b[34m[10]#011train-error:0.2234#011validation-error:0.2451\u001b[0m\n",
      "\u001b[34m[18:07:52] src/tree/updater_prune.cc:74: tree pruning end, 1 roots, 40 extra nodes, 8 pruned nodes, max_depth=5\u001b[0m\n",
      "\u001b[34m[11]#011train-error:0.222733#011validation-error:0.2429\u001b[0m\n",
      "\u001b[34m[18:07:53] src/tree/updater_prune.cc:74: tree pruning end, 1 roots, 32 extra nodes, 6 pruned nodes, max_depth=5\u001b[0m\n",
      "\u001b[34m[12]#011train-error:0.2168#011validation-error:0.2388\u001b[0m\n",
      "\u001b[34m[18:07:54] src/tree/updater_prune.cc:74: tree pruning end, 1 roots, 30 extra nodes, 12 pruned nodes, max_depth=5\u001b[0m\n",
      "\u001b[34m[13]#011train-error:0.2088#011validation-error:0.2324\u001b[0m\n",
      "\u001b[34m[18:07:56] src/tree/updater_prune.cc:74: tree pruning end, 1 roots, 30 extra nodes, 4 pruned nodes, max_depth=5\u001b[0m\n",
      "\u001b[34m[14]#011train-error:0.205667#011validation-error:0.2277\u001b[0m\n",
      "\u001b[34m[18:07:57] src/tree/updater_prune.cc:74: tree pruning end, 1 roots, 24 extra nodes, 8 pruned nodes, max_depth=5\u001b[0m\n",
      "\u001b[34m[15]#011train-error:0.2024#011validation-error:0.2218\u001b[0m\n",
      "\u001b[34m[18:07:58] src/tree/updater_prune.cc:74: tree pruning end, 1 roots, 38 extra nodes, 6 pruned nodes, max_depth=5\u001b[0m\n",
      "\u001b[34m[16]#011train-error:0.2004#011validation-error:0.2194\u001b[0m\n",
      "\u001b[34m[18:07:59] src/tree/updater_prune.cc:74: tree pruning end, 1 roots, 24 extra nodes, 14 pruned nodes, max_depth=5\u001b[0m\n",
      "\u001b[34m[17]#011train-error:0.199267#011validation-error:0.2191\u001b[0m\n",
      "\u001b[34m[18:08:01] src/tree/updater_prune.cc:74: tree pruning end, 1 roots, 24 extra nodes, 10 pruned nodes, max_depth=5\u001b[0m\n",
      "\u001b[34m[18]#011train-error:0.196467#011validation-error:0.2143\u001b[0m\n",
      "\u001b[34m[18:08:02] src/tree/updater_prune.cc:74: tree pruning end, 1 roots, 30 extra nodes, 14 pruned nodes, max_depth=5\u001b[0m\n",
      "\u001b[34m[19]#011train-error:0.193933#011validation-error:0.2112\u001b[0m\n",
      "\u001b[34m[18:08:03] src/tree/updater_prune.cc:74: tree pruning end, 1 roots, 30 extra nodes, 10 pruned nodes, max_depth=5\u001b[0m\n",
      "\u001b[34m[20]#011train-error:0.189933#011validation-error:0.2091\u001b[0m\n",
      "\u001b[34m[18:08:05] src/tree/updater_prune.cc:74: tree pruning end, 1 roots, 28 extra nodes, 6 pruned nodes, max_depth=5\u001b[0m\n",
      "\u001b[34m[21]#011train-error:0.187667#011validation-error:0.2077\u001b[0m\n",
      "\u001b[34m[18:08:06] src/tree/updater_prune.cc:74: tree pruning end, 1 roots, 24 extra nodes, 2 pruned nodes, max_depth=5\u001b[0m\n",
      "\u001b[34m[22]#011train-error:0.185933#011validation-error:0.2046\u001b[0m\n",
      "\u001b[34m[18:08:07] src/tree/updater_prune.cc:74: tree pruning end, 1 roots, 20 extra nodes, 14 pruned nodes, max_depth=5\u001b[0m\n",
      "\u001b[34m[23]#011train-error:0.182867#011validation-error:0.201\u001b[0m\n",
      "\u001b[34m[18:08:09] src/tree/updater_prune.cc:74: tree pruning end, 1 roots, 34 extra nodes, 2 pruned nodes, max_depth=5\u001b[0m\n",
      "\u001b[34m[24]#011train-error:0.1824#011validation-error:0.2017\u001b[0m\n",
      "\u001b[34m[18:08:10] src/tree/updater_prune.cc:74: tree pruning end, 1 roots, 28 extra nodes, 12 pruned nodes, max_depth=5\u001b[0m\n",
      "\u001b[34m[25]#011train-error:0.1794#011validation-error:0.2016\u001b[0m\n",
      "\u001b[34m[18:08:11] src/tree/updater_prune.cc:74: tree pruning end, 1 roots, 26 extra nodes, 10 pruned nodes, max_depth=5\u001b[0m\n",
      "\u001b[34m[26]#011train-error:0.176933#011validation-error:0.1982\u001b[0m\n",
      "\u001b[34m[18:08:12] src/tree/updater_prune.cc:74: tree pruning end, 1 roots, 26 extra nodes, 6 pruned nodes, max_depth=5\u001b[0m\n",
      "\u001b[34m[27]#011train-error:0.173#011validation-error:0.1987\u001b[0m\n",
      "\u001b[34m[18:08:14] src/tree/updater_prune.cc:74: tree pruning end, 1 roots, 32 extra nodes, 6 pruned nodes, max_depth=5\u001b[0m\n",
      "\u001b[34m[28]#011train-error:0.1706#011validation-error:0.1961\u001b[0m\n",
      "\u001b[34m[18:08:15] src/tree/updater_prune.cc:74: tree pruning end, 1 roots, 18 extra nodes, 16 pruned nodes, max_depth=5\u001b[0m\n",
      "\u001b[34m[29]#011train-error:0.171867#011validation-error:0.1962\u001b[0m\n",
      "\u001b[34m[18:08:16] src/tree/updater_prune.cc:74: tree pruning end, 1 roots, 30 extra nodes, 8 pruned nodes, max_depth=5\u001b[0m\n",
      "\u001b[34m[30]#011train-error:0.17#011validation-error:0.1942\u001b[0m\n",
      "\u001b[34m[18:08:17] src/tree/updater_prune.cc:74: tree pruning end, 1 roots, 28 extra nodes, 8 pruned nodes, max_depth=5\u001b[0m\n",
      "\u001b[34m[31]#011train-error:0.167733#011validation-error:0.193\u001b[0m\n",
      "\u001b[34m[18:08:19] src/tree/updater_prune.cc:74: tree pruning end, 1 roots, 32 extra nodes, 4 pruned nodes, max_depth=5\u001b[0m\n",
      "\u001b[34m[32]#011train-error:0.1654#011validation-error:0.1916\u001b[0m\n",
      "\u001b[34m[18:08:20] src/tree/updater_prune.cc:74: tree pruning end, 1 roots, 34 extra nodes, 8 pruned nodes, max_depth=5\u001b[0m\n",
      "\u001b[34m[33]#011train-error:0.162333#011validation-error:0.1896\u001b[0m\n",
      "\u001b[34m[18:08:21] src/tree/updater_prune.cc:74: tree pruning end, 1 roots, 30 extra nodes, 14 pruned nodes, max_depth=5\u001b[0m\n",
      "\u001b[34m[34]#011train-error:0.1602#011validation-error:0.1892\u001b[0m\n",
      "\u001b[34m[18:08:23] src/tree/updater_prune.cc:74: tree pruning end, 1 roots, 20 extra nodes, 6 pruned nodes, max_depth=5\u001b[0m\n",
      "\u001b[34m[35]#011train-error:0.159133#011validation-error:0.1884\u001b[0m\n",
      "\u001b[34m[18:08:24] src/tree/updater_prune.cc:74: tree pruning end, 1 roots, 22 extra nodes, 10 pruned nodes, max_depth=5\u001b[0m\n",
      "\u001b[34m[36]#011train-error:0.1574#011validation-error:0.1862\u001b[0m\n",
      "\u001b[34m[18:08:25] src/tree/updater_prune.cc:74: tree pruning end, 1 roots, 34 extra nodes, 10 pruned nodes, max_depth=5\u001b[0m\n",
      "\u001b[34m[37]#011train-error:0.156667#011validation-error:0.1855\u001b[0m\n",
      "\u001b[34m[18:08:26] src/tree/updater_prune.cc:74: tree pruning end, 1 roots, 34 extra nodes, 4 pruned nodes, max_depth=5\u001b[0m\n",
      "\u001b[34m[38]#011train-error:0.154733#011validation-error:0.1845\u001b[0m\n",
      "\u001b[34m[18:08:28] src/tree/updater_prune.cc:74: tree pruning end, 1 roots, 16 extra nodes, 8 pruned nodes, max_depth=5\u001b[0m\n",
      "\u001b[34m[39]#011train-error:0.153933#011validation-error:0.1831\u001b[0m\n"
     ]
    },
    {
     "name": "stdout",
     "output_type": "stream",
     "text": [
      "\u001b[34m[18:08:29] src/tree/updater_prune.cc:74: tree pruning end, 1 roots, 32 extra nodes, 4 pruned nodes, max_depth=5\u001b[0m\n",
      "\u001b[34m[40]#011train-error:0.152533#011validation-error:0.1837\u001b[0m\n",
      "\u001b[34m[18:08:30] src/tree/updater_prune.cc:74: tree pruning end, 1 roots, 24 extra nodes, 10 pruned nodes, max_depth=5\u001b[0m\n",
      "\u001b[34m[41]#011train-error:0.150733#011validation-error:0.1827\u001b[0m\n",
      "\u001b[34m[18:08:31] src/tree/updater_prune.cc:74: tree pruning end, 1 roots, 20 extra nodes, 8 pruned nodes, max_depth=5\u001b[0m\n",
      "\u001b[34m[42]#011train-error:0.148067#011validation-error:0.1805\u001b[0m\n",
      "\u001b[34m[18:08:33] src/tree/updater_prune.cc:74: tree pruning end, 1 roots, 18 extra nodes, 6 pruned nodes, max_depth=5\u001b[0m\n",
      "\u001b[34m[43]#011train-error:0.147467#011validation-error:0.1787\u001b[0m\n",
      "\u001b[34m[18:08:34] src/tree/updater_prune.cc:74: tree pruning end, 1 roots, 24 extra nodes, 8 pruned nodes, max_depth=5\u001b[0m\n",
      "\u001b[34m[44]#011train-error:0.147067#011validation-error:0.1776\u001b[0m\n",
      "\u001b[34m[18:08:35] src/tree/updater_prune.cc:74: tree pruning end, 1 roots, 40 extra nodes, 6 pruned nodes, max_depth=5\u001b[0m\n",
      "\u001b[34m[45]#011train-error:0.145267#011validation-error:0.1755\u001b[0m\n",
      "\u001b[34m[18:08:37] src/tree/updater_prune.cc:74: tree pruning end, 1 roots, 32 extra nodes, 8 pruned nodes, max_depth=5\u001b[0m\n",
      "\u001b[34m[46]#011train-error:0.1432#011validation-error:0.1758\u001b[0m\n",
      "\u001b[34m[18:08:38] src/tree/updater_prune.cc:74: tree pruning end, 1 roots, 18 extra nodes, 14 pruned nodes, max_depth=5\u001b[0m\n",
      "\u001b[34m[47]#011train-error:0.142#011validation-error:0.1752\u001b[0m\n",
      "\u001b[34m[18:08:39] src/tree/updater_prune.cc:74: tree pruning end, 1 roots, 28 extra nodes, 10 pruned nodes, max_depth=5\u001b[0m\n",
      "\u001b[34m[48]#011train-error:0.140933#011validation-error:0.1746\u001b[0m\n",
      "\u001b[34m[18:08:40] src/tree/updater_prune.cc:74: tree pruning end, 1 roots, 32 extra nodes, 8 pruned nodes, max_depth=5\u001b[0m\n",
      "\u001b[34m[49]#011train-error:0.1394#011validation-error:0.1742\u001b[0m\n",
      "\u001b[34m[18:08:42] src/tree/updater_prune.cc:74: tree pruning end, 1 roots, 26 extra nodes, 10 pruned nodes, max_depth=5\u001b[0m\n",
      "\u001b[34m[50]#011train-error:0.1376#011validation-error:0.1718\u001b[0m\n",
      "\u001b[34m[18:08:43] src/tree/updater_prune.cc:74: tree pruning end, 1 roots, 14 extra nodes, 8 pruned nodes, max_depth=5\u001b[0m\n",
      "\u001b[34m[51]#011train-error:0.137067#011validation-error:0.1699\u001b[0m\n",
      "\u001b[34m[18:08:44] src/tree/updater_prune.cc:74: tree pruning end, 1 roots, 18 extra nodes, 8 pruned nodes, max_depth=5\u001b[0m\n",
      "\u001b[34m[52]#011train-error:0.137#011validation-error:0.1707\u001b[0m\n",
      "\u001b[34m[18:08:45] src/tree/updater_prune.cc:74: tree pruning end, 1 roots, 34 extra nodes, 10 pruned nodes, max_depth=5\u001b[0m\n",
      "\u001b[34m[53]#011train-error:0.1354#011validation-error:0.1702\u001b[0m\n",
      "\u001b[34m[18:08:47] src/tree/updater_prune.cc:74: tree pruning end, 1 roots, 14 extra nodes, 8 pruned nodes, max_depth=5\u001b[0m\n",
      "\u001b[34m[54]#011train-error:0.1358#011validation-error:0.1715\u001b[0m\n",
      "\u001b[34m[18:08:48] src/tree/updater_prune.cc:74: tree pruning end, 1 roots, 18 extra nodes, 10 pruned nodes, max_depth=5\u001b[0m\n",
      "\u001b[34m[55]#011train-error:0.134867#011validation-error:0.1695\u001b[0m\n",
      "\u001b[34m[18:08:49] src/tree/updater_prune.cc:74: tree pruning end, 1 roots, 14 extra nodes, 14 pruned nodes, max_depth=5\u001b[0m\n",
      "\u001b[34m[56]#011train-error:0.134#011validation-error:0.1688\u001b[0m\n",
      "\u001b[34m[18:08:51] src/tree/updater_prune.cc:74: tree pruning end, 1 roots, 20 extra nodes, 12 pruned nodes, max_depth=5\u001b[0m\n",
      "\u001b[34m[57]#011train-error:0.133467#011validation-error:0.1675\u001b[0m\n",
      "\u001b[34m[18:08:52] src/tree/updater_prune.cc:74: tree pruning end, 1 roots, 14 extra nodes, 4 pruned nodes, max_depth=5\u001b[0m\n",
      "\u001b[34m[58]#011train-error:0.133067#011validation-error:0.1662\u001b[0m\n",
      "\u001b[34m[18:08:53] src/tree/updater_prune.cc:74: tree pruning end, 1 roots, 22 extra nodes, 2 pruned nodes, max_depth=5\u001b[0m\n",
      "\u001b[34m[59]#011train-error:0.131867#011validation-error:0.1655\u001b[0m\n",
      "\u001b[34m[18:08:54] src/tree/updater_prune.cc:74: tree pruning end, 1 roots, 26 extra nodes, 6 pruned nodes, max_depth=5\u001b[0m\n",
      "\u001b[34m[60]#011train-error:0.130333#011validation-error:0.1645\u001b[0m\n",
      "\u001b[34m[18:08:56] src/tree/updater_prune.cc:74: tree pruning end, 1 roots, 28 extra nodes, 16 pruned nodes, max_depth=5\u001b[0m\n",
      "\u001b[34m[61]#011train-error:0.129867#011validation-error:0.1636\u001b[0m\n",
      "\u001b[34m[18:08:57] src/tree/updater_prune.cc:74: tree pruning end, 1 roots, 28 extra nodes, 8 pruned nodes, max_depth=5\u001b[0m\n",
      "\u001b[34m[62]#011train-error:0.128133#011validation-error:0.1663\u001b[0m\n",
      "\u001b[34m[18:08:58] src/tree/updater_prune.cc:74: tree pruning end, 1 roots, 16 extra nodes, 8 pruned nodes, max_depth=5\u001b[0m\n",
      "\u001b[34m[63]#011train-error:0.1276#011validation-error:0.166\u001b[0m\n",
      "\u001b[34m[18:08:59] src/tree/updater_prune.cc:74: tree pruning end, 1 roots, 24 extra nodes, 8 pruned nodes, max_depth=5\u001b[0m\n",
      "\u001b[34m[64]#011train-error:0.126267#011validation-error:0.1656\u001b[0m\n",
      "\u001b[34m[18:09:01] src/tree/updater_prune.cc:74: tree pruning end, 1 roots, 18 extra nodes, 4 pruned nodes, max_depth=5\u001b[0m\n",
      "\u001b[34m[65]#011train-error:0.125667#011validation-error:0.1641\u001b[0m\n",
      "\u001b[34m[18:09:02] src/tree/updater_prune.cc:74: tree pruning end, 1 roots, 20 extra nodes, 4 pruned nodes, max_depth=5\u001b[0m\n",
      "\u001b[34m[66]#011train-error:0.124267#011validation-error:0.1635\u001b[0m\n",
      "\u001b[34m[18:09:03] src/tree/updater_prune.cc:74: tree pruning end, 1 roots, 24 extra nodes, 6 pruned nodes, max_depth=5\u001b[0m\n",
      "\u001b[34m[67]#011train-error:0.123533#011validation-error:0.1633\u001b[0m\n",
      "\u001b[34m[18:09:05] src/tree/updater_prune.cc:74: tree pruning end, 1 roots, 34 extra nodes, 14 pruned nodes, max_depth=5\u001b[0m\n",
      "\u001b[34m[68]#011train-error:0.122933#011validation-error:0.1628\u001b[0m\n",
      "\u001b[34m[18:09:06] src/tree/updater_prune.cc:74: tree pruning end, 1 roots, 20 extra nodes, 12 pruned nodes, max_depth=5\u001b[0m\n",
      "\u001b[34m[69]#011train-error:0.122#011validation-error:0.1622\u001b[0m\n",
      "\u001b[34m[18:09:07] src/tree/updater_prune.cc:74: tree pruning end, 1 roots, 18 extra nodes, 6 pruned nodes, max_depth=5\u001b[0m\n",
      "\u001b[34m[70]#011train-error:0.120733#011validation-error:0.1604\u001b[0m\n",
      "\u001b[34m[18:09:08] src/tree/updater_prune.cc:74: tree pruning end, 1 roots, 24 extra nodes, 8 pruned nodes, max_depth=5\u001b[0m\n",
      "\u001b[34m[71]#011train-error:0.120133#011validation-error:0.1615\u001b[0m\n",
      "\u001b[34m[18:09:10] src/tree/updater_prune.cc:74: tree pruning end, 1 roots, 10 extra nodes, 8 pruned nodes, max_depth=5\u001b[0m\n",
      "\u001b[34m[72]#011train-error:0.119867#011validation-error:0.16\u001b[0m\n",
      "\u001b[34m[18:09:11] src/tree/updater_prune.cc:74: tree pruning end, 1 roots, 26 extra nodes, 6 pruned nodes, max_depth=5\u001b[0m\n",
      "\u001b[34m[73]#011train-error:0.1192#011validation-error:0.1605\u001b[0m\n",
      "\u001b[34m[18:09:12] src/tree/updater_prune.cc:74: tree pruning end, 1 roots, 16 extra nodes, 18 pruned nodes, max_depth=5\u001b[0m\n",
      "\u001b[34m[74]#011train-error:0.118267#011validation-error:0.1598\u001b[0m\n",
      "\u001b[34m[18:09:13] src/tree/updater_prune.cc:74: tree pruning end, 1 roots, 18 extra nodes, 4 pruned nodes, max_depth=5\u001b[0m\n",
      "\u001b[34m[75]#011train-error:0.117667#011validation-error:0.1595\u001b[0m\n",
      "\u001b[34m[18:09:15] src/tree/updater_prune.cc:74: tree pruning end, 1 roots, 30 extra nodes, 10 pruned nodes, max_depth=5\u001b[0m\n",
      "\u001b[34m[76]#011train-error:0.1166#011validation-error:0.1594\u001b[0m\n",
      "\u001b[34m[18:09:16] src/tree/updater_prune.cc:74: tree pruning end, 1 roots, 12 extra nodes, 12 pruned nodes, max_depth=5\u001b[0m\n",
      "\u001b[34m[77]#011train-error:0.1164#011validation-error:0.1588\u001b[0m\n",
      "\u001b[34m[18:09:17] src/tree/updater_prune.cc:74: tree pruning end, 1 roots, 14 extra nodes, 10 pruned nodes, max_depth=5\u001b[0m\n",
      "\u001b[34m[78]#011train-error:0.116333#011validation-error:0.1577\u001b[0m\n",
      "\u001b[34m[18:09:19] src/tree/updater_prune.cc:74: tree pruning end, 1 roots, 22 extra nodes, 4 pruned nodes, max_depth=5\u001b[0m\n",
      "\u001b[34m[79]#011train-error:0.1156#011validation-error:0.1583\u001b[0m\n",
      "\u001b[34m[18:09:20] src/tree/updater_prune.cc:74: tree pruning end, 1 roots, 16 extra nodes, 12 pruned nodes, max_depth=5\u001b[0m\n",
      "\u001b[34m[80]#011train-error:0.115333#011validation-error:0.1568\u001b[0m\n",
      "\u001b[34m[18:09:21] src/tree/updater_prune.cc:74: tree pruning end, 1 roots, 16 extra nodes, 14 pruned nodes, max_depth=5\u001b[0m\n",
      "\u001b[34m[81]#011train-error:0.114267#011validation-error:0.1566\u001b[0m\n",
      "\u001b[34m[18:09:22] src/tree/updater_prune.cc:74: tree pruning end, 1 roots, 16 extra nodes, 6 pruned nodes, max_depth=5\u001b[0m\n",
      "\u001b[34m[82]#011train-error:0.113467#011validation-error:0.1559\u001b[0m\n",
      "\u001b[34m[18:09:24] src/tree/updater_prune.cc:74: tree pruning end, 1 roots, 26 extra nodes, 0 pruned nodes, max_depth=5\u001b[0m\n",
      "\u001b[34m[83]#011train-error:0.112333#011validation-error:0.156\u001b[0m\n",
      "\u001b[34m[18:09:25] src/tree/updater_prune.cc:74: tree pruning end, 1 roots, 20 extra nodes, 6 pruned nodes, max_depth=5\u001b[0m\n",
      "\u001b[34m[84]#011train-error:0.111733#011validation-error:0.1555\u001b[0m\n",
      "\u001b[34m[18:09:26] src/tree/updater_prune.cc:74: tree pruning end, 1 roots, 20 extra nodes, 8 pruned nodes, max_depth=5\u001b[0m\n",
      "\u001b[34m[85]#011train-error:0.112333#011validation-error:0.1548\u001b[0m\n",
      "\u001b[34m[18:09:27] src/tree/updater_prune.cc:74: tree pruning end, 1 roots, 14 extra nodes, 6 pruned nodes, max_depth=5\u001b[0m\n",
      "\u001b[34m[86]#011train-error:0.112133#011validation-error:0.1548\u001b[0m\n",
      "\u001b[34m[18:09:29] src/tree/updater_prune.cc:74: tree pruning end, 1 roots, 10 extra nodes, 4 pruned nodes, max_depth=5\u001b[0m\n",
      "\u001b[34m[87]#011train-error:0.111333#011validation-error:0.1542\u001b[0m\n"
     ]
    },
    {
     "name": "stdout",
     "output_type": "stream",
     "text": [
      "\u001b[34m[18:09:30] src/tree/updater_prune.cc:74: tree pruning end, 1 roots, 28 extra nodes, 10 pruned nodes, max_depth=5\u001b[0m\n",
      "\u001b[34m[88]#011train-error:0.110933#011validation-error:0.1531\u001b[0m\n",
      "\u001b[34m[18:09:31] src/tree/updater_prune.cc:74: tree pruning end, 1 roots, 34 extra nodes, 10 pruned nodes, max_depth=5\u001b[0m\n",
      "\u001b[34m[89]#011train-error:0.109267#011validation-error:0.1535\u001b[0m\n",
      "\u001b[34m[18:09:33] src/tree/updater_prune.cc:74: tree pruning end, 1 roots, 42 extra nodes, 8 pruned nodes, max_depth=5\u001b[0m\n",
      "\u001b[34m[90]#011train-error:0.1082#011validation-error:0.153\u001b[0m\n",
      "\u001b[34m[18:09:34] src/tree/updater_prune.cc:74: tree pruning end, 1 roots, 12 extra nodes, 4 pruned nodes, max_depth=5\u001b[0m\n",
      "\u001b[34m[91]#011train-error:0.108#011validation-error:0.1529\u001b[0m\n",
      "\u001b[34m[18:09:35] src/tree/updater_prune.cc:74: tree pruning end, 1 roots, 14 extra nodes, 8 pruned nodes, max_depth=5\u001b[0m\n",
      "\u001b[34m[92]#011train-error:0.107733#011validation-error:0.1519\u001b[0m\n",
      "\u001b[34m[18:09:36] src/tree/updater_prune.cc:74: tree pruning end, 1 roots, 14 extra nodes, 6 pruned nodes, max_depth=5\u001b[0m\n",
      "\u001b[34m[93]#011train-error:0.1068#011validation-error:0.1508\u001b[0m\n",
      "\u001b[34m[18:09:38] src/tree/updater_prune.cc:74: tree pruning end, 1 roots, 16 extra nodes, 4 pruned nodes, max_depth=5\u001b[0m\n",
      "\u001b[34m[94]#011train-error:0.106467#011validation-error:0.151\u001b[0m\n",
      "\u001b[34m[18:09:39] src/tree/updater_prune.cc:74: tree pruning end, 1 roots, 20 extra nodes, 8 pruned nodes, max_depth=5\u001b[0m\n",
      "\u001b[34m[95]#011train-error:0.106#011validation-error:0.1501\u001b[0m\n",
      "\u001b[34m[18:09:40] src/tree/updater_prune.cc:74: tree pruning end, 1 roots, 14 extra nodes, 8 pruned nodes, max_depth=5\u001b[0m\n",
      "\u001b[34m[96]#011train-error:0.105267#011validation-error:0.1515\u001b[0m\n",
      "\u001b[34m[18:09:41] src/tree/updater_prune.cc:74: tree pruning end, 1 roots, 18 extra nodes, 4 pruned nodes, max_depth=5\u001b[0m\n",
      "\u001b[34m[97]#011train-error:0.104333#011validation-error:0.1507\u001b[0m\n",
      "\u001b[34m[18:09:43] src/tree/updater_prune.cc:74: tree pruning end, 1 roots, 28 extra nodes, 4 pruned nodes, max_depth=5\u001b[0m\n",
      "\u001b[34m[98]#011train-error:0.103733#011validation-error:0.1513\u001b[0m\n",
      "\u001b[34m[18:09:44] src/tree/updater_prune.cc:74: tree pruning end, 1 roots, 28 extra nodes, 10 pruned nodes, max_depth=5\u001b[0m\n",
      "\u001b[34m[99]#011train-error:0.103#011validation-error:0.151\u001b[0m\n",
      "\u001b[34m[18:09:45] src/tree/updater_prune.cc:74: tree pruning end, 1 roots, 16 extra nodes, 16 pruned nodes, max_depth=5\u001b[0m\n",
      "\u001b[34m[100]#011train-error:0.102667#011validation-error:0.1506\u001b[0m\n",
      "\u001b[34m[18:09:47] src/tree/updater_prune.cc:74: tree pruning end, 1 roots, 12 extra nodes, 12 pruned nodes, max_depth=5\u001b[0m\n",
      "\u001b[34m[101]#011train-error:0.1026#011validation-error:0.1503\u001b[0m\n",
      "\u001b[34m[18:09:48] src/tree/updater_prune.cc:74: tree pruning end, 1 roots, 24 extra nodes, 14 pruned nodes, max_depth=5\u001b[0m\n",
      "\u001b[34m[102]#011train-error:0.102467#011validation-error:0.1514\u001b[0m\n",
      "\u001b[34m[18:09:49] src/tree/updater_prune.cc:74: tree pruning end, 1 roots, 12 extra nodes, 6 pruned nodes, max_depth=5\u001b[0m\n",
      "\u001b[34m[103]#011train-error:0.101667#011validation-error:0.1513\u001b[0m\n",
      "\u001b[34m[18:09:50] src/tree/updater_prune.cc:74: tree pruning end, 1 roots, 22 extra nodes, 2 pruned nodes, max_depth=5\u001b[0m\n",
      "\u001b[34m[104]#011train-error:0.1012#011validation-error:0.1505\u001b[0m\n",
      "\u001b[34m[18:09:52] src/tree/updater_prune.cc:74: tree pruning end, 1 roots, 24 extra nodes, 10 pruned nodes, max_depth=5\u001b[0m\n",
      "\u001b[34m[105]#011train-error:0.101267#011validation-error:0.1507\u001b[0m\n",
      "\u001b[34mStopping. Best iteration:\u001b[0m\n",
      "\u001b[34m[95]#011train-error:0.106#011validation-error:0.1501\n",
      "\u001b[0m\n",
      "\n",
      "2020-05-25 18:10:00 Uploading - Uploading generated training model\n",
      "2020-05-25 18:10:00 Completed - Training job completed\n",
      "Training seconds: 196\n",
      "Billable seconds: 196\n"
     ]
    }
   ],
   "source": [
    "xgb.fit({'train': s3_input_train, 'validation': s3_input_validation})"
   ]
  },
  {
   "cell_type": "markdown",
   "metadata": {},
   "source": [
    "## Step 5: Testing the model\n",
    "\n",
    "Now that we've fit our XGBoost model, it's time to see how well it performs. To do this we will use SageMakers Batch Transform functionality. Batch Transform is a convenient way to perform inference on a large dataset in a way that is not realtime. That is, we don't necessarily need to use our model's results immediately and instead we can perform inference on a large number of samples. An example of this in industry might be performing an end of month report. This method of inference can also be useful to us as it means that we can perform inference on our entire test set. \n",
    "\n",
    "To perform a Batch Transformation we need to first create a transformer objects from our trained estimator object."
   ]
  },
  {
   "cell_type": "code",
   "execution_count": 25,
   "metadata": {},
   "outputs": [],
   "source": [
    "xgb_transformer = xgb.transformer(instance_count = 1, instance_type = 'ml.m4.xlarge')"
   ]
  },
  {
   "cell_type": "markdown",
   "metadata": {},
   "source": [
    "Next we actually perform the transform job. When doing so we need to make sure to specify the type of data we are sending so that it is serialized correctly in the background. In our case we are providing our model with csv data so we specify `text/csv`. Also, if the test data that we have provided is too large to process all at once then we need to specify how the data file should be split up. Since each line is a single entry in our data set we tell SageMaker that it can split the input on each line."
   ]
  },
  {
   "cell_type": "code",
   "execution_count": 26,
   "metadata": {},
   "outputs": [],
   "source": [
    "xgb_transformer.transform(test_location, content_type='text/csv', split_type='Line')"
   ]
  },
  {
   "cell_type": "markdown",
   "metadata": {},
   "source": [
    "Currently the transform job is running but it is doing so in the background. Since we wish to wait until the transform job is done and we would like a bit of feedback we can run the `wait()` method."
   ]
  },
  {
   "cell_type": "code",
   "execution_count": 27,
   "metadata": {},
   "outputs": [
    {
     "name": "stdout",
     "output_type": "stream",
     "text": [
      "...................\u001b[34mArguments: serve\u001b[0m\n",
      "\u001b[34m[2020-05-25 18:13:37 +0000] [1] [INFO] Starting gunicorn 19.7.1\u001b[0m\n",
      "\u001b[34m[2020-05-25 18:13:37 +0000] [1] [INFO] Listening at: http://0.0.0.0:8080 (1)\u001b[0m\n",
      "\u001b[34m[2020-05-25 18:13:37 +0000] [1] [INFO] Using worker: gevent\u001b[0m\n",
      "\u001b[34m[2020-05-25 18:13:37 +0000] [38] [INFO] Booting worker with pid: 38\u001b[0m\n",
      "\u001b[34m[2020-05-25 18:13:37 +0000] [39] [INFO] Booting worker with pid: 39\u001b[0m\n",
      "\u001b[34m[2020-05-25 18:13:37 +0000] [40] [INFO] Booting worker with pid: 40\u001b[0m\n",
      "\u001b[34m[2020-05-25:18:13:37:INFO] Model loaded successfully for worker : 38\u001b[0m\n",
      "\u001b[34m[2020-05-25 18:13:37 +0000] [41] [INFO] Booting worker with pid: 41\u001b[0m\n",
      "\u001b[34m[2020-05-25:18:13:37:INFO] Model loaded successfully for worker : 39\u001b[0m\n",
      "\u001b[34m[2020-05-25:18:13:37:INFO] Model loaded successfully for worker : 40\u001b[0m\n",
      "\u001b[34m[2020-05-25:18:13:37:INFO] Model loaded successfully for worker : 41\u001b[0m\n",
      "\u001b[34m[2020-05-25:18:14:11:INFO] Sniff delimiter as ','\u001b[0m\n",
      "\u001b[35m[2020-05-25:18:14:11:INFO] Sniff delimiter as ','\u001b[0m\n",
      "\u001b[34m[2020-05-25:18:14:11:INFO] Determined delimiter of CSV input is ','\u001b[0m\n",
      "\u001b[34m[2020-05-25:18:14:11:INFO] Sniff delimiter as ','\u001b[0m\n",
      "\u001b[34m[2020-05-25:18:14:11:INFO] Determined delimiter of CSV input is ','\u001b[0m\n",
      "\u001b[34m[2020-05-25:18:14:11:INFO] Sniff delimiter as ','\u001b[0m\n",
      "\u001b[34m[2020-05-25:18:14:11:INFO] Determined delimiter of CSV input is ','\u001b[0m\n",
      "\u001b[34m[2020-05-25:18:14:11:INFO] Sniff delimiter as ','\u001b[0m\n",
      "\u001b[34m[2020-05-25:18:14:11:INFO] Determined delimiter of CSV input is ','\u001b[0m\n",
      "\u001b[35m[2020-05-25:18:14:11:INFO] Determined delimiter of CSV input is ','\u001b[0m\n",
      "\u001b[35m[2020-05-25:18:14:11:INFO] Sniff delimiter as ','\u001b[0m\n",
      "\u001b[35m[2020-05-25:18:14:11:INFO] Determined delimiter of CSV input is ','\u001b[0m\n",
      "\u001b[35m[2020-05-25:18:14:11:INFO] Sniff delimiter as ','\u001b[0m\n",
      "\u001b[35m[2020-05-25:18:14:11:INFO] Determined delimiter of CSV input is ','\u001b[0m\n",
      "\u001b[35m[2020-05-25:18:14:11:INFO] Sniff delimiter as ','\u001b[0m\n",
      "\u001b[35m[2020-05-25:18:14:11:INFO] Determined delimiter of CSV input is ','\u001b[0m\n",
      "\u001b[32m2020-05-25T18:14:08.603:[sagemaker logs]: MaxConcurrentTransforms=4, MaxPayloadInMB=6, BatchStrategy=MULTI_RECORD\u001b[0m\n",
      "\u001b[34m[2020-05-25:18:14:14:INFO] Sniff delimiter as ','\u001b[0m\n",
      "\u001b[34m[2020-05-25:18:14:14:INFO] Determined delimiter of CSV input is ','\u001b[0m\n",
      "\u001b[35m[2020-05-25:18:14:14:INFO] Sniff delimiter as ','\u001b[0m\n",
      "\u001b[35m[2020-05-25:18:14:14:INFO] Determined delimiter of CSV input is ','\u001b[0m\n",
      "\u001b[34m[2020-05-25:18:14:14:INFO] Sniff delimiter as ','\u001b[0m\n",
      "\u001b[34m[2020-05-25:18:14:14:INFO] Determined delimiter of CSV input is ','\u001b[0m\n",
      "\u001b[34m[2020-05-25:18:14:14:INFO] Sniff delimiter as ','\u001b[0m\n",
      "\u001b[34m[2020-05-25:18:14:14:INFO] Determined delimiter of CSV input is ','\u001b[0m\n",
      "\u001b[34m[2020-05-25:18:14:14:INFO] Sniff delimiter as ','\u001b[0m\n",
      "\u001b[34m[2020-05-25:18:14:14:INFO] Determined delimiter of CSV input is ','\u001b[0m\n",
      "\u001b[35m[2020-05-25:18:14:14:INFO] Sniff delimiter as ','\u001b[0m\n",
      "\u001b[35m[2020-05-25:18:14:14:INFO] Determined delimiter of CSV input is ','\u001b[0m\n",
      "\u001b[35m[2020-05-25:18:14:14:INFO] Sniff delimiter as ','\u001b[0m\n",
      "\u001b[35m[2020-05-25:18:14:14:INFO] Determined delimiter of CSV input is ','\u001b[0m\n",
      "\u001b[35m[2020-05-25:18:14:14:INFO] Sniff delimiter as ','\u001b[0m\n",
      "\u001b[35m[2020-05-25:18:14:14:INFO] Determined delimiter of CSV input is ','\u001b[0m\n",
      "\u001b[34m[2020-05-25:18:14:16:INFO] Sniff delimiter as ','\u001b[0m\n",
      "\u001b[34m[2020-05-25:18:14:16:INFO] Determined delimiter of CSV input is ','\u001b[0m\n",
      "\u001b[35m[2020-05-25:18:14:16:INFO] Sniff delimiter as ','\u001b[0m\n",
      "\u001b[35m[2020-05-25:18:14:16:INFO] Determined delimiter of CSV input is ','\u001b[0m\n",
      "\u001b[34m[2020-05-25:18:14:18:INFO] Sniff delimiter as ','\u001b[0m\n",
      "\u001b[34m[2020-05-25:18:14:18:INFO] Determined delimiter of CSV input is ','\u001b[0m\n",
      "\u001b[34m[2020-05-25:18:14:19:INFO] Sniff delimiter as ','\u001b[0m\n",
      "\u001b[34m[2020-05-25:18:14:19:INFO] Determined delimiter of CSV input is ','\u001b[0m\n",
      "\u001b[35m[2020-05-25:18:14:18:INFO] Sniff delimiter as ','\u001b[0m\n",
      "\u001b[35m[2020-05-25:18:14:18:INFO] Determined delimiter of CSV input is ','\u001b[0m\n",
      "\u001b[35m[2020-05-25:18:14:19:INFO] Sniff delimiter as ','\u001b[0m\n",
      "\u001b[35m[2020-05-25:18:14:19:INFO] Determined delimiter of CSV input is ','\u001b[0m\n",
      "\u001b[34m[2020-05-25:18:14:19:INFO] Sniff delimiter as ','\u001b[0m\n",
      "\u001b[34m[2020-05-25:18:14:19:INFO] Determined delimiter of CSV input is ','\u001b[0m\n",
      "\u001b[34m[2020-05-25:18:14:19:INFO] Sniff delimiter as ','\u001b[0m\n",
      "\u001b[34m[2020-05-25:18:14:19:INFO] Determined delimiter of CSV input is ','\u001b[0m\n",
      "\u001b[35m[2020-05-25:18:14:19:INFO] Sniff delimiter as ','\u001b[0m\n",
      "\u001b[35m[2020-05-25:18:14:19:INFO] Determined delimiter of CSV input is ','\u001b[0m\n",
      "\u001b[35m[2020-05-25:18:14:19:INFO] Sniff delimiter as ','\u001b[0m\n",
      "\u001b[35m[2020-05-25:18:14:19:INFO] Determined delimiter of CSV input is ','\u001b[0m\n",
      "\u001b[34m[2020-05-25:18:14:21:INFO] Sniff delimiter as ','\u001b[0m\n",
      "\u001b[34m[2020-05-25:18:14:21:INFO] Determined delimiter of CSV input is ','\u001b[0m\n",
      "\u001b[34m[2020-05-25:18:14:21:INFO] Sniff delimiter as ','\u001b[0m\n",
      "\u001b[34m[2020-05-25:18:14:21:INFO] Determined delimiter of CSV input is ','\u001b[0m\n",
      "\u001b[34m[2020-05-25:18:14:21:INFO] Sniff delimiter as ','\u001b[0m\n",
      "\u001b[34m[2020-05-25:18:14:21:INFO] Determined delimiter of CSV input is ','\u001b[0m\n",
      "\u001b[34m[2020-05-25:18:14:21:INFO] Sniff delimiter as ','\u001b[0m\n",
      "\u001b[34m[2020-05-25:18:14:21:INFO] Determined delimiter of CSV input is ','\u001b[0m\n",
      "\u001b[35m[2020-05-25:18:14:21:INFO] Sniff delimiter as ','\u001b[0m\n",
      "\u001b[35m[2020-05-25:18:14:21:INFO] Determined delimiter of CSV input is ','\u001b[0m\n",
      "\u001b[35m[2020-05-25:18:14:21:INFO] Sniff delimiter as ','\u001b[0m\n",
      "\u001b[35m[2020-05-25:18:14:21:INFO] Determined delimiter of CSV input is ','\u001b[0m\n",
      "\u001b[35m[2020-05-25:18:14:21:INFO] Sniff delimiter as ','\u001b[0m\n",
      "\u001b[35m[2020-05-25:18:14:21:INFO] Determined delimiter of CSV input is ','\u001b[0m\n",
      "\u001b[35m[2020-05-25:18:14:21:INFO] Sniff delimiter as ','\u001b[0m\n",
      "\u001b[35m[2020-05-25:18:14:21:INFO] Determined delimiter of CSV input is ','\u001b[0m\n",
      "\u001b[34m[2020-05-25:18:14:23:INFO] Sniff delimiter as ','\u001b[0m\n",
      "\u001b[34m[2020-05-25:18:14:23:INFO] Determined delimiter of CSV input is ','\u001b[0m\n",
      "\u001b[34m[2020-05-25:18:14:23:INFO] Sniff delimiter as ','\u001b[0m\n",
      "\u001b[34m[2020-05-25:18:14:23:INFO] Determined delimiter of CSV input is ','\u001b[0m\n",
      "\u001b[34m[2020-05-25:18:14:24:INFO] Sniff delimiter as ','\u001b[0m\n",
      "\u001b[34m[2020-05-25:18:14:24:INFO] Determined delimiter of CSV input is ','\u001b[0m\n",
      "\u001b[35m[2020-05-25:18:14:23:INFO] Sniff delimiter as ','\u001b[0m\n",
      "\u001b[35m[2020-05-25:18:14:23:INFO] Determined delimiter of CSV input is ','\u001b[0m\n",
      "\u001b[35m[2020-05-25:18:14:23:INFO] Sniff delimiter as ','\u001b[0m\n",
      "\u001b[35m[2020-05-25:18:14:23:INFO] Determined delimiter of CSV input is ','\u001b[0m\n",
      "\u001b[35m[2020-05-25:18:14:24:INFO] Sniff delimiter as ','\u001b[0m\n",
      "\u001b[35m[2020-05-25:18:14:24:INFO] Determined delimiter of CSV input is ','\u001b[0m\n",
      "\u001b[34m[2020-05-25:18:14:24:INFO] Sniff delimiter as ','\u001b[0m\n",
      "\u001b[34m[2020-05-25:18:14:24:INFO] Determined delimiter of CSV input is ','\u001b[0m\n",
      "\u001b[35m[2020-05-25:18:14:24:INFO] Sniff delimiter as ','\u001b[0m\n",
      "\u001b[35m[2020-05-25:18:14:24:INFO] Determined delimiter of CSV input is ','\u001b[0m\n",
      "\n",
      "\u001b[34m[2020-05-25:18:14:26:INFO] Sniff delimiter as ','\u001b[0m\n",
      "\u001b[34m[2020-05-25:18:14:26:INFO] Determined delimiter of CSV input is ','\u001b[0m\n",
      "\u001b[34m[2020-05-25:18:14:26:INFO] Sniff delimiter as ','\u001b[0m\n",
      "\u001b[34m[2020-05-25:18:14:26:INFO] Determined delimiter of CSV input is ','\u001b[0m\n",
      "\u001b[34m[2020-05-25:18:14:26:INFO] Sniff delimiter as ','\u001b[0m\n",
      "\u001b[34m[2020-05-25:18:14:26:INFO] Determined delimiter of CSV input is ','\u001b[0m\n",
      "\u001b[35m[2020-05-25:18:14:26:INFO] Sniff delimiter as ','\u001b[0m\n",
      "\u001b[35m[2020-05-25:18:14:26:INFO] Determined delimiter of CSV input is ','\u001b[0m\n",
      "\u001b[35m[2020-05-25:18:14:26:INFO] Sniff delimiter as ','\u001b[0m\n",
      "\u001b[35m[2020-05-25:18:14:26:INFO] Determined delimiter of CSV input is ','\u001b[0m\n",
      "\u001b[35m[2020-05-25:18:14:26:INFO] Sniff delimiter as ','\u001b[0m\n",
      "\u001b[35m[2020-05-25:18:14:26:INFO] Determined delimiter of CSV input is ','\u001b[0m\n",
      "\u001b[34m[2020-05-25:18:14:28:INFO] Sniff delimiter as ','\u001b[0m\n",
      "\u001b[34m[2020-05-25:18:14:28:INFO] Determined delimiter of CSV input is ','\u001b[0m\n",
      "\u001b[34m[2020-05-25:18:14:28:INFO] Sniff delimiter as ','\u001b[0m\n",
      "\u001b[34m[2020-05-25:18:14:28:INFO] Determined delimiter of CSV input is ','\u001b[0m\n",
      "\u001b[34m[2020-05-25:18:14:28:INFO] Sniff delimiter as ','\u001b[0m\n",
      "\u001b[34m[2020-05-25:18:14:28:INFO] Determined delimiter of CSV input is ','\u001b[0m\n",
      "\u001b[35m[2020-05-25:18:14:28:INFO] Sniff delimiter as ','\u001b[0m\n",
      "\u001b[35m[2020-05-25:18:14:28:INFO] Determined delimiter of CSV input is ','\u001b[0m\n",
      "\u001b[35m[2020-05-25:18:14:28:INFO] Sniff delimiter as ','\u001b[0m\n",
      "\u001b[35m[2020-05-25:18:14:28:INFO] Determined delimiter of CSV input is ','\u001b[0m\n",
      "\u001b[35m[2020-05-25:18:14:28:INFO] Sniff delimiter as ','\u001b[0m\n",
      "\u001b[35m[2020-05-25:18:14:28:INFO] Determined delimiter of CSV input is ','\u001b[0m\n",
      "\u001b[34m[2020-05-25:18:14:29:INFO] Sniff delimiter as ','\u001b[0m\n",
      "\u001b[34m[2020-05-25:18:14:29:INFO] Determined delimiter of CSV input is ','\u001b[0m\n",
      "\u001b[35m[2020-05-25:18:14:29:INFO] Sniff delimiter as ','\u001b[0m\n",
      "\u001b[35m[2020-05-25:18:14:29:INFO] Determined delimiter of CSV input is ','\u001b[0m\n",
      "\u001b[34m[2020-05-25:18:14:31:INFO] Sniff delimiter as ','\u001b[0m\n",
      "\u001b[34m[2020-05-25:18:14:31:INFO] Determined delimiter of CSV input is ','\u001b[0m\n",
      "\u001b[35m[2020-05-25:18:14:31:INFO] Sniff delimiter as ','\u001b[0m\n",
      "\u001b[35m[2020-05-25:18:14:31:INFO] Determined delimiter of CSV input is ','\u001b[0m\n",
      "\u001b[34m[2020-05-25:18:14:31:INFO] Sniff delimiter as ','\u001b[0m\n",
      "\u001b[34m[2020-05-25:18:14:31:INFO] Determined delimiter of CSV input is ','\u001b[0m\n",
      "\u001b[34m[2020-05-25:18:14:31:INFO] Sniff delimiter as ','\u001b[0m\n",
      "\u001b[34m[2020-05-25:18:14:31:INFO] Determined delimiter of CSV input is ','\u001b[0m\n",
      "\u001b[34m[2020-05-25:18:14:31:INFO] Sniff delimiter as ','\u001b[0m\n",
      "\u001b[34m[2020-05-25:18:14:31:INFO] Determined delimiter of CSV input is ','\u001b[0m\n",
      "\u001b[35m[2020-05-25:18:14:31:INFO] Sniff delimiter as ','\u001b[0m\n",
      "\u001b[35m[2020-05-25:18:14:31:INFO] Determined delimiter of CSV input is ','\u001b[0m\n",
      "\u001b[35m[2020-05-25:18:14:31:INFO] Sniff delimiter as ','\u001b[0m\n",
      "\u001b[35m[2020-05-25:18:14:31:INFO] Determined delimiter of CSV input is ','\u001b[0m\n",
      "\u001b[35m[2020-05-25:18:14:31:INFO] Sniff delimiter as ','\u001b[0m\n",
      "\u001b[35m[2020-05-25:18:14:31:INFO] Determined delimiter of CSV input is ','\u001b[0m\n",
      "\u001b[34m[2020-05-25:18:14:33:INFO] Sniff delimiter as ','\u001b[0m\n",
      "\u001b[34m[2020-05-25:18:14:33:INFO] Determined delimiter of CSV input is ','\u001b[0m\n",
      "\u001b[34m[2020-05-25:18:14:33:INFO] Sniff delimiter as ','\u001b[0m\n",
      "\u001b[34m[2020-05-25:18:14:33:INFO] Determined delimiter of CSV input is ','\u001b[0m\n",
      "\u001b[34m[2020-05-25:18:14:33:INFO] Sniff delimiter as ','\u001b[0m\n",
      "\u001b[34m[2020-05-25:18:14:33:INFO] Determined delimiter of CSV input is ','\u001b[0m\n",
      "\u001b[35m[2020-05-25:18:14:33:INFO] Sniff delimiter as ','\u001b[0m\n",
      "\u001b[35m[2020-05-25:18:14:33:INFO] Determined delimiter of CSV input is ','\u001b[0m\n",
      "\u001b[35m[2020-05-25:18:14:33:INFO] Sniff delimiter as ','\u001b[0m\n",
      "\u001b[35m[2020-05-25:18:14:33:INFO] Determined delimiter of CSV input is ','\u001b[0m\n",
      "\u001b[35m[2020-05-25:18:14:33:INFO] Sniff delimiter as ','\u001b[0m\n",
      "\u001b[35m[2020-05-25:18:14:33:INFO] Determined delimiter of CSV input is ','\u001b[0m\n",
      "\u001b[34m[2020-05-25:18:14:33:INFO] Sniff delimiter as ','\u001b[0m\n",
      "\u001b[34m[2020-05-25:18:14:33:INFO] Determined delimiter of CSV input is ','\u001b[0m\n",
      "\u001b[35m[2020-05-25:18:14:33:INFO] Sniff delimiter as ','\u001b[0m\n",
      "\u001b[35m[2020-05-25:18:14:33:INFO] Determined delimiter of CSV input is ','\u001b[0m\n"
     ]
    }
   ],
   "source": [
    "xgb_transformer.wait()"
   ]
  },
  {
   "cell_type": "markdown",
   "metadata": {},
   "source": [
    "Now the transform job has executed and the result, the estimated sentiment of each review, has been saved on S3. Since we would rather work on this file locally we can perform a bit of notebook magic to copy the file to the `data_dir`."
   ]
  },
  {
   "cell_type": "code",
   "execution_count": 28,
   "metadata": {},
   "outputs": [
    {
     "name": "stdout",
     "output_type": "stream",
     "text": [
      "download: s3://sagemaker-us-east-2-357004283973/xgboost-2020-05-25-18-10-38-420/test.csv.out to ../data/sentiment_web_app/test.csv.out\n"
     ]
    }
   ],
   "source": [
    "# copy the resulting output from S3 to our local ntobook instance\n",
    "!aws s3 cp --recursive $xgb_transformer.output_path $data_dir"
   ]
  },
  {
   "cell_type": "markdown",
   "metadata": {},
   "source": [
    "The last step is now to read in the output from our model, convert the output to something a little more usable, in this case we want the sentiment to be either `1` (positive) or `0` (negative), and then compare to the ground truth labels."
   ]
  },
  {
   "cell_type": "code",
   "execution_count": 29,
   "metadata": {},
   "outputs": [],
   "source": [
    "predictions = pd.read_csv(os.path.join(data_dir, 'test.csv.out'), header=None)\n",
    "predictions = [round(num) for num in predictions.squeeze().values]"
   ]
  },
  {
   "cell_type": "code",
   "execution_count": 30,
   "metadata": {},
   "outputs": [
    {
     "data": {
      "text/plain": [
       "0.84888"
      ]
     },
     "execution_count": 30,
     "metadata": {},
     "output_type": "execute_result"
    }
   ],
   "source": [
    "from sklearn.metrics import accuracy_score\n",
    "accuracy_score(test_y, predictions)"
   ]
  },
  {
   "cell_type": "markdown",
   "metadata": {},
   "source": [
    "## Step 6: Deploying the model\n",
    "\n",
    "Once we construct and fit our model, SageMaker stores the resulting model artifacts and we can use those to deploy an endpoint (inference code). To see this, look in the SageMaker console and you should see that a model has been created along with a link to the S3 location where the model artifacts have been stored.\n",
    "\n",
    "Deploying an endpoint is a lot like training the model with a few important differences. The first is that a deployed model doesn't change the model artifacts, so as you send it various testing instances the model won't change. Another difference is that since we aren't performing a fixed computation, as we were in the training step or while performing a batch transform, the compute instance that gets started stays running until we tell it to stop. This is important to note as if we forget and leave it running we will be charged the entire time.\n",
    "\n",
    "In other words **If you are no longer using a deployed endpoint, shut it down!**"
   ]
  },
  {
   "cell_type": "code",
   "execution_count": 31,
   "metadata": {},
   "outputs": [
    {
     "name": "stderr",
     "output_type": "stream",
     "text": [
      "WARNING:sagemaker:Using already existing model: xgboost-2020-05-25-18-04-19-536\n"
     ]
    },
    {
     "name": "stdout",
     "output_type": "stream",
     "text": [
      "-------------!"
     ]
    }
   ],
   "source": [
    "# deploy our model on a virtual machine\n",
    "xgb_predictor = xgb.deploy(initial_instance_count = 1, instance_type = 'ml.m4.xlarge')"
   ]
  },
  {
   "cell_type": "markdown",
   "metadata": {},
   "source": [
    "### Testing the model (again)\n",
    "\n",
    "Now that we have deployed our endpoint, we can send the testing data to it and get back the inference results. We already did this earlier using the batch transform functionality of SageMaker, however, we will test our model again using the newly deployed endpoint so that we can make sure that it works properly and to get a bit of a feel for how the endpoint works.\n",
    "\n",
    "When using the created endpoint it is important to know that we are limited in the amount of information we can send in each call so we need to break the testing data up into chunks and then send each chunk. Also, we need to serialize our data before we send it to the endpoint to ensure that our data is transmitted properly. Fortunately, SageMaker can do the serialization part for us provided we tell it the format of our data."
   ]
  },
  {
   "cell_type": "markdown",
   "metadata": {},
   "source": [
    "**Lecture Note:**\n",
    "\n",
    "XGBoost model expects csv data, so we need a serializer to serialize the prediction to csv data.\n"
   ]
  },
  {
   "cell_type": "code",
   "execution_count": 32,
   "metadata": {},
   "outputs": [],
   "source": [
    "from sagemaker.predictor import csv_serializer\n",
    "\n",
    "# We need to tell the endpoint what format the data we are sending is in so that SageMaker can perform the serialization.\n",
    "xgb_predictor.content_type = 'text/csv'\n",
    "xgb_predictor.serializer = csv_serializer"
   ]
  },
  {
   "cell_type": "markdown",
   "metadata": {},
   "source": [
    "**Lecture Note:**\n",
    "\n",
    "Since the predictions are too large to send a single invocation of our endpoint, we need to split it.\n"
   ]
  },
  {
   "cell_type": "code",
   "execution_count": 33,
   "metadata": {},
   "outputs": [],
   "source": [
    "# We split the data into chunks and send each chunk seperately, accumulating the results.\n",
    "\n",
    "def predict(data, rows=512):\n",
    "    split_array = np.array_split(data, int(data.shape[0] / float(rows) + 1))\n",
    "    predictions = ''\n",
    "    for array in split_array:\n",
    "        predictions = ','.join([predictions, xgb_predictor.predict(array).decode('utf-8')])\n",
    "    \n",
    "    return np.fromstring(predictions[1:], sep=',')"
   ]
  },
  {
   "cell_type": "code",
   "execution_count": 34,
   "metadata": {},
   "outputs": [],
   "source": [
    "test_X = pd.read_csv(os.path.join(data_dir, 'test.csv'), header=None).values\n",
    "\n",
    "predictions = predict(test_X)\n",
    "predictions = [round(num) for num in predictions]"
   ]
  },
  {
   "cell_type": "markdown",
   "metadata": {},
   "source": [
    "Lastly, we check to see what the accuracy of our model is."
   ]
  },
  {
   "cell_type": "code",
   "execution_count": 35,
   "metadata": {},
   "outputs": [
    {
     "data": {
      "text/plain": [
       "0.84888"
      ]
     },
     "execution_count": 35,
     "metadata": {},
     "output_type": "execute_result"
    }
   ],
   "source": [
    "from sklearn.metrics import accuracy_score\n",
    "accuracy_score(test_y, predictions)"
   ]
  },
  {
   "cell_type": "markdown",
   "metadata": {},
   "source": [
    "**Lecture Note:**\n",
    "\n",
    "So far, we deployed our model in this session.\n",
    "\n",
    "Next, we are going to shut the endpoint down."
   ]
  },
  {
   "cell_type": "markdown",
   "metadata": {},
   "source": [
    "And the results here should agree with the model testing that we did earlier using the batch transform job.\n",
    "\n",
    "### Cleaning up\n",
    "\n",
    "Now that we've determined that deploying our model works as expected, we are going to shut it down. Remember that the longer the endpoint is left running, the greater the cost and since we have a bit more work to do before we are able to use our endpoint with our simple web app, we should shut everything down."
   ]
  },
  {
   "cell_type": "code",
   "execution_count": 36,
   "metadata": {},
   "outputs": [],
   "source": [
    "xgb_predictor.delete_endpoint()"
   ]
  },
  {
   "cell_type": "markdown",
   "metadata": {},
   "source": [
    "**Lecture Note:**\n",
    "\n",
    "In this next step, we are going to deploy the model and make a web app to use our model and to solve the 2 obstacles:\n",
    "1. security problem\n",
    "2. allow user to type any review as a string, instead of word embedding\n",
    "\n",
    "Solution for Issue #1: Create a new endpoint which is open to anyone that can receive a string as input, and perform processing, then send the results back.\n"
   ]
  },
  {
   "cell_type": "markdown",
   "metadata": {},
   "source": [
    "## Step 7: Putting our model to work\n",
    "\n",
    "As we've mentioned a few times now, our goal is to have our model deployed and then access it using a very simple web app. The intent is for this web app to take some user submitted data (a review), send it off to our endpoint (the model) and then display the result.\n",
    "\n",
    "However, there is a small catch. Currently the only way we can access the endpoint to send it data is using the SageMaker API. We can, if we wish, expose the actual URL that our model's endpoint is receiving data from, however, if we just send it data ourselves we will not get anything in return. This is because the endpoint created by SageMaker requires the entity accessing it have the correct permissions. So, we would need to somehow authenticate our web app with AWS.\n",
    "\n",
    "Having a website that authenticates to AWS seems a bit beyond the scope of this lesson so we will opt for an alternative approach. Namely, we will create a new endpoint which does not require authentication and which acts as a proxy for the SageMaker endpoint.\n",
    "\n",
    "As an additional constraint, we will try to avoid doing any data processing in the web app itself. Remember that when we constructed and tested our model we started with a movie review, then we simplified it by removing any html formatting and punctuation, then we constructed a bag of words embedding and the resulting vector is what we sent to our model. All of this needs to be done to our user input as well.\n",
    "\n",
    "Fortunately we can do all of this data processing in the backend, using Amazon's Lambda service.\n",
    "\n",
    "<img src=\"Web App Diagram.svg\">\n",
    "\n",
    "The diagram above gives an overview of how the various services will work together. On the far right is the model which we trained above and which will be deployed using SageMaker. On the far left is our web app that collects a user's movie review, sends it off and expects a positive or negative sentiment in return.\n",
    "\n",
    "In the middle is where some of the magic happens. We will construct a Lambda function, which you can think of as a straightforward Python function that can be executed whenever a specified event occurs. This Python function will do the data processing we need to perform on a user submitted review. In addition, we will give this function permission to send and recieve data from a SageMaker endpoint.\n",
    "\n",
    "Lastly, the method we will use to execute the Lambda function is a new endpoint that we will create using API Gateway. This endpoint will be a url that listens for data to be sent to it. Once it gets some data it will pass that data on to the Lambda function and then return whatever the Lambda function returns. Essentially it will act as an interface that lets our web app communicate with the Lambda function.\n",
    "\n",
    "### Processing a single review\n",
    "\n",
    "For now, suppose we are given a movie review by our user in the form of a string, like so:"
   ]
  },
  {
   "cell_type": "code",
   "execution_count": 37,
   "metadata": {},
   "outputs": [],
   "source": [
    "# a negative movie review\n",
    "test_review = \"Nothing but a disgusting materialistic pageant of glistening abed remote control greed zombies, totally devoid of any heart or heat. A romantic comedy that has zero romantic chemestry and zero laughs!\""
   ]
  },
  {
   "cell_type": "markdown",
   "metadata": {},
   "source": [
    "How do we go from this string to the bag of words feature vector that is expected by our model?\n",
    "\n",
    "If we recall at the beginning of this notebook, the first step is to remove any unnecessary characters using the `review_to_words` method. Remember that we intentionally did this in a very simplistic way. This is because we are going to have to copy this method to our (eventual) Lambda function (we will go into more detail later) and this means it needs to be rather simplistic."
   ]
  },
  {
   "cell_type": "code",
   "execution_count": 38,
   "metadata": {},
   "outputs": [
    {
     "name": "stdout",
     "output_type": "stream",
     "text": [
      "nothing but a disgusting materialistic pageant of glistening abed remote control greed zombies totally devoid of any heart or heat a romantic comedy that has zero romantic chemestry and zero laughs\n"
     ]
    }
   ],
   "source": [
    "# revmoe punctuations\n",
    "test_words = review_to_words(test_review)\n",
    "print(test_words)"
   ]
  },
  {
   "cell_type": "markdown",
   "metadata": {},
   "source": [
    "Next, we need to construct a bag of words embedding of the `test_words` string. To do this, remember that a bag of words embedding uses a `vocabulary` consisting of the most frequently appearing words in a set of documents. Then, for each word in the vocabulary we record the number of times that word appears in `test_words`. We constructed the `vocabulary` earlier using the training set for our problem so encoding `test_words` is relatively straightforward."
   ]
  },
  {
   "cell_type": "code",
   "execution_count": 39,
   "metadata": {},
   "outputs": [],
   "source": [
    "def bow_encoding(words, vocabulary):\n",
    "    bow = [0] * len(vocabulary) # Start by setting the count for each word in the vocabulary to zero.\n",
    "    for word in words.split():  # For each word in the string\n",
    "        if word in vocabulary:  # If the word is one that occurs in the vocabulary, increase its count.\n",
    "            bow[vocabulary[word]] += 1\n",
    "    return bow"
   ]
  },
  {
   "cell_type": "code",
   "execution_count": 40,
   "metadata": {},
   "outputs": [
    {
     "name": "stdout",
     "output_type": "stream",
     "text": [
      "[0, 0, 0, 0, 0, 0, 0, 0, 0, 0, 0, 0, 0, 0, 0, 0, 0, 0, 0, 0, 0, 0, 0, 0, 0, 0, 0, 0, 0, 0, 0, 0, 0, 0, 0, 0, 0, 0, 0, 0, 0, 0, 0, 0, 0, 0, 0, 0, 0, 0, 0, 0, 0, 0, 0, 0, 0, 0, 0, 0, 0, 0, 0, 0, 0, 0, 0, 0, 0, 0, 0, 0, 0, 0, 0, 0, 0, 0, 0, 0, 0, 0, 0, 0, 0, 0, 0, 0, 0, 0, 0, 0, 0, 0, 0, 0, 0, 0, 0, 0, 0, 0, 0, 0, 0, 0, 0, 0, 0, 0, 0, 0, 0, 0, 0, 0, 0, 0, 0, 0, 0, 0, 0, 0, 0, 0, 0, 0, 0, 0, 0, 0, 0, 0, 0, 0, 0, 0, 0, 0, 0, 0, 0, 0, 0, 0, 0, 0, 0, 0, 0, 0, 0, 0, 0, 0, 0, 0, 0, 0, 0, 0, 0, 0, 0, 0, 0, 0, 0, 0, 0, 0, 0, 0, 0, 0, 0, 0, 0, 0, 0, 0, 0, 0, 0, 0, 0, 0, 0, 0, 0, 0, 0, 0, 0, 0, 0, 0, 0, 0, 0, 0, 0, 0, 0, 0, 0, 0, 0, 0, 0, 0, 0, 0, 0, 0, 0, 0, 0, 0, 0, 0, 0, 0, 0, 0, 1, 0, 0, 0, 0, 0, 0, 0, 0, 0, 0, 0, 0, 0, 0, 0, 0, 0, 0, 0, 0, 0, 0, 0, 0, 0, 0, 0, 0, 0, 1, 0, 0, 0, 0, 0, 0, 0, 0, 0, 0, 0, 0, 0, 0, 0, 0, 0, 0, 0, 0, 0, 0, 0, 0, 0, 0, 0, 0, 0, 0, 0, 0, 0, 0, 0, 0, 0, 0, 0, 0, 0, 0, 0, 0, 0, 0, 0, 0, 0, 0, 0, 0, 0, 0, 0, 0, 0, 0, 0, 0, 0, 0, 0, 0, 0, 0, 0, 0, 0, 0, 0, 0, 0, 0, 0, 0, 0, 0, 0, 0, 0, 0, 0, 0, 0, 0, 0, 0, 0, 0, 0, 0, 0, 0, 0, 0, 0, 0, 0, 0, 0, 0, 0, 0, 0, 0, 0, 0, 0, 0, 0, 0, 0, 0, 0, 0, 0, 0, 0, 0, 0, 0, 0, 0, 0, 0, 0, 0, 0, 0, 0, 0, 0, 0, 0, 0, 0, 0, 0, 0, 0, 0, 0, 0, 0, 0, 0, 0, 0, 0, 0, 0, 0, 0, 0, 0, 0, 0, 0, 0, 0, 0, 0, 0, 0, 0, 0, 0, 0, 0, 0, 0, 0, 0, 0, 0, 0, 0, 0, 0, 0, 0, 0, 0, 0, 0, 0, 0, 0, 0, 0, 0, 0, 0, 0, 0, 0, 0, 0, 0, 0, 0, 0, 0, 0, 0, 0, 0, 0, 0, 0, 0, 0, 0, 0, 0, 0, 0, 0, 0, 0, 0, 0, 0, 0, 0, 0, 0, 0, 0, 0, 0, 0, 0, 0, 0, 0, 0, 0, 0, 0, 0, 0, 0, 0, 0, 0, 0, 0, 0, 0, 0, 0, 0, 0, 0, 0, 0, 0, 0, 0, 0, 0, 0, 0, 0, 0, 0, 0, 0, 0, 0, 0, 0, 0, 0, 0, 0, 0, 0, 0, 0, 0, 0, 0, 0, 0, 0, 0, 0, 0, 0, 0, 0, 0, 0, 0, 0, 0, 0, 0, 0, 0, 0, 0, 0, 0, 0, 0, 0, 0, 0, 0, 0, 0, 0, 0, 0, 0, 0, 0, 0, 0, 0, 0, 0, 0, 0, 0, 0, 0, 0, 0, 0, 0, 0, 0, 0, 0, 0, 0, 0, 0, 0, 0, 0, 0, 0, 0, 0, 0, 0, 0, 0, 0, 0, 0, 0, 0, 0, 0, 0, 0, 0, 0, 0, 0, 0, 0, 0, 0, 0, 0, 0, 0, 0, 0, 0, 0, 1, 0, 0, 0, 0, 0, 0, 0, 0, 0, 0, 0, 0, 0, 0, 0, 0, 0, 0, 0, 0, 0, 0, 0, 0, 0, 0, 0, 0, 0, 0, 0, 0, 0, 0, 0, 0, 0, 0, 0, 0, 0, 0, 0, 0, 0, 0, 0, 0, 0, 0, 0, 0, 0, 0, 0, 0, 0, 0, 0, 0, 0, 0, 0, 0, 0, 0, 0, 0, 0, 0, 0, 0, 0, 0, 0, 0, 0, 0, 0, 0, 0, 0, 0, 0, 0, 0, 0, 0, 0, 0, 0, 0, 0, 0, 0, 0, 0, 0, 0, 0, 0, 0, 0, 0, 0, 0, 0, 0, 0, 0, 0, 0, 0, 0, 0, 0, 0, 0, 0, 0, 0, 0, 0, 0, 0, 0, 0, 0, 0, 0, 0, 0, 0, 0, 0, 0, 0, 0, 0, 0, 0, 0, 0, 0, 0, 0, 0, 0, 0, 0, 0, 0, 0, 0, 0, 0, 0, 0, 0, 0, 0, 0, 0, 0, 0, 0, 0, 0, 0, 0, 0, 0, 0, 0, 0, 0, 0, 0, 0, 0, 0, 0, 0, 0, 0, 0, 0, 0, 0, 0, 0, 0, 0, 0, 0, 0, 0, 0, 0, 0, 0, 0, 0, 0, 0, 0, 0, 0, 0, 0, 0, 0, 0, 0, 0, 0, 0, 0, 0, 0, 0, 0, 0, 0, 0, 0, 0, 0, 0, 0, 0, 0, 0, 0, 0, 0, 0, 0, 0, 0, 0, 0, 0, 0, 0, 0, 0, 0, 0, 0, 0, 0, 0, 1, 0, 0, 0, 0, 0, 0, 0, 0, 0, 0, 0, 0, 0, 0, 0, 0, 0, 0, 0, 0, 0, 0, 0, 0, 0, 0, 0, 0, 0, 0, 0, 0, 0, 0, 0, 0, 0, 0, 0, 0, 0, 0, 0, 0, 0, 0, 0, 0, 0, 0, 0, 0, 0, 0, 0, 0, 0, 0, 0, 0, 0, 0, 0, 0, 0, 0, 0, 0, 0, 0, 0, 0, 0, 0, 0, 0, 0, 0, 0, 0, 0, 0, 0, 0, 0, 0, 1, 0, 0, 0, 0, 0, 0, 0, 0, 0, 0, 0, 0, 0, 0, 0, 0, 0, 0, 0, 0, 0, 0, 0, 0, 0, 0, 0, 0, 0, 0, 0, 0, 0, 0, 0, 0, 0, 0, 0, 0, 0, 0, 0, 0, 0, 0, 0, 0, 0, 0, 0, 0, 0, 0, 0, 0, 0, 0, 0, 0, 0, 0, 0, 0, 0, 0, 0, 0, 0, 0, 0, 0, 0, 0, 0, 0, 0, 0, 0, 0, 0, 0, 0, 0, 0, 0, 0, 0, 0, 0, 0, 0, 0, 0, 0, 0, 0, 0, 0, 0, 0, 0, 0, 0, 0, 0, 0, 0, 0, 0, 0, 0, 0, 0, 0, 0, 0, 0, 0, 0, 0, 0, 0, 0, 0, 0, 0, 0, 0, 0, 0, 0, 0, 0, 0, 0, 0, 0, 0, 0, 0, 0, 0, 0, 0, 0, 0, 0, 0, 0, 0, 0, 0, 0, 0, 0, 0, 0, 0, 0, 0, 0, 0, 0, 0, 0, 0, 0, 0, 0, 0, 0, 0, 0, 0, 0, 0, 0, 0, 0, 0, 0, 0, 0, 0, 0, 0, 0, 0, 0, 0, 0, 0, 0, 0, 0, 0, 0, 0, 0, 0, 0, 0, 0, 0, 0, 0, 0, 0, 0, 0, 0, 0, 0, 0, 0, 0, 0, 0, 0, 0, 0, 0, 0, 0, 0, 0, 0, 0, 0, 0, 0, 0, 0, 0, 0, 0, 0, 0, 0, 0, 0, 0, 0, 0, 0, 0, 0, 0, 0, 0, 0, 1, 0, 0, 0, 0, 0, 0, 0, 0, 0, 0, 0, 0, 0, 0, 0, 0, 0, 0, 0, 0, 0, 0, 0, 0, 0, 0, 0, 0, 0, 0, 0, 0, 0, 0, 0, 0, 0, 0, 0, 0, 0, 0, 0, 0, 0, 0, 0, 0, 0, 0, 0, 0, 0, 0, 0, 1, 0, 0, 0, 0, 0, 0, 0, 0, 0, 0, 0, 0, 0, 0, 0, 0, 0, 0, 0, 0, 0, 0, 0, 0, 0, 0, 0, 0, 0, 0, 0, 0, 0, 0, 0, 0, 0, 0, 0, 0, 0, 0, 0, 0, 0, 0, 0, 0, 0, 0, 0, 0, 0, 0, 0, 0, 0, 0, 0, 0, 0, 0, 0, 0, 0, 0, 0, 0, 0, 0, 0, 0, 0, 0, 0, 0, 0, 0, 0, 0, 0, 0, 0, 0, 0, 0, 0, 0, 0, 0, 0, 0, 0, 0, 0, 0, 0, 0, 0, 0, 0, 0, 0, 0, 0, 0, 0, 0, 0, 0, 0, 0, 0, 0, 0, 0, 0, 0, 0, 0, 0, 0, 0, 0, 0, 0, 0, 0, 0, 0, 0, 0, 0, 0, 0, 0, 0, 0, 0, 0, 0, 0, 0, 0, 0, 0, 0, 0, 0, 0, 0, 0, 0, 0, 0, 0, 0, 0, 0, 0, 0, 0, 0, 0, 0, 0, 0, 0, 0, 0, 0, 0, 0, 0, 0, 0, 0, 0, 0, 0, 0, 0, 0, 0, 0, 0, 0, 0, 0, 0, 0, 0, 0, 0, 0, 0, 0, 0, 0, 0, 0, 0, 0, 0, 0, 0, 0, 0, 0, 0, 0, 0, 0, 0, 0, 0, 0, 0, 0, 0, 0, 0, 0, 0, 0, 0, 0, 0, 0, 0, 0, 0, 0, 0, 0, 0, 0, 0, 0, 0, 0, 0, 0, 0, 0, 0, 0, 0, 0, 0, 0, 0, 0, 0, 0, 0, 0, 0, 0, 0, 0, 0, 0, 0, 0, 0, 0, 0, 0, 0, 0, 0, 0, 0, 0, 0, 0, 0, 0, 0, 0, 0, 0, 0, 0, 0, 0, 0, 0, 0, 0, 0, 0, 0, 0, 0, 0, 0, 0, 0, 0, 0, 0, 0, 0, 0, 0, 0, 0, 0, 0, 0, 0, 0, 0, 0, 0, 0, 0, 0, 0, 0, 0, 0, 0, 0, 0, 0, 0, 0, 0, 0, 0, 0, 0, 0, 0, 0, 0, 0, 0, 0, 0, 0, 0, 0, 0, 0, 0, 0, 0, 0, 0, 0, 0, 0, 0, 0, 0, 0, 0, 0, 0, 0, 0, 0, 0, 0, 0, 0, 0, 0, 0, 0, 0, 0, 0, 0, 0, 0, 0, 0, 0, 0, 0, 0, 0, 0, 0, 0, 0, 0, 0, 0, 0, 0, 0, 0, 0, 0, 0, 0, 0, 0, 0, 0, 0, 0, 0, 0, 0, 0, 0, 0, 0, 0, 0, 0, 0, 0, 0, 0, 0, 0, 0, 0, 0, 0, 0, 0, 0, 0, 0, 0, 0, 0, 0, 0, 0, 0, 0, 0, 0, 0, 0, 0, 0, 0, 0, 0, 0, 0, 0, 0, 0, 0, 0, 0, 0, 0, 0, 0, 0, 0, 0, 0, 0, 0, 0, 0, 0, 0, 0, 0, 0, 0, 0, 0, 0, 0, 0, 0, 0, 0, 0, 0, 0, 0, 0, 0, 0, 0, 0, 0, 0, 0, 0, 0, 0, 0, 0, 0, 0, 0, 0, 0, 0, 0, 0, 0, 0, 0, 0, 0, 0, 0, 0, 0, 0, 0, 0, 0, 0, 0, 0, 0, 0, 0, 0, 0, 0, 0, 0, 0, 0, 0, 0, 0, 0, 0, 0, 0, 0, 0, 0, 0, 0, 0, 0, 0, 0, 0, 0, 0, 0, 0, 0, 0, 0, 0, 0, 0, 0, 0, 0, 0, 0, 0, 0, 0, 0, 0, 0, 0, 0, 0, 0, 0, 0, 0, 0, 0, 0, 0, 0, 0, 0, 0, 0, 0, 0, 0, 0, 0, 0, 0, 0, 0, 0, 0, 0, 0, 0, 0, 0, 0, 0, 0, 0, 0, 0, 0, 0, 0, 0, 0, 0, 0, 0, 0, 0, 0, 0, 0, 0, 0, 0, 0, 0, 0, 0, 0, 0, 0, 0, 0, 0, 0, 0, 0, 0, 0, 0, 0, 0, 0, 0, 0, 0, 0, 0, 0, 0, 0, 0, 0, 0, 0, 0, 0, 0, 0, 0, 0, 0, 0, 0, 0, 0, 0, 0, 0, 0, 0, 0, 0, 0, 0, 0, 0, 0, 1, 0, 0, 0, 0, 0, 0, 0, 0, 0, 0, 0, 0, 0, 0, 0, 0, 0, 0, 0, 0, 0, 0, 0, 0, 0, 0, 0, 0, 0, 0, 0, 0, 0, 0, 0, 0, 0, 0, 0, 0, 0, 0, 0, 0, 0, 0, 0, 0, 0, 0, 0, 0, 0, 0, 0, 0, 0, 0, 0, 0, 0, 0, 0, 0, 0, 0, 0, 0, 0, 0, 0, 0, 0, 0, 1, 0, 0, 0, 0, 0, 0, 0, 0, 0, 0, 0, 0, 0, 0, 0, 0, 0, 0, 0, 0, 1, 0, 0, 1, 0, 0, 0, 0, 0, 0, 0, 0, 0, 0, 0, 0, 0, 0, 0, 0, 0, 0, 0, 0, 0, 0, 0, 0, 0, 0, 0, 0, 0, 0, 0, 0, 0, 0, 0, 0, 0, 0, 0, 0, 0, 0, 0, 0, 0, 0, 0, 0, 0, 0, 0, 0, 0, 0, 0, 0, 0, 0, 0, 0, 0, 0, 0, 0, 0, 0, 0, 0, 0, 0, 0, 0, 0, 0, 0, 0, 0, 0, 0, 0, 0, 0, 0, 0, 0, 0, 0, 0, 0, 0, 0, 0, 0, 0, 0, 0, 0, 0, 0, 0, 0, 0, 0, 0, 0, 0, 0, 0, 0, 0, 0, 0, 0, 0, 0, 0, 0, 0, 0, 0, 0, 0, 0, 0, 0, 0, 0, 0, 0, 0, 0, 0, 0, 0, 0, 0, 0, 0, 0, 0, 0, 0, 0, 0, 0, 0, 0, 0, 0, 0, 0, 0, 0, 0, 0, 0, 0, 0, 0, 0, 0, 0, 0, 0, 0, 0, 0, 0, 0, 0, 0, 0, 0, 0, 0, 0, 0, 0, 0, 0, 0, 0, 0, 0, 0, 0, 0, 0, 0, 0, 0, 0, 0, 0, 0, 0, 0, 0, 0, 0, 0, 0, 0, 0, 0, 0, 0, 0, 0, 0, 0, 0, 0, 0, 0, 0, 0, 0, 0, 0, 0, 0, 0, 0, 0, 0, 0, 0, 0, 0, 0, 0, 0, 0, 0, 0, 0, 0, 0, 0, 0, 0, 0, 0, 0, 0, 0, 0, 0, 0, 0, 0, 0, 0, 0, 0, 0, 0, 0, 0, 0, 0, 0, 0, 0, 0, 0, 0, 0, 0, 0, 0, 0, 0, 0, 0, 0, 0, 0, 0, 0, 0, 0, 0, 0, 0, 0, 0, 0, 0, 0, 0, 0, 0, 0, 0, 0, 0, 0, 0, 0, 0, 0, 0, 0, 0, 0, 0, 0, 0, 0, 0, 0, 0, 0, 0, 0, 0, 0, 0, 0, 0, 0, 0, 0, 0, 0, 0, 0, 0, 0, 0, 0, 0, 0, 0, 0, 0, 0, 0, 0, 0, 0, 0, 0, 0, 0, 0, 0, 0, 0, 0, 0, 0, 0, 0, 0, 0, 0, 0, 0, 0, 0, 0, 0, 0, 0, 0, 0, 0, 0, 0, 0, 0, 0, 0, 0, 0, 0, 0, 0, 0, 0, 0, 0, 0, 0, 0, 0, 0, 0, 0, 0, 0, 0, 0, 0, 0, 0, 0, 0, 0, 0, 0, 0, 0, 0, 0, 0, 0, 0, 0, 0, 0, 0, 0, 0, 0, 0, 0, 0, 0, 0, 0, 0, 0, 0, 0, 0, 0, 0, 0, 0, 0, 0, 0, 0, 0, 0, 0, 0, 0, 0, 0, 0, 0, 0, 0, 0, 0, 0, 0, 0, 0, 0, 0, 0, 0, 0, 0, 0, 0, 0, 0, 0, 0, 1, 0, 0, 0, 0, 0, 0, 0, 0, 0, 0, 0, 0, 0, 0, 0, 0, 0, 0, 0, 0, 0, 0, 0, 0, 0, 0, 0, 0, 0, 0, 0, 0, 0, 0, 0, 0, 0, 0, 0, 0, 0, 0, 0, 0, 0, 0, 0, 0, 0, 0, 0, 0, 0, 0, 0, 0, 0, 0, 0, 0, 0, 0, 0, 0, 0, 0, 0, 0, 0, 0, 0, 0, 0, 0, 0, 0, 0, 0, 0, 0, 0, 0, 0, 0, 0, 0, 0, 0, 0, 0, 0, 0, 0, 0, 0, 0, 0, 0, 0, 0, 0, 0, 0, 0, 0, 0, 0, 0, 0, 0, 0, 0, 0, 0, 0, 0, 0, 0, 0, 0, 0, 0, 0, 0, 0, 0, 0, 0, 0, 0, 0, 0, 0, 0, 0, 0, 0, 0, 0, 0, 0, 0, 0, 0, 0, 0, 0, 0, 0, 0, 0, 0, 0, 0, 0, 0, 0, 0, 0, 0, 0, 0, 0, 0, 0, 0, 0, 0, 0, 0, 0, 0, 0, 0, 0, 0, 0, 0, 0, 0, 0, 0, 0, 0, 0, 0, 0, 0, 0, 0, 0, 0, 0, 0, 0, 0, 0, 0, 0, 0, 0, 0, 0, 0, 0, 0, 0, 0, 0, 0, 0, 0, 0, 0, 0, 0, 0, 0, 0, 0, 0, 0, 0, 0, 0, 0, 0, 0, 0, 0, 0, 0, 0, 0, 0, 0, 0, 0, 0, 0, 0, 0, 0, 0, 0, 0, 0, 0, 0, 0, 0, 0, 0, 0, 0, 0, 0, 0, 0, 0, 0, 0, 0, 0, 0, 0, 0, 0, 0, 0, 0, 0, 0, 0, 0, 0, 0, 0, 0, 0, 0, 0, 0, 0, 0, 0, 0, 0, 0, 0, 0, 0, 0, 0, 0, 0, 0, 0, 0, 0, 0, 0, 0, 0, 0, 0, 0, 0, 0, 0, 0, 0, 0, 0, 0, 0, 0, 0, 0, 0, 0, 0, 0, 0, 0, 0, 0, 0, 0, 0, 0, 0, 0, 0, 0, 0, 0, 0, 0, 0, 0, 0, 0, 0, 0, 0, 0, 0, 0, 0, 0, 0, 0, 0, 0, 0, 0, 0, 0, 0, 0, 0, 0, 0, 0, 0, 0, 0, 0, 0, 0, 0, 0, 0, 0, 0, 0, 0, 0, 0, 0, 0, 0, 0, 0, 0, 0, 0, 0, 0, 0, 0, 0, 0, 0, 0, 0, 0, 0, 0, 0, 0, 0, 0, 0, 0, 0, 0, 0, 0, 0, 0, 0, 0, 0, 0, 0, 0, 0, 0, 0, 0, 0, 0, 0, 0, 0, 0, 0, 0, 0, 0, 0, 0, 0, 0, 0, 0, 0, 0, 0, 0, 0, 0, 0, 0, 0, 0, 0, 0, 0, 0, 0, 0, 0, 0, 0, 0, 0, 0, 0, 0, 0, 0, 0, 0, 0, 0, 0, 0, 0, 0, 0, 0, 0, 0, 0, 0, 0, 0, 0, 0, 0, 0, 0, 0, 0, 0, 0, 0, 0, 0, 0, 0, 0, 0, 0, 0, 0, 0, 0, 0, 0, 0, 0, 0, 0, 0, 0, 0, 0, 0, 1, 0, 0, 0, 0, 0, 0, 0, 0, 0, 0, 0, 0, 0, 0, 0, 0, 0, 0, 0, 0, 0, 0, 0, 0, 0, 0, 0, 0, 0, 0, 0, 0, 0, 0, 0, 2, 0, 0, 0, 0, 0, 0, 0, 0, 0, 0, 0, 0, 0, 0, 0, 0, 0, 0, 0, 0, 0, 0, 0, 0, 0, 0, 0, 0, 0, 0, 0, 0, 0, 0, 0, 0, 0, 0, 0, 0, 1, 0, 0, 0, 0, 0, 0, 0, 0, 0, 0, 0, 0, 0, 0, 0, 0, 0, 0, 0, 0, 0, 0, 0, 0, 0, 0, 0, 0, 0, 0, 0, 0, 0, 0, 0, 0, 0, 0, 0, 0, 0, 0, 0, 0, 0, 0, 0, 0, 0, 0, 0, 0, 0, 0, 0, 0, 0, 0, 0, 0, 0, 0, 0, 0, 0, 0, 0, 0, 0, 0, 0, 0, 0, 0, 0, 0, 0, 0, 0, 0, 0, 0, 0, 0, 0, 0, 0, 0, 0, 0, 0, 0, 0, 0, 0, 0, 0, 0, 0, 0, 0, 0, 0, 0, 0, 0, 0, 0, 0, 0, 0, 0, 0, 0, 0, 0, 0, 0, 0, 0, 0, 0, 0, 0, 0, 0, 0, 0, 0, 0, 0, 0, 0, 0, 0, 0, 0, 0, 0, 0, 0, 0, 0, 0, 0, 0, 0, 0, 0, 0, 0, 0, 0, 0, 0, 0, 0, 0, 0, 0, 0, 0, 0, 0, 0, 0, 0, 0, 0, 0, 0, 0, 0, 0, 0, 0, 0, 0, 0, 0, 0, 0, 0, 0, 0, 0, 0, 0, 0, 0, 0, 0, 0, 0, 0, 0, 0, 0, 0, 0, 0, 0, 0, 0, 0, 0, 0, 0, 0, 0, 0, 0, 0, 0, 0, 0, 0, 0, 0, 0, 0, 0, 0, 0, 0, 0, 0, 0, 0, 0, 0, 0, 0, 0, 0, 0, 0, 0, 0, 0, 0, 0, 0, 0, 0, 0, 0, 0, 0, 0, 0, 0, 0, 0, 0, 0, 0, 0, 0, 0, 0, 0, 0, 0, 0, 0, 0, 0, 0, 0, 0, 0, 0, 0, 0, 0, 0, 0, 0, 0, 0, 0, 0, 0, 0, 0, 0, 0, 0, 0, 0, 0, 0, 0, 0, 0, 0, 0, 0, 0, 0, 0, 0, 0, 0, 0, 0, 0, 0, 0, 0, 0, 0, 0, 0, 0, 0, 0, 0, 0, 0, 0, 0, 0, 0, 0, 0, 0, 0, 0, 0, 0, 0, 0, 0, 0, 0, 0, 0, 0, 0, 0, 0, 0, 0, 0, 0, 0, 0, 0, 0, 0, 0, 0, 0, 0, 0, 0, 0, 0, 0, 0, 0, 0, 0, 0, 0, 0, 0, 0, 0, 0, 0, 0, 0, 0, 0, 0, 0, 0, 0, 0, 0, 0, 0, 0, 0, 0, 0, 0, 0, 0, 0, 0, 0, 0, 0, 0, 0, 0, 0, 0, 0, 0, 0, 0, 0, 0, 0, 0, 0, 0, 0, 0, 0, 0, 0, 0, 0, 0, 0, 0, 0, 0, 0, 0, 0, 0, 0, 0, 0, 0, 0, 0, 0, 0, 0, 0, 0, 0, 0, 0, 0, 0, 0, 0, 0, 0, 0, 0, 0, 0, 0, 0, 0, 0, 0, 0, 0, 0, 0, 0, 0, 0, 0, 0, 0, 0, 0, 0, 0, 0, 0, 0, 0, 0, 0, 0, 0, 0, 0, 0, 0, 0, 0, 0, 0, 0, 0, 0, 0, 0, 0, 0, 0, 0, 0, 1, 0, 0, 0, 0, 0, 0, 0, 0, 0, 0, 0, 0, 0, 0, 0, 0, 0, 0, 0, 0, 0, 0, 0, 0, 0, 0, 0, 0, 0, 0, 0, 0, 0, 0, 0, 0, 0, 0, 0, 0, 0, 0, 0, 0, 0, 0, 0, 0, 0, 0, 0, 0, 0, 0, 0, 0, 0, 0, 0, 0, 0, 0, 0, 0, 0, 0, 0, 0, 0, 0, 0, 0, 0, 0, 0, 0, 0, 0, 0, 0, 0, 0, 0, 0, 0, 0, 0, 0, 0, 0, 0, 0, 0, 0, 0, 0, 0, 0, 0, 0, 0, 0, 0, 0, 0, 0, 0, 0, 0, 0, 2, 0, 0, 0, 0, 0, 0, 0, 0, 0, 0, 0, 0, 0, 0, 0, 0, 0, 0, 0, 0, 0, 0, 0, 0, 0, 0, 0, 0, 0, 0, 0, 0, 0, 0, 0, 0, 0, 0, 0, 0, 0, 0, 0, 0, 0, 0, 0, 0, 0, 0, 0, 0, 0, 0, 0, 0, 0, 0, 0, 0, 0, 0, 0, 0, 0, 0, 0, 0, 0, 0, 0, 0, 0, 0, 0, 0, 0, 0, 0, 0, 0, 0, 0, 0, 0, 0, 0, 0, 0, 0, 0, 0, 0, 0, 0, 0, 0, 0, 0, 0, 0, 0, 0, 0, 0, 0, 0, 0, 0, 0, 0, 0, 0, 0, 0, 0, 0, 0, 0, 0, 0, 0, 0, 0, 0, 0, 0, 0, 0, 0, 0, 0, 0, 0, 0, 0, 0, 0, 0, 0, 0, 0, 0, 0, 0, 0, 0, 0, 0, 0, 0, 0, 0, 0, 0, 0, 0, 0, 0, 0, 0, 0, 0, 0, 0, 0, 0, 0, 0, 0, 0, 0, 0, 0, 0, 0, 0, 0, 0, 0, 0, 0, 0, 0, 0, 0, 0, 0, 0, 0, 0, 0, 0, 0, 0, 0, 0, 0, 0, 0, 0, 0, 0, 0, 0, 0, 0, 0, 0, 0, 0, 0, 0, 0, 0, 0, 0, 0, 0, 0, 0, 0, 0, 0, 0, 0, 0, 0, 0, 0, 0, 0, 0, 0, 0, 0, 0, 0, 0, 0, 0, 0, 0, 0, 0, 0, 0, 0, 0, 0, 0, 0, 0, 0, 0, 0, 0, 0, 0, 0, 0, 0, 0, 0, 0, 0, 0, 0, 0, 0, 0, 0, 0, 0, 0, 0, 0, 0, 0, 0, 0, 0, 0, 0, 0, 0, 0, 0, 0, 0, 0, 0, 0, 0, 0, 0, 0, 0, 0, 0, 0, 0, 0, 0, 0, 0, 0, 0, 0, 0, 0, 0, 0, 0, 0, 0, 0, 0, 0, 0, 0, 0, 0, 0, 0, 0, 0, 0, 0, 0, 0, 0, 0, 0, 0, 0, 0, 0, 0, 0, 0, 0, 0, 0, 0, 0, 0, 0, 0, 0, 0, 0, 0, 0, 0, 0, 0, 0, 0, 0, 0, 0, 0, 0, 0, 0, 0, 0, 0, 0, 0, 0, 0, 0, 0, 0, 0, 0, 0, 0, 0, 0, 0, 0, 0, 0, 0, 0, 0, 0, 0, 0, 0, 0, 0, 0, 0, 0, 0, 0, 0, 0, 0, 0, 0, 0, 0, 0, 0, 0, 0, 0, 0, 0, 0, 0, 0, 0, 0, 0, 0, 0, 0, 0, 0, 0, 0, 0, 0, 0, 0, 0, 0, 0, 0, 0, 0, 0, 0, 0, 0, 0, 0, 0, 0, 0, 0, 0, 0, 0, 0, 0, 0, 0, 0, 0, 0, 0, 0, 0, 0, 0, 0, 0, 0, 0, 0, 0, 0, 0, 0, 0, 0, 0, 0, 0, 0, 0, 0, 0, 0, 0, 0, 0, 0, 0, 0, 0, 0, 0, 0, 0, 0, 0, 0, 0, 0, 0, 0, 0, 0, 0, 0, 0, 0, 0, 0, 0, 0, 0, 0, 0, 0, 0, 0, 0, 0, 0, 0, 0, 0, 0, 0, 0, 0, 0, 0, 0, 0, 0, 0, 0, 0, 0, 0, 0, 0, 0, 0, 0, 0, 0, 0, 0, 0, 0, 0, 0, 0, 0, 0, 0, 0, 0, 0, 0, 0, 0, 0, 0, 0, 0, 0, 0, 0, 0, 0, 0, 0, 0, 0, 0, 0, 0, 0, 0, 0, 0, 0, 0, 0, 0, 0, 0, 0, 0, 0, 0, 0, 0, 0, 0, 0, 0, 0, 0, 0, 0, 0, 0, 0, 0, 0, 0, 0, 0, 0, 0, 0, 0, 0, 0, 0, 0, 0, 0, 0, 0, 0, 0, 0, 0, 0, 0, 0, 0, 0, 0, 0, 0, 0, 0, 0, 0, 0, 0, 0, 0, 0, 0, 0, 0, 0, 0, 0, 0, 0, 0, 0, 0, 0, 0, 0, 0, 0, 0, 0, 0, 0, 0, 0, 0, 0, 0, 0, 0, 0, 0, 0, 0, 0, 0, 0, 0, 0, 0, 0, 0, 0, 0, 0, 0, 0, 0, 0, 0, 0, 0, 0, 0, 1, 0, 0, 0, 0, 0, 0, 0, 0, 0, 0, 0, 0, 0, 0, 0, 0, 0, 0, 0, 0, 0, 0, 0, 0, 0, 0, 0, 0, 0, 0, 0, 0, 0, 0, 0, 0, 0, 0, 0, 0, 0, 0, 0, 0, 0, 0, 0, 0, 0, 0, 0, 0, 0, 0, 0, 0, 0, 0, 0, 0, 0, 0, 0, 0, 0, 0, 0, 0, 0, 0, 0, 0, 0, 0, 0, 0, 0, 0, 0, 0, 0, 0, 0, 0, 0, 0, 0, 0, 0, 0, 0, 0, 0, 0, 0, 0, 0, 0, 0, 0, 0, 0, 0, 0, 0, 0, 0, 1, 0, 0, 0, 0, 0, 0, 0, 0, 0, 0, 0, 0, 0, 0, 0, 0, 0, 0, 0, 0, 0, 0, 0, 0, 0, 0, 0, 0, 0, 0, 0, 0, 0, 0, 0, 0, 0, 0, 0, 0, 0, 0, 0, 0, 0, 0, 0, 0, 0, 0, 0, 0, 0, 0, 0, 0, 0, 0, 0, 0, 0, 0, 0, 0, 0, 0, 0, 0, 0, 0, 0, 0, 0, 0, 0, 0, 0, 0, 0, 0, 0, 0, 0, 0, 0, 0, 0, 0, 0, 0, 0, 0, 0, 0, 0, 0, 0, 0, 0, 0, 0, 0, 0, 0, 0, 0, 0, 0, 0, 0, 0, 0, 0, 0, 0, 0, 0, 0, 0, 0, 0, 0, 0, 0, 0, 0, 0, 0, 0, 0, 0, 0, 0, 0, 0, 0, 0, 0, 0, 0, 0, 0, 0, 0, 0, 0, 0, 0, 0, 0, 0, 0, 0, 0, 0, 0, 0, 0, 0, 0, 0, 0, 0, 0, 0, 0, 0, 0, 0, 0, 0, 0, 0, 0, 0, 0, 0, 0, 0, 0, 0, 0, 0, 0, 0, 0, 0, 0, 0, 0, 0, 0, 0, 0, 0, 0, 0, 0, 0, 0, 0, 0, 0, 0, 0, 0, 0, 0, 0, 0, 0, 0, 0, 0, 0, 0, 0, 0, 0, 0, 0, 0, 0, 0, 0, 0, 0, 0, 0, 0, 0, 0, 0, 0, 0, 0, 0, 0, 0, 0, 0, 0, 0, 0, 0, 0, 0, 0, 0, 0, 0, 0, 0, 0, 0, 0, 0, 0, 0, 0, 0, 0, 0, 0, 0, 0, 0, 0, 0, 0, 0, 0, 0, 0, 0, 0, 0, 0, 0, 0, 0, 0, 0, 0, 0, 0, 0, 0, 0, 0, 0, 0, 0, 0, 0, 0, 0, 0, 0, 0, 0, 0, 0, 0, 0, 0, 0, 0, 0, 0, 0, 0, 0, 0, 0, 0, 0, 0, 0, 0, 0, 0, 0, 0, 0, 0, 0, 0, 0, 0, 0, 0, 0, 0, 0, 0, 0, 0, 0, 0, 0, 0, 0, 0, 0, 0, 0, 0, 0, 0, 0, 0, 0, 0, 0, 0, 0, 0, 0, 0, 0, 0, 0, 0, 0, 0, 0, 0, 0, 0, 0, 0, 0, 0, 0, 0, 0, 0, 0, 0, 0, 0, 0, 0, 0, 0, 0, 0, 0, 0, 0, 0, 0, 0, 0, 0, 0, 0, 0, 0, 0, 0, 0, 0, 0, 0, 0, 0, 0, 0, 0, 0, 0, 0, 0, 0, 0, 0, 0, 0, 0, 0, 0, 0, 0, 0, 0, 0, 0, 0, 0, 0, 0, 0, 0, 0, 0, 0, 0, 0, 0, 0, 0, 0, 0, 0, 0, 0, 0, 0, 0, 0, 0, 0, 0, 0, 0, 0, 0, 0, 0, 0, 0, 2, 0, 1, 0]\n"
     ]
    }
   ],
   "source": [
    "test_bow = bow_encoding(test_words, vocabulary)\n",
    "print(test_bow)"
   ]
  },
  {
   "cell_type": "code",
   "execution_count": 41,
   "metadata": {},
   "outputs": [
    {
     "data": {
      "text/plain": [
       "5000"
      ]
     },
     "execution_count": 41,
     "metadata": {},
     "output_type": "execute_result"
    }
   ],
   "source": [
    "len(test_bow)  # remember we declare vocabulary_size=5000 in function extract_BoW_features prototype"
   ]
  },
  {
   "cell_type": "markdown",
   "metadata": {},
   "source": [
    "So now we know how to construct a bag of words encoding of a user provided review, how to we send it to our endpoint? First, we need to start the endpoint back up."
   ]
  },
  {
   "cell_type": "code",
   "execution_count": 42,
   "metadata": {},
   "outputs": [
    {
     "name": "stderr",
     "output_type": "stream",
     "text": [
      "WARNING:sagemaker:Using already existing model: xgboost-2020-05-25-18-04-19-536\n"
     ]
    },
    {
     "name": "stdout",
     "output_type": "stream",
     "text": [
      "-------------!"
     ]
    }
   ],
   "source": [
    "# restart the model we stopped before step 7\n",
    "xgb_predictor = xgb.deploy(initial_instance_count = 1, instance_type = 'ml.m4.xlarge')"
   ]
  },
  {
   "cell_type": "markdown",
   "metadata": {},
   "source": [
    "At this point we could just do the same thing that we did earlier when we tested our deployed model and send `test_bow` to our endpoint using the `xgb_predictor` object. However, when we eventually construct our Lambda function we won't have access to this object, so how do we call a SageMaker endpoint?\n",
    "\n",
    "It turns out that Python functions that are used in Lambda have access to another Amazon library called `boto3`. This library provides an API for working with Amazon services, including SageMaker. To start with, we need to get a handle to the SageMaker runtime."
   ]
  },
  {
   "cell_type": "code",
   "execution_count": 43,
   "metadata": {},
   "outputs": [],
   "source": [
    "import boto3\n",
    "\n",
    "# Lecture Note: get an object which points to the SageMaker runtime\n",
    "runtime = boto3.Session().client('sagemaker-runtime')"
   ]
  },
  {
   "cell_type": "markdown",
   "metadata": {},
   "source": [
    "And now that we have access to the SageMaker runtime, we can ask it to make use of (invoke) an endpoint that has already been created. However, we need to provide SageMaker with the name of the deployed endpoint. To find this out we can print it out using the `xgb_predictor` object."
   ]
  },
  {
   "cell_type": "code",
   "execution_count": 44,
   "metadata": {},
   "outputs": [
    {
     "data": {
      "text/plain": [
       "'xgboost-2020-05-25-18-04-19-536'"
      ]
     },
     "execution_count": 44,
     "metadata": {},
     "output_type": "execute_result"
    }
   ],
   "source": [
    "xgb_predictor.endpoint"
   ]
  },
  {
   "cell_type": "markdown",
   "metadata": {},
   "source": [
    "Using the SageMaker runtime and the name of our endpoint, we can invoke the endpoint and send it the `test_bow` data."
   ]
  },
  {
   "cell_type": "code",
   "execution_count": 45,
   "metadata": {},
   "outputs": [
    {
     "ename": "ParamValidationError",
     "evalue": "Parameter validation failed:\nInvalid type for parameter Body, value: [0, 0, 0, 0, 0, 0, 0, 0, 0, 0, 0, 0, 0, 0, 0, 0, 0, 0, 0, 0, 0, 0, 0, 0, 0, 0, 0, 0, 0, 0, 0, 0, 0, 0, 0, 0, 0, 0, 0, 0, 0, 0, 0, 0, 0, 0, 0, 0, 0, 0, 0, 0, 0, 0, 0, 0, 0, 0, 0, 0, 0, 0, 0, 0, 0, 0, 0, 0, 0, 0, 0, 0, 0, 0, 0, 0, 0, 0, 0, 0, 0, 0, 0, 0, 0, 0, 0, 0, 0, 0, 0, 0, 0, 0, 0, 0, 0, 0, 0, 0, 0, 0, 0, 0, 0, 0, 0, 0, 0, 0, 0, 0, 0, 0, 0, 0, 0, 0, 0, 0, 0, 0, 0, 0, 0, 0, 0, 0, 0, 0, 0, 0, 0, 0, 0, 0, 0, 0, 0, 0, 0, 0, 0, 0, 0, 0, 0, 0, 0, 0, 0, 0, 0, 0, 0, 0, 0, 0, 0, 0, 0, 0, 0, 0, 0, 0, 0, 0, 0, 0, 0, 0, 0, 0, 0, 0, 0, 0, 0, 0, 0, 0, 0, 0, 0, 0, 0, 0, 0, 0, 0, 0, 0, 0, 0, 0, 0, 0, 0, 0, 0, 0, 0, 0, 0, 0, 0, 0, 0, 0, 0, 0, 0, 0, 0, 0, 0, 0, 0, 0, 0, 0, 0, 0, 0, 0, 1, 0, 0, 0, 0, 0, 0, 0, 0, 0, 0, 0, 0, 0, 0, 0, 0, 0, 0, 0, 0, 0, 0, 0, 0, 0, 0, 0, 0, 0, 1, 0, 0, 0, 0, 0, 0, 0, 0, 0, 0, 0, 0, 0, 0, 0, 0, 0, 0, 0, 0, 0, 0, 0, 0, 0, 0, 0, 0, 0, 0, 0, 0, 0, 0, 0, 0, 0, 0, 0, 0, 0, 0, 0, 0, 0, 0, 0, 0, 0, 0, 0, 0, 0, 0, 0, 0, 0, 0, 0, 0, 0, 0, 0, 0, 0, 0, 0, 0, 0, 0, 0, 0, 0, 0, 0, 0, 0, 0, 0, 0, 0, 0, 0, 0, 0, 0, 0, 0, 0, 0, 0, 0, 0, 0, 0, 0, 0, 0, 0, 0, 0, 0, 0, 0, 0, 0, 0, 0, 0, 0, 0, 0, 0, 0, 0, 0, 0, 0, 0, 0, 0, 0, 0, 0, 0, 0, 0, 0, 0, 0, 0, 0, 0, 0, 0, 0, 0, 0, 0, 0, 0, 0, 0, 0, 0, 0, 0, 0, 0, 0, 0, 0, 0, 0, 0, 0, 0, 0, 0, 0, 0, 0, 0, 0, 0, 0, 0, 0, 0, 0, 0, 0, 0, 0, 0, 0, 0, 0, 0, 0, 0, 0, 0, 0, 0, 0, 0, 0, 0, 0, 0, 0, 0, 0, 0, 0, 0, 0, 0, 0, 0, 0, 0, 0, 0, 0, 0, 0, 0, 0, 0, 0, 0, 0, 0, 0, 0, 0, 0, 0, 0, 0, 0, 0, 0, 0, 0, 0, 0, 0, 0, 0, 0, 0, 0, 0, 0, 0, 0, 0, 0, 0, 0, 0, 0, 0, 0, 0, 0, 0, 0, 0, 0, 0, 0, 0, 0, 0, 0, 0, 0, 0, 0, 0, 0, 0, 0, 0, 0, 0, 0, 0, 0, 0, 0, 0, 0, 0, 0, 0, 0, 0, 0, 0, 0, 0, 0, 0, 0, 0, 0, 0, 0, 0, 0, 0, 0, 0, 0, 0, 0, 0, 0, 0, 0, 0, 0, 0, 0, 0, 0, 0, 0, 0, 0, 0, 0, 0, 0, 0, 0, 0, 0, 0, 0, 0, 0, 0, 0, 0, 0, 0, 0, 0, 0, 0, 0, 0, 0, 0, 0, 0, 0, 0, 0, 0, 0, 0, 0, 0, 0, 0, 0, 0, 0, 0, 0, 0, 0, 0, 0, 0, 0, 0, 0, 0, 0, 0, 0, 0, 0, 0, 0, 0, 0, 0, 0, 0, 0, 1, 0, 0, 0, 0, 0, 0, 0, 0, 0, 0, 0, 0, 0, 0, 0, 0, 0, 0, 0, 0, 0, 0, 0, 0, 0, 0, 0, 0, 0, 0, 0, 0, 0, 0, 0, 0, 0, 0, 0, 0, 0, 0, 0, 0, 0, 0, 0, 0, 0, 0, 0, 0, 0, 0, 0, 0, 0, 0, 0, 0, 0, 0, 0, 0, 0, 0, 0, 0, 0, 0, 0, 0, 0, 0, 0, 0, 0, 0, 0, 0, 0, 0, 0, 0, 0, 0, 0, 0, 0, 0, 0, 0, 0, 0, 0, 0, 0, 0, 0, 0, 0, 0, 0, 0, 0, 0, 0, 0, 0, 0, 0, 0, 0, 0, 0, 0, 0, 0, 0, 0, 0, 0, 0, 0, 0, 0, 0, 0, 0, 0, 0, 0, 0, 0, 0, 0, 0, 0, 0, 0, 0, 0, 0, 0, 0, 0, 0, 0, 0, 0, 0, 0, 0, 0, 0, 0, 0, 0, 0, 0, 0, 0, 0, 0, 0, 0, 0, 0, 0, 0, 0, 0, 0, 0, 0, 0, 0, 0, 0, 0, 0, 0, 0, 0, 0, 0, 0, 0, 0, 0, 0, 0, 0, 0, 0, 0, 0, 0, 0, 0, 0, 0, 0, 0, 0, 0, 0, 0, 0, 0, 0, 0, 0, 0, 0, 0, 0, 0, 0, 0, 0, 0, 0, 0, 0, 0, 0, 0, 0, 0, 0, 0, 0, 0, 0, 0, 0, 0, 0, 0, 0, 0, 0, 0, 0, 0, 0, 0, 0, 0, 0, 0, 0, 1, 0, 0, 0, 0, 0, 0, 0, 0, 0, 0, 0, 0, 0, 0, 0, 0, 0, 0, 0, 0, 0, 0, 0, 0, 0, 0, 0, 0, 0, 0, 0, 0, 0, 0, 0, 0, 0, 0, 0, 0, 0, 0, 0, 0, 0, 0, 0, 0, 0, 0, 0, 0, 0, 0, 0, 0, 0, 0, 0, 0, 0, 0, 0, 0, 0, 0, 0, 0, 0, 0, 0, 0, 0, 0, 0, 0, 0, 0, 0, 0, 0, 0, 0, 0, 0, 0, 1, 0, 0, 0, 0, 0, 0, 0, 0, 0, 0, 0, 0, 0, 0, 0, 0, 0, 0, 0, 0, 0, 0, 0, 0, 0, 0, 0, 0, 0, 0, 0, 0, 0, 0, 0, 0, 0, 0, 0, 0, 0, 0, 0, 0, 0, 0, 0, 0, 0, 0, 0, 0, 0, 0, 0, 0, 0, 0, 0, 0, 0, 0, 0, 0, 0, 0, 0, 0, 0, 0, 0, 0, 0, 0, 0, 0, 0, 0, 0, 0, 0, 0, 0, 0, 0, 0, 0, 0, 0, 0, 0, 0, 0, 0, 0, 0, 0, 0, 0, 0, 0, 0, 0, 0, 0, 0, 0, 0, 0, 0, 0, 0, 0, 0, 0, 0, 0, 0, 0, 0, 0, 0, 0, 0, 0, 0, 0, 0, 0, 0, 0, 0, 0, 0, 0, 0, 0, 0, 0, 0, 0, 0, 0, 0, 0, 0, 0, 0, 0, 0, 0, 0, 0, 0, 0, 0, 0, 0, 0, 0, 0, 0, 0, 0, 0, 0, 0, 0, 0, 0, 0, 0, 0, 0, 0, 0, 0, 0, 0, 0, 0, 0, 0, 0, 0, 0, 0, 0, 0, 0, 0, 0, 0, 0, 0, 0, 0, 0, 0, 0, 0, 0, 0, 0, 0, 0, 0, 0, 0, 0, 0, 0, 0, 0, 0, 0, 0, 0, 0, 0, 0, 0, 0, 0, 0, 0, 0, 0, 0, 0, 0, 0, 0, 0, 0, 0, 0, 0, 0, 0, 0, 0, 0, 0, 0, 0, 0, 0, 0, 0, 0, 0, 1, 0, 0, 0, 0, 0, 0, 0, 0, 0, 0, 0, 0, 0, 0, 0, 0, 0, 0, 0, 0, 0, 0, 0, 0, 0, 0, 0, 0, 0, 0, 0, 0, 0, 0, 0, 0, 0, 0, 0, 0, 0, 0, 0, 0, 0, 0, 0, 0, 0, 0, 0, 0, 0, 0, 0, 1, 0, 0, 0, 0, 0, 0, 0, 0, 0, 0, 0, 0, 0, 0, 0, 0, 0, 0, 0, 0, 0, 0, 0, 0, 0, 0, 0, 0, 0, 0, 0, 0, 0, 0, 0, 0, 0, 0, 0, 0, 0, 0, 0, 0, 0, 0, 0, 0, 0, 0, 0, 0, 0, 0, 0, 0, 0, 0, 0, 0, 0, 0, 0, 0, 0, 0, 0, 0, 0, 0, 0, 0, 0, 0, 0, 0, 0, 0, 0, 0, 0, 0, 0, 0, 0, 0, 0, 0, 0, 0, 0, 0, 0, 0, 0, 0, 0, 0, 0, 0, 0, 0, 0, 0, 0, 0, 0, 0, 0, 0, 0, 0, 0, 0, 0, 0, 0, 0, 0, 0, 0, 0, 0, 0, 0, 0, 0, 0, 0, 0, 0, 0, 0, 0, 0, 0, 0, 0, 0, 0, 0, 0, 0, 0, 0, 0, 0, 0, 0, 0, 0, 0, 0, 0, 0, 0, 0, 0, 0, 0, 0, 0, 0, 0, 0, 0, 0, 0, 0, 0, 0, 0, 0, 0, 0, 0, 0, 0, 0, 0, 0, 0, 0, 0, 0, 0, 0, 0, 0, 0, 0, 0, 0, 0, 0, 0, 0, 0, 0, 0, 0, 0, 0, 0, 0, 0, 0, 0, 0, 0, 0, 0, 0, 0, 0, 0, 0, 0, 0, 0, 0, 0, 0, 0, 0, 0, 0, 0, 0, 0, 0, 0, 0, 0, 0, 0, 0, 0, 0, 0, 0, 0, 0, 0, 0, 0, 0, 0, 0, 0, 0, 0, 0, 0, 0, 0, 0, 0, 0, 0, 0, 0, 0, 0, 0, 0, 0, 0, 0, 0, 0, 0, 0, 0, 0, 0, 0, 0, 0, 0, 0, 0, 0, 0, 0, 0, 0, 0, 0, 0, 0, 0, 0, 0, 0, 0, 0, 0, 0, 0, 0, 0, 0, 0, 0, 0, 0, 0, 0, 0, 0, 0, 0, 0, 0, 0, 0, 0, 0, 0, 0, 0, 0, 0, 0, 0, 0, 0, 0, 0, 0, 0, 0, 0, 0, 0, 0, 0, 0, 0, 0, 0, 0, 0, 0, 0, 0, 0, 0, 0, 0, 0, 0, 0, 0, 0, 0, 0, 0, 0, 0, 0, 0, 0, 0, 0, 0, 0, 0, 0, 0, 0, 0, 0, 0, 0, 0, 0, 0, 0, 0, 0, 0, 0, 0, 0, 0, 0, 0, 0, 0, 0, 0, 0, 0, 0, 0, 0, 0, 0, 0, 0, 0, 0, 0, 0, 0, 0, 0, 0, 0, 0, 0, 0, 0, 0, 0, 0, 0, 0, 0, 0, 0, 0, 0, 0, 0, 0, 0, 0, 0, 0, 0, 0, 0, 0, 0, 0, 0, 0, 0, 0, 0, 0, 0, 0, 0, 0, 0, 0, 0, 0, 0, 0, 0, 0, 0, 0, 0, 0, 0, 0, 0, 0, 0, 0, 0, 0, 0, 0, 0, 0, 0, 0, 0, 0, 0, 0, 0, 0, 0, 0, 0, 0, 0, 0, 0, 0, 0, 0, 0, 0, 0, 0, 0, 0, 0, 0, 0, 0, 0, 0, 0, 0, 0, 0, 0, 0, 0, 0, 0, 0, 0, 0, 0, 0, 0, 0, 0, 0, 0, 0, 0, 0, 0, 0, 0, 0, 0, 0, 0, 0, 0, 0, 0, 0, 0, 0, 0, 0, 0, 0, 0, 0, 0, 0, 0, 0, 0, 0, 0, 0, 0, 0, 0, 0, 0, 0, 0, 0, 0, 0, 0, 0, 0, 0, 0, 0, 0, 0, 0, 0, 0, 0, 0, 0, 0, 0, 0, 0, 0, 0, 0, 0, 0, 0, 0, 0, 0, 0, 0, 0, 0, 0, 0, 0, 0, 0, 0, 0, 0, 0, 0, 0, 0, 0, 0, 0, 0, 0, 0, 0, 0, 0, 0, 0, 0, 0, 0, 0, 0, 0, 0, 0, 0, 0, 0, 0, 0, 0, 0, 0, 0, 0, 0, 0, 0, 0, 0, 0, 0, 0, 0, 0, 0, 0, 0, 0, 0, 0, 0, 0, 0, 0, 0, 0, 0, 0, 0, 0, 0, 0, 0, 0, 0, 0, 0, 0, 0, 0, 0, 0, 0, 0, 0, 0, 0, 0, 0, 0, 0, 1, 0, 0, 0, 0, 0, 0, 0, 0, 0, 0, 0, 0, 0, 0, 0, 0, 0, 0, 0, 0, 0, 0, 0, 0, 0, 0, 0, 0, 0, 0, 0, 0, 0, 0, 0, 0, 0, 0, 0, 0, 0, 0, 0, 0, 0, 0, 0, 0, 0, 0, 0, 0, 0, 0, 0, 0, 0, 0, 0, 0, 0, 0, 0, 0, 0, 0, 0, 0, 0, 0, 0, 0, 0, 0, 1, 0, 0, 0, 0, 0, 0, 0, 0, 0, 0, 0, 0, 0, 0, 0, 0, 0, 0, 0, 0, 1, 0, 0, 1, 0, 0, 0, 0, 0, 0, 0, 0, 0, 0, 0, 0, 0, 0, 0, 0, 0, 0, 0, 0, 0, 0, 0, 0, 0, 0, 0, 0, 0, 0, 0, 0, 0, 0, 0, 0, 0, 0, 0, 0, 0, 0, 0, 0, 0, 0, 0, 0, 0, 0, 0, 0, 0, 0, 0, 0, 0, 0, 0, 0, 0, 0, 0, 0, 0, 0, 0, 0, 0, 0, 0, 0, 0, 0, 0, 0, 0, 0, 0, 0, 0, 0, 0, 0, 0, 0, 0, 0, 0, 0, 0, 0, 0, 0, 0, 0, 0, 0, 0, 0, 0, 0, 0, 0, 0, 0, 0, 0, 0, 0, 0, 0, 0, 0, 0, 0, 0, 0, 0, 0, 0, 0, 0, 0, 0, 0, 0, 0, 0, 0, 0, 0, 0, 0, 0, 0, 0, 0, 0, 0, 0, 0, 0, 0, 0, 0, 0, 0, 0, 0, 0, 0, 0, 0, 0, 0, 0, 0, 0, 0, 0, 0, 0, 0, 0, 0, 0, 0, 0, 0, 0, 0, 0, 0, 0, 0, 0, 0, 0, 0, 0, 0, 0, 0, 0, 0, 0, 0, 0, 0, 0, 0, 0, 0, 0, 0, 0, 0, 0, 0, 0, 0, 0, 0, 0, 0, 0, 0, 0, 0, 0, 0, 0, 0, 0, 0, 0, 0, 0, 0, 0, 0, 0, 0, 0, 0, 0, 0, 0, 0, 0, 0, 0, 0, 0, 0, 0, 0, 0, 0, 0, 0, 0, 0, 0, 0, 0, 0, 0, 0, 0, 0, 0, 0, 0, 0, 0, 0, 0, 0, 0, 0, 0, 0, 0, 0, 0, 0, 0, 0, 0, 0, 0, 0, 0, 0, 0, 0, 0, 0, 0, 0, 0, 0, 0, 0, 0, 0, 0, 0, 0, 0, 0, 0, 0, 0, 0, 0, 0, 0, 0, 0, 0, 0, 0, 0, 0, 0, 0, 0, 0, 0, 0, 0, 0, 0, 0, 0, 0, 0, 0, 0, 0, 0, 0, 0, 0, 0, 0, 0, 0, 0, 0, 0, 0, 0, 0, 0, 0, 0, 0, 0, 0, 0, 0, 0, 0, 0, 0, 0, 0, 0, 0, 0, 0, 0, 0, 0, 0, 0, 0, 0, 0, 0, 0, 0, 0, 0, 0, 0, 0, 0, 0, 0, 0, 0, 0, 0, 0, 0, 0, 0, 0, 0, 0, 0, 0, 0, 0, 0, 0, 0, 0, 0, 0, 0, 0, 0, 0, 0, 0, 0, 0, 0, 0, 0, 0, 0, 0, 0, 0, 0, 0, 0, 0, 0, 0, 0, 0, 0, 0, 0, 0, 0, 0, 0, 0, 0, 0, 0, 0, 0, 0, 0, 0, 0, 0, 0, 0, 0, 0, 0, 0, 0, 0, 0, 0, 0, 0, 0, 0, 0, 0, 0, 0, 0, 0, 0, 0, 0, 0, 0, 0, 0, 0, 0, 1, 0, 0, 0, 0, 0, 0, 0, 0, 0, 0, 0, 0, 0, 0, 0, 0, 0, 0, 0, 0, 0, 0, 0, 0, 0, 0, 0, 0, 0, 0, 0, 0, 0, 0, 0, 0, 0, 0, 0, 0, 0, 0, 0, 0, 0, 0, 0, 0, 0, 0, 0, 0, 0, 0, 0, 0, 0, 0, 0, 0, 0, 0, 0, 0, 0, 0, 0, 0, 0, 0, 0, 0, 0, 0, 0, 0, 0, 0, 0, 0, 0, 0, 0, 0, 0, 0, 0, 0, 0, 0, 0, 0, 0, 0, 0, 0, 0, 0, 0, 0, 0, 0, 0, 0, 0, 0, 0, 0, 0, 0, 0, 0, 0, 0, 0, 0, 0, 0, 0, 0, 0, 0, 0, 0, 0, 0, 0, 0, 0, 0, 0, 0, 0, 0, 0, 0, 0, 0, 0, 0, 0, 0, 0, 0, 0, 0, 0, 0, 0, 0, 0, 0, 0, 0, 0, 0, 0, 0, 0, 0, 0, 0, 0, 0, 0, 0, 0, 0, 0, 0, 0, 0, 0, 0, 0, 0, 0, 0, 0, 0, 0, 0, 0, 0, 0, 0, 0, 0, 0, 0, 0, 0, 0, 0, 0, 0, 0, 0, 0, 0, 0, 0, 0, 0, 0, 0, 0, 0, 0, 0, 0, 0, 0, 0, 0, 0, 0, 0, 0, 0, 0, 0, 0, 0, 0, 0, 0, 0, 0, 0, 0, 0, 0, 0, 0, 0, 0, 0, 0, 0, 0, 0, 0, 0, 0, 0, 0, 0, 0, 0, 0, 0, 0, 0, 0, 0, 0, 0, 0, 0, 0, 0, 0, 0, 0, 0, 0, 0, 0, 0, 0, 0, 0, 0, 0, 0, 0, 0, 0, 0, 0, 0, 0, 0, 0, 0, 0, 0, 0, 0, 0, 0, 0, 0, 0, 0, 0, 0, 0, 0, 0, 0, 0, 0, 0, 0, 0, 0, 0, 0, 0, 0, 0, 0, 0, 0, 0, 0, 0, 0, 0, 0, 0, 0, 0, 0, 0, 0, 0, 0, 0, 0, 0, 0, 0, 0, 0, 0, 0, 0, 0, 0, 0, 0, 0, 0, 0, 0, 0, 0, 0, 0, 0, 0, 0, 0, 0, 0, 0, 0, 0, 0, 0, 0, 0, 0, 0, 0, 0, 0, 0, 0, 0, 0, 0, 0, 0, 0, 0, 0, 0, 0, 0, 0, 0, 0, 0, 0, 0, 0, 0, 0, 0, 0, 0, 0, 0, 0, 0, 0, 0, 0, 0, 0, 0, 0, 0, 0, 0, 0, 0, 0, 0, 0, 0, 0, 0, 0, 0, 0, 0, 0, 0, 0, 0, 0, 0, 0, 0, 0, 0, 0, 0, 0, 0, 0, 0, 0, 0, 0, 0, 0, 0, 0, 0, 0, 0, 0, 0, 0, 0, 0, 0, 0, 0, 0, 0, 0, 0, 0, 0, 0, 0, 0, 0, 0, 0, 0, 0, 0, 0, 0, 0, 0, 0, 0, 0, 0, 0, 0, 0, 0, 0, 0, 0, 0, 0, 0, 0, 0, 0, 0, 0, 0, 0, 0, 0, 0, 0, 0, 0, 0, 0, 0, 0, 0, 0, 0, 0, 0, 0, 0, 1, 0, 0, 0, 0, 0, 0, 0, 0, 0, 0, 0, 0, 0, 0, 0, 0, 0, 0, 0, 0, 0, 0, 0, 0, 0, 0, 0, 0, 0, 0, 0, 0, 0, 0, 0, 2, 0, 0, 0, 0, 0, 0, 0, 0, 0, 0, 0, 0, 0, 0, 0, 0, 0, 0, 0, 0, 0, 0, 0, 0, 0, 0, 0, 0, 0, 0, 0, 0, 0, 0, 0, 0, 0, 0, 0, 0, 1, 0, 0, 0, 0, 0, 0, 0, 0, 0, 0, 0, 0, 0, 0, 0, 0, 0, 0, 0, 0, 0, 0, 0, 0, 0, 0, 0, 0, 0, 0, 0, 0, 0, 0, 0, 0, 0, 0, 0, 0, 0, 0, 0, 0, 0, 0, 0, 0, 0, 0, 0, 0, 0, 0, 0, 0, 0, 0, 0, 0, 0, 0, 0, 0, 0, 0, 0, 0, 0, 0, 0, 0, 0, 0, 0, 0, 0, 0, 0, 0, 0, 0, 0, 0, 0, 0, 0, 0, 0, 0, 0, 0, 0, 0, 0, 0, 0, 0, 0, 0, 0, 0, 0, 0, 0, 0, 0, 0, 0, 0, 0, 0, 0, 0, 0, 0, 0, 0, 0, 0, 0, 0, 0, 0, 0, 0, 0, 0, 0, 0, 0, 0, 0, 0, 0, 0, 0, 0, 0, 0, 0, 0, 0, 0, 0, 0, 0, 0, 0, 0, 0, 0, 0, 0, 0, 0, 0, 0, 0, 0, 0, 0, 0, 0, 0, 0, 0, 0, 0, 0, 0, 0, 0, 0, 0, 0, 0, 0, 0, 0, 0, 0, 0, 0, 0, 0, 0, 0, 0, 0, 0, 0, 0, 0, 0, 0, 0, 0, 0, 0, 0, 0, 0, 0, 0, 0, 0, 0, 0, 0, 0, 0, 0, 0, 0, 0, 0, 0, 0, 0, 0, 0, 0, 0, 0, 0, 0, 0, 0, 0, 0, 0, 0, 0, 0, 0, 0, 0, 0, 0, 0, 0, 0, 0, 0, 0, 0, 0, 0, 0, 0, 0, 0, 0, 0, 0, 0, 0, 0, 0, 0, 0, 0, 0, 0, 0, 0, 0, 0, 0, 0, 0, 0, 0, 0, 0, 0, 0, 0, 0, 0, 0, 0, 0, 0, 0, 0, 0, 0, 0, 0, 0, 0, 0, 0, 0, 0, 0, 0, 0, 0, 0, 0, 0, 0, 0, 0, 0, 0, 0, 0, 0, 0, 0, 0, 0, 0, 0, 0, 0, 0, 0, 0, 0, 0, 0, 0, 0, 0, 0, 0, 0, 0, 0, 0, 0, 0, 0, 0, 0, 0, 0, 0, 0, 0, 0, 0, 0, 0, 0, 0, 0, 0, 0, 0, 0, 0, 0, 0, 0, 0, 0, 0, 0, 0, 0, 0, 0, 0, 0, 0, 0, 0, 0, 0, 0, 0, 0, 0, 0, 0, 0, 0, 0, 0, 0, 0, 0, 0, 0, 0, 0, 0, 0, 0, 0, 0, 0, 0, 0, 0, 0, 0, 0, 0, 0, 0, 0, 0, 0, 0, 0, 0, 0, 0, 0, 0, 0, 0, 0, 0, 0, 0, 0, 0, 0, 0, 0, 0, 0, 0, 0, 0, 0, 0, 0, 0, 0, 0, 0, 0, 0, 0, 0, 0, 0, 0, 0, 0, 0, 0, 0, 0, 0, 0, 0, 0, 0, 0, 0, 0, 0, 0, 0, 0, 0, 0, 0, 0, 0, 0, 0, 0, 0, 0, 0, 0, 0, 0, 0, 0, 0, 0, 0, 0, 0, 0, 0, 0, 0, 0, 0, 0, 0, 0, 0, 0, 1, 0, 0, 0, 0, 0, 0, 0, 0, 0, 0, 0, 0, 0, 0, 0, 0, 0, 0, 0, 0, 0, 0, 0, 0, 0, 0, 0, 0, 0, 0, 0, 0, 0, 0, 0, 0, 0, 0, 0, 0, 0, 0, 0, 0, 0, 0, 0, 0, 0, 0, 0, 0, 0, 0, 0, 0, 0, 0, 0, 0, 0, 0, 0, 0, 0, 0, 0, 0, 0, 0, 0, 0, 0, 0, 0, 0, 0, 0, 0, 0, 0, 0, 0, 0, 0, 0, 0, 0, 0, 0, 0, 0, 0, 0, 0, 0, 0, 0, 0, 0, 0, 0, 0, 0, 0, 0, 0, 0, 0, 0, 2, 0, 0, 0, 0, 0, 0, 0, 0, 0, 0, 0, 0, 0, 0, 0, 0, 0, 0, 0, 0, 0, 0, 0, 0, 0, 0, 0, 0, 0, 0, 0, 0, 0, 0, 0, 0, 0, 0, 0, 0, 0, 0, 0, 0, 0, 0, 0, 0, 0, 0, 0, 0, 0, 0, 0, 0, 0, 0, 0, 0, 0, 0, 0, 0, 0, 0, 0, 0, 0, 0, 0, 0, 0, 0, 0, 0, 0, 0, 0, 0, 0, 0, 0, 0, 0, 0, 0, 0, 0, 0, 0, 0, 0, 0, 0, 0, 0, 0, 0, 0, 0, 0, 0, 0, 0, 0, 0, 0, 0, 0, 0, 0, 0, 0, 0, 0, 0, 0, 0, 0, 0, 0, 0, 0, 0, 0, 0, 0, 0, 0, 0, 0, 0, 0, 0, 0, 0, 0, 0, 0, 0, 0, 0, 0, 0, 0, 0, 0, 0, 0, 0, 0, 0, 0, 0, 0, 0, 0, 0, 0, 0, 0, 0, 0, 0, 0, 0, 0, 0, 0, 0, 0, 0, 0, 0, 0, 0, 0, 0, 0, 0, 0, 0, 0, 0, 0, 0, 0, 0, 0, 0, 0, 0, 0, 0, 0, 0, 0, 0, 0, 0, 0, 0, 0, 0, 0, 0, 0, 0, 0, 0, 0, 0, 0, 0, 0, 0, 0, 0, 0, 0, 0, 0, 0, 0, 0, 0, 0, 0, 0, 0, 0, 0, 0, 0, 0, 0, 0, 0, 0, 0, 0, 0, 0, 0, 0, 0, 0, 0, 0, 0, 0, 0, 0, 0, 0, 0, 0, 0, 0, 0, 0, 0, 0, 0, 0, 0, 0, 0, 0, 0, 0, 0, 0, 0, 0, 0, 0, 0, 0, 0, 0, 0, 0, 0, 0, 0, 0, 0, 0, 0, 0, 0, 0, 0, 0, 0, 0, 0, 0, 0, 0, 0, 0, 0, 0, 0, 0, 0, 0, 0, 0, 0, 0, 0, 0, 0, 0, 0, 0, 0, 0, 0, 0, 0, 0, 0, 0, 0, 0, 0, 0, 0, 0, 0, 0, 0, 0, 0, 0, 0, 0, 0, 0, 0, 0, 0, 0, 0, 0, 0, 0, 0, 0, 0, 0, 0, 0, 0, 0, 0, 0, 0, 0, 0, 0, 0, 0, 0, 0, 0, 0, 0, 0, 0, 0, 0, 0, 0, 0, 0, 0, 0, 0, 0, 0, 0, 0, 0, 0, 0, 0, 0, 0, 0, 0, 0, 0, 0, 0, 0, 0, 0, 0, 0, 0, 0, 0, 0, 0, 0, 0, 0, 0, 0, 0, 0, 0, 0, 0, 0, 0, 0, 0, 0, 0, 0, 0, 0, 0, 0, 0, 0, 0, 0, 0, 0, 0, 0, 0, 0, 0, 0, 0, 0, 0, 0, 0, 0, 0, 0, 0, 0, 0, 0, 0, 0, 0, 0, 0, 0, 0, 0, 0, 0, 0, 0, 0, 0, 0, 0, 0, 0, 0, 0, 0, 0, 0, 0, 0, 0, 0, 0, 0, 0, 0, 0, 0, 0, 0, 0, 0, 0, 0, 0, 0, 0, 0, 0, 0, 0, 0, 0, 0, 0, 0, 0, 0, 0, 0, 0, 0, 0, 0, 0, 0, 0, 0, 0, 0, 0, 0, 0, 0, 0, 0, 0, 0, 0, 0, 0, 0, 0, 0, 0, 0, 0, 0, 0, 0, 0, 0, 0, 0, 0, 0, 0, 0, 0, 0, 0, 0, 0, 0, 0, 0, 0, 0, 0, 0, 0, 0, 0, 0, 0, 0, 0, 0, 0, 0, 0, 0, 0, 0, 0, 0, 0, 0, 0, 0, 0, 0, 0, 0, 0, 0, 0, 0, 0, 0, 0, 0, 0, 0, 0, 0, 0, 0, 0, 0, 0, 0, 0, 0, 0, 0, 0, 0, 0, 0, 0, 0, 0, 0, 0, 0, 0, 0, 0, 0, 0, 0, 0, 0, 0, 0, 0, 0, 0, 0, 0, 0, 0, 0, 0, 0, 0, 0, 0, 0, 0, 0, 0, 0, 0, 0, 0, 0, 0, 0, 0, 0, 0, 0, 0, 0, 0, 0, 0, 0, 0, 0, 0, 0, 0, 0, 0, 0, 0, 0, 0, 0, 0, 0, 0, 0, 0, 0, 0, 0, 0, 0, 0, 0, 0, 0, 0, 0, 0, 0, 1, 0, 0, 0, 0, 0, 0, 0, 0, 0, 0, 0, 0, 0, 0, 0, 0, 0, 0, 0, 0, 0, 0, 0, 0, 0, 0, 0, 0, 0, 0, 0, 0, 0, 0, 0, 0, 0, 0, 0, 0, 0, 0, 0, 0, 0, 0, 0, 0, 0, 0, 0, 0, 0, 0, 0, 0, 0, 0, 0, 0, 0, 0, 0, 0, 0, 0, 0, 0, 0, 0, 0, 0, 0, 0, 0, 0, 0, 0, 0, 0, 0, 0, 0, 0, 0, 0, 0, 0, 0, 0, 0, 0, 0, 0, 0, 0, 0, 0, 0, 0, 0, 0, 0, 0, 0, 0, 0, 1, 0, 0, 0, 0, 0, 0, 0, 0, 0, 0, 0, 0, 0, 0, 0, 0, 0, 0, 0, 0, 0, 0, 0, 0, 0, 0, 0, 0, 0, 0, 0, 0, 0, 0, 0, 0, 0, 0, 0, 0, 0, 0, 0, 0, 0, 0, 0, 0, 0, 0, 0, 0, 0, 0, 0, 0, 0, 0, 0, 0, 0, 0, 0, 0, 0, 0, 0, 0, 0, 0, 0, 0, 0, 0, 0, 0, 0, 0, 0, 0, 0, 0, 0, 0, 0, 0, 0, 0, 0, 0, 0, 0, 0, 0, 0, 0, 0, 0, 0, 0, 0, 0, 0, 0, 0, 0, 0, 0, 0, 0, 0, 0, 0, 0, 0, 0, 0, 0, 0, 0, 0, 0, 0, 0, 0, 0, 0, 0, 0, 0, 0, 0, 0, 0, 0, 0, 0, 0, 0, 0, 0, 0, 0, 0, 0, 0, 0, 0, 0, 0, 0, 0, 0, 0, 0, 0, 0, 0, 0, 0, 0, 0, 0, 0, 0, 0, 0, 0, 0, 0, 0, 0, 0, 0, 0, 0, 0, 0, 0, 0, 0, 0, 0, 0, 0, 0, 0, 0, 0, 0, 0, 0, 0, 0, 0, 0, 0, 0, 0, 0, 0, 0, 0, 0, 0, 0, 0, 0, 0, 0, 0, 0, 0, 0, 0, 0, 0, 0, 0, 0, 0, 0, 0, 0, 0, 0, 0, 0, 0, 0, 0, 0, 0, 0, 0, 0, 0, 0, 0, 0, 0, 0, 0, 0, 0, 0, 0, 0, 0, 0, 0, 0, 0, 0, 0, 0, 0, 0, 0, 0, 0, 0, 0, 0, 0, 0, 0, 0, 0, 0, 0, 0, 0, 0, 0, 0, 0, 0, 0, 0, 0, 0, 0, 0, 0, 0, 0, 0, 0, 0, 0, 0, 0, 0, 0, 0, 0, 0, 0, 0, 0, 0, 0, 0, 0, 0, 0, 0, 0, 0, 0, 0, 0, 0, 0, 0, 0, 0, 0, 0, 0, 0, 0, 0, 0, 0, 0, 0, 0, 0, 0, 0, 0, 0, 0, 0, 0, 0, 0, 0, 0, 0, 0, 0, 0, 0, 0, 0, 0, 0, 0, 0, 0, 0, 0, 0, 0, 0, 0, 0, 0, 0, 0, 0, 0, 0, 0, 0, 0, 0, 0, 0, 0, 0, 0, 0, 0, 0, 0, 0, 0, 0, 0, 0, 0, 0, 0, 0, 0, 0, 0, 0, 0, 0, 0, 0, 0, 0, 0, 0, 0, 0, 0, 0, 0, 0, 0, 0, 0, 0, 0, 0, 0, 0, 0, 0, 0, 0, 0, 0, 0, 0, 0, 0, 0, 0, 0, 0, 0, 0, 0, 0, 0, 0, 0, 0, 0, 0, 0, 0, 0, 0, 0, 0, 0, 0, 0, 0, 0, 0, 0, 0, 0, 0, 0, 0, 0, 0, 0, 0, 0, 0, 0, 2, 0, 1, 0], type: <class 'list'>, valid types: <class 'bytes'>, <class 'bytearray'>, file-like object",
     "output_type": "error",
     "traceback": [
      "\u001b[0;31m---------------------------------------------------------------------------\u001b[0m",
      "\u001b[0;31mParamValidationError\u001b[0m                      Traceback (most recent call last)",
      "\u001b[0;32m<ipython-input-45-d7def32698a4>\u001b[0m in \u001b[0;36m<module>\u001b[0;34m()\u001b[0m\n\u001b[1;32m      2\u001b[0m response = runtime.invoke_endpoint(EndpointName = xgb_predictor.endpoint, # The name of the endpoint we created\n\u001b[1;32m      3\u001b[0m                                        \u001b[0mContentType\u001b[0m \u001b[0;34m=\u001b[0m \u001b[0;34m'text/csv'\u001b[0m\u001b[0;34m,\u001b[0m                     \u001b[0;31m# The data format that is expected\u001b[0m\u001b[0;34m\u001b[0m\u001b[0m\n\u001b[0;32m----> 4\u001b[0;31m                                        Body = test_bow)\n\u001b[0m",
      "\u001b[0;32m~/anaconda3/envs/python3/lib/python3.6/site-packages/botocore/client.py\u001b[0m in \u001b[0;36m_api_call\u001b[0;34m(self, *args, **kwargs)\u001b[0m\n\u001b[1;32m    314\u001b[0m                     \"%s() only accepts keyword arguments.\" % py_operation_name)\n\u001b[1;32m    315\u001b[0m             \u001b[0;31m# The \"self\" in this scope is referring to the BaseClient.\u001b[0m\u001b[0;34m\u001b[0m\u001b[0;34m\u001b[0m\u001b[0m\n\u001b[0;32m--> 316\u001b[0;31m             \u001b[0;32mreturn\u001b[0m \u001b[0mself\u001b[0m\u001b[0;34m.\u001b[0m\u001b[0m_make_api_call\u001b[0m\u001b[0;34m(\u001b[0m\u001b[0moperation_name\u001b[0m\u001b[0;34m,\u001b[0m \u001b[0mkwargs\u001b[0m\u001b[0;34m)\u001b[0m\u001b[0;34m\u001b[0m\u001b[0m\n\u001b[0m\u001b[1;32m    317\u001b[0m \u001b[0;34m\u001b[0m\u001b[0m\n\u001b[1;32m    318\u001b[0m         \u001b[0m_api_call\u001b[0m\u001b[0;34m.\u001b[0m\u001b[0m__name__\u001b[0m \u001b[0;34m=\u001b[0m \u001b[0mstr\u001b[0m\u001b[0;34m(\u001b[0m\u001b[0mpy_operation_name\u001b[0m\u001b[0;34m)\u001b[0m\u001b[0;34m\u001b[0m\u001b[0m\n",
      "\u001b[0;32m~/anaconda3/envs/python3/lib/python3.6/site-packages/botocore/client.py\u001b[0m in \u001b[0;36m_make_api_call\u001b[0;34m(self, operation_name, api_params)\u001b[0m\n\u001b[1;32m    597\u001b[0m         }\n\u001b[1;32m    598\u001b[0m         request_dict = self._convert_to_request_dict(\n\u001b[0;32m--> 599\u001b[0;31m             api_params, operation_model, context=request_context)\n\u001b[0m\u001b[1;32m    600\u001b[0m \u001b[0;34m\u001b[0m\u001b[0m\n\u001b[1;32m    601\u001b[0m         \u001b[0mservice_id\u001b[0m \u001b[0;34m=\u001b[0m \u001b[0mself\u001b[0m\u001b[0;34m.\u001b[0m\u001b[0m_service_model\u001b[0m\u001b[0;34m.\u001b[0m\u001b[0mservice_id\u001b[0m\u001b[0;34m.\u001b[0m\u001b[0mhyphenize\u001b[0m\u001b[0;34m(\u001b[0m\u001b[0;34m)\u001b[0m\u001b[0;34m\u001b[0m\u001b[0m\n",
      "\u001b[0;32m~/anaconda3/envs/python3/lib/python3.6/site-packages/botocore/client.py\u001b[0m in \u001b[0;36m_convert_to_request_dict\u001b[0;34m(self, api_params, operation_model, context)\u001b[0m\n\u001b[1;32m    645\u001b[0m             api_params, operation_model, context)\n\u001b[1;32m    646\u001b[0m         request_dict = self._serializer.serialize_to_request(\n\u001b[0;32m--> 647\u001b[0;31m             api_params, operation_model)\n\u001b[0m\u001b[1;32m    648\u001b[0m         \u001b[0;32mif\u001b[0m \u001b[0;32mnot\u001b[0m \u001b[0mself\u001b[0m\u001b[0;34m.\u001b[0m\u001b[0m_client_config\u001b[0m\u001b[0;34m.\u001b[0m\u001b[0minject_host_prefix\u001b[0m\u001b[0;34m:\u001b[0m\u001b[0;34m\u001b[0m\u001b[0m\n\u001b[1;32m    649\u001b[0m             \u001b[0mrequest_dict\u001b[0m\u001b[0;34m.\u001b[0m\u001b[0mpop\u001b[0m\u001b[0;34m(\u001b[0m\u001b[0;34m'host_prefix'\u001b[0m\u001b[0;34m,\u001b[0m \u001b[0;32mNone\u001b[0m\u001b[0;34m)\u001b[0m\u001b[0;34m\u001b[0m\u001b[0m\n",
      "\u001b[0;32m~/anaconda3/envs/python3/lib/python3.6/site-packages/botocore/validate.py\u001b[0m in \u001b[0;36mserialize_to_request\u001b[0;34m(self, parameters, operation_model)\u001b[0m\n\u001b[1;32m    295\u001b[0m                                                     operation_model.input_shape)\n\u001b[1;32m    296\u001b[0m             \u001b[0;32mif\u001b[0m \u001b[0mreport\u001b[0m\u001b[0;34m.\u001b[0m\u001b[0mhas_errors\u001b[0m\u001b[0;34m(\u001b[0m\u001b[0;34m)\u001b[0m\u001b[0;34m:\u001b[0m\u001b[0;34m\u001b[0m\u001b[0m\n\u001b[0;32m--> 297\u001b[0;31m                 \u001b[0;32mraise\u001b[0m \u001b[0mParamValidationError\u001b[0m\u001b[0;34m(\u001b[0m\u001b[0mreport\u001b[0m\u001b[0;34m=\u001b[0m\u001b[0mreport\u001b[0m\u001b[0;34m.\u001b[0m\u001b[0mgenerate_report\u001b[0m\u001b[0;34m(\u001b[0m\u001b[0;34m)\u001b[0m\u001b[0;34m)\u001b[0m\u001b[0;34m\u001b[0m\u001b[0m\n\u001b[0m\u001b[1;32m    298\u001b[0m         return self._serializer.serialize_to_request(parameters,\n\u001b[1;32m    299\u001b[0m                                                      operation_model)\n",
      "\u001b[0;31mParamValidationError\u001b[0m: Parameter validation failed:\nInvalid type for parameter Body, value: [0, 0, 0, 0, 0, 0, 0, 0, 0, 0, 0, 0, 0, 0, 0, 0, 0, 0, 0, 0, 0, 0, 0, 0, 0, 0, 0, 0, 0, 0, 0, 0, 0, 0, 0, 0, 0, 0, 0, 0, 0, 0, 0, 0, 0, 0, 0, 0, 0, 0, 0, 0, 0, 0, 0, 0, 0, 0, 0, 0, 0, 0, 0, 0, 0, 0, 0, 0, 0, 0, 0, 0, 0, 0, 0, 0, 0, 0, 0, 0, 0, 0, 0, 0, 0, 0, 0, 0, 0, 0, 0, 0, 0, 0, 0, 0, 0, 0, 0, 0, 0, 0, 0, 0, 0, 0, 0, 0, 0, 0, 0, 0, 0, 0, 0, 0, 0, 0, 0, 0, 0, 0, 0, 0, 0, 0, 0, 0, 0, 0, 0, 0, 0, 0, 0, 0, 0, 0, 0, 0, 0, 0, 0, 0, 0, 0, 0, 0, 0, 0, 0, 0, 0, 0, 0, 0, 0, 0, 0, 0, 0, 0, 0, 0, 0, 0, 0, 0, 0, 0, 0, 0, 0, 0, 0, 0, 0, 0, 0, 0, 0, 0, 0, 0, 0, 0, 0, 0, 0, 0, 0, 0, 0, 0, 0, 0, 0, 0, 0, 0, 0, 0, 0, 0, 0, 0, 0, 0, 0, 0, 0, 0, 0, 0, 0, 0, 0, 0, 0, 0, 0, 0, 0, 0, 0, 0, 1, 0, 0, 0, 0, 0, 0, 0, 0, 0, 0, 0, 0, 0, 0, 0, 0, 0, 0, 0, 0, 0, 0, 0, 0, 0, 0, 0, 0, 0, 1, 0, 0, 0, 0, 0, 0, 0, 0, 0, 0, 0, 0, 0, 0, 0, 0, 0, 0, 0, 0, 0, 0, 0, 0, 0, 0, 0, 0, 0, 0, 0, 0, 0, 0, 0, 0, 0, 0, 0, 0, 0, 0, 0, 0, 0, 0, 0, 0, 0, 0, 0, 0, 0, 0, 0, 0, 0, 0, 0, 0, 0, 0, 0, 0, 0, 0, 0, 0, 0, 0, 0, 0, 0, 0, 0, 0, 0, 0, 0, 0, 0, 0, 0, 0, 0, 0, 0, 0, 0, 0, 0, 0, 0, 0, 0, 0, 0, 0, 0, 0, 0, 0, 0, 0, 0, 0, 0, 0, 0, 0, 0, 0, 0, 0, 0, 0, 0, 0, 0, 0, 0, 0, 0, 0, 0, 0, 0, 0, 0, 0, 0, 0, 0, 0, 0, 0, 0, 0, 0, 0, 0, 0, 0, 0, 0, 0, 0, 0, 0, 0, 0, 0, 0, 0, 0, 0, 0, 0, 0, 0, 0, 0, 0, 0, 0, 0, 0, 0, 0, 0, 0, 0, 0, 0, 0, 0, 0, 0, 0, 0, 0, 0, 0, 0, 0, 0, 0, 0, 0, 0, 0, 0, 0, 0, 0, 0, 0, 0, 0, 0, 0, 0, 0, 0, 0, 0, 0, 0, 0, 0, 0, 0, 0, 0, 0, 0, 0, 0, 0, 0, 0, 0, 0, 0, 0, 0, 0, 0, 0, 0, 0, 0, 0, 0, 0, 0, 0, 0, 0, 0, 0, 0, 0, 0, 0, 0, 0, 0, 0, 0, 0, 0, 0, 0, 0, 0, 0, 0, 0, 0, 0, 0, 0, 0, 0, 0, 0, 0, 0, 0, 0, 0, 0, 0, 0, 0, 0, 0, 0, 0, 0, 0, 0, 0, 0, 0, 0, 0, 0, 0, 0, 0, 0, 0, 0, 0, 0, 0, 0, 0, 0, 0, 0, 0, 0, 0, 0, 0, 0, 0, 0, 0, 0, 0, 0, 0, 0, 0, 0, 0, 0, 0, 0, 0, 0, 0, 0, 0, 0, 0, 0, 0, 0, 0, 0, 0, 0, 0, 0, 0, 0, 0, 0, 0, 0, 0, 0, 0, 0, 0, 0, 0, 0, 0, 0, 0, 0, 0, 0, 0, 0, 0, 0, 0, 0, 0, 0, 0, 0, 0, 0, 0, 0, 0, 0, 0, 0, 0, 0, 1, 0, 0, 0, 0, 0, 0, 0, 0, 0, 0, 0, 0, 0, 0, 0, 0, 0, 0, 0, 0, 0, 0, 0, 0, 0, 0, 0, 0, 0, 0, 0, 0, 0, 0, 0, 0, 0, 0, 0, 0, 0, 0, 0, 0, 0, 0, 0, 0, 0, 0, 0, 0, 0, 0, 0, 0, 0, 0, 0, 0, 0, 0, 0, 0, 0, 0, 0, 0, 0, 0, 0, 0, 0, 0, 0, 0, 0, 0, 0, 0, 0, 0, 0, 0, 0, 0, 0, 0, 0, 0, 0, 0, 0, 0, 0, 0, 0, 0, 0, 0, 0, 0, 0, 0, 0, 0, 0, 0, 0, 0, 0, 0, 0, 0, 0, 0, 0, 0, 0, 0, 0, 0, 0, 0, 0, 0, 0, 0, 0, 0, 0, 0, 0, 0, 0, 0, 0, 0, 0, 0, 0, 0, 0, 0, 0, 0, 0, 0, 0, 0, 0, 0, 0, 0, 0, 0, 0, 0, 0, 0, 0, 0, 0, 0, 0, 0, 0, 0, 0, 0, 0, 0, 0, 0, 0, 0, 0, 0, 0, 0, 0, 0, 0, 0, 0, 0, 0, 0, 0, 0, 0, 0, 0, 0, 0, 0, 0, 0, 0, 0, 0, 0, 0, 0, 0, 0, 0, 0, 0, 0, 0, 0, 0, 0, 0, 0, 0, 0, 0, 0, 0, 0, 0, 0, 0, 0, 0, 0, 0, 0, 0, 0, 0, 0, 0, 0, 0, 0, 0, 0, 0, 0, 0, 0, 0, 0, 0, 0, 0, 0, 0, 0, 0, 1, 0, 0, 0, 0, 0, 0, 0, 0, 0, 0, 0, 0, 0, 0, 0, 0, 0, 0, 0, 0, 0, 0, 0, 0, 0, 0, 0, 0, 0, 0, 0, 0, 0, 0, 0, 0, 0, 0, 0, 0, 0, 0, 0, 0, 0, 0, 0, 0, 0, 0, 0, 0, 0, 0, 0, 0, 0, 0, 0, 0, 0, 0, 0, 0, 0, 0, 0, 0, 0, 0, 0, 0, 0, 0, 0, 0, 0, 0, 0, 0, 0, 0, 0, 0, 0, 0, 1, 0, 0, 0, 0, 0, 0, 0, 0, 0, 0, 0, 0, 0, 0, 0, 0, 0, 0, 0, 0, 0, 0, 0, 0, 0, 0, 0, 0, 0, 0, 0, 0, 0, 0, 0, 0, 0, 0, 0, 0, 0, 0, 0, 0, 0, 0, 0, 0, 0, 0, 0, 0, 0, 0, 0, 0, 0, 0, 0, 0, 0, 0, 0, 0, 0, 0, 0, 0, 0, 0, 0, 0, 0, 0, 0, 0, 0, 0, 0, 0, 0, 0, 0, 0, 0, 0, 0, 0, 0, 0, 0, 0, 0, 0, 0, 0, 0, 0, 0, 0, 0, 0, 0, 0, 0, 0, 0, 0, 0, 0, 0, 0, 0, 0, 0, 0, 0, 0, 0, 0, 0, 0, 0, 0, 0, 0, 0, 0, 0, 0, 0, 0, 0, 0, 0, 0, 0, 0, 0, 0, 0, 0, 0, 0, 0, 0, 0, 0, 0, 0, 0, 0, 0, 0, 0, 0, 0, 0, 0, 0, 0, 0, 0, 0, 0, 0, 0, 0, 0, 0, 0, 0, 0, 0, 0, 0, 0, 0, 0, 0, 0, 0, 0, 0, 0, 0, 0, 0, 0, 0, 0, 0, 0, 0, 0, 0, 0, 0, 0, 0, 0, 0, 0, 0, 0, 0, 0, 0, 0, 0, 0, 0, 0, 0, 0, 0, 0, 0, 0, 0, 0, 0, 0, 0, 0, 0, 0, 0, 0, 0, 0, 0, 0, 0, 0, 0, 0, 0, 0, 0, 0, 0, 0, 0, 0, 0, 0, 0, 0, 0, 0, 0, 1, 0, 0, 0, 0, 0, 0, 0, 0, 0, 0, 0, 0, 0, 0, 0, 0, 0, 0, 0, 0, 0, 0, 0, 0, 0, 0, 0, 0, 0, 0, 0, 0, 0, 0, 0, 0, 0, 0, 0, 0, 0, 0, 0, 0, 0, 0, 0, 0, 0, 0, 0, 0, 0, 0, 0, 1, 0, 0, 0, 0, 0, 0, 0, 0, 0, 0, 0, 0, 0, 0, 0, 0, 0, 0, 0, 0, 0, 0, 0, 0, 0, 0, 0, 0, 0, 0, 0, 0, 0, 0, 0, 0, 0, 0, 0, 0, 0, 0, 0, 0, 0, 0, 0, 0, 0, 0, 0, 0, 0, 0, 0, 0, 0, 0, 0, 0, 0, 0, 0, 0, 0, 0, 0, 0, 0, 0, 0, 0, 0, 0, 0, 0, 0, 0, 0, 0, 0, 0, 0, 0, 0, 0, 0, 0, 0, 0, 0, 0, 0, 0, 0, 0, 0, 0, 0, 0, 0, 0, 0, 0, 0, 0, 0, 0, 0, 0, 0, 0, 0, 0, 0, 0, 0, 0, 0, 0, 0, 0, 0, 0, 0, 0, 0, 0, 0, 0, 0, 0, 0, 0, 0, 0, 0, 0, 0, 0, 0, 0, 0, 0, 0, 0, 0, 0, 0, 0, 0, 0, 0, 0, 0, 0, 0, 0, 0, 0, 0, 0, 0, 0, 0, 0, 0, 0, 0, 0, 0, 0, 0, 0, 0, 0, 0, 0, 0, 0, 0, 0, 0, 0, 0, 0, 0, 0, 0, 0, 0, 0, 0, 0, 0, 0, 0, 0, 0, 0, 0, 0, 0, 0, 0, 0, 0, 0, 0, 0, 0, 0, 0, 0, 0, 0, 0, 0, 0, 0, 0, 0, 0, 0, 0, 0, 0, 0, 0, 0, 0, 0, 0, 0, 0, 0, 0, 0, 0, 0, 0, 0, 0, 0, 0, 0, 0, 0, 0, 0, 0, 0, 0, 0, 0, 0, 0, 0, 0, 0, 0, 0, 0, 0, 0, 0, 0, 0, 0, 0, 0, 0, 0, 0, 0, 0, 0, 0, 0, 0, 0, 0, 0, 0, 0, 0, 0, 0, 0, 0, 0, 0, 0, 0, 0, 0, 0, 0, 0, 0, 0, 0, 0, 0, 0, 0, 0, 0, 0, 0, 0, 0, 0, 0, 0, 0, 0, 0, 0, 0, 0, 0, 0, 0, 0, 0, 0, 0, 0, 0, 0, 0, 0, 0, 0, 0, 0, 0, 0, 0, 0, 0, 0, 0, 0, 0, 0, 0, 0, 0, 0, 0, 0, 0, 0, 0, 0, 0, 0, 0, 0, 0, 0, 0, 0, 0, 0, 0, 0, 0, 0, 0, 0, 0, 0, 0, 0, 0, 0, 0, 0, 0, 0, 0, 0, 0, 0, 0, 0, 0, 0, 0, 0, 0, 0, 0, 0, 0, 0, 0, 0, 0, 0, 0, 0, 0, 0, 0, 0, 0, 0, 0, 0, 0, 0, 0, 0, 0, 0, 0, 0, 0, 0, 0, 0, 0, 0, 0, 0, 0, 0, 0, 0, 0, 0, 0, 0, 0, 0, 0, 0, 0, 0, 0, 0, 0, 0, 0, 0, 0, 0, 0, 0, 0, 0, 0, 0, 0, 0, 0, 0, 0, 0, 0, 0, 0, 0, 0, 0, 0, 0, 0, 0, 0, 0, 0, 0, 0, 0, 0, 0, 0, 0, 0, 0, 0, 0, 0, 0, 0, 0, 0, 0, 0, 0, 0, 0, 0, 0, 0, 0, 0, 0, 0, 0, 0, 0, 0, 0, 0, 0, 0, 0, 0, 0, 0, 0, 0, 0, 0, 0, 0, 0, 0, 0, 0, 0, 0, 0, 0, 0, 0, 0, 0, 0, 0, 0, 0, 0, 0, 0, 0, 0, 0, 0, 0, 0, 0, 0, 0, 0, 0, 0, 0, 0, 0, 0, 0, 0, 0, 0, 0, 0, 0, 0, 0, 0, 0, 0, 0, 0, 0, 0, 0, 0, 0, 0, 0, 0, 0, 0, 0, 0, 0, 0, 0, 0, 0, 0, 0, 0, 0, 0, 0, 0, 0, 0, 0, 0, 0, 0, 0, 0, 0, 0, 0, 0, 0, 0, 0, 0, 0, 0, 0, 0, 0, 0, 0, 0, 0, 0, 0, 0, 0, 0, 0, 0, 0, 0, 0, 0, 0, 0, 0, 0, 0, 0, 0, 0, 0, 0, 0, 0, 0, 0, 0, 0, 0, 0, 0, 0, 0, 0, 0, 0, 0, 0, 0, 0, 0, 0, 0, 0, 0, 0, 0, 0, 0, 0, 0, 0, 0, 0, 0, 0, 0, 0, 0, 0, 0, 0, 1, 0, 0, 0, 0, 0, 0, 0, 0, 0, 0, 0, 0, 0, 0, 0, 0, 0, 0, 0, 0, 0, 0, 0, 0, 0, 0, 0, 0, 0, 0, 0, 0, 0, 0, 0, 0, 0, 0, 0, 0, 0, 0, 0, 0, 0, 0, 0, 0, 0, 0, 0, 0, 0, 0, 0, 0, 0, 0, 0, 0, 0, 0, 0, 0, 0, 0, 0, 0, 0, 0, 0, 0, 0, 0, 1, 0, 0, 0, 0, 0, 0, 0, 0, 0, 0, 0, 0, 0, 0, 0, 0, 0, 0, 0, 0, 1, 0, 0, 1, 0, 0, 0, 0, 0, 0, 0, 0, 0, 0, 0, 0, 0, 0, 0, 0, 0, 0, 0, 0, 0, 0, 0, 0, 0, 0, 0, 0, 0, 0, 0, 0, 0, 0, 0, 0, 0, 0, 0, 0, 0, 0, 0, 0, 0, 0, 0, 0, 0, 0, 0, 0, 0, 0, 0, 0, 0, 0, 0, 0, 0, 0, 0, 0, 0, 0, 0, 0, 0, 0, 0, 0, 0, 0, 0, 0, 0, 0, 0, 0, 0, 0, 0, 0, 0, 0, 0, 0, 0, 0, 0, 0, 0, 0, 0, 0, 0, 0, 0, 0, 0, 0, 0, 0, 0, 0, 0, 0, 0, 0, 0, 0, 0, 0, 0, 0, 0, 0, 0, 0, 0, 0, 0, 0, 0, 0, 0, 0, 0, 0, 0, 0, 0, 0, 0, 0, 0, 0, 0, 0, 0, 0, 0, 0, 0, 0, 0, 0, 0, 0, 0, 0, 0, 0, 0, 0, 0, 0, 0, 0, 0, 0, 0, 0, 0, 0, 0, 0, 0, 0, 0, 0, 0, 0, 0, 0, 0, 0, 0, 0, 0, 0, 0, 0, 0, 0, 0, 0, 0, 0, 0, 0, 0, 0, 0, 0, 0, 0, 0, 0, 0, 0, 0, 0, 0, 0, 0, 0, 0, 0, 0, 0, 0, 0, 0, 0, 0, 0, 0, 0, 0, 0, 0, 0, 0, 0, 0, 0, 0, 0, 0, 0, 0, 0, 0, 0, 0, 0, 0, 0, 0, 0, 0, 0, 0, 0, 0, 0, 0, 0, 0, 0, 0, 0, 0, 0, 0, 0, 0, 0, 0, 0, 0, 0, 0, 0, 0, 0, 0, 0, 0, 0, 0, 0, 0, 0, 0, 0, 0, 0, 0, 0, 0, 0, 0, 0, 0, 0, 0, 0, 0, 0, 0, 0, 0, 0, 0, 0, 0, 0, 0, 0, 0, 0, 0, 0, 0, 0, 0, 0, 0, 0, 0, 0, 0, 0, 0, 0, 0, 0, 0, 0, 0, 0, 0, 0, 0, 0, 0, 0, 0, 0, 0, 0, 0, 0, 0, 0, 0, 0, 0, 0, 0, 0, 0, 0, 0, 0, 0, 0, 0, 0, 0, 0, 0, 0, 0, 0, 0, 0, 0, 0, 0, 0, 0, 0, 0, 0, 0, 0, 0, 0, 0, 0, 0, 0, 0, 0, 0, 0, 0, 0, 0, 0, 0, 0, 0, 0, 0, 0, 0, 0, 0, 0, 0, 0, 0, 0, 0, 0, 0, 0, 0, 0, 0, 0, 0, 0, 0, 0, 0, 0, 0, 0, 0, 0, 0, 0, 0, 0, 0, 0, 0, 0, 0, 0, 0, 0, 0, 0, 0, 0, 0, 0, 0, 0, 0, 0, 0, 0, 0, 0, 0, 0, 0, 0, 0, 0, 0, 0, 0, 0, 0, 0, 0, 0, 0, 0, 0, 0, 0, 0, 0, 0, 0, 0, 1, 0, 0, 0, 0, 0, 0, 0, 0, 0, 0, 0, 0, 0, 0, 0, 0, 0, 0, 0, 0, 0, 0, 0, 0, 0, 0, 0, 0, 0, 0, 0, 0, 0, 0, 0, 0, 0, 0, 0, 0, 0, 0, 0, 0, 0, 0, 0, 0, 0, 0, 0, 0, 0, 0, 0, 0, 0, 0, 0, 0, 0, 0, 0, 0, 0, 0, 0, 0, 0, 0, 0, 0, 0, 0, 0, 0, 0, 0, 0, 0, 0, 0, 0, 0, 0, 0, 0, 0, 0, 0, 0, 0, 0, 0, 0, 0, 0, 0, 0, 0, 0, 0, 0, 0, 0, 0, 0, 0, 0, 0, 0, 0, 0, 0, 0, 0, 0, 0, 0, 0, 0, 0, 0, 0, 0, 0, 0, 0, 0, 0, 0, 0, 0, 0, 0, 0, 0, 0, 0, 0, 0, 0, 0, 0, 0, 0, 0, 0, 0, 0, 0, 0, 0, 0, 0, 0, 0, 0, 0, 0, 0, 0, 0, 0, 0, 0, 0, 0, 0, 0, 0, 0, 0, 0, 0, 0, 0, 0, 0, 0, 0, 0, 0, 0, 0, 0, 0, 0, 0, 0, 0, 0, 0, 0, 0, 0, 0, 0, 0, 0, 0, 0, 0, 0, 0, 0, 0, 0, 0, 0, 0, 0, 0, 0, 0, 0, 0, 0, 0, 0, 0, 0, 0, 0, 0, 0, 0, 0, 0, 0, 0, 0, 0, 0, 0, 0, 0, 0, 0, 0, 0, 0, 0, 0, 0, 0, 0, 0, 0, 0, 0, 0, 0, 0, 0, 0, 0, 0, 0, 0, 0, 0, 0, 0, 0, 0, 0, 0, 0, 0, 0, 0, 0, 0, 0, 0, 0, 0, 0, 0, 0, 0, 0, 0, 0, 0, 0, 0, 0, 0, 0, 0, 0, 0, 0, 0, 0, 0, 0, 0, 0, 0, 0, 0, 0, 0, 0, 0, 0, 0, 0, 0, 0, 0, 0, 0, 0, 0, 0, 0, 0, 0, 0, 0, 0, 0, 0, 0, 0, 0, 0, 0, 0, 0, 0, 0, 0, 0, 0, 0, 0, 0, 0, 0, 0, 0, 0, 0, 0, 0, 0, 0, 0, 0, 0, 0, 0, 0, 0, 0, 0, 0, 0, 0, 0, 0, 0, 0, 0, 0, 0, 0, 0, 0, 0, 0, 0, 0, 0, 0, 0, 0, 0, 0, 0, 0, 0, 0, 0, 0, 0, 0, 0, 0, 0, 0, 0, 0, 0, 0, 0, 0, 0, 0, 0, 0, 0, 0, 0, 0, 0, 0, 0, 0, 0, 0, 0, 0, 0, 0, 0, 0, 0, 0, 0, 0, 0, 0, 0, 0, 0, 0, 0, 0, 0, 0, 0, 0, 0, 0, 0, 0, 0, 0, 0, 0, 0, 0, 0, 0, 0, 0, 0, 0, 0, 0, 0, 0, 0, 0, 0, 0, 0, 0, 0, 0, 0, 0, 0, 0, 0, 0, 0, 0, 0, 0, 0, 0, 0, 0, 0, 0, 0, 0, 0, 0, 0, 0, 0, 0, 0, 0, 0, 0, 0, 0, 0, 0, 0, 0, 0, 0, 0, 0, 0, 0, 0, 0, 0, 0, 0, 0, 1, 0, 0, 0, 0, 0, 0, 0, 0, 0, 0, 0, 0, 0, 0, 0, 0, 0, 0, 0, 0, 0, 0, 0, 0, 0, 0, 0, 0, 0, 0, 0, 0, 0, 0, 0, 2, 0, 0, 0, 0, 0, 0, 0, 0, 0, 0, 0, 0, 0, 0, 0, 0, 0, 0, 0, 0, 0, 0, 0, 0, 0, 0, 0, 0, 0, 0, 0, 0, 0, 0, 0, 0, 0, 0, 0, 0, 1, 0, 0, 0, 0, 0, 0, 0, 0, 0, 0, 0, 0, 0, 0, 0, 0, 0, 0, 0, 0, 0, 0, 0, 0, 0, 0, 0, 0, 0, 0, 0, 0, 0, 0, 0, 0, 0, 0, 0, 0, 0, 0, 0, 0, 0, 0, 0, 0, 0, 0, 0, 0, 0, 0, 0, 0, 0, 0, 0, 0, 0, 0, 0, 0, 0, 0, 0, 0, 0, 0, 0, 0, 0, 0, 0, 0, 0, 0, 0, 0, 0, 0, 0, 0, 0, 0, 0, 0, 0, 0, 0, 0, 0, 0, 0, 0, 0, 0, 0, 0, 0, 0, 0, 0, 0, 0, 0, 0, 0, 0, 0, 0, 0, 0, 0, 0, 0, 0, 0, 0, 0, 0, 0, 0, 0, 0, 0, 0, 0, 0, 0, 0, 0, 0, 0, 0, 0, 0, 0, 0, 0, 0, 0, 0, 0, 0, 0, 0, 0, 0, 0, 0, 0, 0, 0, 0, 0, 0, 0, 0, 0, 0, 0, 0, 0, 0, 0, 0, 0, 0, 0, 0, 0, 0, 0, 0, 0, 0, 0, 0, 0, 0, 0, 0, 0, 0, 0, 0, 0, 0, 0, 0, 0, 0, 0, 0, 0, 0, 0, 0, 0, 0, 0, 0, 0, 0, 0, 0, 0, 0, 0, 0, 0, 0, 0, 0, 0, 0, 0, 0, 0, 0, 0, 0, 0, 0, 0, 0, 0, 0, 0, 0, 0, 0, 0, 0, 0, 0, 0, 0, 0, 0, 0, 0, 0, 0, 0, 0, 0, 0, 0, 0, 0, 0, 0, 0, 0, 0, 0, 0, 0, 0, 0, 0, 0, 0, 0, 0, 0, 0, 0, 0, 0, 0, 0, 0, 0, 0, 0, 0, 0, 0, 0, 0, 0, 0, 0, 0, 0, 0, 0, 0, 0, 0, 0, 0, 0, 0, 0, 0, 0, 0, 0, 0, 0, 0, 0, 0, 0, 0, 0, 0, 0, 0, 0, 0, 0, 0, 0, 0, 0, 0, 0, 0, 0, 0, 0, 0, 0, 0, 0, 0, 0, 0, 0, 0, 0, 0, 0, 0, 0, 0, 0, 0, 0, 0, 0, 0, 0, 0, 0, 0, 0, 0, 0, 0, 0, 0, 0, 0, 0, 0, 0, 0, 0, 0, 0, 0, 0, 0, 0, 0, 0, 0, 0, 0, 0, 0, 0, 0, 0, 0, 0, 0, 0, 0, 0, 0, 0, 0, 0, 0, 0, 0, 0, 0, 0, 0, 0, 0, 0, 0, 0, 0, 0, 0, 0, 0, 0, 0, 0, 0, 0, 0, 0, 0, 0, 0, 0, 0, 0, 0, 0, 0, 0, 0, 0, 0, 0, 0, 0, 0, 0, 0, 0, 0, 0, 0, 0, 0, 0, 0, 0, 0, 0, 0, 0, 0, 0, 0, 0, 0, 0, 0, 0, 0, 0, 0, 0, 0, 0, 0, 0, 0, 0, 0, 0, 0, 0, 0, 0, 0, 0, 0, 0, 0, 0, 0, 0, 0, 0, 0, 0, 0, 0, 0, 0, 0, 0, 0, 0, 0, 0, 0, 0, 0, 0, 1, 0, 0, 0, 0, 0, 0, 0, 0, 0, 0, 0, 0, 0, 0, 0, 0, 0, 0, 0, 0, 0, 0, 0, 0, 0, 0, 0, 0, 0, 0, 0, 0, 0, 0, 0, 0, 0, 0, 0, 0, 0, 0, 0, 0, 0, 0, 0, 0, 0, 0, 0, 0, 0, 0, 0, 0, 0, 0, 0, 0, 0, 0, 0, 0, 0, 0, 0, 0, 0, 0, 0, 0, 0, 0, 0, 0, 0, 0, 0, 0, 0, 0, 0, 0, 0, 0, 0, 0, 0, 0, 0, 0, 0, 0, 0, 0, 0, 0, 0, 0, 0, 0, 0, 0, 0, 0, 0, 0, 0, 0, 2, 0, 0, 0, 0, 0, 0, 0, 0, 0, 0, 0, 0, 0, 0, 0, 0, 0, 0, 0, 0, 0, 0, 0, 0, 0, 0, 0, 0, 0, 0, 0, 0, 0, 0, 0, 0, 0, 0, 0, 0, 0, 0, 0, 0, 0, 0, 0, 0, 0, 0, 0, 0, 0, 0, 0, 0, 0, 0, 0, 0, 0, 0, 0, 0, 0, 0, 0, 0, 0, 0, 0, 0, 0, 0, 0, 0, 0, 0, 0, 0, 0, 0, 0, 0, 0, 0, 0, 0, 0, 0, 0, 0, 0, 0, 0, 0, 0, 0, 0, 0, 0, 0, 0, 0, 0, 0, 0, 0, 0, 0, 0, 0, 0, 0, 0, 0, 0, 0, 0, 0, 0, 0, 0, 0, 0, 0, 0, 0, 0, 0, 0, 0, 0, 0, 0, 0, 0, 0, 0, 0, 0, 0, 0, 0, 0, 0, 0, 0, 0, 0, 0, 0, 0, 0, 0, 0, 0, 0, 0, 0, 0, 0, 0, 0, 0, 0, 0, 0, 0, 0, 0, 0, 0, 0, 0, 0, 0, 0, 0, 0, 0, 0, 0, 0, 0, 0, 0, 0, 0, 0, 0, 0, 0, 0, 0, 0, 0, 0, 0, 0, 0, 0, 0, 0, 0, 0, 0, 0, 0, 0, 0, 0, 0, 0, 0, 0, 0, 0, 0, 0, 0, 0, 0, 0, 0, 0, 0, 0, 0, 0, 0, 0, 0, 0, 0, 0, 0, 0, 0, 0, 0, 0, 0, 0, 0, 0, 0, 0, 0, 0, 0, 0, 0, 0, 0, 0, 0, 0, 0, 0, 0, 0, 0, 0, 0, 0, 0, 0, 0, 0, 0, 0, 0, 0, 0, 0, 0, 0, 0, 0, 0, 0, 0, 0, 0, 0, 0, 0, 0, 0, 0, 0, 0, 0, 0, 0, 0, 0, 0, 0, 0, 0, 0, 0, 0, 0, 0, 0, 0, 0, 0, 0, 0, 0, 0, 0, 0, 0, 0, 0, 0, 0, 0, 0, 0, 0, 0, 0, 0, 0, 0, 0, 0, 0, 0, 0, 0, 0, 0, 0, 0, 0, 0, 0, 0, 0, 0, 0, 0, 0, 0, 0, 0, 0, 0, 0, 0, 0, 0, 0, 0, 0, 0, 0, 0, 0, 0, 0, 0, 0, 0, 0, 0, 0, 0, 0, 0, 0, 0, 0, 0, 0, 0, 0, 0, 0, 0, 0, 0, 0, 0, 0, 0, 0, 0, 0, 0, 0, 0, 0, 0, 0, 0, 0, 0, 0, 0, 0, 0, 0, 0, 0, 0, 0, 0, 0, 0, 0, 0, 0, 0, 0, 0, 0, 0, 0, 0, 0, 0, 0, 0, 0, 0, 0, 0, 0, 0, 0, 0, 0, 0, 0, 0, 0, 0, 0, 0, 0, 0, 0, 0, 0, 0, 0, 0, 0, 0, 0, 0, 0, 0, 0, 0, 0, 0, 0, 0, 0, 0, 0, 0, 0, 0, 0, 0, 0, 0, 0, 0, 0, 0, 0, 0, 0, 0, 0, 0, 0, 0, 0, 0, 0, 0, 0, 0, 0, 0, 0, 0, 0, 0, 0, 0, 0, 0, 0, 0, 0, 0, 0, 0, 0, 0, 0, 0, 0, 0, 0, 0, 0, 0, 0, 0, 0, 0, 0, 0, 0, 0, 0, 0, 0, 0, 0, 0, 0, 0, 0, 0, 0, 0, 0, 0, 0, 0, 0, 0, 0, 0, 0, 0, 0, 0, 0, 0, 0, 0, 0, 0, 0, 0, 0, 0, 0, 0, 0, 0, 0, 0, 0, 0, 0, 0, 0, 0, 0, 0, 0, 0, 0, 0, 0, 0, 0, 0, 0, 0, 0, 0, 0, 0, 0, 0, 0, 0, 0, 0, 0, 0, 0, 0, 0, 0, 0, 0, 0, 0, 0, 0, 0, 0, 0, 0, 0, 0, 0, 0, 0, 0, 0, 0, 0, 0, 0, 0, 0, 0, 0, 0, 0, 0, 0, 0, 0, 0, 0, 0, 0, 0, 0, 0, 0, 0, 0, 0, 0, 0, 0, 0, 0, 0, 0, 0, 0, 0, 0, 0, 0, 0, 0, 0, 0, 0, 0, 0, 0, 0, 0, 0, 0, 0, 0, 0, 0, 0, 0, 0, 0, 0, 0, 0, 0, 0, 0, 0, 0, 0, 0, 0, 0, 1, 0, 0, 0, 0, 0, 0, 0, 0, 0, 0, 0, 0, 0, 0, 0, 0, 0, 0, 0, 0, 0, 0, 0, 0, 0, 0, 0, 0, 0, 0, 0, 0, 0, 0, 0, 0, 0, 0, 0, 0, 0, 0, 0, 0, 0, 0, 0, 0, 0, 0, 0, 0, 0, 0, 0, 0, 0, 0, 0, 0, 0, 0, 0, 0, 0, 0, 0, 0, 0, 0, 0, 0, 0, 0, 0, 0, 0, 0, 0, 0, 0, 0, 0, 0, 0, 0, 0, 0, 0, 0, 0, 0, 0, 0, 0, 0, 0, 0, 0, 0, 0, 0, 0, 0, 0, 0, 0, 1, 0, 0, 0, 0, 0, 0, 0, 0, 0, 0, 0, 0, 0, 0, 0, 0, 0, 0, 0, 0, 0, 0, 0, 0, 0, 0, 0, 0, 0, 0, 0, 0, 0, 0, 0, 0, 0, 0, 0, 0, 0, 0, 0, 0, 0, 0, 0, 0, 0, 0, 0, 0, 0, 0, 0, 0, 0, 0, 0, 0, 0, 0, 0, 0, 0, 0, 0, 0, 0, 0, 0, 0, 0, 0, 0, 0, 0, 0, 0, 0, 0, 0, 0, 0, 0, 0, 0, 0, 0, 0, 0, 0, 0, 0, 0, 0, 0, 0, 0, 0, 0, 0, 0, 0, 0, 0, 0, 0, 0, 0, 0, 0, 0, 0, 0, 0, 0, 0, 0, 0, 0, 0, 0, 0, 0, 0, 0, 0, 0, 0, 0, 0, 0, 0, 0, 0, 0, 0, 0, 0, 0, 0, 0, 0, 0, 0, 0, 0, 0, 0, 0, 0, 0, 0, 0, 0, 0, 0, 0, 0, 0, 0, 0, 0, 0, 0, 0, 0, 0, 0, 0, 0, 0, 0, 0, 0, 0, 0, 0, 0, 0, 0, 0, 0, 0, 0, 0, 0, 0, 0, 0, 0, 0, 0, 0, 0, 0, 0, 0, 0, 0, 0, 0, 0, 0, 0, 0, 0, 0, 0, 0, 0, 0, 0, 0, 0, 0, 0, 0, 0, 0, 0, 0, 0, 0, 0, 0, 0, 0, 0, 0, 0, 0, 0, 0, 0, 0, 0, 0, 0, 0, 0, 0, 0, 0, 0, 0, 0, 0, 0, 0, 0, 0, 0, 0, 0, 0, 0, 0, 0, 0, 0, 0, 0, 0, 0, 0, 0, 0, 0, 0, 0, 0, 0, 0, 0, 0, 0, 0, 0, 0, 0, 0, 0, 0, 0, 0, 0, 0, 0, 0, 0, 0, 0, 0, 0, 0, 0, 0, 0, 0, 0, 0, 0, 0, 0, 0, 0, 0, 0, 0, 0, 0, 0, 0, 0, 0, 0, 0, 0, 0, 0, 0, 0, 0, 0, 0, 0, 0, 0, 0, 0, 0, 0, 0, 0, 0, 0, 0, 0, 0, 0, 0, 0, 0, 0, 0, 0, 0, 0, 0, 0, 0, 0, 0, 0, 0, 0, 0, 0, 0, 0, 0, 0, 0, 0, 0, 0, 0, 0, 0, 0, 0, 0, 0, 0, 0, 0, 0, 0, 0, 0, 0, 0, 0, 0, 0, 0, 0, 0, 0, 0, 0, 0, 0, 0, 0, 0, 0, 0, 0, 0, 0, 0, 0, 0, 0, 0, 0, 0, 0, 0, 0, 0, 0, 0, 0, 0, 0, 0, 0, 0, 0, 0, 0, 0, 0, 0, 0, 0, 0, 0, 0, 0, 0, 0, 0, 0, 0, 0, 0, 0, 0, 0, 0, 0, 0, 0, 0, 0, 0, 0, 0, 0, 0, 0, 0, 0, 0, 0, 0, 0, 0, 2, 0, 1, 0], type: <class 'list'>, valid types: <class 'bytes'>, <class 'bytearray'>, file-like object"
     ]
    }
   ],
   "source": [
    "# invoke endpoint method\n",
    "response = runtime.invoke_endpoint(EndpointName = xgb_predictor.endpoint, # The name of the endpoint we created\n",
    "                                       ContentType = 'text/csv',                     # The data format that is expected\n",
    "                                       Body = test_bow)"
   ]
  },
  {
   "cell_type": "markdown",
   "metadata": {},
   "source": [
    "So why did we get an error?\n",
    "\n",
    "Because we tried to send the endpoint a list of integers but it expected us to send data of type `text/csv`. So, we need to convert it."
   ]
  },
  {
   "cell_type": "code",
   "execution_count": 46,
   "metadata": {},
   "outputs": [],
   "source": [
    "response = runtime.invoke_endpoint(EndpointName = xgb_predictor.endpoint, # The name of the endpoint we created\n",
    "                                       ContentType = 'text/csv',                     # The data format that is expected\n",
    "                                       Body = ','.join([str(val) for val in test_bow]).encode('utf-8'))  # instead of passing the test_bow directly, we serialize the data to its expected type"
   ]
  },
  {
   "cell_type": "code",
   "execution_count": 48,
   "metadata": {},
   "outputs": [
    {
     "name": "stdout",
     "output_type": "stream",
     "text": [
      "b'0,0,0,0,0,0,0,0,0,0,0,0,0,0,0,0,0,0,0,0,0,0,0,0,0,0,0,0,0,0,0,0,0,0,0,0,0,0,0,0,0,0,0,0,0,0,0,0,0,0,0,0,0,0,0,0,0,0,0,0,0,0,0,0,0,0,0,0,0,0,0,0,0,0,0,0,0,0,0,0,0,0,0,0,0,0,0,0,0,0,0,0,0,0,0,0,0,0,0,0,0,0,0,0,0,0,0,0,0,0,0,0,0,0,0,0,0,0,0,0,0,0,0,0,0,0,0,0,0,0,0,0,0,0,0,0,0,0,0,0,0,0,0,0,0,0,0,0,0,0,0,0,0,0,0,0,0,0,0,0,0,0,0,0,0,0,0,0,0,0,0,0,0,0,0,0,0,0,0,0,0,0,0,0,0,0,0,0,0,0,0,0,0,0,0,0,0,0,0,0,0,0,0,0,0,0,0,0,0,0,0,0,0,0,0,0,0,0,0,0,0,0,0,0,0,0,1,0,0,0,0,0,0,0,0,0,0,0,0,0,0,0,0,0,0,0,0,0,0,0,0,0,0,0,0,0,1,0,0,0,0,0,0,0,0,0,0,0,0,0,0,0,0,0,0,0,0,0,0,0,0,0,0,0,0,0,0,0,0,0,0,0,0,0,0,0,0,0,0,0,0,0,0,0,0,0,0,0,0,0,0,0,0,0,0,0,0,0,0,0,0,0,0,0,0,0,0,0,0,0,0,0,0,0,0,0,0,0,0,0,0,0,0,0,0,0,0,0,0,0,0,0,0,0,0,0,0,0,0,0,0,0,0,0,0,0,0,0,0,0,0,0,0,0,0,0,0,0,0,0,0,0,0,0,0,0,0,0,0,0,0,0,0,0,0,0,0,0,0,0,0,0,0,0,0,0,0,0,0,0,0,0,0,0,0,0,0,0,0,0,0,0,0,0,0,0,0,0,0,0,0,0,0,0,0,0,0,0,0,0,0,0,0,0,0,0,0,0,0,0,0,0,0,0,0,0,0,0,0,0,0,0,0,0,0,0,0,0,0,0,0,0,0,0,0,0,0,0,0,0,0,0,0,0,0,0,0,0,0,0,0,0,0,0,0,0,0,0,0,0,0,0,0,0,0,0,0,0,0,0,0,0,0,0,0,0,0,0,0,0,0,0,0,0,0,0,0,0,0,0,0,0,0,0,0,0,0,0,0,0,0,0,0,0,0,0,0,0,0,0,0,0,0,0,0,0,0,0,0,0,0,0,0,0,0,0,0,0,0,0,0,0,0,0,0,0,0,0,0,0,0,0,0,0,0,0,0,0,0,0,0,0,0,0,0,0,0,0,0,0,0,0,0,0,0,0,0,0,0,0,0,0,0,0,0,0,0,0,0,0,0,0,0,0,0,0,0,0,0,0,0,0,0,0,0,0,1,0,0,0,0,0,0,0,0,0,0,0,0,0,0,0,0,0,0,0,0,0,0,0,0,0,0,0,0,0,0,0,0,0,0,0,0,0,0,0,0,0,0,0,0,0,0,0,0,0,0,0,0,0,0,0,0,0,0,0,0,0,0,0,0,0,0,0,0,0,0,0,0,0,0,0,0,0,0,0,0,0,0,0,0,0,0,0,0,0,0,0,0,0,0,0,0,0,0,0,0,0,0,0,0,0,0,0,0,0,0,0,0,0,0,0,0,0,0,0,0,0,0,0,0,0,0,0,0,0,0,0,0,0,0,0,0,0,0,0,0,0,0,0,0,0,0,0,0,0,0,0,0,0,0,0,0,0,0,0,0,0,0,0,0,0,0,0,0,0,0,0,0,0,0,0,0,0,0,0,0,0,0,0,0,0,0,0,0,0,0,0,0,0,0,0,0,0,0,0,0,0,0,0,0,0,0,0,0,0,0,0,0,0,0,0,0,0,0,0,0,0,0,0,0,0,0,0,0,0,0,0,0,0,0,0,0,0,0,0,0,0,0,0,0,0,0,0,0,0,0,0,0,0,1,0,0,0,0,0,0,0,0,0,0,0,0,0,0,0,0,0,0,0,0,0,0,0,0,0,0,0,0,0,0,0,0,0,0,0,0,0,0,0,0,0,0,0,0,0,0,0,0,0,0,0,0,0,0,0,0,0,0,0,0,0,0,0,0,0,0,0,0,0,0,0,0,0,0,0,0,0,0,0,0,0,0,0,0,0,0,1,0,0,0,0,0,0,0,0,0,0,0,0,0,0,0,0,0,0,0,0,0,0,0,0,0,0,0,0,0,0,0,0,0,0,0,0,0,0,0,0,0,0,0,0,0,0,0,0,0,0,0,0,0,0,0,0,0,0,0,0,0,0,0,0,0,0,0,0,0,0,0,0,0,0,0,0,0,0,0,0,0,0,0,0,0,0,0,0,0,0,0,0,0,0,0,0,0,0,0,0,0,0,0,0,0,0,0,0,0,0,0,0,0,0,0,0,0,0,0,0,0,0,0,0,0,0,0,0,0,0,0,0,0,0,0,0,0,0,0,0,0,0,0,0,0,0,0,0,0,0,0,0,0,0,0,0,0,0,0,0,0,0,0,0,0,0,0,0,0,0,0,0,0,0,0,0,0,0,0,0,0,0,0,0,0,0,0,0,0,0,0,0,0,0,0,0,0,0,0,0,0,0,0,0,0,0,0,0,0,0,0,0,0,0,0,0,0,0,0,0,0,0,0,0,0,0,0,0,0,0,0,0,0,0,0,0,0,0,0,0,0,0,0,0,0,0,0,0,0,0,0,0,1,0,0,0,0,0,0,0,0,0,0,0,0,0,0,0,0,0,0,0,0,0,0,0,0,0,0,0,0,0,0,0,0,0,0,0,0,0,0,0,0,0,0,0,0,0,0,0,0,0,0,0,0,0,0,0,1,0,0,0,0,0,0,0,0,0,0,0,0,0,0,0,0,0,0,0,0,0,0,0,0,0,0,0,0,0,0,0,0,0,0,0,0,0,0,0,0,0,0,0,0,0,0,0,0,0,0,0,0,0,0,0,0,0,0,0,0,0,0,0,0,0,0,0,0,0,0,0,0,0,0,0,0,0,0,0,0,0,0,0,0,0,0,0,0,0,0,0,0,0,0,0,0,0,0,0,0,0,0,0,0,0,0,0,0,0,0,0,0,0,0,0,0,0,0,0,0,0,0,0,0,0,0,0,0,0,0,0,0,0,0,0,0,0,0,0,0,0,0,0,0,0,0,0,0,0,0,0,0,0,0,0,0,0,0,0,0,0,0,0,0,0,0,0,0,0,0,0,0,0,0,0,0,0,0,0,0,0,0,0,0,0,0,0,0,0,0,0,0,0,0,0,0,0,0,0,0,0,0,0,0,0,0,0,0,0,0,0,0,0,0,0,0,0,0,0,0,0,0,0,0,0,0,0,0,0,0,0,0,0,0,0,0,0,0,0,0,0,0,0,0,0,0,0,0,0,0,0,0,0,0,0,0,0,0,0,0,0,0,0,0,0,0,0,0,0,0,0,0,0,0,0,0,0,0,0,0,0,0,0,0,0,0,0,0,0,0,0,0,0,0,0,0,0,0,0,0,0,0,0,0,0,0,0,0,0,0,0,0,0,0,0,0,0,0,0,0,0,0,0,0,0,0,0,0,0,0,0,0,0,0,0,0,0,0,0,0,0,0,0,0,0,0,0,0,0,0,0,0,0,0,0,0,0,0,0,0,0,0,0,0,0,0,0,0,0,0,0,0,0,0,0,0,0,0,0,0,0,0,0,0,0,0,0,0,0,0,0,0,0,0,0,0,0,0,0,0,0,0,0,0,0,0,0,0,0,0,0,0,0,0,0,0,0,0,0,0,0,0,0,0,0,0,0,0,0,0,0,0,0,0,0,0,0,0,0,0,0,0,0,0,0,0,0,0,0,0,0,0,0,0,0,0,0,0,0,0,0,0,0,0,0,0,0,0,0,0,0,0,0,0,0,0,0,0,0,0,0,0,0,0,0,0,0,0,0,0,0,0,0,0,0,0,0,0,0,0,0,0,0,0,0,0,0,0,0,0,0,0,0,0,0,0,0,0,0,0,0,0,0,0,0,0,0,0,0,0,0,0,0,0,0,0,0,0,0,0,0,0,0,0,0,0,0,0,0,0,0,0,0,0,0,0,0,0,0,0,0,0,0,0,0,0,0,0,0,0,0,0,0,0,0,0,0,0,0,0,0,0,0,0,0,0,0,0,0,0,0,0,0,0,0,0,0,0,0,0,0,0,0,0,0,0,0,0,0,0,0,0,0,0,0,0,0,0,0,0,0,0,0,0,0,0,0,0,0,0,0,0,0,0,0,0,0,0,0,0,0,0,0,0,0,0,0,0,0,0,0,0,0,0,0,0,0,0,0,0,0,0,0,0,0,0,0,0,0,0,0,0,0,0,0,0,0,0,0,0,0,1,0,0,0,0,0,0,0,0,0,0,0,0,0,0,0,0,0,0,0,0,0,0,0,0,0,0,0,0,0,0,0,0,0,0,0,0,0,0,0,0,0,0,0,0,0,0,0,0,0,0,0,0,0,0,0,0,0,0,0,0,0,0,0,0,0,0,0,0,0,0,0,0,0,0,1,0,0,0,0,0,0,0,0,0,0,0,0,0,0,0,0,0,0,0,0,1,0,0,1,0,0,0,0,0,0,0,0,0,0,0,0,0,0,0,0,0,0,0,0,0,0,0,0,0,0,0,0,0,0,0,0,0,0,0,0,0,0,0,0,0,0,0,0,0,0,0,0,0,0,0,0,0,0,0,0,0,0,0,0,0,0,0,0,0,0,0,0,0,0,0,0,0,0,0,0,0,0,0,0,0,0,0,0,0,0,0,0,0,0,0,0,0,0,0,0,0,0,0,0,0,0,0,0,0,0,0,0,0,0,0,0,0,0,0,0,0,0,0,0,0,0,0,0,0,0,0,0,0,0,0,0,0,0,0,0,0,0,0,0,0,0,0,0,0,0,0,0,0,0,0,0,0,0,0,0,0,0,0,0,0,0,0,0,0,0,0,0,0,0,0,0,0,0,0,0,0,0,0,0,0,0,0,0,0,0,0,0,0,0,0,0,0,0,0,0,0,0,0,0,0,0,0,0,0,0,0,0,0,0,0,0,0,0,0,0,0,0,0,0,0,0,0,0,0,0,0,0,0,0,0,0,0,0,0,0,0,0,0,0,0,0,0,0,0,0,0,0,0,0,0,0,0,0,0,0,0,0,0,0,0,0,0,0,0,0,0,0,0,0,0,0,0,0,0,0,0,0,0,0,0,0,0,0,0,0,0,0,0,0,0,0,0,0,0,0,0,0,0,0,0,0,0,0,0,0,0,0,0,0,0,0,0,0,0,0,0,0,0,0,0,0,0,0,0,0,0,0,0,0,0,0,0,0,0,0,0,0,0,0,0,0,0,0,0,0,0,0,0,0,0,0,0,0,0,0,0,0,0,0,0,0,0,0,0,0,0,0,0,0,0,0,0,0,0,0,0,0,0,0,0,0,0,0,0,0,0,0,0,0,0,0,0,0,0,0,0,0,0,0,0,0,0,0,0,0,0,0,0,0,0,0,0,0,0,0,0,0,0,0,0,0,0,0,0,0,0,0,0,0,0,0,0,0,0,0,0,0,0,0,0,0,0,0,0,0,0,0,0,0,0,0,0,0,0,0,0,0,0,0,0,0,0,0,0,0,1,0,0,0,0,0,0,0,0,0,0,0,0,0,0,0,0,0,0,0,0,0,0,0,0,0,0,0,0,0,0,0,0,0,0,0,0,0,0,0,0,0,0,0,0,0,0,0,0,0,0,0,0,0,0,0,0,0,0,0,0,0,0,0,0,0,0,0,0,0,0,0,0,0,0,0,0,0,0,0,0,0,0,0,0,0,0,0,0,0,0,0,0,0,0,0,0,0,0,0,0,0,0,0,0,0,0,0,0,0,0,0,0,0,0,0,0,0,0,0,0,0,0,0,0,0,0,0,0,0,0,0,0,0,0,0,0,0,0,0,0,0,0,0,0,0,0,0,0,0,0,0,0,0,0,0,0,0,0,0,0,0,0,0,0,0,0,0,0,0,0,0,0,0,0,0,0,0,0,0,0,0,0,0,0,0,0,0,0,0,0,0,0,0,0,0,0,0,0,0,0,0,0,0,0,0,0,0,0,0,0,0,0,0,0,0,0,0,0,0,0,0,0,0,0,0,0,0,0,0,0,0,0,0,0,0,0,0,0,0,0,0,0,0,0,0,0,0,0,0,0,0,0,0,0,0,0,0,0,0,0,0,0,0,0,0,0,0,0,0,0,0,0,0,0,0,0,0,0,0,0,0,0,0,0,0,0,0,0,0,0,0,0,0,0,0,0,0,0,0,0,0,0,0,0,0,0,0,0,0,0,0,0,0,0,0,0,0,0,0,0,0,0,0,0,0,0,0,0,0,0,0,0,0,0,0,0,0,0,0,0,0,0,0,0,0,0,0,0,0,0,0,0,0,0,0,0,0,0,0,0,0,0,0,0,0,0,0,0,0,0,0,0,0,0,0,0,0,0,0,0,0,0,0,0,0,0,0,0,0,0,0,0,0,0,0,0,0,0,0,0,0,0,0,0,0,0,0,0,0,0,0,0,0,0,0,0,0,0,0,0,0,0,0,0,0,0,0,0,0,0,0,0,0,0,0,0,0,0,0,0,0,0,0,0,0,0,0,0,0,0,0,0,0,0,0,0,0,0,0,0,0,0,0,0,0,0,0,0,0,0,0,0,0,0,0,0,0,0,0,0,0,0,0,0,0,0,0,0,0,0,0,0,0,0,0,0,0,0,0,0,0,0,0,0,0,0,0,0,0,0,0,0,1,0,0,0,0,0,0,0,0,0,0,0,0,0,0,0,0,0,0,0,0,0,0,0,0,0,0,0,0,0,0,0,0,0,0,0,2,0,0,0,0,0,0,0,0,0,0,0,0,0,0,0,0,0,0,0,0,0,0,0,0,0,0,0,0,0,0,0,0,0,0,0,0,0,0,0,0,1,0,0,0,0,0,0,0,0,0,0,0,0,0,0,0,0,0,0,0,0,0,0,0,0,0,0,0,0,0,0,0,0,0,0,0,0,0,0,0,0,0,0,0,0,0,0,0,0,0,0,0,0,0,0,0,0,0,0,0,0,0,0,0,0,0,0,0,0,0,0,0,0,0,0,0,0,0,0,0,0,0,0,0,0,0,0,0,0,0,0,0,0,0,0,0,0,0,0,0,0,0,0,0,0,0,0,0,0,0,0,0,0,0,0,0,0,0,0,0,0,0,0,0,0,0,0,0,0,0,0,0,0,0,0,0,0,0,0,0,0,0,0,0,0,0,0,0,0,0,0,0,0,0,0,0,0,0,0,0,0,0,0,0,0,0,0,0,0,0,0,0,0,0,0,0,0,0,0,0,0,0,0,0,0,0,0,0,0,0,0,0,0,0,0,0,0,0,0,0,0,0,0,0,0,0,0,0,0,0,0,0,0,0,0,0,0,0,0,0,0,0,0,0,0,0,0,0,0,0,0,0,0,0,0,0,0,0,0,0,0,0,0,0,0,0,0,0,0,0,0,0,0,0,0,0,0,0,0,0,0,0,0,0,0,0,0,0,0,0,0,0,0,0,0,0,0,0,0,0,0,0,0,0,0,0,0,0,0,0,0,0,0,0,0,0,0,0,0,0,0,0,0,0,0,0,0,0,0,0,0,0,0,0,0,0,0,0,0,0,0,0,0,0,0,0,0,0,0,0,0,0,0,0,0,0,0,0,0,0,0,0,0,0,0,0,0,0,0,0,0,0,0,0,0,0,0,0,0,0,0,0,0,0,0,0,0,0,0,0,0,0,0,0,0,0,0,0,0,0,0,0,0,0,0,0,0,0,0,0,0,0,0,0,0,0,0,0,0,0,0,0,0,0,0,0,0,0,0,0,0,0,0,0,0,0,0,0,0,0,0,0,0,0,0,0,0,0,0,0,0,0,0,0,0,0,0,0,0,0,0,0,0,0,0,0,0,0,0,0,0,0,0,0,0,0,0,0,0,0,0,0,0,0,0,0,0,0,0,0,0,0,0,0,0,0,0,0,0,0,0,0,0,0,0,0,0,0,0,0,0,0,0,0,0,0,0,0,1,0,0,0,0,0,0,0,0,0,0,0,0,0,0,0,0,0,0,0,0,0,0,0,0,0,0,0,0,0,0,0,0,0,0,0,0,0,0,0,0,0,0,0,0,0,0,0,0,0,0,0,0,0,0,0,0,0,0,0,0,0,0,0,0,0,0,0,0,0,0,0,0,0,0,0,0,0,0,0,0,0,0,0,0,0,0,0,0,0,0,0,0,0,0,0,0,0,0,0,0,0,0,0,0,0,0,0,0,0,0,2,0,0,0,0,0,0,0,0,0,0,0,0,0,0,0,0,0,0,0,0,0,0,0,0,0,0,0,0,0,0,0,0,0,0,0,0,0,0,0,0,0,0,0,0,0,0,0,0,0,0,0,0,0,0,0,0,0,0,0,0,0,0,0,0,0,0,0,0,0,0,0,0,0,0,0,0,0,0,0,0,0,0,0,0,0,0,0,0,0,0,0,0,0,0,0,0,0,0,0,0,0,0,0,0,0,0,0,0,0,0,0,0,0,0,0,0,0,0,0,0,0,0,0,0,0,0,0,0,0,0,0,0,0,0,0,0,0,0,0,0,0,0,0,0,0,0,0,0,0,0,0,0,0,0,0,0,0,0,0,0,0,0,0,0,0,0,0,0,0,0,0,0,0,0,0,0,0,0,0,0,0,0,0,0,0,0,0,0,0,0,0,0,0,0,0,0,0,0,0,0,0,0,0,0,0,0,0,0,0,0,0,0,0,0,0,0,0,0,0,0,0,0,0,0,0,0,0,0,0,0,0,0,0,0,0,0,0,0,0,0,0,0,0,0,0,0,0,0,0,0,0,0,0,0,0,0,0,0,0,0,0,0,0,0,0,0,0,0,0,0,0,0,0,0,0,0,0,0,0,0,0,0,0,0,0,0,0,0,0,0,0,0,0,0,0,0,0,0,0,0,0,0,0,0,0,0,0,0,0,0,0,0,0,0,0,0,0,0,0,0,0,0,0,0,0,0,0,0,0,0,0,0,0,0,0,0,0,0,0,0,0,0,0,0,0,0,0,0,0,0,0,0,0,0,0,0,0,0,0,0,0,0,0,0,0,0,0,0,0,0,0,0,0,0,0,0,0,0,0,0,0,0,0,0,0,0,0,0,0,0,0,0,0,0,0,0,0,0,0,0,0,0,0,0,0,0,0,0,0,0,0,0,0,0,0,0,0,0,0,0,0,0,0,0,0,0,0,0,0,0,0,0,0,0,0,0,0,0,0,0,0,0,0,0,0,0,0,0,0,0,0,0,0,0,0,0,0,0,0,0,0,0,0,0,0,0,0,0,0,0,0,0,0,0,0,0,0,0,0,0,0,0,0,0,0,0,0,0,0,0,0,0,0,0,0,0,0,0,0,0,0,0,0,0,0,0,0,0,0,0,0,0,0,0,0,0,0,0,0,0,0,0,0,0,0,0,0,0,0,0,0,0,0,0,0,0,0,0,0,0,0,0,0,0,0,0,0,0,0,0,0,0,0,0,0,0,0,0,0,0,0,0,0,0,0,0,0,0,0,0,0,0,0,0,0,0,0,0,0,0,0,0,0,0,0,0,0,0,0,0,0,0,0,0,0,0,0,0,0,0,0,0,0,0,0,0,0,0,0,0,0,0,0,0,0,0,0,0,0,0,0,0,0,0,0,0,0,0,0,0,0,0,0,0,0,0,0,0,0,0,0,0,0,0,0,0,0,0,0,0,0,0,0,0,0,0,0,0,0,0,0,0,0,0,0,0,0,0,0,0,0,0,0,0,0,0,0,0,0,0,0,0,0,0,0,0,0,0,0,0,1,0,0,0,0,0,0,0,0,0,0,0,0,0,0,0,0,0,0,0,0,0,0,0,0,0,0,0,0,0,0,0,0,0,0,0,0,0,0,0,0,0,0,0,0,0,0,0,0,0,0,0,0,0,0,0,0,0,0,0,0,0,0,0,0,0,0,0,0,0,0,0,0,0,0,0,0,0,0,0,0,0,0,0,0,0,0,0,0,0,0,0,0,0,0,0,0,0,0,0,0,0,0,0,0,0,0,0,1,0,0,0,0,0,0,0,0,0,0,0,0,0,0,0,0,0,0,0,0,0,0,0,0,0,0,0,0,0,0,0,0,0,0,0,0,0,0,0,0,0,0,0,0,0,0,0,0,0,0,0,0,0,0,0,0,0,0,0,0,0,0,0,0,0,0,0,0,0,0,0,0,0,0,0,0,0,0,0,0,0,0,0,0,0,0,0,0,0,0,0,0,0,0,0,0,0,0,0,0,0,0,0,0,0,0,0,0,0,0,0,0,0,0,0,0,0,0,0,0,0,0,0,0,0,0,0,0,0,0,0,0,0,0,0,0,0,0,0,0,0,0,0,0,0,0,0,0,0,0,0,0,0,0,0,0,0,0,0,0,0,0,0,0,0,0,0,0,0,0,0,0,0,0,0,0,0,0,0,0,0,0,0,0,0,0,0,0,0,0,0,0,0,0,0,0,0,0,0,0,0,0,0,0,0,0,0,0,0,0,0,0,0,0,0,0,0,0,0,0,0,0,0,0,0,0,0,0,0,0,0,0,0,0,0,0,0,0,0,0,0,0,0,0,0,0,0,0,0,0,0,0,0,0,0,0,0,0,0,0,0,0,0,0,0,0,0,0,0,0,0,0,0,0,0,0,0,0,0,0,0,0,0,0,0,0,0,0,0,0,0,0,0,0,0,0,0,0,0,0,0,0,0,0,0,0,0,0,0,0,0,0,0,0,0,0,0,0,0,0,0,0,0,0,0,0,0,0,0,0,0,0,0,0,0,0,0,0,0,0,0,0,0,0,0,0,0,0,0,0,0,0,0,0,0,0,0,0,0,0,0,0,0,0,0,0,0,0,0,0,0,0,0,0,0,0,0,0,0,0,0,0,0,0,0,0,0,0,0,0,0,0,0,0,0,0,0,0,0,0,0,0,0,0,0,0,0,0,0,0,0,0,0,0,0,0,0,0,0,0,0,0,0,0,0,0,0,0,0,0,0,0,0,0,0,0,0,0,0,0,0,0,0,0,0,0,0,0,0,0,0,0,0,0,0,0,0,0,0,0,0,0,0,2,0,1,0'\n"
     ]
    }
   ],
   "source": [
    "# Let's see what is the body like?\n",
    "body = ','.join([str(val) for val in test_bow]).encode('utf-8')\n",
    "print(body)"
   ]
  },
  {
   "cell_type": "code",
   "execution_count": 47,
   "metadata": {},
   "outputs": [
    {
     "name": "stdout",
     "output_type": "stream",
     "text": [
      "{'ResponseMetadata': {'RequestId': '985c4352-e8de-4d2c-a082-7319086f4358', 'HTTPStatusCode': 200, 'HTTPHeaders': {'x-amzn-requestid': '985c4352-e8de-4d2c-a082-7319086f4358', 'x-amzn-invoked-production-variant': 'AllTraffic', 'date': 'Mon, 25 May 2020 22:26:25 GMT', 'content-type': 'text/csv; charset=utf-8', 'content-length': '14'}, 'RetryAttempts': 0}, 'ContentType': 'text/csv; charset=utf-8', 'InvokedProductionVariant': 'AllTraffic', 'Body': <botocore.response.StreamingBody object at 0x7fc0ad2fb0f0>}\n"
     ]
    }
   ],
   "source": [
    "print(response)"
   ]
  },
  {
   "cell_type": "markdown",
   "metadata": {},
   "source": [
    "As we can see, the response from our model is a somewhat complicated looking dict that contains a bunch of information. The bit that we are most interested in is `'Body'` object which is a streaming object that we need to `read` in order to make use of."
   ]
  },
  {
   "cell_type": "code",
   "execution_count": 49,
   "metadata": {},
   "outputs": [
    {
     "name": "stdout",
     "output_type": "stream",
     "text": [
      "0.399887800217\n"
     ]
    }
   ],
   "source": [
    "response = response['Body'].read().decode('utf-8')\n",
    "print(response)"
   ]
  },
  {
   "cell_type": "markdown",
   "metadata": {},
   "source": [
    "**Lecture Note:**\n",
    "\n",
    "0.39988 does not seems to be positive for the perspective of our model."
   ]
  },
  {
   "cell_type": "markdown",
   "metadata": {},
   "source": [
    "Now that we know how to process the incoming user data we can start setting up the infrastructure to make our simple web app work. To do this we will make use of two different services. Amazon's Lambda and API Gateway services.\n",
    "\n",
    "Lambda is a service which allows someone to write some relatively simple code and have it executed whenever a chosen trigger occurs. For example, you may want to update a database whenever new data is uploaded to a folder stored on S3.\n",
    "\n",
    "API Gateway is a service that allows you to create HTTP endpoints (url addresses) which are connected to other AWS services. One of the benefits to this is that you get to decide what credentials, if any, are required to access these endpoints.\n",
    "\n",
    "In our case we are going to set up an HTTP endpoint through API Gateway which is open to the public. Then, whenever anyone sends data to our public endpoint we will trigger a Lambda function which will send the input (in our case a review) to our model's endpoint and then return the result."
   ]
  },
  {
   "cell_type": "markdown",
   "metadata": {},
   "source": [
    "### Setting up a Lambda function\n",
    "\n",
    "The first thing we are going to do is set up a Lambda function. This Lambda function will be executed whenever our public API has data sent to it. When it is executed it will receive the data, perform any sort of processing that is required, send the data (the review) to the SageMaker endpoint we've created and then return the result.\n",
    "\n",
    "#### Part A: Create an IAM Role for the Lambda function\n",
    "\n",
    "Since we want the Lambda function to call a SageMaker endpoint, we need to make sure that it has permission to do so. To do this, we will construct a role that we can later give the Lambda function.\n",
    "\n",
    "Using the AWS Console, navigate to the **IAM** page and click on **Roles**. Then, click on **Create role**. Make sure that the **AWS service** is the type of trusted entity selected and choose **Lambda** as the service that will use this role, then click **Next: Permissions**.\n",
    "\n",
    "In the search box type `sagemaker` and select the check box next to the **AmazonSageMakerFullAccess** policy. Then, click on **Next: Review**.\n",
    "\n",
    "Lastly, give this role a name. Make sure you use a name that you will remember later on, for example `LambdaSageMakerRole`. Then, click on **Create role**."
   ]
  },
  {
   "cell_type": "markdown",
   "metadata": {},
   "source": [
    "#### Part B: Create a Lambda function\n",
    "\n",
    "Now it is time to actually create the Lambda function. Remember from earlier that in order to process the user provided input and send it to our endpoint we need to gather two pieces of information:\n",
    "\n",
    " - The name of the endpoint, and\n",
    " - the vocabulary object.\n",
    "\n",
    "We will copy these pieces of information to our Lambda function after we create it.\n",
    "\n",
    "To start, using the AWS Console, navigate to the AWS Lambda page and click on **Create a function**. When you get to the next page, make sure that **Author from scratch** is selected. Now, name your Lambda function, using a name that you will remember later on, for example `sentiment_analysis_xgboost_func`. Make sure that the **Python 3.6** runtime is selected and then choose the role that you created in the previous part. Then, click on **Create Function**.\n",
    "\n",
    "On the next page you will see some information about the Lambda function you've just created. If you scroll down you should see an editor in which you can write the code that will be executed when your Lambda function is triggered. Collecting the code we wrote above to process a single review and adding it to the provided example `lambda_handler` we arrive at the following.\n",
    "\n",
    "```python\n",
    "# We need to use the low-level library to interact with SageMaker since the SageMaker API\n",
    "# is not available natively through Lambda.\n",
    "import boto3\n",
    "\n",
    "# And we need the regular expression library to do some of the data processing\n",
    "import re\n",
    "\n",
    "REPLACE_NO_SPACE = re.compile(\"(\\.)|(\\;)|(\\:)|(\\!)|(\\')|(\\?)|(\\,)|(\\\")|(\\()|(\\))|(\\[)|(\\])\")\n",
    "REPLACE_WITH_SPACE = re.compile(\"(<br\\s*/><br\\s*/>)|(\\-)|(\\/)\")\n",
    "\n",
    "def review_to_words(review):\n",
    "    words = REPLACE_NO_SPACE.sub(\"\", review.lower())\n",
    "    words = REPLACE_WITH_SPACE.sub(\" \", words)\n",
    "    return words\n",
    "    \n",
    "def bow_encoding(words, vocabulary):\n",
    "    bow = [0] * len(vocabulary) # Start by setting the count for each word in the vocabulary to zero.\n",
    "    for word in words.split():  # For each word in the string\n",
    "        if word in vocabulary:  # If the word is one that occurs in the vocabulary, increase its count.\n",
    "            bow[vocabulary[word]] += 1\n",
    "    return bow\n",
    "\n",
    "\n",
    "def lambda_handler(event, context):\n",
    "    \n",
    "    vocab = \"*** ACTUAL VOCABULARY GOES HERE ***\"\n",
    "    \n",
    "    words = review_to_words(event['body'])\n",
    "    bow = bow_encoding(words, vocab)\n",
    "\n",
    "    # The SageMaker runtime is what allows us to invoke the endpoint that we've created.\n",
    "    runtime = boto3.Session().client('sagemaker-runtime')\n",
    "\n",
    "    # Now we use the SageMaker runtime to invoke our endpoint, sending the review we were given\n",
    "    response = runtime.invoke_endpoint(EndpointName = '***ENDPOINT NAME HERE***',# The name of the endpoint we created\n",
    "                                       ContentType = 'text/csv',                 # The data format that is expected\n",
    "                                       Body = ','.join([str(val) for val in bow]).encode('utf-8')) # The actual review\n",
    "\n",
    "    # The response is an HTTP response whose body contains the result of our inference\n",
    "    result = response['Body'].read().decode('utf-8')\n",
    "    \n",
    "    # Round the result so that our web app only gets '1' or '0' as a response.\n",
    "    result = round(float(result))\n",
    "\n",
    "    return {\n",
    "        'statusCode' : 200,\n",
    "        'headers' : { 'Content-Type' : 'text/plain', 'Access-Control-Allow-Origin' : '*' },\n",
    "        'body' : str(result)\n",
    "    }\n",
    "```"
   ]
  },
  {
   "cell_type": "markdown",
   "metadata": {},
   "source": [
    "Once you have copy and pasted the code above into the Lambda code editor, replace the `**ENDPOINT NAME HERE**` portion with the name of the endpoint that we deployed earlier. You can determine the name of the endpoint using the code cell below."
   ]
  },
  {
   "cell_type": "code",
   "execution_count": 50,
   "metadata": {},
   "outputs": [
    {
     "data": {
      "text/plain": [
       "'xgboost-2020-05-25-18-04-19-536'"
      ]
     },
     "execution_count": 50,
     "metadata": {},
     "output_type": "execute_result"
    }
   ],
   "source": [
    "xgb_predictor.endpoint"
   ]
  },
  {
   "cell_type": "markdown",
   "metadata": {},
   "source": [
    "In addition, you will need to copy the vocabulary dict to the appropriate place in the code at the beginning of the `lambda_handler` method. The cell below prints out the vocabulary dict in a way that is easy to copy and paste."
   ]
  },
  {
   "cell_type": "code",
   "execution_count": 51,
   "metadata": {},
   "outputs": [
    {
     "name": "stdout",
     "output_type": "stream",
     "text": [
      "{'this': 4457, 'group': 1980, 'of': 3083, 'english': 1483, 'are': 285, 'pleasure': 3306, 'to': 4507, 'watch': 4811, 'the': 4426, 'supporting': 4304, 'cast': 710, 'could': 1007, 'form': 1798, 'series': 3890, 'their': 4431, 'own': 3158, 'its': 2370, 'seen': 3865, 'before': 440, 'love': 2669, 'between': 475, 'head': 2057, 'his': 2118, 'wife': 4884, 'and': 226, 'new': 3003, 'pretty': 3384, 'boy': 557, 'resident': 3647, 'only': 3110, 'superior': 4300, 'acting': 99, 'skills': 4014, 'michael': 2829, 'kitchen': 2485, 'sexy': 3911, 'from': 1840, 'trash': 4565, 'category': 718, 'very': 4723, 'enjoyable': 1485, 'is': 2360, 'that': 4424, 'hard': 2033, 'accept': 80, 'would': 4957, 'fall': 1637, 'in': 2257, 'actually': 109, 'marry': 2745, 'who': 4871, 'like': 2599, 'me': 2778, 'hardly': 2036, 'an': 223, 'international': 2326, 'or': 3124, 'even': 1533, 'british': 589, 'sex': 3907, 'you': 4986, 'can': 665, 'understand': 4643, 'why': 4878, 'green': 1971, 'light': 2595, 'her': 2085, 'fire': 1734, 'with': 4911, 'doors': 1329, 'guy': 2000, 'almost': 193, 'steals': 4172, 'show': 3953, 'great': 1964, 'laid': 2508, 'back': 378, 'performance': 3228, 'father': 1666, 'david': 1124, 'him': 2110, 'way': 4820, 'we': 4823, 'live': 2625, 'now': 3054, 'completely': 922, 'different': 1248, 'get': 1899, 'idea': 2213, 'range': 3516, 'as': 311, 'secretary': 3850, 'toy': 4542, 'forget': 1793, 'mistress': 2874, 'makes': 2716, 'sorry': 4076, 'he': 2056, 'ever': 1538, 'looked': 2647, 'at': 331, 'body': 527, 'sidekick': 3966, 'buddies': 608, 'ive': 2372, 'said': 3774, 'have': 2052, 'they': 4442, 'good': 1937, 'whole': 4873, 'thing': 4450, 'deal': 1135, 'fun': 1848, 'recommend': 3571, 'it': 2366, 'thank': 4421, 'for': 1784, 'letting': 2583, 'paying': 3217, 'say': 3799, 'fascinating': 1658, 'was': 4805, 'pleasantly': 3303, 'surprised': 4313, 'find': 1726, 'how': 2181, 'lose': 2654, 'friends': 1837, 'people': 3221, 'nowhere': 3056, 'near': 2979, 'gross': 1978, 'out': 3141, 'comedy': 890, 'trailer': 4554, 'had': 2003, 'led': 2558, 'expect': 1575, 'became': 431, 'narrative': 2966, 'throughout': 4478, 'pacing': 3163, 'more': 2904, 'visual': 4757, 'humorous': 2193, 'content': 966, 'thought': 4462, 'spot': 4131, 'on': 3105, 'mean': 2779, 'got': 1944, 'impression': 2252, 'attempts': 343, 'lost': 2660, 'control': 977, 'much': 2934, 'real': 3547, 'time': 4495, 'so': 4046, 'speak': 4094, 'other': 3135, 'moments': 2887, 'there': 4438, 'allowed': 190, 'share': 3920, 'main': 2707, 'protagonists': 3442, 'ie': 2221, 'reflection': 3585, 'events': 1536, 'were': 4848, 'them': 4432, 'what': 4858, 'where': 4864, 'found': 1811, 'themselves': 4435, 'all': 187, 'characters': 760, 'well': 4843, 'some': 4061, 'extent': 1605, 'interesting': 2325, 'generally': 1881, 'quite': 3495, 'likable': 2598, 'any': 256, 'apparent': 269, 'ruthless': 3764, 'displayed': 1292, 'be': 418, 'by': 642, 'entertaining': 1499, 'scripted': 3835, 'brilliantly': 584, 'directed': 1259, 'superbly': 4297, 'acted': 98, 'film': 1716, 'thoroughly': 4459, 'one': 3107, 'things': 4451, 'about': 67, 'my': 2951, 'heart': 2064, 'dry': 1377, 'fly': 1763, 'major': 2711, 'part': 3193, 'scene': 3809, 'occasionally': 3075, 'carried': 698, 'times': 4497, 'having': 2054, 'tied': 4489, 'flies': 1756, 'being': 448, 'accompanied': 86, 'brother': 598, 'spend': 4105, 'day': 1129, 'river': 3707, 'another': 250, 'seeking': 3859, 'brown': 601, 'rise': 3702, 'take': 4349, 'has': 2043, 'been': 438, 'offered': 3088, 'when': 4862, 'differences': 1247, 'us': 4690, 'disappeared': 1271, 'world': 4946, 'away': 369, 'replaced': 3634, 'glory': 1922, 'place': 3282, 'amazing': 209, 'portrayed': 3342, 'two': 4620, 'sons': 4073, 'norman': 3035, 'something': 4066, 'many': 2732, 'cant': 671, 'just': 2437, 'start': 4156, 'casting': 711, 'your': 4991, 'line': 2610, 'hope': 2155, 'best': 469, 'yourself': 4993, 'surface': 4310, 'water': 4816, 'considering': 952, 'point': 3316, 'might': 2835, 'skill': 4013, 'level': 2584, 'land': 2511, 'long': 2644, 'enough': 1491, 'fish': 1738, 'note': 3044, 'strike': 4224, 'art': 304, 'represented': 3638, 'artists': 309, 'title': 4504, 'not': 3040, 'chosen': 805, 'did': 1241, 'fact': 1621, 'run': 3755, 'through': 4477, 'life': 2592, 'however': 2183, 'itself': 2371, 'than': 4420, 'family': 1645, 'community': 908, 'montana': 2895, 'played': 3297, 'draw': 1349, 'capture': 676, 'history': 2121, 'period': 3236, 'story': 4207, 'told': 4513, 'but': 636, 'may': 2775, 'comment': 898, 'does': 1308, 'contain': 962, 'spoilers': 4124, 'few': 1700, 'actors': 104, 'quality': 3484, 'which': 4867, 'charisma': 762, 'separate': 3883, 'truly': 4597, 'think': 4452, 'george': 1893, 'jack': 2373, 'nicholson': 3011, 'look': 2646, 'subtle': 4260, 'touches': 4535, 'scenes': 3811, 'word': 4937, 'andy': 230, '11': 2, 'utter': 4701, 'each': 1395, 'others': 3136, 'name': 2960, 'terry': 4415, 'danny': 1112, 'pick': 3265, 'number': 3060, 'performances': 3229, 'dating': 1120, 'far': 1653, 'five': 1743, 'easy': 1410, 'pieces': 3273, 'men': 2805, 'court': 1020, 'room': 3735, 'these': 4441, 'guys': 2001, 'add': 115, 'denzel': 1181, 'washington': 4806, 'small': 4033, 'list': 2617, 'terrific': 4409, 'everything': 1544, 'if': 2222, 'impressive': 2253, 'tribute': 4581, 'spike': 4111, 'lees': 2560, 'same': 3778, 'see': 3855, 'no': 3020, 'actor': 103, 'working': 4944, 'today': 4508, 'dont': 1324, 'mention': 2810, 'man': 2721, 'perfect': 3224, 'because': 432, 'work': 4940, 'definitely': 1162, 'production': 3419, 'literally': 2622, 'raw': 3532, 'emotional': 1459, 'plays': 3301, 'former': 1800, 'spy': 4135, 'cia': 814, 'agent': 150, 'those': 4460, 'government': 1948, 'hit': 2122, 'rock': 3720, 'bottom': 551, 'become': 433, 'killed': 2469, 'perhaps': 3235, 'done': 1322, 'left': 2561, 'made': 2697, 'bitter': 491, 'friend': 1835, 'christopher': 811, 'walken': 4777, 'living': 2629, 'mexico': 2827, 'making': 2718, 'comfortable': 892, 'providing': 3451, 'guard': 1988, 'rich': 3685, 'apparently': 270, 'business': 633, 'paid': 3169, 'such': 4268, 'do': 1302, 'while': 4868, 'needed': 2988, 'service': 3896, 'needs': 2990, 'job': 2405, 'seems': 3864, 'financial': 1725, 'anthony': 253, 'fine': 1729, 'mitchell': 2875, 'lisa': 2616, 'unbelievably': 4635, 'brilliant': 583, 'know': 2489, 'child': 789, 'age': 148, 'play': 3296, 'she': 3923, 'interpretation': 2328, 'nothing': 3047, 'short': 3946, 'oscar': 3133, 'worthy': 4956, 'films': 1721, 'entire': 1502, 'first': 1736, 'half': 2007, 'relationship': 3597, 'actress': 105, 'role': 3726, 'come': 886, 'across': 96, 'remarkable': 3613, 'drives': 1367, 'cinema': 816, 'together': 4511, 'bond': 532, 'developed': 1223, 'tony': 4521, 'scott': 3824, 'directs': 1267, 'eye': 1611, 'never': 3001, 'better': 472, 'am': 204, 'interested': 2324, 'next': 3007, 'domino': 1319, 'turns': 4609, 'todays': 4509, 'under': 4639, 'rated': 3527, 'directors': 1266, 'will': 4886, 'surely': 4309, 'icon': 2211, 'status': 4165, 'really': 3556, 'taking': 4352, 'definite': 1161, 'connection': 946, 'although': 201, 'loves': 2674, 'dad': 1095, 'around': 297, 'obviously': 3072, 'little': 2624, 'soon': 4074, 'swimming': 4338, 'competition': 918, 'reading': 3544, 'stories': 4205, 'bear': 420, 'friendship': 1838, 'deep': 1154, 'present': 3374, 'changes': 751, 'kidnapped': 2466, 'held': 2074, 'trying': 4601, 'protect': 3443, 'becomes': 434, 'thick': 4447, 'plot': 3309, 'tour': 4538, 'de': 1131, 'force': 1786, 'earlier': 1399, 'give': 1912, 'outstanding': 3147, 'training': 4558, 'possessed': 3347, 'possibility': 3349, 'dead': 1132, 'down': 1335, 'brand': 565, 'anger': 235, 'easily': 1406, 'person': 3238, 'responsible': 3656, 'justice': 2438, 'mexican': 2826, 'always': 203, 'seem': 3861, 'step': 4175, 'behind': 447, 'also': 199, 'brilliance': 582, 'criminals': 1058, 'due': 1382, 'often': 3095, 'frustrated': 1842, 'bad': 382, 'let': 2579, 'off': 3084, 'kinds': 2478, 'then': 4436, 'bullet': 620, 'die': 1243, 'writer': 4968, 'brian': 576, 'sees': 3866, 'here': 2086, 'painful': 3171, 'feel': 1684, 'experience': 1580, 'information': 2288, 'someone': 4064, 'loses': 2657, 'finger': 1731, 'wants': 4791, 'answers': 252, 'bomb': 531, 'placed': 3283, 'places': 3284, 'meant': 2784, 'pulled': 3462, 'true': 4596, '2004': 34, 'dvd': 1391, 'loaded': 2632, 'bonus': 534, 'features': 1680, 'include': 2261, 'hours': 2177, 'documentaries': 1306, 'commentary': 899, 'tracks': 4545, '10': 0, 'species': 4098, 'starts': 4159, 'friday': 1834, 'night': 3013, 'los': 2653, 'angeles': 233, 'dr': 1340, 'assistant': 326, 'walter': 4784, 'allen': 188, 'lee': 2559, 'burning': 627, 'midnight': 2834, 'oil': 3097, 'continue': 969, 'try': 4600, 'revolutionary': 3681, 'drug': 1373, 'called': 652, 'latest': 2526, 'failed': 1626, 'attempt': 340, 'sink': 3999, 'into': 2332, 'basement': 405, 'escaped': 1518, 'lab': 2501, 'rats': 3531, 'begin': 442, 'drink': 1361, 'outfit': 3144, 'including': 2264, 'cool': 989, 'gets': 1900, 'rat': 3525, 'gary': 1873, 'richard': 3686, 'derek': 1192, 'frank': 1821, 'decide': 1148, 'too': 4522, 'plan': 3287, 'up': 4683, 'party': 3200, 'douglas': 1334, 'robert': 3713, 'attacked': 338, 'breaks': 571, 'cage': 645, 'grows': 1985, 'rate': 3526, 'turn': 4605, 'leave': 2555, 'still': 4188, 'missing': 2869, 'everyone': 1542, 'helps': 2082, 'six': 4010, 'potential': 3355, 'food': 1778, 'known': 2492, 'co': 867, 'edited': 1420, 'miles': 2843, 'script': 3834, 'producer': 3415, 'poor': 3328, 'general': 1880, 'lame': 2510, 'dumb': 1385, 'annoying': 249, 'clichéd': 845, 'theres': 4440, 'unoriginal': 4673, 'mad': 2696, 'scientist': 3818, 'monster': 2892, 'created': 1037, 'isolated': 2363, 'location': 2635, 'human': 2188, 'final': 1722, 'showdown': 3955, 'hero': 2088, 'somewhere': 4069, 'moves': 2925, 'along': 195, 'fair': 1630, 'pace': 3161, 'thankfully': 4422, 'doesnt': 1309, 'last': 2521, 'basically': 407, 'average': 362, 'mill': 2845, 'killer': 2470, 'particularly': 3195, 'either': 1438, 'director': 1264, 'tv': 4610, 'bland': 500, 'forgettable': 1794, 'special': 4097, 'effects': 1431, 'attack': 337, 'lot': 2661, 'desired': 1206, 'cgi': 740, 'awful': 372, 'sequences': 3888, 'feature': 1678, 'hand': 2015, 'camera': 659, 'movement': 2923, 'quick': 3490, 'hide': 2097, 'sitting': 4007, 'various': 4715, 'points': 3319, 'need': 2987, 'shake': 3914, 'clearly': 840, 'screen': 3829, 'giant': 1905, 'end': 1468, 'looks': 2649, 'suit': 4284, 'scares': 3806, 'tension': 4404, 'atmosphere': 333, 'since': 3990, 'bright': 581, 'lighting': 2596, 'nice': 3008, 'bits': 490, 'gore': 1941, 'big': 478, 'hole': 2132, 'face': 1616, 'used': 4693, 'arm': 292, 'lots': 2662, 'cat': 713, 'technically': 4382, 'sub': 4252, 'standard': 4144, 'takes': 4351, 'within': 4912, 'building': 615, 'cheap': 774, 'looking': 2648, 'low': 2676, 'values': 4710, 'isnt': 2362, 'shes': 3930, 'bit': 488, 'babe': 375, 'easier': 1405, 'suppose': 4305, 'worse': 4951, 'worth': 4953, 'else': 1448, 'rubbish': 3748, 'excuse': 1564, 'television': 4394, 'single': 3996, 'most': 2909, 'god': 1926, 'piece': 3272, 'australian': 357, 'house': 2178, 'dull': 1384, 'uninteresting': 4660, 'ridiculously': 3694, 'picked': 3266, 'basis': 408, 'likely': 2601, 'murder': 2939, 'concerned': 932, 'western': 4853, 'society': 4050, 'showing': 3958, 'becoming': 435, 'brain': 562, 'whatever': 4859, 'happened': 2027, 'didnt': 1242, 'target': 4366, 'lowest': 2678, 'common': 906, 'audience': 352, 'cannot': 670, 'entertainment': 1500, 'channel': 753, 'ten': 4399, 'soul': 4079, 'once': 3106, 'comedian': 887, 'moving': 2928, 'horribly': 2164, 'unfunny': 4655, 'exception': 1557, 'highly': 2105, 'boxing': 556, 'ring': 3698, 'wedding': 4836, 'feels': 1687, 'trapped': 4564, 'troubles': 4594, 'over': 3148, 'cause': 723, 'trouble': 4592, 'bill': 481, 'gives': 1914, 'professional': 3421, 'carl': 692, 'given': 1913, 'alfred': 181, 'hitchcock': 2123, 'young': 4989, 'ian': 2209, 'hunter': 2199, 'went': 4847, 'career': 686, 'movies': 2927, 'bob': 524, 'catches': 715, 'girl': 1909, 'hall': 2009, 'davis': 1126, 'happens': 2029, 'engaged': 1480, 'round': 3742, 'stop': 4201, 'go': 1924, 'goes': 1930, 'several': 3905, 'wins': 4899, 'manager': 2724, 'fighter': 1708, 'heard': 2062, 'offers': 3090, 'gordon': 1940, 'make': 2713, 'fortune': 1806, 'plans': 3292, 'fight': 1707, 'attraction': 350, 'suspicious': 4332, 'puts': 3481, 'movie': 2926, 'himself': 2111, 'mighty': 2836, 'realistic': 3550, '20': 29, 'minutes': 2859, 'courage': 1018, 'triumph': 4590, 'question': 3487, 'want': 4788, 'starting': 4158, 'affair': 135, 'wouldnt': 4958, 'again': 146, 'symbolism': 4341, 'hands': 2020, 'confidence': 938, 'excellent': 1555, 'disappoint': 1272, 'recommended': 3572, 'ends': 1474, 'noir': 3023, 'crime': 1055, 'drama': 1346, 'shot': 3949, 'black': 493, 'white': 4870, 'accidentally': 85, 'kills': 2474, 'covers': 1024, 'committed': 905, 'crimes': 1056, 'past': 3207, 'towards': 4540, 'falling': 1639, 'woman': 4921, 'meets': 2795, 'lover': 2672, 'includes': 2263, 'andrews': 229, 'city': 825, 'curse': 1086, 'demon': 1177, 'gene': 1879, 'laura': 2536, 'ghost': 1902, 'mrs': 2930, 'mysterious': 2955, 'island': 2361, 'streets': 4217, 'san': 3780, 'francisco': 1819, 'beyond': 476, 'adventure': 130, 'craig': 1030, 'stevens': 4183, 'deadly': 1133, 'parts': 3199, 'checking': 778, 'chance': 747, 'rating': 3529, 'stars': 4155, 'comedic': 888, 'relief': 3605, 'written': 4972, 'every': 1539, 'reviews': 3679, 'suggested': 4281, 'huge': 2185, 'john': 2409, 'candy': 668, 'fan': 1648, 'myself': 2953, 'disappointment': 1275, 'days': 1130, 'after': 143, 'seeing': 3857, 'mark': 2739, 'eyes': 1613, 'wide': 4880, 'shut': 3961, 'effect': 1428, 'tired': 4501, 'happy': 2032, 'hollywood': 2137, 'endings': 1472, 'planning': 3291, 'going': 1931, 'tonight': 4519, 'regardless': 3590, 'messages': 2820, 'totally': 4532, 'felt': 1692, 'should': 3951, 'rule': 3753, 'states': 4163, 'evil': 1548, 'supposed': 4306, 'spirit': 4113, 'game': 1864, 'blowing': 515, 'possible': 3350, 're': 3535, 'survival': 4320, 'horror': 2168, 'damn': 1100, 'effective': 1429, 'yet': 4984, 'paul': 3214, 'anderson': 227, 'managed': 2723, 'video': 4733, 'alone': 194, 'dark': 1115, 'essentially': 1523, 'kind': 2476, 'course': 1019, 'slight': 4027, 'manage': 2722, 'action': 100, 'instead': 2307, 'proves': 3447, 'longer': 2645, 'games': 1865, 'despite': 1211, 'matter': 2769, 'problems': 3409, 'described': 1195, 'text': 4419, 'important': 2247, 'minute': 2858, 'passes': 3203, 'stops': 4203, 'caring': 691, 'sits': 4006, 'rest': 3657, 'hitting': 2126, 'object': 3066, 'closest': 857, 'ancient': 225, 'demons': 1178, 'viewers': 4739, 'follow': 1772, 'move': 2921, 'build': 614, 'ups': 4686, 'meaningless': 2782, 'deaths': 1142, 'released': 3603, 'edward': 1426, 'link': 2613, 'thanks': 4423, 'operation': 3117, 'children': 792, 'finds': 1728, 'involving': 2349, 'brings': 587, 'ex': 1549, 'girlfriend': 1910, 'manages': 2725, 'right': 3696, 'reason': 3557, 'hell': 2077, 'loose': 2650, 'pair': 3176, 'military': 2844, 'team': 4378, 'hatred': 2049, 'ridiculous': 3693, 'complicated': 925, 'leaves': 2556, 'anyone': 259, 'care': 684, 'must': 2950, 'bring': 585, 'ball': 388, 'bore': 540, 'confusion': 943, 'terrible': 4407, 'least': 2554, 'ruined': 3751, 'crap': 1031, 'cuts': 1091, 'based': 404, 'especially': 1520, 'chasing': 772, 'taxi': 4371, 'among': 217, 'worst': 4952, 'witness': 4914, 'somewhat': 4068, 'though': 4461, 'guns': 1998, 'involve': 2345, 'source': 4086, 'faster': 1662, 'crack': 1027, 'inducing': 2279, 'keeps': 2451, 'bed': 436, 'call': 651, 'sound': 4081, 'talent': 4354, 'exactly': 1551, 'background': 380, 'appeal': 271, 'whenever': 4863, 'tries': 4585, 'act': 97, 'disaster': 1276, 'incredibly': 2270, 'beginning': 443, 'type': 4621, 'future': 1856, 'keep': 2449, 'killing': 2472, 'middle': 2833, 'tommy': 4516, 'fighting': 1709, 'aliens': 184, 'unlike': 4670, 'deserve': 1199, 'second': 3846, 'anything': 260, 'possibly': 3351, 'help': 2079, 'equivalent': 1512, 'thrown': 4481, 'fits': 1741, 'youre': 4992, 'glad': 1916, 'total': 4531, 'watchable': 4812, 'old': 3100, 'youve': 4995, 'lived': 2626, '80s': 59, 'vietnam': 4735, 'against': 147, 'death': 1141, 'wish': 4904, 'favorite': 1671, 'soldiers': 4054, 'home': 2142, 'years': 4979, 'later': 2525, 'wait': 4770, 'thats': 4425, 'our': 3139, 'joey': 2408, 'horrifying': 2167, 'super': 4295, 'meat': 2787, 'defend': 1158, 'fathers': 1667, 'store': 4204, 'local': 2634, 'gang': 1867, 'bound': 553, 'war': 4792, 'desperate': 1208, 'talks': 4361, 'leader': 2546, 'unit': 4663, 'shows': 3960, 'funeral': 1849, 'imagine': 2238, 'crazy': 1035, 'theyre': 4445, 'ahead': 159, 'put': 3480, 'hadnt': 2004, 'battle': 414, 'nail': 2957, 'without': 4913, 'raise': 3507, 'moment': 2886, 'members': 2801, 'sure': 4308, 'watching': 4815, 'guess': 1989, 'horrible': 2163, 'climactic': 848, 'winds': 4895, 'happening': 2028, 'dramatic': 1348, 'happen': 2026, 'brutally': 604, 'kicking': 2462, 'innocent': 2294, 'aside': 315, 'confusing': 942, 'subplots': 4256, 'mystery': 2956, 'cross': 1066, 'purpose': 3474, 'motives': 2916, 'wasnt': 4807, 'save': 3794, 'maybe': 2776, 'itll': 2369, 'theyll': 4444, 'sequel': 3885, 'ha': 2002, 'pure': 3471, 'brief': 579, 'blond': 510, 'chick': 786, 'dialogue': 1234, 'sucked': 4270, 'mentioned': 2811, 'dressed': 1358, 'alas': 172, 'honor': 2150, 'numerous': 3062, 'mediocre': 2791, 'ben': 463, 'names': 2963, 'high': 2100, 'school': 3813, 'produced': 3414, 'mst3k': 2932, 'heads': 2059, 'roll': 3728, 'sci': 3815, 'fi': 1701, 'allowing': 191, 'pile': 3275, 'air': 164, 'doubt': 1332, 'al': 170, 'certainly': 738, 'presents': 3377, 'case': 707, 'wonder': 4926, 'praise': 3364, 'sounds': 4084, 'actions': 101, 'words': 4938, 'political': 3324, 'references': 3583, 'jimmy': 2403, 'carter': 703, 'integrity': 2311, 'talk': 4358, 'walks': 4780, 'walk': 4775, 'energy': 1478, 'turned': 4606, 'warm': 4794, 'wearing': 4831, 'tells': 4397, 'claims': 830, 'creating': 1039, 'global': 1920, 'warming': 4795, 'travels': 4569, 'private': 3404, 'jet': 2400, 'use': 4692, 'create': 1036, 'heat': 2067, 'pool': 3327, 'mansion': 2731, 'using': 4698, 'smaller': 4034, 'power': 3359, 'company': 910, 'react': 3540, '50': 51, 'calling': 653, 'loss': 2659, 'raising': 3509, 'turning': 4608, 'allow': 189, 'saving': 3797, 'planet': 3289, 'earth': 1403, 'diane': 1238, 'keaton': 2448, 'gave': 1875, 'rather': 3528, 'sad': 3767, 'funny': 1852, 'involved': 2346, 'secrets': 3852, 'daughter': 1121, 'loved': 2670, 'describe': 1194, 'dorothy': 1330, 'expression': 1602, 'wizard': 4919, 'sudden': 4272, 'car': 680, 'accident': 84, 'occurs': 3078, 'herself': 2092, 'deeply': 1156, 'daughters': 1122, 'lovers': 2673, 'view': 4736, 'enjoy': 1484, 'agree': 155, 'appalling': 268, 'quote': 3496, 'chinese': 796, 'laughing': 2533, 'doing': 1312, 'women': 4923, 'intensity': 2317, 'sense': 3877, 'tragedy': 4551, 'identity': 2217, 'during': 1387, 'dance': 1103, 'stupid': 4247, 'japanese': 2382, 'culture': 1079, 'similar': 3978, 'faces': 1618, 'match': 2762, 'anyway': 261, 'american': 213, 'european': 1530, 'liked': 2600, 'passionate': 3206, 'actresses': 106, 'lovely': 2671, 'yes': 4982, 'cinematography': 820, 'complex': 923, 'individuals': 2278, 'im': 2232, 'japan': 2381, 'animated': 241, 'caused': 724, 'native': 2972, 'elements': 1443, 'simple': 3983, 'trademark': 4548, 'viewer': 4738, 'plant': 3293, 'suddenly': 4273, 'enters': 1496, 'orders': 3127, 'refuses': 3587, 'hes': 2093, 'reality': 3551, 'factor': 1622, 'refreshing': 3586, 'technique': 4383, 'enjoyment': 1488, 'picture': 3269, 'nightmare': 3014, 'lucky': 2683, 'open': 3112, 'writing': 4971, 'sharp': 3922, 'direction': 1261, 'ideas': 2215, 'joan': 2404, 'cusack': 1088, 'inspiring': 2302, 'believe': 454, 'money': 2888, 'wild': 4885, 'absurd': 73, 'ride': 3692, 'resources': 3651, 'succeeds': 4264, 'jon': 2416, 'stewart': 4184, 'steven': 4182, 'snl': 4044, 'havent': 2053, 'shown': 3959, 'guts': 1999, 'says': 3801, 'steve': 4181, 'portraying': 3343, 'slightly': 4029, 'odd': 3080, 'straight': 4210, 'daily': 1097, 'roles': 3727, 'virgin': 4749, 'clever': 841, 'hilarious': 2106, 'perfectly': 3226, 'aged': 149, 'quiet': 3492, 'lonely': 2643, 'awkward': 374, 'sort': 4077, 'workers': 4943, 'reveals': 3673, 'jay': 2386, 'initially': 2291, 'situation': 4008, 'clear': 839, 'three': 4469, 'certain': 737, 'respect': 3652, 'decent': 1147, 'ending': 1471, 'begins': 444, 'quest': 3486, 'humor': 2192, 'situations': 4009, 'crude': 1069, 'stuff': 4243, 'intelligent': 2314, 'addition': 118, 'touching': 4536, 'developing': 1224, 'both': 547, 'romantic': 3733, 'relationships': 3598, 'portray': 3340, 'rolling': 3730, 'contains': 964, 'comparison': 914, 'summer': 4291, 'jokes': 2415, 'flick': 1754, 'giving': 1915, 'reminded': 3619, 'mary': 2751, 'smiling': 4037, 'finish': 1732, 'pulls': 3464, 'honest': 2146, 'laughs': 2534, 'budget': 610, 'works': 4945, 'admit': 122, 'creative': 1041, 'probably': 3407, 'string': 4227, 'whos': 4876, 'lives': 2628, 'strange': 4211, 'troubled': 4593, 'relate': 3593, 'dreams': 1355, 'third': 4455, 'realized': 3553, 'hidden': 2096, 'passed': 3202, 'complexity': 924, 'swedish': 4335, 'don': 1320, 'waste': 4808, 'tear': 4379, 'apart': 264, 'predictable': 3367, 'treasure': 4571, 'trick': 4582, 'weve': 4856, 'million': 2847, 'writers': 4969, 'majority': 2712, 'public': 3460, 'seconds': 3848, 'secret': 3849, 'manhattan': 2726, 'youd': 4987, 'gone': 1935, 'york': 4985, 'underground': 4640, 'discovered': 1280, 'constructed': 959, 'civil': 826, 'please': 3304, 'cute': 1090, 'romance': 3732, 'novels': 3053, 'weak': 4824, 'id': 2212, 'ass': 323, 'getting': 1901, 'paper': 3183, 'garbage': 1870, 'pan': 3180, 'boom': 537, 'pull': 3461, 'cinematic': 818, 'opportunity': 3121, 'cut': 1089, 'extended': 1604, 'version': 4720, 'favorites': 1672, 'fool': 1779, 'producers': 3416, 'release': 3602, 'everywhere': 1545, 'theaters': 4428, 'hasnt': 2044, 'falls': 1640, 'persons': 3244, 'drive': 1363, 'push': 3477, 'realize': 3552, 'beautiful': 428, 'fault': 1668, 'comes': 891, 'ones': 3108, 'dennis': 1179, 'solid': 4057, 'jim': 2402, 'morris': 2908, 'science': 3816, 'teacher': 4375, 'baseball': 403, 'coach': 868, 'pushed': 3478, 'cox': 1026, 'navy': 2976, 'officer': 3092, 'support': 4303, 'villain': 4744, 'complaint': 920, 'sign': 3970, 'national': 2970, 'seriously': 3892, 'belongs': 460, 'handful': 2017, 'field': 1704, 'natural': 2973, 'thumbs': 4485, 'nor': 3032, 'choice': 797, 'star': 4150, 'gay': 1876, 'americans': 214, 'tend': 4400, 'largely': 2518, 'regard': 3588, 'opinion': 3118, 'whats': 4860, 'doc': 1303, 'favor': 1670, 'rent': 3626, 'judy': 2426, 'classic': 835, 'original': 3129, 'skip': 4016, 'late': 2523, 'change': 749, 'catch': 714, 'simplicity': 3984, 'hearts': 2066, 'remind': 3618, 'rare': 3523, 'check': 777, 'joe': 2407, 'nick': 3012, 'emotionally': 1460, 'complete': 921, 'lines': 2612, 'order': 3126, 'ill': 2228, 'tell': 4395, 'kids': 2467, 'talented': 4355, 'settings': 3901, 'nature': 2975, 'filled': 1715, 'recognize': 3569, 'fully': 1847, 'aware': 368, 'sappy': 3784, 'avoid': 363, 'celluloid': 731, 'costs': 1004, 'incoherent': 2265, 'pride': 3391, '70s': 56, 'shocked': 3939, 'coherent': 871, 'horses': 2171, 'mate': 2765, 'werewolf': 4850, 'plain': 3286, 'sit': 4003, 'soundtrack': 4085, 'dubbed': 1379, 'badly': 383, 'cover': 1022, 'reaching': 3539, 'womans': 4922, 'bare': 398, 'wont': 4932, 'frankly': 1823, 'smith': 4038, 'wasted': 4809, 'nearly': 2981, 'debut': 1143, 'offering': 3089, 'music': 2946, 'irritating': 2359, 'simply': 3986, 'dire': 1257, 'efforts': 1433, 'filmmaker': 1719, 'saying': 3800, 'mistakes': 2873, 'write': 4967, 'scripts': 3836, 'etc': 1527, 'purchase': 3469, 'watched': 4813, 'absolutely': 72, 'sympathy': 4343, 'mr': 2929, 'builds': 617, 'dream': 1354, 'neither': 2996, 'bringing': 586, 'baby': 376, 'thin': 4449, 'male': 2719, 'bride': 577, 'wonderful': 4928, 'wit': 4908, 'taste': 4369, 'occasional': 3074, 'tongue': 4518, 'cheek': 779, 'post': 3352, 'wwii': 4975, 'grant': 1956, 'absolute': 71, 'top': 4525, 'playing': 3300, 'mouse': 2919, 'country': 1014, 'adorable': 124, 'pre': 3365, 'early': 1400, 'tarzan': 4367, 'editing': 1421, 'above': 68, 'par': 3184, 'numbers': 3061, 'slapstick': 4019, 'adaptation': 113, 'pit': 3278, 'grace': 1950, 'chuck': 812, 'example': 1553, 'continues': 971, 'further': 1853, 'deals': 1137, 'league': 2549, 'decides': 1150, 'existence': 1571, 'nuclear': 3057, 'weapons': 4829, 'until': 4680, 'alex': 179, 'join': 2412, 'reaches': 3538, 'college': 875, 'sports': 4130, 'seasons': 3844, 'nobody': 3022, 'review': 3676, 'prepared': 3371, 'premise': 3370, 'remember': 3616, 'reached': 3537, 'message': 2819, 'poorly': 3329, 'boys': 559, 'impossible': 2249, 'overcome': 3151, 'shame': 3918, 'plenty': 3307, 'curtis': 1087, 'character': 758, 'wishes': 4906, 'teach': 4374, 'types': 4622, 'shoot': 3942, 'knew': 2486, 'wrong': 4973, 'headed': 2058, 'west': 4852, 'actual': 108, 'genius': 1887, 'side': 3965, 'cold': 872, 'knows': 2493, 'usa': 4691, 'makers': 2715, 'intended': 2315, 'america': 212, 'wing': 4896, 'stick': 4185, 'tiger': 4491, 'dragon': 1344, 'saw': 3798, 'blockbuster': 509, 'figured': 1712, 'typical': 4623, 'luckily': 2682, 'feeling': 1685, 'wonderfully': 4929, 'southern': 4088, 'style': 4249, 'spectacular': 4101, 'helped': 2080, 'aspect': 321, 'awesome': 371, 'shines': 3932, 'amazingly': 210, 'jeffrey': 2391, 'directing': 1260, 'combination': 883, 'development': 1225, 'wishing': 4907, 'hoping': 2160, 'lets': 2580, 'dynamic': 1394, 'edge': 1418, 'seat': 3845, 'guessing': 1991, 'ready': 3546, 'dozens': 1339, 'silent': 3975, 'beautifully': 429, 'scenery': 3810, 'breath': 573, 'goodness': 1938, 'attention': 345, 'picking': 3267, 'rough': 3741, 'pleasant': 3302, 'specifically': 4100, 'focused': 1767, 'issues': 2365, 'dealt': 1138, 'artistic': 308, 'extras': 1608, 'thinking': 4453, 'catching': 716, 'disease': 1285, 'space': 4090, 'melting': 2799, 'explain': 1586, 'shouldnt': 3952, 'hello': 2078, 'aka': 168, 'panic': 3181, 'adam': 111, 'sandler': 3781, 'cruise': 1071, 'ship': 3934, 'encounters': 1467, 'executed': 1565, 'cannibal': 669, 'daddy': 1096, 'billy': 482, 'drew': 1360, 'hot': 2174, 'red': 3576, 'aint': 163, 'tried': 4584, 'husbands': 2205, 'student': 4238, 'showed': 3956, 'strong': 4229, 'compare': 911, 'der': 1191, 'sight': 3969, 'forever': 1792, 'front': 1841, 'baker': 385, 'material': 2766, 'fear': 1676, 'remake': 3612, 'walking': 4779, 'tall': 4362, 'anti': 254, 'took': 4523, 'shots': 3950, 'lively': 2627, 'appropriate': 283, 'tone': 4517, 'spite': 4117, 'exotic': 1574, 'locations': 2636, 'cowboy': 1025, 'theme': 4433, 'idiot': 2218, 'tough': 4537, 'hurt': 2202, 'wounded': 4961, 'worked': 4941, 'cooper': 990, 'market': 2740, 'chief': 788, 'following': 1774, 'noticed': 3049, 'gotten': 1947, 'drop': 1369, 'forced': 1787, 'gun': 1996, 'bush': 632, 'dog': 1310, 'taken': 4350, 'admire': 121, 'ok': 3098, 'silly': 3976, 'stunts': 4246, 'relatively': 3600, 'plus': 3311, 'couple': 1016, 'alive': 186, 'positive': 3346, '90': 60, 'set': 3898, 'heavy': 2070, 'critics': 1064, 'mike': 2838, 'pay': 3216, 'masterful': 2758, 'kirk': 2482, 'recognized': 3570, 'returns': 3668, 'absence': 70, 'jessica': 2398, 'contact': 961, 'disney': 1289, 'foul': 1810, 'language': 2516, 'unnecessary': 4672, 'married': 2744, 'insult': 2309, 'intelligence': 2313, 'according': 88, 'slasher': 4020, 'non': 3027, 'charlie': 765, 'gory': 1943, 'gonna': 1936, 'flicks': 1755, 'dawn': 1127, 'precious': 3366, 'worthless': 4954, 'exciting': 1563, 'spielberg': 4110, 'intriguing': 2335, 'figure': 1711, 'opening': 3114, 'credits': 1050, 'suspense': 4330, 'liking': 2604, 'extra': 1606, 'activities': 102, 'william': 4887, 'unexpected': 4650, 'twists': 4619, 'unfortunately': 4654, 'pitch': 3279, 'suspect': 4327, 'masterpiece': 2759, 'ashley': 313, 'compared': 912, 'kate': 2446, 'kinda': 2477, 'jerk': 2395, 'mom': 2885, 'likes': 2602, 'kid': 2464, 'weird': 4841, 'hotel': 2175, 'gift': 1906, 'shining': 3933, 'except': 1556, 'boring': 543, 'finally': 1724, 'kill': 2468, 'naked': 2959, 'realizes': 3554, 'kissing': 2484, 'corpse': 999, 'utterly': 4702, 'disgusting': 1286, 'somehow': 4063, 'mans': 2730, 'vehicle': 4718, 'dies': 1245, 'arent': 288, 'trashy': 4566, 'corny': 997, 'twisted': 4618, 'description': 1197, 'storyline': 4208, 'slow': 4031, 'tedious': 4387, 'extremely': 1610, 'overrated': 3156, 'imdb': 2240, 'finest': 1730, 'entirely': 1503, 'commercial': 902, 'success': 4265, 'warned': 4798, 'memorable': 2802, 'ultimately': 4628, 'tragic': 4552, 'filmmakers': 1720, 'innovative': 2295, 'bleak': 503, 'offer': 3087, 'wars': 4804, 'simplistic': 3985, 'featuring': 1681, 'powerful': 3360, 'backgrounds': 381, 'explained': 1587, 'voight': 4764, 'hoffman': 2128, 'sympathetic': 4342, 'sometimes': 4067, 'exploitation': 1592, 'sleazy': 4023, 'street': 4216, 'close': 853, 'wrote': 4974, 'box': 555, 'bother': 548, 'choreographed': 801, 'intrigue': 2333, 'violence': 4747, 'miserable': 2863, 'kung': 2498, 'fu': 1844, 'suspend': 4329, 'disbelief': 1277, 'skin': 4015, 'revealing': 3672, 'furthermore': 1854, 'unwatchable': 4682, 'choose': 799, 'remain': 3609, 'correct': 1000, 'jonathan': 2417, 'ps': 3453, 'choreography': 802, 'succeed': 4262, 'variety': 4714, 'angles': 237, 'angle': 236, 'emotions': 1461, 'terror': 4412, 'amongst': 218, 'inside': 2297, 'combat': 882, 'compelling': 916, 'boot': 538, 'examples': 1554, 'speaks': 4096, 'highest': 2102, 'wholly': 4874, 'unforgettable': 4652, 'starring': 4154, 'johnny': 2410, 'surprisingly': 4316, 'year': 4978, 'obvious': 3071, 'shooting': 3943, 'multiple': 2936, 'award': 366, 'winning': 4898, 'cinematographer': 819, 'gabriel': 1859, 'score': 3822, 'cost': 1003, 'less': 2575, 'filming': 1718, 'expensive': 1579, 'advantage': 129, 'related': 3594, 'temple': 4398, 'built': 618, 'rocks': 3722, 'kurt': 2499, 'stayed': 4167, 'finished': 1733, 'obnoxious': 3067, 'sings': 3997, 'horrendous': 2162, 'songs': 4072, 'africa': 141, 'considered': 951, 'surprising': 4315, 'disturbing': 1300, 'facts': 1624, 'guilt': 1994, 'ridden': 3691, 'intention': 2319, 'heroic': 2090, 'logic': 2638, 'blood': 512, 'required': 3641, 'toward': 4539, 'emily': 1456, 'limited': 2606, 'nevertheless': 3002, 'seemed': 3862, 'able': 66, 'bone': 533, 'cases': 708, 'doctors': 1305, 'hopefully': 2157, 'soap': 4047, 'opera': 3116, 'miss': 2866, 'creepy': 1052, 'wolf': 4920, 'full': 1846, 'shorts': 3948, 'beat': 423, 'hear': 2061, 'strip': 4228, 'club': 863, 'sick': 3963, 'joke': 2414, 'normal': 3033, 'families': 1644, 'porn': 3336, 'sold': 4052, 'embarrassed': 1453, 'advertising': 132, 'sam': 3777, 'town': 4541, 'elderly': 1440, 'describes': 1196, '50s': 52, 'decade': 1144, 'ago': 154, 'shoots': 3944, 'nude': 3058, 'photographer': 3259, 'met': 2822, 'central': 735, 'element': 1442, 'searching': 3842, 'soft': 4051, 'core': 995, 'topless': 4527, 'grand': 1953, 'designed': 1203, 'growing': 1983, 'standards': 4145, 'tame': 4363, 'statement': 4162, 'believing': 457, 'beach': 419, 'wear': 4830, 'steal': 4170, 'dig': 1250, 'buying': 641, 'member': 2800, 'hardcore': 2034, 'luck': 2681, 'seven': 3903, 'reviewer': 3677, 'noted': 3045, 'charge': 761, 'virtually': 4751, 'polished': 3323, 'credit': 1049, 'degree': 1164, 'animation': 242, 'silver': 3977, 'catchy': 717, 'tune': 4602, 'lead': 2545, 'attracted': 349, 'explored': 1595, 'girls': 1911, 'sets': 3899, 'huh': 2187, 'serve': 3893, 'aspects': 322, 'image': 2233, '100': 1, 'leaving': 2557, 'factory': 1623, 'none': 3028, 'remotely': 3623, 'read': 3543, 'videos': 4734, '16': 8, 'per': 3223, 'passing': 3204, 'curiosity': 1082, 'reasons': 3560, 'brothers': 599, 'stronger': 4230, 'impact': 2244, 'individual': 2277, 'critic': 1061, 'hated': 2047, 'september': 3884, 'segment': 3867, 'direct': 1258, 'subject': 4253, 'offensive': 3086, 'mind': 2849, 'pretentious': 3383, 'suicide': 4283, 'suggest': 4280, 'greater': 1965, 'topic': 4526, 'lack': 2502, 'whatsoever': 4861, 'countries': 1013, 'views': 4742, 'practice': 3363, 'haunting': 2051, 'psychological': 3458, 'thriller': 4472, 'improved': 2255, '1999': 27, 'fellow': 1691, 'oh': 3096, 'sensitive': 3879, 'concern': 931, 'laughable': 2530, 'bruce': 602, 'difficult': 1249, 'ended': 1470, 'repeated': 3631, 'usual': 4699, 'terms': 4406, 'requires': 3642, 'effort': 1432, 'desert': 1198, 'stunning': 4244, 'landscape': 2513, 'overwhelming': 3157, 'presence': 3373, 'silence': 3974, 'sadness': 3770, 'freedom': 1828, 'distant': 1295, 'alien': 183, 'urban': 4688, 'airplane': 166, 'flying': 1764, 'approach': 282, 'stylish': 4251, 'express': 1600, 'innocence': 2293, 'understated': 4646, 'result': 3660, 'detail': 1217, 'climax': 849, 'explosions': 1597, 'awe': 370, 'packed': 3166, 'depth': 1190, 'previous': 3387, 'viewed': 4737, 'politics': 3326, 'police': 3322, 'adds': 119, 'exist': 1569, 'italy': 2368, 'france': 1816, 'ways': 4822, 'interest': 2323, 'whose': 4877, 'universal': 4665, 'timeless': 4496, 'fantastic': 1651, 'contemporary': 965, 'concept': 930, 'stand': 4143, 'uses': 4697, 'traditional': 4550, 'patient': 3211, 'regret': 3591, 'holes': 2133, 'hearing': 2063, 'adults': 126, 'folks': 1771, 'disappointed': 1273, 'novel': 3052, 'louis': 2665, 'follows': 1775, 'stanley': 4148, 'sent': 3880, 'juvenile': 2441, 'camp': 662, 'zero': 4996, 'unique': 4662, 'sir': 4000, 'book': 535, 'kick': 2460, 'involves': 2348, 'sword': 4340, 'random': 3514, 'supernatural': 4302, 'twist': 4617, 'merely': 2815, 'filmed': 1717, 'someones': 4065, 'knowledge': 2491, 'holds': 2131, 'mostly': 2910, 'laugh': 2529, 'stage': 4139, 'entry': 1504, 'large': 2517, 'focus': 1766, 'chan': 746, 'cutting': 1092, 'duke': 1383, 'sweet': 4336, 'chorus': 803, 'code': 869, 'fed': 1682, 'blonde': 511, 'otherwise': 3137, 'competent': 917, 'singer': 3993, 'stereotypical': 4180, 'detective': 1220, 'lucy': 2684, '70': 55, 'recently': 3567, 'argument': 291, 'context': 968, 'enormous': 1490, 'studio': 4240, 'faced': 1617, 'speaking': 4095, 'search': 3841, 'beauty': 430, 'buffs': 612, 'discussion': 1284, 'asian': 314, 'believed': 455, 'epic': 1506, 'rights': 3697, 'class': 833, 'treats': 4575, 'hired': 2117, '20th': 38, 'feelings': 1686, 'credible': 1048, '1930s': 11, 'cartoon': 704, 'victim': 4729, 'rebel': 3561, 'violent': 4748, 'attitude': 346, 'fans': 1650, 'rain': 3506, 'machine': 2693, 'mickey': 2831, 'slap': 4018, 'throwing': 4480, 'shape': 3919, 'load': 2631, 'portrays': 3344, 'coming': 896, 'ed': 1415, 'band': 391, 'driver': 1366, 'russian': 3762, 'bunch': 623, 'represents': 3639, 'born': 544, 'shirt': 3937, 'consider': 949, 'inspired': 2301, 'couldnt': 1008, 'added': 116, 'interaction': 2322, 'convinced': 984, 'psychiatrist': 3455, 'telling': 4396, 'con': 928, 'crafted': 1029, 'fast': 1661, 'pie': 3271, 'flat': 1748, 'spending': 4106, 'porno': 3337, 'ad': 110, 'older': 3101, '12': 3, 'bought': 552, 'tape': 4365, 'came': 656, 'creators': 1044, 'bugs': 613, 'voiced': 4762, 'brad': 560, 'hyde': 2206, 'bird': 484, 'died': 1244, 'hate': 2046, 'professor': 3422, 'enjoyed': 1486, 'witty': 4917, 'paced': 3162, 'charming': 768, 'adult': 125, 'emma': 1457, 'roberts': 3714, 'superb': 4296, 'criticism': 1063, 'stood': 4199, 'costume': 1005, 'altogether': 202, 'independent': 2272, 'reveal': 3670, 'strongly': 4231, 'parent': 3187, 'legs': 2566, 'plight': 3308, 'chemistry': 782, 'julie': 2428, 'table': 4346, 'potentially': 3356, 'cheesy': 781, 'corporate': 998, 'believable': 453, 'enjoys': 1489, 'scary': 3807, 'jump': 2429, 'scare': 3803, 'clue': 864, 'buy': 640, 'routine': 3743, 'husband': 2204, 'fetched': 1698, 'impressed': 2251, 'train': 4556, 'wreck': 4965, 'motion': 2913, 'goal': 1925, 'center': 732, 'network': 3000, 'forms': 1801, 'hart': 2041, 'mob': 2879, 'boss': 546, 'deliberately': 1166, 'maintain': 2710, 'means': 2783, 'necessary': 2984, 'nicely': 3009, 'politically': 3325, 'liners': 2611, 'personal': 3240, 'mine': 2853, 'sum': 4289, 'deserves': 1201, 'higher': 2101, 'stock': 4193, 'documentary': 1307, 'bat': 410, 'hanging': 2023, 'unsettling': 4679, 'indeed': 2271, 'sequence': 3887, 'forty': 1807, 'downright': 1337, 'bloody': 513, 'broken': 594, 'problem': 3408, 'consists': 955, 'running': 3756, 'screaming': 3827, 'arms': 294, 'vacation': 4704, 'suck': 4269, 'synopsis': 4344, 'peoples': 3222, 'reference': 3582, 'page': 3167, 'summary': 4290, 'convince': 983, 'mouth': 2920, 'covered': 1023, 'drugs': 1374, 'behave': 445, 'pushing': 3479, 'creature': 1045, 'essential': 1522, 'study': 4242, 'eventually': 1537, 'runs': 3757, 'hills': 2109, 'chase': 769, 'expected': 1577, 'price': 3389, 'fifteen': 1706, 'twenty': 4612, 'thirty': 4456, 'journey': 2421, 'cop': 991, 'moral': 2902, 'missed': 2867, 'italian': 2367, 'sadly': 3769, 'upon': 4684, 'commit': 904, 'grab': 1949, 'stomach': 4196, 'incredible': 2269, 'amount': 219, 'realise': 3548, 'hour': 2176, 'mature': 2773, 'waited': 4771, 'spent': 4108, 'everyday': 1541, 'projects': 3428, 'distribution': 1298, 'urge': 4689, 'meet': 2793, 'roger': 3724, 'china': 795, 'opportunities': 3120, 'provides': 3450, 'interviews': 2330, 'four': 1812, 'contrast': 975, 'bizarre': 492, 'footage': 1782, 'landing': 2512, 'interview': 2329, 'serves': 3895, 'window': 4894, 'lies': 2591, 'started': 4157, 'broadway': 592, 'soviet': 4089, 'union': 4661, 'nazi': 2977, 'germany': 1898, 'infamous': 2284, 'signed': 3971, 'communist': 907, 'months': 2897, 'ran': 3513, 'april': 284, 'players': 3299, 'repeat': 3630, 'wilson': 4891, 'butler': 637, 'eric': 1514, 'son': 4070, 'importantly': 2248, 'hat': 2045, 'golden': 1934, 'awards': 367, 'won': 4925, 'whom': 4875, 'bell': 458, 'bigger': 479, 'office': 3091, 'nomination': 3026, 'usually': 4700, 'academy': 77, 'warner': 4799, 'christians': 809, 'bette': 471, 'wanted': 4789, 'associated': 327, 'dinner': 1254, 'german': 1896, 'europe': 1529, 'welcome': 4842, 'naturally': 2974, 'meeting': 2794, 'double': 1331, 'dealing': 1136, 'suspects': 4328, 'theyve': 4446, 'spain': 4091, 'health': 2060, 'decision': 1151, 'decisions': 1152, 'affect': 136, 'adding': 117, 'creatures': 1046, 'significant': 3972, 'cards': 683, 'creation': 1040, 'henry': 2084, 'brought': 600, 'account': 89, 'count': 1010, 'nazis': 2978, 'equally': 1510, 'losing': 2658, 'nominated': 3025, 'adapted': 114, 'screenplay': 3831, 'specific': 4099, 'bears': 421, 'flesh': 1753, 'dutch': 1389, 'greatest': 1966, 'disagree': 1269, 'recall': 3562, 'basic': 406, 'instinct': 2308, 'jerry': 2396, 'hollow': 2135, 'underrated': 4642, 'dialog': 1232, 'blunt': 520, 'trust': 4598, 'barely': 399, 'pathetic': 3210, 'recent': 3566, 'catherine': 719, 'jones': 2418, 'fairly': 1631, 'breathtaking': 574, 'gorgeous': 1942, 'makeup': 2717, 'appears': 278, 'mix': 2876, 'comments': 901, 'youll': 4988, 'genre': 1888, 'nine': 3017, 'rendition': 3625, 'highlight': 2103, 'loud': 2664, 'atrocious': 335, 'granted': 1957, 'honestly': 2147, 'useless': 4695, 'jumped': 2430, 'retarded': 3663, 'harsh': 2040, 'images': 2235, 'ladies': 2506, 'bodies': 526, 'wandering': 4785, 'tight': 4492, 'prior': 3400, 'tunes': 4603, '15': 7, 'safety': 3772, 'yeah': 4977, 'opens': 3115, 'unintentionally': 4659, 'sun': 4292, 'device': 1227, 'experienced': 1581, 'rocket': 3721, 'murders': 2943, 'incident': 2260, 'seemingly': 3863, 'charles': 764, 'alike': 185, 'turkey': 4604, 'treated': 4573, 'anymore': 258, 'switch': 4339, 'sunshine': 4294, 'shadow': 3912, 'rooms': 3736, 'extreme': 1609, 'photography': 3260, 'contest': 967, 'sunday': 4293, 'louise': 2666, 'brooks': 596, 'enter': 1494, 'represent': 3637, 'jealous': 2388, 'display': 1291, 'winner': 4897, 'receives': 3565, 'wondering': 4930, 'length': 2569, 'thus': 4486, 'chased': 770, 'prince': 3396, 'staying': 4168, 'photographed': 3258, 'distracting': 1297, 'print': 3399, 'overlook': 3153, 'visually': 4758, 'moon': 2900, 'repetitive': 3633, 'dude': 1381, 'survivor': 4324, 'escapes': 1519, 'cave': 727, 'chases': 771, 'destroyed': 1214, 'asked': 317, 'rape': 3521, 'revenge': 3675, 'thrillers': 4473, 'treat': 4572, 'tale': 4353, '1980s': 21, 'scenario': 3808, 'lady': 2507, 'bbc': 417, 'influenced': 2287, 'pack': 3165, 'rural': 3758, 'involvement': 2347, 'pictures': 3270, 'road': 3709, 'listen': 2619, 'carefully': 689, 'thousands': 4466, 'crying': 1074, 'despair': 1207, 'deserved': 1200, 'fat': 1663, 'zombie': 4997, 'began': 441, 'angry': 238, 'acceptable': 81, 'beings': 449, 'vaguely': 4706, 'pointless': 3318, 'mess': 2818, 'anywhere': 263, 'zombies': 4998, 'genuinely': 1892, 'generous': 1886, 'francis': 1818, 'elephant': 1444, 'century': 736, 'england': 1482, 'handled': 2019, 'thomas': 4458, 'law': 2538, 'hung': 2197, 'circle': 821, 'test': 4416, 'timothy': 4499, 'wind': 4893, 'sell': 3871, 'consequences': 947, 'leads': 2548, 'overall': 3150, 'doctor': 1304, 'devils': 1229, 'laughably': 2531, 'already': 197, 'ugly': 4625, 'stephen': 4176, 'keeping': 2450, 'accent': 78, 'particular': 3194, 'irish': 2353, 'forth': 1804, 'demand': 1174, 'song': 4071, 'clothes': 860, 'happiness': 2031, 'emotion': 1458, 'surrounded': 4318, 'dalton': 1098, 'portrayal': 3341, 'overly': 3155, 'driven': 1365, 'vast': 4716, 'conspiracy': 956, 'blame': 499, 'armed': 293, 'forces': 1788, 'army': 295, 'served': 3894, 'equipment': 1511, 'officers': 3093, 'corrupt': 1001, 'idiots': 2220, 'blatant': 502, 'propaganda': 3435, 'presented': 3376, 'cliche': 843, 'legend': 2564, 'truth': 4599, 'korean': 2495, 'serious': 3891, 'responsibility': 3655, 'solve': 4060, 'charlotte': 766, 'jane': 2380, 'eyre': 1614, 'lacking': 2504, 'imagination': 2236, 'miscast': 2862, 'musical': 2947, 'wet': 4855, 'capable': 672, 'passion': 3205, 'acts': 107, 'devoid': 1230, 'aid': 160, 'surrounding': 4319, 'doll': 1313, 'empty': 1465, 'aunt': 355, 'reed': 3580, 'amanda': 205, 'root': 3737, 'beloved': 461, 'authentic': 358, 'viewing': 4740, 'morgan': 2905, 'web': 4833, 'site': 4005, 'amazed': 208, 'viewings': 4741, 'personally': 3243, 'narrator': 2967, 'narration': 2965, 'introduction': 2339, 'insight': 2298, 'allows': 192, 'connect': 944, 'gain': 1863, 'understanding': 4645, 'modern': 2882, 'grasp': 1960, 'sexual': 3908, 'depressing': 1188, 'holiday': 2134, 'christmas': 810, 'depressed': 1187, 'dying': 1393, 'worried': 4949, 'happily': 2030, 'portion': 3338, 'forgotten': 1797, 'tree': 4576, 'carol': 693, 'unless': 4669, 'brains': 563, 'below': 462, 'unbearable': 4633, 'buff': 611, 'tomatoes': 4515, 'homeless': 2143, 'kicked': 2461, 'balls': 390, 'younger': 4990, 'sister': 4001, 'king': 2479, 'hill': 2108, 'bored': 541, 'thief': 4448, 'diamond': 1236, 'pretending': 3382, 'ripped': 3701, 'expecting': 1578, 'hire': 2116, 'chicks': 787, 'fell': 1690, 'asleep': 320, 'depiction': 1185, '30s': 44, '40s': 49, 'racism': 3502, 'fashion': 1659, 'abc': 63, 'sutherland': 4333, 'stale': 4141, 'monkey': 2890, 'highlights': 2104, 'explains': 1589, 'survived': 4322, 'survive': 4321, 'plane': 3288, 'ted': 4386, 'amy': 222, 'ninja': 3018, 'murdered': 2940, 'samurai': 3779, 'ghosts': 1903, 'decided': 1149, 'blue': 518, 'figures': 1713, 'randomly': 3515, 'pop': 3330, 'haunted': 2050, 'mistaken': 2872, 'brutal': 603, 'edgar': 1417, 'poem': 3312, 'karloff': 2445, 'demented': 1176, 'size': 4012, 'dolls': 1316, 'terrifying': 4410, 'experiences': 1582, 'mysteries': 2954, 'popcorn': 3331, 'dan': 1102, 'centers': 734, 'vincent': 4746, 'eccentric': 1414, 'blake': 498, 'victoria': 4732, 'roy': 3745, 'manner': 2729, 'mundane': 2938, 'animal': 239, 'controversial': 978, 'failure': 1629, 'broadcast': 591, 'episodes': 1508, 'guest': 1992, 'logical': 2639, 'biggest': 480, 'loser': 2655, '60': 53, 'omen': 3104, 'daring': 1114, 'fails': 1628, 'larger': 2519, 'spanish': 4092, 'countless': 1012, 'wake': 4774, 'westerns': 4854, 'established': 1524, 'martin': 2748, 'ironically': 2356, 'genres': 1889, '1970s': 17, 'nowadays': 3055, 'practically': 3362, 'qualities': 3483, 'purchased': 3470, 'edition': 1422, 'sole': 4055, 'sheer': 3925, 'instance': 2304, 'widow': 4883, 'legendary': 2565, 'priest': 3392, 'blind': 506, 'identify': 2216, 'stranger': 4213, 'fare': 1655, 'captain': 674, '1972': 18, 'nudity': 3059, 'afternoon': 144, 'outside': 3146, 'medium': 2792, 'church': 813, 'quit': 3494, 'putting': 3482, 'complain': 919, 'torture': 4529, 'computer': 927, 'screens': 3832, 'drivel': 1364, 'cheese': 780, 'excitement': 1562, 'paint': 3173, 'rush': 3759, 'speed': 4103, 'sport': 4129, 'hurts': 2203, 'redemption': 3578, 'hooked': 2153, 'ashamed': 312, 'shower': 3957, 'robin': 3715, 'williams': 4888, 'storytelling': 4209, 'block': 508, 'reads': 3545, '14': 6, 'named': 2961, 'abuse': 74, 'suffered': 4276, 'parents': 3188, 'mother': 2911, 'social': 4049, 'worker': 4942, 'donna': 1323, 'fascinated': 1657, 'discovers': 1281, 'spoil': 4121, 'key': 2458, 'ability': 65, 'tap': 4364, 'personality': 3242, 'win': 4892, 'curious': 1083, 'seek': 3858, 'struck': 4232, 'idiotic': 2219, 'lazy': 2543, 'shock': 3938, 'woods': 4935, 'collection': 874, 'heavily': 2069, 'boyfriend': 558, 'raped': 3522, 'neighbor': 2992, 'sexually': 3910, 'eating': 1413, 'destroying': 1215, 'mild': 2839, 'graphic': 1958, 'handle': 2018, 'followed': 1773, 'grave': 1962, 'mainly': 2708, 'amateurish': 207, 'miserably': 2864, 'conflict': 939, 'painting': 3175, 'value': 4709, 'unknown': 4668, 'masterpieces': 2760, 'desire': 1205, 'east': 1407, 'tense': 4403, 'magnificent': 2705, 'credibility': 1047, 'gangster': 1868, 'drags': 1345, 'remains': 3611, 'trilogy': 4586, 'discover': 1279, 'fourth': 1813, 'expectations': 1576, 'matched': 2763, 'therefore': 4439, 'fiction': 1702, 'whether': 4866, 'antics': 255, 'convoluted': 987, 'via': 4726, 'medical': 2790, 'reaction': 3541, 'mothers': 2912, 'laughed': 2532, 'psychic': 3456, 'hippie': 2115, 'fill': 1714, 'grown': 1984, 'encounter': 1466, 'bite': 489, 'comical': 894, 'freak': 1824, 'religious': 3608, 'cult': 1077, 'prove': 3445, 'gods': 1928, 'successful': 4266, 'vs': 4767, 'resulting': 3661, 'coffee': 870, 'cliché': 844, 'finding': 1727, 'chest': 784, 'notice': 3048, 'unrealistic': 4677, 'inappropriate': 2259, 'lacks': 2505, 'provide': 3448, 'redeeming': 3577, 'joy': 2422, 'gentle': 1890, 'ron': 3734, 'howard': 2182, 'charm': 767, 'project': 3427, 'ho': 2127, 'dated': 1119, 'delivers': 1172, 'lesson': 2577, 'learn': 2550, 'benefit': 465, 'constant': 957, 'arthur': 305, 'nasty': 2968, 'fictional': 1703, 'details': 1219, 'versions': 4721, 'included': 2262, 'relations': 3596, 'et': 1526, 'carrying': 701, 'execution': 1566, 'bo': 521, 'jewish': 2401, 'comic': 893, 'rambo': 3511, 'jumps': 2432, 'albert': 174, 'susan': 4326, 'surprise': 4312, 'hopeless': 2158, 'fake': 1635, 'swear': 4334, 'pulling': 3463, 'georges': 1894, '40': 48, 'lousy': 2667, 'closing': 859, 'dances': 1106, 'astaire': 330, 'rogers': 3725, 'dancing': 1107, 'fred': 1825, 'ginger': 1908, 'dolph': 1317, 'teenager': 4390, 'teens': 4392, 'friendly': 1836, 'pregnant': 3369, 'disturbed': 1299, 'agrees': 157, 'universe': 4666, 'generic': 1885, 'color': 877, 'blow': 514, 'van': 4713, 'schools': 3814, 'shop': 3945, 'cars': 702, 'truck': 4595, 'villains': 4745, 'chair': 742, 'hundreds': 2196, 'bullets': 621, 'hundred': 2195, 'fired': 1735, 'gem': 1877, 'petty': 3249, 'caught': 722, 'prison': 3401, 'ultimate': 4627, 'scheme': 3812, 'millions': 2848, 'throw': 4479, 'wacky': 4769, 'ingredients': 2289, 'cash': 709, 'macy': 2695, 'locked': 2637, 'madonna': 2699, 'spots': 4132, 'latter': 2528, 'safe': 3771, 'hammer': 2014, 'fantasy': 1652, 'adventures': 131, '75': 57, 'profound': 3423, 'captures': 678, 'creates': 1038, 'promising': 3433, 'gripping': 1976, 'jobs': 2406, 'appealing': 272, 'weight': 4840, 'touch': 4533, 'grow': 1982, 'genuine': 1891, 'pain': 3170, 'dawson': 1128, 'woody': 4936, 'notch': 3043, 'phone': 3255, 'hook': 2152, 'groups': 1981, 'regular': 3592, 'saturday': 3792, 'fresh': 1833, 'existed': 1570, '13': 4, 'clown': 862, 'copy': 994, 'obsessed': 3069, 'season': 3843, 'disc': 1278, 'attached': 336, 'vote': 4766, 'kidding': 2465, 'afraid': 140, 'onto': 3111, 'travel': 4567, 'prime': 3395, 'phony': 3256, 'proceeds': 3411, 'format': 1799, 'versus': 4722, 'escape': 1517, 'cup': 1080, 'tea': 4373, 'hiding': 2099, '2000': 30, 'slick': 4026, 'brady': 561, 'teen': 4388, 'visit': 4755, 'abandoned': 62, 'nightmares': 3015, 'rip': 3700, 'freddy': 1826, 'model': 2880, 'ships': 3935, 'break': 569, 'crew': 1053, 'smoke': 4039, 'ms': 2931, 'talking': 4360, 'kept': 2456, 'wasting': 4810, 'mall': 2720, 'ignore': 2224, 'evidence': 1546, 'titled': 4505, 'dislike': 1288, '80': 58, 'design': 1202, 'striking': 4226, 'answer': 251, 'hideous': 2098, 'free': 1827, 'rental': 3627, 'stuck': 4237, 'valuable': 4708, 'shelf': 3926, 'cg': 739, 'send': 3875, 'spoof': 4127, 'sucks': 4271, 'jackson': 2375, 'industry': 2280, 'cd': 728, 'plastic': 3294, 'online': 3109, 'theater': 4427, 'ask': 316, 'ticket': 4487, 'butt': 638, 'metal': 2823, 'pulp': 3465, 'monkeys': 2891, 'irony': 2357, 'civilization': 827, 'classics': 837, 'deaf': 1134, 'fit': 1740, 'painted': 3174, 'ages': 152, 'bag': 384, 'stay': 4166, 'helicopter': 2076, 'hold': 2129, 'standing': 4146, 'wow': 4962, 'knife': 2487, 'iron': 2354, 'ii': 2226, 'empire': 1464, 'purely': 3472, 'jackie': 2374, 'terribly': 4408, 'shallow': 3917, 'protagonist': 3441, 'arrogant': 303, 'avoided': 364, 'quotes': 3497, 'tiny': 4500, 'channels': 754, '30': 42, 'gold': 1932, 'laughter': 2535, 'tiresome': 4502, 'commented': 900, 'ground': 1979, 'funniest': 1851, 'instantly': 2306, 'assume': 328, 'gray': 1963, 'self': 3869, 'popularity': 3334, 'marketing': 2741, 'equal': 1509, 'stinks': 4192, 'hey': 2095, 'ya': 4976, 'adequate': 120, 'sleep': 4024, 'handed': 2016, 'female': 1693, 'episode': 1507, 'whoever': 4872, 'wooden': 4934, 'mental': 2808, 'state': 4160, 'spirits': 4115, 'blair': 497, 'witch': 4909, 'tons': 4520, 'peter': 3247, 'scream': 3826, 'monsters': 2893, 'bedroom': 437, 'uninspired': 4657, 'dragged': 1343, 'theatrical': 4430, 'darkness': 1117, 'fulci': 1845, 'franchise': 1817, 'similarly': 3980, 'existent': 1572, 'dubbing': 1380, 'embarrassing': 1454, 'inept': 2281, 'scientists': 3819, 'ears': 1402, 'research': 3644, 'souls': 4080, 'mistake': 2871, 'fest': 1696, 'system': 4345, 'exposed': 1598, 'needless': 2989, 'bathroom': 412, 'mirror': 2861, 'immediately': 2242, 'zone': 4999, 'burn': 625, 'birds': 485, 'listening': 2620, 'driving': 1368, 'lying': 2690, 'gas': 1874, 'station': 4164, 'dirty': 1268, 'wall': 4781, 'meanwhile': 2785, 'dust': 1388, 'concerns': 934, 'explore': 1594, 'village': 4743, 'concerning': 933, 'greatly': 1967, 'drag': 1342, 'feet': 1688, 'gag': 1861, 'mid': 2832, 'attacks': 339, 'throat': 4476, 'torn': 4528, 'counter': 1011, 'bridge': 578, 'hospital': 2172, 'deliver': 1169, 'stereotypes': 4179, 'shed': 3924, 'blown': 516, 'screams': 3828, 'costumes': 1006, 'clothing': 861, '60s': 54, 'door': 1328, 'radio': 3504, 'survivors': 4325, 'minimal': 2855, 'unconvincing': 4638, 'beer': 439, 'relies': 3606, 'presumably': 3380, 'hoped': 2156, 'admittedly': 123, 'nights': 3016, 'mildly': 2840, 'whilst': 4869, 'maggie': 2702, 'dropped': 1370, 'ludicrous': 2685, 'jazz': 2387, 'graphics': 1959, 'ah': 158, 'grew': 1972, 'famous': 1647, 'album': 175, 'record': 3573, 'breaking': 570, 'artist': 307, 'writes': 4970, 'powers': 3361, 'revealed': 3671, 'magical': 2704, 'draws': 1352, 'picks': 3268, 'dancers': 1105, 'smooth': 4041, 'criminal': 1057, 'mentally': 2809, 'threatening': 4468, 'robot': 3717, 'appreciate': 279, 'hype': 2207, 'spends': 4107, '25': 40, 'lol': 2640, 'massive': 2756, 'ray': 3533, 'perfection': 3225, 'setting': 3900, 'product': 3418, 'hip': 2114, 'hop': 2154, 'generation': 1883, 'eighties': 1437, 'nyc': 3065, 'nation': 2969, 'secretly': 3851, 'hunters': 2200, 'annoyed': 248, 'entertain': 1497, 'horrid': 2165, 'overacting': 3149, 'ham': 2011, '1960s': 15, 'knowing': 2490, 'opinions': 3119, 'jumping': 2431, 'blob': 507, 'brosnan': 597, 'outrageous': 3145, 'parody': 3192, 'aging': 153, 'noble': 3021, 'teenage': 4389, 'bar': 396, 'personalities': 3241, 'remarks': 3615, 'james': 2378, 'niro': 3019, 'harvey': 2042, 'clichés': 846, 'delightful': 1168, 'wears': 4832, 'imaginative': 2237, 'hints': 2113, 'jean': 2389, 'conventional': 979, 'amusing': 221, 'alan': 171, 'hed': 2072, 'compelled': 915, 'received': 3564, 'anime': 243, 'sisters': 4002, 'dub': 1378, 'intentions': 2321, 'maker': 2714, 'sixties': 4011, 'convincingly': 986, 'changed': 750, '2006': 36, 'president': 3378, 'united': 4664, 'rival': 3706, 'eva': 1531, 'kim': 2475, 'sarah': 3785, 'improvement': 2256, 'leading': 2547, 'rented': 3628, 'disappointing': 1274, 'singing': 3995, '1940s': 13, 'rabbit': 3498, 'wrapped': 4964, 'ballet': 389, 'imagery': 2234, 'currently': 1085, 'drawing': 1350, '1950s': 14, 'eat': 1411, 'neck': 2985, 'helen': 2075, 'carrie': 697, 'anne': 246, 'tim': 4494, 'hates': 2048, 'sends': 3876, 'satire': 3788, 'colorful': 878, 'dress': 1357, 'colors': 879, 'everybody': 1540, 'advice': 133, 'ignored': 2225, 'grinch': 1975, 'stole': 4194, 'fury': 1855, 'myers': 2952, 'saved': 3795, 'carrey': 696, 'belong': 459, 'gags': 1862, 'chances': 748, 'plague': 3285, 'choices': 798, 'cliff': 847, 'simmons': 3981, 'jenny': 2393, 'simon': 3982, 'ward': 4793, 'moody': 2899, 'partner': 3198, 'funnier': 1850, 'dozen': 1338, 'willing': 4889, 'cultural': 1078, 'buck': 605, 'travesty': 4570, 'dinosaur': 1255, 'territory': 4411, 'celebrity': 729, 'godzilla': 1929, 'questionable': 3488, 'closed': 854, '90s': 61, 'fortunately': 1805, 'traveling': 4568, 'suits': 4287, 'destroy': 1213, 'alternate': 200, 'garden': 1872, 'rubber': 3747, 'areas': 287, 'revelation': 3674, 'reel': 3581, 'worry': 4950, 'waters': 4817, 'buddy': 609, 'recognition': 3568, 'gotta': 1946, 'blows': 517, 'prevent': 3385, 'destiny': 1212, '1990s': 25, 'resemblance': 3645, 'patrick': 3213, 'robots': 3718, 'foot': 1781, 'productions': 3420, 'leonard': 2572, 'halloween': 2010, '13th': 5, 'listed': 2618, 'canadian': 667, 'somebody': 4062, 'attractive': 351, 'richards': 3687, 'clark': 832, 'wanna': 4786, 'calls': 654, 'okay': 3099, 'sat': 3786, 'london': 2641, 'hopes': 2159, 'fix': 1744, 'taylor': 4372, 'behavior': 446, 'audiences': 353, 'appear': 273, 'motivation': 2914, 'fancy': 1649, 'department': 1182, 'cure': 1081, 'unreal': 4676, 'contrived': 976, 'fail': 1625, 'multi': 2935, 'rose': 3739, 'lovable': 2668, 'proved': 3446, 'earned': 1401, 'suffers': 4278, 'impress': 2250, 'abilities': 64, 'thinks': 4454, 'burns': 628, 'forward': 1808, 'button': 639, 'press': 3379, 'explaining': 1588, 'paris': 3189, 'ordinary': 3128, 'solely': 4056, 'section': 3853, 'suggests': 4282, 'develop': 1222, 'captivating': 675, 'aids': 161, 'virus': 4752, 'rid': 3690, 'tom': 4514, 'berlin': 467, 'investigate': 2342, 'scientific': 3817, 'theory': 4437, 'investigation': 2343, 'serial': 3889, 'companion': 909, 'parker': 3191, 'oddly': 3081, 'drops': 1372, 'cameos': 658, 'mario': 2738, 'del': 1165, 'recording': 3575, 'resolution': 3649, 'initial': 2290, 'performed': 3230, 'master': 2757, 'starred': 4153, 'appearing': 277, 'vhs': 4725, 'uk': 4626, 'beliefs': 452, 'angels': 234, 'inspector': 2299, 'gadget': 1860, 'luke': 2687, 'farm': 1656, 'burt': 629, 'reynolds': 3684, 'cousin': 1021, 'simpson': 3987, 'uncle': 4636, 'jesse': 2397, 'nelson': 2997, 'sheriff': 3929, 'besides': 468, 'proof': 3434, 'transfer': 4559, 'continuity': 972, 'crucial': 1068, 'rochester': 3719, 'sentence': 3881, 'remaining': 3610, 'arrival': 299, 'understandable': 4644, 'influence': 2286, 'christian': 808, 'physical': 3262, 'treatment': 4574, 'suffer': 4275, 'sadistic': 3768, 'transition': 4561, 'essence': 1521, 'dialogues': 1235, 'mixture': 2878, 'conversation': 980, 'humour': 2194, 'conversations': 981, 'ruin': 3750, 'errors': 1516, 'regarding': 3589, 'stretch': 4221, 'eyed': 1612, 'heroine': 2091, 'shy': 3962, '18': 10, 'difference': 1246, 'plausible': 3295, 'calm': 655, 'pleased': 3305, 'grandfather': 1954, 'favourite': 1673, 'displays': 1293, 'st': 4137, 'eager': 1396, 'eddie': 1416, 'hbo': 2055, 'max': 2774, 'helping': 2081, 'date': 1118, 'spoiler': 4123, 'dare': 1113, 'cameron': 661, 'recorded': 3574, 'memory': 2804, 'theatre': 4429, 'aired': 165, 'magic': 2703, 'childhood': 790, 'memories': 2803, 'slaughter': 4021, 'books': 536, 'exposure': 1599, 'program': 3424, 'cops': 993, 'firstly': 1737, 'response': 3654, 'analysis': 224, 'sentimental': 3882, 'fashioned': 1660, 'available': 361, 'asking': 318, 'board': 522, 'bath': 411, 'harris': 2038, 'proper': 3436, 'convincing': 985, 'imagined': 2239, 'glimpse': 1919, 'broke': 593, 'quickly': 3491, 'intimate': 2331, 'priceless': 3390, 'childrens': 793, 'alcohol': 176, 'originally': 3131, 'ford': 1789, 'riding': 3695, 'wouldve': 4959, 'faithful': 1634, 'hence': 2083, 'news': 3005, 'flash': 1745, 'futuristic': 1857, 'strictly': 4223, 'voice': 4761, 'expressions': 1603, 'barry': 401, 'achieve': 92, 'jeff': 2390, 'tracy': 4546, 'hood': 2151, 'sounding': 4083, 'extraordinary': 1607, 'sneak': 4043, 'anyways': 262, 'defense': 1159, 'rescue': 3643, 'tends': 4402, 'flight': 1757, 'familiar': 1643, 'sophisticated': 4075, 'elegant': 1441, 'farce': 1654, 'wells': 4845, 'phantom': 3251, 'screenwriter': 3833, 'mtv': 2933, 'fame': 1642, 'arrived': 301, 'homosexual': 2145, 'neighborhood': 2993, 'smoking': 4040, 'loving': 2675, 'area': 286, 'cities': 823, 'teenagers': 4391, 'week': 4837, 'eight': 1436, 'brazil': 568, 'renting': 3629, 'threw': 4470, 'alcoholic': 177, 'junk': 2436, 'horse': 2170, 'religion': 3607, 'jesus': 2399, 'pass': 3201, 'morning': 2906, '24': 39, '2005': 35, 'storm': 4206, 'suited': 4286, 'kings': 2481, 'gradually': 1952, 'wore': 4939, 'entertained': 1498, 'smile': 4036, 'plots': 3310, 'bollywood': 530, 'pat': 3208, 'mountain': 2917, 'spoken': 4126, 'iran': 2350, 'border': 539, 'indian': 2274, 'princess': 3397, 'primarily': 3393, 'education': 1424, 'stopped': 4202, 'reach': 3536, 'typically': 4624, 'walls': 4783, 'spring': 4134, 'mountains': 2918, 'killers': 2471, 'learning': 2552, 'dimensional': 1253, 'hudson': 2184, 'engage': 1479, 'un': 4630, 'agents': 151, 'mere': 2814, 'shakespeare': 3915, 'vampire': 4711, 'relatives': 3601, 'tricks': 4583, 'descent': 1193, 'arguably': 289, 'levels': 2585, 'melodramatic': 2798, 'flaws': 1752, 'subtitles': 4259, 'screening': 3830, 'mgm': 2828, 'studios': 4241, 'veteran': 4724, 'hugh': 2186, 'pacino': 3164, 'scottish': 3825, 'downhill': 1336, 'motivations': 2915, 'historical': 2119, 'donald': 1321, 'map': 2733, 'werent': 4849, 'chose': 804, 'cameras': 660, 'scale': 3802, 'semi': 3874, 'notorious': 3051, 'warn': 4797, 'ideal': 2214, '17': 9, 'apartment': 265, 'drunk': 1375, 'introduces': 2338, 'teaching': 4377, 'students': 4239, 'cheating': 776, 'upper': 4685, 'saves': 3796, 'weeks': 4839, 'achievement': 94, 'masses': 2755, 'returned': 3666, 'engaging': 1481, 'lately': 2524, 'originality': 3130, 'issue': 2364, 'banned': 395, 'reminiscent': 3621, 'clip': 851, 'sean': 3840, 'clips': 852, 'suffering': 4277, 'india': 2273, 'reporter': 3636, 'terrorist': 4413, 'conservative': 948, 'offended': 3085, 'iii': 2227, 'park': 3190, 'remote': 3622, 'internet': 2327, 'forest': 1791, 'beats': 426, 'gender': 1878, 'revolves': 3682, 'hair': 2005, 'clean': 838, 'condition': 937, 'raymond': 3534, 'racist': 3503, 'patients': 3212, 'loyal': 2679, 'anna': 245, 'hunt': 2198, 'neil': 2995, 'thoughtful': 4463, 'exceptional': 1558, 'warmth': 4796, 'lifestyle': 2593, 'grim': 1974, 'testament': 4417, 'strength': 4219, 'goldberg': 1933, 'campbell': 663, 'racial': 3501, 'grandmother': 1955, 'sincere': 3991, 'nancy': 2964, 'respected': 3653, 'author': 359, 'rushed': 3760, 'conclusion': 936, 'shocking': 3940, 'exceptionally': 1559, 'reputation': 3640, 'perry': 3237, 'occurred': 3077, 'horrific': 2166, 'necessarily': 2983, 'craft': 1028, 'trail': 4553, 'path': 3209, 'destruction': 1216, 'risk': 3704, 'user': 4696, 'painfully': 3172, 'accurate': 90, 'pointed': 3317, 'appeared': 276, '35': 45, 'throws': 4482, 'contract': 973, 'era': 1513, 'performs': 3234, 'french': 1830, 'restored': 3659, 'lucas': 2680, 'finale': 1723, 'preview': 3386, 'library': 2589, 'lawrence': 2539, 'bothered': 549, 'reasonable': 3558, 'fights': 1710, 'halfway': 2008, 'frustration': 1843, 'murphy': 2944, 'australia': 356, 'feminist': 1695, 'pays': 3218, 'previously': 3388, 'festival': 1697, 'heck': 2071, 'guide': 1993, 'sloppy': 4030, 'intent': 2318, 'overlooked': 3154, 'invisible': 2344, 'perspective': 3245, 'naive': 2958, 'claim': 828, 'physically': 3263, 'rocky': 3723, 'colonel': 876, 'asks': 319, 'mission': 2870, 'prisoner': 3402, 'photos': 3261, 'prisoners': 3403, 'boat': 523, 'carry': 700, 'base': 402, 'tortured': 4530, 'troops': 4591, 'return': 3665, 'unbelievable': 4634, 'judge': 2424, 'access': 83, 'develops': 1226, 'vision': 4754, 'expert': 1585, 'causes': 725, 'severe': 3906, 'dear': 1140, 'presentation': 3375, 'combined': 885, 'poetry': 3314, 'literature': 2623, 'partly': 3197, 'decades': 1145, 'ties': 4490, 'questions': 3489, 'unusual': 4681, 'ultra': 4629, 'cares': 690, 'vague': 4705, 'realism': 3549, 'sky': 4017, 'tears': 4380, 'betty': 474, 'cartoons': 705, 'card': 681, 'frame': 1815, 'mentioning': 2812, 'increasingly': 2268, 'kingdom': 2480, 'lower': 2677, 'stands': 4147, 'elaborate': 1439, 'suffice': 4279, 'technical': 4381, 'trek': 4578, 'animals': 240, 'dangerous': 1110, 'rarely': 3524, 'couples': 1017, 'weakest': 4825, 'featured': 1679, 'moved': 2922, 'adams': 112, 'undoubtedly': 4648, 'wise': 4903, 'jamie': 2379, 'popular': 3333, 'media': 2789, 'fbi': 1675, 'causing': 726, 'drinking': 1362, 'slowly': 4032, 'struggling': 4236, 'vice': 4727, 'provided': 3449, 'remarkably': 3614, 'heres': 2087, 'captured': 677, 'martial': 2747, 'warriors': 4803, 'fate': 1665, 'jason': 2383, 'soldier': 4053, 'arts': 310, 'minimum': 2856, 'hint': 2112, 'insane': 2296, 'hitler': 2124, 'formulaic': 1803, 'minds': 2852, 'negative': 2991, 'reviewers': 3678, 'bin': 483, 'reduced': 3579, 'wood': 4933, 'pitt': 3280, 'sticks': 4186, 'accepted': 82, 'warning': 4800, 'editor': 1423, 'matrix': 2767, 'smart': 4035, 'arnold': 296, 'lesser': 2576, 'copies': 992, 'evident': 1547, 'styles': 4250, 'magazine': 2701, 'ironic': 2355, 'weapon': 4828, 'sequels': 3886, 'minor': 2857, 'heaven': 2068, 'eve': 1532, 'lone': 2642, 'crash': 1033, 'jungle': 2434, 'leg': 2562, 'bible': 477, 'campy': 664, 'insulting': 2310, 'progresses': 3426, 'unlikely': 4671, 'cared': 685, 'hearted': 2065, 'themes': 4434, 'dramas': 1347, 'comedies': 889, 'commercials': 903, 'wanting': 4790, 'acid': 95, 'scarecrow': 3804, 'installment': 2303, 'gundam': 1997, 'saga': 3773, 'oz': 3160, 'exaggerated': 1552, 'poetic': 3313, 'track': 4544, 'introduced': 2337, 'fabulous': 1615, '2001': 31, 'techniques': 4384, 'player': 3298, 'opposite': 3123, 'realizing': 3555, 'chaos': 755, 'results': 3662, 'cleverly': 842, 'host': 2173, 'occur': 3076, 'stone': 4197, 'hardy': 2037, 'voices': 4763, 'pilot': 3276, 'sellers': 3872, 'wayne': 4821, '3rd': 47, 'weekend': 4838, 'lion': 2614, 'moronic': 2907, 'splatter': 4118, 'broad': 590, 'loads': 2633, 'bands': 392, 'sorts': 4078, 'massacre': 2754, 'directions': 1262, 'disjointed': 1287, 'stretched': 4222, 'scared': 3805, 'belief': 451, 'demands': 1175, 'discuss': 1283, 'term': 4405, 'judging': 2425, 'harry': 2039, 'event': 1535, 'lloyd': 2630, 'persona': 3239, 'dressing': 1359, 'lips': 2615, 'race': 3499, 'sounded': 4082, 'twice': 4613, 'bucks': 606, 'useful': 4694, 'humanity': 2189, 'wes': 4851, 'unfortunate': 4653, 'emphasis': 1463, 'square': 4136, 'familys': 1646, 'comparing': 913, 'citizen': 824, 'kane': 2442, 'scores': 3823, 'paulie': 3215, 'trip': 4588, 'appearances': 275, 'fitting': 1742, 'wave': 4818, 'circumstances': 822, 'nonsense': 3030, 'dick': 1239, 'crush': 1072, 'aimed': 162, 'normally': 3034, 'canada': 666, 'produce': 3413, 'brooklyn': 595, 'satisfying': 3791, 'meaning': 2780, 'everyones': 1543, 'reactions': 3542, 'enemies': 1476, 'thugs': 4484, 'beating': 425, 'amounts': 220, 'task': 4368, 'uwe': 4703, 'boll': 529, 'proud': 3444, 'buried': 624, 'waiting': 4772, 'wannabe': 4787, 'la': 2500, 'floor': 1759, 'cardboard': 682, 'afford': 138, 'focuses': 1768, 'brando': 566, 'appreciated': 280, 'victims': 4730, 'spell': 4104, 'resort': 3650, 'appearance': 274, 'models': 2881, 'noise': 3024, 'titles': 4506, 'rings': 3699, 'kevin': 2457, 'sally': 3776, 'fields': 1705, 'mood': 2898, 'characterization': 759, 'jr': 2423, 'elizabeth': 1445, 'holding': 2130, 'depicting': 1184, 'position': 3345, 'wrestling': 4966, 'visuals': 4759, 'charismatic': 763, 'population': 3335, 'shortly': 3947, 'blade': 495, 'craven': 1034, 'dracula': 1341, 'fx': 1858, 'audio': 354, 'stupidity': 4248, 'vampires': 4712, 'agreed': 156, 'minded': 2850, 'meaningful': 2781, 'punch': 3466, 'attend': 344, 'alice': 182, 'supposedly': 4307, 'wished': 4905, 'clumsy': 866, 'boredom': 542, 'struggles': 4235, 'letter': 2581, 'unaware': 4632, 'terrorists': 4414, 'learns': 2553, 'believes': 456, 'march': 2734, 'report': 3635, 'frequently': 1832, 'wives': 4918, 'godfather': 1927, 'stereotype': 4178, 'bank': 394, 'blank': 501, 'wealthy': 4827, 'twelve': 4611, 'seventies': 3904, 'nose': 3037, 'cameo': 657, 'marvelous': 2750, 'capturing': 679, 'vulnerable': 4768, 'molly': 2884, 'blah': 496, 'talked': 4359, 'official': 3094, 'chapter': 757, 'darker': 1116, 'hunting': 2201, 'killings': 2473, 'punk': 3468, 'imitation': 2241, 'perform': 3227, '1983': 22, 'soccer': 4048, 'sides': 3967, 'crisis': 1060, 'elsewhere': 1449, 'wrap': 4963, 'nurse': 3063, 'subsequent': 4257, 'relative': 3599, 'domestic': 1318, 'germans': 1897, 'heroes': 2089, 'advanced': 128, 'cried': 1054, 'generations': 1884, 'directly': 1263, 'lifetime': 2594, 'foreign': 1790, 'warrior': 4802, 'defeat': 1157, 'formula': 1802, 'dave': 1123, 'ethan': 1528, 'angela': 232, 'incompetent': 2266, 'worthwhile': 4955, 'surviving': 4323, 'shirley': 3936, 'reminds': 3620, 'pot': 3354, 'improve': 2254, 'nervous': 2999, 'cry': 1073, 'streep': 4215, 'riveting': 3708, 'settle': 3902, 'ranks': 3519, 'accents': 79, 'hits': 2125, 'suspenseful': 4331, 'false': 1641, 'chicago': 785, 'todd': 4510, 'endless': 1473, 'johnson': 2411, 'anybody': 257, 'notable': 3041, 'matthew': 2772, 'jeremy': 2394, 'damage': 1099, 'guessed': 1990, 'em': 1452, 'ensemble': 1492, 'neighbors': 2994, 'claimed': 829, 'chris': 806, 'estate': 1525, 'sandra': 3782, 'cake': 648, 'jennifer': 2392, 'murderous': 2942, 'kennedy': 2454, 'carradine': 695, 'unable': 4631, 'linda': 2609, 'inevitable': 2282, 'confused': 941, 'ought': 3138, 'abusive': 75, 'prostitute': 3440, 'upset': 4687, 'accused': 91, 'marks': 2742, 'spirited': 4114, 'comics': 895, 'cable': 644, 'timing': 4498, 'ellen': 1446, 'nearby': 2980, 'spooky': 4128, 'dean': 1139, 'larry': 2520, 'wicked': 4879, 'childish': 791, 'outer': 3143, 'limits': 2607, 'twilight': 4614, 'shell': 3927, 'catholic': 720, 'inner': 2292, 'faith': 1633, 'delivered': 1170, 'annie': 247, 'careful': 688, 'flashbacks': 1747, 'christ': 807, 'explanation': 1590, 'namely': 2962, 'strikes': 4225, 'instant': 2305, 'website': 4834, 'wealth': 4826, 'warren': 4801, 'beatty': 427, 'bus': 631, 'montage': 2894, 'drawn': 1351, 'endure': 1475, 'digital': 1251, 'lit': 2621, 'roots': 3738, 'nonetheless': 3029, 'lord': 2652, 'contrary': 974, 'spin': 4112, 'introduce': 2336, 'spoke': 4125, 'unpleasant': 4674, 'principal': 3398, 'wallace': 4782, 'beast': 422, 'notes': 3046, 'pages': 3168, 'exists': 1573, 'ruins': 3752, 'fox': 1814, 'current': 1084, 'poster': 3353, 'castle': 712, 'properly': 3437, 'split': 4120, 'mile': 2842, 'stolen': 4195, 'trio': 4587, 'chilling': 794, 'gothic': 1945, 'sleeping': 4025, 'crocodile': 1065, 'surfing': 4311, 'females': 1694, 'basketball': 409, 'loosely': 2651, '1990': 24, 'process': 3412, 'birth': 486, 'promise': 3430, 'sinatra': 3989, 'sea': 3838, 'mafia': 2700, 'sexuality': 3909, 'chess': 783, 'illegal': 2229, 'queen': 3485, 'sacrifice': 3766, 'blacks': 494, 'corner': 996, 'lacked': 2503, 'performers': 3232, 'mask': 2752, 'sinister': 3998, 'spare': 4093, 'tag': 4348, 'miike': 2837, 'humans': 2190, 'performing': 3233, 'lay': 2542, 'invasion': 2340, 'youth': 4994, 'horrors': 2169, 'machines': 2694, 'beaten': 424, 'fairy': 1632, 'tales': 4357, 'nostalgia': 3038, 'closer': 856, 'thrilling': 4474, 'manipulative': 2727, 'successfully': 4267, 'dreary': 1356, 'rank': 3518, 'mildred': 2841, 'pretend': 3381, 'worlds': 4947, 'freeman': 1829, 'wisdom': 4902, 'advise': 134, 'satan': 3787, 'stress': 4220, 'importance': 2246, 'delivery': 1173, 'newspaper': 3006, 'toilet': 4512, 'purposes': 3475, 'nuts': 3064, 'parties': 3196, 'implausible': 2245, 'psycho': 3457, 'powell': 3358, 'marriage': 2743, 'tender': 4401, 'ease': 1404, 'immensely': 2243, 'glorious': 1921, 'slightest': 4028, 'singers': 3994, 'lily': 2605, 'moore': 2901, 'gifted': 1907, 'apes': 267, 'davies': 1125, 'misses': 2868, 'raised': 3508, 'latin': 2527, 'julia': 2427, 'deceased': 1146, 'lessons': 2578, 'winters': 4901, 'pops': 3332, 'learned': 2551, 'secondly': 3847, 'burned': 626, 'affected': 137, 'cary': 706, 'afterwards': 145, 'walked': 4776, 'lie': 2590, 'exploration': 1593, 'thru': 4483, 'cook': 988, 'forgot': 1796, 'amitabh': 216, 'reasonably': 3559, 'discovery': 1282, 'humble': 2191, 'alexander': 180, 'pink': 3277, 'mainstream': 2709, 'misery': 2865, 'classical': 836, 'holly': 2136, 'sing': 3992, 'stiff': 4187, 'jaw': 2384, 'iraq': 2351, 'ryan': 3765, '2007': 37, 'experiment': 1583, 'enemy': 1477, 'handsome': 2021, 'pity': 3281, 'uneven': 4649, 'spiritual': 4116, 'illness': 2230, 'mass': 2753, 'talents': 4356, 'lights': 2597, 'glass': 1917, 'witnesses': 4916, 'strangers': 4214, 'muslim': 2949, 'le': 2544, 'poignant': 3315, 'maria': 2736, 'oliver': 3102, 'promises': 3432, 'richardson': 3688, 'fallen': 1638, 'arrives': 302, 'newly': 3004, 'attempting': 342, 'oscars': 3134, 'da': 1094, 'businessman': 634, 'tradition': 4549, 'progress': 3425, 'theyd': 4443, 'wendy': 4846, 'erotic': 1515, 'obscure': 3068, 'clues': 865, 'danger': 1109, 'explicit': 1591, 'trap': 4563, 'giallo': 1904, 'stays': 4169, 'von': 4765, 'north': 3036, 'orange': 3125, '1984': 23, 'relevant': 3604, 'womens': 4924, 'menacing': 2807, 'merit': 2816, 'surreal': 4317, 'ken': 2453, 'lemmon': 2567, 'matthau': 2771, 'bela': 450, 'lugosi': 2686, 'reunion': 3669, 'devil': 1228, 'twin': 4615, 'crappy': 1032, 'constantly': 958, 'waitress': 4773, 'abysmal': 76, 'signs': 3973, 'lesbian': 2573, 'rangers': 3517, 'thrills': 4475, 'mindless': 2851, 'removed': 3624, 'ourselves': 3140, 'definition': 1163, 'bettie': 473, 'delight': 1167, 'flashback': 1746, 'depression': 1189, 'threat': 4467, 'brave': 567, '2003': 33, 'ann': 244, 'toys': 4543, 'sin': 3988, 'forbidden': 1785, 'opposed': 3122, 'stones': 4198, 'shall': 3916, 'parallel': 3185, 'shoes': 3941, 'california': 650, 'sake': 3775, 'indians': 2275, 'countryside': 1015, 'thousand': 4465, 'opened': 3113, 'bacall': 377, 'philip': 3252, 'matches': 2764, 'sidney': 3968, 'lumet': 2688, 'flop': 1760, 'bet': 470, 'winter': 4900, 'shelley': 3928, 'shine': 3931, 'kubrick': 2496, 'distinct': 1296, 'rotten': 3740, 'flawless': 1751, 'relation': 3595, 'solution': 4059, 'madness': 2698, 'alongside': 196, 'whale': 4857, 'method': 2824, 'selfish': 3870, 'cruel': 1070, 'ice': 2210, 'eerie': 1427, 'jaws': 2385, 'musicals': 2948, 'cheated': 775, '3000': 43, 'intense': 2316, 'cabin': 643, 'fever': 1699, 'fatal': 1664, 'incomprehensible': 2267, 'claire': 831, 'irrelevant': 2358, 'gratuitous': 1961, 'directorial': 1265, 'rick': 3689, 'felix': 1689, 'joseph': 2419, 'tad': 4347, 'daniel': 1111, 'yelling': 4980, 'unfolds': 4651, 'battles': 415, 'scooby': 3820, 'doo': 1325, 'ratings': 3530, 'excited': 1561, 'awfully': 373, 'stargate': 4151, 'combine': 884, 'thrill': 4471, 'understood': 4647, 'senseless': 3878, 'swim': 4337, 'eastern': 1408, 'endearing': 1469, 'portrait': 3339, 'till': 4493, 'reflect': 3584, 'receive': 3563, 'neo': 2998, 'dollars': 1315, 'hysterical': 2208, 'purple': 3473, 'airport': 167, 'row': 3744, 'rachel': 3500, 'forgive': 1795, 'security': 3854, 'texas': 4418, 'duo': 1386, 'struggle': 4234, 'angel': 231, 'assigned': 325, 'yesterday': 4983, 'flaw': 1749, 'matt': 2768, 'feed': 1683, 'rob': 3710, 'enjoying': 1487, 'mini': 2854, 'justify': 2439, 'trees': 4577, 'detailed': 1218, 'provoking': 3452, 'tie': 4488, 'rap': 3520, 'producing': 3417, 'cats': 721, 'royal': 3746, 'fooled': 1780, 'generated': 1882, 'translation': 4562, 'defined': 1160, 'savage': 3793, 'african': 142, 'depicted': 1183, 'attitudes': 347, 'menace': 2806, 'tremendous': 4579, 'careers': 687, 'miracle': 2860, 'creator': 1043, 'technology': 4385, 'eastwood': 1409, 'subtlety': 4261, 'goofy': 1939, 'kay': 2447, 'possibilities': 3348, 'ear': 1397, 'lake': 2509, 'determined': 1221, 'guilty': 1995, 'rage': 3505, 'lawyer': 2541, 'robbery': 3711, 'knock': 2488, 'couldve': 1009, 'lewis': 2586, 'bobby': 525, 'overdone': 3152, 'gruesome': 1986, 'arrive': 300, 'substance': 4258, 'philosophy': 3254, 'thoughts': 4464, 'promised': 3431, 'laurel': 2537, 'carpenter': 694, 'selling': 3873, 'arrested': 298, 'gangsters': 1869, 'devoted': 1231, 'margaret': 2735, 'lane': 2515, 'ensues': 1493, 'hal': 2006, 'contained': 963, 'obsession': 3070, 'lynch': 2691, 'educational': 1425, 'atmospheric': 334, 'honesty': 2148, '45': 50, 'classes': 834, 'seagal': 3839, 'primary': 3394, 'artificial': 306, 'evening': 1534, 'kudos': 2497, 'carries': 699, 'superficial': 4298, 'stealing': 4171, 'closet': 858, 'deeper': 1155, 'desperately': 1209, 'harder': 2035, 'occasion': 3073, 'crowd': 1067, 'environment': 1505, 'capital': 673, 'albeit': 173, 'shadows': 3913, 'frightening': 1839, 'cinemas': 817, 'construction': 960, 'football': 1783, 'santa': 3783, 'cynical': 1093, 'kelly': 2452, 'marie': 2737, 'dinosaurs': 1256, 'rex': 3683, 'spider': 4109, 'eaten': 1412, 'homer': 2144, 'dialogs': 1233, 'aforementioned': 139, 'victor': 4731, 'steps': 4177, 'scope': 3821, 'stiller': 4189, 'corruption': 1002, 'owner': 3159, 'speech': 4102, 'concert': 935, 'bottle': 550, 'blues': 519, 'dignity': 1252, 'khan': 2459, 'spread': 4133, 'hamlet': 2013, 'flow': 1762, 'grade': 1951, 'cell': 730, 'murderer': 2941, 'prize': 3405, 'leo': 2571, 'titanic': 4503, 'stilted': 4190, 'sid': 3964, 'staff': 4138, 'kenneth': 2455, 'barbara': 397, 'legal': 2563, 'dvds': 1392, 'morality': 2903, 'ralph': 3510, 'masters': 2761, 'bay': 416, 'waves': 4819, 'challenge': 743, 'wondered': 4927, 'cole': 873, 'holy': 2140, 'appreciation': 281, 'alright': 198, 'lasted': 2522, 'uncomfortable': 4637, 'hanks': 2025, 'fond': 1776, 'vivid': 4760, 'grey': 1973, 'witches': 4910, 'brenda': 575, 'unintentional': 4658, 'explosion': 1596, 'staged': 4140, 'houses': 2180, 'inventive': 2341, 'expressed': 1601, 'twins': 4616, 'consistent': 953, 'russell': 3761, 'kicks': 2463, 'rules': 3754, 'justin': 2440, 'exact': 1550, 'connected': 945, 'wed': 4835, 'hang': 2022, 'critical': 1062, 'photo': 3257, 'dropping': 1371, 'hong': 2149, 'kong': 2494, 'balance': 387, 'duty': 1390, 'stunt': 4245, 'danes': 1108, 'trade': 4547, 'trailers': 4555, 'merits': 2817, 'foster': 1809, 'authority': 360, 'assumed': 329, 'trite': 4589, 'frequent': 1831, 'touched': 4534, 'li': 2587, 'surprises': 4314, 'intellectual': 2312, 'orson': 3132, 'welles': 4844, 'roman': 3731, 'polanski': 3321, 'staring': 4152, 'journalist': 2420, 'composed': 926, 'delivering': 1171, 'dreadful': 1353, 'june': 2433, 'seed': 3856, 'karen': 2444, 'fay': 1674, 'pet': 3246, 'earl': 1398, 'inevitably': 2283, 'indie': 2276, 'amateur': 206, 'intrigued': 2334, 'pursuit': 3476, 'mel': 2796, 'jake': 2377, 'pro': 3406, 'blew': 505, 'command': 897, 'repeatedly': 3632, 'flawed': 1750, 'suitable': 4285, 'outcome': 3142, 'conceived': 929, 'cuba': 1075, 'subjects': 4254, 'remembered': 3617, 'michelle': 2830, 'cringe': 1059, 'vengeance': 4719, 'piano': 3264, 'inspiration': 2300, 'ramones': 3512, 'clint': 850, 'peace': 3219, '2002': 32, 'ritter': 3705, 'empathy': 1462, 'pseudo': 3454, 'changing': 752, 'burton': 630, 'creativity': 1042, 'facial': 1619, 'dedicated': 1153, 'eg': 1434, 'flynn': 1765, 'laws': 2540, 'gritty': 1977, 'mixed': 2877, 'fears': 1677, 'stellar': 4174, 'beneath': 464, 'unpredictable': 4675, 'nostalgic': 3039, 'drunken': 1376, 'odds': 3082, 'monk': 2889, 'divorce': 1301, '1st': 28, 'props': 3439, 'americas': 215, 'dogs': 1311, 'teachers': 4376, 'ruby': 3749, 'assault': 324, '1996': 26, 'willis': 4890, 'ego': 1435, 'greed': 1968, 'historically': 2120, 'peters': 3248, 'dentist': 1180, 'satisfied': 3789, 'stinker': 4191, 'falk': 1636, 'bourne': 554, 'planned': 3290, '1980': 20, 'university': 4667, 'notion': 3050, 'embarrassment': 1455, 'effectively': 1430, 'experiments': 1584, 'chooses': 800, 'breasts': 572, 'snake': 4042, 'consistently': 954, 'likewise': 2603, 'shark': 3921, 'mummy': 2937, 'buildings': 616, 'ocean': 3079, 'illogical': 2231, 'pamela': 3179, 'ape': 266, 'bud': 607, 'lou': 2663, 'trial': 4580, 'matters': 2770, 'walker': 4778, 'turner': 4607, 'heights': 2073, 'elm': 1447, 'busy': 635, 'briefly': 580, 'teeth': 4393, 'guarantee': 1987, 'movements': 2924, 'pants': 3182, 'florida': 1761, 'failing': 1627, 'methods': 2825, 'sitcom': 4004, 'focusing': 1769, 'paranoia': 3186, 'nations': 2971, 'prefer': 3368, 'awake': 365, 'resist': 3648, 'scrooge': 3837, 'trained': 4557, 'disappear': 1270, 'greedy': 1969, 'centered': 733, 'batman': 413, 'sue': 4274, 'branagh': 564, 'caine': 647, 'olivier': 3103, 'inane': 2258, 'enterprise': 1495, 'seeks': 3860, 'marty': 2749, 'prequel': 3372, 'bergman': 466, 'serving': 3897, 'valley': 4707, 'revolution': 3680, 'achieved': 93, 'succeeded': 4263, 'britain': 588, 'diana': 1237, 'superhero': 4299, 'superman': 4301, 'mayor': 2777, 'melodrama': 2797, 'vegas': 4717, 'exercise': 1568, 'fisher': 1739, 'caliber': 649, 'subplot': 4255, 'messed': 2821, 'widmark': 4882, 'cagney': 646, 'excessive': 1560, 'taught': 4370, 'restaurant': 3658, 'holmes': 2139, 'kiss': 2483, 'pg': 3250, 'hopper': 2161, 'ignorant': 2223, 'enthusiasm': 1501, 'watches': 4814, 'hilariously': 2107, 'leslie': 2574, 'mann': 2728, 'south': 4087, 'doom': 1326, 'elvira': 1450, 'floating': 1758, 'dancer': 1104, 'splendid': 4119, 'lincoln': 2608, 'witnessed': 4915, 'nonsensical': 3031, 'returning': 3667, 'mars': 2746, 'chain': 741, 'considerable': 950, 'greek': 1970, 'satisfy': 3790, 'stated': 4161, 'bold': 528, 'yellow': 4981, 'jail': 2376, 'accomplished': 87, 'solo': 4058, 'rolled': 3729, 'proceedings': 3410, 'wound': 4960, 'letters': 2582, 'homage': 2141, 'ambitious': 211, 'kapoor': 2443, 'structure': 4233, 'strangely': 4212, 'virginia': 4750, 'andrew': 228, 'gerard': 1895, 'visible': 4753, 'whereas': 4865, 'convey': 982, 'month': 2896, 'underlying': 4641, 'glover': 1923, 'closely': 855, 'joined': 2413, 'attempted': 341, 'visits': 4756, 'elvis': 1451, 'glenn': 1918, 'lengthy': 2570, 'snow': 4045, 'backdrop': 379, 'hamilton': 2012, 'executive': 1567, 'spoiled': 4122, 'conflicts': 940, 'colour': 880, 'damon': 1101, 'advance': 127, 'ruth': 3763, 'hollywoods': 2138, 'challenging': 744, 'mentions': 2813, 'bull': 619, 'inferior': 2285, 'losers': 2656, 'measure': 2786, 'hank': 2024, 'frankenstein': 1822, 'household': 2179, 'lena': 2568, 'continued': 970, 'vicious': 4728, '1973': 19, 'heston': 2094, 'robinson': 3716, 'junior': 2435, '2nd': 41, 'fonda': 1777, 'bargain': 400, 'segments': 3868, 'bumbling': 622, 'abraham': 69, 'distance': 1294, 'lust': 2689, 'bang': 393, 'philosophical': 3253, 'ireland': 2352, 'robbins': 3712, 'dollar': 1314, 'notably': 3042, 'lyrics': 2692, 'showcase': 3954, 'modesty': 2883, 'neat': 2982, 'edie': 1419, 'nicholas': 3010, 'argue': 290, 'museum': 2945, 'similarities': 3979, 'columbo': 881, 'psychotic': 3459, 'designs': 1204, 'property': 3438, 'sullivan': 4288, 'steel': 4173, 'borrowed': 545, 'desperation': 1210, 'worn': 4948, 'mail': 2706, 'tooth': 4524, 'transformation': 4560, 'performer': 3231, 'depicts': 1186, 'pal': 3177, 'faults': 1669, 'retired': 3664, 'poverty': 3357, 'unhappy': 4656, 'birthday': 487, 'prom': 3429, 'chaplin': 756, 'pearl': 3220, 'widely': 4881, 'atlantis': 332, 'punishment': 3467, 'stooges': 4200, 'ned': 2986, 'intentionally': 2320, '3d': 46, 'paltrow': 3178, 'franco': 1820, 'wonders': 4931, 'liberal': 2588, 'rising': 3703, 'folk': 1770, 'gandhi': 1866, 'creep': 1051, 'unseen': 4678, 'resembles': 3646, 'doomed': 1327, 'mechanical': 2788, 'miller': 2846, '1968': 16, 'facing': 1620, 'landscapes': 2514, 'cinderella': 815, 'blend': 504, 'disneys': 1290, 'dickens': 1240, 'doubts': 1333, 'cube': 1076, 'streisand': 4218, 'attorney': 348, 'quirky': 3493, 'stanwyck': 4149, 'pokemon': 3320, '1933': 12, 'slave': 4022, 'championship': 745, 'akshay': 169, 'stan': 4142, 'garbo': 1871, 'pig': 3274, 'bakshi': 386, 'alert': 178, 'che': 773}\n"
     ]
    }
   ],
   "source": [
    "print(str(vocabulary))"
   ]
  },
  {
   "cell_type": "markdown",
   "metadata": {},
   "source": [
    "Once you have added the endpoint name to the Lambda function, click on **Save**. Your Lambda function is now up and running. Next we need to create a way for our web app to execute the Lambda function."
   ]
  },
  {
   "cell_type": "markdown",
   "metadata": {},
   "source": [
    "### Setting up API Gateway\n",
    "\n",
    "Now that our Lambda function is set up, it is time to create a new API using API Gateway that will trigger the Lambda function we have just created.\n",
    "\n",
    "Using AWS Console, navigate to **Amazon API Gateway** and then click on **Get started**.\n",
    "\n",
    "On the next page, make sure that **New API** is selected and give the new api a name, for example, `sentiment_analysis_web_app`. Then, click on **Create API**.\n",
    "\n",
    "Now we have created an API, however it doesn't currently do anything. What we want it to do is to trigger the Lambda function that we created earlier.\n",
    "\n",
    "Select the **Actions** dropdown menu and click **Create Method**. A new blank method will be created, select its dropdown menu and select **POST**, then click on the check mark beside it.\n",
    "\n",
    "For the integration point, make sure that **Lambda Function** is selected and click on the **Use Lambda Proxy integration**. This option makes sure that the data that is sent to the API is then sent directly to the Lambda function with no processing. It also means that the return value must be a proper response object as it will also not be processed by API Gateway.\n",
    "\n",
    "Type the name of the Lambda function you created earlier into the **Lambda Function** text entry box and then click on **Save**. Click on **OK** in the pop-up box that then appears, giving permission to API Gateway to invoke the Lambda function you created.\n",
    "\n",
    "The last step in creating the API Gateway is to select the **Actions** dropdown and click on **Deploy API**. You will need to create a new Deployment stage and name it anything you like, for example `prod`.\n",
    "\n",
    "You have now successfully set up a public API to access your SageMaker model. Make sure to copy or write down the URL provided to invoke your newly created public API as this will be needed in the next step. This URL can be found at the top of the page, highlighted in blue next to the text **Invoke URL**."
   ]
  },
  {
   "cell_type": "markdown",
   "metadata": {},
   "source": [
    "## Step 7: Deploying our web app\n",
    "\n",
    "Now that we have a publicly available API, we can start using it in a web app. For our purposes, we have provided a simple static html file which can make use of the public api you created earlier.\n",
    "\n",
    "In the `website` folder there should be a file called `index.html`. Download the file to your computer and open that file up in a text editor of your choice. There should be a line which contains **\\*\\*REPLACE WITH PUBLIC API URL\\*\\***. Replace this string with the url that you wrote down in the last step and then save the file.\n",
    "\n",
    "Now, if you open `index.html` on your local computer, your browser will behave as a local web server and you can use the provided site to interact with your SageMaker model.\n",
    "\n",
    "If you'd like to go further, you can host this html file anywhere you'd like, for example using github or hosting a static site on Amazon's S3. Once you have done this you can share the link with anyone you'd like and have them play with it too!\n",
    "\n",
    "> **Important Note** In order for the web app to communicate with the SageMaker endpoint, the endpoint has to actually be deployed and running. This means that you are paying for it. Make sure that the endpoint is running when you want to use the web app but that you shut it down when you don't need it, otherwise you will end up with a surprisingly large AWS bill."
   ]
  },
  {
   "cell_type": "markdown",
   "metadata": {},
   "source": [
    "### Delete the endpoint\n",
    "\n",
    "Remember to always shut down your endpoint if you are no longer using it. You are charged for the length of time that the endpoint is running so if you forget and leave it on you could end up with an unexpectedly large bill."
   ]
  },
  {
   "cell_type": "code",
   "execution_count": 52,
   "metadata": {},
   "outputs": [],
   "source": [
    "xgb_predictor.delete_endpoint()"
   ]
  },
  {
   "cell_type": "markdown",
   "metadata": {},
   "source": [
    "## Optional: Clean up\n",
    "\n",
    "The default notebook instance on SageMaker doesn't have a lot of excess disk space available. As you continue to complete and execute notebooks you will eventually fill up this disk space, leading to errors which can be difficult to diagnose. Once you are completely finished using a notebook it is a good idea to remove the files that you created along the way. Of course, you can do this from the terminal or from the notebook hub if you would like. The cell below contains some commands to clean up the created files from within the notebook."
   ]
  },
  {
   "cell_type": "code",
   "execution_count": 54,
   "metadata": {},
   "outputs": [
    {
     "ename": "OSError",
     "evalue": "[Errno 12] Cannot allocate memory",
     "output_type": "error",
     "traceback": [
      "\u001b[0;31m---------------------------------------------------------------------------\u001b[0m",
      "\u001b[0;31mOSError\u001b[0m                                   Traceback (most recent call last)",
      "\u001b[0;32m<ipython-input-54-2c87d8eefdf2>\u001b[0m in \u001b[0;36m<module>\u001b[0;34m()\u001b[0m\n\u001b[1;32m      1\u001b[0m \u001b[0;31m# First we will remove all of the files contained in the data_dir directory\u001b[0m\u001b[0;34m\u001b[0m\u001b[0;34m\u001b[0m\u001b[0m\n\u001b[0;32m----> 2\u001b[0;31m \u001b[0mget_ipython\u001b[0m\u001b[0;34m(\u001b[0m\u001b[0;34m)\u001b[0m\u001b[0;34m.\u001b[0m\u001b[0msystem\u001b[0m\u001b[0;34m(\u001b[0m\u001b[0;34m'rm $data_dir/*'\u001b[0m\u001b[0;34m)\u001b[0m\u001b[0;34m\u001b[0m\u001b[0m\n\u001b[0m\u001b[1;32m      3\u001b[0m \u001b[0;34m\u001b[0m\u001b[0m\n\u001b[1;32m      4\u001b[0m \u001b[0;31m# And then we delete the directory itself\u001b[0m\u001b[0;34m\u001b[0m\u001b[0;34m\u001b[0m\u001b[0m\n\u001b[1;32m      5\u001b[0m \u001b[0mget_ipython\u001b[0m\u001b[0;34m(\u001b[0m\u001b[0;34m)\u001b[0m\u001b[0;34m.\u001b[0m\u001b[0msystem\u001b[0m\u001b[0;34m(\u001b[0m\u001b[0;34m'rmdir $data_dir'\u001b[0m\u001b[0;34m)\u001b[0m\u001b[0;34m\u001b[0m\u001b[0m\n",
      "\u001b[0;32m~/anaconda3/envs/python3/lib/python3.6/site-packages/IPython/core/interactiveshell.py\u001b[0m in \u001b[0;36msystem_piped\u001b[0;34m(self, cmd)\u001b[0m\n\u001b[1;32m   2259\u001b[0m         \u001b[0;31m# a non-None value would trigger :func:`sys.displayhook` calls.\u001b[0m\u001b[0;34m\u001b[0m\u001b[0;34m\u001b[0m\u001b[0m\n\u001b[1;32m   2260\u001b[0m         \u001b[0;31m# Instead, we store the exit_code in user_ns.\u001b[0m\u001b[0;34m\u001b[0m\u001b[0;34m\u001b[0m\u001b[0m\n\u001b[0;32m-> 2261\u001b[0;31m         \u001b[0mself\u001b[0m\u001b[0;34m.\u001b[0m\u001b[0muser_ns\u001b[0m\u001b[0;34m[\u001b[0m\u001b[0;34m'_exit_code'\u001b[0m\u001b[0;34m]\u001b[0m \u001b[0;34m=\u001b[0m \u001b[0msystem\u001b[0m\u001b[0;34m(\u001b[0m\u001b[0mself\u001b[0m\u001b[0;34m.\u001b[0m\u001b[0mvar_expand\u001b[0m\u001b[0;34m(\u001b[0m\u001b[0mcmd\u001b[0m\u001b[0;34m,\u001b[0m \u001b[0mdepth\u001b[0m\u001b[0;34m=\u001b[0m\u001b[0;36m1\u001b[0m\u001b[0;34m)\u001b[0m\u001b[0;34m)\u001b[0m\u001b[0;34m\u001b[0m\u001b[0m\n\u001b[0m\u001b[1;32m   2262\u001b[0m \u001b[0;34m\u001b[0m\u001b[0m\n\u001b[1;32m   2263\u001b[0m     \u001b[0;32mdef\u001b[0m \u001b[0msystem_raw\u001b[0m\u001b[0;34m(\u001b[0m\u001b[0mself\u001b[0m\u001b[0;34m,\u001b[0m \u001b[0mcmd\u001b[0m\u001b[0;34m)\u001b[0m\u001b[0;34m:\u001b[0m\u001b[0;34m\u001b[0m\u001b[0m\n",
      "\u001b[0;32m~/anaconda3/envs/python3/lib/python3.6/site-packages/IPython/utils/_process_posix.py\u001b[0m in \u001b[0;36msystem\u001b[0;34m(self, cmd)\u001b[0m\n\u001b[1;32m    154\u001b[0m                 \u001b[0mchild\u001b[0m \u001b[0;34m=\u001b[0m \u001b[0mpexpect\u001b[0m\u001b[0;34m.\u001b[0m\u001b[0mspawnb\u001b[0m\u001b[0;34m(\u001b[0m\u001b[0mself\u001b[0m\u001b[0;34m.\u001b[0m\u001b[0msh\u001b[0m\u001b[0;34m,\u001b[0m \u001b[0margs\u001b[0m\u001b[0;34m=\u001b[0m\u001b[0;34m[\u001b[0m\u001b[0;34m'-c'\u001b[0m\u001b[0;34m,\u001b[0m \u001b[0mcmd\u001b[0m\u001b[0;34m]\u001b[0m\u001b[0;34m)\u001b[0m \u001b[0;31m# Pexpect-U\u001b[0m\u001b[0;34m\u001b[0m\u001b[0m\n\u001b[1;32m    155\u001b[0m             \u001b[0;32melse\u001b[0m\u001b[0;34m:\u001b[0m\u001b[0;34m\u001b[0m\u001b[0m\n\u001b[0;32m--> 156\u001b[0;31m                 \u001b[0mchild\u001b[0m \u001b[0;34m=\u001b[0m \u001b[0mpexpect\u001b[0m\u001b[0;34m.\u001b[0m\u001b[0mspawn\u001b[0m\u001b[0;34m(\u001b[0m\u001b[0mself\u001b[0m\u001b[0;34m.\u001b[0m\u001b[0msh\u001b[0m\u001b[0;34m,\u001b[0m \u001b[0margs\u001b[0m\u001b[0;34m=\u001b[0m\u001b[0;34m[\u001b[0m\u001b[0;34m'-c'\u001b[0m\u001b[0;34m,\u001b[0m \u001b[0mcmd\u001b[0m\u001b[0;34m]\u001b[0m\u001b[0;34m)\u001b[0m  \u001b[0;31m# Vanilla Pexpect\u001b[0m\u001b[0;34m\u001b[0m\u001b[0m\n\u001b[0m\u001b[1;32m    157\u001b[0m             \u001b[0mflush\u001b[0m \u001b[0;34m=\u001b[0m \u001b[0msys\u001b[0m\u001b[0;34m.\u001b[0m\u001b[0mstdout\u001b[0m\u001b[0;34m.\u001b[0m\u001b[0mflush\u001b[0m\u001b[0;34m\u001b[0m\u001b[0m\n\u001b[1;32m    158\u001b[0m             \u001b[0;32mwhile\u001b[0m \u001b[0;32mTrue\u001b[0m\u001b[0;34m:\u001b[0m\u001b[0;34m\u001b[0m\u001b[0m\n",
      "\u001b[0;32m~/anaconda3/envs/python3/lib/python3.6/site-packages/pexpect/pty_spawn.py\u001b[0m in \u001b[0;36m__init__\u001b[0;34m(self, command, args, timeout, maxread, searchwindowsize, logfile, cwd, env, ignore_sighup, echo, preexec_fn, encoding, codec_errors, dimensions, use_poll)\u001b[0m\n\u001b[1;32m    202\u001b[0m             \u001b[0mself\u001b[0m\u001b[0;34m.\u001b[0m\u001b[0mname\u001b[0m \u001b[0;34m=\u001b[0m \u001b[0;34m'<pexpect factory incomplete>'\u001b[0m\u001b[0;34m\u001b[0m\u001b[0m\n\u001b[1;32m    203\u001b[0m         \u001b[0;32melse\u001b[0m\u001b[0;34m:\u001b[0m\u001b[0;34m\u001b[0m\u001b[0m\n\u001b[0;32m--> 204\u001b[0;31m             \u001b[0mself\u001b[0m\u001b[0;34m.\u001b[0m\u001b[0m_spawn\u001b[0m\u001b[0;34m(\u001b[0m\u001b[0mcommand\u001b[0m\u001b[0;34m,\u001b[0m \u001b[0margs\u001b[0m\u001b[0;34m,\u001b[0m \u001b[0mpreexec_fn\u001b[0m\u001b[0;34m,\u001b[0m \u001b[0mdimensions\u001b[0m\u001b[0;34m)\u001b[0m\u001b[0;34m\u001b[0m\u001b[0m\n\u001b[0m\u001b[1;32m    205\u001b[0m         \u001b[0mself\u001b[0m\u001b[0;34m.\u001b[0m\u001b[0muse_poll\u001b[0m \u001b[0;34m=\u001b[0m \u001b[0muse_poll\u001b[0m\u001b[0;34m\u001b[0m\u001b[0m\n\u001b[1;32m    206\u001b[0m \u001b[0;34m\u001b[0m\u001b[0m\n",
      "\u001b[0;32m~/anaconda3/envs/python3/lib/python3.6/site-packages/pexpect/pty_spawn.py\u001b[0m in \u001b[0;36m_spawn\u001b[0;34m(self, command, args, preexec_fn, dimensions)\u001b[0m\n\u001b[1;32m    301\u001b[0m \u001b[0;34m\u001b[0m\u001b[0m\n\u001b[1;32m    302\u001b[0m         self.ptyproc = self._spawnpty(self.args, env=self.env,\n\u001b[0;32m--> 303\u001b[0;31m                                      cwd=self.cwd, **kwargs)\n\u001b[0m\u001b[1;32m    304\u001b[0m \u001b[0;34m\u001b[0m\u001b[0m\n\u001b[1;32m    305\u001b[0m         \u001b[0mself\u001b[0m\u001b[0;34m.\u001b[0m\u001b[0mpid\u001b[0m \u001b[0;34m=\u001b[0m \u001b[0mself\u001b[0m\u001b[0;34m.\u001b[0m\u001b[0mptyproc\u001b[0m\u001b[0;34m.\u001b[0m\u001b[0mpid\u001b[0m\u001b[0;34m\u001b[0m\u001b[0m\n",
      "\u001b[0;32m~/anaconda3/envs/python3/lib/python3.6/site-packages/pexpect/pty_spawn.py\u001b[0m in \u001b[0;36m_spawnpty\u001b[0;34m(self, args, **kwargs)\u001b[0m\n\u001b[1;32m    312\u001b[0m     \u001b[0;32mdef\u001b[0m \u001b[0m_spawnpty\u001b[0m\u001b[0;34m(\u001b[0m\u001b[0mself\u001b[0m\u001b[0;34m,\u001b[0m \u001b[0margs\u001b[0m\u001b[0;34m,\u001b[0m \u001b[0;34m**\u001b[0m\u001b[0mkwargs\u001b[0m\u001b[0;34m)\u001b[0m\u001b[0;34m:\u001b[0m\u001b[0;34m\u001b[0m\u001b[0m\n\u001b[1;32m    313\u001b[0m         \u001b[0;34m'''Spawn a pty and return an instance of PtyProcess.'''\u001b[0m\u001b[0;34m\u001b[0m\u001b[0m\n\u001b[0;32m--> 314\u001b[0;31m         \u001b[0;32mreturn\u001b[0m \u001b[0mptyprocess\u001b[0m\u001b[0;34m.\u001b[0m\u001b[0mPtyProcess\u001b[0m\u001b[0;34m.\u001b[0m\u001b[0mspawn\u001b[0m\u001b[0;34m(\u001b[0m\u001b[0margs\u001b[0m\u001b[0;34m,\u001b[0m \u001b[0;34m**\u001b[0m\u001b[0mkwargs\u001b[0m\u001b[0;34m)\u001b[0m\u001b[0;34m\u001b[0m\u001b[0m\n\u001b[0m\u001b[1;32m    315\u001b[0m \u001b[0;34m\u001b[0m\u001b[0m\n\u001b[1;32m    316\u001b[0m     \u001b[0;32mdef\u001b[0m \u001b[0mclose\u001b[0m\u001b[0;34m(\u001b[0m\u001b[0mself\u001b[0m\u001b[0;34m,\u001b[0m \u001b[0mforce\u001b[0m\u001b[0;34m=\u001b[0m\u001b[0;32mTrue\u001b[0m\u001b[0;34m)\u001b[0m\u001b[0;34m:\u001b[0m\u001b[0;34m\u001b[0m\u001b[0m\n",
      "\u001b[0;32m~/anaconda3/envs/python3/lib/python3.6/site-packages/ptyprocess/ptyprocess.py\u001b[0m in \u001b[0;36mspawn\u001b[0;34m(cls, argv, cwd, env, echo, preexec_fn, dimensions)\u001b[0m\n\u001b[1;32m    220\u001b[0m \u001b[0;34m\u001b[0m\u001b[0m\n\u001b[1;32m    221\u001b[0m         \u001b[0;32mif\u001b[0m \u001b[0muse_native_pty_fork\u001b[0m\u001b[0;34m:\u001b[0m\u001b[0;34m\u001b[0m\u001b[0m\n\u001b[0;32m--> 222\u001b[0;31m             \u001b[0mpid\u001b[0m\u001b[0;34m,\u001b[0m \u001b[0mfd\u001b[0m \u001b[0;34m=\u001b[0m \u001b[0mpty\u001b[0m\u001b[0;34m.\u001b[0m\u001b[0mfork\u001b[0m\u001b[0;34m(\u001b[0m\u001b[0;34m)\u001b[0m\u001b[0;34m\u001b[0m\u001b[0m\n\u001b[0m\u001b[1;32m    223\u001b[0m         \u001b[0;32melse\u001b[0m\u001b[0;34m:\u001b[0m\u001b[0;34m\u001b[0m\u001b[0m\n\u001b[1;32m    224\u001b[0m             \u001b[0;31m# Use internal fork_pty, for Solaris\u001b[0m\u001b[0;34m\u001b[0m\u001b[0;34m\u001b[0m\u001b[0m\n",
      "\u001b[0;32m~/anaconda3/envs/python3/lib/python3.6/pty.py\u001b[0m in \u001b[0;36mfork\u001b[0;34m()\u001b[0m\n\u001b[1;32m     95\u001b[0m \u001b[0;34m\u001b[0m\u001b[0m\n\u001b[1;32m     96\u001b[0m     \u001b[0mmaster_fd\u001b[0m\u001b[0;34m,\u001b[0m \u001b[0mslave_fd\u001b[0m \u001b[0;34m=\u001b[0m \u001b[0mopenpty\u001b[0m\u001b[0;34m(\u001b[0m\u001b[0;34m)\u001b[0m\u001b[0;34m\u001b[0m\u001b[0m\n\u001b[0;32m---> 97\u001b[0;31m     \u001b[0mpid\u001b[0m \u001b[0;34m=\u001b[0m \u001b[0mos\u001b[0m\u001b[0;34m.\u001b[0m\u001b[0mfork\u001b[0m\u001b[0;34m(\u001b[0m\u001b[0;34m)\u001b[0m\u001b[0;34m\u001b[0m\u001b[0m\n\u001b[0m\u001b[1;32m     98\u001b[0m     \u001b[0;32mif\u001b[0m \u001b[0mpid\u001b[0m \u001b[0;34m==\u001b[0m \u001b[0mCHILD\u001b[0m\u001b[0;34m:\u001b[0m\u001b[0;34m\u001b[0m\u001b[0m\n\u001b[1;32m     99\u001b[0m         \u001b[0;31m# Establish a new session.\u001b[0m\u001b[0;34m\u001b[0m\u001b[0;34m\u001b[0m\u001b[0m\n",
      "\u001b[0;31mOSError\u001b[0m: [Errno 12] Cannot allocate memory"
     ]
    }
   ],
   "source": [
    "# First we will remove all of the files contained in the data_dir directory\n",
    "!rm $data_dir/*\n",
    "\n",
    "# And then we delete the directory itself\n",
    "!rmdir $data_dir\n",
    "\n",
    "# Similarly we remove the files in the cache_dir directory and the directory itself\n",
    "!rm $cache_dir/*\n",
    "!rmdir $cache_dir"
   ]
  },
  {
   "cell_type": "code",
   "execution_count": null,
   "metadata": {},
   "outputs": [],
   "source": []
  }
 ],
 "metadata": {
  "kernelspec": {
   "display_name": "conda_python3",
   "language": "python",
   "name": "conda_python3"
  },
  "language_info": {
   "codemirror_mode": {
    "name": "ipython",
    "version": 3
   },
   "file_extension": ".py",
   "mimetype": "text/x-python",
   "name": "python",
   "nbconvert_exporter": "python",
   "pygments_lexer": "ipython3",
   "version": "3.6.5"
  }
 },
 "nbformat": 4,
 "nbformat_minor": 2
}
