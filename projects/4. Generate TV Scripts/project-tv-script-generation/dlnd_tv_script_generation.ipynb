{
 "cells": [
  {
   "cell_type": "markdown",
   "metadata": {},
   "source": [
    "# TV Script Generation\n",
    "\n",
    "In this project, you'll generate your own [Seinfeld](https://en.wikipedia.org/wiki/Seinfeld) TV scripts using RNNs.  You'll be using part of the [Seinfeld dataset](https://www.kaggle.com/thec03u5/seinfeld-chronicles#scripts.csv) of scripts from 9 seasons.  The Neural Network you'll build will generate a new ,\"fake\" TV script, based on patterns it recognizes in this training data.\n",
    "\n",
    "## Get the Data\n",
    "\n",
    "The data is already provided for you in `./data/Seinfeld_Scripts.txt` and you're encouraged to open that file and look at the text. \n",
    ">* As a first step, we'll load in this data and look at some samples. \n",
    "* Then, you'll be tasked with defining and training an RNN to generate a new script!"
   ]
  },
  {
   "cell_type": "code",
   "execution_count": 1,
   "metadata": {},
   "outputs": [],
   "source": [
    "\"\"\"\n",
    "DON'T MODIFY ANYTHING IN THIS CELL\n",
    "\"\"\"\n",
    "# load in data\n",
    "import helper\n",
    "data_dir = './data/Seinfeld_Scripts.txt'\n",
    "text = helper.load_data(data_dir)"
   ]
  },
  {
   "cell_type": "markdown",
   "metadata": {},
   "source": [
    "## Explore the Data\n",
    "Play around with `view_line_range` to view different parts of the data. This will give you a sense of the data you'll be working with. You can see, for example, that it is all lowercase text, and each new line of dialogue is separated by a newline character `\\n`."
   ]
  },
  {
   "cell_type": "code",
   "execution_count": 2,
   "metadata": {},
   "outputs": [
    {
     "name": "stdout",
     "output_type": "stream",
     "text": [
      "Dataset Stats\n",
      "Roughly the number of unique words: 46367\n",
      "Number of lines: 109233\n",
      "Average number of words in each line: 5.544240293684143\n",
      "\n",
      "The lines 80 to 100:\n",
      "jerry: yes! \n",
      "\n",
      "george: youre a back-up, youre a second-line, a just-in-case, a b-plan, a contingency! \n",
      "\n",
      "jerry: oh, i get it, this is about the button. \n",
      "\n",
      "george: claire, claire, youre a woman, right? \n",
      "\n",
      "claire: what gave it away, george? \n",
      "\n",
      "george: uhm...id like to ask you...ask you to analyze a hypothetical phone call, you know, from a female point of view. \n",
      "\n",
      "george: (to claire) now, a woman calls me, all right? \n",
      "\n",
      "claie: uh huh. \n",
      "\n",
      "george: she says she has to come to new york on business... \n",
      "\n",
      "jerry: oh you are beautiful! \n",
      "\n"
     ]
    }
   ],
   "source": [
    "view_line_range = (80, 100)\n",
    "\n",
    "\"\"\"\n",
    "DON'T MODIFY ANYTHING IN THIS CELL THAT IS BELOW THIS LINE\n",
    "\"\"\"\n",
    "import numpy as np\n",
    "\n",
    "print('Dataset Stats')\n",
    "print('Roughly the number of unique words: {}'.format(len({word: None for word in text.split()})))\n",
    "\n",
    "lines = text.split('\\n')\n",
    "print('Number of lines: {}'.format(len(lines)))\n",
    "word_count_line = [len(line.split()) for line in lines]\n",
    "print('Average number of words in each line: {}'.format(np.average(word_count_line)))\n",
    "\n",
    "print()\n",
    "print('The lines {} to {}:'.format(*view_line_range))\n",
    "print('\\n'.join(text.split('\\n')[view_line_range[0]:view_line_range[1]]))"
   ]
  },
  {
   "cell_type": "markdown",
   "metadata": {},
   "source": [
    "---\n",
    "## Implement Pre-processing Functions\n",
    "The first thing to do to any dataset is pre-processing.  Implement the following pre-processing functions below:\n",
    "- Lookup Table\n",
    "- Tokenize Punctuation\n",
    "\n",
    "### Lookup Table\n",
    "To create a word embedding, you first need to transform the words to ids.  In this function, create two dictionaries:\n",
    "- Dictionary to go from the words to an id, we'll call `vocab_to_int`\n",
    "- Dictionary to go from the id to word, we'll call `int_to_vocab`\n",
    "\n",
    "Return these dictionaries in the following **tuple** `(vocab_to_int, int_to_vocab)`"
   ]
  },
  {
   "cell_type": "code",
   "execution_count": 3,
   "metadata": {},
   "outputs": [
    {
     "name": "stdout",
     "output_type": "stream",
     "text": [
      "Tests Passed\n"
     ]
    }
   ],
   "source": [
    "import problem_unittests as tests\n",
    "from collections import Counter\n",
    "\n",
    "def create_lookup_tables(text):\n",
    "    \"\"\"\n",
    "    Create lookup tables for vocabulary\n",
    "    :param text: The text of tv scripts split into words\n",
    "    :return: A tuple of dicts (vocab_to_int, int_to_vocab)\n",
    "    \"\"\"\n",
    "    # TODO: Implement Function\n",
    "    # key: word\n",
    "    # value: frequency\n",
    "    counter = Counter(text)\n",
    "#     print(counter)\n",
    "    # smaller value -> frequent key (word)\n",
    "    vocab = sorted(counter, key=counter.get, reverse=True)\n",
    "#     print(vocab)\n",
    "    vocab_to_int = {word: ii for ii, word in enumerate(vocab, 1)}  # index starting from 1\n",
    "    # reverse the key, value\n",
    "    int_to_vocab = {v: k for k, v in vocab_to_int.items()}\n",
    "#     print(int_to_vocab)\n",
    "    \n",
    "    # return tuple\n",
    "    return (vocab_to_int, int_to_vocab)\n",
    "\n",
    "\n",
    "\"\"\"\n",
    "DON'T MODIFY ANYTHING IN THIS CELL THAT IS BELOW THIS LINE\n",
    "\"\"\"\n",
    "tests.test_create_lookup_tables(create_lookup_tables)"
   ]
  },
  {
   "cell_type": "markdown",
   "metadata": {},
   "source": [
    "### Tokenize Punctuation\n",
    "We'll be splitting the script into a word array using spaces as delimiters.  However, punctuations like periods and exclamation marks can create multiple ids for the same word. For example, \"bye\" and \"bye!\" would generate two different word ids.\n",
    "\n",
    "Implement the function `token_lookup` to return a dict that will be used to tokenize symbols like \"!\" into \"||Exclamation_Mark||\".  Create a dictionary for the following symbols where the symbol is the key and value is the token:\n",
    "- Period ( **.** )\n",
    "- Comma ( **,** )\n",
    "- Quotation Mark ( **\"** )\n",
    "- Semicolon ( **;** )\n",
    "- Exclamation mark ( **!** )\n",
    "- Question mark ( **?** )\n",
    "- Left Parentheses ( **(** )\n",
    "- Right Parentheses ( **)** )\n",
    "- Dash ( **-** )\n",
    "- Return ( **\\n** )\n",
    "\n",
    "This dictionary will be used to tokenize the symbols and add the delimiter (space) around it.  This separates each symbols as its own word, making it easier for the neural network to predict the next word. Make sure you don't use a value that could be confused as a word; for example, instead of using the value \"dash\", try using something like \"||dash||\"."
   ]
  },
  {
   "cell_type": "code",
   "execution_count": 46,
   "metadata": {},
   "outputs": [
    {
     "name": "stdout",
     "output_type": "stream",
     "text": [
      "Tests Passed\n"
     ]
    }
   ],
   "source": [
    "import collections as ct\n",
    "\n",
    "def token_lookup():\n",
    "    \"\"\"\n",
    "    Generate a dict to turn punctuation into a token.\n",
    "    :return: Tokenized dictionary where the key is the punctuation and the value is the token\n",
    "    \"\"\"\n",
    "    # TODO: Implement Function\n",
    "    '''\n",
    "    punctuation_list = [\".\", \",\", \"\\\"\", \";\", \"!\", \"?\", \"(\", \")\", \"-\", \"\\n\"]\n",
    "    punctuation = {p: token for p, token in ct.Counter(text).items() if p in punctuation_list}\n",
    "#     print(punctuation)\n",
    "    for k, v in punctuation.items():\n",
    "        punctuation[k] = str(v)  # make value type as str\n",
    "#     print(punctuation)\n",
    "    return punctuation\n",
    "    '''\n",
    "    \n",
    "    puncutation = {\n",
    "        \".\": \"||Period||\",\n",
    "        \",\": \"||Comma||\",\n",
    "        \"\\\"\": \"||Quotation_Mark||\",\n",
    "        \";\": \"||Semicolon||\",\n",
    "        \"!\": \"||Exclamation_Mark||\",\n",
    "        \"?\": \"||Question_Mark||\",\n",
    "        \"(\": \"||Left_Parentheses||\",\n",
    "        \")\": \"||Right_Parentheses||\",\n",
    "        \"-\": \"||Dash||\",\n",
    "        \"\\n\": \"||Return||\"\n",
    "    }\n",
    "    return puncutation\n",
    "\n",
    "\"\"\"\n",
    "DON'T MODIFY ANYTHING IN THIS CELL THAT IS BELOW THIS LINE\n",
    "\"\"\"\n",
    "tests.test_tokenize(token_lookup)"
   ]
  },
  {
   "cell_type": "markdown",
   "metadata": {},
   "source": [
    "## Pre-process all the data and save it\n",
    "\n",
    "Running the code cell below will pre-process all the data and save it to file. You're encouraged to lok at the code for `preprocess_and_save_data` in the `helpers.py` file to see what it's doing in detail, but you do not need to change this code."
   ]
  },
  {
   "cell_type": "code",
   "execution_count": 47,
   "metadata": {},
   "outputs": [],
   "source": [
    "\"\"\"\n",
    "DON'T MODIFY ANYTHING IN THIS CELL\n",
    "\"\"\"\n",
    "# pre-process training data\n",
    "helper.preprocess_and_save_data(data_dir, token_lookup, create_lookup_tables)"
   ]
  },
  {
   "cell_type": "markdown",
   "metadata": {},
   "source": [
    "# Check Point\n",
    "This is your first checkpoint. If you ever decide to come back to this notebook or have to restart the notebook, you can start from here. The preprocessed data has been saved to disk."
   ]
  },
  {
   "cell_type": "code",
   "execution_count": 48,
   "metadata": {},
   "outputs": [],
   "source": [
    "\"\"\"\n",
    "DON'T MODIFY ANYTHING IN THIS CELL\n",
    "\"\"\"\n",
    "import helper\n",
    "import problem_unittests as tests\n",
    "\n",
    "int_text, vocab_to_int, int_to_vocab, token_dict = helper.load_preprocess()"
   ]
  },
  {
   "cell_type": "markdown",
   "metadata": {},
   "source": [
    "## Build the Neural Network\n",
    "In this section, you'll build the components necessary to build an RNN by implementing the RNN Module and forward and backpropagation functions.\n",
    "\n",
    "### Check Access to GPU"
   ]
  },
  {
   "cell_type": "code",
   "execution_count": 49,
   "metadata": {},
   "outputs": [],
   "source": [
    "\"\"\"\n",
    "DON'T MODIFY ANYTHING IN THIS CELL\n",
    "\"\"\"\n",
    "import torch\n",
    "\n",
    "# Check for a GPU\n",
    "train_on_gpu = torch.cuda.is_available()\n",
    "if not train_on_gpu:\n",
    "    print('No GPU found. Please use a GPU to train your neural network.')"
   ]
  },
  {
   "cell_type": "markdown",
   "metadata": {},
   "source": [
    "## Input\n",
    "Let's start with the preprocessed input data. We'll use [TensorDataset](http://pytorch.org/docs/master/data.html#torch.utils.data.TensorDataset) to provide a known format to our dataset; in combination with [DataLoader](http://pytorch.org/docs/master/data.html#torch.utils.data.DataLoader), it will handle batching, shuffling, and other dataset iteration functions.\n",
    "\n",
    "You can create data with TensorDataset by passing in feature and target tensors. Then create a DataLoader as usual.\n",
    "```\n",
    "data = TensorDataset(feature_tensors, target_tensors)\n",
    "data_loader = torch.utils.data.DataLoader(data, \n",
    "                                          batch_size=batch_size)\n",
    "```\n",
    "\n",
    "### Batching\n",
    "Implement the `batch_data` function to batch `words` data into chunks of size `batch_size` using the `TensorDataset` and `DataLoader` classes.\n",
    "\n",
    ">You can batch words using the DataLoader, but it will be up to you to create `feature_tensors` and `target_tensors` of the correct size and content for a given `sequence_length`.\n",
    "\n",
    "For example, say we have these as input:\n",
    "```\n",
    "words = [1, 2, 3, 4, 5, 6, 7]\n",
    "sequence_length = 4\n",
    "```\n",
    "\n",
    "Your first `feature_tensor` should contain the values:\n",
    "```\n",
    "[1, 2, 3, 4]\n",
    "```\n",
    "And the corresponding `target_tensor` should just be the next \"word\"/tokenized word value:\n",
    "```\n",
    "5\n",
    "```\n",
    "This should continue with the second `feature_tensor`, `target_tensor` being:\n",
    "```\n",
    "[2, 3, 4, 5]  # features\n",
    "6             # target\n",
    "```"
   ]
  },
  {
   "cell_type": "code",
   "execution_count": 50,
   "metadata": {},
   "outputs": [],
   "source": [
    "from torch.utils.data import TensorDataset, DataLoader\n",
    "\n",
    "\n",
    "def batch_data(words, sequence_length, batch_size):\n",
    "    \"\"\"\n",
    "    Batch the neural network data using DataLoader\n",
    "    :param words: The word ids of the TV scripts\n",
    "    :param sequence_length: The sequence length of each batch\n",
    "    :param batch_size: The size of each batch; the number of sequences in a batch\n",
    "    :return: DataLoader with batched data\n",
    "    \"\"\"\n",
    "    # TODO: Implement function\n",
    "    features = []\n",
    "    targets = []\n",
    "    for i in range(len(words) - sequence_length - 1):\n",
    "        sample = words[i:i+sequence_length]\n",
    "        target = words[i+sequence_length]\n",
    "        features.append(sample)\n",
    "        targets.append(target)\n",
    "    features = np.array(features)\n",
    "    targets = np.array(targets)\n",
    "    feature_tensors = torch.from_numpy(features)\n",
    "    target_tensors = torch.from_numpy(targets)\n",
    "    \n",
    "    dataset = TensorDataset(feature_tensors, target_tensors)\n",
    "    dataloader = DataLoader(dataset, shuffle=True, batch_size=batch_size)\n",
    "    \n",
    "    # return a dataloader\n",
    "    return dataloader\n",
    "\n",
    "# there is no test for this function, but you are encouraged to create\n",
    "# print statements and tests of your own\n"
   ]
  },
  {
   "cell_type": "markdown",
   "metadata": {},
   "source": [
    "### Test your dataloader \n",
    "\n",
    "You'll have to modify this code to test a batching function, but it should look fairly similar.\n",
    "\n",
    "Below, we're generating some test text data and defining a dataloader using the function you defined, above. Then, we are getting some sample batch of inputs `sample_x` and targets `sample_y` from our dataloader.\n",
    "\n",
    "Your code should return something like the following (likely in a different order, if you shuffled your data):\n",
    "\n",
    "```\n",
    "torch.Size([10, 5])\n",
    "tensor([[ 28,  29,  30,  31,  32],\n",
    "        [ 21,  22,  23,  24,  25],\n",
    "        [ 17,  18,  19,  20,  21],\n",
    "        [ 34,  35,  36,  37,  38],\n",
    "        [ 11,  12,  13,  14,  15],\n",
    "        [ 23,  24,  25,  26,  27],\n",
    "        [  6,   7,   8,   9,  10],\n",
    "        [ 38,  39,  40,  41,  42],\n",
    "        [ 25,  26,  27,  28,  29],\n",
    "        [  7,   8,   9,  10,  11]])\n",
    "\n",
    "torch.Size([10])\n",
    "tensor([ 33,  26,  22,  39,  16,  28,  11,  43,  30,  12])\n",
    "```\n",
    "\n",
    "### Sizes\n",
    "Your sample_x should be of size `(batch_size, sequence_length)` or (10, 5) in this case and sample_y should just have one dimension: batch_size (10). \n",
    "\n",
    "### Values\n",
    "\n",
    "You should also notice that the targets, sample_y, are the *next* value in the ordered test_text data. So, for an input sequence `[ 28,  29,  30,  31,  32]` that ends with the value `32`, the corresponding output should be `33`."
   ]
  },
  {
   "cell_type": "code",
   "execution_count": 51,
   "metadata": {},
   "outputs": [
    {
     "name": "stdout",
     "output_type": "stream",
     "text": [
      "torch.Size([10, 5])\n",
      "tensor([[ 16,  17,  18,  19,  20],\n",
      "        [ 43,  44,  45,  46,  47],\n",
      "        [ 34,  35,  36,  37,  38],\n",
      "        [ 11,  12,  13,  14,  15],\n",
      "        [  3,   4,   5,   6,   7],\n",
      "        [ 25,  26,  27,  28,  29],\n",
      "        [ 32,  33,  34,  35,  36],\n",
      "        [ 21,  22,  23,  24,  25],\n",
      "        [ 36,  37,  38,  39,  40],\n",
      "        [ 22,  23,  24,  25,  26]])\n",
      "\n",
      "torch.Size([10])\n",
      "tensor([ 21,  48,  39,  16,   8,  30,  37,  26,  41,  27])\n"
     ]
    }
   ],
   "source": [
    "# test dataloader\n",
    "\n",
    "test_text = range(50)\n",
    "t_loader = batch_data(test_text, sequence_length=5, batch_size=10)\n",
    "\n",
    "data_iter = iter(t_loader)\n",
    "sample_x, sample_y = data_iter.next()\n",
    "\n",
    "print(sample_x.shape)\n",
    "print(sample_x)\n",
    "print()\n",
    "print(sample_y.shape)\n",
    "print(sample_y)"
   ]
  },
  {
   "cell_type": "markdown",
   "metadata": {},
   "source": [
    "---\n",
    "## Build the Neural Network\n",
    "Implement an RNN using PyTorch's [Module class](http://pytorch.org/docs/master/nn.html#torch.nn.Module). You may choose to use a GRU or an LSTM. To complete the RNN, you'll have to implement the following functions for the class:\n",
    " - `__init__` - The initialize function. \n",
    " - `init_hidden` - The initialization function for an LSTM/GRU hidden state\n",
    " - `forward` - Forward propagation function.\n",
    " \n",
    "The initialize function should create the layers of the neural network and save them to the class. The forward propagation function will use these layers to run forward propagation and generate an output and a hidden state.\n",
    "\n",
    "**The output of this model should be the *last* batch of word scores** after a complete sequence has been processed. That is, for each input sequence of words, we only want to output the word scores for a single, most likely, next word.\n",
    "\n",
    "### Hints\n",
    "\n",
    "1. Make sure to stack the outputs of the lstm to pass to your fully-connected layer, you can do this with `lstm_output = lstm_output.contiguous().view(-1, self.hidden_dim)`\n",
    "2. You can get the last batch of word scores by shaping the output of the final, fully-connected layer like so:\n",
    "\n",
    "```\n",
    "# reshape into (batch_size, seq_length, output_size)\n",
    "output = output.view(batch_size, -1, self.output_size)\n",
    "# get last batch\n",
    "out = output[:, -1]\n",
    "```"
   ]
  },
  {
   "cell_type": "code",
   "execution_count": 60,
   "metadata": {},
   "outputs": [
    {
     "name": "stdout",
     "output_type": "stream",
     "text": [
      "Tests Passed\n"
     ]
    }
   ],
   "source": [
    "import torch.nn as nn\n",
    "\n",
    "class RNN(nn.Module):\n",
    "    \n",
    "    def __init__(self, vocab_size, output_size, embedding_dim, hidden_dim, n_layers, dropout=0.5):\n",
    "        \"\"\"\n",
    "        Initialize the PyTorch RNN Module\n",
    "        :param vocab_size: The number of input dimensions of the neural network (the size of the vocabulary)\n",
    "        :param output_size: The number of output dimensions of the neural network\n",
    "        :param embedding_dim: The size of embeddings, should you choose to use them        \n",
    "        :param hidden_dim: The size of the hidden layer outputs\n",
    "        :param dropout: dropout to add in between LSTM/GRU layers\n",
    "        \"\"\"\n",
    "        super(RNN, self).__init__()\n",
    "        # TODO: Implement function\n",
    "        \n",
    "        # set class variables\n",
    "        self.output_size = output_size\n",
    "        self.n_layers = n_layers\n",
    "        self.hidden_dim = hidden_dim\n",
    "        \n",
    "        # define model layers\n",
    "        self.embed = nn.Embedding(vocab_size, embedding_dim)\n",
    "        self.lstm = nn.LSTM(embedding_dim, hidden_dim, n_layers, dropout=dropout, batch_first=True)\n",
    "        self.fc = nn.Linear(hidden_dim, output_size)\n",
    "        self.dropout = nn.Dropout(p=0.3)\n",
    "#         self.sig = nn.Sigmoid()\n",
    "        \n",
    "    \n",
    "    def forward(self, nn_input, hidden):\n",
    "        \"\"\"\n",
    "        Forward propagation of the neural network\n",
    "        :param nn_input: The input to the neural network\n",
    "        :param hidden: The hidden state        \n",
    "        :return: Two Tensors, the output of the neural network and the latest hidden state\n",
    "        \"\"\"\n",
    "        # TODO: Implement function   \n",
    "        \n",
    "        # return one batch of output word scores and the hidden state\n",
    "        batch_size = nn_input.size(0)\n",
    "#         print('batch_size =', batch_size)\n",
    "        \n",
    "        embeds = self.embed(nn_input)  # output: embedding\n",
    "        lstm_output, hidden_state = self.lstm(embeds, hidden)  # output: lstm_out, new hidden state\n",
    "        \n",
    "        # stack the output of lstm\n",
    "        lstm_output = lstm_output.contiguous().view(-1, self.hidden_dim)\n",
    "        \n",
    "        # feed to fully-connected layer\n",
    "        output = self.dropout(lstm_output)\n",
    "        output = self.fc(output)\n",
    "        \n",
    "        # pass to sigmoid   Note: No sigmoid is required, because we want to output the socres for the next word\n",
    "#         sigmoid_out = self.sig(output)  \n",
    "#         print('sigmoid_out.shape:', sigmoid_out.shape)\n",
    "        \n",
    "        # reshape into (batch_size, seq_length, output_size)\n",
    "        output = output.view(batch_size, -1, self.output_size)\n",
    "#         print('sigmoid_out.shape:', sigmoid_out.shape)\n",
    "        # get the sigmoid_out on the last batch\n",
    "        output = output[:, -1]\n",
    "        \n",
    "        return output, hidden_state\n",
    "    \n",
    "    \n",
    "    def init_hidden(self, batch_size):\n",
    "        '''\n",
    "        Initialize the hidden state of an LSTM/GRU\n",
    "        :param batch_size: The batch_size of the hidden state\n",
    "        :return: hidden state of dims (n_layers, batch_size, hidden_dim)\n",
    "        '''\n",
    "        # Implement function\n",
    "        \n",
    "        # initialize hidden state with zero weights, and move to GPU if available\n",
    "        weight = next(self.parameters()).data\n",
    "        \n",
    "        if train_on_gpu:\n",
    "            hidden = (weight.new(self.n_layers, batch_size, self.hidden_dim).zero_().cuda(),\n",
    "                  weight.new(self.n_layers, batch_size, self.hidden_dim).zero_().cuda())\n",
    "        else:\n",
    "            hidden = (weight.new(self.n_layers, batch_size, self.hidden_dim).zero_(),\n",
    "                      weight.new(self.n_layers, batch_size, self.hidden_dim).zero_())\n",
    "        \n",
    "        return hidden\n",
    "\n",
    "\"\"\"\n",
    "DON'T MODIFY ANYTHING IN THIS CELL THAT IS BELOW THIS LINE\n",
    "\"\"\"\n",
    "tests.test_rnn(RNN, train_on_gpu)"
   ]
  },
  {
   "cell_type": "markdown",
   "metadata": {},
   "source": [
    "### Define forward and backpropagation\n",
    "\n",
    "Use the RNN class you implemented to apply forward and back propagation. This function will be called, iteratively, in the training loop as follows:\n",
    "```\n",
    "loss = forward_back_prop(decoder, decoder_optimizer, criterion, inp, target)\n",
    "```\n",
    "\n",
    "And it should return the average loss over a batch and the hidden state returned by a call to `RNN(inp, hidden)`. Recall that you can get this loss by computing it, as usual, and calling `loss.item()`.\n",
    "\n",
    "**If a GPU is available, you should move your data to that GPU device, here.**"
   ]
  },
  {
   "cell_type": "code",
   "execution_count": 75,
   "metadata": {},
   "outputs": [
    {
     "name": "stdout",
     "output_type": "stream",
     "text": [
      "Tests Passed\n"
     ]
    }
   ],
   "source": [
    "def forward_back_prop(rnn, optimizer, criterion, inp, target, hidden):\n",
    "    \"\"\"\n",
    "    Forward and backward propagation on the neural network\n",
    "    :param decoder: The PyTorch Module that holds the neural network\n",
    "    :param decoder_optimizer: The PyTorch optimizer for the neural network\n",
    "    :param criterion: The PyTorch loss function\n",
    "    :param inp: A batch of input to the neural network\n",
    "    :param target: The target output for the batch of input\n",
    "    :return: The loss and the latest hidden state Tensor\n",
    "    \"\"\"\n",
    "    \n",
    "    # TODO: Implement Function\n",
    "    \n",
    "    # move data to GPU, if available\n",
    "    if train_on_gpu:\n",
    "        inp = inp.cuda()\n",
    "        target = target.cuda()\n",
    "#         rnn.cuda()\n",
    "        \n",
    "    gradient_clip = 5\n",
    "    \n",
    "    # perform backpropagation and optimization\n",
    "    # 1. get output and hidden state\n",
    "    h = tuple([each.data for each in hidden])\n",
    "    output, hidden_state = rnn(inp, h)\n",
    "    # 2. calculate loss\n",
    "#     print(output.squeeze().shape, target.shape)\n",
    "#     target = target.float()  # this is not necessary, because criterion expectes a LongTensor not FloatTensor\n",
    "#     print(target.type())\n",
    "    loss = criterion(output.squeeze(), target)\n",
    "#     print(loss.type())\n",
    "    # 3. clear gradient and calculate new gradient\n",
    "    optimizer.zero_grad()\n",
    "    loss.backward()\n",
    "    nn.utils.clip_grad_norm_(rnn.parameters(), gradient_clip)  # gradient clipping to avoid exploding gradient\n",
    "    optimizer.step()\n",
    "    \n",
    "    # return the loss over a batch and the hidden state produced by our model\n",
    "    return loss.item(), hidden_state\n",
    "\n",
    "# Note that these tests aren't completely extensive.\n",
    "# they are here to act as general checks on the expected outputs of your functions\n",
    "\"\"\"\n",
    "DON'T MODIFY ANYTHING IN THIS CELL THAT IS BELOW THIS LINE\n",
    "\"\"\"\n",
    "tests.test_forward_back_prop(RNN, forward_back_prop, train_on_gpu)"
   ]
  },
  {
   "cell_type": "markdown",
   "metadata": {},
   "source": [
    "## Neural Network Training\n",
    "\n",
    "With the structure of the network complete and data ready to be fed in the neural network, it's time to train it.\n",
    "\n",
    "### Train Loop\n",
    "\n",
    "The training loop is implemented for you in the `train_decoder` function. This function will train the network over all the batches for the number of epochs given. The model progress will be shown every number of batches. This number is set with the `show_every_n_batches` parameter. You'll set this parameter along with other parameters in the next section."
   ]
  },
  {
   "cell_type": "code",
   "execution_count": 69,
   "metadata": {},
   "outputs": [],
   "source": [
    "\"\"\"\n",
    "DON'T MODIFY ANYTHING IN THIS CELL\n",
    "\"\"\"\n",
    "\n",
    "def train_rnn(rnn, batch_size, optimizer, criterion, n_epochs, show_every_n_batches=100):\n",
    "    batch_losses = []\n",
    "    \n",
    "    rnn.train()\n",
    "\n",
    "    print(\"Training for %d epoch(s)...\" % n_epochs)\n",
    "    for epoch_i in range(1, n_epochs + 1):\n",
    "        \n",
    "        # initialize hidden state\n",
    "        hidden = rnn.init_hidden(batch_size)\n",
    "        \n",
    "        for batch_i, (inputs, labels) in enumerate(train_loader, 1):\n",
    "            \n",
    "            # make sure you iterate over completely full batches, only\n",
    "            n_batches = len(train_loader.dataset)//batch_size\n",
    "            if(batch_i > n_batches):\n",
    "                break\n",
    "            \n",
    "            # forward, back prop\n",
    "            loss, hidden = forward_back_prop(rnn, optimizer, criterion, inputs, labels, hidden)          \n",
    "            # record loss\n",
    "            batch_losses.append(loss)\n",
    "\n",
    "            # printing loss stats\n",
    "            if batch_i % show_every_n_batches == 0:\n",
    "                print('Epoch: {:>4}/{:<4}  Loss: {}\\n'.format(\n",
    "                    epoch_i, n_epochs, np.average(batch_losses)))\n",
    "                batch_losses = []\n",
    "\n",
    "    # returns a trained rnn\n",
    "    return rnn"
   ]
  },
  {
   "cell_type": "markdown",
   "metadata": {},
   "source": [
    "### Hyperparameters\n",
    "\n",
    "Set and train the neural network with the following parameters:\n",
    "- Set `sequence_length` to the length of a sequence.\n",
    "- Set `batch_size` to the batch size.\n",
    "- Set `num_epochs` to the number of epochs to train for.\n",
    "- Set `learning_rate` to the learning rate for an Adam optimizer.\n",
    "- Set `vocab_size` to the number of uniqe tokens in our vocabulary.\n",
    "- Set `output_size` to the desired size of the output.\n",
    "- Set `embedding_dim` to the embedding dimension; smaller than the vocab_size.\n",
    "- Set `hidden_dim` to the hidden dimension of your RNN.\n",
    "- Set `n_layers` to the number of layers/cells in your RNN.\n",
    "- Set `show_every_n_batches` to the number of batches at which the neural network should print progress.\n",
    "\n",
    "If the network isn't getting the desired results, tweak these parameters and/or the layers in the `RNN` class."
   ]
  },
  {
   "cell_type": "code",
   "execution_count": 88,
   "metadata": {},
   "outputs": [],
   "source": [
    "# Data params\n",
    "# Sequence Length\n",
    "sequence_length = 10  # of words in a sequence\n",
    "# Batch Size\n",
    "batch_size = 200\n",
    "\n",
    "# data loader - do not change\n",
    "train_loader = batch_data(int_text, sequence_length, batch_size)"
   ]
  },
  {
   "cell_type": "code",
   "execution_count": 89,
   "metadata": {},
   "outputs": [],
   "source": [
    "# Training parameters\n",
    "# Number of Epochs\n",
    "num_epochs = 4\n",
    "# Learning Rate\n",
    "learning_rate = 0.001\n",
    "\n",
    "# Model parameters\n",
    "# Vocab size\n",
    "vocab_size = len(vocab_to_int) + 1 \n",
    "# Output size\n",
    "output_size = vocab_size\n",
    "# Embedding Dimension\n",
    "embedding_dim = 400\n",
    "# Hidden Dimension\n",
    "hidden_dim = 256\n",
    "# Number of RNN Layers\n",
    "n_layers = 2\n",
    "\n",
    "# Show stats for every n number of batches\n",
    "show_every_n_batches = 500"
   ]
  },
  {
   "cell_type": "markdown",
   "metadata": {},
   "source": [
    "### Train\n",
    "In the next cell, you'll train the neural network on the pre-processed data.  If you have a hard time getting a good loss, you may consider changing your hyperparameters. In general, you may get better results with larger hidden and n_layer dimensions, but larger models take a longer time to train. \n",
    "> **You should aim for a loss less than 3.5.** \n",
    "\n",
    "You should also experiment with different sequence lengths, which determine the size of the long range dependencies that a model can learn."
   ]
  },
  {
   "cell_type": "code",
   "execution_count": 90,
   "metadata": {},
   "outputs": [],
   "source": [
    "\"\"\"\n",
    "DON'T MODIFY ANYTHING IN THIS CELL\n",
    "\"\"\"\n",
    "\n",
    "# create model and move to gpu if available\n",
    "rnn = RNN(vocab_size, output_size, embedding_dim, hidden_dim, n_layers, dropout=0.5)\n",
    "if train_on_gpu:\n",
    "    rnn.cuda()\n",
    "\n",
    "# defining loss and optimization functions for training\n",
    "optimizer = torch.optim.Adam(rnn.parameters(), lr=learning_rate)\n",
    "criterion = nn.CrossEntropyLoss()"
   ]
  },
  {
   "cell_type": "code",
   "execution_count": 91,
   "metadata": {},
   "outputs": [
    {
     "name": "stdout",
     "output_type": "stream",
     "text": [
      "Training for 4 epoch(s)...\n",
      "Epoch:    1/4     Loss: 5.390097703933716\n",
      "\n",
      "Epoch:    1/4     Loss: 4.802493225097656\n",
      "\n",
      "Epoch:    1/4     Loss: 4.5922645268440245\n",
      "\n",
      "Epoch:    1/4     Loss: 4.47483894109726\n",
      "\n",
      "Epoch:    1/4     Loss: 4.389159416675567\n",
      "\n",
      "Epoch:    1/4     Loss: 4.316618631839752\n",
      "\n",
      "Epoch:    1/4     Loss: 4.2956796636581425\n",
      "\n",
      "Epoch:    1/4     Loss: 4.250500675201416\n",
      "\n",
      "Epoch:    2/4     Loss: 4.156462499499321\n",
      "\n",
      "Epoch:    2/4     Loss: 4.11617911863327\n",
      "\n",
      "Epoch:    2/4     Loss: 4.099594977855682\n",
      "\n",
      "Epoch:    2/4     Loss: 4.087799982070923\n",
      "\n",
      "Epoch:    2/4     Loss: 4.066811373710633\n",
      "\n",
      "Epoch:    2/4     Loss: 4.053813449859619\n",
      "\n",
      "Epoch:    2/4     Loss: 4.058622104167938\n",
      "\n",
      "Epoch:    2/4     Loss: 4.043810043811798\n",
      "\n",
      "Epoch:    3/4     Loss: 3.9665390541156134\n",
      "\n",
      "Epoch:    3/4     Loss: 3.9251154589653017\n",
      "\n",
      "Epoch:    3/4     Loss: 3.9270482459068297\n",
      "\n",
      "Epoch:    3/4     Loss: 3.9340152096748353\n",
      "\n",
      "Epoch:    3/4     Loss: 3.9197811102867126\n",
      "\n",
      "Epoch:    3/4     Loss: 3.928274398803711\n",
      "\n",
      "Epoch:    3/4     Loss: 3.9140293526649477\n",
      "\n",
      "Epoch:    3/4     Loss: 3.9263579211235045\n",
      "\n",
      "Epoch:    4/4     Loss: 3.8775969803333283\n",
      "\n",
      "Epoch:    4/4     Loss: 3.8247842154502867\n",
      "\n",
      "Epoch:    4/4     Loss: 3.8368091011047363\n",
      "\n",
      "Epoch:    4/4     Loss: 3.832313530921936\n",
      "\n",
      "Epoch:    4/4     Loss: 3.8183491888046266\n",
      "\n",
      "Epoch:    4/4     Loss: 3.8369062175750734\n",
      "\n",
      "Epoch:    4/4     Loss: 3.8327336835861208\n",
      "\n",
      "Epoch:    4/4     Loss: 3.8363322730064393\n",
      "\n"
     ]
    }
   ],
   "source": [
    "# training the model\n",
    "from workspace_utils import active_session\n",
    "\n",
    "with active_session():\n",
    "    trained_rnn = train_rnn(rnn, batch_size, optimizer, criterion, num_epochs, show_every_n_batches)\n"
   ]
  },
  {
   "cell_type": "markdown",
   "metadata": {},
   "source": [
    "*This cell is for the purpose of saving the notebook progress while training.*\n",
    "\n",
    ".\n",
    "..\n",
    "...\n",
    "\n"
   ]
  },
  {
   "cell_type": "code",
   "execution_count": 92,
   "metadata": {},
   "outputs": [
    {
     "name": "stdout",
     "output_type": "stream",
     "text": [
      "Model Trained and Saved -> ./save/trained_rnn__after_4_epochs.pt\n",
      "Model Trained and Saved -> ./save/trained_rnn_dict__after_4_epochs.pt\n"
     ]
    },
    {
     "name": "stderr",
     "output_type": "stream",
     "text": [
      "/opt/conda/lib/python3.6/site-packages/torch/serialization.py:193: UserWarning: Couldn't retrieve source code for container of type RNN. It won't be checked for correctness upon loading.\n",
      "  \"type \" + obj.__name__ + \". It won't be checked \"\n"
     ]
    }
   ],
   "source": [
    "# saving the trained model\n",
    "helper.save_model('./save/trained_rnn__after_4_epochs', trained_rnn)\n",
    "print('Model Trained and Saved -> ./save/trained_rnn__after_4_epochs.pt')\n",
    "torch.save(rnn.state_dict(), './save/trained_rnn_dict__after_4_epochs.pt')\n",
    "print('Model Trained and Saved -> ./save/trained_rnn_dict__after_4_epochs.pt')"
   ]
  },
  {
   "cell_type": "code",
   "execution_count": 93,
   "metadata": {},
   "outputs": [],
   "source": [
    "# continue to train\n",
    "\n",
    "# 1. re-define parameters, optimizer, dataloader\n",
    "# Data params\n",
    "# Sequence Length\n",
    "sequence_length = 10     # use same sequence length\n",
    "# Batch Size\n",
    "batch_size = 200         # use same batch size\n",
    "# Training parameters\n",
    "# Number of Epochs\n",
    "num_epochs = 4           # use same training epochs\n",
    "# Learning Rate\n",
    "learning_rate = 0.001    # use te same learning rate\n",
    "# re-defining loss and optimization functions for training\n",
    "optimizer = torch.optim.Adam(rnn.parameters(), lr=learning_rate)\n",
    "criterion = nn.CrossEntropyLoss()\n",
    "# redefine data loader - do not change\n",
    "train_loader = batch_data(int_text, sequence_length, batch_size)"
   ]
  },
  {
   "cell_type": "code",
   "execution_count": 94,
   "metadata": {},
   "outputs": [
    {
     "name": "stdout",
     "output_type": "stream",
     "text": [
      "Training for 4 epoch(s)...\n",
      "Epoch:    1/4     Loss: 3.8145217185020446\n",
      "\n",
      "Epoch:    1/4     Loss: 3.8926459197998047\n",
      "\n",
      "Epoch:    1/4     Loss: 3.9059712586402893\n",
      "\n",
      "Epoch:    1/4     Loss: 3.9338449096679686\n",
      "\n",
      "Epoch:    1/4     Loss: 3.9086518278121947\n",
      "\n",
      "Epoch:    1/4     Loss: 3.9227416672706603\n",
      "\n",
      "Epoch:    1/4     Loss: 3.9336047015190125\n",
      "\n",
      "Epoch:    1/4     Loss: 3.925935345649719\n",
      "\n",
      "Epoch:    2/4     Loss: 3.872168933103482\n",
      "\n",
      "Epoch:    2/4     Loss: 3.82077458524704\n",
      "\n",
      "Epoch:    2/4     Loss: 3.8055745906829834\n",
      "\n",
      "Epoch:    2/4     Loss: 3.798685182094574\n",
      "\n",
      "Epoch:    2/4     Loss: 3.8237175469398497\n",
      "\n",
      "Epoch:    2/4     Loss: 3.8265236248970034\n",
      "\n",
      "Epoch:    2/4     Loss: 3.8184755492210387\n",
      "\n",
      "Epoch:    2/4     Loss: 3.83486399269104\n",
      "\n",
      "Epoch:    3/4     Loss: 3.784398428847392\n",
      "\n",
      "Epoch:    3/4     Loss: 3.7480033116340636\n",
      "\n",
      "Epoch:    3/4     Loss: 3.7221825027465822\n",
      "\n",
      "Epoch:    3/4     Loss: 3.7294530730247497\n",
      "\n",
      "Epoch:    3/4     Loss: 3.7675545196533204\n",
      "\n",
      "Epoch:    3/4     Loss: 3.753897921562195\n",
      "\n",
      "Epoch:    3/4     Loss: 3.770380153656006\n",
      "\n",
      "Epoch:    3/4     Loss: 3.7748269624710082\n",
      "\n",
      "Epoch:    4/4     Loss: 3.71418935234348\n",
      "\n",
      "Epoch:    4/4     Loss: 3.6743002443313597\n",
      "\n",
      "Epoch:    4/4     Loss: 3.695527151584625\n",
      "\n",
      "Epoch:    4/4     Loss: 3.7028654766082765\n",
      "\n",
      "Epoch:    4/4     Loss: 3.709950904369354\n",
      "\n",
      "Epoch:    4/4     Loss: 3.7122161016464235\n",
      "\n",
      "Epoch:    4/4     Loss: 3.722140384197235\n",
      "\n",
      "Epoch:    4/4     Loss: 3.7327891011238097\n",
      "\n"
     ]
    }
   ],
   "source": [
    "# 2. continue to train\n",
    "# training the model\n",
    "with active_session():\n",
    "    trained_rnn = train_rnn(rnn, batch_size, optimizer, criterion, num_epochs, show_every_n_batches)"
   ]
  },
  {
   "cell_type": "markdown",
   "metadata": {},
   "source": [
    "*This cell is for the purpose of saving the notebook progress while training.*\n",
    "\n",
    ".\n",
    "..\n",
    "...\n",
    "....\n",
    ".....\n",
    "\n"
   ]
  },
  {
   "cell_type": "code",
   "execution_count": 95,
   "metadata": {},
   "outputs": [
    {
     "name": "stdout",
     "output_type": "stream",
     "text": [
      "Model Trained and Saved -> ./save/trained_rnn__after_8_epochs.pt\n",
      "Model Trained and Saved -> ./save/trained_rnn_dict__after_8_epochs.pt\n"
     ]
    },
    {
     "name": "stderr",
     "output_type": "stream",
     "text": [
      "/opt/conda/lib/python3.6/site-packages/torch/serialization.py:193: UserWarning: Couldn't retrieve source code for container of type RNN. It won't be checked for correctness upon loading.\n",
      "  \"type \" + obj.__name__ + \". It won't be checked \"\n"
     ]
    }
   ],
   "source": [
    "# saving the trained model\n",
    "helper.save_model('./save/trained_rnn__after_8_epochs', trained_rnn)\n",
    "print('Model Trained and Saved -> ./save/trained_rnn__after_8_epochs.pt')\n",
    "torch.save(rnn.state_dict(), './save/trained_rnn_dict__after_8_epochs.pt')\n",
    "print('Model Trained and Saved -> ./save/trained_rnn_dict__after_8_epochs.pt')"
   ]
  },
  {
   "cell_type": "code",
   "execution_count": 96,
   "metadata": {},
   "outputs": [],
   "source": [
    "# continue to train\n",
    "\n",
    "# 1. re-define parameters, optimizer, dataloader\n",
    "# Data params\n",
    "# Sequence Length\n",
    "sequence_length = 10     # use same sequence length\n",
    "# Batch Size\n",
    "batch_size = 300         # use larger batch size (200 -> 300)\n",
    "# Training parameters\n",
    "# Number of Epochs\n",
    "num_epochs = 4           # use same training epochs\n",
    "# Learning Rate\n",
    "learning_rate = 0.0005    # use smaller learning rate (0.001 -> 0.0005)\n",
    "# re-defining loss and optimization functions for training\n",
    "optimizer = torch.optim.Adam(rnn.parameters(), lr=learning_rate)\n",
    "criterion = nn.CrossEntropyLoss()\n",
    "# redefine data loader - do not change\n",
    "train_loader = batch_data(int_text, sequence_length, batch_size)"
   ]
  },
  {
   "cell_type": "code",
   "execution_count": 97,
   "metadata": {},
   "outputs": [
    {
     "name": "stdout",
     "output_type": "stream",
     "text": [
      "Training for 4 epoch(s)...\n",
      "Epoch:    1/4     Loss: 3.6536482520103455\n",
      "\n",
      "Epoch:    1/4     Loss: 3.670161235809326\n",
      "\n",
      "Epoch:    1/4     Loss: 3.69016055059433\n",
      "\n",
      "Epoch:    1/4     Loss: 3.69636972284317\n",
      "\n",
      "Epoch:    1/4     Loss: 3.690000548362732\n",
      "\n",
      "Epoch:    2/4     Loss: 3.66843861494623\n",
      "\n",
      "Epoch:    2/4     Loss: 3.6328777990341186\n",
      "\n",
      "Epoch:    2/4     Loss: 3.652470661640167\n",
      "\n",
      "Epoch:    2/4     Loss: 3.657142683029175\n",
      "\n",
      "Epoch:    2/4     Loss: 3.642203453063965\n",
      "\n",
      "Epoch:    3/4     Loss: 3.6191879222963967\n",
      "\n",
      "Epoch:    3/4     Loss: 3.588239978313446\n",
      "\n",
      "Epoch:    3/4     Loss: 3.606030616283417\n",
      "\n",
      "Epoch:    3/4     Loss: 3.6093497548103333\n",
      "\n",
      "Epoch:    3/4     Loss: 3.6333847489356996\n",
      "\n",
      "Epoch:    4/4     Loss: 3.583686879825494\n",
      "\n",
      "Epoch:    4/4     Loss: 3.5691786317825316\n",
      "\n",
      "Epoch:    4/4     Loss: 3.574327736854553\n",
      "\n",
      "Epoch:    4/4     Loss: 3.585133943080902\n",
      "\n",
      "Epoch:    4/4     Loss: 3.5699284410476686\n",
      "\n"
     ]
    }
   ],
   "source": [
    "# 2. continue to train\n",
    "# training the model\n",
    "with active_session():\n",
    "    trained_rnn = train_rnn(rnn, batch_size, optimizer, criterion, num_epochs, show_every_n_batches)"
   ]
  },
  {
   "cell_type": "markdown",
   "metadata": {},
   "source": [
    "*This cell is for the purpose of saving the notebook progress while training.*\n",
    "\n",
    ".\n",
    "..\n",
    "...\n",
    "....\n",
    ".....\n",
    "......\n",
    "\n"
   ]
  },
  {
   "cell_type": "code",
   "execution_count": 98,
   "metadata": {},
   "outputs": [
    {
     "name": "stdout",
     "output_type": "stream",
     "text": [
      "Model Trained and Saved -> ./save/trained_rnn__after_12_epochs.pt\n",
      "Model Trained and Saved -> ./save/trained_rnn_dict__after_12_epochs.pt\n"
     ]
    },
    {
     "name": "stderr",
     "output_type": "stream",
     "text": [
      "/opt/conda/lib/python3.6/site-packages/torch/serialization.py:193: UserWarning: Couldn't retrieve source code for container of type RNN. It won't be checked for correctness upon loading.\n",
      "  \"type \" + obj.__name__ + \". It won't be checked \"\n"
     ]
    }
   ],
   "source": [
    "# saving the trained model\n",
    "helper.save_model('./save/trained_rnn__after_12_epochs', trained_rnn)\n",
    "print('Model Trained and Saved -> ./save/trained_rnn__after_12_epochs.pt')\n",
    "torch.save(rnn.state_dict(), './save/trained_rnn_dict__after_12_epochs.pt')\n",
    "print('Model Trained and Saved -> ./save/trained_rnn_dict__after_12_epochs.pt')"
   ]
  },
  {
   "cell_type": "code",
   "execution_count": 99,
   "metadata": {},
   "outputs": [],
   "source": [
    "# continue to train\n",
    "\n",
    "# 1. re-define parameters, optimizer, dataloader\n",
    "# Data params\n",
    "# Sequence Length\n",
    "sequence_length = 10     # use same sequence length\n",
    "# Batch Size\n",
    "batch_size = 300         # use larger batch size (200 -> 300)\n",
    "# Training parameters\n",
    "# Number of Epochs\n",
    "num_epochs = 4           # use same training epochs\n",
    "# Learning Rate\n",
    "learning_rate = 0.0005    # use smaller learning rate (0.001 -> 0.0005)\n",
    "# re-defining loss and optimization functions for training\n",
    "optimizer = torch.optim.Adam(rnn.parameters(), lr=learning_rate)\n",
    "criterion = nn.CrossEntropyLoss()\n",
    "# redefine data loader - do not change\n",
    "train_loader = batch_data(int_text, sequence_length, batch_size)"
   ]
  },
  {
   "cell_type": "code",
   "execution_count": 100,
   "metadata": {},
   "outputs": [
    {
     "name": "stdout",
     "output_type": "stream",
     "text": [
      "Training for 4 epoch(s)...\n",
      "Epoch:    1/4     Loss: 3.54882301568985\n",
      "\n",
      "Epoch:    1/4     Loss: 3.6002959308624267\n",
      "\n",
      "Epoch:    1/4     Loss: 3.6197392954826353\n",
      "\n",
      "Epoch:    1/4     Loss: 3.6189977641105653\n",
      "\n",
      "Epoch:    1/4     Loss: 3.6433065237998963\n",
      "\n",
      "Epoch:    2/4     Loss: 3.598299851520456\n",
      "\n",
      "Epoch:    2/4     Loss: 3.563654462814331\n",
      "\n",
      "Epoch:    2/4     Loss: 3.5904565377235413\n",
      "\n",
      "Epoch:    2/4     Loss: 3.6006718621253966\n",
      "\n",
      "Epoch:    2/4     Loss: 3.6008693900108337\n",
      "\n",
      "Epoch:    3/4     Loss: 3.56394593419176\n",
      "\n",
      "Epoch:    3/4     Loss: 3.544987217903137\n",
      "\n",
      "Epoch:    3/4     Loss: 3.5610100989341738\n",
      "\n",
      "Epoch:    3/4     Loss: 3.5701802687644957\n",
      "\n",
      "Epoch:    3/4     Loss: 3.5588522243499754\n",
      "\n",
      "Epoch:    4/4     Loss: 3.547399387330215\n",
      "\n",
      "Epoch:    4/4     Loss: 3.5325204491615296\n",
      "\n",
      "Epoch:    4/4     Loss: 3.522515039920807\n",
      "\n",
      "Epoch:    4/4     Loss: 3.522882445335388\n",
      "\n",
      "Epoch:    4/4     Loss: 3.548902366638184\n",
      "\n"
     ]
    }
   ],
   "source": [
    "# 2. continue to train\n",
    "# training the model\n",
    "with active_session():\n",
    "    trained_rnn = train_rnn(rnn, batch_size, optimizer, criterion, num_epochs, show_every_n_batches)"
   ]
  },
  {
   "cell_type": "markdown",
   "metadata": {},
   "source": [
    "*This cell is for the purpose of saving the notebook progress while training.*\n",
    "\n",
    ".\n",
    "..\n",
    "...\n",
    "....\n",
    ".....\n",
    "......\n",
    ".......\n",
    "........\n",
    "\n"
   ]
  },
  {
   "cell_type": "code",
   "execution_count": 101,
   "metadata": {},
   "outputs": [
    {
     "name": "stdout",
     "output_type": "stream",
     "text": [
      "Model Trained and Saved -> ./save/trained_rnn__after_16_epochs.pt\n",
      "Model Trained and Saved -> ./save/trained_rnn_dict__after_16_epochs.pt\n"
     ]
    },
    {
     "name": "stderr",
     "output_type": "stream",
     "text": [
      "/opt/conda/lib/python3.6/site-packages/torch/serialization.py:193: UserWarning: Couldn't retrieve source code for container of type RNN. It won't be checked for correctness upon loading.\n",
      "  \"type \" + obj.__name__ + \". It won't be checked \"\n"
     ]
    }
   ],
   "source": [
    "# saving the trained model\n",
    "helper.save_model('./save/trained_rnn__after_16_epochs', trained_rnn)\n",
    "print('Model Trained and Saved -> ./save/trained_rnn__after_16_epochs.pt')\n",
    "torch.save(rnn.state_dict(), './save/trained_rnn_dict__after_16_epochs.pt')\n",
    "print('Model Trained and Saved -> ./save/trained_rnn_dict__after_16_epochs.pt')"
   ]
  },
  {
   "cell_type": "code",
   "execution_count": 103,
   "metadata": {},
   "outputs": [],
   "source": [
    "# continue to train\n",
    "\n",
    "# 1. re-define parameters, optimizer, dataloader\n",
    "# Data params\n",
    "# Sequence Length\n",
    "sequence_length = 10     # use same sequence length\n",
    "# Batch Size\n",
    "batch_size = 400         # use larger batch size (300 -> 400)\n",
    "# Training parameters\n",
    "# Number of Epochs\n",
    "num_epochs = 8           # use more epochs (4 -> 8)\n",
    "# Learning Rate\n",
    "learning_rate = 0.0001   # use smaller learning rate (0.0005 -> 0.0001)\n",
    "# re-defining loss and optimization functions for training\n",
    "optimizer = torch.optim.Adam(rnn.parameters(), lr=learning_rate)\n",
    "criterion = nn.CrossEntropyLoss()\n",
    "# redefine data loader - do not change\n",
    "train_loader = batch_data(int_text, sequence_length, batch_size)"
   ]
  },
  {
   "cell_type": "code",
   "execution_count": 104,
   "metadata": {},
   "outputs": [
    {
     "name": "stdout",
     "output_type": "stream",
     "text": [
      "Training for 8 epoch(s)...\n",
      "Epoch:    1/8     Loss: 3.4925587110519407\n",
      "\n",
      "Epoch:    1/8     Loss: 3.4966801981925966\n",
      "\n",
      "Epoch:    1/8     Loss: 3.495172082901001\n",
      "\n",
      "Epoch:    1/8     Loss: 3.4953614773750306\n",
      "\n",
      "Epoch:    2/8     Loss: 3.4923069921258376\n",
      "\n",
      "Epoch:    2/8     Loss: 3.49282848072052\n",
      "\n",
      "Epoch:    2/8     Loss: 3.4813193049430846\n",
      "\n",
      "Epoch:    2/8     Loss: 3.476903322696686\n",
      "\n",
      "Epoch:    3/8     Loss: 3.473225096480487\n",
      "\n",
      "Epoch:    3/8     Loss: 3.468127067565918\n",
      "\n",
      "Epoch:    3/8     Loss: 3.481319321632385\n",
      "\n",
      "Epoch:    3/8     Loss: 3.479913770675659\n",
      "\n",
      "Epoch:    4/8     Loss: 3.4545792504532695\n",
      "\n",
      "Epoch:    4/8     Loss: 3.4702400703430176\n",
      "\n",
      "Epoch:    4/8     Loss: 3.4637949557304384\n",
      "\n",
      "Epoch:    4/8     Loss: 3.476693449020386\n",
      "\n",
      "Epoch:    5/8     Loss: 3.4617343896055877\n",
      "\n",
      "Epoch:    5/8     Loss: 3.467666127681732\n",
      "\n",
      "Epoch:    5/8     Loss: 3.4666227746009826\n",
      "\n",
      "Epoch:    5/8     Loss: 3.4459949798583986\n",
      "\n",
      "Epoch:    6/8     Loss: 3.447485142864593\n",
      "\n",
      "Epoch:    6/8     Loss: 3.453982481479645\n",
      "\n",
      "Epoch:    6/8     Loss: 3.4674734902381896\n",
      "\n",
      "Epoch:    6/8     Loss: 3.450483965873718\n",
      "\n",
      "Epoch:    7/8     Loss: 3.4380241227476565\n",
      "\n",
      "Epoch:    7/8     Loss: 3.4430283641815187\n",
      "\n",
      "Epoch:    7/8     Loss: 3.452665150642395\n",
      "\n",
      "Epoch:    7/8     Loss: 3.4442757201194762\n",
      "\n",
      "Epoch:    8/8     Loss: 3.435595214856814\n",
      "\n",
      "Epoch:    8/8     Loss: 3.4396194047927855\n",
      "\n",
      "Epoch:    8/8     Loss: 3.4490954179763795\n",
      "\n",
      "Epoch:    8/8     Loss: 3.445261229991913\n",
      "\n"
     ]
    }
   ],
   "source": [
    "# 2. continue to train\n",
    "# training the model\n",
    "with active_session():\n",
    "    trained_rnn = train_rnn(rnn, batch_size, optimizer, criterion, num_epochs, show_every_n_batches)"
   ]
  },
  {
   "cell_type": "markdown",
   "metadata": {},
   "source": [
    "*This cell is for the purpose of saving the notebook progress while training.*\n",
    "\n",
    ".\n",
    "..\n",
    "...\n",
    "....\n",
    ".....\n",
    "......\n",
    ".......\n",
    "........\n",
    ".........\n",
    "..........\n",
    "...........\n"
   ]
  },
  {
   "cell_type": "code",
   "execution_count": 105,
   "metadata": {},
   "outputs": [
    {
     "name": "stdout",
     "output_type": "stream",
     "text": [
      "Model Trained and Saved -> ./save/trained_rnn__after_24_epochs.pt\n",
      "Model Trained and Saved -> ./save/trained_rnn_dict__after_24_epochs.pt\n"
     ]
    },
    {
     "name": "stderr",
     "output_type": "stream",
     "text": [
      "/opt/conda/lib/python3.6/site-packages/torch/serialization.py:193: UserWarning: Couldn't retrieve source code for container of type RNN. It won't be checked for correctness upon loading.\n",
      "  \"type \" + obj.__name__ + \". It won't be checked \"\n"
     ]
    }
   ],
   "source": [
    "# saving the trained model\n",
    "helper.save_model('./save/trained_rnn__after_24_epochs', trained_rnn)\n",
    "print('Model Trained and Saved -> ./save/trained_rnn__after_24_epochs.pt')\n",
    "torch.save(rnn.state_dict(), './save/trained_rnn_dict__after_24_epochs.pt')\n",
    "print('Model Trained and Saved -> ./save/trained_rnn_dict__after_24_epochs.pt')"
   ]
  },
  {
   "cell_type": "markdown",
   "metadata": {},
   "source": [
    "### Question: How did you decide on your model hyperparameters? \n",
    "For example, did you try different sequence_lengths and find that one size made the model converge faster? What about your hidden_dim and n_layers; how did you decide on those?"
   ]
  },
  {
   "cell_type": "markdown",
   "metadata": {},
   "source": [
    "**Answer:** (Write answer, here)\n",
    "\n",
    "I tried several times on different `batch_size=50, 200, 300, 400`. I found training loss deacreases much faster when `batch_size=200`. Only after 4 epochs, loss only reaches to around __4.0__ if `batch_size=50`, however, loss decreases to __3.8__ if `batch_size=200` which is really close to our target.\n",
    "\n",
    "For other parameters, `learning rate`, `embedding_dim`, `n_layer`, `hidden_dim`, I refer to the settings in *Sentiment_RNN_Exercise* notebook and use similar values and tuned a little bit, since I found the results in sentiment analysis task was quite well.\n",
    "\n",
    "In total, I trained 6 x 4 epochs, where the first 4 + 4 epochs use the same parameters `batch_size=200, learning rate = 0.001`, and the following 4 + 4 epochs use the parameters `batch_size=300, learning rate = 0.0005`. Finally, the last 8 epochs use the parameter `batch_size=400, learning rate=0.0001`. At the end, the training loss is `3.445261229991913`.\n",
    "\n"
   ]
  },
  {
   "cell_type": "markdown",
   "metadata": {},
   "source": [
    "---\n",
    "# Checkpoint\n",
    "\n",
    "After running the above training cell, your model will be saved by name, `trained_rnn`, and if you save your notebook progress, **you can pause here and come back to this code at another time**. You can resume your progress by running the next cell, which will load in our word:id dictionaries _and_ load in your saved model by name!"
   ]
  },
  {
   "cell_type": "code",
   "execution_count": 106,
   "metadata": {},
   "outputs": [],
   "source": [
    "\"\"\"\n",
    "DON'T MODIFY ANYTHING IN THIS CELL\n",
    "\"\"\"\n",
    "import torch\n",
    "import helper\n",
    "import problem_unittests as tests\n",
    "\n",
    "_, vocab_to_int, int_to_vocab, token_dict = helper.load_preprocess()\n",
    "# trained_rnn = helper.load_model('./save/trained_rnn')\n",
    "trained_rnn = helper.load_model('./save/trained_rnn__after_24_epochs')\n"
   ]
  },
  {
   "cell_type": "markdown",
   "metadata": {},
   "source": [
    "## Generate TV Script\n",
    "With the network trained and saved, you'll use it to generate a new, \"fake\" Seinfeld TV script in this section.\n",
    "\n",
    "### Generate Text\n",
    "To generate the text, the network needs to start with a single word and repeat its predictions until it reaches a set length. You'll be using the `generate` function to do this. It takes a word id to start with, `prime_id`, and generates a set length of text, `predict_len`. Also note that it uses topk sampling to introduce some randomness in choosing the most likely next word, given an output set of word scores!"
   ]
  },
  {
   "cell_type": "code",
   "execution_count": 107,
   "metadata": {},
   "outputs": [],
   "source": [
    "\"\"\"\n",
    "DON'T MODIFY ANYTHING IN THIS CELL THAT IS BELOW THIS LINE\n",
    "\"\"\"\n",
    "import torch.nn.functional as F\n",
    "\n",
    "def generate(rnn, prime_id, int_to_vocab, token_dict, pad_value, predict_len=100):\n",
    "    \"\"\"\n",
    "    Generate text using the neural network\n",
    "    :param decoder: The PyTorch Module that holds the trained neural network\n",
    "    :param prime_id: The word id to start the first prediction\n",
    "    :param int_to_vocab: Dict of word id keys to word values\n",
    "    :param token_dict: Dict of puncuation tokens keys to puncuation values\n",
    "    :param pad_value: The value used to pad a sequence\n",
    "    :param predict_len: The length of text to generate\n",
    "    :return: The generated text\n",
    "    \"\"\"\n",
    "    rnn.eval()\n",
    "    \n",
    "    # create a sequence (batch_size=1) with the prime_id\n",
    "    current_seq = np.full((1, sequence_length), pad_value)\n",
    "    current_seq[-1][-1] = prime_id\n",
    "    predicted = [int_to_vocab[prime_id]]\n",
    "    \n",
    "    for _ in range(predict_len):\n",
    "        if train_on_gpu:\n",
    "            current_seq = torch.LongTensor(current_seq).cuda()\n",
    "        else:\n",
    "            current_seq = torch.LongTensor(current_seq)\n",
    "        \n",
    "        # initialize the hidden state\n",
    "        hidden = rnn.init_hidden(current_seq.size(0))\n",
    "        \n",
    "        # get the output of the rnn\n",
    "        output, _ = rnn(current_seq, hidden)\n",
    "        \n",
    "        # get the next word probabilities\n",
    "        p = F.softmax(output, dim=1).data\n",
    "        if(train_on_gpu):\n",
    "            p = p.cpu() # move to cpu\n",
    "         \n",
    "        # use top_k sampling to get the index of the next word\n",
    "        top_k = 5\n",
    "        p, top_i = p.topk(top_k)\n",
    "        top_i = top_i.numpy().squeeze()\n",
    "        \n",
    "        # select the likely next word index with some element of randomness\n",
    "        p = p.numpy().squeeze()\n",
    "        word_i = np.random.choice(top_i, p=p/p.sum())\n",
    "        \n",
    "        # retrieve that word from the dictionary\n",
    "        word = int_to_vocab[word_i]\n",
    "        predicted.append(word)     \n",
    "        \n",
    "        # the generated word becomes the next \"current sequence\" and the cycle can continue\n",
    "        current_seq = np.roll(current_seq, -1, 1)\n",
    "        current_seq[-1][-1] = word_i\n",
    "    \n",
    "    gen_sentences = ' '.join(predicted)\n",
    "    \n",
    "    # Replace punctuation tokens\n",
    "    for key, token in token_dict.items():\n",
    "        ending = ' ' if key in ['\\n', '(', '\"'] else ''\n",
    "        gen_sentences = gen_sentences.replace(' ' + token.lower(), key)\n",
    "    gen_sentences = gen_sentences.replace('\\n ', '\\n')\n",
    "    gen_sentences = gen_sentences.replace('( ', '(')\n",
    "    \n",
    "    # return all the sentences\n",
    "    return gen_sentences"
   ]
  },
  {
   "cell_type": "markdown",
   "metadata": {},
   "source": [
    "### Generate a New Script\n",
    "It's time to generate the text. Set `gen_length` to the length of TV script you want to generate and set `prime_word` to one of the following to start the prediction:\n",
    "- \"jerry\"\n",
    "- \"elaine\"\n",
    "- \"george\"\n",
    "- \"kramer\"\n",
    "\n",
    "You can set the prime word to _any word_ in our dictionary, but it's best to start with a name for generating a TV script. (You can also start with any other names you find in the original text file!)"
   ]
  },
  {
   "cell_type": "code",
   "execution_count": 114,
   "metadata": {},
   "outputs": [
    {
     "name": "stderr",
     "output_type": "stream",
     "text": [
      "/opt/conda/lib/python3.6/site-packages/ipykernel_launcher.py:44: UserWarning: RNN module weights are not part of single contiguous chunk of memory. This means they need to be compacted at every call, possibly greatly increasing memory usage. To compact weights again call flatten_parameters().\n"
     ]
    },
    {
     "name": "stdout",
     "output_type": "stream",
     "text": [
      "jerry: i think it's not a good idea.\n",
      "\n",
      "jerry: what about the meeting?\n",
      "\n",
      "jerry: well, you know what you mean to say?!\n",
      "\n",
      "jerry: what?\n",
      "\n",
      "jerry:(pointing to his head) yeah, i got the same news for a while.\n",
      "\n",
      "elaine: well, i was going to get out of this city.\n",
      "\n",
      "kramer: well, i think i can go to the bathroom.\n",
      "\n",
      "kramer: oh, i don't know what to do.\n",
      "\n",
      "kramer: oh! yeah, i know what it is.\n",
      "\n",
      "george: what?\n",
      "\n",
      "jerry: yeah.\n",
      "\n",
      "jerry:(to elaine) hey, you know what?\n",
      "\n",
      "jerry: well, it's a big salad.\n",
      "\n",
      "george:(to elaine) i can't believe i was going to have it.\n",
      "\n",
      "george: i know.\n",
      "\n",
      "jerry: what are you doing here?\n",
      "\n",
      "kramer: i don't want to be able to do it.\n",
      "\n",
      "jerry: well, it's a little bit of the...\n",
      "\n",
      "jerry: oh, yeah, i think it's a good thing i have to say.\n",
      "\n",
      "jerry: what?\n",
      "\n",
      "elaine: i thought he was...\n",
      "\n",
      "kramer:(quietly) yeah, well, you know, i think i was going to do something.\n",
      "\n",
      "jerry: what?\n",
      "\n",
      "kramer:(looking at jerry) i know, i'm going to get to the hospital.\n",
      "\n",
      "jerry: oh, yeah.\n",
      "\n",
      "jerry: what do you mean?\n",
      "\n",
      "jerry: i know\n"
     ]
    }
   ],
   "source": [
    "# run the cell multiple times to get different results!\n",
    "gen_length = 300 # modify the length to your preference\n",
    "prime_word = 'jerry' # name for starting the script\n",
    "\n",
    "\"\"\"\n",
    "DON'T MODIFY ANYTHING IN THIS CELL THAT IS BELOW THIS LINE\n",
    "\"\"\"\n",
    "pad_word = helper.SPECIAL_WORDS['PADDING']\n",
    "generated_script = generate(trained_rnn, vocab_to_int[prime_word + ':'], int_to_vocab, token_dict, vocab_to_int[pad_word], gen_length)\n",
    "print(generated_script)"
   ]
  },
  {
   "cell_type": "markdown",
   "metadata": {},
   "source": [
    "#### Save your favorite scripts\n",
    "\n",
    "Once you have a script that you like (or find interesting), save it to a text file!"
   ]
  },
  {
   "cell_type": "code",
   "execution_count": 115,
   "metadata": {},
   "outputs": [],
   "source": [
    "# save script to a text file\n",
    "f =  open(\"generated_script_1.txt\",\"w\")\n",
    "f.write(generated_script)\n",
    "f.close()"
   ]
  },
  {
   "cell_type": "markdown",
   "metadata": {},
   "source": [
    "# The TV Script is Not Perfect\n",
    "It's ok if the TV script doesn't make perfect sense. It should look like alternating lines of dialogue, here is one such example of a few generated lines.\n",
    "\n",
    "### Example generated script\n",
    "\n",
    ">jerry: what about me?\n",
    ">\n",
    ">jerry: i don't have to wait.\n",
    ">\n",
    ">kramer:(to the sales table)\n",
    ">\n",
    ">elaine:(to jerry) hey, look at this, i'm a good doctor.\n",
    ">\n",
    ">newman:(to elaine) you think i have no idea of this...\n",
    ">\n",
    ">elaine: oh, you better take the phone, and he was a little nervous.\n",
    ">\n",
    ">kramer:(to the phone) hey, hey, jerry, i don't want to be a little bit.(to kramer and jerry) you can't.\n",
    ">\n",
    ">jerry: oh, yeah. i don't even know, i know.\n",
    ">\n",
    ">jerry:(to the phone) oh, i know.\n",
    ">\n",
    ">kramer:(laughing) you know...(to jerry) you don't know.\n",
    "\n",
    "You can see that there are multiple characters that say (somewhat) complete sentences, but it doesn't have to be perfect! It takes quite a while to get good results, and often, you'll have to use a smaller vocabulary (and discard uncommon words), or get more data.  The Seinfeld dataset is about 3.4 MB, which is big enough for our purposes; for script generation you'll want more than 1 MB of text, generally. \n",
    "\n",
    "# Submitting This Project\n",
    "When submitting this project, make sure to run all the cells before saving the notebook. Save the notebook file as \"dlnd_tv_script_generation.ipynb\" and save another copy as an HTML file by clicking \"File\" -> \"Download as..\"->\"html\". Include the \"helper.py\" and \"problem_unittests.py\" files in your submission. Once you download these files, compress them into one zip file for submission."
   ]
  },
  {
   "cell_type": "code",
   "execution_count": null,
   "metadata": {},
   "outputs": [],
   "source": []
  }
 ],
 "metadata": {
  "kernelspec": {
   "display_name": "Python 3",
   "language": "python",
   "name": "python3"
  },
  "language_info": {
   "codemirror_mode": {
    "name": "ipython",
    "version": 3
   },
   "file_extension": ".py",
   "mimetype": "text/x-python",
   "name": "python",
   "nbconvert_exporter": "python",
   "pygments_lexer": "ipython3",
   "version": "3.6.3"
  },
  "widgets": {
   "state": {},
   "version": "1.1.2"
  }
 },
 "nbformat": 4,
 "nbformat_minor": 1
}
